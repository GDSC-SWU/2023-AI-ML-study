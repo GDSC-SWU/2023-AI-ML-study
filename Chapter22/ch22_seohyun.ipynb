{
  "cells": [
    {
      "cell_type": "code",
      "execution_count": 1,
      "metadata": {
        "colab": {
          "base_uri": "https://localhost:8080/"
        },
        "id": "lc6PNOT0mqAs",
        "outputId": "f8d71850-9a8e-4e1b-b5a0-fd0b071a7634"
      },
      "outputs": [
        {
          "name": "stdout",
          "output_type": "stream",
          "text": [
            "Requirement already satisfied: transformers in /usr/local/lib/python3.10/dist-packages (4.35.0)\n",
            "Requirement already satisfied: filelock in /usr/local/lib/python3.10/dist-packages (from transformers) (3.13.1)\n",
            "Requirement already satisfied: huggingface-hub<1.0,>=0.16.4 in /usr/local/lib/python3.10/dist-packages (from transformers) (0.17.3)\n",
            "Requirement already satisfied: numpy>=1.17 in /usr/local/lib/python3.10/dist-packages (from transformers) (1.23.5)\n",
            "Requirement already satisfied: packaging>=20.0 in /usr/local/lib/python3.10/dist-packages (from transformers) (23.2)\n",
            "Requirement already satisfied: pyyaml>=5.1 in /usr/local/lib/python3.10/dist-packages (from transformers) (6.0.1)\n",
            "Requirement already satisfied: regex!=2019.12.17 in /usr/local/lib/python3.10/dist-packages (from transformers) (2023.6.3)\n",
            "Requirement already satisfied: requests in /usr/local/lib/python3.10/dist-packages (from transformers) (2.31.0)\n",
            "Requirement already satisfied: tokenizers<0.15,>=0.14 in /usr/local/lib/python3.10/dist-packages (from transformers) (0.14.1)\n",
            "Requirement already satisfied: safetensors>=0.3.1 in /usr/local/lib/python3.10/dist-packages (from transformers) (0.4.0)\n",
            "Requirement already satisfied: tqdm>=4.27 in /usr/local/lib/python3.10/dist-packages (from transformers) (4.66.1)\n",
            "Requirement already satisfied: fsspec in /usr/local/lib/python3.10/dist-packages (from huggingface-hub<1.0,>=0.16.4->transformers) (2023.6.0)\n",
            "Requirement already satisfied: typing-extensions>=3.7.4.3 in /usr/local/lib/python3.10/dist-packages (from huggingface-hub<1.0,>=0.16.4->transformers) (4.5.0)\n",
            "Requirement already satisfied: charset-normalizer<4,>=2 in /usr/local/lib/python3.10/dist-packages (from requests->transformers) (3.3.2)\n",
            "Requirement already satisfied: idna<4,>=2.5 in /usr/local/lib/python3.10/dist-packages (from requests->transformers) (3.4)\n",
            "Requirement already satisfied: urllib3<3,>=1.21.1 in /usr/local/lib/python3.10/dist-packages (from requests->transformers) (2.0.7)\n",
            "Requirement already satisfied: certifi>=2017.4.17 in /usr/local/lib/python3.10/dist-packages (from requests->transformers) (2023.7.22)\n"
          ]
        }
      ],
      "source": [
        "!pip install transformers"
      ]
    },
    {
      "cell_type": "code",
      "execution_count": 2,
      "metadata": {
        "id": "bAg-haUfmwWK"
      },
      "outputs": [],
      "source": [
        "import tensorflow as tf\n",
        "from transformers import AutoTokenizer\n",
        "from transformers import TFGPT2LMHeadModel"
      ]
    },
    {
      "cell_type": "code",
      "execution_count": 3,
      "metadata": {
        "colab": {
          "base_uri": "https://localhost:8080/"
        },
        "id": "22gK1Ea3mxUq",
        "outputId": "1c6ead34-8a9e-4e11-daa1-36c8d04a7514"
      },
      "outputs": [
        {
          "name": "stderr",
          "output_type": "stream",
          "text": [
            "Some weights of the PyTorch model were not used when initializing the TF 2.0 model TFGPT2LMHeadModel: ['lm_head.weight', 'transformer.h.1.attn.masked_bias', 'transformer.h.4.attn.masked_bias', 'transformer.h.6.attn.masked_bias', 'transformer.h.11.attn.masked_bias', 'transformer.h.3.attn.masked_bias', 'transformer.h.2.attn.masked_bias', 'transformer.h.8.attn.masked_bias', 'transformer.h.0.attn.masked_bias', 'transformer.h.10.attn.masked_bias', 'transformer.h.5.attn.masked_bias', 'transformer.h.7.attn.masked_bias', 'transformer.h.9.attn.masked_bias']\n",
            "- This IS expected if you are initializing TFGPT2LMHeadModel from a PyTorch model trained on another task or with another architecture (e.g. initializing a TFBertForSequenceClassification model from a BertForPreTraining model).\n",
            "- This IS NOT expected if you are initializing TFGPT2LMHeadModel from a PyTorch model that you expect to be exactly identical (e.g. initializing a TFBertForSequenceClassification model from a BertForSequenceClassification model).\n",
            "All the weights of TFGPT2LMHeadModel were initialized from the PyTorch model.\n",
            "If your task is similar to the task the model of the checkpoint was trained on, you can already use TFGPT2LMHeadModel for predictions without further training.\n"
          ]
        }
      ],
      "source": [
        "tokenizer = AutoTokenizer.from_pretrained('skt/kogpt2-base-v2', bos_token='</s>', eos_token='</s>', pad_token='<pad>')\n",
        "model = TFGPT2LMHeadModel.from_pretrained('skt/kogpt2-base-v2', from_pt=True)"
      ]
    },
    {
      "cell_type": "code",
      "execution_count": 4,
      "metadata": {
        "colab": {
          "base_uri": "https://localhost:8080/"
        },
        "id": "9G6OFuj5n5dz",
        "outputId": "41295bb8-d391-4405-8052-a82943a63f8d"
      },
      "outputs": [
        {
          "name": "stdout",
          "output_type": "stream",
          "text": [
            "1\n",
            "1\n",
            "3\n",
            "----------\n",
            "</s>\n",
            "<usr>\n",
            "<pad>\n",
            "<sys>\n"
          ]
        }
      ],
      "source": [
        "print(tokenizer.bos_token_id)\n",
        "print(tokenizer.eos_token_id)\n",
        "print(tokenizer.pad_token_id)\n",
        "print('-' * 10)\n",
        "print(tokenizer.decode(1))\n",
        "print(tokenizer.decode(2))\n",
        "print(tokenizer.decode(3))\n",
        "print(tokenizer.decode(4))"
      ]
    },
    {
      "cell_type": "code",
      "execution_count": 5,
      "metadata": {
        "id": "dckISrGSmyQ1"
      },
      "outputs": [],
      "source": [
        "import pandas as pd\n",
        "import tqdm\n",
        "import urllib.request"
      ]
    },
    {
      "cell_type": "code",
      "execution_count": 6,
      "metadata": {
        "id": "7KMXXlMYm8nb"
      },
      "outputs": [],
      "source": [
        "urllib.request.urlretrieve(\"https://raw.githubusercontent.com/songys/Chatbot_data/master/ChatbotData.csv\", filename=\"ChatBotData.csv\")\n",
        "train_data = pd.read_csv('ChatBotData.csv')"
      ]
    },
    {
      "cell_type": "code",
      "execution_count": 7,
      "metadata": {
        "colab": {
          "base_uri": "https://localhost:8080/"
        },
        "id": "fgBLUI34cHqg",
        "outputId": "31b2f476-51b1-49d6-9308-c0eed8d47acb"
      },
      "outputs": [
        {
          "data": {
            "text/plain": [
              "11823"
            ]
          },
          "execution_count": 7,
          "metadata": {},
          "output_type": "execute_result"
        }
      ],
      "source": [
        "len(train_data)"
      ]
    },
    {
      "cell_type": "code",
      "execution_count": 8,
      "metadata": {
        "id": "RQf3VZM8dsuQ"
      },
      "outputs": [],
      "source": [
        "batch_size = 32"
      ]
    },
    {
      "cell_type": "code",
      "execution_count": 9,
      "metadata": {
        "id": "yX7-wj-vnG-F"
      },
      "outputs": [],
      "source": [
        "def get_chat_data():#generator함수 사용하여 dataset 구성\n",
        "  for question, answer in zip(train_data.Q.to_list(), train_data.A.to_list()):\n",
        "    bos_token = [tokenizer.bos_token_id] #문장 시작 토큰\n",
        "    eos_token = [tokenizer.eos_token_id] #문장 끝 토큰\n",
        "    sent = tokenizer.encode('<usr>' + question + '<sys>' + answer)\n",
        "    yield bos_token + sent + eos_token"
      ]
    },
    {
      "cell_type": "code",
      "execution_count": 10,
      "metadata": {
        "id": "k9yWOljzniTc"
      },
      "outputs": [],
      "source": [
        "dataset = tf.data.Dataset.from_generator(get_chat_data, output_types=tf.int32) #질문과 대답을 토큰화"
      ]
    },
    {
      "cell_type": "code",
      "execution_count": 11,
      "metadata": {
        "id": "0xG4Q_Jpnkh8"
      },
      "outputs": [],
      "source": [
        "dataset = dataset.padded_batch(batch_size=batch_size, padded_shapes=(None,), padding_values=tokenizer.pad_token_id)\n",
        "#데이터셋에 패딩을 추가 -> 배치의 시퀀스 길이를 동일하게 유지"
      ]
    },
    {
      "cell_type": "code",
      "execution_count": 12,
      "metadata": {
        "colab": {
          "base_uri": "https://localhost:8080/"
        },
        "id": "sin4lpyGfxzp",
        "outputId": "f38e8333-3ad6-4348-ca7c-60b1a92b279f"
      },
      "outputs": [
        {
          "name": "stdout",
          "output_type": "stream",
          "text": [
            "tf.Tensor(\n",
            "[[    1     2  9349  7888   739  7318   376     4 12557  6824  9108  9028\n",
            "   7098 25856     1     3     3     3     3     3     3     3     3     3\n",
            "      3     3     3     3     3     3]\n",
            " [    1     2  9020  8263  7497 10192 11615  8210  8006     4 12422  8711\n",
            "   9535  7483 12521     1     3     3     3     3     3     3     3     3\n",
            "      3     3     3     3     3     3]\n",
            " [    1     2  9085  7597   395  8149 10624  7397 24224 13358  7182     4\n",
            "  12079  8135 16899  9677  8234   389     1     3     3     3     3     3\n",
            "      3     3     3     3     3     3]\n",
            " [    1     2  9085  7597   395  8149  9465 10624  7397 24224 13358  7182\n",
            "      4 12079  8135 16899  9677  8234   389     1     3     3     3     3\n",
            "      3     3     3     3     3     3]\n",
            " [    1     2  9943   422   418  9327  8702  7098     4  9847 16912 18328\n",
            "   8671  7415  8263  8234   389     1     3     3     3     3     3     3\n",
            "      3     3     3     3     3     3]\n",
            " [    1     2  9815   410 21249 10174  6824  8210  8006     4  9427 11056\n",
            "  11594 10137 10556  9266  8711 25856     1     3     3     3     3     3\n",
            "      3     3     3     3     3     3]\n",
            " [    1     2  9815   410 21249  9183  7249     4  9427 11056 11594 10137\n",
            "  10556  9266  8711 25856     1     3     3     3     3     3     3     3\n",
            "      3     3     3     3     3     3]\n",
            " [    1     2  9815 37655  9622  8619 10401  9183  9328   216     4  9443\n",
            "  29490  9846  9788  9341 25856     1     3     3     3     3     3     3\n",
            "      3     3     3     3     3     3]\n",
            " [    1     2  9815 37655 10135  7066 39488  9122  9050  9668 16576  9277\n",
            "   9044     4 15148 19658  9098  7652  7801 25856     1     3     3     3\n",
            "      3     3     3     3     3     3]\n",
            " [    1     2  9815 37655 10135  7066  7692 11848  9042  7019 20284  7254\n",
            "      4 15148 19658  9098  7652  7801 25856     1     3     3     3     3\n",
            "      3     3     3     3     3     3]\n",
            " [    1     2  9815 37655 18381  9063  7489 29615  9054 15730 29452  8030\n",
            "      4 33254 10300 23775 25856     1     3     3     3     3     3     3\n",
            "      3     3     3     3     3     3]\n",
            " [    1     2 19319 48397  8711     4  9022 19858 27031  9122  8046 25856\n",
            "      1     3     3     3     3     3     3     3     3     3     3     3\n",
            "      3     3     3     3     3     3]\n",
            " [    1     2 19319 46651 27481 48397  8711     4  9022 19858 27031  9122\n",
            "   8046 25856     1     3     3     3     3     3     3     3     3     3\n",
            "      3     3     3     3     3     3]\n",
            " [    1     2 19319  8135  9749 10225  6866  9677  7182     4  9749  9589\n",
            "  20540  7801 25856     1     3     3     3     3     3     3     3     3\n",
            "      3     3     3     3     3     3]\n",
            " [    1     2 17230 17429  9160  8098     4 10855  8135  9427 35813  9122\n",
            "   8046 25856     1     3     3     3     3     3     3     3     3     3\n",
            "      3     3     3     3     3     3]\n",
            " [    1     2 47980 22227 26992  7058  7182     4 26992  8137  9376  8737\n",
            "   8236  7801 25856     1     3     3     3     3     3     3     3     3\n",
            "      3     3     3     3     3     3]\n",
            " [    1     2 26629 23799   739  8308  7304 10174  8707     4  9105  7788\n",
            "  16346  6889  9282  8400  7601  9078  7801 25856     1     3     3     3\n",
            "      3     3     3     3     3     3]\n",
            " [    1     2 15983  7673 24648  6889 25880  8006     4 16173 15582 46439\n",
            "  35557  6889 12252  7801 25856     1     3     3     3     3     3     3\n",
            "      3     3     3     3     3     3]\n",
            " [    1     2 15983  7673 24648 15010 10926  6853 27511     4 16173 15582\n",
            "  46439 35557  6889 12252  7801 25856     1     3     3     3     3     3\n",
            "      3     3     3     3     3     3]\n",
            " [    1     2 15983  7692 12371  9564 16409  9016     4  9536  9271  9052\n",
            "   9267 27545  8711  7661 25856     1     3     3     3     3     3     3\n",
            "      3     3     3     3     3     3]\n",
            " [    1     2 15983  7692 36684  7220  9244  6958  9539  7478  6872  8006\n",
            "      4 46503  9024  7801  8084   376     1     3     3     3     3     3\n",
            "      3     3     3     3     3     3]\n",
            " [    1     2 15983  7692 26873  9050  7177     4  9536  9271  9052  9267\n",
            "  27545  8711  7661 25856     1     3     3     3     3     3     3     3\n",
            "      3     3     3     3     3     3]\n",
            " [    1     2  9278 20861  9193   739  7570 47804     4  9278 20861 32392\n",
            "  10070 10828 25856  9105 12114  9094 12191 12700 31279  8702 38887 15148\n",
            "  35441  9328  9109  7801 25856     1]\n",
            " [    1     2 10464 12079  9028  9926  9651  8006     4  9586 27820  9432\n",
            "  23100 21833 14247 29462  7801 25856     1     3     3     3     3     3\n",
            "      3     3     3     3     3     3]\n",
            " [    1     2 10464 12079 17577     4  9586 27820  9432 23100 21833 14247\n",
            "  29462  7801 25856     1     3     3     3     3     3     3     3     3\n",
            "      3     3     3     3     3     3]\n",
            " [    1     2 10464 12079 42076  9340   406     4  9586 27820  9432 23100\n",
            "  21833 14247 29462  7801 25856     1     3     3     3     3     3     3\n",
            "      3     3     3     3     3     3]\n",
            " [    1     2 10464  9341   406     4  9265  7470  9659  9701 11389 11676\n",
            "   7177   387  9265  7380 11120  8711 10764 11389  9728 12245 22238  9341\n",
            "   8084     1     3     3     3     3]\n",
            " [    1     2 10464 10143  9666   739  8244     4  9265  7470  9659  9701\n",
            "  11389 11676  7177   387  9265  7380 11120  8711 10764 11389  9728 12245\n",
            "  22238  9341  8084     1     3     3]\n",
            " [    1     2 10464 18264 12079  6826  9016     4  9267 25772  8267 25012\n",
            "   9069  6872  7098 25856     1     3     3     3     3     3     3     3\n",
            "      3     3     3     3     3     3]\n",
            " [    1     2 10464  7285 10056 25799     4  9265  7235 25856     1     3\n",
            "      3     3     3     3     3     3     3     3     3     3     3     3\n",
            "      3     3     3     3     3     3]\n",
            " [    1     2 10464  9136  7380  9071  7513  8711     4  9054  7285  9117\n",
            "   7703  7788 11120  8705 14553 10667  8718  7055  7661 25856     1     3\n",
            "      3     3     3     3     3     3]\n",
            " [    1     2 10464  9136  7380  9071  7513  8711  8210  8006     4  9054\n",
            "   7285  9117  7703  7788 11120  8705 14553 10667  8718  7055  7661 25856\n",
            "      1     3     3     3     3     3]], shape=(32, 30), dtype=int32)\n"
          ]
        }
      ],
      "source": [
        "for batch in dataset:\n",
        "    print(batch)\n",
        "    break"
      ]
    },
    {
      "cell_type": "code",
      "execution_count": 13,
      "metadata": {
        "colab": {
          "base_uri": "https://localhost:8080/",
          "height": 54
        },
        "id": "tToemB1If1Yq",
        "outputId": "a734f2a4-d7cf-46db-95c3-d2bb8a1657b1"
      },
      "outputs": [
        {
          "data": {
            "application/vnd.google.colaboratory.intrinsic+json": {
              "type": "string"
            },
            "text/plain": [
              "'</s><usr> 12시 땡!<sys> 하루가 또 가네요.</s><pad><pad><pad><pad><pad><pad><pad><pad><pad><pad><pad><pad><pad><pad><pad>'"
            ]
          },
          "execution_count": 13,
          "metadata": {},
          "output_type": "execute_result"
        }
      ],
      "source": [
        "tokenizer.decode(batch[0])"
      ]
    },
    {
      "cell_type": "code",
      "execution_count": 14,
      "metadata": {
        "colab": {
          "base_uri": "https://localhost:8080/"
        },
        "id": "MknLzMf5f3Kb",
        "outputId": "5c04f119-094f-4378-ed59-ec2af883feac"
      },
      "outputs": [
        {
          "name": "stdout",
          "output_type": "stream",
          "text": [
            "tf.Tensor(\n",
            "[    1     2  9349  7888   739  7318   376     4 12557  6824  9108  9028\n",
            "  7098 25856     1     3     3     3     3     3     3     3     3     3\n",
            "     3     3     3     3     3     3], shape=(30,), dtype=int32)\n"
          ]
        }
      ],
      "source": [
        "print(batch[0])"
      ]
    },
    {
      "cell_type": "code",
      "execution_count": 15,
      "metadata": {
        "colab": {
          "base_uri": "https://localhost:8080/"
        },
        "id": "jbSvBKhJdX_w",
        "outputId": "2e72e343-46f7-455a-e7a5-cdd24013902d"
      },
      "outputs": [
        {
          "name": "stdout",
          "output_type": "stream",
          "text": [
            "[1, 2, 9349, 7888, 739, 7318, 376, 4, 12557, 6824, 9108, 9028, 7098, 25856, 1, 3, 3, 3, 3, 3, 3, 3, 3, 3, 3, 3, 3, 3, 3, 3]\n"
          ]
        }
      ],
      "source": [
        "print(tokenizer.encode('</s><usr> 12시 땡!<sys> 하루가 또 가네요.</s><pad><pad><pad><pad><pad><pad><pad><pad><pad><pad><pad><pad><pad><pad><pad>'))"
      ]
    },
    {
      "cell_type": "code",
      "execution_count": 16,
      "metadata": {
        "id": "OfdTxuYFok9m"
      },
      "outputs": [],
      "source": [
        "adam = tf.keras.optimizers.Adam(learning_rate=3e-5, epsilon=1e-08)"
      ]
    },
    {
      "cell_type": "code",
      "execution_count": 17,
      "metadata": {
        "colab": {
          "base_uri": "https://localhost:8080/"
        },
        "id": "Tmkqate7o571",
        "outputId": "2457c83a-873b-436b-f2db-c316bd0e3f23"
      },
      "outputs": [
        {
          "name": "stdout",
          "output_type": "stream",
          "text": [
            "370\n"
          ]
        }
      ],
      "source": [
        "steps = len(train_data) // batch_size + 1\n",
        "print(steps)"
      ]
    },
    {
      "cell_type": "code",
      "execution_count": 18,
      "metadata": {
        "colab": {
          "base_uri": "https://localhost:8080/",
          "height": 179,
          "referenced_widgets": [
            "733b13c20fb94d20a40d2535f51474a5",
            "4adb493cc19a4b6abc7c99a9bc5d74f4",
            "c47ebfb537d94f1e8fb4a8c051ecee6b",
            "3da94269bbf941aeba4b63c529d1c1eb",
            "a529b535a0fa48039db3a1542f0b921f",
            "008c458785c246549b77fde34b6a9505",
            "2af7b06180da4bc6bc78db9635d0e792",
            "e122e99cbe1c496e977e2b47af147ced",
            "88aa7815b6dd4f11b42a30631396a980",
            "e688e7739802443cba5724e070ae0a39",
            "5a0bbcd8f57f4572a09e2378d7326f6e"
          ]
        },
        "id": "Ut3XaV1qo8LO",
        "outputId": "21c86ad6-0ec7-4cb4-c28b-07e61419ad27"
      },
      "outputs": [
        {
          "name": "stderr",
          "output_type": "stream",
          "text": [
            "<ipython-input-18-263dc2dc9660>:6: TqdmDeprecationWarning: This function will be removed in tqdm==5.0.0\n",
            "Please use `tqdm.notebook.tqdm` instead of `tqdm.tqdm_notebook`\n",
            "  for batch in tqdm.tqdm_notebook(dataset, total=steps):\n"
          ]
        },
        {
          "data": {
            "application/vnd.jupyter.widget-view+json": {
              "model_id": "733b13c20fb94d20a40d2535f51474a5",
              "version_major": 2,
              "version_minor": 0
            },
            "text/plain": [
              "  0%|          | 0/370 [00:00<?, ?it/s]"
            ]
          },
          "metadata": {},
          "output_type": "display_data"
        },
        {
          "name": "stderr",
          "output_type": "stream",
          "text": [
            "WARNING:tensorflow:5 out of the last 5 calls to <function _BaseOptimizer._update_step_xla at 0x7efbd1f224d0> triggered tf.function retracing. Tracing is expensive and the excessive number of tracings could be due to (1) creating @tf.function repeatedly in a loop, (2) passing tensors with different shapes, (3) passing Python objects instead of tensors. For (1), please define your @tf.function outside of the loop. For (2), @tf.function has reduce_retracing=True option that can avoid unnecessary retracing. For (3), please refer to https://www.tensorflow.org/guide/function#controlling_retracing and https://www.tensorflow.org/api_docs/python/tf/function for  more details.\n",
            "WARNING:tensorflow:6 out of the last 6 calls to <function _BaseOptimizer._update_step_xla at 0x7efbd1f224d0> triggered tf.function retracing. Tracing is expensive and the excessive number of tracings could be due to (1) creating @tf.function repeatedly in a loop, (2) passing tensors with different shapes, (3) passing Python objects instead of tensors. For (1), please define your @tf.function outside of the loop. For (2), @tf.function has reduce_retracing=True option that can avoid unnecessary retracing. For (3), please refer to https://www.tensorflow.org/guide/function#controlling_retracing and https://www.tensorflow.org/api_docs/python/tf/function for  more details.\n"
          ]
        },
        {
          "name": "stdout",
          "output_type": "stream",
          "text": [
            "[Epoch:    1] cost = 2.12707782\n"
          ]
        }
      ],
      "source": [
        "EPOCHS = 1\n",
        "\n",
        "for epoch in range(EPOCHS):\n",
        "  epoch_loss = 0\n",
        "\n",
        "  for batch in tqdm.tqdm_notebook(dataset, total=steps):\n",
        "      with tf.GradientTape() as tape: #자동 미분을 위해 작업을 기록\n",
        "          result = model(batch, labels=batch) #현재 배치로 모델 호출\n",
        "          loss = result[0]\n",
        "          batch_loss = tf.reduce_mean(loss) #배치에 대한 평균 손실 계산\n",
        "\n",
        "      grads = tape.gradient(batch_loss, model.trainable_variables) #학습 가능한 변수에 대한 손실의 기울기 계산\n",
        "      adam.apply_gradients(zip(grads, model.trainable_variables)) #adam 사용\n",
        "      epoch_loss += batch_loss / steps\n",
        "\n",
        "  print('[Epoch: {:>4}] cost = {:>.9}'.format(epoch + 1, epoch_loss))"
      ]
    },
    {
      "cell_type": "code",
      "execution_count": 19,
      "metadata": {
        "id": "QyxDdtOapWat"
      },
      "outputs": [],
      "source": [
        "text = '오늘도 좋은 하루!'"
      ]
    },
    {
      "cell_type": "code",
      "execution_count": 20,
      "metadata": {
        "id": "VCrTFarcqUD2"
      },
      "outputs": [],
      "source": [
        "sent = '<usr>' + text + '<sys>'"
      ]
    },
    {
      "cell_type": "code",
      "execution_count": 21,
      "metadata": {
        "id": "CMAEUZyiqXQ9"
      },
      "outputs": [],
      "source": [
        "input_ids = [tokenizer.bos_token_id] + tokenizer.encode(sent)\n",
        "input_ids = tf.convert_to_tensor([input_ids])"
      ]
    },
    {
      "cell_type": "code",
      "execution_count": 22,
      "metadata": {
        "colab": {
          "base_uri": "https://localhost:8080/"
        },
        "id": "D5ptIm69qZ9A",
        "outputId": "bc6b09f5-70cc-4c28-889a-53453a25ae10"
      },
      "outputs": [
        {
          "name": "stderr",
          "output_type": "stream",
          "text": [
            "/usr/local/lib/python3.10/dist-packages/transformers/generation/configuration_utils.py:418: UserWarning: `num_beams` is set to 1. However, `early_stopping` is set to `True` -- this flag is only used in beam-based generation modes. You should set `num_beams>1` or unset `early_stopping`.\n",
            "  warnings.warn(\n"
          ]
        }
      ],
      "source": [
        "output = model.generate(input_ids, max_length=50, early_stopping=True, eos_token_id=tokenizer.eos_token_id)"
      ]
    },
    {
      "cell_type": "code",
      "execution_count": 23,
      "metadata": {
        "id": "irT0H8nBqc3v"
      },
      "outputs": [],
      "source": [
        "decoded_sentence = tokenizer.decode(output[0].numpy().tolist())"
      ]
    },
    {
      "cell_type": "code",
      "execution_count": 24,
      "metadata": {
        "colab": {
          "base_uri": "https://localhost:8080/",
          "height": 35
        },
        "id": "ZDXWzgzWqh53",
        "outputId": "e29462d3-7dc8-4a03-bd4a-e448d1fca2db"
      },
      "outputs": [
        {
          "data": {
            "application/vnd.google.colaboratory.intrinsic+json": {
              "type": "string"
            },
            "text/plain": [
              "'좋은 하루를 만들어보세요.'"
            ]
          },
          "execution_count": 24,
          "metadata": {},
          "output_type": "execute_result"
        }
      ],
      "source": [
        "decoded_sentence.split('<sys> ')[1].replace('</s>', '')"
      ]
    },
    {
      "cell_type": "code",
      "execution_count": 25,
      "metadata": {
        "colab": {
          "base_uri": "https://localhost:8080/",
          "height": 35
        },
        "id": "k2qenmvIqoaE",
        "outputId": "a0c285d3-beab-4e33-c596-67f18f276fd4"
      },
      "outputs": [
        {
          "data": {
            "application/vnd.google.colaboratory.intrinsic+json": {
              "type": "string"
            },
            "text/plain": [
              "'</s><usr> 오늘도 좋은 하루!<sys> 오늘도 좋은 하루를 하셨군요.</s>'"
            ]
          },
          "execution_count": 25,
          "metadata": {},
          "output_type": "execute_result"
        }
      ],
      "source": [
        "output = model.generate(input_ids, max_length=50, do_sample=True, top_k=10)\n",
        "tokenizer.decode(output[0].numpy().tolist())"
      ]
    },
    {
      "cell_type": "code",
      "execution_count": 26,
      "metadata": {
        "id": "vggXTY7grYgW"
      },
      "outputs": [],
      "source": [
        "def return_answer_by_chatbot(user_text):\n",
        "  sent = '<usr>' + user_text + '<sys>'\n",
        "  input_ids = [tokenizer.bos_token_id] + tokenizer.encode(sent) #시작 토큰 추가 후 텍스트 인코딩\n",
        "  input_ids = tf.convert_to_tensor([input_ids]) #텐서로 변환\n",
        "  output = model.generate(input_ids, max_length=50, do_sample=True, top_k=20) #대답 생성\n",
        "  sentence = tokenizer.decode(output[0].numpy().tolist()) #생성된 출력 디코딩\n",
        "  chatbot_response = sentence.split('<sys> ')[1].replace('</s>', '') #텍스트만 추출\n",
        "  return chatbot_response"
      ]
    },
    {
      "cell_type": "code",
      "execution_count": 27,
      "metadata": {
        "colab": {
          "base_uri": "https://localhost:8080/",
          "height": 35
        },
        "id": "kdK6SxmMrym3",
        "outputId": "78f7b1ba-f843-4d51-8f6d-5f120edd9915"
      },
      "outputs": [
        {
          "data": {
            "application/vnd.google.colaboratory.intrinsic+json": {
              "type": "string"
            },
            "text/plain": [
              "'감사합니다.'"
            ]
          },
          "execution_count": 27,
          "metadata": {},
          "output_type": "execute_result"
        }
      ],
      "source": [
        "return_answer_by_chatbot('안녕! 반가워~')"
      ]
    },
    {
      "cell_type": "code",
      "execution_count": 28,
      "metadata": {
        "colab": {
          "base_uri": "https://localhost:8080/",
          "height": 35
        },
        "id": "BNgtzJUwsHbB",
        "outputId": "09e801b0-b857-4f6c-f018-ad55149d5f72"
      },
      "outputs": [
        {
          "data": {
            "application/vnd.google.colaboratory.intrinsic+json": {
              "type": "string"
            },
            "text/plain": [
              "'친구의 첫인연일 뿐이죠.'"
            ]
          },
          "execution_count": 28,
          "metadata": {},
          "output_type": "execute_result"
        }
      ],
      "source": [
        "return_answer_by_chatbot('너는 누구야?')"
      ]
    },
    {
      "cell_type": "code",
      "execution_count": 29,
      "metadata": {
        "colab": {
          "base_uri": "https://localhost:8080/",
          "height": 35
        },
        "id": "m6n2S6Lcr2vm",
        "outputId": "1cce0408-6170-4563-d132-106cba286d0c"
      },
      "outputs": [
        {
          "data": {
            "application/vnd.google.colaboratory.intrinsic+json": {
              "type": "string"
            },
            "text/plain": [
              "'사랑을 하라는 건가봐요.'"
            ]
          },
          "execution_count": 29,
          "metadata": {},
          "output_type": "execute_result"
        }
      ],
      "source": [
        "return_answer_by_chatbot('사랑해')"
      ]
    },
    {
      "cell_type": "code",
      "execution_count": 30,
      "metadata": {
        "colab": {
          "base_uri": "https://localhost:8080/",
          "height": 35
        },
        "id": "-i0WsJDZr6AZ",
        "outputId": "f30d9730-6c9f-465b-bbe2-ff022f02e02c"
      },
      "outputs": [
        {
          "data": {
            "application/vnd.google.colaboratory.intrinsic+json": {
              "type": "string"
            },
            "text/plain": [
              "'영화보면서 영화 보고 싶은데 영화 좀 볼수 있었으면 좋겠네요.'"
            ]
          },
          "execution_count": 30,
          "metadata": {},
          "output_type": "execute_result"
        }
      ],
      "source": [
        "return_answer_by_chatbot('나랑 영화보자')"
      ]
    },
    {
      "cell_type": "code",
      "execution_count": 31,
      "metadata": {
        "colab": {
          "base_uri": "https://localhost:8080/",
          "height": 35
        },
        "id": "tVvEDRaZsTjf",
        "outputId": "6d2a0df3-7d59-42ce-ec43-c854d3c193d5"
      },
      "outputs": [
        {
          "data": {
            "application/vnd.google.colaboratory.intrinsic+json": {
              "type": "string"
            },
            "text/plain": [
              "'짝사랑으로 살 수 있어요.'"
            ]
          },
          "execution_count": 31,
          "metadata": {},
          "output_type": "execute_result"
        }
      ],
      "source": [
        "return_answer_by_chatbot('너무 심심한데 나랑 놀자')"
      ]
    },
    {
      "cell_type": "code",
      "execution_count": 32,
      "metadata": {
        "colab": {
          "base_uri": "https://localhost:8080/",
          "height": 35
        },
        "id": "cPRgzN3Ihk60",
        "outputId": "1d585e1b-4d37-4187-a044-f6094939d141"
      },
      "outputs": [
        {
          "data": {
            "application/vnd.google.colaboratory.intrinsic+json": {
              "type": "string"
            },
            "text/plain": [
              "'영화해보는 것도 좋을 것 같습니다.'"
            ]
          },
          "execution_count": 32,
          "metadata": {},
          "output_type": "execute_result"
        }
      ],
      "source": [
        "return_answer_by_chatbot('영화 해리포터 재밌어?')"
      ]
    },
    {
      "cell_type": "code",
      "execution_count": 33,
      "metadata": {
        "colab": {
          "base_uri": "https://localhost:8080/",
          "height": 35
        },
        "id": "_4nbS1inhmW2",
        "outputId": "ef070ed8-07ec-4c11-b312-2d61b8f1a3b3"
      },
      "outputs": [
        {
          "data": {
            "application/vnd.google.colaboratory.intrinsic+json": {
              "type": "string"
            },
            "text/plain": [
              "'그립기도 해요.'"
            ]
          },
          "execution_count": 33,
          "metadata": {},
          "output_type": "execute_result"
        }
      ],
      "source": [
        "return_answer_by_chatbot('너 딥 러닝 잘해?')"
      ]
    },
    {
      "cell_type": "code",
      "execution_count": 34,
      "metadata": {
        "colab": {
          "base_uri": "https://localhost:8080/",
          "height": 35
        },
        "id": "mMTBnJQhho-X",
        "outputId": "893c3d27-d87d-4b49-d0df-c8f35e0cbb66"
      },
      "outputs": [
        {
          "data": {
            "application/vnd.google.colaboratory.intrinsic+json": {
              "type": "string"
            },
            "text/plain": [
              "'취하면 취해도 될까요.'"
            ]
          },
          "execution_count": 34,
          "metadata": {},
          "output_type": "execute_result"
        }
      ],
      "source": [
        "return_answer_by_chatbot('너 취했어?')"
      ]
    },
    {
      "cell_type": "code",
      "execution_count": 35,
      "metadata": {
        "colab": {
          "base_uri": "https://localhost:8080/",
          "height": 35
        },
        "id": "UCB6xzE4pYnR",
        "outputId": "04d09fa9-5881-46bb-9c76-90e4fd29c9eb"
      },
      "outputs": [
        {
          "data": {
            "application/vnd.google.colaboratory.intrinsic+json": {
              "type": "string"
            },
            "text/plain": [
              "'커피 좋아하시는 분도 있을것같아요.'"
            ]
          },
          "execution_count": 35,
          "metadata": {},
          "output_type": "execute_result"
        }
      ],
      "source": [
        "return_answer_by_chatbot('커피 한 잔 할까?')"
      ]
    }
  ],
  "metadata": {
    "accelerator": "GPU",
    "colab": {
      "gpuType": "T4",
      "provenance": []
    },
    "kernelspec": {
      "display_name": "Python 3",
      "name": "python3"
    },
    "language_info": {
      "name": "python"
    },
    "widgets": {
      "application/vnd.jupyter.widget-state+json": {
        "008c458785c246549b77fde34b6a9505": {
          "model_module": "@jupyter-widgets/base",
          "model_module_version": "1.2.0",
          "model_name": "LayoutModel",
          "state": {
            "_model_module": "@jupyter-widgets/base",
            "_model_module_version": "1.2.0",
            "_model_name": "LayoutModel",
            "_view_count": null,
            "_view_module": "@jupyter-widgets/base",
            "_view_module_version": "1.2.0",
            "_view_name": "LayoutView",
            "align_content": null,
            "align_items": null,
            "align_self": null,
            "border": null,
            "bottom": null,
            "display": null,
            "flex": null,
            "flex_flow": null,
            "grid_area": null,
            "grid_auto_columns": null,
            "grid_auto_flow": null,
            "grid_auto_rows": null,
            "grid_column": null,
            "grid_gap": null,
            "grid_row": null,
            "grid_template_areas": null,
            "grid_template_columns": null,
            "grid_template_rows": null,
            "height": null,
            "justify_content": null,
            "justify_items": null,
            "left": null,
            "margin": null,
            "max_height": null,
            "max_width": null,
            "min_height": null,
            "min_width": null,
            "object_fit": null,
            "object_position": null,
            "order": null,
            "overflow": null,
            "overflow_x": null,
            "overflow_y": null,
            "padding": null,
            "right": null,
            "top": null,
            "visibility": null,
            "width": null
          }
        },
        "2af7b06180da4bc6bc78db9635d0e792": {
          "model_module": "@jupyter-widgets/controls",
          "model_module_version": "1.5.0",
          "model_name": "DescriptionStyleModel",
          "state": {
            "_model_module": "@jupyter-widgets/controls",
            "_model_module_version": "1.5.0",
            "_model_name": "DescriptionStyleModel",
            "_view_count": null,
            "_view_module": "@jupyter-widgets/base",
            "_view_module_version": "1.2.0",
            "_view_name": "StyleView",
            "description_width": ""
          }
        },
        "3da94269bbf941aeba4b63c529d1c1eb": {
          "model_module": "@jupyter-widgets/controls",
          "model_module_version": "1.5.0",
          "model_name": "HTMLModel",
          "state": {
            "_dom_classes": [],
            "_model_module": "@jupyter-widgets/controls",
            "_model_module_version": "1.5.0",
            "_model_name": "HTMLModel",
            "_view_count": null,
            "_view_module": "@jupyter-widgets/controls",
            "_view_module_version": "1.5.0",
            "_view_name": "HTMLView",
            "description": "",
            "description_tooltip": null,
            "layout": "IPY_MODEL_e688e7739802443cba5724e070ae0a39",
            "placeholder": "​",
            "style": "IPY_MODEL_5a0bbcd8f57f4572a09e2378d7326f6e",
            "value": " 370/370 [05:21&lt;00:00,  1.47it/s]"
          }
        },
        "4adb493cc19a4b6abc7c99a9bc5d74f4": {
          "model_module": "@jupyter-widgets/controls",
          "model_module_version": "1.5.0",
          "model_name": "HTMLModel",
          "state": {
            "_dom_classes": [],
            "_model_module": "@jupyter-widgets/controls",
            "_model_module_version": "1.5.0",
            "_model_name": "HTMLModel",
            "_view_count": null,
            "_view_module": "@jupyter-widgets/controls",
            "_view_module_version": "1.5.0",
            "_view_name": "HTMLView",
            "description": "",
            "description_tooltip": null,
            "layout": "IPY_MODEL_008c458785c246549b77fde34b6a9505",
            "placeholder": "​",
            "style": "IPY_MODEL_2af7b06180da4bc6bc78db9635d0e792",
            "value": "100%"
          }
        },
        "5a0bbcd8f57f4572a09e2378d7326f6e": {
          "model_module": "@jupyter-widgets/controls",
          "model_module_version": "1.5.0",
          "model_name": "DescriptionStyleModel",
          "state": {
            "_model_module": "@jupyter-widgets/controls",
            "_model_module_version": "1.5.0",
            "_model_name": "DescriptionStyleModel",
            "_view_count": null,
            "_view_module": "@jupyter-widgets/base",
            "_view_module_version": "1.2.0",
            "_view_name": "StyleView",
            "description_width": ""
          }
        },
        "733b13c20fb94d20a40d2535f51474a5": {
          "model_module": "@jupyter-widgets/controls",
          "model_module_version": "1.5.0",
          "model_name": "HBoxModel",
          "state": {
            "_dom_classes": [],
            "_model_module": "@jupyter-widgets/controls",
            "_model_module_version": "1.5.0",
            "_model_name": "HBoxModel",
            "_view_count": null,
            "_view_module": "@jupyter-widgets/controls",
            "_view_module_version": "1.5.0",
            "_view_name": "HBoxView",
            "box_style": "",
            "children": [
              "IPY_MODEL_4adb493cc19a4b6abc7c99a9bc5d74f4",
              "IPY_MODEL_c47ebfb537d94f1e8fb4a8c051ecee6b",
              "IPY_MODEL_3da94269bbf941aeba4b63c529d1c1eb"
            ],
            "layout": "IPY_MODEL_a529b535a0fa48039db3a1542f0b921f"
          }
        },
        "88aa7815b6dd4f11b42a30631396a980": {
          "model_module": "@jupyter-widgets/controls",
          "model_module_version": "1.5.0",
          "model_name": "ProgressStyleModel",
          "state": {
            "_model_module": "@jupyter-widgets/controls",
            "_model_module_version": "1.5.0",
            "_model_name": "ProgressStyleModel",
            "_view_count": null,
            "_view_module": "@jupyter-widgets/base",
            "_view_module_version": "1.2.0",
            "_view_name": "StyleView",
            "bar_color": null,
            "description_width": ""
          }
        },
        "a529b535a0fa48039db3a1542f0b921f": {
          "model_module": "@jupyter-widgets/base",
          "model_module_version": "1.2.0",
          "model_name": "LayoutModel",
          "state": {
            "_model_module": "@jupyter-widgets/base",
            "_model_module_version": "1.2.0",
            "_model_name": "LayoutModel",
            "_view_count": null,
            "_view_module": "@jupyter-widgets/base",
            "_view_module_version": "1.2.0",
            "_view_name": "LayoutView",
            "align_content": null,
            "align_items": null,
            "align_self": null,
            "border": null,
            "bottom": null,
            "display": null,
            "flex": null,
            "flex_flow": null,
            "grid_area": null,
            "grid_auto_columns": null,
            "grid_auto_flow": null,
            "grid_auto_rows": null,
            "grid_column": null,
            "grid_gap": null,
            "grid_row": null,
            "grid_template_areas": null,
            "grid_template_columns": null,
            "grid_template_rows": null,
            "height": null,
            "justify_content": null,
            "justify_items": null,
            "left": null,
            "margin": null,
            "max_height": null,
            "max_width": null,
            "min_height": null,
            "min_width": null,
            "object_fit": null,
            "object_position": null,
            "order": null,
            "overflow": null,
            "overflow_x": null,
            "overflow_y": null,
            "padding": null,
            "right": null,
            "top": null,
            "visibility": null,
            "width": null
          }
        },
        "c47ebfb537d94f1e8fb4a8c051ecee6b": {
          "model_module": "@jupyter-widgets/controls",
          "model_module_version": "1.5.0",
          "model_name": "FloatProgressModel",
          "state": {
            "_dom_classes": [],
            "_model_module": "@jupyter-widgets/controls",
            "_model_module_version": "1.5.0",
            "_model_name": "FloatProgressModel",
            "_view_count": null,
            "_view_module": "@jupyter-widgets/controls",
            "_view_module_version": "1.5.0",
            "_view_name": "ProgressView",
            "bar_style": "success",
            "description": "",
            "description_tooltip": null,
            "layout": "IPY_MODEL_e122e99cbe1c496e977e2b47af147ced",
            "max": 370,
            "min": 0,
            "orientation": "horizontal",
            "style": "IPY_MODEL_88aa7815b6dd4f11b42a30631396a980",
            "value": 370
          }
        },
        "e122e99cbe1c496e977e2b47af147ced": {
          "model_module": "@jupyter-widgets/base",
          "model_module_version": "1.2.0",
          "model_name": "LayoutModel",
          "state": {
            "_model_module": "@jupyter-widgets/base",
            "_model_module_version": "1.2.0",
            "_model_name": "LayoutModel",
            "_view_count": null,
            "_view_module": "@jupyter-widgets/base",
            "_view_module_version": "1.2.0",
            "_view_name": "LayoutView",
            "align_content": null,
            "align_items": null,
            "align_self": null,
            "border": null,
            "bottom": null,
            "display": null,
            "flex": null,
            "flex_flow": null,
            "grid_area": null,
            "grid_auto_columns": null,
            "grid_auto_flow": null,
            "grid_auto_rows": null,
            "grid_column": null,
            "grid_gap": null,
            "grid_row": null,
            "grid_template_areas": null,
            "grid_template_columns": null,
            "grid_template_rows": null,
            "height": null,
            "justify_content": null,
            "justify_items": null,
            "left": null,
            "margin": null,
            "max_height": null,
            "max_width": null,
            "min_height": null,
            "min_width": null,
            "object_fit": null,
            "object_position": null,
            "order": null,
            "overflow": null,
            "overflow_x": null,
            "overflow_y": null,
            "padding": null,
            "right": null,
            "top": null,
            "visibility": null,
            "width": null
          }
        },
        "e688e7739802443cba5724e070ae0a39": {
          "model_module": "@jupyter-widgets/base",
          "model_module_version": "1.2.0",
          "model_name": "LayoutModel",
          "state": {
            "_model_module": "@jupyter-widgets/base",
            "_model_module_version": "1.2.0",
            "_model_name": "LayoutModel",
            "_view_count": null,
            "_view_module": "@jupyter-widgets/base",
            "_view_module_version": "1.2.0",
            "_view_name": "LayoutView",
            "align_content": null,
            "align_items": null,
            "align_self": null,
            "border": null,
            "bottom": null,
            "display": null,
            "flex": null,
            "flex_flow": null,
            "grid_area": null,
            "grid_auto_columns": null,
            "grid_auto_flow": null,
            "grid_auto_rows": null,
            "grid_column": null,
            "grid_gap": null,
            "grid_row": null,
            "grid_template_areas": null,
            "grid_template_columns": null,
            "grid_template_rows": null,
            "height": null,
            "justify_content": null,
            "justify_items": null,
            "left": null,
            "margin": null,
            "max_height": null,
            "max_width": null,
            "min_height": null,
            "min_width": null,
            "object_fit": null,
            "object_position": null,
            "order": null,
            "overflow": null,
            "overflow_x": null,
            "overflow_y": null,
            "padding": null,
            "right": null,
            "top": null,
            "visibility": null,
            "width": null
          }
        }
      }
    }
  },
  "nbformat": 4,
  "nbformat_minor": 0
}
