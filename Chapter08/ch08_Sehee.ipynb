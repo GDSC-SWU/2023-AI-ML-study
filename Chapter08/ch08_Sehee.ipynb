{
  "nbformat": 4,
  "nbformat_minor": 0,
  "metadata": {
    "colab": {
      "provenance": [],
      "gpuType": "T4"
    },
    "kernelspec": {
      "name": "python3",
      "display_name": "Python 3"
    },
    "language_info": {
      "name": "python"
    },
    "accelerator": "GPU"
  },
  "cells": [
    {
      "cell_type": "code",
      "source": [
        "import numpy as np\n",
        "import pandas as pd\n",
        "from string import punctuation\n",
        "import tensorflow as tf\n",
        "import urllib.request\n",
        "from tensorflow.keras.models import Sequential\n",
        "from tensorflow.keras.layers import SimpleRNN, LSTM, Bidirectional, Embedding, Dense, TimeDistributed\n"
      ],
      "metadata": {
        "id": "avYViur3llQO"
      },
      "execution_count": 116,
      "outputs": []
    },
    {
      "cell_type": "markdown",
      "source": [
        "### RNN"
      ],
      "metadata": {
        "id": "dcf3yoV3oNcW"
      }
    },
    {
      "cell_type": "code",
      "source": [
        "model = Sequential()\n",
        "\n",
        "#출력값: (batch_size, timesteps, output_dim)\n",
        "model.add(SimpleRNN(3, batch_input_shape=(8, 2, 10), return_sequences=True)) #은닉 노드 3, 은닉층은 1\n",
        "model.summary()"
      ],
      "metadata": {
        "colab": {
          "base_uri": "https://localhost:8080/"
        },
        "id": "wFsJr9b5llvU",
        "outputId": "3258c9a6-fea0-42c5-89ec-86738e230fc5"
      },
      "execution_count": 24,
      "outputs": [
        {
          "output_type": "stream",
          "name": "stdout",
          "text": [
            "Model: \"sequential_3\"\n",
            "_________________________________________________________________\n",
            " Layer (type)                Output Shape              Param #   \n",
            "=================================================================\n",
            " simple_rnn_6 (SimpleRNN)    (8, 2, 3)                 42        \n",
            "                                                                 \n",
            "=================================================================\n",
            "Total params: 42 (168.00 Byte)\n",
            "Trainable params: 42 (168.00 Byte)\n",
            "Non-trainable params: 0 (0.00 Byte)\n",
            "_________________________________________________________________\n"
          ]
        }
      ]
    },
    {
      "cell_type": "code",
      "source": [
        "timesteps = 10 #시점의 수 - 문장의 길이\n",
        "input_dim = 4 #입력 차원\n",
        "hidden_units = 8 #은닉 상태 크기\n",
        "\n",
        "inputs = np.random.random((timesteps, input_dim))\n",
        "\n",
        "# 초기은닉상태는 0(벡터)로 초기화\n",
        "hidden_state_t = np.zeros((hidden_units,))\n",
        "print('초기은닉상태 :',hidden_state_t)"
      ],
      "metadata": {
        "id": "5LWjtSoOllx3",
        "colab": {
          "base_uri": "https://localhost:8080/"
        },
        "outputId": "338accbc-ce82-465d-b5b8-393959413358"
      },
      "execution_count": 25,
      "outputs": [
        {
          "output_type": "stream",
          "name": "stdout",
          "text": [
            "초기은닉상태 : [0. 0. 0. 0. 0. 0. 0. 0.]\n"
          ]
        }
      ]
    },
    {
      "cell_type": "code",
      "source": [
        "# (8, 4)크기의 2D 텐서 생성. 입력에 대한 가중치.\n",
        "Wx = np.random.random((hidden_units, input_dim))\n",
        "\n",
        "# (8, 8)크기의 2D 텐서 생성.은닉 상태에 대한 가중치.\n",
        "Wh = np.random.random((hidden_units, hidden_units))\n",
        "\n",
        "# (8,)크기의 1D 텐서 생성. 편향(bias).\n",
        "b = np.random.random((hidden_units,))\n",
        "\n",
        "print('가 중 치 Wx의 크 기(shape) :',np.shape(Wx))\n",
        "print('가 중 치 Wh의 크 기(shape) :',np.shape(Wh))\n",
        "print('편 향 의 크 기(shape) :',np.shape(b))"
      ],
      "metadata": {
        "id": "Qi28oMthll0U",
        "colab": {
          "base_uri": "https://localhost:8080/"
        },
        "outputId": "ab75a340-1faa-475f-9def-ceb2c9effc79"
      },
      "execution_count": 27,
      "outputs": [
        {
          "output_type": "stream",
          "name": "stdout",
          "text": [
            "가 중 치 Wx의 크 기(shape) : (8, 4)\n",
            "가 중 치 Wh의 크 기(shape) : (8, 8)\n",
            "편 향 의 크 기(shape) : (8,)\n"
          ]
        }
      ]
    },
    {
      "cell_type": "code",
      "source": [
        "# Wx * Xt + Wh * Ht-1 + b(bias)\n",
        "# 각 시점 t별 메모리 셀의 출력의 크기는 (timestep t, output_dim)\n",
        "total_hidden_states = []\n",
        "\n",
        "for input_t in inputs:\n",
        "  output_t = np.tanh(np.dot(Wx, input_t) + np.dot(Wh, hidden_state_t) + b)\n",
        "  total_hidden_states.append(list(output_t)) # 리스트 추가\n",
        "  hidden_state_t = output_t\n",
        "\n",
        "# 출력 깔끔하게 저일\n",
        "total_hidden_states = np.stack(total_hidden_states, axis = 0)\n",
        "\n",
        "# (timesteps, output_dim)\n",
        "print('모든 시점의 hidden state:')\n",
        "print(total_hidden_states)"
      ],
      "metadata": {
        "id": "FefqgIf_ll2u",
        "colab": {
          "base_uri": "https://localhost:8080/"
        },
        "outputId": "5d900a2e-34f9-4455-be77-a3923975c693"
      },
      "execution_count": 28,
      "outputs": [
        {
          "output_type": "stream",
          "name": "stdout",
          "text": [
            "모든 시점의 hidden state:\n",
            "[[0.88597634 0.76583135 0.87536722 0.75211718 0.77892872 0.79620327\n",
            "  0.60624149 0.52245371]\n",
            " [0.9999276  0.9996539  0.99984447 0.9994971  0.99949186 0.99994218\n",
            "  0.99806458 0.99434387]\n",
            " [0.99999397 0.99996193 0.99997756 0.99991895 0.99995311 0.99999635\n",
            "  0.99946006 0.99753134]\n",
            " [0.9999953  0.99999033 0.99995879 0.99992522 0.99998822 0.99999142\n",
            "  0.99952895 0.99394091]\n",
            " [0.99999606 0.99997953 0.99998326 0.99993531 0.99998353 0.99999498\n",
            "  0.99952441 0.99661567]\n",
            " [0.99999943 0.99999185 0.99999704 0.99998568 0.99999264 0.99999898\n",
            "  0.99993974 0.99951815]\n",
            " [0.99997865 0.99994828 0.99993447 0.99977739 0.99990454 0.99998863\n",
            "  0.99914535 0.99297844]\n",
            " [0.99999605 0.9999871  0.9999729  0.99993729 0.99998316 0.99999469\n",
            "  0.99965427 0.99657983]\n",
            " [0.99999759 0.99998554 0.99998734 0.99995621 0.99998763 0.99999652\n",
            "  0.99969356 0.99773986]\n",
            " [0.99999868 0.99998634 0.99999335 0.9999746  0.99998065 0.99999868\n",
            "  0.99990378 0.99934269]]\n"
          ]
        }
      ]
    },
    {
      "cell_type": "markdown",
      "source": [
        "### 층 늘려보기"
      ],
      "metadata": {
        "id": "PlEya6MyoLrg"
      }
    },
    {
      "cell_type": "code",
      "source": [
        "model = Sequential()\n",
        "model.add(SimpleRNN(hidden_units, input_length=10, input_dim=5, return_sequences=True))\n",
        "model.add(SimpleRNN(hidden_units, return_sequences=True))"
      ],
      "metadata": {
        "id": "DtZ1UW8Xll5G"
      },
      "execution_count": 29,
      "outputs": []
    },
    {
      "cell_type": "code",
      "source": [
        "timesteps = 10\n",
        "input_dim = 5\n",
        "hidden_units = 8 # hidden unit의 개수에 따라 output shape의 크기가 달라짐\n",
        "\n",
        "# 양방향 RNN\n",
        "model = Sequential()\n",
        "model.add(Bidirectional(SimpleRNN(hidden_units, return_sequences=True),\n",
        "input_shape=(timesteps, input_dim)))\n",
        "model.summary()"
      ],
      "metadata": {
        "id": "LF2DYNRZll7L",
        "colab": {
          "base_uri": "https://localhost:8080/"
        },
        "outputId": "e7e870f0-0dcb-40f8-c32a-a664434ddc04"
      },
      "execution_count": 39,
      "outputs": [
        {
          "output_type": "stream",
          "name": "stdout",
          "text": [
            "Model: \"sequential_14\"\n",
            "_________________________________________________________________\n",
            " Layer (type)                Output Shape              Param #   \n",
            "=================================================================\n",
            " bidirectional_27 (Bidirect  (None, 10, 16)            224       \n",
            " ional)                                                          \n",
            "                                                                 \n",
            "=================================================================\n",
            "Total params: 224 (896.00 Byte)\n",
            "Trainable params: 224 (896.00 Byte)\n",
            "Non-trainable params: 0 (0.00 Byte)\n",
            "_________________________________________________________________\n"
          ]
        }
      ]
    },
    {
      "cell_type": "code",
      "source": [
        "# 은닉층이 4개인 Bi-RNN\n",
        "model = Sequential()\n",
        "model.add(Bidirectional(SimpleRNN(hidden_units, return_sequences=True),\n",
        "input_shape=(timesteps, input_dim)))\n",
        "model.add(Bidirectional(SimpleRNN(hidden_units, return_sequences=True)))\n",
        "model.add(Bidirectional(SimpleRNN(hidden_units, return_sequences=True)))\n",
        "model.add(Bidirectional(SimpleRNN(hidden_units, return_sequences=True)))\n",
        "model.summary()"
      ],
      "metadata": {
        "id": "Ha0lLIx7ll9W",
        "colab": {
          "base_uri": "https://localhost:8080/"
        },
        "outputId": "a7f8c822-e5ee-4dff-e205-e184facabba2"
      },
      "execution_count": 40,
      "outputs": [
        {
          "output_type": "stream",
          "name": "stdout",
          "text": [
            "Model: \"sequential_15\"\n",
            "_________________________________________________________________\n",
            " Layer (type)                Output Shape              Param #   \n",
            "=================================================================\n",
            " bidirectional_28 (Bidirect  (None, 10, 16)            224       \n",
            " ional)                                                          \n",
            "                                                                 \n",
            " bidirectional_29 (Bidirect  (None, 10, 16)            400       \n",
            " ional)                                                          \n",
            "                                                                 \n",
            " bidirectional_30 (Bidirect  (None, 10, 16)            400       \n",
            " ional)                                                          \n",
            "                                                                 \n",
            " bidirectional_31 (Bidirect  (None, 10, 16)            400       \n",
            " ional)                                                          \n",
            "                                                                 \n",
            "=================================================================\n",
            "Total params: 1424 (5.56 KB)\n",
            "Trainable params: 1424 (5.56 KB)\n",
            "Non-trainable params: 0 (0.00 Byte)\n",
            "_________________________________________________________________\n"
          ]
        }
      ]
    },
    {
      "cell_type": "markdown",
      "source": [
        "## Data"
      ],
      "metadata": {
        "id": "cnl-XglO4RyX"
      }
    },
    {
      "cell_type": "code",
      "source": [
        "# 학습 데이터의 형상 확인하기\n",
        "# batch size = 1\n",
        "train_X = [[0.1, 4.2, 1.5, 1.1, 2.8], [1.0, 3.1, 2.5, 0.7, 1.1], [0.3, 2.1, 1.5, 2.1, 0.1], [2.2, 1.4, 0.5, 0.9, 1.1]]\n",
        "print(np.shape(train_X))"
      ],
      "metadata": {
        "colab": {
          "base_uri": "https://localhost:8080/"
        },
        "id": "t9p_KlqT3jzQ",
        "outputId": "2130fc44-0b4a-452d-dbd1-e3fed9bb959c"
      },
      "execution_count": null,
      "outputs": [
        {
          "output_type": "stream",
          "name": "stdout",
          "text": [
            "(4, 5)\n"
          ]
        }
      ]
    },
    {
      "cell_type": "code",
      "source": [
        "# 2차원 tensor를 3차원 tensor로 만들기\n",
        "train_X = [[[0.1, 4.2, 1.5, 1.1, 2.8], [1.0, 3.1, 2.5, 0.7, 1.1], [0.3, 2.1, 1.5, 2.1, 0.1], [2.2, 1.4, 0.5, 0.9, 1.1]]]\n",
        "train_X = np.array(train_X, dtype=np.float32)\n",
        "print(train_X.shape)"
      ],
      "metadata": {
        "colab": {
          "base_uri": "https://localhost:8080/"
        },
        "id": "HXyYnn0Z3nP-",
        "outputId": "07769059-bf17-49c8-bd5f-bdfd892f0e90"
      },
      "execution_count": null,
      "outputs": [
        {
          "output_type": "stream",
          "name": "stdout",
          "text": [
            "(1, 4, 5)\n"
          ]
        }
      ]
    },
    {
      "cell_type": "markdown",
      "source": [
        "## Simple RNN\n",
        "- return_sequences\\\n",
        "모든 시점의 은닉 상태를 출력할지를 결정하는 인자\\\n",
        "True 이면 모든 시점의 은닉 상태를 출력\\\n",
        "False 이면 마지막 시점의 은닉 상태만을 출력\n",
        "\n",
        "- return_state\\\n",
        "마지막 시점의 은닉 상태를 출력할지를 결정하는 인자"
      ],
      "metadata": {
        "id": "owzeG_Rx4XB7"
      }
    },
    {
      "cell_type": "markdown",
      "source": [
        "SimpleRNN = \\\n",
        "tf.keras.layers.SimpleRNN(\n",
        "    units,\n",
        "    activation='tanh',\n",
        "    use_bias=True,\n",
        "    kernel_constraint=None,\n",
        "    recurrent_constraint=None,\n",
        "    dropout=0.0,\n",
        "    recurrent_dropout=0.0,\n",
        "    return_sequences=False,\n",
        "    return_state=False,\n",
        "    stateful=False)\n",
        "\n",
        "- units = 은닉 노드 수\n",
        "- 기본 활성화 함수 = tanh\n",
        "\n",
        "\n"
      ],
      "metadata": {
        "id": "7aUcUzLt-zmi"
      }
    },
    {
      "cell_type": "code",
      "source": [
        "# rnn = SimpleRNN(3, return_sequences=False, return_state=False)와 동일.\n",
        "rnn = SimpleRNN(3)\n",
        "\n",
        "hidden_state = rnn(train_X)\n",
        "print('hidden state : {}, shape: {}'.format(hidden_state, hidden_state.shape))"
      ],
      "metadata": {
        "colab": {
          "base_uri": "https://localhost:8080/"
        },
        "id": "kE8XFrvF4NZ_",
        "outputId": "75f30203-1b25-476f-b42b-bf802e56daf5"
      },
      "execution_count": null,
      "outputs": [
        {
          "output_type": "stream",
          "name": "stdout",
          "text": [
            "hidden state : [[ 0.08891981 -0.13903677 -0.5548742 ]], shape: (1, 3)\n"
          ]
        }
      ]
    },
    {
      "cell_type": "code",
      "source": [
        "# 모든 hidden state 반환\n",
        "rnn = SimpleRNN(3, return_sequences=True)\n",
        "\n",
        "hidden_states = rnn(train_X)\n",
        "print('hidden states : {}, shape: {}'.format(hidden_states, hidden_states.shape))"
      ],
      "metadata": {
        "colab": {
          "base_uri": "https://localhost:8080/"
        },
        "id": "aapXh9i4_R5w",
        "outputId": "087b64c8-7e95-4cc0-9ef6-1fff50159bf6"
      },
      "execution_count": null,
      "outputs": [
        {
          "output_type": "stream",
          "name": "stdout",
          "text": [
            "hidden states : [[[-0.97428906  0.17683886 -0.8382877 ]\n",
            "  [-0.93320745  0.8497672  -0.74947494]\n",
            "  [-0.9706838   0.7800281  -0.6492494 ]\n",
            "  [-0.2591262   0.77266616  0.88132215]]], shape: (1, 4, 3)\n"
          ]
        }
      ]
    },
    {
      "cell_type": "code",
      "source": [
        "# 마지막 시점 hidden state 출력하기\n",
        "rnn = SimpleRNN(3, return_sequences=False, return_state=True)\n",
        "hidden_state, last_state = rnn(train_X)\n",
        "\n",
        "print('hidden state : {}, shape: {}'.format(hidden_state, hidden_state.shape))\n",
        "print('last hidden state : {}, shape: {}'.format(last_state, last_state.shape))"
      ],
      "metadata": {
        "colab": {
          "base_uri": "https://localhost:8080/"
        },
        "id": "17Dim00me3RU",
        "outputId": "bead803b-ac53-4571-e2c6-560be1c2a72f"
      },
      "execution_count": null,
      "outputs": [
        {
          "output_type": "stream",
          "name": "stdout",
          "text": [
            "hidden state : [[-0.96035916  0.92250663 -0.7715755 ]], shape: (1, 3)\n",
            "last hidden state : [[-0.96035916  0.92250663 -0.7715755 ]], shape: (1, 3)\n"
          ]
        }
      ]
    },
    {
      "cell_type": "markdown",
      "source": [
        "### LSTM"
      ],
      "metadata": {
        "id": "PNvX0YdCfGlG"
      }
    },
    {
      "cell_type": "code",
      "source": [
        "# return_sequences=False 마지막 시점의 hidden state 출력\n",
        "# last_cell_state: 마지막 셀의 상태 return\n",
        "lstm = LSTM(3, return_sequences=False, return_state=True)\n",
        "hidden_state, last_state, last_cell_state = lstm(train_X)\n",
        "\n",
        "print('hidden state : {}, shape: {}'.format(hidden_state, hidden_state.shape))\n",
        "print('last hidden state : {}, shape: {}'.format(last_state, last_state.shape))\n",
        "print('last cell state : {}, shape: {}'.format(last_cell_state, last_cell_state.shape))"
      ],
      "metadata": {
        "colab": {
          "base_uri": "https://localhost:8080/"
        },
        "id": "dLrctxjte-zm",
        "outputId": "f55dec7d-cd21-41a5-94b2-d76ed8d0775d"
      },
      "execution_count": null,
      "outputs": [
        {
          "output_type": "stream",
          "name": "stdout",
          "text": [
            "hidden state : [[-0.18912607  0.31478125 -0.84932125]], shape: (1, 3)\n",
            "last hidden state : [[-0.18912607  0.31478125 -0.84932125]], shape: (1, 3)\n",
            "last cell state : [[-0.30425426  0.7598704  -2.1993682 ]], shape: (1, 3)\n"
          ]
        }
      ]
    },
    {
      "cell_type": "code",
      "source": [
        "# return_sequences=True 모든 hidden state 반환\n",
        "# return_state=True 마지막 hidden state 및 cell state 반환\n",
        "lstm = LSTM(3, return_sequences=True, return_state=True)\n",
        "hidden_states, last_hidden_state, last_cell_state = lstm(train_X)\n",
        "\n",
        "print('hidden states : {}, shape: {}'.format(hidden_states, hidden_states.shape))\n",
        "print('last hidden state : {}, shape: {}'.format(last_hidden_state,\n",
        "last_hidden_state.shape))\n",
        "print('last cell state : {}, shape: {}'.format(last_cell_state, last_cell_state.shape))"
      ],
      "metadata": {
        "colab": {
          "base_uri": "https://localhost:8080/"
        },
        "id": "dANhBKpdg70t",
        "outputId": "8ac15a04-8620-49d2-e0c4-2660ac6de21a"
      },
      "execution_count": null,
      "outputs": [
        {
          "output_type": "stream",
          "name": "stdout",
          "text": [
            "hidden states : [[[-3.6141244e-01  6.1760384e-01  3.8209141e-03]\n",
            "  [-2.0709430e-01  5.7021034e-01 -5.2918703e-04]\n",
            "  [-1.8941352e-01  3.8377562e-01 -7.4299395e-02]\n",
            "  [-2.7542940e-01  3.2115528e-01 -2.0646188e-02]]], shape: (1, 4, 3)\n",
            "last hidden state : [[-0.2754294   0.32115528 -0.02064619]], shape: (1, 3)\n",
            "last cell state : [[-0.6587205   0.6345121  -0.08454297]], shape: (1, 3)\n"
          ]
        }
      ]
    },
    {
      "cell_type": "markdown",
      "source": [
        "### Bi-LSTM"
      ],
      "metadata": {
        "id": "4tbpoycjhOTu"
      }
    },
    {
      "cell_type": "code",
      "source": [
        "# hidden state 고정\n",
        "# tf.keras.initializers.Constant: 상수 값으로 tensor를 생성하는 initializer\n",
        "#  value = 가중치를 초기화할 때 사용할 상수값\n",
        "\n",
        "k_init = tf.keras.initializers.Constant(value=0.1) # 가중치(kernal) 초기화 값\n",
        "b_init = tf.keras.initializers.Constant(value=0) # bias 초기화 값\n",
        "r_init = tf.keras.initializers.Constant(value=0.1) # 순환 시 선형 변환에 사용되는 가중치 행렬 초기화 값"
      ],
      "metadata": {
        "id": "l-xUjiF-hLBb"
      },
      "execution_count": null,
      "outputs": []
    },
    {
      "cell_type": "code",
      "source": [
        "# object로 출력\n",
        "print(k_init)"
      ],
      "metadata": {
        "colab": {
          "base_uri": "https://localhost:8080/"
        },
        "id": "_pF8VN7niA40",
        "outputId": "c5d4699b-42b5-45bd-dd4b-70180b1bb4e6"
      },
      "execution_count": null,
      "outputs": [
        {
          "output_type": "stream",
          "name": "stdout",
          "text": [
            "<keras.src.initializers.initializers.Constant object at 0x7965ec9b23b0>\n"
          ]
        }
      ]
    },
    {
      "cell_type": "code",
      "source": [
        "# Bi-LSTM 쌓기\n",
        "# keras.layers.LSTM 문서 참고\n",
        "# 마지막 hidden state 확인하기\n",
        "bilstm = Bidirectional(LSTM(3, return_sequences=False, return_state=True, kernel_initializer=k_init, bias_initializer=b_init,recurrent_initializer=r_init))\n",
        "hidden_states, forward_h, forward_c, backward_h, backward_c = bilstm(train_X)\n",
        "\n",
        "print('hidden states : {}, shape: {}'.format(hidden_states, hidden_states.shape))\n",
        "print('forward state : {}, shape: {}'.format(forward_h, forward_h.shape))\n",
        "print('backward state : {}, shape: {}'.format(backward_h, backward_h.shape))"
      ],
      "metadata": {
        "colab": {
          "base_uri": "https://localhost:8080/"
        },
        "id": "dK6gpPNqiB1x",
        "outputId": "13a91274-78f1-4fb1-c710-35c6cdb921e1"
      },
      "execution_count": null,
      "outputs": [
        {
          "output_type": "stream",
          "name": "stdout",
          "text": [
            "hidden states : [[0.6303139  0.6303139  0.6303139  0.70387346 0.70387346 0.70387346]], shape: (1, 6)\n",
            "forward state : [[0.6303139 0.6303139 0.6303139]], shape: (1, 3)\n",
            "backward state : [[0.70387346 0.70387346 0.70387346]], shape: (1, 3)\n"
          ]
        }
      ]
    },
    {
      "cell_type": "code",
      "source": [
        "# 모든 hidden state 확인하기\n",
        "# return_sequences=True\n",
        "bilstm = Bidirectional(LSTM(3, return_sequences=True, return_state=True,kernel_initializer=k_init, bias_initializer=b_init,\n",
        "recurrent_initializer=r_init))\n",
        "hidden_states, forward_h, forward_c, backward_h, backward_c = bilstm(train_X)\n",
        "\n",
        "print('hidden states : {}, shape: {}'.format(hidden_states, hidden_states.shape))\n",
        "print('forward state : {}, shape: {}'.format(forward_h, forward_h.shape))\n",
        "print('backward state : {}, shape: {}'.format(backward_h, backward_h.shape))"
      ],
      "metadata": {
        "colab": {
          "base_uri": "https://localhost:8080/"
        },
        "id": "69LvHHurkX4_",
        "outputId": "edd66606-a9cf-4ce7-bb58-d8c6b4d0a98a"
      },
      "execution_count": null,
      "outputs": [
        {
          "output_type": "stream",
          "name": "stdout",
          "text": [
            "hidden states : [[[0.35906476 0.35906476 0.35906476 0.70387346 0.70387346 0.70387346]\n",
            "  [0.5511133  0.5511133  0.5511133  0.5886358  0.5886358  0.5886358 ]\n",
            "  [0.5911575  0.5911575  0.5911575  0.39516988 0.39516988 0.39516988]\n",
            "  [0.6303139  0.6303139  0.6303139  0.2194224  0.2194224  0.2194224 ]]], shape: (1, 4, 6)\n",
            "forward state : [[0.6303139 0.6303139 0.6303139]], shape: (1, 3)\n",
            "backward state : [[0.70387346 0.70387346 0.70387346]], shape: (1, 3)\n"
          ]
        }
      ]
    },
    {
      "cell_type": "markdown",
      "source": [
        "### RNN을 이용한 text 생성"
      ],
      "metadata": {
        "id": "rH39D9Ktpd_I"
      }
    },
    {
      "cell_type": "code",
      "source": [
        "from tensorflow.keras.preprocessing.text import Tokenizer\n",
        "from tensorflow.keras.preprocessing.sequence import pad_sequences\n",
        "from tensorflow.keras.utils import to_categorical #one-hot encoding"
      ],
      "metadata": {
        "id": "-XbtF0tOpcVV"
      },
      "execution_count": 41,
      "outputs": []
    },
    {
      "cell_type": "code",
      "source": [
        "text = \"\"\"경마장에 있는 말이 뛰고 있다.\\n그의 말이 법이다.\\n가는 말이 고와야 오는 말이 곱다.\"\"\""
      ],
      "metadata": {
        "id": "RhMphyBHpcYr"
      },
      "execution_count": 47,
      "outputs": []
    },
    {
      "cell_type": "code",
      "source": [
        "tokenizer = Tokenizer() #tokenizer 선언\n",
        "tokenizer.fit_on_texts([text])\n",
        "vocab_size = len(tokenizer.word_index) + 1 #0부터 시작이니까\n",
        "print('단어집합의 크기: %d' % vocab_size)"
      ],
      "metadata": {
        "colab": {
          "base_uri": "https://localhost:8080/"
        },
        "id": "jhvai1gMpcbP",
        "outputId": "4b3b1ecc-b4c9-4bab-9504-08eabb88934d"
      },
      "execution_count": 45,
      "outputs": [
        {
          "output_type": "stream",
          "name": "stdout",
          "text": [
            "단어집합의 크기: 12\n"
          ]
        }
      ]
    },
    {
      "cell_type": "code",
      "source": [
        "# 정수 인덱스 출력\n",
        "print(tokenizer.word_index)"
      ],
      "metadata": {
        "colab": {
          "base_uri": "https://localhost:8080/"
        },
        "id": "jJm67Gn7pzYJ",
        "outputId": "8fe22b1b-184c-4e47-8002-bf04902ceb35"
      },
      "execution_count": 46,
      "outputs": [
        {
          "output_type": "stream",
          "name": "stdout",
          "text": [
            "{'말이': 1, '경마장에': 2, '있는': 3, '뛰고': 4, '있다': 5, '그의': 6, '법이다': 7, '가는': 8, '고와야': 9, '오는': 10, '곱다': 11}\n"
          ]
        }
      ]
    },
    {
      "cell_type": "code",
      "source": [
        "# train data set\n",
        "sequences = list()\n",
        "\n",
        "for line in text.split('\\n'): # \\n기준 tokenize\n",
        "  encoded = tokenizer.texts_to_sequences([line])[0]\n",
        "  for i in range(1, len(encoded)):\n",
        "    sequence = encoded[:i+1]\n",
        "    sequences.append(sequence)\n",
        "print('학습에 사용할 샘플의 개수: %d' % len(sequences))"
      ],
      "metadata": {
        "colab": {
          "base_uri": "https://localhost:8080/"
        },
        "id": "7eHfzRP3p8sM",
        "outputId": "10afb6f0-32d6-46f5-d9c9-0f30280d0a3f"
      },
      "execution_count": 48,
      "outputs": [
        {
          "output_type": "stream",
          "name": "stdout",
          "text": [
            "학습에 사용할 샘플의 개수: 11\n"
          ]
        }
      ]
    },
    {
      "cell_type": "code",
      "source": [
        "# 데이터의 길이가 맞지 않는다. -> padding 조정\n",
        "print(sequences)"
      ],
      "metadata": {
        "colab": {
          "base_uri": "https://localhost:8080/"
        },
        "id": "wDMnLg1hqQNR",
        "outputId": "c711a340-64f4-409a-9a2c-0434455cca16"
      },
      "execution_count": 50,
      "outputs": [
        {
          "output_type": "stream",
          "name": "stdout",
          "text": [
            "[[2, 3], [2, 3, 1], [2, 3, 1, 4], [2, 3, 1, 4, 5], [6, 1], [6, 1, 7], [8, 1], [8, 1, 9], [8, 1, 9, 10], [8, 1, 9, 10, 1], [8, 1, 9, 10, 1, 11]]\n"
          ]
        }
      ]
    },
    {
      "cell_type": "code",
      "source": [
        "# 길이가 가장 긴 샘플 출력\n",
        "max_len = max(len(l) for l in sequences)\n",
        "print('샘플의 최대 길이 : {}'.format(max_len))"
      ],
      "metadata": {
        "colab": {
          "base_uri": "https://localhost:8080/"
        },
        "id": "vnb9Wlx_qSY1",
        "outputId": "6c17f0f4-dfe6-4f81-d23d-e997cbd7adda"
      },
      "execution_count": 51,
      "outputs": [
        {
          "output_type": "stream",
          "name": "stdout",
          "text": [
            "샘플의 최대 길이 : 6\n"
          ]
        }
      ]
    },
    {
      "cell_type": "code",
      "source": [
        "# 패딩\n",
        "sequences = pad_sequences(sequences, maxlen=max_len, padding='pre')"
      ],
      "metadata": {
        "id": "Zp6x3oF4qtNS"
      },
      "execution_count": 52,
      "outputs": []
    },
    {
      "cell_type": "code",
      "source": [
        "# label 만들기-> 마지막 문자를 label로 사용\n",
        "sequences = np.array(sequences)\n",
        "X = sequences[:,:-1] #[:4]까지, 5번째 까지\n",
        "y = sequences[:,-1] # 마지막 6번째 문자 하나"
      ],
      "metadata": {
        "id": "e6Ot51vuqw0Y"
      },
      "execution_count": 54,
      "outputs": []
    },
    {
      "cell_type": "code",
      "source": [
        "# 원‑핫 인코딩\n",
        "y = to_categorical(y, num_classes=vocab_size)"
      ],
      "metadata": {
        "id": "k5gH6-SUq2TX"
      },
      "execution_count": 55,
      "outputs": []
    },
    {
      "cell_type": "code",
      "source": [
        "print(X)\n",
        "print(y)"
      ],
      "metadata": {
        "colab": {
          "base_uri": "https://localhost:8080/"
        },
        "id": "TAvyFvTlswkD",
        "outputId": "9f428478-bcaa-475d-d509-d4146cd96865"
      },
      "execution_count": 63,
      "outputs": [
        {
          "output_type": "stream",
          "name": "stdout",
          "text": [
            "[[ 0  0  0  0  2]\n",
            " [ 0  0  0  2  3]\n",
            " [ 0  0  2  3  1]\n",
            " [ 0  2  3  1  4]\n",
            " [ 0  0  0  0  6]\n",
            " [ 0  0  0  6  1]\n",
            " [ 0  0  0  0  8]\n",
            " [ 0  0  0  8  1]\n",
            " [ 0  0  8  1  9]\n",
            " [ 0  8  1  9 10]\n",
            " [ 8  1  9 10  1]]\n",
            "[[0. 0. 0. 1. 0. 0. 0. 0. 0. 0. 0. 0.]\n",
            " [0. 1. 0. 0. 0. 0. 0. 0. 0. 0. 0. 0.]\n",
            " [0. 0. 0. 0. 1. 0. 0. 0. 0. 0. 0. 0.]\n",
            " [0. 0. 0. 0. 0. 1. 0. 0. 0. 0. 0. 0.]\n",
            " [0. 1. 0. 0. 0. 0. 0. 0. 0. 0. 0. 0.]\n",
            " [0. 0. 0. 0. 0. 0. 0. 1. 0. 0. 0. 0.]\n",
            " [0. 1. 0. 0. 0. 0. 0. 0. 0. 0. 0. 0.]\n",
            " [0. 0. 0. 0. 0. 0. 0. 0. 0. 1. 0. 0.]\n",
            " [0. 0. 0. 0. 0. 0. 0. 0. 0. 0. 1. 0.]\n",
            " [0. 1. 0. 0. 0. 0. 0. 0. 0. 0. 0. 0.]\n",
            " [0. 0. 0. 0. 0. 0. 0. 0. 0. 0. 0. 1.]]\n"
          ]
        }
      ]
    },
    {
      "cell_type": "code",
      "source": [
        "# 모델\n",
        "embedding_dim = 10 # 입력 차원 10\n",
        "hidden_units = 32 # 은닉노드 32개\n",
        "\n",
        "model = Sequential() # 순서대로 쌓기\n",
        "model.add(Embedding(vocab_size, embedding_dim))\n",
        "model.add(SimpleRNN(hidden_units))\n",
        "model.add(Dense(vocab_size, activation='softmax'))\n",
        "#손실함수: 크로스 엔트로피, optimizer: 아담, 평가지표: 정확도\n",
        "model.compile(loss='categorical_crossentropy', optimizer='adam', metrics=['accuracy'])\n",
        "model.fit(X, y, epochs=200, verbose=2)"
      ],
      "metadata": {
        "colab": {
          "base_uri": "https://localhost:8080/"
        },
        "id": "XukTxWHsrJh-",
        "outputId": "6064ccb0-39e3-43c1-c67f-e6d93b423f5a"
      },
      "execution_count": 65,
      "outputs": [
        {
          "output_type": "stream",
          "name": "stdout",
          "text": [
            "Epoch 1/200\n",
            "1/1 - 2s - loss: 2.4998 - accuracy: 0.1818 - 2s/epoch - 2s/step\n",
            "Epoch 2/200\n",
            "1/1 - 0s - loss: 2.4868 - accuracy: 0.1818 - 14ms/epoch - 14ms/step\n",
            "Epoch 3/200\n",
            "1/1 - 0s - loss: 2.4742 - accuracy: 0.1818 - 15ms/epoch - 15ms/step\n",
            "Epoch 4/200\n",
            "1/1 - 0s - loss: 2.4619 - accuracy: 0.1818 - 14ms/epoch - 14ms/step\n",
            "Epoch 5/200\n",
            "1/1 - 0s - loss: 2.4497 - accuracy: 0.2727 - 15ms/epoch - 15ms/step\n",
            "Epoch 6/200\n",
            "1/1 - 0s - loss: 2.4376 - accuracy: 0.2727 - 13ms/epoch - 13ms/step\n",
            "Epoch 7/200\n",
            "1/1 - 0s - loss: 2.4254 - accuracy: 0.3636 - 12ms/epoch - 12ms/step\n",
            "Epoch 8/200\n",
            "1/1 - 0s - loss: 2.4130 - accuracy: 0.3636 - 17ms/epoch - 17ms/step\n",
            "Epoch 9/200\n",
            "1/1 - 0s - loss: 2.4003 - accuracy: 0.4545 - 14ms/epoch - 14ms/step\n",
            "Epoch 10/200\n",
            "1/1 - 0s - loss: 2.3873 - accuracy: 0.4545 - 16ms/epoch - 16ms/step\n",
            "Epoch 11/200\n",
            "1/1 - 0s - loss: 2.3739 - accuracy: 0.3636 - 13ms/epoch - 13ms/step\n",
            "Epoch 12/200\n",
            "1/1 - 0s - loss: 2.3599 - accuracy: 0.3636 - 13ms/epoch - 13ms/step\n",
            "Epoch 13/200\n",
            "1/1 - 0s - loss: 2.3453 - accuracy: 0.3636 - 13ms/epoch - 13ms/step\n",
            "Epoch 14/200\n",
            "1/1 - 0s - loss: 2.3300 - accuracy: 0.3636 - 14ms/epoch - 14ms/step\n",
            "Epoch 15/200\n",
            "1/1 - 0s - loss: 2.3140 - accuracy: 0.3636 - 15ms/epoch - 15ms/step\n",
            "Epoch 16/200\n",
            "1/1 - 0s - loss: 2.2971 - accuracy: 0.3636 - 17ms/epoch - 17ms/step\n",
            "Epoch 17/200\n",
            "1/1 - 0s - loss: 2.2794 - accuracy: 0.3636 - 15ms/epoch - 15ms/step\n",
            "Epoch 18/200\n",
            "1/1 - 0s - loss: 2.2607 - accuracy: 0.3636 - 14ms/epoch - 14ms/step\n",
            "Epoch 19/200\n",
            "1/1 - 0s - loss: 2.2411 - accuracy: 0.3636 - 18ms/epoch - 18ms/step\n",
            "Epoch 20/200\n",
            "1/1 - 0s - loss: 2.2205 - accuracy: 0.3636 - 16ms/epoch - 16ms/step\n",
            "Epoch 21/200\n",
            "1/1 - 0s - loss: 2.1989 - accuracy: 0.3636 - 20ms/epoch - 20ms/step\n",
            "Epoch 22/200\n",
            "1/1 - 0s - loss: 2.1764 - accuracy: 0.3636 - 16ms/epoch - 16ms/step\n",
            "Epoch 23/200\n",
            "1/1 - 0s - loss: 2.1529 - accuracy: 0.3636 - 13ms/epoch - 13ms/step\n",
            "Epoch 24/200\n",
            "1/1 - 0s - loss: 2.1286 - accuracy: 0.3636 - 14ms/epoch - 14ms/step\n",
            "Epoch 25/200\n",
            "1/1 - 0s - loss: 2.1036 - accuracy: 0.3636 - 15ms/epoch - 15ms/step\n",
            "Epoch 26/200\n",
            "1/1 - 0s - loss: 2.0780 - accuracy: 0.3636 - 14ms/epoch - 14ms/step\n",
            "Epoch 27/200\n",
            "1/1 - 0s - loss: 2.0522 - accuracy: 0.3636 - 17ms/epoch - 17ms/step\n",
            "Epoch 28/200\n",
            "1/1 - 0s - loss: 2.0263 - accuracy: 0.3636 - 15ms/epoch - 15ms/step\n",
            "Epoch 29/200\n",
            "1/1 - 0s - loss: 2.0006 - accuracy: 0.3636 - 14ms/epoch - 14ms/step\n",
            "Epoch 30/200\n",
            "1/1 - 0s - loss: 1.9756 - accuracy: 0.3636 - 22ms/epoch - 22ms/step\n",
            "Epoch 31/200\n",
            "1/1 - 0s - loss: 1.9516 - accuracy: 0.3636 - 16ms/epoch - 16ms/step\n",
            "Epoch 32/200\n",
            "1/1 - 0s - loss: 1.9289 - accuracy: 0.3636 - 14ms/epoch - 14ms/step\n",
            "Epoch 33/200\n",
            "1/1 - 0s - loss: 1.9079 - accuracy: 0.3636 - 13ms/epoch - 13ms/step\n",
            "Epoch 34/200\n",
            "1/1 - 0s - loss: 1.8886 - accuracy: 0.3636 - 14ms/epoch - 14ms/step\n",
            "Epoch 35/200\n",
            "1/1 - 0s - loss: 1.8712 - accuracy: 0.3636 - 14ms/epoch - 14ms/step\n",
            "Epoch 36/200\n",
            "1/1 - 0s - loss: 1.8553 - accuracy: 0.3636 - 18ms/epoch - 18ms/step\n",
            "Epoch 37/200\n",
            "1/1 - 0s - loss: 1.8408 - accuracy: 0.3636 - 14ms/epoch - 14ms/step\n",
            "Epoch 38/200\n",
            "1/1 - 0s - loss: 1.8269 - accuracy: 0.3636 - 16ms/epoch - 16ms/step\n",
            "Epoch 39/200\n",
            "1/1 - 0s - loss: 1.8133 - accuracy: 0.3636 - 20ms/epoch - 20ms/step\n",
            "Epoch 40/200\n",
            "1/1 - 0s - loss: 1.7993 - accuracy: 0.3636 - 14ms/epoch - 14ms/step\n",
            "Epoch 41/200\n",
            "1/1 - 0s - loss: 1.7845 - accuracy: 0.3636 - 18ms/epoch - 18ms/step\n",
            "Epoch 42/200\n",
            "1/1 - 0s - loss: 1.7687 - accuracy: 0.3636 - 17ms/epoch - 17ms/step\n",
            "Epoch 43/200\n",
            "1/1 - 0s - loss: 1.7518 - accuracy: 0.3636 - 14ms/epoch - 14ms/step\n",
            "Epoch 44/200\n",
            "1/1 - 0s - loss: 1.7339 - accuracy: 0.3636 - 15ms/epoch - 15ms/step\n",
            "Epoch 45/200\n",
            "1/1 - 0s - loss: 1.7151 - accuracy: 0.3636 - 24ms/epoch - 24ms/step\n",
            "Epoch 46/200\n",
            "1/1 - 0s - loss: 1.6958 - accuracy: 0.4545 - 18ms/epoch - 18ms/step\n",
            "Epoch 47/200\n",
            "1/1 - 0s - loss: 1.6762 - accuracy: 0.4545 - 14ms/epoch - 14ms/step\n",
            "Epoch 48/200\n",
            "1/1 - 0s - loss: 1.6565 - accuracy: 0.4545 - 17ms/epoch - 17ms/step\n",
            "Epoch 49/200\n",
            "1/1 - 0s - loss: 1.6370 - accuracy: 0.4545 - 19ms/epoch - 19ms/step\n",
            "Epoch 50/200\n",
            "1/1 - 0s - loss: 1.6176 - accuracy: 0.4545 - 17ms/epoch - 17ms/step\n",
            "Epoch 51/200\n",
            "1/1 - 0s - loss: 1.5985 - accuracy: 0.4545 - 18ms/epoch - 18ms/step\n",
            "Epoch 52/200\n",
            "1/1 - 0s - loss: 1.5797 - accuracy: 0.4545 - 17ms/epoch - 17ms/step\n",
            "Epoch 53/200\n",
            "1/1 - 0s - loss: 1.5609 - accuracy: 0.4545 - 17ms/epoch - 17ms/step\n",
            "Epoch 54/200\n",
            "1/1 - 0s - loss: 1.5423 - accuracy: 0.4545 - 16ms/epoch - 16ms/step\n",
            "Epoch 55/200\n",
            "1/1 - 0s - loss: 1.5235 - accuracy: 0.4545 - 23ms/epoch - 23ms/step\n",
            "Epoch 56/200\n",
            "1/1 - 0s - loss: 1.5046 - accuracy: 0.4545 - 13ms/epoch - 13ms/step\n",
            "Epoch 57/200\n",
            "1/1 - 0s - loss: 1.4855 - accuracy: 0.4545 - 13ms/epoch - 13ms/step\n",
            "Epoch 58/200\n",
            "1/1 - 0s - loss: 1.4660 - accuracy: 0.4545 - 17ms/epoch - 17ms/step\n",
            "Epoch 59/200\n",
            "1/1 - 0s - loss: 1.4463 - accuracy: 0.4545 - 16ms/epoch - 16ms/step\n",
            "Epoch 60/200\n",
            "1/1 - 0s - loss: 1.4263 - accuracy: 0.4545 - 13ms/epoch - 13ms/step\n",
            "Epoch 61/200\n",
            "1/1 - 0s - loss: 1.4060 - accuracy: 0.5455 - 14ms/epoch - 14ms/step\n",
            "Epoch 62/200\n",
            "1/1 - 0s - loss: 1.3856 - accuracy: 0.5455 - 16ms/epoch - 16ms/step\n",
            "Epoch 63/200\n",
            "1/1 - 0s - loss: 1.3650 - accuracy: 0.5455 - 15ms/epoch - 15ms/step\n",
            "Epoch 64/200\n",
            "1/1 - 0s - loss: 1.3443 - accuracy: 0.5455 - 15ms/epoch - 15ms/step\n",
            "Epoch 65/200\n",
            "1/1 - 0s - loss: 1.3235 - accuracy: 0.5455 - 18ms/epoch - 18ms/step\n",
            "Epoch 66/200\n",
            "1/1 - 0s - loss: 1.3028 - accuracy: 0.5455 - 27ms/epoch - 27ms/step\n",
            "Epoch 67/200\n",
            "1/1 - 0s - loss: 1.2820 - accuracy: 0.5455 - 20ms/epoch - 20ms/step\n",
            "Epoch 68/200\n",
            "1/1 - 0s - loss: 1.2614 - accuracy: 0.5455 - 20ms/epoch - 20ms/step\n",
            "Epoch 69/200\n",
            "1/1 - 0s - loss: 1.2408 - accuracy: 0.5455 - 28ms/epoch - 28ms/step\n",
            "Epoch 70/200\n",
            "1/1 - 0s - loss: 1.2203 - accuracy: 0.6364 - 20ms/epoch - 20ms/step\n",
            "Epoch 71/200\n",
            "1/1 - 0s - loss: 1.1999 - accuracy: 0.6364 - 25ms/epoch - 25ms/step\n",
            "Epoch 72/200\n",
            "1/1 - 0s - loss: 1.1797 - accuracy: 0.6364 - 37ms/epoch - 37ms/step\n",
            "Epoch 73/200\n",
            "1/1 - 0s - loss: 1.1596 - accuracy: 0.6364 - 26ms/epoch - 26ms/step\n",
            "Epoch 74/200\n",
            "1/1 - 0s - loss: 1.1397 - accuracy: 0.6364 - 44ms/epoch - 44ms/step\n",
            "Epoch 75/200\n",
            "1/1 - 0s - loss: 1.1201 - accuracy: 0.6364 - 30ms/epoch - 30ms/step\n",
            "Epoch 76/200\n",
            "1/1 - 0s - loss: 1.1007 - accuracy: 0.6364 - 27ms/epoch - 27ms/step\n",
            "Epoch 77/200\n",
            "1/1 - 0s - loss: 1.0815 - accuracy: 0.6364 - 21ms/epoch - 21ms/step\n",
            "Epoch 78/200\n",
            "1/1 - 0s - loss: 1.0626 - accuracy: 0.6364 - 15ms/epoch - 15ms/step\n",
            "Epoch 79/200\n",
            "1/1 - 0s - loss: 1.0440 - accuracy: 0.6364 - 15ms/epoch - 15ms/step\n",
            "Epoch 80/200\n",
            "1/1 - 0s - loss: 1.0258 - accuracy: 0.7273 - 14ms/epoch - 14ms/step\n",
            "Epoch 81/200\n",
            "1/1 - 0s - loss: 1.0078 - accuracy: 0.7273 - 13ms/epoch - 13ms/step\n",
            "Epoch 82/200\n",
            "1/1 - 0s - loss: 0.9901 - accuracy: 0.7273 - 12ms/epoch - 12ms/step\n",
            "Epoch 83/200\n",
            "1/1 - 0s - loss: 0.9728 - accuracy: 0.7273 - 17ms/epoch - 17ms/step\n",
            "Epoch 84/200\n",
            "1/1 - 0s - loss: 0.9558 - accuracy: 0.7273 - 23ms/epoch - 23ms/step\n",
            "Epoch 85/200\n",
            "1/1 - 0s - loss: 0.9391 - accuracy: 0.7273 - 23ms/epoch - 23ms/step\n",
            "Epoch 86/200\n",
            "1/1 - 0s - loss: 0.9226 - accuracy: 0.7273 - 15ms/epoch - 15ms/step\n",
            "Epoch 87/200\n",
            "1/1 - 0s - loss: 0.9065 - accuracy: 0.7273 - 15ms/epoch - 15ms/step\n",
            "Epoch 88/200\n",
            "1/1 - 0s - loss: 0.8906 - accuracy: 0.7273 - 16ms/epoch - 16ms/step\n",
            "Epoch 89/200\n",
            "1/1 - 0s - loss: 0.8750 - accuracy: 0.7273 - 13ms/epoch - 13ms/step\n",
            "Epoch 90/200\n",
            "1/1 - 0s - loss: 0.8597 - accuracy: 0.7273 - 17ms/epoch - 17ms/step\n",
            "Epoch 91/200\n",
            "1/1 - 0s - loss: 0.8446 - accuracy: 0.7273 - 14ms/epoch - 14ms/step\n",
            "Epoch 92/200\n",
            "1/1 - 0s - loss: 0.8297 - accuracy: 0.7273 - 17ms/epoch - 17ms/step\n",
            "Epoch 93/200\n",
            "1/1 - 0s - loss: 0.8151 - accuracy: 0.7273 - 26ms/epoch - 26ms/step\n",
            "Epoch 94/200\n",
            "1/1 - 0s - loss: 0.8008 - accuracy: 0.7273 - 19ms/epoch - 19ms/step\n",
            "Epoch 95/200\n",
            "1/1 - 0s - loss: 0.7867 - accuracy: 0.7273 - 13ms/epoch - 13ms/step\n",
            "Epoch 96/200\n",
            "1/1 - 0s - loss: 0.7728 - accuracy: 0.7273 - 15ms/epoch - 15ms/step\n",
            "Epoch 97/200\n",
            "1/1 - 0s - loss: 0.7592 - accuracy: 0.7273 - 17ms/epoch - 17ms/step\n",
            "Epoch 98/200\n",
            "1/1 - 0s - loss: 0.7458 - accuracy: 0.7273 - 14ms/epoch - 14ms/step\n",
            "Epoch 99/200\n",
            "1/1 - 0s - loss: 0.7327 - accuracy: 0.7273 - 16ms/epoch - 16ms/step\n",
            "Epoch 100/200\n",
            "1/1 - 0s - loss: 0.7198 - accuracy: 0.7273 - 15ms/epoch - 15ms/step\n",
            "Epoch 101/200\n",
            "1/1 - 0s - loss: 0.7071 - accuracy: 0.7273 - 14ms/epoch - 14ms/step\n",
            "Epoch 102/200\n",
            "1/1 - 0s - loss: 0.6946 - accuracy: 0.7273 - 12ms/epoch - 12ms/step\n",
            "Epoch 103/200\n",
            "1/1 - 0s - loss: 0.6824 - accuracy: 0.7273 - 14ms/epoch - 14ms/step\n",
            "Epoch 104/200\n",
            "1/1 - 0s - loss: 0.6704 - accuracy: 0.7273 - 13ms/epoch - 13ms/step\n",
            "Epoch 105/200\n",
            "1/1 - 0s - loss: 0.6585 - accuracy: 0.7273 - 18ms/epoch - 18ms/step\n",
            "Epoch 106/200\n",
            "1/1 - 0s - loss: 0.6469 - accuracy: 0.7273 - 29ms/epoch - 29ms/step\n",
            "Epoch 107/200\n",
            "1/1 - 0s - loss: 0.6355 - accuracy: 0.7273 - 19ms/epoch - 19ms/step\n",
            "Epoch 108/200\n",
            "1/1 - 0s - loss: 0.6243 - accuracy: 0.7273 - 14ms/epoch - 14ms/step\n",
            "Epoch 109/200\n",
            "1/1 - 0s - loss: 0.6133 - accuracy: 0.7273 - 17ms/epoch - 17ms/step\n",
            "Epoch 110/200\n",
            "1/1 - 0s - loss: 0.6024 - accuracy: 0.7273 - 16ms/epoch - 16ms/step\n",
            "Epoch 111/200\n",
            "1/1 - 0s - loss: 0.5918 - accuracy: 0.7273 - 14ms/epoch - 14ms/step\n",
            "Epoch 112/200\n",
            "1/1 - 0s - loss: 0.5813 - accuracy: 0.7273 - 13ms/epoch - 13ms/step\n",
            "Epoch 113/200\n",
            "1/1 - 0s - loss: 0.5710 - accuracy: 0.7273 - 12ms/epoch - 12ms/step\n",
            "Epoch 114/200\n",
            "1/1 - 0s - loss: 0.5609 - accuracy: 0.7273 - 17ms/epoch - 17ms/step\n",
            "Epoch 115/200\n",
            "1/1 - 0s - loss: 0.5509 - accuracy: 0.8182 - 13ms/epoch - 13ms/step\n",
            "Epoch 116/200\n",
            "1/1 - 0s - loss: 0.5412 - accuracy: 0.8182 - 16ms/epoch - 16ms/step\n",
            "Epoch 117/200\n",
            "1/1 - 0s - loss: 0.5315 - accuracy: 0.9091 - 15ms/epoch - 15ms/step\n",
            "Epoch 118/200\n",
            "1/1 - 0s - loss: 0.5221 - accuracy: 0.9091 - 13ms/epoch - 13ms/step\n",
            "Epoch 119/200\n",
            "1/1 - 0s - loss: 0.5128 - accuracy: 0.9091 - 13ms/epoch - 13ms/step\n",
            "Epoch 120/200\n",
            "1/1 - 0s - loss: 0.5037 - accuracy: 0.9091 - 13ms/epoch - 13ms/step\n",
            "Epoch 121/200\n",
            "1/1 - 0s - loss: 0.4947 - accuracy: 0.9091 - 15ms/epoch - 15ms/step\n",
            "Epoch 122/200\n",
            "1/1 - 0s - loss: 0.4859 - accuracy: 1.0000 - 17ms/epoch - 17ms/step\n",
            "Epoch 123/200\n",
            "1/1 - 0s - loss: 0.4772 - accuracy: 1.0000 - 19ms/epoch - 19ms/step\n",
            "Epoch 124/200\n",
            "1/1 - 0s - loss: 0.4687 - accuracy: 1.0000 - 14ms/epoch - 14ms/step\n",
            "Epoch 125/200\n",
            "1/1 - 0s - loss: 0.4604 - accuracy: 1.0000 - 21ms/epoch - 21ms/step\n",
            "Epoch 126/200\n",
            "1/1 - 0s - loss: 0.4522 - accuracy: 1.0000 - 18ms/epoch - 18ms/step\n",
            "Epoch 127/200\n",
            "1/1 - 0s - loss: 0.4441 - accuracy: 1.0000 - 16ms/epoch - 16ms/step\n",
            "Epoch 128/200\n",
            "1/1 - 0s - loss: 0.4362 - accuracy: 1.0000 - 23ms/epoch - 23ms/step\n",
            "Epoch 129/200\n",
            "1/1 - 0s - loss: 0.4285 - accuracy: 1.0000 - 38ms/epoch - 38ms/step\n",
            "Epoch 130/200\n",
            "1/1 - 0s - loss: 0.4209 - accuracy: 1.0000 - 23ms/epoch - 23ms/step\n",
            "Epoch 131/200\n",
            "1/1 - 0s - loss: 0.4134 - accuracy: 1.0000 - 19ms/epoch - 19ms/step\n",
            "Epoch 132/200\n",
            "1/1 - 0s - loss: 0.4061 - accuracy: 1.0000 - 21ms/epoch - 21ms/step\n",
            "Epoch 133/200\n",
            "1/1 - 0s - loss: 0.3990 - accuracy: 1.0000 - 20ms/epoch - 20ms/step\n",
            "Epoch 134/200\n",
            "1/1 - 0s - loss: 0.3920 - accuracy: 1.0000 - 18ms/epoch - 18ms/step\n",
            "Epoch 135/200\n",
            "1/1 - 0s - loss: 0.3851 - accuracy: 1.0000 - 25ms/epoch - 25ms/step\n",
            "Epoch 136/200\n",
            "1/1 - 0s - loss: 0.3784 - accuracy: 1.0000 - 29ms/epoch - 29ms/step\n",
            "Epoch 137/200\n",
            "1/1 - 0s - loss: 0.3718 - accuracy: 1.0000 - 16ms/epoch - 16ms/step\n",
            "Epoch 138/200\n",
            "1/1 - 0s - loss: 0.3653 - accuracy: 1.0000 - 19ms/epoch - 19ms/step\n",
            "Epoch 139/200\n",
            "1/1 - 0s - loss: 0.3590 - accuracy: 1.0000 - 19ms/epoch - 19ms/step\n",
            "Epoch 140/200\n",
            "1/1 - 0s - loss: 0.3528 - accuracy: 1.0000 - 17ms/epoch - 17ms/step\n",
            "Epoch 141/200\n",
            "1/1 - 0s - loss: 0.3468 - accuracy: 1.0000 - 19ms/epoch - 19ms/step\n",
            "Epoch 142/200\n",
            "1/1 - 0s - loss: 0.3409 - accuracy: 1.0000 - 23ms/epoch - 23ms/step\n",
            "Epoch 143/200\n",
            "1/1 - 0s - loss: 0.3351 - accuracy: 1.0000 - 20ms/epoch - 20ms/step\n",
            "Epoch 144/200\n",
            "1/1 - 0s - loss: 0.3294 - accuracy: 1.0000 - 18ms/epoch - 18ms/step\n",
            "Epoch 145/200\n",
            "1/1 - 0s - loss: 0.3239 - accuracy: 1.0000 - 18ms/epoch - 18ms/step\n",
            "Epoch 146/200\n",
            "1/1 - 0s - loss: 0.3184 - accuracy: 1.0000 - 18ms/epoch - 18ms/step\n",
            "Epoch 147/200\n",
            "1/1 - 0s - loss: 0.3132 - accuracy: 1.0000 - 19ms/epoch - 19ms/step\n",
            "Epoch 148/200\n",
            "1/1 - 0s - loss: 0.3080 - accuracy: 1.0000 - 19ms/epoch - 19ms/step\n",
            "Epoch 149/200\n",
            "1/1 - 0s - loss: 0.3029 - accuracy: 1.0000 - 20ms/epoch - 20ms/step\n",
            "Epoch 150/200\n",
            "1/1 - 0s - loss: 0.2979 - accuracy: 1.0000 - 28ms/epoch - 28ms/step\n",
            "Epoch 151/200\n",
            "1/1 - 0s - loss: 0.2931 - accuracy: 1.0000 - 22ms/epoch - 22ms/step\n",
            "Epoch 152/200\n",
            "1/1 - 0s - loss: 0.2883 - accuracy: 1.0000 - 19ms/epoch - 19ms/step\n",
            "Epoch 153/200\n",
            "1/1 - 0s - loss: 0.2837 - accuracy: 1.0000 - 20ms/epoch - 20ms/step\n",
            "Epoch 154/200\n",
            "1/1 - 0s - loss: 0.2792 - accuracy: 1.0000 - 20ms/epoch - 20ms/step\n",
            "Epoch 155/200\n",
            "1/1 - 0s - loss: 0.2747 - accuracy: 1.0000 - 19ms/epoch - 19ms/step\n",
            "Epoch 156/200\n",
            "1/1 - 0s - loss: 0.2703 - accuracy: 1.0000 - 20ms/epoch - 20ms/step\n",
            "Epoch 157/200\n",
            "1/1 - 0s - loss: 0.2661 - accuracy: 1.0000 - 22ms/epoch - 22ms/step\n",
            "Epoch 158/200\n",
            "1/1 - 0s - loss: 0.2619 - accuracy: 1.0000 - 23ms/epoch - 23ms/step\n",
            "Epoch 159/200\n",
            "1/1 - 0s - loss: 0.2578 - accuracy: 1.0000 - 22ms/epoch - 22ms/step\n",
            "Epoch 160/200\n",
            "1/1 - 0s - loss: 0.2538 - accuracy: 1.0000 - 23ms/epoch - 23ms/step\n",
            "Epoch 161/200\n",
            "1/1 - 0s - loss: 0.2498 - accuracy: 1.0000 - 22ms/epoch - 22ms/step\n",
            "Epoch 162/200\n",
            "1/1 - 0s - loss: 0.2460 - accuracy: 1.0000 - 20ms/epoch - 20ms/step\n",
            "Epoch 163/200\n",
            "1/1 - 0s - loss: 0.2422 - accuracy: 1.0000 - 21ms/epoch - 21ms/step\n",
            "Epoch 164/200\n",
            "1/1 - 0s - loss: 0.2385 - accuracy: 1.0000 - 20ms/epoch - 20ms/step\n",
            "Epoch 165/200\n",
            "1/1 - 0s - loss: 0.2348 - accuracy: 1.0000 - 26ms/epoch - 26ms/step\n",
            "Epoch 166/200\n",
            "1/1 - 0s - loss: 0.2312 - accuracy: 1.0000 - 24ms/epoch - 24ms/step\n",
            "Epoch 167/200\n",
            "1/1 - 0s - loss: 0.2277 - accuracy: 1.0000 - 27ms/epoch - 27ms/step\n",
            "Epoch 168/200\n",
            "1/1 - 0s - loss: 0.2242 - accuracy: 1.0000 - 22ms/epoch - 22ms/step\n",
            "Epoch 169/200\n",
            "1/1 - 0s - loss: 0.2208 - accuracy: 1.0000 - 21ms/epoch - 21ms/step\n",
            "Epoch 170/200\n",
            "1/1 - 0s - loss: 0.2175 - accuracy: 1.0000 - 25ms/epoch - 25ms/step\n",
            "Epoch 171/200\n",
            "1/1 - 0s - loss: 0.2142 - accuracy: 1.0000 - 21ms/epoch - 21ms/step\n",
            "Epoch 172/200\n",
            "1/1 - 0s - loss: 0.2109 - accuracy: 1.0000 - 29ms/epoch - 29ms/step\n",
            "Epoch 173/200\n",
            "1/1 - 0s - loss: 0.2077 - accuracy: 1.0000 - 23ms/epoch - 23ms/step\n",
            "Epoch 174/200\n",
            "1/1 - 0s - loss: 0.2046 - accuracy: 1.0000 - 22ms/epoch - 22ms/step\n",
            "Epoch 175/200\n",
            "1/1 - 0s - loss: 0.2015 - accuracy: 1.0000 - 21ms/epoch - 21ms/step\n",
            "Epoch 176/200\n",
            "1/1 - 0s - loss: 0.1984 - accuracy: 1.0000 - 20ms/epoch - 20ms/step\n",
            "Epoch 177/200\n",
            "1/1 - 0s - loss: 0.1954 - accuracy: 1.0000 - 21ms/epoch - 21ms/step\n",
            "Epoch 178/200\n",
            "1/1 - 0s - loss: 0.1924 - accuracy: 1.0000 - 20ms/epoch - 20ms/step\n",
            "Epoch 179/200\n",
            "1/1 - 0s - loss: 0.1895 - accuracy: 1.0000 - 20ms/epoch - 20ms/step\n",
            "Epoch 180/200\n",
            "1/1 - 0s - loss: 0.1866 - accuracy: 1.0000 - 17ms/epoch - 17ms/step\n",
            "Epoch 181/200\n",
            "1/1 - 0s - loss: 0.1837 - accuracy: 1.0000 - 19ms/epoch - 19ms/step\n",
            "Epoch 182/200\n",
            "1/1 - 0s - loss: 0.1809 - accuracy: 1.0000 - 20ms/epoch - 20ms/step\n",
            "Epoch 183/200\n",
            "1/1 - 0s - loss: 0.1781 - accuracy: 1.0000 - 18ms/epoch - 18ms/step\n",
            "Epoch 184/200\n",
            "1/1 - 0s - loss: 0.1753 - accuracy: 1.0000 - 18ms/epoch - 18ms/step\n",
            "Epoch 185/200\n",
            "1/1 - 0s - loss: 0.1726 - accuracy: 1.0000 - 22ms/epoch - 22ms/step\n",
            "Epoch 186/200\n",
            "1/1 - 0s - loss: 0.1699 - accuracy: 1.0000 - 24ms/epoch - 24ms/step\n",
            "Epoch 187/200\n",
            "1/1 - 0s - loss: 0.1672 - accuracy: 1.0000 - 21ms/epoch - 21ms/step\n",
            "Epoch 188/200\n",
            "1/1 - 0s - loss: 0.1646 - accuracy: 1.0000 - 19ms/epoch - 19ms/step\n",
            "Epoch 189/200\n",
            "1/1 - 0s - loss: 0.1620 - accuracy: 1.0000 - 20ms/epoch - 20ms/step\n",
            "Epoch 190/200\n",
            "1/1 - 0s - loss: 0.1594 - accuracy: 1.0000 - 22ms/epoch - 22ms/step\n",
            "Epoch 191/200\n",
            "1/1 - 0s - loss: 0.1569 - accuracy: 1.0000 - 24ms/epoch - 24ms/step\n",
            "Epoch 192/200\n",
            "1/1 - 0s - loss: 0.1543 - accuracy: 1.0000 - 22ms/epoch - 22ms/step\n",
            "Epoch 193/200\n",
            "1/1 - 0s - loss: 0.1519 - accuracy: 1.0000 - 21ms/epoch - 21ms/step\n",
            "Epoch 194/200\n",
            "1/1 - 0s - loss: 0.1494 - accuracy: 1.0000 - 22ms/epoch - 22ms/step\n",
            "Epoch 195/200\n",
            "1/1 - 0s - loss: 0.1470 - accuracy: 1.0000 - 21ms/epoch - 21ms/step\n",
            "Epoch 196/200\n",
            "1/1 - 0s - loss: 0.1446 - accuracy: 1.0000 - 22ms/epoch - 22ms/step\n",
            "Epoch 197/200\n",
            "1/1 - 0s - loss: 0.1422 - accuracy: 1.0000 - 23ms/epoch - 23ms/step\n",
            "Epoch 198/200\n",
            "1/1 - 0s - loss: 0.1399 - accuracy: 1.0000 - 21ms/epoch - 21ms/step\n",
            "Epoch 199/200\n",
            "1/1 - 0s - loss: 0.1376 - accuracy: 1.0000 - 21ms/epoch - 21ms/step\n",
            "Epoch 200/200\n",
            "1/1 - 0s - loss: 0.1353 - accuracy: 1.0000 - 20ms/epoch - 20ms/step\n"
          ]
        },
        {
          "output_type": "execute_result",
          "data": {
            "text/plain": [
              "<keras.src.callbacks.History at 0x7965660c8bb0>"
            ]
          },
          "metadata": {},
          "execution_count": 65
        }
      ]
    },
    {
      "cell_type": "code",
      "source": [
        "def sentence_generation(model, tokenizer, current_word, n): # 모델 , tokenizer , 현재  단어 , 반복할 횟수\n",
        "  init_word = current_word\n",
        "  sentence = ''\n",
        "\n",
        "  # n번 반복\n",
        "  for _ in range(n):\n",
        "    #현재 word에 대한 정수 인코딩과 패딩\n",
        "    encoded = tokenizer.texts_to_sequences([current_word])[0]\n",
        "    encoded = pad_sequences([encoded], maxlen=5, padding='pre') # 앞쪽 패딩\n",
        "\n",
        "    # 입력한 현재단어에 대해 Y를 예측, Y를 result에 저장\n",
        "    result = model.predict(encoded, verbose=0) #예측\n",
        "    result = np.argmax(result, axis=1) #가장 높은 값의 index 가져오기 -> 가장 높은 확률 가져오기\n",
        "\n",
        "    for word, index in tokenizer.word_index.items():\n",
        "      # 예측한 단어와 인덱스가 동일한 단어가 있다면 break\n",
        "      if index == result:\n",
        "        break\n",
        "\n",
        "    # 현재 단어 + ' ' + 예측 단어를 현재 단어로 변경\n",
        "    current_word = current_word + ' ' + word\n",
        "\n",
        "    # 예측 단어를 문장에 저장\n",
        "    sentence = sentence + ' ' + word\n",
        "\n",
        "  sentence = init_word + sentence\n",
        "  return sentence"
      ],
      "metadata": {
        "id": "KE4glueUreca"
      },
      "execution_count": 66,
      "outputs": []
    },
    {
      "cell_type": "code",
      "source": [
        "print(sentence_generation(model, tokenizer, '가 는', 5))\n",
        "# 아직 멍청한데?"
      ],
      "metadata": {
        "colab": {
          "base_uri": "https://localhost:8080/"
        },
        "id": "RelNc9qQsGj3",
        "outputId": "9d6ea697-e3be-40a5-f400-af93a3d72995"
      },
      "execution_count": 67,
      "outputs": [
        {
          "output_type": "stream",
          "name": "stdout",
          "text": [
            "가 는 말이 말이 있는 말이 곱다\n"
          ]
        }
      ]
    },
    {
      "cell_type": "code",
      "source": [
        "df = pd.read_csv('/content/ArticlesApril2018.csv')\n",
        "df.head()"
      ],
      "metadata": {
        "colab": {
          "base_uri": "https://localhost:8080/",
          "height": 660
        },
        "id": "Z4kLkuZVsheg",
        "outputId": "0cbdaa37-77d2-48dc-919f-b0ba4d26181e"
      },
      "execution_count": 82,
      "outputs": [
        {
          "output_type": "execute_result",
          "data": {
            "text/plain": [
              "                  articleID  articleWordCount  \\\n",
              "0  5adf6684068401528a2aa69b               781   \n",
              "1  5adf653f068401528a2aa697               656   \n",
              "2  5adf4626068401528a2aa628              2427   \n",
              "3  5adf40d2068401528a2aa619               626   \n",
              "4  5adf3d64068401528a2aa60f               815   \n",
              "\n",
              "                                      byline documentType  \\\n",
              "0                             By JOHN BRANCH      article   \n",
              "1                           By LISA FRIEDMAN      article   \n",
              "2                              By PETE WELLS      article   \n",
              "3  By JULIE HIRSCHFELD DAVIS and PETER BAKER      article   \n",
              "4             By IAN AUSTEN and DAN BILEFSKY      article   \n",
              "\n",
              "                                            headline  \\\n",
              "0  Former N.F.L. Cheerleaders’ Settlement Offer: ...   \n",
              "1  E.P.A. to Unveil a New Rule. Its Effect: Less ...   \n",
              "2                            The New Noma, Explained   \n",
              "3                                            Unknown   \n",
              "4                                            Unknown   \n",
              "\n",
              "                                            keywords  multimedia     newDesk  \\\n",
              "0  ['Workplace Hazards and Violations', 'Football...          68      Sports   \n",
              "1  ['Environmental Protection Agency', 'Pruitt, S...          68     Climate   \n",
              "2  ['Restaurants', 'Noma (Copenhagen, Restaurant)...          66      Dining   \n",
              "3  ['Macron, Emmanuel (1977- )', 'Trump, Donald J...          68  Washington   \n",
              "4  ['Toronto, Ontario, Attack (April, 2018)', 'Mu...          68     Foreign   \n",
              "\n",
              "   printPage              pubDate   sectionName  \\\n",
              "0          0  2018-04-24 17:16:49  Pro Football   \n",
              "1          0  2018-04-24 17:11:21       Unknown   \n",
              "2          0  2018-04-24 14:58:44       Unknown   \n",
              "3          0  2018-04-24 14:35:57        Europe   \n",
              "4          0  2018-04-24 14:21:21        Canada   \n",
              "\n",
              "                                             snippet              source  \\\n",
              "0  “I understand that they could meet with us, pa...  The New York Times   \n",
              "1  The agency plans to publish a new regulation T...  The New York Times   \n",
              "2  What’s it like to eat at the second incarnatio...  The New York Times   \n",
              "3  President Trump welcomed President Emmanuel Ma...  The New York Times   \n",
              "4  Alek Minassian, 25, a resident of Toronto’s Ri...  The New York Times   \n",
              "\n",
              "  typeOfMaterial                                             webURL  \n",
              "0           News  https://www.nytimes.com/2018/04/24/sports/foot...  \n",
              "1           News  https://www.nytimes.com/2018/04/24/climate/epa...  \n",
              "2           News  https://www.nytimes.com/2018/04/24/dining/noma...  \n",
              "3           News  https://www.nytimes.com/2018/04/24/world/europ...  \n",
              "4           News  https://www.nytimes.com/2018/04/24/world/canad...  "
            ],
            "text/html": [
              "\n",
              "  <div id=\"df-b2a0537b-ab88-47b3-94fa-154c06af4eb7\" class=\"colab-df-container\">\n",
              "    <div>\n",
              "<style scoped>\n",
              "    .dataframe tbody tr th:only-of-type {\n",
              "        vertical-align: middle;\n",
              "    }\n",
              "\n",
              "    .dataframe tbody tr th {\n",
              "        vertical-align: top;\n",
              "    }\n",
              "\n",
              "    .dataframe thead th {\n",
              "        text-align: right;\n",
              "    }\n",
              "</style>\n",
              "<table border=\"1\" class=\"dataframe\">\n",
              "  <thead>\n",
              "    <tr style=\"text-align: right;\">\n",
              "      <th></th>\n",
              "      <th>articleID</th>\n",
              "      <th>articleWordCount</th>\n",
              "      <th>byline</th>\n",
              "      <th>documentType</th>\n",
              "      <th>headline</th>\n",
              "      <th>keywords</th>\n",
              "      <th>multimedia</th>\n",
              "      <th>newDesk</th>\n",
              "      <th>printPage</th>\n",
              "      <th>pubDate</th>\n",
              "      <th>sectionName</th>\n",
              "      <th>snippet</th>\n",
              "      <th>source</th>\n",
              "      <th>typeOfMaterial</th>\n",
              "      <th>webURL</th>\n",
              "    </tr>\n",
              "  </thead>\n",
              "  <tbody>\n",
              "    <tr>\n",
              "      <th>0</th>\n",
              "      <td>5adf6684068401528a2aa69b</td>\n",
              "      <td>781</td>\n",
              "      <td>By JOHN BRANCH</td>\n",
              "      <td>article</td>\n",
              "      <td>Former N.F.L. Cheerleaders’ Settlement Offer: ...</td>\n",
              "      <td>['Workplace Hazards and Violations', 'Football...</td>\n",
              "      <td>68</td>\n",
              "      <td>Sports</td>\n",
              "      <td>0</td>\n",
              "      <td>2018-04-24 17:16:49</td>\n",
              "      <td>Pro Football</td>\n",
              "      <td>“I understand that they could meet with us, pa...</td>\n",
              "      <td>The New York Times</td>\n",
              "      <td>News</td>\n",
              "      <td>https://www.nytimes.com/2018/04/24/sports/foot...</td>\n",
              "    </tr>\n",
              "    <tr>\n",
              "      <th>1</th>\n",
              "      <td>5adf653f068401528a2aa697</td>\n",
              "      <td>656</td>\n",
              "      <td>By LISA FRIEDMAN</td>\n",
              "      <td>article</td>\n",
              "      <td>E.P.A. to Unveil a New Rule. Its Effect: Less ...</td>\n",
              "      <td>['Environmental Protection Agency', 'Pruitt, S...</td>\n",
              "      <td>68</td>\n",
              "      <td>Climate</td>\n",
              "      <td>0</td>\n",
              "      <td>2018-04-24 17:11:21</td>\n",
              "      <td>Unknown</td>\n",
              "      <td>The agency plans to publish a new regulation T...</td>\n",
              "      <td>The New York Times</td>\n",
              "      <td>News</td>\n",
              "      <td>https://www.nytimes.com/2018/04/24/climate/epa...</td>\n",
              "    </tr>\n",
              "    <tr>\n",
              "      <th>2</th>\n",
              "      <td>5adf4626068401528a2aa628</td>\n",
              "      <td>2427</td>\n",
              "      <td>By PETE WELLS</td>\n",
              "      <td>article</td>\n",
              "      <td>The New Noma, Explained</td>\n",
              "      <td>['Restaurants', 'Noma (Copenhagen, Restaurant)...</td>\n",
              "      <td>66</td>\n",
              "      <td>Dining</td>\n",
              "      <td>0</td>\n",
              "      <td>2018-04-24 14:58:44</td>\n",
              "      <td>Unknown</td>\n",
              "      <td>What’s it like to eat at the second incarnatio...</td>\n",
              "      <td>The New York Times</td>\n",
              "      <td>News</td>\n",
              "      <td>https://www.nytimes.com/2018/04/24/dining/noma...</td>\n",
              "    </tr>\n",
              "    <tr>\n",
              "      <th>3</th>\n",
              "      <td>5adf40d2068401528a2aa619</td>\n",
              "      <td>626</td>\n",
              "      <td>By JULIE HIRSCHFELD DAVIS and PETER BAKER</td>\n",
              "      <td>article</td>\n",
              "      <td>Unknown</td>\n",
              "      <td>['Macron, Emmanuel (1977- )', 'Trump, Donald J...</td>\n",
              "      <td>68</td>\n",
              "      <td>Washington</td>\n",
              "      <td>0</td>\n",
              "      <td>2018-04-24 14:35:57</td>\n",
              "      <td>Europe</td>\n",
              "      <td>President Trump welcomed President Emmanuel Ma...</td>\n",
              "      <td>The New York Times</td>\n",
              "      <td>News</td>\n",
              "      <td>https://www.nytimes.com/2018/04/24/world/europ...</td>\n",
              "    </tr>\n",
              "    <tr>\n",
              "      <th>4</th>\n",
              "      <td>5adf3d64068401528a2aa60f</td>\n",
              "      <td>815</td>\n",
              "      <td>By IAN AUSTEN and DAN BILEFSKY</td>\n",
              "      <td>article</td>\n",
              "      <td>Unknown</td>\n",
              "      <td>['Toronto, Ontario, Attack (April, 2018)', 'Mu...</td>\n",
              "      <td>68</td>\n",
              "      <td>Foreign</td>\n",
              "      <td>0</td>\n",
              "      <td>2018-04-24 14:21:21</td>\n",
              "      <td>Canada</td>\n",
              "      <td>Alek Minassian, 25, a resident of Toronto’s Ri...</td>\n",
              "      <td>The New York Times</td>\n",
              "      <td>News</td>\n",
              "      <td>https://www.nytimes.com/2018/04/24/world/canad...</td>\n",
              "    </tr>\n",
              "  </tbody>\n",
              "</table>\n",
              "</div>\n",
              "    <div class=\"colab-df-buttons\">\n",
              "\n",
              "  <div class=\"colab-df-container\">\n",
              "    <button class=\"colab-df-convert\" onclick=\"convertToInteractive('df-b2a0537b-ab88-47b3-94fa-154c06af4eb7')\"\n",
              "            title=\"Convert this dataframe to an interactive table.\"\n",
              "            style=\"display:none;\">\n",
              "\n",
              "  <svg xmlns=\"http://www.w3.org/2000/svg\" height=\"24px\" viewBox=\"0 -960 960 960\">\n",
              "    <path d=\"M120-120v-720h720v720H120Zm60-500h600v-160H180v160Zm220 220h160v-160H400v160Zm0 220h160v-160H400v160ZM180-400h160v-160H180v160Zm440 0h160v-160H620v160ZM180-180h160v-160H180v160Zm440 0h160v-160H620v160Z\"/>\n",
              "  </svg>\n",
              "    </button>\n",
              "\n",
              "  <style>\n",
              "    .colab-df-container {\n",
              "      display:flex;\n",
              "      gap: 12px;\n",
              "    }\n",
              "\n",
              "    .colab-df-convert {\n",
              "      background-color: #E8F0FE;\n",
              "      border: none;\n",
              "      border-radius: 50%;\n",
              "      cursor: pointer;\n",
              "      display: none;\n",
              "      fill: #1967D2;\n",
              "      height: 32px;\n",
              "      padding: 0 0 0 0;\n",
              "      width: 32px;\n",
              "    }\n",
              "\n",
              "    .colab-df-convert:hover {\n",
              "      background-color: #E2EBFA;\n",
              "      box-shadow: 0px 1px 2px rgba(60, 64, 67, 0.3), 0px 1px 3px 1px rgba(60, 64, 67, 0.15);\n",
              "      fill: #174EA6;\n",
              "    }\n",
              "\n",
              "    .colab-df-buttons div {\n",
              "      margin-bottom: 4px;\n",
              "    }\n",
              "\n",
              "    [theme=dark] .colab-df-convert {\n",
              "      background-color: #3B4455;\n",
              "      fill: #D2E3FC;\n",
              "    }\n",
              "\n",
              "    [theme=dark] .colab-df-convert:hover {\n",
              "      background-color: #434B5C;\n",
              "      box-shadow: 0px 1px 3px 1px rgba(0, 0, 0, 0.15);\n",
              "      filter: drop-shadow(0px 1px 2px rgba(0, 0, 0, 0.3));\n",
              "      fill: #FFFFFF;\n",
              "    }\n",
              "  </style>\n",
              "\n",
              "    <script>\n",
              "      const buttonEl =\n",
              "        document.querySelector('#df-b2a0537b-ab88-47b3-94fa-154c06af4eb7 button.colab-df-convert');\n",
              "      buttonEl.style.display =\n",
              "        google.colab.kernel.accessAllowed ? 'block' : 'none';\n",
              "\n",
              "      async function convertToInteractive(key) {\n",
              "        const element = document.querySelector('#df-b2a0537b-ab88-47b3-94fa-154c06af4eb7');\n",
              "        const dataTable =\n",
              "          await google.colab.kernel.invokeFunction('convertToInteractive',\n",
              "                                                    [key], {});\n",
              "        if (!dataTable) return;\n",
              "\n",
              "        const docLinkHtml = 'Like what you see? Visit the ' +\n",
              "          '<a target=\"_blank\" href=https://colab.research.google.com/notebooks/data_table.ipynb>data table notebook</a>'\n",
              "          + ' to learn more about interactive tables.';\n",
              "        element.innerHTML = '';\n",
              "        dataTable['output_type'] = 'display_data';\n",
              "        await google.colab.output.renderOutput(dataTable, element);\n",
              "        const docLink = document.createElement('div');\n",
              "        docLink.innerHTML = docLinkHtml;\n",
              "        element.appendChild(docLink);\n",
              "      }\n",
              "    </script>\n",
              "  </div>\n",
              "\n",
              "\n",
              "<div id=\"df-6700dfc4-2216-4b38-b221-3855136f7ab6\">\n",
              "  <button class=\"colab-df-quickchart\" onclick=\"quickchart('df-6700dfc4-2216-4b38-b221-3855136f7ab6')\"\n",
              "            title=\"Suggest charts.\"\n",
              "            style=\"display:none;\">\n",
              "\n",
              "<svg xmlns=\"http://www.w3.org/2000/svg\" height=\"24px\"viewBox=\"0 0 24 24\"\n",
              "     width=\"24px\">\n",
              "    <g>\n",
              "        <path d=\"M19 3H5c-1.1 0-2 .9-2 2v14c0 1.1.9 2 2 2h14c1.1 0 2-.9 2-2V5c0-1.1-.9-2-2-2zM9 17H7v-7h2v7zm4 0h-2V7h2v10zm4 0h-2v-4h2v4z\"/>\n",
              "    </g>\n",
              "</svg>\n",
              "  </button>\n",
              "\n",
              "<style>\n",
              "  .colab-df-quickchart {\n",
              "      --bg-color: #E8F0FE;\n",
              "      --fill-color: #1967D2;\n",
              "      --hover-bg-color: #E2EBFA;\n",
              "      --hover-fill-color: #174EA6;\n",
              "      --disabled-fill-color: #AAA;\n",
              "      --disabled-bg-color: #DDD;\n",
              "  }\n",
              "\n",
              "  [theme=dark] .colab-df-quickchart {\n",
              "      --bg-color: #3B4455;\n",
              "      --fill-color: #D2E3FC;\n",
              "      --hover-bg-color: #434B5C;\n",
              "      --hover-fill-color: #FFFFFF;\n",
              "      --disabled-bg-color: #3B4455;\n",
              "      --disabled-fill-color: #666;\n",
              "  }\n",
              "\n",
              "  .colab-df-quickchart {\n",
              "    background-color: var(--bg-color);\n",
              "    border: none;\n",
              "    border-radius: 50%;\n",
              "    cursor: pointer;\n",
              "    display: none;\n",
              "    fill: var(--fill-color);\n",
              "    height: 32px;\n",
              "    padding: 0;\n",
              "    width: 32px;\n",
              "  }\n",
              "\n",
              "  .colab-df-quickchart:hover {\n",
              "    background-color: var(--hover-bg-color);\n",
              "    box-shadow: 0 1px 2px rgba(60, 64, 67, 0.3), 0 1px 3px 1px rgba(60, 64, 67, 0.15);\n",
              "    fill: var(--button-hover-fill-color);\n",
              "  }\n",
              "\n",
              "  .colab-df-quickchart-complete:disabled,\n",
              "  .colab-df-quickchart-complete:disabled:hover {\n",
              "    background-color: var(--disabled-bg-color);\n",
              "    fill: var(--disabled-fill-color);\n",
              "    box-shadow: none;\n",
              "  }\n",
              "\n",
              "  .colab-df-spinner {\n",
              "    border: 2px solid var(--fill-color);\n",
              "    border-color: transparent;\n",
              "    border-bottom-color: var(--fill-color);\n",
              "    animation:\n",
              "      spin 1s steps(1) infinite;\n",
              "  }\n",
              "\n",
              "  @keyframes spin {\n",
              "    0% {\n",
              "      border-color: transparent;\n",
              "      border-bottom-color: var(--fill-color);\n",
              "      border-left-color: var(--fill-color);\n",
              "    }\n",
              "    20% {\n",
              "      border-color: transparent;\n",
              "      border-left-color: var(--fill-color);\n",
              "      border-top-color: var(--fill-color);\n",
              "    }\n",
              "    30% {\n",
              "      border-color: transparent;\n",
              "      border-left-color: var(--fill-color);\n",
              "      border-top-color: var(--fill-color);\n",
              "      border-right-color: var(--fill-color);\n",
              "    }\n",
              "    40% {\n",
              "      border-color: transparent;\n",
              "      border-right-color: var(--fill-color);\n",
              "      border-top-color: var(--fill-color);\n",
              "    }\n",
              "    60% {\n",
              "      border-color: transparent;\n",
              "      border-right-color: var(--fill-color);\n",
              "    }\n",
              "    80% {\n",
              "      border-color: transparent;\n",
              "      border-right-color: var(--fill-color);\n",
              "      border-bottom-color: var(--fill-color);\n",
              "    }\n",
              "    90% {\n",
              "      border-color: transparent;\n",
              "      border-bottom-color: var(--fill-color);\n",
              "    }\n",
              "  }\n",
              "</style>\n",
              "\n",
              "  <script>\n",
              "    async function quickchart(key) {\n",
              "      const quickchartButtonEl =\n",
              "        document.querySelector('#' + key + ' button');\n",
              "      quickchartButtonEl.disabled = true;  // To prevent multiple clicks.\n",
              "      quickchartButtonEl.classList.add('colab-df-spinner');\n",
              "      try {\n",
              "        const charts = await google.colab.kernel.invokeFunction(\n",
              "            'suggestCharts', [key], {});\n",
              "      } catch (error) {\n",
              "        console.error('Error during call to suggestCharts:', error);\n",
              "      }\n",
              "      quickchartButtonEl.classList.remove('colab-df-spinner');\n",
              "      quickchartButtonEl.classList.add('colab-df-quickchart-complete');\n",
              "    }\n",
              "    (() => {\n",
              "      let quickchartButtonEl =\n",
              "        document.querySelector('#df-6700dfc4-2216-4b38-b221-3855136f7ab6 button');\n",
              "      quickchartButtonEl.style.display =\n",
              "        google.colab.kernel.accessAllowed ? 'block' : 'none';\n",
              "    })();\n",
              "  </script>\n",
              "</div>\n",
              "    </div>\n",
              "  </div>\n"
            ]
          },
          "metadata": {},
          "execution_count": 82
        }
      ]
    },
    {
      "cell_type": "code",
      "source": [
        "print('열 의 개 수: ',len(df.columns))\n",
        "print(df.columns)"
      ],
      "metadata": {
        "colab": {
          "base_uri": "https://localhost:8080/"
        },
        "id": "MxqPxZqKtpPh",
        "outputId": "b5a9ffd1-b5d6-4199-93af-fa447b24d8c3"
      },
      "execution_count": 83,
      "outputs": [
        {
          "output_type": "stream",
          "name": "stdout",
          "text": [
            "열 의 개 수:  15\n",
            "Index(['articleID', 'articleWordCount', 'byline', 'documentType', 'headline',\n",
            "       'keywords', 'multimedia', 'newDesk', 'printPage', 'pubDate',\n",
            "       'sectionName', 'snippet', 'source', 'typeOfMaterial', 'webURL'],\n",
            "      dtype='object')\n"
          ]
        }
      ]
    },
    {
      "cell_type": "code",
      "source": [
        "# Null 값 검사\n",
        "print(df['headline'].isnull().values.any())"
      ],
      "metadata": {
        "colab": {
          "base_uri": "https://localhost:8080/"
        },
        "id": "o2hIWFvUtxFD",
        "outputId": "a44d6a60-bd26-4fed-c98b-6d62827e1f16"
      },
      "execution_count": 84,
      "outputs": [
        {
          "output_type": "stream",
          "name": "stdout",
          "text": [
            "False\n"
          ]
        }
      ]
    },
    {
      "cell_type": "code",
      "source": [
        "# headline의 값을 list로 저장\n",
        "headline = []\n",
        "\n",
        "headline.extend(list(df.headline.values))\n",
        "headline[:5]"
      ],
      "metadata": {
        "colab": {
          "base_uri": "https://localhost:8080/"
        },
        "id": "XDWfESsYt63H",
        "outputId": "013f5aa1-fda0-4083-8659-8359e960e8e8"
      },
      "execution_count": 85,
      "outputs": [
        {
          "output_type": "execute_result",
          "data": {
            "text/plain": [
              "['Former N.F.L. Cheerleaders’ Settlement Offer: $1 and a Meeting With Goodell',\n",
              " 'E.P.A. to Unveil a New Rule. Its Effect: Less Science in Policymaking.',\n",
              " 'The New Noma, Explained',\n",
              " 'Unknown',\n",
              " 'Unknown']"
            ]
          },
          "metadata": {},
          "execution_count": 85
        }
      ]
    },
    {
      "cell_type": "code",
      "source": [
        "print('samples : {}'.format(len(headline)))"
      ],
      "metadata": {
        "colab": {
          "base_uri": "https://localhost:8080/"
        },
        "id": "ZhiVePYnuHj0",
        "outputId": "5134208a-6e4d-4608-9d29-589ff56a4ea7"
      },
      "execution_count": 86,
      "outputs": [
        {
          "output_type": "stream",
          "name": "stdout",
          "text": [
            "samples : 1324\n"
          ]
        }
      ]
    },
    {
      "cell_type": "code",
      "source": [
        "# noise 제거하기 - unknown 불필요\n",
        "headline = [word for word in headline if word != \"Unknown\"]\n",
        "print('samples without noise : {}'.format(len(headline)))"
      ],
      "metadata": {
        "colab": {
          "base_uri": "https://localhost:8080/"
        },
        "id": "7ljUBmzsuOtt",
        "outputId": "ca8ddc80-419f-491b-baba-0264a27a14cc"
      },
      "execution_count": 87,
      "outputs": [
        {
          "output_type": "stream",
          "name": "stdout",
          "text": [
            "samples without noise : 1214\n"
          ]
        }
      ]
    },
    {
      "cell_type": "code",
      "source": [
        "# 제거 후 check\n",
        "headline[:5]"
      ],
      "metadata": {
        "colab": {
          "base_uri": "https://localhost:8080/"
        },
        "id": "pklC_3z1uVUk",
        "outputId": "82765bce-2a6c-4907-d319-4db040d3c5f6"
      },
      "execution_count": 88,
      "outputs": [
        {
          "output_type": "execute_result",
          "data": {
            "text/plain": [
              "['Former N.F.L. Cheerleaders’ Settlement Offer: $1 and a Meeting With Goodell',\n",
              " 'E.P.A. to Unveil a New Rule. Its Effect: Less Science in Policymaking.',\n",
              " 'The New Noma, Explained',\n",
              " 'How a Bag of Texas Dirt  Became a Times Tradition',\n",
              " 'Is School a Place for Self-Expression?']"
            ]
          },
          "metadata": {},
          "execution_count": 88
        }
      ]
    },
    {
      "cell_type": "code",
      "source": [
        "# text 전처리 - 구두점 제거& 단어의 소문자화\n",
        "def repreprocessing(raw_sentence):\n",
        "  preproceseed_sentence = raw_sentence.encode(\"utf8\").decode(\"ascii\",'ignore')\n",
        "  return ''.join(word for word in preproceseed_sentence if word not in punctuation).lower()\n",
        "\n",
        "# headline list에 있는 모든 요소 전처리\n",
        "preprocessed_headline = [repreprocessing(x) for x in headline]\n",
        "preprocessed_headline[:5]"
      ],
      "metadata": {
        "colab": {
          "base_uri": "https://localhost:8080/"
        },
        "id": "YD-6fvrxu0ts",
        "outputId": "858b0f7a-fe27-4f6f-8a5a-0e7096dcc42b"
      },
      "execution_count": 89,
      "outputs": [
        {
          "output_type": "execute_result",
          "data": {
            "text/plain": [
              "['former nfl cheerleaders settlement offer 1 and a meeting with goodell',\n",
              " 'epa to unveil a new rule its effect less science in policymaking',\n",
              " 'the new noma explained',\n",
              " 'how a bag of texas dirt  became a times tradition',\n",
              " 'is school a place for selfexpression']"
            ]
          },
          "metadata": {},
          "execution_count": 89
        }
      ]
    },
    {
      "cell_type": "code",
      "source": [
        "tokenizer = Tokenizer()\n",
        "\n",
        "#문자 데이터를 입력받아서 리스트의 형태로 변환한다.\n",
        "tokenizer.fit_on_texts(preprocessed_headline)\n",
        "vocab_size = len(tokenizer.word_index) + 1\n",
        "print('vocab size : %d' % vocab_size)"
      ],
      "metadata": {
        "colab": {
          "base_uri": "https://localhost:8080/"
        },
        "id": "CzXtyqT6vB7R",
        "outputId": "32a6e265-e8e1-41e2-b1b2-c246cc79d2d0"
      },
      "execution_count": 90,
      "outputs": [
        {
          "output_type": "stream",
          "name": "stdout",
          "text": [
            "vocab size : 3494\n"
          ]
        }
      ]
    },
    {
      "cell_type": "code",
      "source": [
        "# 최종적으로 원하는 훈련 데이터의 형태\n",
        "# 하나의 단어를 예측하기 위해 이전에 등장한 단어들을 모두 참고하는 것.\n",
        "sequences = list()\n",
        "for sentence in preprocessed_headline:\n",
        "  # 정수 인코딩\n",
        "  encoded = tokenizer.texts_to_sequences([sentence])[0] #접근하기 위해 뒤에 [0]\n",
        "  for i in range(1, len(encoded)):\n",
        "    sequence = encoded[:i+1]\n",
        "    sequences.append(sequence)\n",
        "sequences[:11]"
      ],
      "metadata": {
        "colab": {
          "base_uri": "https://localhost:8080/"
        },
        "id": "NY-Rwg54vJdl",
        "outputId": "3ebd5d03-f33f-448b-ed20-295ee984c5fe"
      },
      "execution_count": 93,
      "outputs": [
        {
          "output_type": "execute_result",
          "data": {
            "text/plain": [
              "[[99, 269],\n",
              " [99, 269, 371],\n",
              " [99, 269, 371, 1115],\n",
              " [99, 269, 371, 1115, 582],\n",
              " [99, 269, 371, 1115, 582, 52],\n",
              " [99, 269, 371, 1115, 582, 52, 7],\n",
              " [99, 269, 371, 1115, 582, 52, 7, 2],\n",
              " [99, 269, 371, 1115, 582, 52, 7, 2, 372],\n",
              " [99, 269, 371, 1115, 582, 52, 7, 2, 372, 10],\n",
              " [99, 269, 371, 1115, 582, 52, 7, 2, 372, 10, 1116],\n",
              " [100, 3]]"
            ]
          },
          "metadata": {},
          "execution_count": 93
        }
      ]
    },
    {
      "cell_type": "code",
      "source": [
        "# 인덱스를 단어로 바꾸귀 휘해 index_to_word 생성\n",
        "index_to_word = {}\n",
        "for key, value in tokenizer.word_index.items():\n",
        "  index_to_word[value] = key\n",
        "print('빈도수 상위 582번 단어 : {}'.format(index_to_word[582]))\n",
        "\n",
        "#582번 인덱스 = offer"
      ],
      "metadata": {
        "colab": {
          "base_uri": "https://localhost:8080/"
        },
        "id": "6ejFSY9Evfbd",
        "outputId": "38077bfe-3943-4311-f2c4-32f1f8b3d51b"
      },
      "execution_count": 94,
      "outputs": [
        {
          "output_type": "stream",
          "name": "stdout",
          "text": [
            "빈도수 상위 582번 단어 : offer\n"
          ]
        }
      ]
    },
    {
      "cell_type": "code",
      "source": [
        "# padding\n",
        "max_len = max(len(l) for l in sequences)\n",
        "print('sample max len : {}'.format(max_len))"
      ],
      "metadata": {
        "colab": {
          "base_uri": "https://localhost:8080/"
        },
        "id": "dC9e5PzDwl-J",
        "outputId": "535d6abe-f608-40c4-e1a2-abc16c1d3cfa"
      },
      "execution_count": 95,
      "outputs": [
        {
          "output_type": "stream",
          "name": "stdout",
          "text": [
            "sample max len : 24\n"
          ]
        }
      ]
    },
    {
      "cell_type": "code",
      "source": [
        "sequences = pad_sequences(sequences, maxlen=max_len, padding='pre')\n",
        "print(sequences[:3])"
      ],
      "metadata": {
        "colab": {
          "base_uri": "https://localhost:8080/"
        },
        "id": "16JUieXEww2a",
        "outputId": "539dd75f-c48b-4619-a33b-e89f81f6e0f4"
      },
      "execution_count": 96,
      "outputs": [
        {
          "output_type": "stream",
          "name": "stdout",
          "text": [
            "[[   0    0    0    0    0    0    0    0    0    0    0    0    0    0\n",
            "     0    0    0    0    0    0    0    0   99  269]\n",
            " [   0    0    0    0    0    0    0    0    0    0    0    0    0    0\n",
            "     0    0    0    0    0    0    0   99  269  371]\n",
            " [   0    0    0    0    0    0    0    0    0    0    0    0    0    0\n",
            "     0    0    0    0    0    0   99  269  371 1115]]\n"
          ]
        }
      ]
    },
    {
      "cell_type": "code",
      "source": [
        "# 맨 우측 단어 = label\n",
        "sequences = np.array(sequences)\n",
        "X = sequences[:,:-1]\n",
        "y = sequences[:,-1]"
      ],
      "metadata": {
        "id": "0mwrMt7Kwy8u"
      },
      "execution_count": 97,
      "outputs": []
    },
    {
      "cell_type": "code",
      "source": [
        "y = to_categorical(y, num_classes=vocab_size)"
      ],
      "metadata": {
        "id": "YcRCjzFTw7SD"
      },
      "execution_count": 98,
      "outputs": []
    },
    {
      "cell_type": "code",
      "source": [
        "# model\n",
        "embedding_dim = 10\n",
        "hidden_units = 128 #은닉 노드 128개\n",
        "\n",
        "\n",
        "model = Sequential() # 순차적으로 쌓기\n",
        "model.add(Embedding(vocab_size, embedding_dim)) #입력 크기\n",
        "model.add(LSTM(hidden_units))\n",
        "model.add(Dense(vocab_size, activation='softmax'))\n",
        "model.compile(loss='categorical_crossentropy', optimizer='adam', metrics=['accuracy'])\n",
        "model.fit(X, y, epochs=200, verbose=2)"
      ],
      "metadata": {
        "colab": {
          "base_uri": "https://localhost:8080/"
        },
        "id": "6El5CoMEw-4M",
        "outputId": "745d519f-86f4-4fb1-87c5-7c3d8c69d0f4"
      },
      "execution_count": 99,
      "outputs": [
        {
          "output_type": "stream",
          "name": "stdout",
          "text": [
            "Epoch 1/200\n",
            "244/244 - 16s - loss: 7.6430 - accuracy: 0.0304 - 16s/epoch - 64ms/step\n",
            "Epoch 2/200\n",
            "244/244 - 4s - loss: 7.1204 - accuracy: 0.0310 - 4s/epoch - 17ms/step\n",
            "Epoch 3/200\n",
            "244/244 - 3s - loss: 6.9780 - accuracy: 0.0310 - 3s/epoch - 14ms/step\n",
            "Epoch 4/200\n",
            "244/244 - 3s - loss: 6.8603 - accuracy: 0.0404 - 3s/epoch - 11ms/step\n",
            "Epoch 5/200\n",
            "244/244 - 2s - loss: 6.7430 - accuracy: 0.0415 - 2s/epoch - 8ms/step\n",
            "Epoch 6/200\n",
            "244/244 - 2s - loss: 6.5644 - accuracy: 0.0466 - 2s/epoch - 9ms/step\n",
            "Epoch 7/200\n",
            "244/244 - 2s - loss: 6.3854 - accuracy: 0.0509 - 2s/epoch - 6ms/step\n",
            "Epoch 8/200\n",
            "244/244 - 2s - loss: 6.1877 - accuracy: 0.0573 - 2s/epoch - 7ms/step\n",
            "Epoch 9/200\n",
            "244/244 - 2s - loss: 5.9837 - accuracy: 0.0601 - 2s/epoch - 9ms/step\n",
            "Epoch 10/200\n",
            "244/244 - 2s - loss: 5.7911 - accuracy: 0.0633 - 2s/epoch - 8ms/step\n",
            "Epoch 11/200\n",
            "244/244 - 2s - loss: 5.6098 - accuracy: 0.0656 - 2s/epoch - 10ms/step\n",
            "Epoch 12/200\n",
            "244/244 - 2s - loss: 5.4346 - accuracy: 0.0736 - 2s/epoch - 8ms/step\n",
            "Epoch 13/200\n",
            "244/244 - 2s - loss: 5.2694 - accuracy: 0.0793 - 2s/epoch - 8ms/step\n",
            "Epoch 14/200\n",
            "244/244 - 2s - loss: 5.1135 - accuracy: 0.0841 - 2s/epoch - 9ms/step\n",
            "Epoch 15/200\n",
            "244/244 - 2s - loss: 4.9642 - accuracy: 0.0928 - 2s/epoch - 10ms/step\n",
            "Epoch 16/200\n",
            "244/244 - 2s - loss: 4.8215 - accuracy: 0.1021 - 2s/epoch - 9ms/step\n",
            "Epoch 17/200\n",
            "244/244 - 2s - loss: 4.6853 - accuracy: 0.1150 - 2s/epoch - 9ms/step\n",
            "Epoch 18/200\n",
            "244/244 - 2s - loss: 4.5517 - accuracy: 0.1293 - 2s/epoch - 9ms/step\n",
            "Epoch 19/200\n",
            "244/244 - 2s - loss: 4.4249 - accuracy: 0.1439 - 2s/epoch - 8ms/step\n",
            "Epoch 20/200\n",
            "244/244 - 2s - loss: 4.3056 - accuracy: 0.1592 - 2s/epoch - 6ms/step\n",
            "Epoch 21/200\n",
            "244/244 - 2s - loss: 4.1869 - accuracy: 0.1786 - 2s/epoch - 7ms/step\n",
            "Epoch 22/200\n",
            "244/244 - 2s - loss: 4.0718 - accuracy: 0.1933 - 2s/epoch - 9ms/step\n",
            "Epoch 23/200\n",
            "244/244 - 2s - loss: 3.9619 - accuracy: 0.2135 - 2s/epoch - 7ms/step\n",
            "Epoch 24/200\n",
            "244/244 - 2s - loss: 3.8549 - accuracy: 0.2273 - 2s/epoch - 7ms/step\n",
            "Epoch 25/200\n",
            "244/244 - 2s - loss: 3.7533 - accuracy: 0.2491 - 2s/epoch - 8ms/step\n",
            "Epoch 26/200\n",
            "244/244 - 2s - loss: 3.6545 - accuracy: 0.2600 - 2s/epoch - 7ms/step\n",
            "Epoch 27/200\n",
            "244/244 - 2s - loss: 3.5599 - accuracy: 0.2836 - 2s/epoch - 6ms/step\n",
            "Epoch 28/200\n",
            "244/244 - 2s - loss: 3.4633 - accuracy: 0.2972 - 2s/epoch - 8ms/step\n",
            "Epoch 29/200\n",
            "244/244 - 2s - loss: 3.3737 - accuracy: 0.3136 - 2s/epoch - 8ms/step\n",
            "Epoch 30/200\n",
            "244/244 - 1s - loss: 3.2870 - accuracy: 0.3309 - 1s/epoch - 6ms/step\n",
            "Epoch 31/200\n",
            "244/244 - 2s - loss: 3.1994 - accuracy: 0.3483 - 2s/epoch - 7ms/step\n",
            "Epoch 32/200\n",
            "244/244 - 2s - loss: 3.1235 - accuracy: 0.3628 - 2s/epoch - 7ms/step\n",
            "Epoch 33/200\n",
            "244/244 - 2s - loss: 3.0392 - accuracy: 0.3801 - 2s/epoch - 7ms/step\n",
            "Epoch 34/200\n",
            "244/244 - 2s - loss: 2.9634 - accuracy: 0.3909 - 2s/epoch - 8ms/step\n",
            "Epoch 35/200\n",
            "244/244 - 4s - loss: 2.8890 - accuracy: 0.4063 - 4s/epoch - 15ms/step\n",
            "Epoch 36/200\n",
            "244/244 - 2s - loss: 2.8159 - accuracy: 0.4215 - 2s/epoch - 7ms/step\n",
            "Epoch 37/200\n",
            "244/244 - 2s - loss: 2.7436 - accuracy: 0.4382 - 2s/epoch - 8ms/step\n",
            "Epoch 38/200\n",
            "244/244 - 2s - loss: 2.6802 - accuracy: 0.4502 - 2s/epoch - 7ms/step\n",
            "Epoch 39/200\n",
            "244/244 - 2s - loss: 2.6098 - accuracy: 0.4624 - 2s/epoch - 6ms/step\n",
            "Epoch 40/200\n",
            "244/244 - 2s - loss: 2.5509 - accuracy: 0.4747 - 2s/epoch - 7ms/step\n",
            "Epoch 41/200\n",
            "244/244 - 2s - loss: 2.4879 - accuracy: 0.4928 - 2s/epoch - 10ms/step\n",
            "Epoch 42/200\n",
            "244/244 - 3s - loss: 2.4291 - accuracy: 0.4979 - 3s/epoch - 11ms/step\n",
            "Epoch 43/200\n",
            "244/244 - 3s - loss: 2.3675 - accuracy: 0.5104 - 3s/epoch - 11ms/step\n",
            "Epoch 44/200\n",
            "244/244 - 2s - loss: 2.3104 - accuracy: 0.5210 - 2s/epoch - 7ms/step\n",
            "Epoch 45/200\n",
            "244/244 - 2s - loss: 2.3052 - accuracy: 0.5201 - 2s/epoch - 7ms/step\n",
            "Epoch 46/200\n",
            "244/244 - 2s - loss: 2.2175 - accuracy: 0.5430 - 2s/epoch - 6ms/step\n",
            "Epoch 47/200\n",
            "244/244 - 2s - loss: 2.1575 - accuracy: 0.5530 - 2s/epoch - 9ms/step\n",
            "Epoch 48/200\n",
            "244/244 - 2s - loss: 2.1056 - accuracy: 0.5664 - 2s/epoch - 7ms/step\n",
            "Epoch 49/200\n",
            "244/244 - 2s - loss: 2.0559 - accuracy: 0.5788 - 2s/epoch - 6ms/step\n",
            "Epoch 50/200\n",
            "244/244 - 2s - loss: 2.0083 - accuracy: 0.5887 - 2s/epoch - 6ms/step\n",
            "Epoch 51/200\n",
            "244/244 - 2s - loss: 1.9576 - accuracy: 0.5982 - 2s/epoch - 8ms/step\n",
            "Epoch 52/200\n",
            "244/244 - 2s - loss: 1.9125 - accuracy: 0.6073 - 2s/epoch - 6ms/step\n",
            "Epoch 53/200\n",
            "244/244 - 2s - loss: 1.8697 - accuracy: 0.6171 - 2s/epoch - 6ms/step\n",
            "Epoch 54/200\n",
            "244/244 - 2s - loss: 1.8256 - accuracy: 0.6259 - 2s/epoch - 8ms/step\n",
            "Epoch 55/200\n",
            "244/244 - 2s - loss: 1.7842 - accuracy: 0.6394 - 2s/epoch - 9ms/step\n",
            "Epoch 56/200\n",
            "244/244 - 2s - loss: 1.7407 - accuracy: 0.6456 - 2s/epoch - 6ms/step\n",
            "Epoch 57/200\n",
            "244/244 - 2s - loss: 1.7005 - accuracy: 0.6555 - 2s/epoch - 6ms/step\n",
            "Epoch 58/200\n",
            "244/244 - 2s - loss: 1.6614 - accuracy: 0.6614 - 2s/epoch - 6ms/step\n",
            "Epoch 59/200\n",
            "244/244 - 2s - loss: 1.6213 - accuracy: 0.6713 - 2s/epoch - 6ms/step\n",
            "Epoch 60/200\n",
            "244/244 - 2s - loss: 1.5847 - accuracy: 0.6801 - 2s/epoch - 6ms/step\n",
            "Epoch 61/200\n",
            "244/244 - 2s - loss: 1.5479 - accuracy: 0.6876 - 2s/epoch - 7ms/step\n",
            "Epoch 62/200\n",
            "244/244 - 2s - loss: 1.5123 - accuracy: 0.6936 - 2s/epoch - 9ms/step\n",
            "Epoch 63/200\n",
            "244/244 - 2s - loss: 1.4756 - accuracy: 0.7026 - 2s/epoch - 8ms/step\n",
            "Epoch 64/200\n",
            "244/244 - 2s - loss: 1.4400 - accuracy: 0.7116 - 2s/epoch - 6ms/step\n",
            "Epoch 65/200\n",
            "244/244 - 1s - loss: 1.4062 - accuracy: 0.7178 - 1s/epoch - 6ms/step\n",
            "Epoch 66/200\n",
            "244/244 - 2s - loss: 1.3713 - accuracy: 0.7298 - 2s/epoch - 6ms/step\n",
            "Epoch 67/200\n",
            "244/244 - 2s - loss: 1.3416 - accuracy: 0.7310 - 2s/epoch - 6ms/step\n",
            "Epoch 68/200\n",
            "244/244 - 2s - loss: 1.3071 - accuracy: 0.7391 - 2s/epoch - 9ms/step\n",
            "Epoch 69/200\n",
            "244/244 - 2s - loss: 1.2768 - accuracy: 0.7482 - 2s/epoch - 9ms/step\n",
            "Epoch 70/200\n",
            "244/244 - 2s - loss: 1.2522 - accuracy: 0.7493 - 2s/epoch - 9ms/step\n",
            "Epoch 71/200\n",
            "244/244 - 2s - loss: 1.2192 - accuracy: 0.7542 - 2s/epoch - 9ms/step\n",
            "Epoch 72/200\n",
            "244/244 - 3s - loss: 1.1912 - accuracy: 0.7605 - 3s/epoch - 11ms/step\n",
            "Epoch 73/200\n",
            "244/244 - 2s - loss: 1.1619 - accuracy: 0.7735 - 2s/epoch - 7ms/step\n",
            "Epoch 74/200\n",
            "244/244 - 2s - loss: 1.1399 - accuracy: 0.7776 - 2s/epoch - 8ms/step\n",
            "Epoch 75/200\n",
            "244/244 - 2s - loss: 1.1083 - accuracy: 0.7810 - 2s/epoch - 8ms/step\n",
            "Epoch 76/200\n",
            "244/244 - 2s - loss: 1.0837 - accuracy: 0.7846 - 2s/epoch - 6ms/step\n",
            "Epoch 77/200\n",
            "244/244 - 2s - loss: 1.0613 - accuracy: 0.7894 - 2s/epoch - 7ms/step\n",
            "Epoch 78/200\n",
            "244/244 - 2s - loss: 1.0350 - accuracy: 0.7948 - 2s/epoch - 7ms/step\n",
            "Epoch 79/200\n",
            "244/244 - 2s - loss: 1.0104 - accuracy: 0.7989 - 2s/epoch - 7ms/step\n",
            "Epoch 80/200\n",
            "244/244 - 2s - loss: 0.9885 - accuracy: 0.8060 - 2s/epoch - 7ms/step\n",
            "Epoch 81/200\n",
            "244/244 - 2s - loss: 0.9653 - accuracy: 0.8111 - 2s/epoch - 7ms/step\n",
            "Epoch 82/200\n",
            "244/244 - 2s - loss: 0.9431 - accuracy: 0.8142 - 2s/epoch - 10ms/step\n",
            "Epoch 83/200\n",
            "244/244 - 2s - loss: 0.9223 - accuracy: 0.8176 - 2s/epoch - 6ms/step\n",
            "Epoch 84/200\n",
            "244/244 - 2s - loss: 0.8999 - accuracy: 0.8234 - 2s/epoch - 6ms/step\n",
            "Epoch 85/200\n",
            "244/244 - 2s - loss: 0.8797 - accuracy: 0.8235 - 2s/epoch - 7ms/step\n",
            "Epoch 86/200\n",
            "244/244 - 2s - loss: 0.8617 - accuracy: 0.8293 - 2s/epoch - 7ms/step\n",
            "Epoch 87/200\n",
            "244/244 - 2s - loss: 0.8397 - accuracy: 0.8331 - 2s/epoch - 6ms/step\n",
            "Epoch 88/200\n",
            "244/244 - 2s - loss: 0.8229 - accuracy: 0.8346 - 2s/epoch - 7ms/step\n",
            "Epoch 89/200\n",
            "244/244 - 2s - loss: 0.8040 - accuracy: 0.8419 - 2s/epoch - 9ms/step\n",
            "Epoch 90/200\n",
            "244/244 - 2s - loss: 0.7836 - accuracy: 0.8451 - 2s/epoch - 6ms/step\n",
            "Epoch 91/200\n",
            "244/244 - 2s - loss: 0.7672 - accuracy: 0.8467 - 2s/epoch - 7ms/step\n",
            "Epoch 92/200\n",
            "244/244 - 2s - loss: 0.7513 - accuracy: 0.8502 - 2s/epoch - 6ms/step\n",
            "Epoch 93/200\n",
            "244/244 - 2s - loss: 0.7345 - accuracy: 0.8548 - 2s/epoch - 7ms/step\n",
            "Epoch 94/200\n",
            "244/244 - 2s - loss: 0.7188 - accuracy: 0.8597 - 2s/epoch - 7ms/step\n",
            "Epoch 95/200\n",
            "244/244 - 2s - loss: 0.7044 - accuracy: 0.8592 - 2s/epoch - 6ms/step\n",
            "Epoch 96/200\n",
            "244/244 - 2s - loss: 0.6984 - accuracy: 0.8617 - 2s/epoch - 9ms/step\n",
            "Epoch 97/200\n",
            "244/244 - 2s - loss: 0.6853 - accuracy: 0.8649 - 2s/epoch - 8ms/step\n",
            "Epoch 98/200\n",
            "244/244 - 2s - loss: 0.6675 - accuracy: 0.8676 - 2s/epoch - 6ms/step\n",
            "Epoch 99/200\n",
            "244/244 - 2s - loss: 0.6440 - accuracy: 0.8724 - 2s/epoch - 6ms/step\n",
            "Epoch 100/200\n",
            "244/244 - 2s - loss: 0.6290 - accuracy: 0.8713 - 2s/epoch - 7ms/step\n",
            "Epoch 101/200\n",
            "244/244 - 2s - loss: 0.6169 - accuracy: 0.8759 - 2s/epoch - 6ms/step\n",
            "Epoch 102/200\n",
            "244/244 - 2s - loss: 0.6044 - accuracy: 0.8772 - 2s/epoch - 6ms/step\n",
            "Epoch 103/200\n",
            "244/244 - 2s - loss: 0.5941 - accuracy: 0.8794 - 2s/epoch - 8ms/step\n",
            "Epoch 104/200\n",
            "244/244 - 2s - loss: 0.5831 - accuracy: 0.8826 - 2s/epoch - 8ms/step\n",
            "Epoch 105/200\n",
            "244/244 - 2s - loss: 0.5725 - accuracy: 0.8862 - 2s/epoch - 7ms/step\n",
            "Epoch 106/200\n",
            "244/244 - 2s - loss: 0.5693 - accuracy: 0.8856 - 2s/epoch - 6ms/step\n",
            "Epoch 107/200\n",
            "244/244 - 2s - loss: 0.5820 - accuracy: 0.8818 - 2s/epoch - 7ms/step\n",
            "Epoch 108/200\n",
            "244/244 - 2s - loss: 0.5476 - accuracy: 0.8881 - 2s/epoch - 7ms/step\n",
            "Epoch 109/200\n",
            "244/244 - 2s - loss: 0.5255 - accuracy: 0.8921 - 2s/epoch - 7ms/step\n",
            "Epoch 110/200\n",
            "244/244 - 2s - loss: 0.5141 - accuracy: 0.8929 - 2s/epoch - 7ms/step\n",
            "Epoch 111/200\n",
            "244/244 - 2s - loss: 0.5070 - accuracy: 0.8941 - 2s/epoch - 8ms/step\n",
            "Epoch 112/200\n",
            "244/244 - 2s - loss: 0.4980 - accuracy: 0.8963 - 2s/epoch - 6ms/step\n",
            "Epoch 113/200\n",
            "244/244 - 2s - loss: 0.4882 - accuracy: 0.8962 - 2s/epoch - 6ms/step\n",
            "Epoch 114/200\n",
            "244/244 - 2s - loss: 0.4808 - accuracy: 0.8994 - 2s/epoch - 7ms/step\n",
            "Epoch 115/200\n",
            "244/244 - 2s - loss: 0.4728 - accuracy: 0.9017 - 2s/epoch - 6ms/step\n",
            "Epoch 116/200\n",
            "244/244 - 2s - loss: 0.4639 - accuracy: 0.9008 - 2s/epoch - 7ms/step\n",
            "Epoch 117/200\n",
            "244/244 - 2s - loss: 0.4576 - accuracy: 0.9038 - 2s/epoch - 7ms/step\n",
            "Epoch 118/200\n",
            "244/244 - 2s - loss: 0.4509 - accuracy: 0.9025 - 2s/epoch - 9ms/step\n",
            "Epoch 119/200\n",
            "244/244 - 2s - loss: 0.4407 - accuracy: 0.9047 - 2s/epoch - 7ms/step\n",
            "Epoch 120/200\n",
            "244/244 - 2s - loss: 0.4512 - accuracy: 0.9052 - 2s/epoch - 8ms/step\n",
            "Epoch 121/200\n",
            "244/244 - 2s - loss: 0.4615 - accuracy: 0.9029 - 2s/epoch - 7ms/step\n",
            "Epoch 122/200\n",
            "244/244 - 2s - loss: 0.4427 - accuracy: 0.9054 - 2s/epoch - 6ms/step\n",
            "Epoch 123/200\n",
            "244/244 - 2s - loss: 0.4209 - accuracy: 0.9073 - 2s/epoch - 6ms/step\n",
            "Epoch 124/200\n",
            "244/244 - 2s - loss: 0.4068 - accuracy: 0.9086 - 2s/epoch - 7ms/step\n",
            "Epoch 125/200\n",
            "244/244 - 2s - loss: 0.4012 - accuracy: 0.9085 - 2s/epoch - 8ms/step\n",
            "Epoch 126/200\n",
            "244/244 - 2s - loss: 0.3952 - accuracy: 0.9104 - 2s/epoch - 7ms/step\n",
            "Epoch 127/200\n",
            "244/244 - 2s - loss: 0.3901 - accuracy: 0.9127 - 2s/epoch - 6ms/step\n",
            "Epoch 128/200\n",
            "244/244 - 2s - loss: 0.3845 - accuracy: 0.9121 - 2s/epoch - 6ms/step\n",
            "Epoch 129/200\n",
            "244/244 - 2s - loss: 0.3796 - accuracy: 0.9125 - 2s/epoch - 6ms/step\n",
            "Epoch 130/200\n",
            "244/244 - 2s - loss: 0.3764 - accuracy: 0.9132 - 2s/epoch - 6ms/step\n",
            "Epoch 131/200\n",
            "244/244 - 2s - loss: 0.3712 - accuracy: 0.9131 - 2s/epoch - 6ms/step\n",
            "Epoch 132/200\n",
            "244/244 - 2s - loss: 0.3669 - accuracy: 0.9123 - 2s/epoch - 7ms/step\n",
            "Epoch 133/200\n",
            "244/244 - 2s - loss: 0.3618 - accuracy: 0.9140 - 2s/epoch - 8ms/step\n",
            "Epoch 134/200\n",
            "244/244 - 2s - loss: 0.3579 - accuracy: 0.9149 - 2s/epoch - 6ms/step\n",
            "Epoch 135/200\n",
            "244/244 - 2s - loss: 0.3556 - accuracy: 0.9152 - 2s/epoch - 6ms/step\n",
            "Epoch 136/200\n",
            "244/244 - 2s - loss: 0.3558 - accuracy: 0.9131 - 2s/epoch - 6ms/step\n",
            "Epoch 137/200\n",
            "244/244 - 1s - loss: 0.3731 - accuracy: 0.9094 - 1s/epoch - 6ms/step\n",
            "Epoch 138/200\n",
            "244/244 - 1s - loss: 0.3717 - accuracy: 0.9112 - 1s/epoch - 6ms/step\n",
            "Epoch 139/200\n",
            "244/244 - 2s - loss: 0.3504 - accuracy: 0.9146 - 2s/epoch - 6ms/step\n",
            "Epoch 140/200\n",
            "244/244 - 2s - loss: 0.3360 - accuracy: 0.9161 - 2s/epoch - 8ms/step\n",
            "Epoch 141/200\n",
            "244/244 - 2s - loss: 0.3316 - accuracy: 0.9143 - 2s/epoch - 8ms/step\n",
            "Epoch 142/200\n",
            "244/244 - 1s - loss: 0.3282 - accuracy: 0.9157 - 1s/epoch - 6ms/step\n",
            "Epoch 143/200\n",
            "244/244 - 2s - loss: 0.3274 - accuracy: 0.9162 - 2s/epoch - 6ms/step\n",
            "Epoch 144/200\n",
            "244/244 - 1s - loss: 0.3248 - accuracy: 0.9145 - 1s/epoch - 6ms/step\n",
            "Epoch 145/200\n",
            "244/244 - 2s - loss: 0.3195 - accuracy: 0.9162 - 2s/epoch - 7ms/step\n",
            "Epoch 146/200\n",
            "244/244 - 1s - loss: 0.3176 - accuracy: 0.9176 - 1s/epoch - 6ms/step\n",
            "Epoch 147/200\n",
            "244/244 - 2s - loss: 0.3151 - accuracy: 0.9187 - 2s/epoch - 6ms/step\n",
            "Epoch 148/200\n",
            "244/244 - 2s - loss: 0.3131 - accuracy: 0.9166 - 2s/epoch - 8ms/step\n",
            "Epoch 149/200\n",
            "244/244 - 2s - loss: 0.3117 - accuracy: 0.9161 - 2s/epoch - 7ms/step\n",
            "Epoch 150/200\n",
            "244/244 - 1s - loss: 0.3101 - accuracy: 0.9154 - 1s/epoch - 6ms/step\n",
            "Epoch 151/200\n",
            "244/244 - 2s - loss: 0.3072 - accuracy: 0.9153 - 2s/epoch - 7ms/step\n",
            "Epoch 152/200\n",
            "244/244 - 2s - loss: 0.3051 - accuracy: 0.9164 - 2s/epoch - 7ms/step\n",
            "Epoch 153/200\n",
            "244/244 - 2s - loss: 0.3036 - accuracy: 0.9162 - 2s/epoch - 6ms/step\n",
            "Epoch 154/200\n",
            "244/244 - 2s - loss: 0.3016 - accuracy: 0.9182 - 2s/epoch - 6ms/step\n",
            "Epoch 155/200\n",
            "244/244 - 2s - loss: 0.3094 - accuracy: 0.9140 - 2s/epoch - 7ms/step\n",
            "Epoch 156/200\n",
            "244/244 - 2s - loss: 0.4489 - accuracy: 0.8821 - 2s/epoch - 8ms/step\n",
            "Epoch 157/200\n",
            "244/244 - 2s - loss: 0.3444 - accuracy: 0.9090 - 2s/epoch - 8ms/step\n",
            "Epoch 158/200\n",
            "244/244 - 2s - loss: 0.3028 - accuracy: 0.9162 - 2s/epoch - 6ms/step\n",
            "Epoch 159/200\n",
            "244/244 - 2s - loss: 0.2933 - accuracy: 0.9173 - 2s/epoch - 6ms/step\n",
            "Epoch 160/200\n",
            "244/244 - 2s - loss: 0.2916 - accuracy: 0.9167 - 2s/epoch - 6ms/step\n",
            "Epoch 161/200\n",
            "244/244 - 2s - loss: 0.2895 - accuracy: 0.9167 - 2s/epoch - 6ms/step\n",
            "Epoch 162/200\n",
            "244/244 - 2s - loss: 0.2883 - accuracy: 0.9168 - 2s/epoch - 7ms/step\n",
            "Epoch 163/200\n",
            "244/244 - 2s - loss: 0.2870 - accuracy: 0.9154 - 2s/epoch - 9ms/step\n",
            "Epoch 164/200\n",
            "244/244 - 2s - loss: 0.2856 - accuracy: 0.9184 - 2s/epoch - 6ms/step\n",
            "Epoch 165/200\n",
            "244/244 - 2s - loss: 0.2856 - accuracy: 0.9173 - 2s/epoch - 6ms/step\n",
            "Epoch 166/200\n",
            "244/244 - 2s - loss: 0.2853 - accuracy: 0.9154 - 2s/epoch - 6ms/step\n",
            "Epoch 167/200\n",
            "244/244 - 2s - loss: 0.2834 - accuracy: 0.9164 - 2s/epoch - 6ms/step\n",
            "Epoch 168/200\n",
            "244/244 - 2s - loss: 0.2834 - accuracy: 0.9172 - 2s/epoch - 6ms/step\n",
            "Epoch 169/200\n",
            "244/244 - 1s - loss: 0.2821 - accuracy: 0.9163 - 1s/epoch - 6ms/step\n",
            "Epoch 170/200\n",
            "244/244 - 2s - loss: 0.2825 - accuracy: 0.9171 - 2s/epoch - 7ms/step\n",
            "Epoch 171/200\n",
            "244/244 - 2s - loss: 0.2820 - accuracy: 0.9163 - 2s/epoch - 8ms/step\n",
            "Epoch 172/200\n",
            "244/244 - 2s - loss: 0.2819 - accuracy: 0.9168 - 2s/epoch - 6ms/step\n",
            "Epoch 173/200\n",
            "244/244 - 2s - loss: 0.2814 - accuracy: 0.9172 - 2s/epoch - 6ms/step\n",
            "Epoch 174/200\n",
            "244/244 - 1s - loss: 0.2791 - accuracy: 0.9154 - 1s/epoch - 6ms/step\n",
            "Epoch 175/200\n",
            "244/244 - 1s - loss: 0.2795 - accuracy: 0.9161 - 1s/epoch - 6ms/step\n",
            "Epoch 176/200\n",
            "244/244 - 2s - loss: 0.2784 - accuracy: 0.9163 - 2s/epoch - 6ms/step\n",
            "Epoch 177/200\n",
            "244/244 - 2s - loss: 0.2873 - accuracy: 0.9155 - 2s/epoch - 6ms/step\n",
            "Epoch 178/200\n",
            "244/244 - 2s - loss: 0.3468 - accuracy: 0.9011 - 2s/epoch - 8ms/step\n",
            "Epoch 179/200\n",
            "244/244 - 2s - loss: 0.3173 - accuracy: 0.9085 - 2s/epoch - 7ms/step\n",
            "Epoch 180/200\n",
            "244/244 - 2s - loss: 0.2937 - accuracy: 0.9134 - 2s/epoch - 6ms/step\n",
            "Epoch 181/200\n",
            "244/244 - 1s - loss: 0.2786 - accuracy: 0.9179 - 1s/epoch - 6ms/step\n",
            "Epoch 182/200\n",
            "244/244 - 2s - loss: 0.2736 - accuracy: 0.9170 - 2s/epoch - 6ms/step\n",
            "Epoch 183/200\n",
            "244/244 - 1s - loss: 0.2734 - accuracy: 0.9168 - 1s/epoch - 6ms/step\n",
            "Epoch 184/200\n",
            "244/244 - 2s - loss: 0.2720 - accuracy: 0.9170 - 2s/epoch - 6ms/step\n",
            "Epoch 185/200\n",
            "244/244 - 2s - loss: 0.2722 - accuracy: 0.9171 - 2s/epoch - 6ms/step\n",
            "Epoch 186/200\n",
            "244/244 - 2s - loss: 0.2718 - accuracy: 0.9162 - 2s/epoch - 9ms/step\n",
            "Epoch 187/200\n",
            "244/244 - 2s - loss: 0.2707 - accuracy: 0.9185 - 2s/epoch - 6ms/step\n",
            "Epoch 188/200\n",
            "244/244 - 1s - loss: 0.2714 - accuracy: 0.9144 - 1s/epoch - 6ms/step\n",
            "Epoch 189/200\n",
            "244/244 - 1s - loss: 0.2715 - accuracy: 0.9148 - 1s/epoch - 6ms/step\n",
            "Epoch 190/200\n",
            "244/244 - 1s - loss: 0.2711 - accuracy: 0.9159 - 1s/epoch - 6ms/step\n",
            "Epoch 191/200\n",
            "244/244 - 2s - loss: 0.2699 - accuracy: 0.9171 - 2s/epoch - 6ms/step\n",
            "Epoch 192/200\n",
            "244/244 - 2s - loss: 0.2707 - accuracy: 0.9157 - 2s/epoch - 6ms/step\n",
            "Epoch 193/200\n",
            "244/244 - 2s - loss: 0.2706 - accuracy: 0.9164 - 2s/epoch - 7ms/step\n",
            "Epoch 194/200\n",
            "244/244 - 2s - loss: 0.2699 - accuracy: 0.9155 - 2s/epoch - 8ms/step\n",
            "Epoch 195/200\n",
            "244/244 - 2s - loss: 0.2687 - accuracy: 0.9154 - 2s/epoch - 6ms/step\n",
            "Epoch 196/200\n",
            "244/244 - 2s - loss: 0.2684 - accuracy: 0.9172 - 2s/epoch - 6ms/step\n",
            "Epoch 197/200\n",
            "244/244 - 2s - loss: 0.2803 - accuracy: 0.9144 - 2s/epoch - 6ms/step\n",
            "Epoch 198/200\n",
            "244/244 - 2s - loss: 0.3419 - accuracy: 0.9011 - 2s/epoch - 6ms/step\n",
            "Epoch 199/200\n",
            "244/244 - 2s - loss: 0.2907 - accuracy: 0.9125 - 2s/epoch - 6ms/step\n",
            "Epoch 200/200\n",
            "244/244 - 2s - loss: 0.2732 - accuracy: 0.9166 - 2s/epoch - 6ms/step\n"
          ]
        },
        {
          "output_type": "execute_result",
          "data": {
            "text/plain": [
              "<keras.src.callbacks.History at 0x79655961ff70>"
            ]
          },
          "metadata": {},
          "execution_count": 99
        }
      ]
    },
    {
      "cell_type": "code",
      "source": [
        "# 이전과 동일\n",
        "def sentence_generation(model, tokenizer, current_word, n):\n",
        "  init_word = current_word\n",
        "  sentence = ''\n",
        "\n",
        "  for _ in range(n):\n",
        "    encoded = tokenizer.texts_to_sequences([current_word])[0]\n",
        "    encoded = pad_sequences([encoded], maxlen=max_len-1, padding='pre')\n",
        "\n",
        "    result = model.predict(encoded, verbose=0)\n",
        "    result = np.argmax(result, axis=1)\n",
        "\n",
        "    for word, index in tokenizer.word_index.items():\n",
        "      if index == result:\n",
        "        break\n",
        "\n",
        "    current_word = current_word + ' ' + word\n",
        "    sentence = sentence + ' ' + word\n",
        "\n",
        "  sentence = init_word + sentence\n",
        "\n",
        "  return sentence"
      ],
      "metadata": {
        "id": "n28L6f31xJPM"
      },
      "execution_count": 102,
      "outputs": []
    },
    {
      "cell_type": "code",
      "source": [
        "print(sentence_generation(model, tokenizer, 'i', 10))"
      ],
      "metadata": {
        "colab": {
          "base_uri": "https://localhost:8080/"
        },
        "id": "seIe2cdFxf6t",
        "outputId": "ef34574c-ec46-441c-b692-1352f857c55c"
      },
      "execution_count": 103,
      "outputs": [
        {
          "output_type": "stream",
          "name": "stdout",
          "text": [
            "i want to be rich and im not sorry seen say\n"
          ]
        }
      ]
    },
    {
      "cell_type": "markdown",
      "source": [
        "### 문자 단위 RNN 언어 모델 (Char RNNLM)"
      ],
      "metadata": {
        "id": "3D7R8fBkxt2h"
      }
    },
    {
      "cell_type": "code",
      "source": [
        "# 데이터 로드\n",
        "urllib.request.urlretrieve(\"http://www.gutenberg.org/files/11/11-0.txt\", filename=\"11-0.txt\")\n",
        "\n",
        "f = open('11-0.txt', 'rb') # 읽기위해 파일 열고\n",
        "sentences = []\n",
        "for sentence in f: # 데이터로부터 한 줄씩 읽는다.\n",
        "    sentence = sentence.strip() # strip()을 통해 \\r, \\n을 제거한다.\n",
        "    sentence = sentence.lower() # 소문자화.\n",
        "    sentence = sentence.decode('ascii', 'ignore') # \\xe2\\x80\\x99 등과 같은 바이트 열 제거\n",
        "    if len(sentence) > 0:\n",
        "        sentences.append(sentence)\n",
        "f.close() # 파일 닫기"
      ],
      "metadata": {
        "id": "_wHPeIIaxs__"
      },
      "execution_count": 105,
      "outputs": []
    },
    {
      "cell_type": "code",
      "source": [
        "# 문장 token화 상태는 아니기 때문에 일단 합치고 token화 하기\n",
        "total_data = ' '.join(sentences)\n",
        "print('문자열의 길이 또는 총 문자의 개수: %d' % len(total_data))"
      ],
      "metadata": {
        "colab": {
          "base_uri": "https://localhost:8080/"
        },
        "id": "-xVHuuauxtCj",
        "outputId": "77b545f5-f3af-482e-f18f-c140c9939ff1"
      },
      "execution_count": 106,
      "outputs": [
        {
          "output_type": "stream",
          "name": "stdout",
          "text": [
            "문자열의 길이 또는 총 문자의 개수: 159484\n"
          ]
        }
      ]
    },
    {
      "cell_type": "code",
      "source": [
        "# 문자집합 만들기 - 알파벳, 특수 기호\n",
        "# set: 중복된 항목 제거\n",
        "# list: 제거된 항목으로 다시 리스트 생성\n",
        "# sorted: 정렬\n",
        "char_vocab = sorted(list(set(total_data)))\n",
        "vocab_size = len(char_vocab)\n",
        "print ('문자 집합의 크기 : {}'.format(vocab_size))"
      ],
      "metadata": {
        "colab": {
          "base_uri": "https://localhost:8080/"
        },
        "id": "lfMZZPG4xtFO",
        "outputId": "dd784a12-5443-4de8-94f6-898b42c67a49"
      },
      "execution_count": 107,
      "outputs": [
        {
          "output_type": "stream",
          "name": "stdout",
          "text": [
            "문자 집합의 크기 : 56\n"
          ]
        }
      ]
    },
    {
      "cell_type": "code",
      "source": [
        "# 문자에 고유한 정수 부여\n",
        "# 문자로 정수 리턴\n",
        "char_to_index = dict((char, index) for index, char in enumerate(char_vocab))\n",
        "print('문자 집합 :',char_to_index)"
      ],
      "metadata": {
        "colab": {
          "base_uri": "https://localhost:8080/"
        },
        "id": "NKArtXIvxtHX",
        "outputId": "fefb6b81-cd35-47b0-af8f-5bd9c6e11cff"
      },
      "execution_count": 108,
      "outputs": [
        {
          "output_type": "stream",
          "name": "stdout",
          "text": [
            "문자 집합 : {' ': 0, '!': 1, '\"': 2, '#': 3, '$': 4, '%': 5, \"'\": 6, '(': 7, ')': 8, '*': 9, ',': 10, '-': 11, '.': 12, '/': 13, '0': 14, '1': 15, '2': 16, '3': 17, '4': 18, '5': 19, '6': 20, '7': 21, '8': 22, '9': 23, ':': 24, ';': 25, '?': 26, '[': 27, ']': 28, '_': 29, 'a': 30, 'b': 31, 'c': 32, 'd': 33, 'e': 34, 'f': 35, 'g': 36, 'h': 37, 'i': 38, 'j': 39, 'k': 40, 'l': 41, 'm': 42, 'n': 43, 'o': 44, 'p': 45, 'q': 46, 'r': 47, 's': 48, 't': 49, 'u': 50, 'v': 51, 'w': 52, 'x': 53, 'y': 54, 'z': 55}\n"
          ]
        }
      ]
    },
    {
      "cell_type": "code",
      "source": [
        "# 정수로 문자 리턴\n",
        "index_to_char = {}\n",
        "for key, value in char_to_index.items():\n",
        "    index_to_char[value] = key"
      ],
      "metadata": {
        "id": "milKqhTT9P63"
      },
      "execution_count": 109,
      "outputs": []
    },
    {
      "cell_type": "code",
      "source": [
        "# data 예시\n",
        "# appl (입력 시퀀스) -> pple (예측해야하는 시퀀스)\n",
        "train_X = 'appl'\n",
        "train_y = 'pple'"
      ],
      "metadata": {
        "id": "A-dn2j8xBuRT"
      },
      "execution_count": 110,
      "outputs": []
    },
    {
      "cell_type": "code",
      "source": [
        "seq_length = 60\n",
        "\n",
        "# 문자열의 길이를 seq_length로 나누면 전처리 후 생겨날 샘플 수\n",
        "n_samples = int(np.floor((len(total_data) - 1) / seq_length))\n",
        "print ('샘플의 수 : {}'.format(n_samples))"
      ],
      "metadata": {
        "colab": {
          "base_uri": "https://localhost:8080/"
        },
        "id": "7JbICYcpB7UD",
        "outputId": "093d2a1b-a4e6-41c0-da1f-be16604535f7"
      },
      "execution_count": 111,
      "outputs": [
        {
          "output_type": "stream",
          "name": "stdout",
          "text": [
            "샘플의 수 : 2658\n"
          ]
        }
      ]
    },
    {
      "cell_type": "code",
      "source": [
        "train_X = []\n",
        "train_y = []\n",
        "\n",
        "for i in range(n_samples):\n",
        "    # 0:60 -> 60:120 -> 120:180로 loop를 돌면서 문장 샘플을 1개씩 pick. seq_length = 60\n",
        "    X_sample = total_data[i * seq_length: (i + 1) * seq_length]\n",
        "\n",
        "    # 정수 인코딩 -> 정수 리스트 반환\n",
        "    X_encoded = [char_to_index[c] for c in X_sample]\n",
        "    train_X.append(X_encoded)\n",
        "\n",
        "    # 오른쪽으로 1칸 쉬프트\n",
        "    y_sample = total_data[i * seq_length + 1: (i + 1) * seq_length + 1]\n",
        "    y_encoded = [char_to_index[c] for c in y_sample]\n",
        "    train_y.append(y_encoded)"
      ],
      "metadata": {
        "id": "1IP2tf57CA0m"
      },
      "execution_count": 112,
      "outputs": []
    },
    {
      "cell_type": "code",
      "source": [
        "print('X 데이터의 첫번째 문장 샘플 :',train_X[0])\n",
        "print('y 데이터의 첫번째 문장 샘플 :',train_y[0])\n",
        "print('-'*50)\n",
        "print('X 데이터의 첫번째 문장 샘플 디코딩 :',[index_to_char[i] for i in train_X[0]])\n",
        "print('y 데이터의 첫번째 문장 샘플 디코딩 :',[index_to_char[i] for i in train_y[0]])"
      ],
      "metadata": {
        "colab": {
          "base_uri": "https://localhost:8080/"
        },
        "id": "ZTv4ssZACXsf",
        "outputId": "82e1e4cb-a4b8-4ef8-afe4-2eeb30e5b67c"
      },
      "execution_count": 114,
      "outputs": [
        {
          "output_type": "stream",
          "name": "stdout",
          "text": [
            "X 데이터의 첫번째 문장 샘플 : [49, 37, 34, 0, 45, 47, 44, 39, 34, 32, 49, 0, 36, 50, 49, 34, 43, 31, 34, 47, 36, 0, 34, 31, 44, 44, 40, 0, 44, 35, 0, 30, 41, 38, 32, 34, 48, 0, 30, 33, 51, 34, 43, 49, 50, 47, 34, 48, 0, 38, 43, 0, 52, 44, 43, 33, 34, 47, 41, 30]\n",
            "y 데이터의 첫번째 문장 샘플 : [37, 34, 0, 45, 47, 44, 39, 34, 32, 49, 0, 36, 50, 49, 34, 43, 31, 34, 47, 36, 0, 34, 31, 44, 44, 40, 0, 44, 35, 0, 30, 41, 38, 32, 34, 48, 0, 30, 33, 51, 34, 43, 49, 50, 47, 34, 48, 0, 38, 43, 0, 52, 44, 43, 33, 34, 47, 41, 30, 43]\n",
            "--------------------------------------------------\n",
            "X 데이터의 첫번째 문장 샘플 디코딩 : ['t', 'h', 'e', ' ', 'p', 'r', 'o', 'j', 'e', 'c', 't', ' ', 'g', 'u', 't', 'e', 'n', 'b', 'e', 'r', 'g', ' ', 'e', 'b', 'o', 'o', 'k', ' ', 'o', 'f', ' ', 'a', 'l', 'i', 'c', 'e', 's', ' ', 'a', 'd', 'v', 'e', 'n', 't', 'u', 'r', 'e', 's', ' ', 'i', 'n', ' ', 'w', 'o', 'n', 'd', 'e', 'r', 'l', 'a']\n",
            "y 데이터의 첫번째 문장 샘플 디코딩 : ['h', 'e', ' ', 'p', 'r', 'o', 'j', 'e', 'c', 't', ' ', 'g', 'u', 't', 'e', 'n', 'b', 'e', 'r', 'g', ' ', 'e', 'b', 'o', 'o', 'k', ' ', 'o', 'f', ' ', 'a', 'l', 'i', 'c', 'e', 's', ' ', 'a', 'd', 'v', 'e', 'n', 't', 'u', 'r', 'e', 's', ' ', 'i', 'n', ' ', 'w', 'o', 'n', 'd', 'e', 'r', 'l', 'a', 'n']\n"
          ]
        }
      ]
    },
    {
      "cell_type": "code",
      "source": [
        "train_X = to_categorical(train_X)\n",
        "train_y = to_categorical(train_y)\n",
        "\n",
        "print('train_X의 크기(shape) : {}'.format(train_X.shape)) # 원-핫 인코딩\n",
        "print('train_y의 크기(shape) : {}'.format(train_y.shape)) # 원-핫 인코딩\n",
        "\n",
        "# data size = 2658\n",
        "# input_dim = 56\n",
        "# input_length = 60"
      ],
      "metadata": {
        "colab": {
          "base_uri": "https://localhost:8080/"
        },
        "id": "KAxzoNRcCZoe",
        "outputId": "955abc9f-5166-4daa-d7a0-85543cb70ba3"
      },
      "execution_count": 115,
      "outputs": [
        {
          "output_type": "stream",
          "name": "stdout",
          "text": [
            "train_X의 크기(shape) : (2658, 60, 56)\n",
            "train_y의 크기(shape) : (2658, 60, 56)\n"
          ]
        }
      ]
    },
    {
      "cell_type": "code",
      "source": [
        "hidden_units = 256 # 은닉 노드 수\n",
        "\n",
        "model = Sequential()\n",
        "model.add(LSTM(hidden_units, input_shape=(None, train_X.shape[2]), return_sequences=True))\n",
        "model.add(LSTM(hidden_units, return_sequences=True))\n",
        "model.add(TimeDistributed(Dense(vocab_size, activation='softmax')))\n",
        "\n",
        "model.compile(loss='categorical_crossentropy', optimizer='adam', metrics=['accuracy'])\n",
        "model.fit(train_X, train_y, epochs=80, verbose=2)"
      ],
      "metadata": {
        "colab": {
          "base_uri": "https://localhost:8080/"
        },
        "id": "Cswc59YTCxx_",
        "outputId": "9c32b7fb-82ed-4562-f285-167c5033e836"
      },
      "execution_count": 117,
      "outputs": [
        {
          "output_type": "stream",
          "name": "stdout",
          "text": [
            "Epoch 1/80\n",
            "84/84 - 7s - loss: 3.0750 - accuracy: 0.1820 - 7s/epoch - 85ms/step\n",
            "Epoch 2/80\n",
            "84/84 - 1s - loss: 2.7172 - accuracy: 0.2477 - 775ms/epoch - 9ms/step\n",
            "Epoch 3/80\n",
            "84/84 - 1s - loss: 2.3851 - accuracy: 0.3315 - 785ms/epoch - 9ms/step\n",
            "Epoch 4/80\n",
            "84/84 - 1s - loss: 2.2364 - accuracy: 0.3648 - 778ms/epoch - 9ms/step\n",
            "Epoch 5/80\n",
            "84/84 - 1s - loss: 2.1290 - accuracy: 0.3916 - 1s/epoch - 14ms/step\n",
            "Epoch 6/80\n",
            "84/84 - 2s - loss: 2.0527 - accuracy: 0.4098 - 2s/epoch - 20ms/step\n",
            "Epoch 7/80\n",
            "84/84 - 1s - loss: 1.9788 - accuracy: 0.4307 - 782ms/epoch - 9ms/step\n",
            "Epoch 8/80\n",
            "84/84 - 1s - loss: 1.9150 - accuracy: 0.4467 - 855ms/epoch - 10ms/step\n",
            "Epoch 9/80\n",
            "84/84 - 1s - loss: 1.8602 - accuracy: 0.4617 - 1s/epoch - 17ms/step\n",
            "Epoch 10/80\n",
            "84/84 - 1s - loss: 1.8071 - accuracy: 0.4768 - 1s/epoch - 18ms/step\n",
            "Epoch 11/80\n",
            "84/84 - 1s - loss: 1.7598 - accuracy: 0.4884 - 1s/epoch - 16ms/step\n",
            "Epoch 12/80\n",
            "84/84 - 1s - loss: 1.7159 - accuracy: 0.4996 - 773ms/epoch - 9ms/step\n",
            "Epoch 13/80\n",
            "84/84 - 1s - loss: 1.6773 - accuracy: 0.5091 - 774ms/epoch - 9ms/step\n",
            "Epoch 14/80\n",
            "84/84 - 1s - loss: 1.6404 - accuracy: 0.5190 - 796ms/epoch - 9ms/step\n",
            "Epoch 15/80\n",
            "84/84 - 1s - loss: 1.6025 - accuracy: 0.5291 - 781ms/epoch - 9ms/step\n",
            "Epoch 16/80\n",
            "84/84 - 1s - loss: 1.5689 - accuracy: 0.5375 - 792ms/epoch - 9ms/step\n",
            "Epoch 17/80\n",
            "84/84 - 1s - loss: 1.5373 - accuracy: 0.5460 - 868ms/epoch - 10ms/step\n",
            "Epoch 18/80\n",
            "84/84 - 1s - loss: 1.5054 - accuracy: 0.5551 - 1s/epoch - 14ms/step\n",
            "Epoch 19/80\n",
            "84/84 - 1s - loss: 1.4732 - accuracy: 0.5637 - 1s/epoch - 13ms/step\n",
            "Epoch 20/80\n",
            "84/84 - 1s - loss: 1.4426 - accuracy: 0.5719 - 794ms/epoch - 9ms/step\n",
            "Epoch 21/80\n",
            "84/84 - 1s - loss: 1.4140 - accuracy: 0.5806 - 992ms/epoch - 12ms/step\n",
            "Epoch 22/80\n",
            "84/84 - 1s - loss: 1.3805 - accuracy: 0.5895 - 1s/epoch - 13ms/step\n",
            "Epoch 23/80\n",
            "84/84 - 1s - loss: 1.3535 - accuracy: 0.5972 - 958ms/epoch - 11ms/step\n",
            "Epoch 24/80\n",
            "84/84 - 1s - loss: 1.3203 - accuracy: 0.6083 - 816ms/epoch - 10ms/step\n",
            "Epoch 25/80\n",
            "84/84 - 1s - loss: 1.3000 - accuracy: 0.6130 - 789ms/epoch - 9ms/step\n",
            "Epoch 26/80\n",
            "84/84 - 1s - loss: 1.2668 - accuracy: 0.6241 - 803ms/epoch - 10ms/step\n",
            "Epoch 27/80\n",
            "84/84 - 1s - loss: 1.2400 - accuracy: 0.6299 - 778ms/epoch - 9ms/step\n",
            "Epoch 28/80\n",
            "84/84 - 1s - loss: 1.2073 - accuracy: 0.6402 - 801ms/epoch - 10ms/step\n",
            "Epoch 29/80\n",
            "84/84 - 1s - loss: 1.1799 - accuracy: 0.6488 - 1s/epoch - 14ms/step\n",
            "Epoch 30/80\n",
            "84/84 - 1s - loss: 1.1514 - accuracy: 0.6555 - 782ms/epoch - 9ms/step\n",
            "Epoch 31/80\n",
            "84/84 - 1s - loss: 1.1233 - accuracy: 0.6648 - 781ms/epoch - 9ms/step\n",
            "Epoch 32/80\n",
            "84/84 - 1s - loss: 1.0923 - accuracy: 0.6734 - 797ms/epoch - 9ms/step\n",
            "Epoch 33/80\n",
            "84/84 - 1s - loss: 1.0632 - accuracy: 0.6824 - 794ms/epoch - 9ms/step\n",
            "Epoch 34/80\n",
            "84/84 - 1s - loss: 1.0399 - accuracy: 0.6883 - 770ms/epoch - 9ms/step\n",
            "Epoch 35/80\n",
            "84/84 - 1s - loss: 1.0101 - accuracy: 0.6981 - 925ms/epoch - 11ms/step\n",
            "Epoch 36/80\n",
            "84/84 - 1s - loss: 0.9818 - accuracy: 0.7076 - 1s/epoch - 13ms/step\n",
            "Epoch 37/80\n",
            "84/84 - 1s - loss: 0.9483 - accuracy: 0.7173 - 987ms/epoch - 12ms/step\n",
            "Epoch 38/80\n",
            "84/84 - 1s - loss: 0.9218 - accuracy: 0.7261 - 797ms/epoch - 9ms/step\n",
            "Epoch 39/80\n",
            "84/84 - 1s - loss: 0.8969 - accuracy: 0.7331 - 772ms/epoch - 9ms/step\n",
            "Epoch 40/80\n",
            "84/84 - 1s - loss: 0.8633 - accuracy: 0.7446 - 775ms/epoch - 9ms/step\n",
            "Epoch 41/80\n",
            "84/84 - 1s - loss: 0.8442 - accuracy: 0.7498 - 776ms/epoch - 9ms/step\n",
            "Epoch 42/80\n",
            "84/84 - 1s - loss: 0.8181 - accuracy: 0.7569 - 762ms/epoch - 9ms/step\n",
            "Epoch 43/80\n",
            "84/84 - 1s - loss: 0.7840 - accuracy: 0.7692 - 756ms/epoch - 9ms/step\n",
            "Epoch 44/80\n",
            "84/84 - 1s - loss: 0.7554 - accuracy: 0.7789 - 799ms/epoch - 10ms/step\n",
            "Epoch 45/80\n",
            "84/84 - 1s - loss: 0.7285 - accuracy: 0.7871 - 788ms/epoch - 9ms/step\n",
            "Epoch 46/80\n",
            "84/84 - 1s - loss: 0.7057 - accuracy: 0.7942 - 760ms/epoch - 9ms/step\n",
            "Epoch 47/80\n",
            "84/84 - 1s - loss: 0.6874 - accuracy: 0.7989 - 789ms/epoch - 9ms/step\n",
            "Epoch 48/80\n",
            "84/84 - 1s - loss: 0.6550 - accuracy: 0.8102 - 759ms/epoch - 9ms/step\n",
            "Epoch 49/80\n",
            "84/84 - 1s - loss: 0.6343 - accuracy: 0.8168 - 776ms/epoch - 9ms/step\n",
            "Epoch 50/80\n",
            "84/84 - 1s - loss: 0.6044 - accuracy: 0.8265 - 921ms/epoch - 11ms/step\n",
            "Epoch 51/80\n",
            "84/84 - 1s - loss: 0.5963 - accuracy: 0.8275 - 1s/epoch - 13ms/step\n",
            "Epoch 52/80\n",
            "84/84 - 1s - loss: 0.5679 - accuracy: 0.8378 - 966ms/epoch - 11ms/step\n",
            "Epoch 53/80\n",
            "84/84 - 1s - loss: 0.5468 - accuracy: 0.8449 - 782ms/epoch - 9ms/step\n",
            "Epoch 54/80\n",
            "84/84 - 1s - loss: 0.5320 - accuracy: 0.8492 - 828ms/epoch - 10ms/step\n",
            "Epoch 55/80\n",
            "84/84 - 1s - loss: 0.5017 - accuracy: 0.8596 - 761ms/epoch - 9ms/step\n",
            "Epoch 56/80\n",
            "84/84 - 1s - loss: 0.4801 - accuracy: 0.8679 - 766ms/epoch - 9ms/step\n",
            "Epoch 57/80\n",
            "84/84 - 1s - loss: 0.4641 - accuracy: 0.8725 - 782ms/epoch - 9ms/step\n",
            "Epoch 58/80\n",
            "84/84 - 1s - loss: 0.4604 - accuracy: 0.8715 - 776ms/epoch - 9ms/step\n",
            "Epoch 59/80\n",
            "84/84 - 1s - loss: 0.4326 - accuracy: 0.8822 - 777ms/epoch - 9ms/step\n",
            "Epoch 60/80\n",
            "84/84 - 1s - loss: 0.4366 - accuracy: 0.8785 - 804ms/epoch - 10ms/step\n",
            "Epoch 61/80\n",
            "84/84 - 1s - loss: 0.4014 - accuracy: 0.8921 - 781ms/epoch - 9ms/step\n",
            "Epoch 62/80\n",
            "84/84 - 1s - loss: 0.3792 - accuracy: 0.9006 - 792ms/epoch - 9ms/step\n",
            "Epoch 63/80\n",
            "84/84 - 1s - loss: 0.3551 - accuracy: 0.9088 - 795ms/epoch - 9ms/step\n",
            "Epoch 64/80\n",
            "84/84 - 1s - loss: 0.3430 - accuracy: 0.9125 - 794ms/epoch - 9ms/step\n",
            "Epoch 65/80\n",
            "84/84 - 1s - loss: 0.3306 - accuracy: 0.9158 - 973ms/epoch - 12ms/step\n",
            "Epoch 66/80\n",
            "84/84 - 1s - loss: 0.3213 - accuracy: 0.9182 - 1s/epoch - 12ms/step\n",
            "Epoch 67/80\n",
            "84/84 - 1s - loss: 0.3091 - accuracy: 0.9220 - 929ms/epoch - 11ms/step\n",
            "Epoch 68/80\n",
            "84/84 - 1s - loss: 0.2991 - accuracy: 0.9249 - 746ms/epoch - 9ms/step\n",
            "Epoch 69/80\n",
            "84/84 - 1s - loss: 0.2894 - accuracy: 0.9275 - 772ms/epoch - 9ms/step\n",
            "Epoch 70/80\n",
            "84/84 - 1s - loss: 0.2774 - accuracy: 0.9311 - 775ms/epoch - 9ms/step\n",
            "Epoch 71/80\n",
            "84/84 - 1s - loss: 0.2579 - accuracy: 0.9379 - 765ms/epoch - 9ms/step\n",
            "Epoch 72/80\n",
            "84/84 - 1s - loss: 0.2451 - accuracy: 0.9419 - 760ms/epoch - 9ms/step\n",
            "Epoch 73/80\n",
            "84/84 - 1s - loss: 0.2631 - accuracy: 0.9328 - 801ms/epoch - 10ms/step\n",
            "Epoch 74/80\n",
            "84/84 - 1s - loss: 0.2575 - accuracy: 0.9348 - 785ms/epoch - 9ms/step\n",
            "Epoch 75/80\n",
            "84/84 - 1s - loss: 0.2567 - accuracy: 0.9336 - 781ms/epoch - 9ms/step\n",
            "Epoch 76/80\n",
            "84/84 - 1s - loss: 0.2290 - accuracy: 0.9440 - 784ms/epoch - 9ms/step\n",
            "Epoch 77/80\n",
            "84/84 - 1s - loss: 0.2059 - accuracy: 0.9516 - 784ms/epoch - 9ms/step\n",
            "Epoch 78/80\n",
            "84/84 - 1s - loss: 0.1905 - accuracy: 0.9556 - 773ms/epoch - 9ms/step\n",
            "Epoch 79/80\n",
            "84/84 - 1s - loss: 0.1850 - accuracy: 0.9568 - 777ms/epoch - 9ms/step\n",
            "Epoch 80/80\n",
            "84/84 - 1s - loss: 0.1773 - accuracy: 0.9586 - 955ms/epoch - 11ms/step\n"
          ]
        },
        {
          "output_type": "execute_result",
          "data": {
            "text/plain": [
              "<keras.src.callbacks.History at 0x79657435af50>"
            ]
          },
          "metadata": {},
          "execution_count": 117
        }
      ]
    },
    {
      "cell_type": "code",
      "source": [
        "def sentence_generation(model, length):\n",
        "    # 문자에 대한 랜덤한 정수 생성\n",
        "    ix = [np.random.randint(vocab_size)]\n",
        "\n",
        "    # 랜덤한 정수로부터 맵핑되는 문자 생성\n",
        "    y_char = [index_to_char[ix[-1]]]\n",
        "    print(ix[-1],'번 문자',y_char[-1],'로 예측을 시작!')\n",
        "\n",
        "    # (1, length, 55) 크기의 X 생성. 즉, LSTM의 입력 시퀀스 생성\n",
        "    X = np.zeros((1, length, vocab_size))\n",
        "\n",
        "    for i in range(length):\n",
        "        # X[0][i][예측한 문자의 인덱스] = 1, 즉, 예측 문자를 다음 입력 시퀀스에 추가\n",
        "        X[0][i][ix[-1]] = 1\n",
        "        print(index_to_char[ix[-1]], end=\"\")\n",
        "        ix = np.argmax(model.predict(X[:, :i+1, :])[0], 1)\n",
        "        y_char.append(index_to_char[ix[-1]])\n",
        "    return ('').join(y_char)"
      ],
      "metadata": {
        "id": "kFygxs1pDdrf"
      },
      "execution_count": 120,
      "outputs": []
    },
    {
      "cell_type": "code",
      "source": [
        "result = sentence_generation(model, 100)\n",
        "print(result)"
      ],
      "metadata": {
        "colab": {
          "base_uri": "https://localhost:8080/"
        },
        "id": "SrfBJNg9DikO",
        "outputId": "21faba40-d098-4786-c94b-48951a7c784f"
      },
      "execution_count": 121,
      "outputs": [
        {
          "output_type": "stream",
          "name": "stdout",
          "text": [
            "31 번 문자 b 로 예측을 시작!\n",
            "1/1 [==============================] - 0s 29ms/step\n",
            "1/1 [==============================] - 0s 22ms/step\n",
            "1/1 [==============================] - 0s 25ms/step\n",
            "1/1 [==============================] - 0s 24ms/step\n",
            "1/1 [==============================] - 0s 24ms/step\n",
            "1/1 [==============================] - 0s 27ms/step\n",
            "1/1 [==============================] - 0s 23ms/step\n",
            "1/1 [==============================] - 0s 22ms/step\n",
            "1/1 [==============================] - 0s 25ms/step\n",
            "1/1 [==============================] - 0s 23ms/step\n",
            "1/1 [==============================] - 0s 24ms/step\n",
            "1/1 [==============================] - 0s 21ms/step\n",
            "1/1 [==============================] - 0s 21ms/step\n",
            "1/1 [==============================] - 0s 24ms/step\n",
            "1/1 [==============================] - 0s 25ms/step\n",
            "1/1 [==============================] - 0s 30ms/step\n",
            "1/1 [==============================] - 0s 22ms/step\n",
            "1/1 [==============================] - 0s 22ms/step\n",
            "1/1 [==============================] - 0s 21ms/step\n",
            "1/1 [==============================] - 0s 23ms/step\n",
            "1/1 [==============================] - 0s 21ms/step\n",
            "1/1 [==============================] - 0s 26ms/step\n",
            "1/1 [==============================] - 0s 27ms/step\n",
            "1/1 [==============================] - 0s 24ms/step\n",
            "1/1 [==============================] - 0s 24ms/step\n",
            "1/1 [==============================] - 0s 30ms/step\n",
            "1/1 [==============================] - 0s 28ms/step\n",
            "1/1 [==============================] - 0s 27ms/step\n",
            "1/1 [==============================] - 0s 26ms/step\n",
            "1/1 [==============================] - 0s 25ms/step\n",
            "1/1 [==============================] - 0s 24ms/step\n",
            "1/1 [==============================] - 0s 26ms/step\n",
            "1/1 [==============================] - 0s 28ms/step\n",
            "1/1 [==============================] - 0s 27ms/step\n",
            "1/1 [==============================] - 0s 28ms/step\n",
            "1/1 [==============================] - 0s 25ms/step\n",
            "1/1 [==============================] - 0s 27ms/step\n",
            "1/1 [==============================] - 0s 28ms/step\n",
            "1/1 [==============================] - 0s 26ms/step\n",
            "1/1 [==============================] - 0s 23ms/step\n",
            "1/1 [==============================] - 0s 27ms/step\n",
            "1/1 [==============================] - 0s 30ms/step\n",
            "1/1 [==============================] - 0s 28ms/step\n",
            "1/1 [==============================] - 0s 22ms/step\n",
            "1/1 [==============================] - 0s 21ms/step\n",
            "1/1 [==============================] - 0s 25ms/step\n",
            "1/1 [==============================] - 0s 26ms/step\n",
            "1/1 [==============================] - 0s 25ms/step\n",
            "1/1 [==============================] - 0s 27ms/step\n",
            "1/1 [==============================] - 0s 29ms/step\n",
            "1/1 [==============================] - 0s 25ms/step\n",
            "1/1 [==============================] - 0s 27ms/step\n",
            "1/1 [==============================] - 0s 25ms/step\n",
            "1/1 [==============================] - 0s 27ms/step\n",
            "1/1 [==============================] - 0s 31ms/step\n",
            "1/1 [==============================] - 0s 42ms/step\n",
            "1/1 [==============================] - 0s 38ms/step\n",
            "1/1 [==============================] - 0s 44ms/step\n",
            "1/1 [==============================] - 0s 41ms/step\n",
            "1/1 [==============================] - 0s 47ms/step\n",
            "1/1 [==============================] - 0s 40ms/step\n",
            "1/1 [==============================] - 0s 39ms/step\n",
            "1/1 [==============================] - 0s 31ms/step\n",
            "1/1 [==============================] - 0s 32ms/step\n",
            "1/1 [==============================] - 0s 33ms/step\n",
            "1/1 [==============================] - 0s 32ms/step\n",
            "1/1 [==============================] - 0s 34ms/step\n",
            "1/1 [==============================] - 0s 33ms/step\n",
            "1/1 [==============================] - 0s 44ms/step\n",
            "1/1 [==============================] - 0s 32ms/step\n",
            "1/1 [==============================] - 0s 35ms/step\n",
            "1/1 [==============================] - 0s 33ms/step\n",
            "1/1 [==============================] - 0s 34ms/step\n",
            "1/1 [==============================] - 0s 33ms/step\n",
            "1/1 [==============================] - 0s 33ms/step\n",
            "1/1 [==============================] - 0s 35ms/step\n",
            "1/1 [==============================] - 0s 37ms/step\n",
            "1/1 [==============================] - 0s 42ms/step\n",
            "1/1 [==============================] - 0s 40ms/step\n",
            "1/1 [==============================] - 0s 40ms/step\n",
            "1/1 [==============================] - 0s 25ms/step\n",
            "1/1 [==============================] - 0s 25ms/step\n",
            "1/1 [==============================] - 0s 28ms/step\n",
            "1/1 [==============================] - 0s 26ms/step\n",
            "1/1 [==============================] - 0s 23ms/step\n",
            "1/1 [==============================] - 0s 27ms/step\n",
            "1/1 [==============================] - 0s 27ms/step\n",
            "1/1 [==============================] - 0s 28ms/step\n",
            "1/1 [==============================] - 0s 29ms/step\n",
            "1/1 [==============================] - 0s 27ms/step\n",
            "1/1 [==============================] - 0s 23ms/step\n",
            "1/1 [==============================] - 0s 30ms/step\n",
            "1/1 [==============================] - 0s 28ms/step\n",
            "1/1 [==============================] - 0s 27ms/step\n",
            "1/1 [==============================] - 0s 31ms/step\n",
            "1/1 [==============================] - 0s 29ms/step\n",
            "1/1 [==============================] - 0s 28ms/step\n",
            "1/1 [==============================] - 0s 24ms/step\n",
            "1/1 [==============================] - 0s 30ms/step\n",
            "1/1 [==============================] - 0s 22ms/step\n",
            "berg literary archive foundation, the manager of the project gutenberg ebook alices adventures in won\n"
          ]
        }
      ]
    },
    {
      "cell_type": "code",
      "source": [],
      "metadata": {
        "id": "UQxQHsP4DlK5"
      },
      "execution_count": null,
      "outputs": []
    }
  ]
}