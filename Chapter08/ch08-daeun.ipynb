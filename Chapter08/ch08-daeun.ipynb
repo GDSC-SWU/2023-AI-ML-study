{
  "nbformat": 4,
  "nbformat_minor": 0,
  "metadata": {
    "colab": {
      "provenance": []
    },
    "kernelspec": {
      "name": "python3",
      "display_name": "Python 3"
    },
    "language_info": {
      "name": "python"
    }
  },
  "cells": [
    {
      "cell_type": "markdown",
      "source": [
        "### **순환 신경망**"
      ],
      "metadata": {
        "id": "IqJ-DXIwTutG"
      }
    },
    {
      "cell_type": "code",
      "execution_count": null,
      "metadata": {
        "colab": {
          "base_uri": "https://localhost:8080/"
        },
        "id": "DwRT36d1SkTj",
        "outputId": "178915e7-b792-49b3-d95f-2e9e06d6052b"
      },
      "outputs": [
        {
          "output_type": "stream",
          "name": "stdout",
          "text": [
            "Model: \"sequential\"\n",
            "_________________________________________________________________\n",
            " Layer (type)                Output Shape              Param #   \n",
            "=================================================================\n",
            " simple_rnn (SimpleRNN)      (None, 3)                 42        \n",
            "                                                                 \n",
            "=================================================================\n",
            "Total params: 42 (168.00 Byte)\n",
            "Trainable params: 42 (168.00 Byte)\n",
            "Non-trainable params: 0 (0.00 Byte)\n",
            "_________________________________________________________________\n"
          ]
        }
      ],
      "source": [
        "from tensorflow.keras.models import Sequential\n",
        "from tensorflow.keras.layers import SimpleRNN\n",
        "\n",
        "model = Sequential()\n",
        "model.add(SimpleRNN(3, input_shape=(2,10))) #출력층이 3\n",
        "# model.add(SimpleRNN(3, input_length=2, input_dim=10))와 동일함.\n",
        "model.summary()\n",
        "#hidden unit도 3"
      ]
    },
    {
      "cell_type": "code",
      "source": [
        "model = Sequential()\n",
        "model.add(SimpleRNN(3, batch_input_shape=(8,2,10))) #batch_size 미리 정의\n",
        "model.summary()\n"
      ],
      "metadata": {
        "colab": {
          "base_uri": "https://localhost:8080/"
        },
        "id": "zM6CAK3zYfoB",
        "outputId": "c7d6f767-3ed5-49f0-8be6-9b0c3aa98638"
      },
      "execution_count": null,
      "outputs": [
        {
          "output_type": "stream",
          "name": "stdout",
          "text": [
            "Model: \"sequential_1\"\n",
            "_________________________________________________________________\n",
            " Layer (type)                Output Shape              Param #   \n",
            "=================================================================\n",
            " simple_rnn_1 (SimpleRNN)    (8, 3)                    42        \n",
            "                                                                 \n",
            "=================================================================\n",
            "Total params: 42 (168.00 Byte)\n",
            "Trainable params: 42 (168.00 Byte)\n",
            "Non-trainable params: 0 (0.00 Byte)\n",
            "_________________________________________________________________\n"
          ]
        }
      ]
    },
    {
      "cell_type": "code",
      "source": [
        "model = Sequential()\n",
        "model.add(SimpleRNN(3, batch_input_shape=(8,2,10), return_sequences=True)) #return_sequences 값을 true -> 은닉상태 출력\n",
        "model.summary()\n"
      ],
      "metadata": {
        "colab": {
          "base_uri": "https://localhost:8080/"
        },
        "id": "0TbdF5vaYuRF",
        "outputId": "5d762ca1-e406-42ca-b71c-971d9c53f73c"
      },
      "execution_count": null,
      "outputs": [
        {
          "output_type": "stream",
          "name": "stdout",
          "text": [
            "Model: \"sequential_2\"\n",
            "_________________________________________________________________\n",
            " Layer (type)                Output Shape              Param #   \n",
            "=================================================================\n",
            " simple_rnn_2 (SimpleRNN)    (8, 2, 3)                 42        \n",
            "                                                                 \n",
            "=================================================================\n",
            "Total params: 42 (168.00 Byte)\n",
            "Trainable params: 42 (168.00 Byte)\n",
            "Non-trainable params: 0 (0.00 Byte)\n",
            "_________________________________________________________________\n"
          ]
        }
      ]
    },
    {
      "cell_type": "code",
      "source": [
        "import numpy as np\n",
        "\n",
        "timesteps = 10\n",
        "input_dim = 4\n",
        "hidden_units = 8\n",
        "\n",
        "# 입력에 해당되는 2D 텐서\n",
        "inputs = np.random.random((timesteps, input_dim))\n",
        "\n",
        "# 초기 은닉 상태는 0(벡터)로 초기화\n",
        "hidden_state_t = np.zeros((hidden_units,))\n",
        "\n",
        "print('초기 은닉 상태 :',hidden_state_t)\n"
      ],
      "metadata": {
        "colab": {
          "base_uri": "https://localhost:8080/"
        },
        "id": "ncFUwCdIY4c3",
        "outputId": "3f694215-18da-443e-d5f1-f9a33d38f7d9"
      },
      "execution_count": null,
      "outputs": [
        {
          "output_type": "stream",
          "name": "stdout",
          "text": [
            "초기 은닉 상태 : [0. 0. 0. 0. 0. 0. 0. 0.]\n"
          ]
        }
      ]
    },
    {
      "cell_type": "code",
      "source": [
        "Wx = np.random.random((hidden_units, input_dim))  # (8, 4)크기의 2D 텐서 생성. 입력에 대한 가중치.\n",
        "Wh = np.random.random((hidden_units, hidden_units)) # (8, 8)크기의 2D 텐서 생성. 은닉 상태에 대한 가중치.\n",
        "b = np.random.random((hidden_units,)) # (8,)크기의 1D 텐서 생성. 이 값은 편향(bias).\n",
        "\n",
        "print('가중치 Wx의 크기(shape) :',np.shape(Wx))\n",
        "print('가중치 Wh의 크기(shape) :',np.shape(Wh))\n",
        "print('편향의 크기(shape) :',np.shape(b))\n"
      ],
      "metadata": {
        "colab": {
          "base_uri": "https://localhost:8080/"
        },
        "id": "hg21PqR3Y4e8",
        "outputId": "8d47b079-ae0b-4ac7-ad37-b7e765845cd1"
      },
      "execution_count": null,
      "outputs": [
        {
          "output_type": "stream",
          "name": "stdout",
          "text": [
            "가중치 Wx의 크기(shape) : (8, 4)\n",
            "가중치 Wh의 크기(shape) : (8, 8)\n",
            "편향의 크기(shape) : (8,)\n"
          ]
        }
      ]
    },
    {
      "cell_type": "code",
      "source": [
        "total_hidden_states = []\n",
        "\n",
        "# 각 시점 별 입력값.\n",
        "for input_t in inputs:\n",
        "\n",
        "  # Wx * Xt + Wh * Ht-1 + b(bias)\n",
        "  output_t = np.tanh(np.dot(Wx,input_t) + np.dot(Wh,hidden_state_t) + b)\n",
        "\n",
        "  # 각 시점 t별 메모리 셀의 출력의 크기는 (timestep t, output_dim)\n",
        "  # 각 시점의 은닉 상태의 값을 계속해서 누적\n",
        "  total_hidden_states.append(list(output_t))\n",
        "  hidden_state_t = output_t\n",
        "\n",
        "# 출력 시 값을 깔끔하게 해주는 용도.\n",
        "total_hidden_states = np.stack(total_hidden_states, axis = 0)\n",
        "\n",
        "# (timesteps, output_dim)\n",
        "print('모든 시점의 은닉 상태 :')\n",
        "print(total_hidden_states)\n"
      ],
      "metadata": {
        "colab": {
          "base_uri": "https://localhost:8080/"
        },
        "id": "lCbxWClPY4g0",
        "outputId": "1200c274-487f-4bc3-e4e1-974061145bd9"
      },
      "execution_count": null,
      "outputs": [
        {
          "output_type": "stream",
          "name": "stdout",
          "text": [
            "모든 시점의 은닉 상태 :\n",
            "[[0.69747514 0.9520125  0.82406018 0.87947816 0.86533404 0.95485367\n",
            "  0.72802468 0.79849338]\n",
            " [0.99976415 0.99998336 0.99999095 0.99999547 0.99916752 0.9999936\n",
            "  0.99909236 0.99999604]\n",
            " [0.99993536 0.99999528 0.99999812 0.99999788 0.99968765 0.99999715\n",
            "  0.99966391 0.99999896]\n",
            " [0.99994989 0.99999572 0.99999851 0.99999645 0.99974042 0.99999744\n",
            "  0.99950693 0.99999856]\n",
            " [0.99991803 0.99999288 0.99999732 0.99999711 0.99946438 0.99999534\n",
            "  0.99957504 0.99999852]\n",
            " [0.99992828 0.9999931  0.99999736 0.99999598 0.99942784 0.99999514\n",
            "  0.99949505 0.99999815]\n",
            " [0.99986867 0.99998707 0.99999577 0.99999744 0.99873986 0.99999154\n",
            "  0.99952585 0.99999826]\n",
            " [0.99994802 0.99999671 0.99999902 0.99999909 0.99970984 0.99999852\n",
            "  0.9997079  0.99999941]\n",
            " [0.99978608 0.99997766 0.9999906  0.99999364 0.99924683 0.99998205\n",
            "  0.99946686 0.99999693]\n",
            " [0.9999018  0.99999115 0.99999706 0.99999617 0.99963199 0.99999463\n",
            "  0.99948314 0.99999821]]\n"
          ]
        }
      ]
    },
    {
      "cell_type": "code",
      "source": [
        "#은닉층 두개\n",
        "model = Sequential()\n",
        "model.add(SimpleRNN(hidden_units, input_length=10, input_dim=5, return_sequences=True))\n",
        "model.add(SimpleRNN(hidden_units, return_sequences=True))\n",
        "model.summary()"
      ],
      "metadata": {
        "colab": {
          "base_uri": "https://localhost:8080/"
        },
        "id": "GjR7ho6nY4jD",
        "outputId": "a01d593e-a095-463a-bf29-d7986b962403"
      },
      "execution_count": null,
      "outputs": [
        {
          "output_type": "stream",
          "name": "stdout",
          "text": [
            "Model: \"sequential_6\"\n",
            "_________________________________________________________________\n",
            " Layer (type)                Output Shape              Param #   \n",
            "=================================================================\n",
            " simple_rnn_10 (SimpleRNN)   (None, 10, 8)             112       \n",
            "                                                                 \n",
            " simple_rnn_11 (SimpleRNN)   (None, 10, 8)             136       \n",
            "                                                                 \n",
            "=================================================================\n",
            "Total params: 248 (992.00 Byte)\n",
            "Trainable params: 248 (992.00 Byte)\n",
            "Non-trainable params: 0 (0.00 Byte)\n",
            "_________________________________________________________________\n"
          ]
        }
      ]
    },
    {
      "cell_type": "code",
      "source": [
        "#양방향\n",
        "from tensorflow.keras.layers import Bidirectional\n",
        "\n",
        "timesteps = 10\n",
        "input_dim = 5\n",
        "\n",
        "model = Sequential()\n",
        "model.add(Bidirectional(SimpleRNN(hidden_units, return_sequences=True), input_shape=(timesteps, input_dim)))\n"
      ],
      "metadata": {
        "id": "H6-dzrqhY4lN"
      },
      "execution_count": null,
      "outputs": []
    },
    {
      "cell_type": "code",
      "source": [
        "model = Sequential()\n",
        "model.add(Bidirectional(SimpleRNN(hidden_units, return_sequences=True), input_shape=(timesteps, input_dim)))\n",
        "model.add(Bidirectional(SimpleRNN(hidden_units, return_sequences=True)))\n",
        "model.add(Bidirectional(SimpleRNN(hidden_units, return_sequences=True)))\n",
        "model.add(Bidirectional(SimpleRNN(hidden_units, return_sequences=True)))\n",
        "model.summary()"
      ],
      "metadata": {
        "colab": {
          "base_uri": "https://localhost:8080/"
        },
        "id": "gTllIsxJY4nY",
        "outputId": "ace41121-4ed0-4f2b-a976-d8590fbad1b7"
      },
      "execution_count": null,
      "outputs": [
        {
          "output_type": "stream",
          "name": "stdout",
          "text": [
            "Model: \"sequential_8\"\n",
            "_________________________________________________________________\n",
            " Layer (type)                Output Shape              Param #   \n",
            "=================================================================\n",
            " bidirectional_6 (Bidirecti  (None, 10, 16)            224       \n",
            " onal)                                                           \n",
            "                                                                 \n",
            " bidirectional_7 (Bidirecti  (None, 10, 16)            400       \n",
            " onal)                                                           \n",
            "                                                                 \n",
            " bidirectional_8 (Bidirecti  (None, 10, 16)            400       \n",
            " onal)                                                           \n",
            "                                                                 \n",
            " bidirectional_9 (Bidirecti  (None, 10, 16)            400       \n",
            " onal)                                                           \n",
            "                                                                 \n",
            "=================================================================\n",
            "Total params: 1424 (5.56 KB)\n",
            "Trainable params: 1424 (5.56 KB)\n",
            "Non-trainable params: 0 (0.00 Byte)\n",
            "_________________________________________________________________\n"
          ]
        }
      ]
    },
    {
      "cell_type": "markdown",
      "source": [
        "### **케라스의 SimpleRNN과 LSTM 이해하기**"
      ],
      "metadata": {
        "id": "BsXj67QJcYup"
      }
    },
    {
      "cell_type": "code",
      "source": [
        "import numpy as np\n",
        "import tensorflow as tf\n",
        "from tensorflow.keras.layers import SimpleRNN, LSTM, Bidirectional\n",
        "\n",
        "train_X = [[0.1, 4.2, 1.5, 1.1, 2.8], [1.0, 3.1, 2.5, 0.7, 1.1], [0.3, 2.1, 1.5, 2.1, 0.1], [2.2, 1.4, 0.5, 0.9, 1.1]]\n",
        "print(np.shape(train_X))\n",
        "#단어 벡터의 차원은 5"
      ],
      "metadata": {
        "colab": {
          "base_uri": "https://localhost:8080/"
        },
        "id": "92cPcjIDY4pr",
        "outputId": "fd0092e1-e24e-46f4-9c4c-20b314003c8b"
      },
      "execution_count": null,
      "outputs": [
        {
          "output_type": "stream",
          "name": "stdout",
          "text": [
            "(4, 5)\n"
          ]
        }
      ]
    },
    {
      "cell_type": "code",
      "source": [
        "train_X = [[[0.1, 4.2, 1.5, 1.1, 2.8], [1.0, 3.1, 2.5, 0.7, 1.1], [0.3, 2.1, 1.5, 2.1, 0.1], [2.2, 1.4, 0.5, 0.9, 1.1]]]\n",
        "train_X = np.array(train_X, dtype=np.float32)\n",
        "print(train_X.shape)\n",
        "#배치크기 1을 추가하여 3D텐서로 변경"
      ],
      "metadata": {
        "colab": {
          "base_uri": "https://localhost:8080/"
        },
        "id": "bhploKmRY4tT",
        "outputId": "5b784cf0-3c8a-43f3-cf2e-def3aca23e08"
      },
      "execution_count": null,
      "outputs": [
        {
          "output_type": "stream",
          "name": "stdout",
          "text": [
            "(1, 4, 5)\n"
          ]
        }
      ]
    },
    {
      "cell_type": "code",
      "source": [
        "rnn = SimpleRNN(3)\n",
        "# rnn = SimpleRNN(3, return_sequences=False, return_state=False)와 동일.\n",
        "hidden_state = rnn(train_X)\n",
        "\n",
        "print('hidden state : {}, shape: {}'.format(hidden_state, hidden_state.shape))\n"
      ],
      "metadata": {
        "colab": {
          "base_uri": "https://localhost:8080/"
        },
        "id": "6db0pmFcfj9Q",
        "outputId": "b4246bc5-ac44-4571-a29c-8a7bae202b5e"
      },
      "execution_count": null,
      "outputs": [
        {
          "output_type": "stream",
          "name": "stdout",
          "text": [
            "hidden state : [[-0.9948007   0.80878836 -0.7302251 ]], shape: (1, 3)\n"
          ]
        }
      ]
    },
    {
      "cell_type": "code",
      "source": [
        "rnn = SimpleRNN(3, return_sequences=True) #return_sequence=true로 해서 은닉상태 출력\n",
        "hidden_states = rnn(train_X)\n",
        "\n",
        "print('hidden states : {}, shape: {}'.format(hidden_states, hidden_states.shape))\n"
      ],
      "metadata": {
        "colab": {
          "base_uri": "https://localhost:8080/"
        },
        "id": "_KZBMFmzfj_q",
        "outputId": "7b5f8153-f10a-43b8-bc9f-7fbb33dd8fbf"
      },
      "execution_count": null,
      "outputs": [
        {
          "output_type": "stream",
          "name": "stdout",
          "text": [
            "hidden states : [[[-0.99957275 -0.97253996  0.6890963 ]\n",
            "  [-0.9982143  -0.850565    0.04091832]\n",
            "  [-0.98033166  0.4973345   0.7508743 ]\n",
            "  [-0.7624582  -0.8807801   0.98852897]]], shape: (1, 4, 3)\n"
          ]
        }
      ]
    },
    {
      "cell_type": "code",
      "source": [
        "rnn = SimpleRNN(3, return_sequences=True, return_state=True) #은닉상태 출력, 마지막 시점의 은닉상태 출력\n",
        "hidden_states, last_state = rnn(train_X)\n",
        "\n",
        "print('hidden states : {}, shape: {}'.format(hidden_states, hidden_states.shape))\n",
        "print('last hidden state : {}, shape: {}'.format(last_state, last_state.shape))\n"
      ],
      "metadata": {
        "colab": {
          "base_uri": "https://localhost:8080/"
        },
        "id": "PxMqST_ffkD-",
        "outputId": "331bc235-f8d2-4d7b-c500-21feefeb3547"
      },
      "execution_count": null,
      "outputs": [
        {
          "output_type": "stream",
          "name": "stdout",
          "text": [
            "hidden states : [[[ 0.5517705   0.9243687   0.9988912 ]\n",
            "  [-0.70834166  0.25067243  0.70666975]\n",
            "  [-0.8267746   0.99512553  0.9526299 ]\n",
            "  [-0.8751349   0.97075963  0.90179384]]], shape: (1, 4, 3)\n",
            "last hidden state : [[-0.8751349   0.97075963  0.90179384]], shape: (1, 3)\n"
          ]
        }
      ]
    },
    {
      "cell_type": "code",
      "source": [
        "rnn = SimpleRNN(3, return_sequences=False, return_state=True) #모두 마지막 시점의 은닉 상태 출력\n",
        "hidden_state, last_state = rnn(train_X)\n",
        "\n",
        "print('hidden state : {}, shape: {}'.format(hidden_state, hidden_state.shape))\n",
        "print('last hidden state : {}, shape: {}'.format(last_state, last_state.shape))\n"
      ],
      "metadata": {
        "colab": {
          "base_uri": "https://localhost:8080/"
        },
        "id": "m61vjIovfkGW",
        "outputId": "4631269c-2c3b-4c4a-ee4e-864fb21afb49"
      },
      "execution_count": null,
      "outputs": [
        {
          "output_type": "stream",
          "name": "stdout",
          "text": [
            "hidden state : [[ 0.9189658  -0.64069396  0.9764519 ]], shape: (1, 3)\n",
            "last hidden state : [[ 0.9189658  -0.64069396  0.9764519 ]], shape: (1, 3)\n"
          ]
        }
      ]
    },
    {
      "cell_type": "code",
      "source": [
        "lstm = LSTM(3, return_sequences=False, return_state=True)\n",
        "hidden_state, last_state, last_cell_state = lstm(train_X)\n",
        "\n",
        "print('hidden state : {}, shape: {}'.format(hidden_state, hidden_state.shape)) #마지막 은닉상태와 shape 출력\n",
        "print('last hidden state : {}, shape: {}'.format(last_state, last_state.shape))\n",
        "print('last cell state : {}, shape: {}'.format(last_cell_state, last_cell_state.shape)) #셀 상태까지\n"
      ],
      "metadata": {
        "colab": {
          "base_uri": "https://localhost:8080/"
        },
        "id": "kQo6YK__fkIu",
        "outputId": "a18882a5-87b6-4ff8-f41b-02dc0f7d42f6"
      },
      "execution_count": null,
      "outputs": [
        {
          "output_type": "stream",
          "name": "stdout",
          "text": [
            "hidden state : [[-0.29802382  0.26670095  0.12661272]], shape: (1, 3)\n",
            "last hidden state : [[-0.29802382  0.26670095  0.12661272]], shape: (1, 3)\n",
            "last cell state : [[-0.62705266  0.35841253  0.47645295]], shape: (1, 3)\n"
          ]
        }
      ]
    },
    {
      "cell_type": "code",
      "source": [
        "lstm = LSTM(3, return_sequences=True, return_state=True)\n",
        "hidden_states, last_hidden_state, last_cell_state = lstm(train_X)\n",
        "\n",
        "print('hidden states : {}, shape: {}'.format(hidden_states, hidden_states.shape))#모든 시점의 은닉상태 출력\n",
        "print('last hidden state : {}, shape: {}'.format(last_hidden_state, last_hidden_state.shape))\n",
        "print('last cell state : {}, shape: {}'.format(last_cell_state, last_cell_state.shape))\n"
      ],
      "metadata": {
        "colab": {
          "base_uri": "https://localhost:8080/"
        },
        "id": "GO4dRhg9iv7P",
        "outputId": "b5c35f13-4d30-4268-ac15-65125ebe1279"
      },
      "execution_count": null,
      "outputs": [
        {
          "output_type": "stream",
          "name": "stdout",
          "text": [
            "hidden states : [[[-0.22552623 -0.04550451  0.39649454]\n",
            "  [-0.2122874  -0.03874421  0.43619826]\n",
            "  [-0.3538742   0.08344807  0.5200256 ]\n",
            "  [-0.4719701  -0.00708192  0.30684656]]], shape: (1, 4, 3)\n",
            "last hidden state : [[-0.4719701  -0.00708192  0.30684656]], shape: (1, 3)\n",
            "last cell state : [[-0.82930833 -0.01085801  0.8804437 ]], shape: (1, 3)\n"
          ]
        }
      ]
    },
    {
      "cell_type": "code",
      "source": [
        "k_init = tf.keras.initializers.Constant(value=0.1)\n",
        "b_init = tf.keras.initializers.Constant(value=0)\n",
        "r_init = tf.keras.initializers.Constant(value=0.1)\n"
      ],
      "metadata": {
        "id": "_6xU8OMtiv9f"
      },
      "execution_count": null,
      "outputs": []
    },
    {
      "cell_type": "code",
      "source": [
        "bilstm = Bidirectional(LSTM(3, return_sequences=False, return_state=True, \\\n",
        "                            kernel_initializer=k_init, bias_initializer=b_init, recurrent_initializer=r_init)) #마지막 시점 은닉상태 출력\n",
        "hidden_states, forward_h, forward_c, backward_h, backward_c = bilstm(train_X)\n",
        "\n",
        "print('hidden states : {}, shape: {}'.format(hidden_states, hidden_states.shape))\n",
        "print('forward state : {}, shape: {}'.format(forward_h, forward_h.shape)) #정방향 은닉상태\n",
        "print('backward state : {}, shape: {}'.format(backward_h, backward_h.shape))#역방향 은닉상태\n"
      ],
      "metadata": {
        "colab": {
          "base_uri": "https://localhost:8080/"
        },
        "id": "6yxqNt_siv_x",
        "outputId": "98a973c7-09b1-4ffa-bc95-695aba38d81a"
      },
      "execution_count": null,
      "outputs": [
        {
          "output_type": "stream",
          "name": "stdout",
          "text": [
            "hidden states : [[0.6303138 0.6303138 0.6303138 0.7038734 0.7038734 0.7038734]], shape: (1, 6)\n",
            "forward state : [[0.6303138 0.6303138 0.6303138]], shape: (1, 3)\n",
            "backward state : [[0.7038734 0.7038734 0.7038734]], shape: (1, 3)\n"
          ]
        }
      ]
    },
    {
      "cell_type": "code",
      "source": [
        "bilstm = Bidirectional(LSTM(3, return_sequences=True, return_state=True, \\\n",
        "                            kernel_initializer=k_init, bias_initializer=b_init, recurrent_initializer=r_init)) #모든 상태 은닉상태 출력\n",
        "hidden_states, forward_h, forward_c, backward_h, backward_c = bilstm(train_X)\n"
      ],
      "metadata": {
        "id": "z45RSbMhiwCK"
      },
      "execution_count": null,
      "outputs": []
    },
    {
      "cell_type": "code",
      "source": [
        "print('hidden states : {}, shape: {}'.format(hidden_states, hidden_states.shape))\n",
        "print('forward state : {}, shape: {}'.format(forward_h, forward_h.shape))\n",
        "print('backward state : {}, shape: {}'.format(backward_h, backward_h.shape))\n"
      ],
      "metadata": {
        "colab": {
          "base_uri": "https://localhost:8080/"
        },
        "id": "Aw2udcabiwEc",
        "outputId": "352b9f2e-0c13-4bfb-c280-eb3d832ae36c"
      },
      "execution_count": null,
      "outputs": [
        {
          "output_type": "stream",
          "name": "stdout",
          "text": [
            "hidden states : [[[0.35906473 0.35906473 0.35906473 0.7038734  0.7038734  0.7038734 ]\n",
            "  [0.55111325 0.55111325 0.55111325 0.58863586 0.58863586 0.58863586]\n",
            "  [0.59115744 0.59115744 0.59115744 0.3951699  0.3951699  0.3951699 ]\n",
            "  [0.6303138  0.6303138  0.6303138  0.21942244 0.21942244 0.21942244]]], shape: (1, 4, 6)\n",
            "forward state : [[0.6303138 0.6303138 0.6303138]], shape: (1, 3)\n",
            "backward state : [[0.7038734 0.7038734 0.7038734]], shape: (1, 3)\n"
          ]
        }
      ]
    },
    {
      "cell_type": "markdown",
      "source": [
        "### **RNN을 이용한 텍스트 생성**"
      ],
      "metadata": {
        "id": "bo8e3jrakAxE"
      }
    },
    {
      "cell_type": "code",
      "source": [
        "import numpy as np\n",
        "from tensorflow.keras.preprocessing.text import Tokenizer\n",
        "from tensorflow.keras.preprocessing.sequence import pad_sequences\n",
        "from tensorflow.keras.utils import to_categorical\n",
        "\n",
        "text = \"\"\"경마장에 있는 말이 뛰고 있다\\n\n",
        "그의 말이 법이다\\n\n",
        "가는 말이 고와야 오는 말이 곱다\\n\"\"\"\n",
        "\n",
        "tokenizer = Tokenizer() #토크나이저\n",
        "tokenizer.fit_on_texts([text])\n",
        "vocab_size = len(tokenizer.word_index) + 1 #패딩을 위한 0을 고려하여 +1\n",
        "print('단어 집합의 크기 : %d' % vocab_size)\n",
        "print(tokenizer.word_index)\n"
      ],
      "metadata": {
        "colab": {
          "base_uri": "https://localhost:8080/"
        },
        "id": "u57N0IDukMHr",
        "outputId": "9c8b281f-ce89-4b15-eae1-df064b96c183"
      },
      "execution_count": 1,
      "outputs": [
        {
          "output_type": "stream",
          "name": "stdout",
          "text": [
            "단어 집합의 크기 : 12\n",
            "{'말이': 1, '경마장에': 2, '있는': 3, '뛰고': 4, '있다': 5, '그의': 6, '법이다': 7, '가는': 8, '고와야': 9, '오는': 10, '곱다': 11}\n"
          ]
        }
      ]
    },
    {
      "cell_type": "code",
      "source": [
        "print(vocab_size)"
      ],
      "metadata": {
        "colab": {
          "base_uri": "https://localhost:8080/"
        },
        "id": "TCCniH-hmSCS",
        "outputId": "4c8b39ec-ab97-426d-f871-77b3e5279348"
      },
      "execution_count": 2,
      "outputs": [
        {
          "output_type": "stream",
          "name": "stdout",
          "text": [
            "12\n"
          ]
        }
      ]
    },
    {
      "cell_type": "code",
      "source": [
        "sequences = list()\n",
        "for line in text.split('\\n'): # 줄바꿈 문자를 기준으로 문장 토큰화\n",
        "  #줄바꿈을 기준으로 문장을 가져와서 숫자로 바꿔서 저장함 -> 결국 encoded의 길이는 단어의 개수\n",
        "    encoded = tokenizer.texts_to_sequences([line])[0] #경마장에 있는 말이 뛰고 있다\n",
        "    print(encoded)\n",
        "    for i in range(1, len(encoded)):\n",
        "        sequence = encoded[:i+1]\n",
        "        sequences.append(sequence)\n",
        "        #경마장에 있는\n",
        "        #경마장에 있는 말이\n",
        "        #경마장에 있는 말이 뛰고\n",
        "        #경마장에 있는 말이 뛰고 있다\n",
        "\n",
        "print('학습에 사용할 샘플의 개수: %d' % len(sequences))\n"
      ],
      "metadata": {
        "colab": {
          "base_uri": "https://localhost:8080/"
        },
        "id": "IM-Bn8dPkMJ_",
        "outputId": "dc788686-255b-49f7-d821-a087d66e0790"
      },
      "execution_count": 3,
      "outputs": [
        {
          "output_type": "stream",
          "name": "stdout",
          "text": [
            "[2, 3, 1, 4, 5]\n",
            "[]\n",
            "[6, 1, 7]\n",
            "[]\n",
            "[8, 1, 9, 10, 1, 11]\n",
            "[]\n",
            "학습에 사용할 샘플의 개수: 11\n"
          ]
        }
      ]
    },
    {
      "cell_type": "code",
      "source": [
        "max_len = max(len(l) for l in sequences) # 모든 샘플에서 길이가 가장 긴 샘플의 길이 출력\n",
        "print('샘플의 최대 길이 : {}'.format(max_len))\n",
        "#전체 샘플의 길이를 일치시켜 주어야하기 때문에 가장 긴 샘플의 길이 확인"
      ],
      "metadata": {
        "colab": {
          "base_uri": "https://localhost:8080/"
        },
        "id": "aFvg4rOYkMMC",
        "outputId": "c80c97be-e6c3-4e5b-cc32-50fac3df9248"
      },
      "execution_count": null,
      "outputs": [
        {
          "output_type": "stream",
          "name": "stdout",
          "text": [
            "샘플의 최대 길이 : 6\n"
          ]
        }
      ]
    },
    {
      "cell_type": "code",
      "source": [
        "sequences = pad_sequences(sequences, maxlen=max_len, padding='pre') #패딩 - 앞부터 0으로 채워주기\n",
        "print(sequences)"
      ],
      "metadata": {
        "colab": {
          "base_uri": "https://localhost:8080/"
        },
        "id": "KN7emacvkMN-",
        "outputId": "104c10f8-5b8f-43d5-c308-b71202c63439"
      },
      "execution_count": null,
      "outputs": [
        {
          "output_type": "stream",
          "name": "stdout",
          "text": [
            "[[ 0  0  0  0  2  3]\n",
            " [ 0  0  0  2  3  1]\n",
            " [ 0  0  2  3  1  4]\n",
            " [ 0  2  3  1  4  5]\n",
            " [ 0  0  0  0  6  1]\n",
            " [ 0  0  0  6  1  7]\n",
            " [ 0  0  0  0  8  1]\n",
            " [ 0  0  0  8  1  9]\n",
            " [ 0  0  8  1  9 10]\n",
            " [ 0  8  1  9 10  1]\n",
            " [ 8  1  9 10  1 11]]\n"
          ]
        }
      ]
    },
    {
      "cell_type": "code",
      "source": [
        "sequences = np.array(sequences)\n",
        "X = sequences[:,:-1]\n",
        "y = sequences[:,-1]\n",
        "#X와 y로 분리하기\n",
        "print(X)\n",
        "print(y)"
      ],
      "metadata": {
        "colab": {
          "base_uri": "https://localhost:8080/"
        },
        "id": "Ks9UpR3jkMQA",
        "outputId": "aa09bf43-5580-4a4a-b22a-877c20dd305f"
      },
      "execution_count": null,
      "outputs": [
        {
          "output_type": "stream",
          "name": "stdout",
          "text": [
            "[[ 0  0  0  0  2]\n",
            " [ 0  0  0  2  3]\n",
            " [ 0  0  2  3  1]\n",
            " [ 0  2  3  1  4]\n",
            " [ 0  0  0  0  6]\n",
            " [ 0  0  0  6  1]\n",
            " [ 0  0  0  0  8]\n",
            " [ 0  0  0  8  1]\n",
            " [ 0  0  8  1  9]\n",
            " [ 0  8  1  9 10]\n",
            " [ 8  1  9 10  1]]\n",
            "[ 3  1  4  5  1  7  1  9 10  1 11]\n"
          ]
        }
      ]
    },
    {
      "cell_type": "code",
      "source": [
        "y = to_categorical(y, num_classes=vocab_size)\n",
        "#레이블에 대한 원핫인코딩 수행\n",
        "print(y)"
      ],
      "metadata": {
        "colab": {
          "base_uri": "https://localhost:8080/"
        },
        "id": "ojSSYAfmkMR5",
        "outputId": "3b594e3c-c375-428c-fd31-a8240bff9215"
      },
      "execution_count": null,
      "outputs": [
        {
          "output_type": "stream",
          "name": "stdout",
          "text": [
            "[[0. 0. 0. 1. 0. 0. 0. 0. 0. 0. 0. 0.]\n",
            " [0. 1. 0. 0. 0. 0. 0. 0. 0. 0. 0. 0.]\n",
            " [0. 0. 0. 0. 1. 0. 0. 0. 0. 0. 0. 0.]\n",
            " [0. 0. 0. 0. 0. 1. 0. 0. 0. 0. 0. 0.]\n",
            " [0. 1. 0. 0. 0. 0. 0. 0. 0. 0. 0. 0.]\n",
            " [0. 0. 0. 0. 0. 0. 0. 1. 0. 0. 0. 0.]\n",
            " [0. 1. 0. 0. 0. 0. 0. 0. 0. 0. 0. 0.]\n",
            " [0. 0. 0. 0. 0. 0. 0. 0. 0. 1. 0. 0.]\n",
            " [0. 0. 0. 0. 0. 0. 0. 0. 0. 0. 1. 0.]\n",
            " [0. 1. 0. 0. 0. 0. 0. 0. 0. 0. 0. 0.]\n",
            " [0. 0. 0. 0. 0. 0. 0. 0. 0. 0. 0. 1.]]\n"
          ]
        }
      ]
    },
    {
      "cell_type": "code",
      "source": [
        "from tensorflow.keras.models import Sequential\n",
        "from tensorflow.keras.layers import Embedding, Dense, SimpleRNN\n",
        "\n",
        "embedding_dim = 10\n",
        "hidden_units = 32\n",
        "\n",
        "model = Sequential()\n",
        "model.add(Embedding(vocab_size, embedding_dim))#첫번째 인자 : 단어사전의 크기, 두번째 인자 : 임베딩 차원 / 투사층\n",
        "#12개의 단어를 포함한 Embedding 레이어를 선언할 것이고 각 단어는 10차원으로 분산 표현할 것이다\n",
        "model.add(SimpleRNN(hidden_units))#은닉층\n",
        "model.add(Dense(vocab_size, activation='softmax'))#활성화 함수 = 소프트맥스 / 출력층\n",
        "model.compile(loss='categorical_crossentropy', optimizer='adam', metrics=['accuracy'])#손실함수 : 크로스 엔트로피 함수\n",
        "model.fit(X, y, epochs=200, verbose=2)#epoch : 200\n",
        "\n"
      ],
      "metadata": {
        "colab": {
          "base_uri": "https://localhost:8080/"
        },
        "id": "26d4ncLJkMT4",
        "outputId": "00a933fe-dd6c-4037-96b5-4cd38e685181"
      },
      "execution_count": null,
      "outputs": [
        {
          "output_type": "stream",
          "name": "stdout",
          "text": [
            "Epoch 1/200\n",
            "1/1 - 1s - loss: 2.5041 - accuracy: 0.0000e+00 - 1s/epoch - 1s/step\n",
            "Epoch 2/200\n",
            "1/1 - 0s - loss: 2.4906 - accuracy: 0.0909 - 7ms/epoch - 7ms/step\n",
            "Epoch 3/200\n",
            "1/1 - 0s - loss: 2.4777 - accuracy: 0.0909 - 9ms/epoch - 9ms/step\n",
            "Epoch 4/200\n",
            "1/1 - 0s - loss: 2.4652 - accuracy: 0.3636 - 8ms/epoch - 8ms/step\n",
            "Epoch 5/200\n",
            "1/1 - 0s - loss: 2.4530 - accuracy: 0.3636 - 8ms/epoch - 8ms/step\n",
            "Epoch 6/200\n",
            "1/1 - 0s - loss: 2.4409 - accuracy: 0.3636 - 7ms/epoch - 7ms/step\n",
            "Epoch 7/200\n",
            "1/1 - 0s - loss: 2.4289 - accuracy: 0.4545 - 7ms/epoch - 7ms/step\n",
            "Epoch 8/200\n",
            "1/1 - 0s - loss: 2.4167 - accuracy: 0.5455 - 7ms/epoch - 7ms/step\n",
            "Epoch 9/200\n",
            "1/1 - 0s - loss: 2.4044 - accuracy: 0.4545 - 7ms/epoch - 7ms/step\n",
            "Epoch 10/200\n",
            "1/1 - 0s - loss: 2.3917 - accuracy: 0.4545 - 9ms/epoch - 9ms/step\n",
            "Epoch 11/200\n",
            "1/1 - 0s - loss: 2.3786 - accuracy: 0.4545 - 9ms/epoch - 9ms/step\n",
            "Epoch 12/200\n",
            "1/1 - 0s - loss: 2.3651 - accuracy: 0.4545 - 6ms/epoch - 6ms/step\n",
            "Epoch 13/200\n",
            "1/1 - 0s - loss: 2.3509 - accuracy: 0.4545 - 8ms/epoch - 8ms/step\n",
            "Epoch 14/200\n",
            "1/1 - 0s - loss: 2.3361 - accuracy: 0.3636 - 7ms/epoch - 7ms/step\n",
            "Epoch 15/200\n",
            "1/1 - 0s - loss: 2.3205 - accuracy: 0.3636 - 6ms/epoch - 6ms/step\n",
            "Epoch 16/200\n",
            "1/1 - 0s - loss: 2.3040 - accuracy: 0.3636 - 7ms/epoch - 7ms/step\n",
            "Epoch 17/200\n",
            "1/1 - 0s - loss: 2.2867 - accuracy: 0.3636 - 8ms/epoch - 8ms/step\n",
            "Epoch 18/200\n",
            "1/1 - 0s - loss: 2.2684 - accuracy: 0.3636 - 7ms/epoch - 7ms/step\n",
            "Epoch 19/200\n",
            "1/1 - 0s - loss: 2.2490 - accuracy: 0.3636 - 9ms/epoch - 9ms/step\n",
            "Epoch 20/200\n",
            "1/1 - 0s - loss: 2.2286 - accuracy: 0.3636 - 11ms/epoch - 11ms/step\n",
            "Epoch 21/200\n",
            "1/1 - 0s - loss: 2.2071 - accuracy: 0.3636 - 8ms/epoch - 8ms/step\n",
            "Epoch 22/200\n",
            "1/1 - 0s - loss: 2.1844 - accuracy: 0.3636 - 9ms/epoch - 9ms/step\n",
            "Epoch 23/200\n",
            "1/1 - 0s - loss: 2.1608 - accuracy: 0.3636 - 12ms/epoch - 12ms/step\n",
            "Epoch 24/200\n",
            "1/1 - 0s - loss: 2.1361 - accuracy: 0.3636 - 8ms/epoch - 8ms/step\n",
            "Epoch 25/200\n",
            "1/1 - 0s - loss: 2.1105 - accuracy: 0.3636 - 8ms/epoch - 8ms/step\n",
            "Epoch 26/200\n",
            "1/1 - 0s - loss: 2.0841 - accuracy: 0.3636 - 7ms/epoch - 7ms/step\n",
            "Epoch 27/200\n",
            "1/1 - 0s - loss: 2.0571 - accuracy: 0.3636 - 7ms/epoch - 7ms/step\n",
            "Epoch 28/200\n",
            "1/1 - 0s - loss: 2.0298 - accuracy: 0.3636 - 7ms/epoch - 7ms/step\n",
            "Epoch 29/200\n",
            "1/1 - 0s - loss: 2.0025 - accuracy: 0.3636 - 7ms/epoch - 7ms/step\n",
            "Epoch 30/200\n",
            "1/1 - 0s - loss: 1.9754 - accuracy: 0.3636 - 7ms/epoch - 7ms/step\n",
            "Epoch 31/200\n",
            "1/1 - 0s - loss: 1.9490 - accuracy: 0.3636 - 7ms/epoch - 7ms/step\n",
            "Epoch 32/200\n",
            "1/1 - 0s - loss: 1.9237 - accuracy: 0.3636 - 7ms/epoch - 7ms/step\n",
            "Epoch 33/200\n",
            "1/1 - 0s - loss: 1.8996 - accuracy: 0.3636 - 7ms/epoch - 7ms/step\n",
            "Epoch 34/200\n",
            "1/1 - 0s - loss: 1.8771 - accuracy: 0.3636 - 7ms/epoch - 7ms/step\n",
            "Epoch 35/200\n",
            "1/1 - 0s - loss: 1.8563 - accuracy: 0.3636 - 7ms/epoch - 7ms/step\n",
            "Epoch 36/200\n",
            "1/1 - 0s - loss: 1.8369 - accuracy: 0.3636 - 7ms/epoch - 7ms/step\n",
            "Epoch 37/200\n",
            "1/1 - 0s - loss: 1.8188 - accuracy: 0.3636 - 7ms/epoch - 7ms/step\n",
            "Epoch 38/200\n",
            "1/1 - 0s - loss: 1.8014 - accuracy: 0.3636 - 7ms/epoch - 7ms/step\n",
            "Epoch 39/200\n",
            "1/1 - 0s - loss: 1.7844 - accuracy: 0.3636 - 7ms/epoch - 7ms/step\n",
            "Epoch 40/200\n",
            "1/1 - 0s - loss: 1.7672 - accuracy: 0.3636 - 7ms/epoch - 7ms/step\n",
            "Epoch 41/200\n",
            "1/1 - 0s - loss: 1.7495 - accuracy: 0.3636 - 7ms/epoch - 7ms/step\n",
            "Epoch 42/200\n",
            "1/1 - 0s - loss: 1.7312 - accuracy: 0.3636 - 6ms/epoch - 6ms/step\n",
            "Epoch 43/200\n",
            "1/1 - 0s - loss: 1.7122 - accuracy: 0.3636 - 7ms/epoch - 7ms/step\n",
            "Epoch 44/200\n",
            "1/1 - 0s - loss: 1.6926 - accuracy: 0.3636 - 7ms/epoch - 7ms/step\n",
            "Epoch 45/200\n",
            "1/1 - 0s - loss: 1.6728 - accuracy: 0.4545 - 7ms/epoch - 7ms/step\n",
            "Epoch 46/200\n",
            "1/1 - 0s - loss: 1.6529 - accuracy: 0.4545 - 8ms/epoch - 8ms/step\n",
            "Epoch 47/200\n",
            "1/1 - 0s - loss: 1.6333 - accuracy: 0.4545 - 9ms/epoch - 9ms/step\n",
            "Epoch 48/200\n",
            "1/1 - 0s - loss: 1.6141 - accuracy: 0.4545 - 6ms/epoch - 6ms/step\n",
            "Epoch 49/200\n",
            "1/1 - 0s - loss: 1.5954 - accuracy: 0.4545 - 10ms/epoch - 10ms/step\n",
            "Epoch 50/200\n",
            "1/1 - 0s - loss: 1.5772 - accuracy: 0.4545 - 8ms/epoch - 8ms/step\n",
            "Epoch 51/200\n",
            "1/1 - 0s - loss: 1.5594 - accuracy: 0.4545 - 10ms/epoch - 10ms/step\n",
            "Epoch 52/200\n",
            "1/1 - 0s - loss: 1.5418 - accuracy: 0.5455 - 8ms/epoch - 8ms/step\n",
            "Epoch 53/200\n",
            "1/1 - 0s - loss: 1.5242 - accuracy: 0.6364 - 9ms/epoch - 9ms/step\n",
            "Epoch 54/200\n",
            "1/1 - 0s - loss: 1.5064 - accuracy: 0.6364 - 8ms/epoch - 8ms/step\n",
            "Epoch 55/200\n",
            "1/1 - 0s - loss: 1.4884 - accuracy: 0.6364 - 10ms/epoch - 10ms/step\n",
            "Epoch 56/200\n",
            "1/1 - 0s - loss: 1.4701 - accuracy: 0.6364 - 8ms/epoch - 8ms/step\n",
            "Epoch 57/200\n",
            "1/1 - 0s - loss: 1.4516 - accuracy: 0.6364 - 9ms/epoch - 9ms/step\n",
            "Epoch 58/200\n",
            "1/1 - 0s - loss: 1.4329 - accuracy: 0.6364 - 10ms/epoch - 10ms/step\n",
            "Epoch 59/200\n",
            "1/1 - 0s - loss: 1.4142 - accuracy: 0.6364 - 7ms/epoch - 7ms/step\n",
            "Epoch 60/200\n",
            "1/1 - 0s - loss: 1.3955 - accuracy: 0.6364 - 8ms/epoch - 8ms/step\n",
            "Epoch 61/200\n",
            "1/1 - 0s - loss: 1.3769 - accuracy: 0.6364 - 8ms/epoch - 8ms/step\n",
            "Epoch 62/200\n",
            "1/1 - 0s - loss: 1.3586 - accuracy: 0.6364 - 8ms/epoch - 8ms/step\n",
            "Epoch 63/200\n",
            "1/1 - 0s - loss: 1.3405 - accuracy: 0.6364 - 8ms/epoch - 8ms/step\n",
            "Epoch 64/200\n",
            "1/1 - 0s - loss: 1.3227 - accuracy: 0.6364 - 8ms/epoch - 8ms/step\n",
            "Epoch 65/200\n",
            "1/1 - 0s - loss: 1.3050 - accuracy: 0.6364 - 9ms/epoch - 9ms/step\n",
            "Epoch 66/200\n",
            "1/1 - 0s - loss: 1.2876 - accuracy: 0.6364 - 8ms/epoch - 8ms/step\n",
            "Epoch 67/200\n",
            "1/1 - 0s - loss: 1.2704 - accuracy: 0.6364 - 8ms/epoch - 8ms/step\n",
            "Epoch 68/200\n",
            "1/1 - 0s - loss: 1.2532 - accuracy: 0.6364 - 8ms/epoch - 8ms/step\n",
            "Epoch 69/200\n",
            "1/1 - 0s - loss: 1.2362 - accuracy: 0.6364 - 9ms/epoch - 9ms/step\n",
            "Epoch 70/200\n",
            "1/1 - 0s - loss: 1.2193 - accuracy: 0.6364 - 8ms/epoch - 8ms/step\n",
            "Epoch 71/200\n",
            "1/1 - 0s - loss: 1.2026 - accuracy: 0.6364 - 8ms/epoch - 8ms/step\n",
            "Epoch 72/200\n",
            "1/1 - 0s - loss: 1.1860 - accuracy: 0.6364 - 8ms/epoch - 8ms/step\n",
            "Epoch 73/200\n",
            "1/1 - 0s - loss: 1.1695 - accuracy: 0.6364 - 8ms/epoch - 8ms/step\n",
            "Epoch 74/200\n",
            "1/1 - 0s - loss: 1.1532 - accuracy: 0.6364 - 10ms/epoch - 10ms/step\n",
            "Epoch 75/200\n",
            "1/1 - 0s - loss: 1.1371 - accuracy: 0.6364 - 10ms/epoch - 10ms/step\n",
            "Epoch 76/200\n",
            "1/1 - 0s - loss: 1.1212 - accuracy: 0.6364 - 7ms/epoch - 7ms/step\n",
            "Epoch 77/200\n",
            "1/1 - 0s - loss: 1.1054 - accuracy: 0.6364 - 6ms/epoch - 6ms/step\n",
            "Epoch 78/200\n",
            "1/1 - 0s - loss: 1.0898 - accuracy: 0.6364 - 9ms/epoch - 9ms/step\n",
            "Epoch 79/200\n",
            "1/1 - 0s - loss: 1.0743 - accuracy: 0.6364 - 9ms/epoch - 9ms/step\n",
            "Epoch 80/200\n",
            "1/1 - 0s - loss: 1.0589 - accuracy: 0.6364 - 9ms/epoch - 9ms/step\n",
            "Epoch 81/200\n",
            "1/1 - 0s - loss: 1.0437 - accuracy: 0.6364 - 8ms/epoch - 8ms/step\n",
            "Epoch 82/200\n",
            "1/1 - 0s - loss: 1.0285 - accuracy: 0.6364 - 8ms/epoch - 8ms/step\n",
            "Epoch 83/200\n",
            "1/1 - 0s - loss: 1.0134 - accuracy: 0.6364 - 9ms/epoch - 9ms/step\n",
            "Epoch 84/200\n",
            "1/1 - 0s - loss: 0.9984 - accuracy: 0.6364 - 9ms/epoch - 9ms/step\n",
            "Epoch 85/200\n",
            "1/1 - 0s - loss: 0.9835 - accuracy: 0.6364 - 9ms/epoch - 9ms/step\n",
            "Epoch 86/200\n",
            "1/1 - 0s - loss: 0.9687 - accuracy: 0.6364 - 8ms/epoch - 8ms/step\n",
            "Epoch 87/200\n",
            "1/1 - 0s - loss: 0.9539 - accuracy: 0.6364 - 9ms/epoch - 9ms/step\n",
            "Epoch 88/200\n",
            "1/1 - 0s - loss: 0.9393 - accuracy: 0.6364 - 8ms/epoch - 8ms/step\n",
            "Epoch 89/200\n",
            "1/1 - 0s - loss: 0.9247 - accuracy: 0.6364 - 8ms/epoch - 8ms/step\n",
            "Epoch 90/200\n",
            "1/1 - 0s - loss: 0.9102 - accuracy: 0.6364 - 11ms/epoch - 11ms/step\n",
            "Epoch 91/200\n",
            "1/1 - 0s - loss: 0.8958 - accuracy: 0.6364 - 10ms/epoch - 10ms/step\n",
            "Epoch 92/200\n",
            "1/1 - 0s - loss: 0.8814 - accuracy: 0.6364 - 8ms/epoch - 8ms/step\n",
            "Epoch 93/200\n",
            "1/1 - 0s - loss: 0.8672 - accuracy: 0.6364 - 8ms/epoch - 8ms/step\n",
            "Epoch 94/200\n",
            "1/1 - 0s - loss: 0.8529 - accuracy: 0.6364 - 8ms/epoch - 8ms/step\n",
            "Epoch 95/200\n",
            "1/1 - 0s - loss: 0.8388 - accuracy: 0.6364 - 8ms/epoch - 8ms/step\n",
            "Epoch 96/200\n",
            "1/1 - 0s - loss: 0.8247 - accuracy: 0.6364 - 13ms/epoch - 13ms/step\n",
            "Epoch 97/200\n",
            "1/1 - 0s - loss: 0.8107 - accuracy: 0.7273 - 14ms/epoch - 14ms/step\n",
            "Epoch 98/200\n",
            "1/1 - 0s - loss: 0.7968 - accuracy: 0.7273 - 8ms/epoch - 8ms/step\n",
            "Epoch 99/200\n",
            "1/1 - 0s - loss: 0.7830 - accuracy: 0.7273 - 8ms/epoch - 8ms/step\n",
            "Epoch 100/200\n",
            "1/1 - 0s - loss: 0.7692 - accuracy: 0.7273 - 14ms/epoch - 14ms/step\n",
            "Epoch 101/200\n",
            "1/1 - 0s - loss: 0.7555 - accuracy: 0.8182 - 9ms/epoch - 9ms/step\n",
            "Epoch 102/200\n",
            "1/1 - 0s - loss: 0.7419 - accuracy: 0.8182 - 8ms/epoch - 8ms/step\n",
            "Epoch 103/200\n",
            "1/1 - 0s - loss: 0.7283 - accuracy: 0.8182 - 9ms/epoch - 9ms/step\n",
            "Epoch 104/200\n",
            "1/1 - 0s - loss: 0.7149 - accuracy: 0.8182 - 13ms/epoch - 13ms/step\n",
            "Epoch 105/200\n",
            "1/1 - 0s - loss: 0.7015 - accuracy: 0.9091 - 11ms/epoch - 11ms/step\n",
            "Epoch 106/200\n",
            "1/1 - 0s - loss: 0.6883 - accuracy: 0.9091 - 10ms/epoch - 10ms/step\n",
            "Epoch 107/200\n",
            "1/1 - 0s - loss: 0.6751 - accuracy: 0.9091 - 11ms/epoch - 11ms/step\n",
            "Epoch 108/200\n",
            "1/1 - 0s - loss: 0.6621 - accuracy: 0.9091 - 7ms/epoch - 7ms/step\n",
            "Epoch 109/200\n",
            "1/1 - 0s - loss: 0.6491 - accuracy: 0.9091 - 10ms/epoch - 10ms/step\n",
            "Epoch 110/200\n",
            "1/1 - 0s - loss: 0.6363 - accuracy: 0.9091 - 7ms/epoch - 7ms/step\n",
            "Epoch 111/200\n",
            "1/1 - 0s - loss: 0.6236 - accuracy: 0.9091 - 8ms/epoch - 8ms/step\n",
            "Epoch 112/200\n",
            "1/1 - 0s - loss: 0.6110 - accuracy: 0.9091 - 12ms/epoch - 12ms/step\n",
            "Epoch 113/200\n",
            "1/1 - 0s - loss: 0.5985 - accuracy: 0.9091 - 11ms/epoch - 11ms/step\n",
            "Epoch 114/200\n",
            "1/1 - 0s - loss: 0.5861 - accuracy: 0.9091 - 11ms/epoch - 11ms/step\n",
            "Epoch 115/200\n",
            "1/1 - 0s - loss: 0.5739 - accuracy: 0.9091 - 12ms/epoch - 12ms/step\n",
            "Epoch 116/200\n",
            "1/1 - 0s - loss: 0.5618 - accuracy: 0.9091 - 11ms/epoch - 11ms/step\n",
            "Epoch 117/200\n",
            "1/1 - 0s - loss: 0.5499 - accuracy: 0.9091 - 11ms/epoch - 11ms/step\n",
            "Epoch 118/200\n",
            "1/1 - 0s - loss: 0.5381 - accuracy: 0.9091 - 13ms/epoch - 13ms/step\n",
            "Epoch 119/200\n",
            "1/1 - 0s - loss: 0.5265 - accuracy: 0.9091 - 11ms/epoch - 11ms/step\n",
            "Epoch 120/200\n",
            "1/1 - 0s - loss: 0.5150 - accuracy: 0.9091 - 11ms/epoch - 11ms/step\n",
            "Epoch 121/200\n",
            "1/1 - 0s - loss: 0.5037 - accuracy: 0.9091 - 13ms/epoch - 13ms/step\n",
            "Epoch 122/200\n",
            "1/1 - 0s - loss: 0.4925 - accuracy: 0.9091 - 12ms/epoch - 12ms/step\n",
            "Epoch 123/200\n",
            "1/1 - 0s - loss: 0.4816 - accuracy: 0.9091 - 7ms/epoch - 7ms/step\n",
            "Epoch 124/200\n",
            "1/1 - 0s - loss: 0.4708 - accuracy: 0.9091 - 7ms/epoch - 7ms/step\n",
            "Epoch 125/200\n",
            "1/1 - 0s - loss: 0.4601 - accuracy: 0.9091 - 10ms/epoch - 10ms/step\n",
            "Epoch 126/200\n",
            "1/1 - 0s - loss: 0.4497 - accuracy: 0.9091 - 8ms/epoch - 8ms/step\n",
            "Epoch 127/200\n",
            "1/1 - 0s - loss: 0.4395 - accuracy: 0.9091 - 8ms/epoch - 8ms/step\n",
            "Epoch 128/200\n",
            "1/1 - 0s - loss: 0.4294 - accuracy: 0.9091 - 11ms/epoch - 11ms/step\n",
            "Epoch 129/200\n",
            "1/1 - 0s - loss: 0.4195 - accuracy: 0.9091 - 8ms/epoch - 8ms/step\n",
            "Epoch 130/200\n",
            "1/1 - 0s - loss: 0.4098 - accuracy: 0.9091 - 11ms/epoch - 11ms/step\n",
            "Epoch 131/200\n",
            "1/1 - 0s - loss: 0.4003 - accuracy: 0.9091 - 7ms/epoch - 7ms/step\n",
            "Epoch 132/200\n",
            "1/1 - 0s - loss: 0.3910 - accuracy: 0.9091 - 10ms/epoch - 10ms/step\n",
            "Epoch 133/200\n",
            "1/1 - 0s - loss: 0.3819 - accuracy: 0.9091 - 9ms/epoch - 9ms/step\n",
            "Epoch 134/200\n",
            "1/1 - 0s - loss: 0.3730 - accuracy: 0.9091 - 10ms/epoch - 10ms/step\n",
            "Epoch 135/200\n",
            "1/1 - 0s - loss: 0.3643 - accuracy: 0.9091 - 11ms/epoch - 11ms/step\n",
            "Epoch 136/200\n",
            "1/1 - 0s - loss: 0.3558 - accuracy: 0.9091 - 8ms/epoch - 8ms/step\n",
            "Epoch 137/200\n",
            "1/1 - 0s - loss: 0.3475 - accuracy: 0.9091 - 8ms/epoch - 8ms/step\n",
            "Epoch 138/200\n",
            "1/1 - 0s - loss: 0.3393 - accuracy: 0.9091 - 8ms/epoch - 8ms/step\n",
            "Epoch 139/200\n",
            "1/1 - 0s - loss: 0.3314 - accuracy: 0.9091 - 8ms/epoch - 8ms/step\n",
            "Epoch 140/200\n",
            "1/1 - 0s - loss: 0.3236 - accuracy: 1.0000 - 8ms/epoch - 8ms/step\n",
            "Epoch 141/200\n",
            "1/1 - 0s - loss: 0.3160 - accuracy: 1.0000 - 8ms/epoch - 8ms/step\n",
            "Epoch 142/200\n",
            "1/1 - 0s - loss: 0.3087 - accuracy: 1.0000 - 7ms/epoch - 7ms/step\n",
            "Epoch 143/200\n",
            "1/1 - 0s - loss: 0.3015 - accuracy: 1.0000 - 7ms/epoch - 7ms/step\n",
            "Epoch 144/200\n",
            "1/1 - 0s - loss: 0.2944 - accuracy: 1.0000 - 7ms/epoch - 7ms/step\n",
            "Epoch 145/200\n",
            "1/1 - 0s - loss: 0.2876 - accuracy: 1.0000 - 10ms/epoch - 10ms/step\n",
            "Epoch 146/200\n",
            "1/1 - 0s - loss: 0.2809 - accuracy: 1.0000 - 8ms/epoch - 8ms/step\n",
            "Epoch 147/200\n",
            "1/1 - 0s - loss: 0.2744 - accuracy: 1.0000 - 7ms/epoch - 7ms/step\n",
            "Epoch 148/200\n",
            "1/1 - 0s - loss: 0.2681 - accuracy: 1.0000 - 8ms/epoch - 8ms/step\n",
            "Epoch 149/200\n",
            "1/1 - 0s - loss: 0.2619 - accuracy: 1.0000 - 8ms/epoch - 8ms/step\n",
            "Epoch 150/200\n",
            "1/1 - 0s - loss: 0.2559 - accuracy: 1.0000 - 7ms/epoch - 7ms/step\n",
            "Epoch 151/200\n",
            "1/1 - 0s - loss: 0.2501 - accuracy: 1.0000 - 7ms/epoch - 7ms/step\n",
            "Epoch 152/200\n",
            "1/1 - 0s - loss: 0.2444 - accuracy: 1.0000 - 7ms/epoch - 7ms/step\n",
            "Epoch 153/200\n",
            "1/1 - 0s - loss: 0.2389 - accuracy: 1.0000 - 7ms/epoch - 7ms/step\n",
            "Epoch 154/200\n",
            "1/1 - 0s - loss: 0.2335 - accuracy: 1.0000 - 7ms/epoch - 7ms/step\n",
            "Epoch 155/200\n",
            "1/1 - 0s - loss: 0.2282 - accuracy: 1.0000 - 7ms/epoch - 7ms/step\n",
            "Epoch 156/200\n",
            "1/1 - 0s - loss: 0.2231 - accuracy: 1.0000 - 7ms/epoch - 7ms/step\n",
            "Epoch 157/200\n",
            "1/1 - 0s - loss: 0.2182 - accuracy: 1.0000 - 7ms/epoch - 7ms/step\n",
            "Epoch 158/200\n",
            "1/1 - 0s - loss: 0.2133 - accuracy: 1.0000 - 7ms/epoch - 7ms/step\n",
            "Epoch 159/200\n",
            "1/1 - 0s - loss: 0.2086 - accuracy: 1.0000 - 7ms/epoch - 7ms/step\n",
            "Epoch 160/200\n",
            "1/1 - 0s - loss: 0.2041 - accuracy: 1.0000 - 7ms/epoch - 7ms/step\n",
            "Epoch 161/200\n",
            "1/1 - 0s - loss: 0.1996 - accuracy: 1.0000 - 7ms/epoch - 7ms/step\n",
            "Epoch 162/200\n",
            "1/1 - 0s - loss: 0.1953 - accuracy: 1.0000 - 7ms/epoch - 7ms/step\n",
            "Epoch 163/200\n",
            "1/1 - 0s - loss: 0.1911 - accuracy: 1.0000 - 8ms/epoch - 8ms/step\n",
            "Epoch 164/200\n",
            "1/1 - 0s - loss: 0.1870 - accuracy: 1.0000 - 8ms/epoch - 8ms/step\n",
            "Epoch 165/200\n",
            "1/1 - 0s - loss: 0.1830 - accuracy: 1.0000 - 7ms/epoch - 7ms/step\n",
            "Epoch 166/200\n",
            "1/1 - 0s - loss: 0.1791 - accuracy: 1.0000 - 9ms/epoch - 9ms/step\n",
            "Epoch 167/200\n",
            "1/1 - 0s - loss: 0.1753 - accuracy: 1.0000 - 9ms/epoch - 9ms/step\n",
            "Epoch 168/200\n",
            "1/1 - 0s - loss: 0.1716 - accuracy: 1.0000 - 7ms/epoch - 7ms/step\n",
            "Epoch 169/200\n",
            "1/1 - 0s - loss: 0.1681 - accuracy: 1.0000 - 8ms/epoch - 8ms/step\n",
            "Epoch 170/200\n",
            "1/1 - 0s - loss: 0.1646 - accuracy: 1.0000 - 7ms/epoch - 7ms/step\n",
            "Epoch 171/200\n",
            "1/1 - 0s - loss: 0.1612 - accuracy: 1.0000 - 10ms/epoch - 10ms/step\n",
            "Epoch 172/200\n",
            "1/1 - 0s - loss: 0.1579 - accuracy: 1.0000 - 10ms/epoch - 10ms/step\n",
            "Epoch 173/200\n",
            "1/1 - 0s - loss: 0.1547 - accuracy: 1.0000 - 7ms/epoch - 7ms/step\n",
            "Epoch 174/200\n",
            "1/1 - 0s - loss: 0.1515 - accuracy: 1.0000 - 8ms/epoch - 8ms/step\n",
            "Epoch 175/200\n",
            "1/1 - 0s - loss: 0.1485 - accuracy: 1.0000 - 8ms/epoch - 8ms/step\n",
            "Epoch 176/200\n",
            "1/1 - 0s - loss: 0.1455 - accuracy: 1.0000 - 7ms/epoch - 7ms/step\n",
            "Epoch 177/200\n",
            "1/1 - 0s - loss: 0.1426 - accuracy: 1.0000 - 7ms/epoch - 7ms/step\n",
            "Epoch 178/200\n",
            "1/1 - 0s - loss: 0.1398 - accuracy: 1.0000 - 7ms/epoch - 7ms/step\n",
            "Epoch 179/200\n",
            "1/1 - 0s - loss: 0.1371 - accuracy: 1.0000 - 7ms/epoch - 7ms/step\n",
            "Epoch 180/200\n",
            "1/1 - 0s - loss: 0.1344 - accuracy: 1.0000 - 7ms/epoch - 7ms/step\n",
            "Epoch 181/200\n",
            "1/1 - 0s - loss: 0.1318 - accuracy: 1.0000 - 7ms/epoch - 7ms/step\n",
            "Epoch 182/200\n",
            "1/1 - 0s - loss: 0.1293 - accuracy: 1.0000 - 7ms/epoch - 7ms/step\n",
            "Epoch 183/200\n",
            "1/1 - 0s - loss: 0.1268 - accuracy: 1.0000 - 7ms/epoch - 7ms/step\n",
            "Epoch 184/200\n",
            "1/1 - 0s - loss: 0.1244 - accuracy: 1.0000 - 7ms/epoch - 7ms/step\n",
            "Epoch 185/200\n",
            "1/1 - 0s - loss: 0.1221 - accuracy: 1.0000 - 7ms/epoch - 7ms/step\n",
            "Epoch 186/200\n",
            "1/1 - 0s - loss: 0.1198 - accuracy: 1.0000 - 8ms/epoch - 8ms/step\n",
            "Epoch 187/200\n",
            "1/1 - 0s - loss: 0.1176 - accuracy: 1.0000 - 7ms/epoch - 7ms/step\n",
            "Epoch 188/200\n",
            "1/1 - 0s - loss: 0.1154 - accuracy: 1.0000 - 7ms/epoch - 7ms/step\n",
            "Epoch 189/200\n",
            "1/1 - 0s - loss: 0.1133 - accuracy: 1.0000 - 7ms/epoch - 7ms/step\n",
            "Epoch 190/200\n",
            "1/1 - 0s - loss: 0.1112 - accuracy: 1.0000 - 9ms/epoch - 9ms/step\n",
            "Epoch 191/200\n",
            "1/1 - 0s - loss: 0.1092 - accuracy: 1.0000 - 8ms/epoch - 8ms/step\n",
            "Epoch 192/200\n",
            "1/1 - 0s - loss: 0.1072 - accuracy: 1.0000 - 10ms/epoch - 10ms/step\n",
            "Epoch 193/200\n",
            "1/1 - 0s - loss: 0.1053 - accuracy: 1.0000 - 8ms/epoch - 8ms/step\n",
            "Epoch 194/200\n",
            "1/1 - 0s - loss: 0.1035 - accuracy: 1.0000 - 8ms/epoch - 8ms/step\n",
            "Epoch 195/200\n",
            "1/1 - 0s - loss: 0.1017 - accuracy: 1.0000 - 9ms/epoch - 9ms/step\n",
            "Epoch 196/200\n",
            "1/1 - 0s - loss: 0.0999 - accuracy: 1.0000 - 8ms/epoch - 8ms/step\n",
            "Epoch 197/200\n",
            "1/1 - 0s - loss: 0.0981 - accuracy: 1.0000 - 9ms/epoch - 9ms/step\n",
            "Epoch 198/200\n",
            "1/1 - 0s - loss: 0.0965 - accuracy: 1.0000 - 7ms/epoch - 7ms/step\n",
            "Epoch 199/200\n",
            "1/1 - 0s - loss: 0.0948 - accuracy: 1.0000 - 8ms/epoch - 8ms/step\n",
            "Epoch 200/200\n",
            "1/1 - 0s - loss: 0.0932 - accuracy: 1.0000 - 8ms/epoch - 8ms/step\n"
          ]
        },
        {
          "output_type": "execute_result",
          "data": {
            "text/plain": [
              "<keras.src.callbacks.History at 0x784f0373e6e0>"
            ]
          },
          "metadata": {},
          "execution_count": 34
        }
      ]
    },
    {
      "cell_type": "code",
      "source": [
        "def sentence_generation(model, tokenizer, current_word, n): # 모델, 토크나이저, 현재 단어, 반복할 횟수\n",
        "    init_word = current_word\n",
        "    sentence = ''\n",
        "\n",
        "    # n번 반복\n",
        "    for _ in range(n):\n",
        "        # 현재 단어에 대한 정수 인코딩과 패딩\n",
        "        encoded = tokenizer.texts_to_sequences([current_word])[0]\n",
        "        encoded = pad_sequences([encoded], maxlen=5, padding='pre')\n",
        "        # 입력한 X(현재 단어)에 대해서 Y를 예측하고 Y(예측한 단어)를 result에 저장.\n",
        "        result = model.predict(encoded, verbose=0)\n",
        "        result = np.argmax(result, axis=1)\n",
        "\n",
        "        for word, index in tokenizer.word_index.items():\n",
        "            # 만약 예측한 단어와 인덱스와 동일한 단어가 있다면 break\n",
        "            if index == result:\n",
        "                break\n",
        "\n",
        "        # 현재 단어 + ' ' + 예측 단어를 현재 단어로 변경\n",
        "        current_word = current_word + ' '  + word\n",
        "\n",
        "        # 예측 단어를 문장에 저장\n",
        "        sentence = sentence + ' ' + word\n",
        "\n",
        "    sentence = init_word + sentence\n",
        "    return sentence\n"
      ],
      "metadata": {
        "id": "qnRiOpYYkMV_"
      },
      "execution_count": null,
      "outputs": []
    },
    {
      "cell_type": "code",
      "source": [
        "print(sentence_generation(model, tokenizer, '경마장에', 4))\n"
      ],
      "metadata": {
        "colab": {
          "base_uri": "https://localhost:8080/"
        },
        "id": "c8lvfZEHkMYB",
        "outputId": "221a4565-b531-40ad-d036-1e65843769d4"
      },
      "execution_count": null,
      "outputs": [
        {
          "output_type": "stream",
          "name": "stdout",
          "text": [
            "경마장에 있는 말이 뛰고 있다\n"
          ]
        }
      ]
    },
    {
      "cell_type": "code",
      "source": [
        "print(sentence_generation(model, tokenizer, '그의', 2))\n"
      ],
      "metadata": {
        "colab": {
          "base_uri": "https://localhost:8080/"
        },
        "id": "vWM2S6BAkMaG",
        "outputId": "7cf5d770-4885-47a8-b54f-a1a7dd78807c"
      },
      "execution_count": null,
      "outputs": [
        {
          "output_type": "stream",
          "name": "stdout",
          "text": [
            "그의 말이 법이다\n"
          ]
        }
      ]
    },
    {
      "cell_type": "code",
      "source": [
        "print(sentence_generation(model, tokenizer, '가는', 5))\n"
      ],
      "metadata": {
        "colab": {
          "base_uri": "https://localhost:8080/"
        },
        "id": "OW_mRZZ7kMcA",
        "outputId": "493d3ae5-c649-49cd-aaf2-aef760a37817"
      },
      "execution_count": null,
      "outputs": [
        {
          "output_type": "stream",
          "name": "stdout",
          "text": [
            "가는 말이 고와야 오는 말이 곱다\n"
          ]
        }
      ]
    },
    {
      "cell_type": "code",
      "source": [
        "import pandas as pd\n",
        "import numpy as np\n",
        "from string import punctuation\n",
        "\n",
        "from tensorflow.keras.preprocessing.text import Tokenizer\n",
        "from tensorflow.keras.preprocessing.sequence import pad_sequences\n",
        "from tensorflow.keras.utils import to_categorical\n",
        "\n",
        "df = pd.read_csv('/content/drive/MyDrive/ArticlesApril2018.csv')\n",
        "df.head()\n"
      ],
      "metadata": {
        "colab": {
          "base_uri": "https://localhost:8080/",
          "height": 660
        },
        "id": "FuSUq2qlkMeS",
        "outputId": "0e4cdc3b-7d6d-4866-cd85-3072d9d15fa7"
      },
      "execution_count": null,
      "outputs": [
        {
          "output_type": "execute_result",
          "data": {
            "text/plain": [
              "                  articleID  articleWordCount  \\\n",
              "0  5adf6684068401528a2aa69b               781   \n",
              "1  5adf653f068401528a2aa697               656   \n",
              "2  5adf4626068401528a2aa628              2427   \n",
              "3  5adf40d2068401528a2aa619               626   \n",
              "4  5adf3d64068401528a2aa60f               815   \n",
              "\n",
              "                                      byline documentType  \\\n",
              "0                             By JOHN BRANCH      article   \n",
              "1                           By LISA FRIEDMAN      article   \n",
              "2                              By PETE WELLS      article   \n",
              "3  By JULIE HIRSCHFELD DAVIS and PETER BAKER      article   \n",
              "4             By IAN AUSTEN and DAN BILEFSKY      article   \n",
              "\n",
              "                                            headline  \\\n",
              "0  Former N.F.L. Cheerleaders’ Settlement Offer: ...   \n",
              "1  E.P.A. to Unveil a New Rule. Its Effect: Less ...   \n",
              "2                            The New Noma, Explained   \n",
              "3                                            Unknown   \n",
              "4                                            Unknown   \n",
              "\n",
              "                                            keywords  multimedia     newDesk  \\\n",
              "0  ['Workplace Hazards and Violations', 'Football...          68      Sports   \n",
              "1  ['Environmental Protection Agency', 'Pruitt, S...          68     Climate   \n",
              "2  ['Restaurants', 'Noma (Copenhagen, Restaurant)...          66      Dining   \n",
              "3  ['Macron, Emmanuel (1977- )', 'Trump, Donald J...          68  Washington   \n",
              "4  ['Toronto, Ontario, Attack (April, 2018)', 'Mu...          68     Foreign   \n",
              "\n",
              "   printPage              pubDate   sectionName  \\\n",
              "0          0  2018-04-24 17:16:49  Pro Football   \n",
              "1          0  2018-04-24 17:11:21       Unknown   \n",
              "2          0  2018-04-24 14:58:44       Unknown   \n",
              "3          0  2018-04-24 14:35:57        Europe   \n",
              "4          0  2018-04-24 14:21:21        Canada   \n",
              "\n",
              "                                             snippet              source  \\\n",
              "0  “I understand that they could meet with us, pa...  The New York Times   \n",
              "1  The agency plans to publish a new regulation T...  The New York Times   \n",
              "2  What’s it like to eat at the second incarnatio...  The New York Times   \n",
              "3  President Trump welcomed President Emmanuel Ma...  The New York Times   \n",
              "4  Alek Minassian, 25, a resident of Toronto’s Ri...  The New York Times   \n",
              "\n",
              "  typeOfMaterial                                             webURL  \n",
              "0           News  https://www.nytimes.com/2018/04/24/sports/foot...  \n",
              "1           News  https://www.nytimes.com/2018/04/24/climate/epa...  \n",
              "2           News  https://www.nytimes.com/2018/04/24/dining/noma...  \n",
              "3           News  https://www.nytimes.com/2018/04/24/world/europ...  \n",
              "4           News  https://www.nytimes.com/2018/04/24/world/canad...  "
            ],
            "text/html": [
              "\n",
              "  <div id=\"df-8478a266-b074-45f5-96f7-6af0164b9669\" class=\"colab-df-container\">\n",
              "    <div>\n",
              "<style scoped>\n",
              "    .dataframe tbody tr th:only-of-type {\n",
              "        vertical-align: middle;\n",
              "    }\n",
              "\n",
              "    .dataframe tbody tr th {\n",
              "        vertical-align: top;\n",
              "    }\n",
              "\n",
              "    .dataframe thead th {\n",
              "        text-align: right;\n",
              "    }\n",
              "</style>\n",
              "<table border=\"1\" class=\"dataframe\">\n",
              "  <thead>\n",
              "    <tr style=\"text-align: right;\">\n",
              "      <th></th>\n",
              "      <th>articleID</th>\n",
              "      <th>articleWordCount</th>\n",
              "      <th>byline</th>\n",
              "      <th>documentType</th>\n",
              "      <th>headline</th>\n",
              "      <th>keywords</th>\n",
              "      <th>multimedia</th>\n",
              "      <th>newDesk</th>\n",
              "      <th>printPage</th>\n",
              "      <th>pubDate</th>\n",
              "      <th>sectionName</th>\n",
              "      <th>snippet</th>\n",
              "      <th>source</th>\n",
              "      <th>typeOfMaterial</th>\n",
              "      <th>webURL</th>\n",
              "    </tr>\n",
              "  </thead>\n",
              "  <tbody>\n",
              "    <tr>\n",
              "      <th>0</th>\n",
              "      <td>5adf6684068401528a2aa69b</td>\n",
              "      <td>781</td>\n",
              "      <td>By JOHN BRANCH</td>\n",
              "      <td>article</td>\n",
              "      <td>Former N.F.L. Cheerleaders’ Settlement Offer: ...</td>\n",
              "      <td>['Workplace Hazards and Violations', 'Football...</td>\n",
              "      <td>68</td>\n",
              "      <td>Sports</td>\n",
              "      <td>0</td>\n",
              "      <td>2018-04-24 17:16:49</td>\n",
              "      <td>Pro Football</td>\n",
              "      <td>“I understand that they could meet with us, pa...</td>\n",
              "      <td>The New York Times</td>\n",
              "      <td>News</td>\n",
              "      <td>https://www.nytimes.com/2018/04/24/sports/foot...</td>\n",
              "    </tr>\n",
              "    <tr>\n",
              "      <th>1</th>\n",
              "      <td>5adf653f068401528a2aa697</td>\n",
              "      <td>656</td>\n",
              "      <td>By LISA FRIEDMAN</td>\n",
              "      <td>article</td>\n",
              "      <td>E.P.A. to Unveil a New Rule. Its Effect: Less ...</td>\n",
              "      <td>['Environmental Protection Agency', 'Pruitt, S...</td>\n",
              "      <td>68</td>\n",
              "      <td>Climate</td>\n",
              "      <td>0</td>\n",
              "      <td>2018-04-24 17:11:21</td>\n",
              "      <td>Unknown</td>\n",
              "      <td>The agency plans to publish a new regulation T...</td>\n",
              "      <td>The New York Times</td>\n",
              "      <td>News</td>\n",
              "      <td>https://www.nytimes.com/2018/04/24/climate/epa...</td>\n",
              "    </tr>\n",
              "    <tr>\n",
              "      <th>2</th>\n",
              "      <td>5adf4626068401528a2aa628</td>\n",
              "      <td>2427</td>\n",
              "      <td>By PETE WELLS</td>\n",
              "      <td>article</td>\n",
              "      <td>The New Noma, Explained</td>\n",
              "      <td>['Restaurants', 'Noma (Copenhagen, Restaurant)...</td>\n",
              "      <td>66</td>\n",
              "      <td>Dining</td>\n",
              "      <td>0</td>\n",
              "      <td>2018-04-24 14:58:44</td>\n",
              "      <td>Unknown</td>\n",
              "      <td>What’s it like to eat at the second incarnatio...</td>\n",
              "      <td>The New York Times</td>\n",
              "      <td>News</td>\n",
              "      <td>https://www.nytimes.com/2018/04/24/dining/noma...</td>\n",
              "    </tr>\n",
              "    <tr>\n",
              "      <th>3</th>\n",
              "      <td>5adf40d2068401528a2aa619</td>\n",
              "      <td>626</td>\n",
              "      <td>By JULIE HIRSCHFELD DAVIS and PETER BAKER</td>\n",
              "      <td>article</td>\n",
              "      <td>Unknown</td>\n",
              "      <td>['Macron, Emmanuel (1977- )', 'Trump, Donald J...</td>\n",
              "      <td>68</td>\n",
              "      <td>Washington</td>\n",
              "      <td>0</td>\n",
              "      <td>2018-04-24 14:35:57</td>\n",
              "      <td>Europe</td>\n",
              "      <td>President Trump welcomed President Emmanuel Ma...</td>\n",
              "      <td>The New York Times</td>\n",
              "      <td>News</td>\n",
              "      <td>https://www.nytimes.com/2018/04/24/world/europ...</td>\n",
              "    </tr>\n",
              "    <tr>\n",
              "      <th>4</th>\n",
              "      <td>5adf3d64068401528a2aa60f</td>\n",
              "      <td>815</td>\n",
              "      <td>By IAN AUSTEN and DAN BILEFSKY</td>\n",
              "      <td>article</td>\n",
              "      <td>Unknown</td>\n",
              "      <td>['Toronto, Ontario, Attack (April, 2018)', 'Mu...</td>\n",
              "      <td>68</td>\n",
              "      <td>Foreign</td>\n",
              "      <td>0</td>\n",
              "      <td>2018-04-24 14:21:21</td>\n",
              "      <td>Canada</td>\n",
              "      <td>Alek Minassian, 25, a resident of Toronto’s Ri...</td>\n",
              "      <td>The New York Times</td>\n",
              "      <td>News</td>\n",
              "      <td>https://www.nytimes.com/2018/04/24/world/canad...</td>\n",
              "    </tr>\n",
              "  </tbody>\n",
              "</table>\n",
              "</div>\n",
              "    <div class=\"colab-df-buttons\">\n",
              "\n",
              "  <div class=\"colab-df-container\">\n",
              "    <button class=\"colab-df-convert\" onclick=\"convertToInteractive('df-8478a266-b074-45f5-96f7-6af0164b9669')\"\n",
              "            title=\"Convert this dataframe to an interactive table.\"\n",
              "            style=\"display:none;\">\n",
              "\n",
              "  <svg xmlns=\"http://www.w3.org/2000/svg\" height=\"24px\" viewBox=\"0 -960 960 960\">\n",
              "    <path d=\"M120-120v-720h720v720H120Zm60-500h600v-160H180v160Zm220 220h160v-160H400v160Zm0 220h160v-160H400v160ZM180-400h160v-160H180v160Zm440 0h160v-160H620v160ZM180-180h160v-160H180v160Zm440 0h160v-160H620v160Z\"/>\n",
              "  </svg>\n",
              "    </button>\n",
              "\n",
              "  <style>\n",
              "    .colab-df-container {\n",
              "      display:flex;\n",
              "      gap: 12px;\n",
              "    }\n",
              "\n",
              "    .colab-df-convert {\n",
              "      background-color: #E8F0FE;\n",
              "      border: none;\n",
              "      border-radius: 50%;\n",
              "      cursor: pointer;\n",
              "      display: none;\n",
              "      fill: #1967D2;\n",
              "      height: 32px;\n",
              "      padding: 0 0 0 0;\n",
              "      width: 32px;\n",
              "    }\n",
              "\n",
              "    .colab-df-convert:hover {\n",
              "      background-color: #E2EBFA;\n",
              "      box-shadow: 0px 1px 2px rgba(60, 64, 67, 0.3), 0px 1px 3px 1px rgba(60, 64, 67, 0.15);\n",
              "      fill: #174EA6;\n",
              "    }\n",
              "\n",
              "    .colab-df-buttons div {\n",
              "      margin-bottom: 4px;\n",
              "    }\n",
              "\n",
              "    [theme=dark] .colab-df-convert {\n",
              "      background-color: #3B4455;\n",
              "      fill: #D2E3FC;\n",
              "    }\n",
              "\n",
              "    [theme=dark] .colab-df-convert:hover {\n",
              "      background-color: #434B5C;\n",
              "      box-shadow: 0px 1px 3px 1px rgba(0, 0, 0, 0.15);\n",
              "      filter: drop-shadow(0px 1px 2px rgba(0, 0, 0, 0.3));\n",
              "      fill: #FFFFFF;\n",
              "    }\n",
              "  </style>\n",
              "\n",
              "    <script>\n",
              "      const buttonEl =\n",
              "        document.querySelector('#df-8478a266-b074-45f5-96f7-6af0164b9669 button.colab-df-convert');\n",
              "      buttonEl.style.display =\n",
              "        google.colab.kernel.accessAllowed ? 'block' : 'none';\n",
              "\n",
              "      async function convertToInteractive(key) {\n",
              "        const element = document.querySelector('#df-8478a266-b074-45f5-96f7-6af0164b9669');\n",
              "        const dataTable =\n",
              "          await google.colab.kernel.invokeFunction('convertToInteractive',\n",
              "                                                    [key], {});\n",
              "        if (!dataTable) return;\n",
              "\n",
              "        const docLinkHtml = 'Like what you see? Visit the ' +\n",
              "          '<a target=\"_blank\" href=https://colab.research.google.com/notebooks/data_table.ipynb>data table notebook</a>'\n",
              "          + ' to learn more about interactive tables.';\n",
              "        element.innerHTML = '';\n",
              "        dataTable['output_type'] = 'display_data';\n",
              "        await google.colab.output.renderOutput(dataTable, element);\n",
              "        const docLink = document.createElement('div');\n",
              "        docLink.innerHTML = docLinkHtml;\n",
              "        element.appendChild(docLink);\n",
              "      }\n",
              "    </script>\n",
              "  </div>\n",
              "\n",
              "\n",
              "<div id=\"df-89055fa4-72bc-4def-b23b-c15a26e5f71c\">\n",
              "  <button class=\"colab-df-quickchart\" onclick=\"quickchart('df-89055fa4-72bc-4def-b23b-c15a26e5f71c')\"\n",
              "            title=\"Suggest charts.\"\n",
              "            style=\"display:none;\">\n",
              "\n",
              "<svg xmlns=\"http://www.w3.org/2000/svg\" height=\"24px\"viewBox=\"0 0 24 24\"\n",
              "     width=\"24px\">\n",
              "    <g>\n",
              "        <path d=\"M19 3H5c-1.1 0-2 .9-2 2v14c0 1.1.9 2 2 2h14c1.1 0 2-.9 2-2V5c0-1.1-.9-2-2-2zM9 17H7v-7h2v7zm4 0h-2V7h2v10zm4 0h-2v-4h2v4z\"/>\n",
              "    </g>\n",
              "</svg>\n",
              "  </button>\n",
              "\n",
              "<style>\n",
              "  .colab-df-quickchart {\n",
              "      --bg-color: #E8F0FE;\n",
              "      --fill-color: #1967D2;\n",
              "      --hover-bg-color: #E2EBFA;\n",
              "      --hover-fill-color: #174EA6;\n",
              "      --disabled-fill-color: #AAA;\n",
              "      --disabled-bg-color: #DDD;\n",
              "  }\n",
              "\n",
              "  [theme=dark] .colab-df-quickchart {\n",
              "      --bg-color: #3B4455;\n",
              "      --fill-color: #D2E3FC;\n",
              "      --hover-bg-color: #434B5C;\n",
              "      --hover-fill-color: #FFFFFF;\n",
              "      --disabled-bg-color: #3B4455;\n",
              "      --disabled-fill-color: #666;\n",
              "  }\n",
              "\n",
              "  .colab-df-quickchart {\n",
              "    background-color: var(--bg-color);\n",
              "    border: none;\n",
              "    border-radius: 50%;\n",
              "    cursor: pointer;\n",
              "    display: none;\n",
              "    fill: var(--fill-color);\n",
              "    height: 32px;\n",
              "    padding: 0;\n",
              "    width: 32px;\n",
              "  }\n",
              "\n",
              "  .colab-df-quickchart:hover {\n",
              "    background-color: var(--hover-bg-color);\n",
              "    box-shadow: 0 1px 2px rgba(60, 64, 67, 0.3), 0 1px 3px 1px rgba(60, 64, 67, 0.15);\n",
              "    fill: var(--button-hover-fill-color);\n",
              "  }\n",
              "\n",
              "  .colab-df-quickchart-complete:disabled,\n",
              "  .colab-df-quickchart-complete:disabled:hover {\n",
              "    background-color: var(--disabled-bg-color);\n",
              "    fill: var(--disabled-fill-color);\n",
              "    box-shadow: none;\n",
              "  }\n",
              "\n",
              "  .colab-df-spinner {\n",
              "    border: 2px solid var(--fill-color);\n",
              "    border-color: transparent;\n",
              "    border-bottom-color: var(--fill-color);\n",
              "    animation:\n",
              "      spin 1s steps(1) infinite;\n",
              "  }\n",
              "\n",
              "  @keyframes spin {\n",
              "    0% {\n",
              "      border-color: transparent;\n",
              "      border-bottom-color: var(--fill-color);\n",
              "      border-left-color: var(--fill-color);\n",
              "    }\n",
              "    20% {\n",
              "      border-color: transparent;\n",
              "      border-left-color: var(--fill-color);\n",
              "      border-top-color: var(--fill-color);\n",
              "    }\n",
              "    30% {\n",
              "      border-color: transparent;\n",
              "      border-left-color: var(--fill-color);\n",
              "      border-top-color: var(--fill-color);\n",
              "      border-right-color: var(--fill-color);\n",
              "    }\n",
              "    40% {\n",
              "      border-color: transparent;\n",
              "      border-right-color: var(--fill-color);\n",
              "      border-top-color: var(--fill-color);\n",
              "    }\n",
              "    60% {\n",
              "      border-color: transparent;\n",
              "      border-right-color: var(--fill-color);\n",
              "    }\n",
              "    80% {\n",
              "      border-color: transparent;\n",
              "      border-right-color: var(--fill-color);\n",
              "      border-bottom-color: var(--fill-color);\n",
              "    }\n",
              "    90% {\n",
              "      border-color: transparent;\n",
              "      border-bottom-color: var(--fill-color);\n",
              "    }\n",
              "  }\n",
              "</style>\n",
              "\n",
              "  <script>\n",
              "    async function quickchart(key) {\n",
              "      const quickchartButtonEl =\n",
              "        document.querySelector('#' + key + ' button');\n",
              "      quickchartButtonEl.disabled = true;  // To prevent multiple clicks.\n",
              "      quickchartButtonEl.classList.add('colab-df-spinner');\n",
              "      try {\n",
              "        const charts = await google.colab.kernel.invokeFunction(\n",
              "            'suggestCharts', [key], {});\n",
              "      } catch (error) {\n",
              "        console.error('Error during call to suggestCharts:', error);\n",
              "      }\n",
              "      quickchartButtonEl.classList.remove('colab-df-spinner');\n",
              "      quickchartButtonEl.classList.add('colab-df-quickchart-complete');\n",
              "    }\n",
              "    (() => {\n",
              "      let quickchartButtonEl =\n",
              "        document.querySelector('#df-89055fa4-72bc-4def-b23b-c15a26e5f71c button');\n",
              "      quickchartButtonEl.style.display =\n",
              "        google.colab.kernel.accessAllowed ? 'block' : 'none';\n",
              "    })();\n",
              "  </script>\n",
              "</div>\n",
              "    </div>\n",
              "  </div>\n"
            ]
          },
          "metadata": {},
          "execution_count": 39
        }
      ]
    },
    {
      "cell_type": "code",
      "source": [
        "print('열의 개수: ',len(df.columns)) #열 개수 확인\n",
        "print(df.columns) #열 종류 확인\n",
        "print(df['headline'].isnull().values.any())#null값 확인\n"
      ],
      "metadata": {
        "colab": {
          "base_uri": "https://localhost:8080/"
        },
        "id": "f0MRDIX3kMie",
        "outputId": "779de117-3e3a-43c1-9d2d-cb2ee5688a94"
      },
      "execution_count": null,
      "outputs": [
        {
          "output_type": "stream",
          "name": "stdout",
          "text": [
            "열의 개수:  15\n",
            "Index(['articleID', 'articleWordCount', 'byline', 'documentType', 'headline',\n",
            "       'keywords', 'multimedia', 'newDesk', 'printPage', 'pubDate',\n",
            "       'sectionName', 'snippet', 'source', 'typeOfMaterial', 'webURL'],\n",
            "      dtype='object')\n",
            "False\n"
          ]
        }
      ]
    },
    {
      "cell_type": "code",
      "source": [
        "headline = []\n",
        "# 헤드라인의 값들을 리스트로 저장\n",
        "headline.extend(list(df.headline.values))\n",
        "headline[:5]\n"
      ],
      "metadata": {
        "colab": {
          "base_uri": "https://localhost:8080/"
        },
        "id": "K-paJF1gkMkm",
        "outputId": "ec05114e-2de5-4270-a5d5-ba5f78080929"
      },
      "execution_count": null,
      "outputs": [
        {
          "output_type": "execute_result",
          "data": {
            "text/plain": [
              "['Former N.F.L. Cheerleaders’ Settlement Offer: $1 and a Meeting With Goodell',\n",
              " 'E.P.A. to Unveil a New Rule. Its Effect: Less Science in Policymaking.',\n",
              " 'The New Noma, Explained',\n",
              " 'Unknown',\n",
              " 'Unknown']"
            ]
          },
          "metadata": {},
          "execution_count": 41
        }
      ]
    },
    {
      "cell_type": "code",
      "source": [
        "print('총 샘플의 개수 : {}'.format(len(headline)))\n",
        "headline = [word for word in headline if word != \"Unknown\"]\n",
        "print('노이즈값 제거 후 샘플의 개수 : {}'.format(len(headline)))\n"
      ],
      "metadata": {
        "colab": {
          "base_uri": "https://localhost:8080/"
        },
        "id": "uCgPplBSrg11",
        "outputId": "39bc0c39-deff-4632-8fdc-01cf0e1928ab"
      },
      "execution_count": null,
      "outputs": [
        {
          "output_type": "stream",
          "name": "stdout",
          "text": [
            "총 샘플의 개수 : 1324\n",
            "노이즈값 제거 후 샘플의 개수 : 1214\n"
          ]
        }
      ]
    },
    {
      "cell_type": "code",
      "source": [
        "#전처리 함수\n",
        "def repreprocessing(raw_sentence):\n",
        "    preproceseed_sentence = raw_sentence.encode(\"utf8\").decode(\"ascii\",'ignore')\n",
        "    # 구두점 제거, 소문자화\n",
        "    return ''.join(word for word in preproceseed_sentence if word not in punctuation).lower()\n",
        "\n",
        "preprocessed_headline = [repreprocessing(x) for x in headline]\n",
        "preprocessed_headline[:5]\n"
      ],
      "metadata": {
        "colab": {
          "base_uri": "https://localhost:8080/"
        },
        "id": "-t_dNcZGrg4R",
        "outputId": "c80943db-7eff-4c51-f174-47d6bc67da9f"
      },
      "execution_count": null,
      "outputs": [
        {
          "output_type": "execute_result",
          "data": {
            "text/plain": [
              "['former nfl cheerleaders settlement offer 1 and a meeting with goodell',\n",
              " 'epa to unveil a new rule its effect less science in policymaking',\n",
              " 'the new noma explained',\n",
              " 'how a bag of texas dirt  became a times tradition',\n",
              " 'is school a place for selfexpression']"
            ]
          },
          "metadata": {},
          "execution_count": 43
        }
      ]
    },
    {
      "cell_type": "code",
      "source": [
        "tokenizer = Tokenizer()\n",
        "tokenizer.fit_on_texts(preprocessed_headline) #정수 인코딩\n",
        "vocab_size = len(tokenizer.word_index) + 1\n",
        "print('단어 집합의 크기 : %d' % vocab_size)\n"
      ],
      "metadata": {
        "colab": {
          "base_uri": "https://localhost:8080/"
        },
        "id": "NftiNQDGrg6l",
        "outputId": "31b6d860-0c9c-45dc-ac30-a27631df37ff"
      },
      "execution_count": null,
      "outputs": [
        {
          "output_type": "stream",
          "name": "stdout",
          "text": [
            "단어 집합의 크기 : 3494\n"
          ]
        }
      ]
    },
    {
      "cell_type": "code",
      "source": [
        "sequences = list()\n",
        "\n",
        "for sentence in preprocessed_headline:\n",
        "\n",
        "    # 각 샘플에 대한 정수 인코딩\n",
        "    encoded = tokenizer.texts_to_sequences([sentence])[0]\n",
        "    for i in range(1, len(encoded)):\n",
        "        sequence = encoded[:i+1]\n",
        "        sequences.append(sequence)\n",
        "        #위에서 한 경마장에~와 같은 흐름\n",
        "\n",
        "sequences[:11]\n"
      ],
      "metadata": {
        "colab": {
          "base_uri": "https://localhost:8080/"
        },
        "id": "1oDPY-Yyrg8q",
        "outputId": "5551151a-463f-4da2-8634-9801a0ffb221"
      },
      "execution_count": null,
      "outputs": [
        {
          "output_type": "execute_result",
          "data": {
            "text/plain": [
              "[[99, 269],\n",
              " [99, 269, 371],\n",
              " [99, 269, 371, 1115],\n",
              " [99, 269, 371, 1115, 582],\n",
              " [99, 269, 371, 1115, 582, 52],\n",
              " [99, 269, 371, 1115, 582, 52, 7],\n",
              " [99, 269, 371, 1115, 582, 52, 7, 2],\n",
              " [99, 269, 371, 1115, 582, 52, 7, 2, 372],\n",
              " [99, 269, 371, 1115, 582, 52, 7, 2, 372, 10],\n",
              " [99, 269, 371, 1115, 582, 52, 7, 2, 372, 10, 1116],\n",
              " [100, 3]]"
            ]
          },
          "metadata": {},
          "execution_count": 45
        }
      ]
    },
    {
      "cell_type": "code",
      "source": [
        "index_to_word = {}\n",
        "for key, value in tokenizer.word_index.items(): # 인덱스를 단어로 바꾸기 위해 index_to_word를 생성\n",
        "    index_to_word[value] = key\n",
        "\n",
        "print('빈도수 상위 582번 단어 : {}'.format(index_to_word[582]))\n"
      ],
      "metadata": {
        "colab": {
          "base_uri": "https://localhost:8080/"
        },
        "id": "fTRFdHFKrhA_",
        "outputId": "71a347eb-1c8a-4887-da9d-453c46404af8"
      },
      "execution_count": null,
      "outputs": [
        {
          "output_type": "stream",
          "name": "stdout",
          "text": [
            "빈도수 상위 582번 단어 : offer\n"
          ]
        }
      ]
    },
    {
      "cell_type": "code",
      "source": [
        "max_len = max(len(l) for l in sequences)\n",
        "print('샘플의 최대 길이 : {}'.format(max_len)) #24\n",
        "sequences = pad_sequences(sequences, maxlen=max_len, padding='pre') #24로 패딩(앞에0)\n",
        "print(sequences[:3])\n"
      ],
      "metadata": {
        "colab": {
          "base_uri": "https://localhost:8080/"
        },
        "id": "oQy2ze8wrhDQ",
        "outputId": "548bd60c-da20-4090-d3c0-f72389deedbe"
      },
      "execution_count": null,
      "outputs": [
        {
          "output_type": "stream",
          "name": "stdout",
          "text": [
            "샘플의 최대 길이 : 24\n",
            "[[   0    0    0    0    0    0    0    0    0    0    0    0    0    0\n",
            "     0    0    0    0    0    0    0    0   99  269]\n",
            " [   0    0    0    0    0    0    0    0    0    0    0    0    0    0\n",
            "     0    0    0    0    0    0    0   99  269  371]\n",
            " [   0    0    0    0    0    0    0    0    0    0    0    0    0    0\n",
            "     0    0    0    0    0    0   99  269  371 1115]]\n"
          ]
        }
      ]
    },
    {
      "cell_type": "code",
      "source": [
        "sequences = np.array(sequences)\n",
        "X = sequences[:,:-1]\n",
        "y = sequences[:,-1]\n",
        "print(X[:3])\n",
        "print(y[:3])\n"
      ],
      "metadata": {
        "colab": {
          "base_uri": "https://localhost:8080/"
        },
        "id": "pX8LE2C8rhGF",
        "outputId": "cda469f6-a08d-4b2c-efcf-5792e5d6234e"
      },
      "execution_count": null,
      "outputs": [
        {
          "output_type": "stream",
          "name": "stdout",
          "text": [
            "[[  0   0   0   0   0   0   0   0   0   0   0   0   0   0   0   0   0   0\n",
            "    0   0   0   0  99]\n",
            " [  0   0   0   0   0   0   0   0   0   0   0   0   0   0   0   0   0   0\n",
            "    0   0   0  99 269]\n",
            " [  0   0   0   0   0   0   0   0   0   0   0   0   0   0   0   0   0   0\n",
            "    0   0  99 269 371]]\n",
            "[ 269  371 1115]\n"
          ]
        }
      ]
    },
    {
      "cell_type": "code",
      "source": [
        "y = to_categorical(y, num_classes=vocab_size)\n",
        "#원핫인코딩 수행"
      ],
      "metadata": {
        "id": "iy0NycPFkMm1"
      },
      "execution_count": null,
      "outputs": []
    },
    {
      "cell_type": "code",
      "source": [
        "print(vocab_size)"
      ],
      "metadata": {
        "colab": {
          "base_uri": "https://localhost:8080/"
        },
        "id": "BPI61yb5s2id",
        "outputId": "57bce877-d74d-4738-9014-8f64e6427fe5"
      },
      "execution_count": null,
      "outputs": [
        {
          "output_type": "stream",
          "name": "stdout",
          "text": [
            "3494\n"
          ]
        }
      ]
    },
    {
      "cell_type": "code",
      "source": [
        "from tensorflow.keras.models import Sequential\n",
        "from tensorflow.keras.layers import Embedding, Dense, LSTM\n",
        "\n",
        "embedding_dim = 10\n",
        "hidden_units = 128\n",
        "\n",
        "model = Sequential()\n",
        "model.add(Embedding(vocab_size, embedding_dim)) #3494 단어를 가지고 임베딩층 생성, 차원은 10\n",
        "model.add(LSTM(hidden_units)) #은닉층\n",
        "model.add(Dense(vocab_size, activation='softmax')) #소프트맥스 함수\n",
        "model.compile(loss='categorical_crossentropy', optimizer='adam', metrics=['accuracy'])#크로스엔트로피\n",
        "model.fit(X, y, epochs=200, verbose=2)\n"
      ],
      "metadata": {
        "colab": {
          "base_uri": "https://localhost:8080/"
        },
        "id": "oYUAscrtsrW5",
        "outputId": "d28e0c0c-1bc1-498a-96eb-c47c59ed244b"
      },
      "execution_count": null,
      "outputs": [
        {
          "output_type": "stream",
          "name": "stdout",
          "text": [
            "Epoch 1/200\n",
            "244/244 - 12s - loss: 7.6453 - accuracy: 0.0282 - 12s/epoch - 48ms/step\n",
            "Epoch 2/200\n",
            "244/244 - 7s - loss: 7.1149 - accuracy: 0.0300 - 7s/epoch - 31ms/step\n",
            "Epoch 3/200\n",
            "244/244 - 10s - loss: 6.9774 - accuracy: 0.0305 - 10s/epoch - 39ms/step\n",
            "Epoch 4/200\n",
            "244/244 - 9s - loss: 6.8544 - accuracy: 0.0401 - 9s/epoch - 36ms/step\n",
            "Epoch 5/200\n",
            "244/244 - 8s - loss: 6.7112 - accuracy: 0.0434 - 8s/epoch - 34ms/step\n",
            "Epoch 6/200\n",
            "244/244 - 9s - loss: 6.5440 - accuracy: 0.0491 - 9s/epoch - 39ms/step\n",
            "Epoch 7/200\n",
            "244/244 - 7s - loss: 6.3585 - accuracy: 0.0528 - 7s/epoch - 31ms/step\n",
            "Epoch 8/200\n",
            "244/244 - 11s - loss: 6.1644 - accuracy: 0.0577 - 11s/epoch - 47ms/step\n",
            "Epoch 9/200\n",
            "244/244 - 8s - loss: 5.9762 - accuracy: 0.0604 - 8s/epoch - 34ms/step\n",
            "Epoch 10/200\n",
            "244/244 - 8s - loss: 5.7949 - accuracy: 0.0647 - 8s/epoch - 35ms/step\n",
            "Epoch 11/200\n",
            "244/244 - 9s - loss: 5.6299 - accuracy: 0.0697 - 9s/epoch - 39ms/step\n",
            "Epoch 12/200\n",
            "244/244 - 7s - loss: 5.4722 - accuracy: 0.0747 - 7s/epoch - 30ms/step\n",
            "Epoch 13/200\n",
            "244/244 - 9s - loss: 5.3220 - accuracy: 0.0783 - 9s/epoch - 39ms/step\n",
            "Epoch 14/200\n",
            "244/244 - 9s - loss: 5.1803 - accuracy: 0.0843 - 9s/epoch - 36ms/step\n",
            "Epoch 15/200\n",
            "244/244 - 8s - loss: 5.0430 - accuracy: 0.0907 - 8s/epoch - 33ms/step\n",
            "Epoch 16/200\n",
            "244/244 - 9s - loss: 4.9116 - accuracy: 0.0975 - 9s/epoch - 39ms/step\n",
            "Epoch 17/200\n",
            "244/244 - 7s - loss: 4.7854 - accuracy: 0.1062 - 7s/epoch - 30ms/step\n",
            "Epoch 18/200\n",
            "244/244 - 9s - loss: 4.6610 - accuracy: 0.1188 - 9s/epoch - 38ms/step\n",
            "Epoch 19/200\n",
            "244/244 - 10s - loss: 4.5432 - accuracy: 0.1338 - 10s/epoch - 39ms/step\n",
            "Epoch 20/200\n",
            "244/244 - 8s - loss: 4.4258 - accuracy: 0.1479 - 8s/epoch - 31ms/step\n",
            "Epoch 21/200\n",
            "244/244 - 9s - loss: 4.3116 - accuracy: 0.1589 - 9s/epoch - 38ms/step\n",
            "Epoch 22/200\n",
            "244/244 - 8s - loss: 4.1997 - accuracy: 0.1806 - 8s/epoch - 33ms/step\n",
            "Epoch 23/200\n",
            "244/244 - 9s - loss: 4.0931 - accuracy: 0.1956 - 9s/epoch - 35ms/step\n",
            "Epoch 24/200\n",
            "244/244 - 9s - loss: 3.9907 - accuracy: 0.2036 - 9s/epoch - 39ms/step\n",
            "Epoch 25/200\n",
            "244/244 - 8s - loss: 3.8869 - accuracy: 0.2266 - 8s/epoch - 31ms/step\n",
            "Epoch 26/200\n",
            "244/244 - 9s - loss: 3.7848 - accuracy: 0.2450 - 9s/epoch - 39ms/step\n",
            "Epoch 27/200\n",
            "244/244 - 9s - loss: 3.6894 - accuracy: 0.2627 - 9s/epoch - 37ms/step\n",
            "Epoch 28/200\n",
            "244/244 - 8s - loss: 3.5952 - accuracy: 0.2757 - 8s/epoch - 32ms/step\n",
            "Epoch 29/200\n",
            "244/244 - 9s - loss: 3.5051 - accuracy: 0.2950 - 9s/epoch - 39ms/step\n",
            "Epoch 30/200\n",
            "244/244 - 7s - loss: 3.4157 - accuracy: 0.3064 - 7s/epoch - 31ms/step\n",
            "Epoch 31/200\n",
            "244/244 - 9s - loss: 3.3281 - accuracy: 0.3251 - 9s/epoch - 38ms/step\n",
            "Epoch 32/200\n",
            "244/244 - 9s - loss: 3.2457 - accuracy: 0.3379 - 9s/epoch - 39ms/step\n",
            "Epoch 33/200\n",
            "244/244 - 7s - loss: 3.1639 - accuracy: 0.3544 - 7s/epoch - 31ms/step\n",
            "Epoch 34/200\n",
            "244/244 - 9s - loss: 3.0857 - accuracy: 0.3705 - 9s/epoch - 38ms/step\n",
            "Epoch 35/200\n",
            "244/244 - 8s - loss: 3.0084 - accuracy: 0.3861 - 8s/epoch - 32ms/step\n",
            "Epoch 36/200\n",
            "244/244 - 9s - loss: 2.9334 - accuracy: 0.3988 - 9s/epoch - 38ms/step\n",
            "Epoch 37/200\n",
            "244/244 - 9s - loss: 2.8631 - accuracy: 0.4093 - 9s/epoch - 39ms/step\n",
            "Epoch 38/200\n",
            "244/244 - 10s - loss: 2.7932 - accuracy: 0.4246 - 10s/epoch - 40ms/step\n",
            "Epoch 39/200\n",
            "244/244 - 9s - loss: 2.7262 - accuracy: 0.4420 - 9s/epoch - 38ms/step\n",
            "Epoch 40/200\n",
            "244/244 - 9s - loss: 2.6583 - accuracy: 0.4539 - 9s/epoch - 39ms/step\n",
            "Epoch 41/200\n",
            "244/244 - 8s - loss: 2.5953 - accuracy: 0.4643 - 8s/epoch - 31ms/step\n",
            "Epoch 42/200\n",
            "244/244 - 9s - loss: 2.5337 - accuracy: 0.4758 - 9s/epoch - 38ms/step\n",
            "Epoch 43/200\n",
            "244/244 - 9s - loss: 2.4728 - accuracy: 0.4887 - 9s/epoch - 36ms/step\n",
            "Epoch 44/200\n",
            "244/244 - 8s - loss: 2.4138 - accuracy: 0.5001 - 8s/epoch - 34ms/step\n",
            "Epoch 45/200\n",
            "244/244 - 9s - loss: 2.3549 - accuracy: 0.5138 - 9s/epoch - 38ms/step\n",
            "Epoch 46/200\n",
            "244/244 - 8s - loss: 2.3014 - accuracy: 0.5267 - 8s/epoch - 31ms/step\n",
            "Epoch 47/200\n",
            "244/244 - 9s - loss: 2.2444 - accuracy: 0.5363 - 9s/epoch - 39ms/step\n",
            "Epoch 48/200\n",
            "244/244 - 9s - loss: 2.1931 - accuracy: 0.5458 - 9s/epoch - 38ms/step\n",
            "Epoch 49/200\n",
            "244/244 - 8s - loss: 2.1408 - accuracy: 0.5556 - 8s/epoch - 31ms/step\n",
            "Epoch 50/200\n",
            "244/244 - 9s - loss: 2.0898 - accuracy: 0.5702 - 9s/epoch - 39ms/step\n",
            "Epoch 51/200\n",
            "244/244 - 8s - loss: 2.0417 - accuracy: 0.5781 - 8s/epoch - 32ms/step\n",
            "Epoch 52/200\n",
            "244/244 - 9s - loss: 1.9916 - accuracy: 0.5916 - 9s/epoch - 38ms/step\n",
            "Epoch 53/200\n",
            "244/244 - 10s - loss: 1.9471 - accuracy: 0.5975 - 10s/epoch - 39ms/step\n",
            "Epoch 54/200\n",
            "244/244 - 7s - loss: 1.8989 - accuracy: 0.6071 - 7s/epoch - 30ms/step\n",
            "Epoch 55/200\n",
            "244/244 - 9s - loss: 1.8540 - accuracy: 0.6192 - 9s/epoch - 39ms/step\n",
            "Epoch 56/200\n",
            "244/244 - 9s - loss: 1.8126 - accuracy: 0.6271 - 9s/epoch - 36ms/step\n",
            "Epoch 57/200\n",
            "244/244 - 8s - loss: 1.7674 - accuracy: 0.6359 - 8s/epoch - 34ms/step\n",
            "Epoch 58/200\n",
            "244/244 - 9s - loss: 1.7268 - accuracy: 0.6469 - 9s/epoch - 39ms/step\n",
            "Epoch 59/200\n",
            "244/244 - 7s - loss: 1.6827 - accuracy: 0.6547 - 7s/epoch - 31ms/step\n",
            "Epoch 60/200\n",
            "244/244 - 9s - loss: 1.6459 - accuracy: 0.6632 - 9s/epoch - 39ms/step\n",
            "Epoch 61/200\n",
            "244/244 - 9s - loss: 1.6081 - accuracy: 0.6736 - 9s/epoch - 38ms/step\n",
            "Epoch 62/200\n",
            "244/244 - 8s - loss: 1.5679 - accuracy: 0.6805 - 8s/epoch - 31ms/step\n",
            "Epoch 63/200\n",
            "244/244 - 9s - loss: 1.5287 - accuracy: 0.6909 - 9s/epoch - 39ms/step\n",
            "Epoch 64/200\n",
            "244/244 - 7s - loss: 1.4972 - accuracy: 0.6909 - 7s/epoch - 30ms/step\n",
            "Epoch 65/200\n",
            "244/244 - 9s - loss: 1.4566 - accuracy: 0.7055 - 9s/epoch - 39ms/step\n",
            "Epoch 66/200\n",
            "244/244 - 9s - loss: 1.4233 - accuracy: 0.7161 - 9s/epoch - 39ms/step\n",
            "Epoch 67/200\n",
            "244/244 - 8s - loss: 1.3903 - accuracy: 0.7219 - 8s/epoch - 31ms/step\n",
            "Epoch 68/200\n",
            "244/244 - 11s - loss: 1.3557 - accuracy: 0.7291 - 11s/epoch - 47ms/step\n",
            "Epoch 69/200\n",
            "244/244 - 8s - loss: 1.3235 - accuracy: 0.7375 - 8s/epoch - 34ms/step\n",
            "Epoch 70/200\n",
            "244/244 - 9s - loss: 1.2932 - accuracy: 0.7427 - 9s/epoch - 36ms/step\n",
            "Epoch 71/200\n",
            "244/244 - 9s - loss: 1.2623 - accuracy: 0.7496 - 9s/epoch - 38ms/step\n",
            "Epoch 72/200\n",
            "244/244 - 8s - loss: 1.2322 - accuracy: 0.7598 - 8s/epoch - 31ms/step\n",
            "Epoch 73/200\n",
            "244/244 - 9s - loss: 1.2023 - accuracy: 0.7619 - 9s/epoch - 39ms/step\n",
            "Epoch 74/200\n",
            "244/244 - 9s - loss: 1.1732 - accuracy: 0.7696 - 9s/epoch - 38ms/step\n",
            "Epoch 75/200\n",
            "244/244 - 8s - loss: 1.1455 - accuracy: 0.7762 - 8s/epoch - 32ms/step\n",
            "Epoch 76/200\n",
            "244/244 - 9s - loss: 1.1171 - accuracy: 0.7846 - 9s/epoch - 38ms/step\n",
            "Epoch 77/200\n",
            "244/244 - 7s - loss: 1.0913 - accuracy: 0.7855 - 7s/epoch - 31ms/step\n",
            "Epoch 78/200\n",
            "244/244 - 9s - loss: 1.0649 - accuracy: 0.7943 - 9s/epoch - 39ms/step\n",
            "Epoch 79/200\n",
            "244/244 - 9s - loss: 1.0404 - accuracy: 0.7992 - 9s/epoch - 38ms/step\n",
            "Epoch 80/200\n",
            "244/244 - 7s - loss: 1.0164 - accuracy: 0.8028 - 7s/epoch - 31ms/step\n",
            "Epoch 81/200\n",
            "244/244 - 10s - loss: 0.9919 - accuracy: 0.8061 - 10s/epoch - 39ms/step\n",
            "Epoch 82/200\n",
            "244/244 - 8s - loss: 0.9681 - accuracy: 0.8108 - 8s/epoch - 33ms/step\n",
            "Epoch 83/200\n",
            "244/244 - 9s - loss: 0.9438 - accuracy: 0.8201 - 9s/epoch - 36ms/step\n",
            "Epoch 84/200\n",
            "244/244 - 9s - loss: 0.9214 - accuracy: 0.8225 - 9s/epoch - 39ms/step\n",
            "Epoch 85/200\n",
            "244/244 - 8s - loss: 0.9022 - accuracy: 0.8235 - 8s/epoch - 31ms/step\n",
            "Epoch 86/200\n",
            "244/244 - 9s - loss: 0.8800 - accuracy: 0.8302 - 9s/epoch - 38ms/step\n",
            "Epoch 87/200\n",
            "244/244 - 9s - loss: 0.8589 - accuracy: 0.8333 - 9s/epoch - 37ms/step\n",
            "Epoch 88/200\n",
            "244/244 - 8s - loss: 0.8393 - accuracy: 0.8395 - 8s/epoch - 33ms/step\n",
            "Epoch 89/200\n",
            "244/244 - 9s - loss: 0.8212 - accuracy: 0.8426 - 9s/epoch - 38ms/step\n",
            "Epoch 90/200\n",
            "244/244 - 7s - loss: 0.8034 - accuracy: 0.8449 - 7s/epoch - 30ms/step\n",
            "Epoch 91/200\n",
            "244/244 - 9s - loss: 0.7821 - accuracy: 0.8483 - 9s/epoch - 38ms/step\n",
            "Epoch 92/200\n",
            "244/244 - 9s - loss: 0.7657 - accuracy: 0.8512 - 9s/epoch - 38ms/step\n",
            "Epoch 93/200\n",
            "244/244 - 8s - loss: 0.7485 - accuracy: 0.8558 - 8s/epoch - 31ms/step\n",
            "Epoch 94/200\n",
            "244/244 - 9s - loss: 0.7304 - accuracy: 0.8557 - 9s/epoch - 39ms/step\n",
            "Epoch 95/200\n",
            "244/244 - 8s - loss: 0.7160 - accuracy: 0.8597 - 8s/epoch - 31ms/step\n",
            "Epoch 96/200\n",
            "244/244 - 9s - loss: 0.6992 - accuracy: 0.8639 - 9s/epoch - 38ms/step\n",
            "Epoch 97/200\n",
            "244/244 - 9s - loss: 0.6848 - accuracy: 0.8670 - 9s/epoch - 38ms/step\n",
            "Epoch 98/200\n",
            "244/244 - 9s - loss: 0.6728 - accuracy: 0.8702 - 9s/epoch - 36ms/step\n",
            "Epoch 99/200\n",
            "244/244 - 10s - loss: 0.6608 - accuracy: 0.8724 - 10s/epoch - 41ms/step\n",
            "Epoch 100/200\n",
            "244/244 - 10s - loss: 0.6447 - accuracy: 0.8752 - 10s/epoch - 39ms/step\n",
            "Epoch 101/200\n",
            "244/244 - 8s - loss: 0.6283 - accuracy: 0.8750 - 8s/epoch - 31ms/step\n",
            "Epoch 102/200\n",
            "244/244 - 9s - loss: 0.6127 - accuracy: 0.8809 - 9s/epoch - 39ms/step\n",
            "Epoch 103/200\n",
            "244/244 - 8s - loss: 0.6013 - accuracy: 0.8821 - 8s/epoch - 32ms/step\n",
            "Epoch 104/200\n",
            "244/244 - 9s - loss: 0.5915 - accuracy: 0.8841 - 9s/epoch - 37ms/step\n",
            "Epoch 105/200\n",
            "244/244 - 9s - loss: 0.5774 - accuracy: 0.8858 - 9s/epoch - 39ms/step\n",
            "Epoch 106/200\n",
            "244/244 - 8s - loss: 0.5651 - accuracy: 0.8880 - 8s/epoch - 31ms/step\n",
            "Epoch 107/200\n",
            "244/244 - 9s - loss: 0.5524 - accuracy: 0.8889 - 9s/epoch - 38ms/step\n",
            "Epoch 108/200\n",
            "244/244 - 9s - loss: 0.5417 - accuracy: 0.8900 - 9s/epoch - 35ms/step\n",
            "Epoch 109/200\n",
            "244/244 - 8s - loss: 0.5312 - accuracy: 0.8932 - 8s/epoch - 34ms/step\n",
            "Epoch 110/200\n",
            "244/244 - 9s - loss: 0.5212 - accuracy: 0.8950 - 9s/epoch - 39ms/step\n",
            "Epoch 111/200\n",
            "244/244 - 7s - loss: 0.5125 - accuracy: 0.8943 - 7s/epoch - 31ms/step\n",
            "Epoch 112/200\n",
            "244/244 - 9s - loss: 0.5019 - accuracy: 0.8985 - 9s/epoch - 38ms/step\n",
            "Epoch 113/200\n",
            "244/244 - 9s - loss: 0.5002 - accuracy: 0.8981 - 9s/epoch - 36ms/step\n",
            "Epoch 114/200\n",
            "244/244 - 8s - loss: 0.4866 - accuracy: 0.9000 - 8s/epoch - 32ms/step\n",
            "Epoch 115/200\n",
            "244/244 - 10s - loss: 0.4747 - accuracy: 0.8988 - 10s/epoch - 39ms/step\n",
            "Epoch 116/200\n",
            "244/244 - 7s - loss: 0.4653 - accuracy: 0.9022 - 7s/epoch - 31ms/step\n",
            "Epoch 117/200\n",
            "244/244 - 9s - loss: 0.4582 - accuracy: 0.9027 - 9s/epoch - 39ms/step\n",
            "Epoch 118/200\n",
            "244/244 - 9s - loss: 0.4506 - accuracy: 0.9027 - 9s/epoch - 39ms/step\n",
            "Epoch 119/200\n",
            "244/244 - 7s - loss: 0.4404 - accuracy: 0.9055 - 7s/epoch - 30ms/step\n",
            "Epoch 120/200\n",
            "244/244 - 9s - loss: 0.4310 - accuracy: 0.9038 - 9s/epoch - 38ms/step\n",
            "Epoch 121/200\n",
            "244/244 - 8s - loss: 0.4269 - accuracy: 0.9059 - 8s/epoch - 32ms/step\n",
            "Epoch 122/200\n",
            "244/244 - 9s - loss: 0.4230 - accuracy: 0.9063 - 9s/epoch - 37ms/step\n",
            "Epoch 123/200\n",
            "244/244 - 9s - loss: 0.4151 - accuracy: 0.9089 - 9s/epoch - 39ms/step\n",
            "Epoch 124/200\n",
            "244/244 - 7s - loss: 0.4076 - accuracy: 0.9079 - 7s/epoch - 31ms/step\n",
            "Epoch 125/200\n",
            "244/244 - 9s - loss: 0.3992 - accuracy: 0.9100 - 9s/epoch - 39ms/step\n",
            "Epoch 126/200\n",
            "244/244 - 9s - loss: 0.3942 - accuracy: 0.9105 - 9s/epoch - 36ms/step\n",
            "Epoch 127/200\n",
            "244/244 - 8s - loss: 0.3894 - accuracy: 0.9108 - 8s/epoch - 33ms/step\n",
            "Epoch 128/200\n",
            "244/244 - 9s - loss: 0.3821 - accuracy: 0.9116 - 9s/epoch - 39ms/step\n",
            "Epoch 129/200\n",
            "244/244 - 8s - loss: 0.3782 - accuracy: 0.9111 - 8s/epoch - 31ms/step\n",
            "Epoch 130/200\n",
            "244/244 - 11s - loss: 0.3756 - accuracy: 0.9113 - 11s/epoch - 47ms/step\n",
            "Epoch 131/200\n",
            "244/244 - 9s - loss: 0.3693 - accuracy: 0.9122 - 9s/epoch - 37ms/step\n",
            "Epoch 132/200\n",
            "244/244 - 8s - loss: 0.3614 - accuracy: 0.9134 - 8s/epoch - 32ms/step\n",
            "Epoch 133/200\n",
            "244/244 - 9s - loss: 0.3572 - accuracy: 0.9130 - 9s/epoch - 39ms/step\n",
            "Epoch 134/200\n",
            "244/244 - 7s - loss: 0.3524 - accuracy: 0.9150 - 7s/epoch - 30ms/step\n",
            "Epoch 135/200\n",
            "244/244 - 9s - loss: 0.3495 - accuracy: 0.9130 - 9s/epoch - 39ms/step\n",
            "Epoch 136/200\n",
            "244/244 - 9s - loss: 0.3441 - accuracy: 0.9131 - 9s/epoch - 39ms/step\n",
            "Epoch 137/200\n",
            "244/244 - 7s - loss: 0.3418 - accuracy: 0.9136 - 7s/epoch - 30ms/step\n",
            "Epoch 138/200\n",
            "244/244 - 9s - loss: 0.3368 - accuracy: 0.9145 - 9s/epoch - 38ms/step\n",
            "Epoch 139/200\n",
            "244/244 - 8s - loss: 0.3354 - accuracy: 0.9140 - 8s/epoch - 32ms/step\n",
            "Epoch 140/200\n",
            "244/244 - 9s - loss: 0.3378 - accuracy: 0.9135 - 9s/epoch - 37ms/step\n",
            "Epoch 141/200\n",
            "244/244 - 9s - loss: 0.3299 - accuracy: 0.9155 - 9s/epoch - 39ms/step\n",
            "Epoch 142/200\n",
            "244/244 - 8s - loss: 0.3270 - accuracy: 0.9155 - 8s/epoch - 31ms/step\n",
            "Epoch 143/200\n",
            "244/244 - 9s - loss: 0.3213 - accuracy: 0.9157 - 9s/epoch - 39ms/step\n",
            "Epoch 144/200\n",
            "244/244 - 9s - loss: 0.3182 - accuracy: 0.9149 - 9s/epoch - 36ms/step\n",
            "Epoch 145/200\n",
            "244/244 - 8s - loss: 0.3174 - accuracy: 0.9159 - 8s/epoch - 34ms/step\n",
            "Epoch 146/200\n",
            "244/244 - 9s - loss: 0.3175 - accuracy: 0.9164 - 9s/epoch - 39ms/step\n",
            "Epoch 147/200\n",
            "244/244 - 7s - loss: 0.3100 - accuracy: 0.9170 - 7s/epoch - 31ms/step\n",
            "Epoch 148/200\n",
            "244/244 - 9s - loss: 0.3069 - accuracy: 0.9161 - 9s/epoch - 39ms/step\n",
            "Epoch 149/200\n",
            "244/244 - 9s - loss: 0.3051 - accuracy: 0.9163 - 9s/epoch - 38ms/step\n",
            "Epoch 150/200\n",
            "244/244 - 8s - loss: 0.3039 - accuracy: 0.9155 - 8s/epoch - 31ms/step\n",
            "Epoch 151/200\n",
            "244/244 - 9s - loss: 0.3013 - accuracy: 0.9163 - 9s/epoch - 38ms/step\n",
            "Epoch 152/200\n",
            "244/244 - 8s - loss: 0.2977 - accuracy: 0.9170 - 8s/epoch - 31ms/step\n",
            "Epoch 153/200\n",
            "244/244 - 9s - loss: 0.2993 - accuracy: 0.9158 - 9s/epoch - 38ms/step\n",
            "Epoch 154/200\n",
            "244/244 - 9s - loss: 0.2972 - accuracy: 0.9170 - 9s/epoch - 39ms/step\n",
            "Epoch 155/200\n",
            "244/244 - 8s - loss: 0.2935 - accuracy: 0.9167 - 8s/epoch - 31ms/step\n",
            "Epoch 156/200\n",
            "244/244 - 9s - loss: 0.2908 - accuracy: 0.9179 - 9s/epoch - 39ms/step\n",
            "Epoch 157/200\n",
            "244/244 - 9s - loss: 0.2929 - accuracy: 0.9173 - 9s/epoch - 35ms/step\n",
            "Epoch 158/200\n",
            "244/244 - 8s - loss: 0.4933 - accuracy: 0.8812 - 8s/epoch - 34ms/step\n",
            "Epoch 159/200\n",
            "244/244 - 9s - loss: 0.3935 - accuracy: 0.8985 - 9s/epoch - 39ms/step\n",
            "Epoch 160/200\n",
            "244/244 - 8s - loss: 0.3094 - accuracy: 0.9150 - 8s/epoch - 31ms/step\n",
            "Epoch 161/200\n",
            "244/244 - 11s - loss: 0.2949 - accuracy: 0.9155 - 11s/epoch - 46ms/step\n",
            "Epoch 162/200\n",
            "244/244 - 9s - loss: 0.2871 - accuracy: 0.9168 - 9s/epoch - 38ms/step\n",
            "Epoch 163/200\n",
            "244/244 - 7s - loss: 0.2834 - accuracy: 0.9184 - 7s/epoch - 31ms/step\n",
            "Epoch 164/200\n",
            "244/244 - 9s - loss: 0.2819 - accuracy: 0.9162 - 9s/epoch - 39ms/step\n",
            "Epoch 165/200\n",
            "244/244 - 9s - loss: 0.2808 - accuracy: 0.9166 - 9s/epoch - 37ms/step\n",
            "Epoch 166/200\n",
            "244/244 - 8s - loss: 0.2800 - accuracy: 0.9153 - 8s/epoch - 32ms/step\n",
            "Epoch 167/200\n",
            "244/244 - 9s - loss: 0.2787 - accuracy: 0.9164 - 9s/epoch - 38ms/step\n",
            "Epoch 168/200\n",
            "244/244 - 7s - loss: 0.2778 - accuracy: 0.9173 - 7s/epoch - 30ms/step\n",
            "Epoch 169/200\n",
            "244/244 - 9s - loss: 0.2763 - accuracy: 0.9164 - 9s/epoch - 39ms/step\n",
            "Epoch 170/200\n",
            "244/244 - 10s - loss: 0.2776 - accuracy: 0.9154 - 10s/epoch - 39ms/step\n",
            "Epoch 171/200\n",
            "244/244 - 7s - loss: 0.2754 - accuracy: 0.9176 - 7s/epoch - 30ms/step\n",
            "Epoch 172/200\n",
            "244/244 - 9s - loss: 0.2757 - accuracy: 0.9159 - 9s/epoch - 38ms/step\n",
            "Epoch 173/200\n",
            "244/244 - 8s - loss: 0.2846 - accuracy: 0.9152 - 8s/epoch - 33ms/step\n",
            "Epoch 174/200\n",
            "244/244 - 9s - loss: 0.3321 - accuracy: 0.9064 - 9s/epoch - 36ms/step\n",
            "Epoch 175/200\n",
            "244/244 - 9s - loss: 0.3060 - accuracy: 0.9146 - 9s/epoch - 38ms/step\n",
            "Epoch 176/200\n",
            "244/244 - 7s - loss: 0.2835 - accuracy: 0.9152 - 7s/epoch - 31ms/step\n",
            "Epoch 177/200\n",
            "244/244 - 9s - loss: 0.2750 - accuracy: 0.9162 - 9s/epoch - 39ms/step\n",
            "Epoch 178/200\n",
            "244/244 - 9s - loss: 0.2732 - accuracy: 0.9173 - 9s/epoch - 36ms/step\n",
            "Epoch 179/200\n",
            "244/244 - 8s - loss: 0.2719 - accuracy: 0.9158 - 8s/epoch - 34ms/step\n",
            "Epoch 180/200\n",
            "244/244 - 9s - loss: 0.2703 - accuracy: 0.9152 - 9s/epoch - 38ms/step\n",
            "Epoch 181/200\n",
            "244/244 - 7s - loss: 0.2703 - accuracy: 0.9170 - 7s/epoch - 31ms/step\n",
            "Epoch 182/200\n",
            "244/244 - 9s - loss: 0.2698 - accuracy: 0.9173 - 9s/epoch - 39ms/step\n",
            "Epoch 183/200\n",
            "244/244 - 9s - loss: 0.2682 - accuracy: 0.9184 - 9s/epoch - 38ms/step\n",
            "Epoch 184/200\n",
            "244/244 - 8s - loss: 0.2689 - accuracy: 0.9177 - 8s/epoch - 31ms/step\n",
            "Epoch 185/200\n",
            "244/244 - 9s - loss: 0.2686 - accuracy: 0.9170 - 9s/epoch - 39ms/step\n",
            "Epoch 186/200\n",
            "244/244 - 8s - loss: 0.2695 - accuracy: 0.9170 - 8s/epoch - 32ms/step\n",
            "Epoch 187/200\n",
            "244/244 - 9s - loss: 0.2710 - accuracy: 0.9157 - 9s/epoch - 38ms/step\n",
            "Epoch 188/200\n",
            "244/244 - 9s - loss: 0.2671 - accuracy: 0.9171 - 9s/epoch - 39ms/step\n",
            "Epoch 189/200\n",
            "244/244 - 8s - loss: 0.2680 - accuracy: 0.9157 - 8s/epoch - 31ms/step\n",
            "Epoch 190/200\n",
            "244/244 - 10s - loss: 0.2671 - accuracy: 0.9164 - 10s/epoch - 39ms/step\n",
            "Epoch 191/200\n",
            "244/244 - 9s - loss: 0.2656 - accuracy: 0.9163 - 9s/epoch - 38ms/step\n",
            "Epoch 192/200\n",
            "244/244 - 8s - loss: 0.2723 - accuracy: 0.9154 - 8s/epoch - 32ms/step\n",
            "Epoch 193/200\n",
            "244/244 - 11s - loss: 0.2911 - accuracy: 0.9136 - 11s/epoch - 47ms/step\n",
            "Epoch 194/200\n",
            "244/244 - 8s - loss: 0.2833 - accuracy: 0.9136 - 8s/epoch - 31ms/step\n",
            "Epoch 195/200\n",
            "244/244 - 9s - loss: 0.2689 - accuracy: 0.9170 - 9s/epoch - 39ms/step\n",
            "Epoch 196/200\n",
            "244/244 - 10s - loss: 0.2652 - accuracy: 0.9167 - 10s/epoch - 39ms/step\n",
            "Epoch 197/200\n",
            "244/244 - 7s - loss: 0.2643 - accuracy: 0.9164 - 7s/epoch - 31ms/step\n",
            "Epoch 198/200\n",
            "244/244 - 10s - loss: 0.2650 - accuracy: 0.9168 - 10s/epoch - 39ms/step\n",
            "Epoch 199/200\n",
            "244/244 - 8s - loss: 0.2632 - accuracy: 0.9168 - 8s/epoch - 33ms/step\n",
            "Epoch 200/200\n",
            "244/244 - 9s - loss: 0.2633 - accuracy: 0.9146 - 9s/epoch - 35ms/step\n"
          ]
        },
        {
          "output_type": "execute_result",
          "data": {
            "text/plain": [
              "<keras.src.callbacks.History at 0x784f11007c10>"
            ]
          },
          "metadata": {},
          "execution_count": 52
        }
      ]
    },
    {
      "cell_type": "code",
      "source": [
        "def sentence_generation(model, tokenizer, current_word, n): # 모델, 토크나이저, 현재 단어, 반복할 횟수\n",
        "    init_word = current_word\n",
        "    sentence = ''\n",
        "\n",
        "    # n번 반복\n",
        "    for _ in range(n):\n",
        "        encoded = tokenizer.texts_to_sequences([current_word])[0]\n",
        "        encoded = pad_sequences([encoded], maxlen=max_len-1, padding='pre')\n",
        "\n",
        "        # 입력한 X(현재 단어)에 대해서 y를 예측하고 y(예측한 단어)를 result에 저장.\n",
        "        result = model.predict(encoded, verbose=0)\n",
        "        result = np.argmax(result, axis=1)\n",
        "\n",
        "        for word, index in tokenizer.word_index.items():\n",
        "            # 만약 예측한 단어와 인덱스와 동일한 단어가 있다면\n",
        "            if index == result:\n",
        "                break\n",
        "\n",
        "        # 현재 단어 + ' ' + 예측 단어를 현재 단어로 변경\n",
        "        current_word = current_word + ' '  + word\n",
        "\n",
        "        # 예측 단어를 문장에 저장\n",
        "        sentence = sentence + ' ' + word\n",
        "\n",
        "    sentence = init_word + sentence\n",
        "    return sentence\n"
      ],
      "metadata": {
        "id": "N3QzHWFSsrZS"
      },
      "execution_count": null,
      "outputs": []
    },
    {
      "cell_type": "code",
      "source": [
        "print(sentence_generation(model, tokenizer, 'i', 10))\n",
        "\n"
      ],
      "metadata": {
        "colab": {
          "base_uri": "https://localhost:8080/"
        },
        "id": "QxdAr9Zwsrbt",
        "outputId": "5c8f6dcb-d8c7-4858-e9c4-7e3c36596034"
      },
      "execution_count": null,
      "outputs": [
        {
          "output_type": "stream",
          "name": "stdout",
          "text": [
            "i cant jump ship from facebook yet them up about that\n"
          ]
        }
      ]
    },
    {
      "cell_type": "code",
      "source": [
        "print(sentence_generation(model, tokenizer, 'how', 10))\n"
      ],
      "metadata": {
        "colab": {
          "base_uri": "https://localhost:8080/"
        },
        "id": "dqUKmThDsreL",
        "outputId": "e7859326-e44f-4739-8ba8-9d5aec2b1c0b"
      },
      "execution_count": null,
      "outputs": [
        {
          "output_type": "stream",
          "name": "stdout",
          "text": [
            "how to make facebook more accountable on team trump ends in\n"
          ]
        }
      ]
    },
    {
      "cell_type": "code",
      "source": [
        "import numpy as np\n",
        "import urllib.request\n",
        "from tensorflow.keras.utils import to_categorical\n",
        "\n",
        "# 데이터 로드\n",
        "urllib.request.urlretrieve(\"http://www.gutenberg.org/files/11/11-0.txt\", filename=\"11-0.txt\")\n",
        "\n",
        "f = open('11-0.txt', 'rb')\n",
        "sentences = []\n",
        "for sentence in f: # 데이터로부터 한 줄씩 읽는다.\n",
        "    sentence = sentence.strip() # strip()을 통해 \\r, \\n을 제거한다.\n",
        "    sentence = sentence.lower() # 소문자화.\n",
        "    sentence = sentence.decode('ascii', 'ignore') # \\xe2\\x80\\x99 등과 같은 바이트 열 제거\n",
        "    if len(sentence) > 0: #리스트에 추가\n",
        "        sentences.append(sentence)\n",
        "f.close()\n"
      ],
      "metadata": {
        "id": "-3Bha7mssrgi"
      },
      "execution_count": null,
      "outputs": []
    },
    {
      "cell_type": "code",
      "source": [
        "sentences[:5]\n"
      ],
      "metadata": {
        "id": "SikCe1F9srje",
        "colab": {
          "base_uri": "https://localhost:8080/"
        },
        "outputId": "4540b286-ede3-4377-d0b8-033e5da8178a"
      },
      "execution_count": null,
      "outputs": [
        {
          "output_type": "execute_result",
          "data": {
            "text/plain": [
              "['the project gutenberg ebook of alices adventures in wonderland, by lewis carroll',\n",
              " 'this ebook is for the use of anyone anywhere in the united states and',\n",
              " 'most other parts of the world at no cost and with almost no restrictions',\n",
              " 'whatsoever. you may copy it, give it away or re-use it under the terms',\n",
              " 'of the project gutenberg license included with this ebook or online at']"
            ]
          },
          "metadata": {},
          "execution_count": 3
        }
      ]
    },
    {
      "cell_type": "code",
      "source": [
        "total_data = ' '.join(sentences) #모든 문장을 하나의 문자열로 합치기\n",
        "print('문자열의 길이 또는 총 문자의 개수: %d' % len(total_data))\n"
      ],
      "metadata": {
        "id": "Rw2UwQCRkMrf",
        "colab": {
          "base_uri": "https://localhost:8080/"
        },
        "outputId": "17bb1af0-4b43-4b30-b459-ccaca86032f0"
      },
      "execution_count": null,
      "outputs": [
        {
          "output_type": "stream",
          "name": "stdout",
          "text": [
            "문자열의 길이 또는 총 문자의 개수: 159484\n"
          ]
        }
      ]
    },
    {
      "cell_type": "code",
      "source": [
        "print(total_data[:200])\n"
      ],
      "metadata": {
        "colab": {
          "base_uri": "https://localhost:8080/"
        },
        "id": "Fy9quojQ1tc9",
        "outputId": "9bf7ca32-176e-4bff-bfd0-30c71278bede"
      },
      "execution_count": null,
      "outputs": [
        {
          "output_type": "stream",
          "name": "stdout",
          "text": [
            "the project gutenberg ebook of alices adventures in wonderland, by lewis carroll this ebook is for the use of anyone anywhere in the united states and most other parts of the world at no cost and with\n"
          ]
        }
      ]
    },
    {
      "cell_type": "code",
      "source": [
        "char_vocab = sorted(list(set(total_data)))\n",
        "vocab_size = len(char_vocab)\n",
        "print ('문자 집합의 크기 : {}'.format(vocab_size))\n"
      ],
      "metadata": {
        "colab": {
          "base_uri": "https://localhost:8080/"
        },
        "id": "bOEu7z_D1tew",
        "outputId": "eff03ca8-c04c-4de2-8978-94541df26341"
      },
      "execution_count": null,
      "outputs": [
        {
          "output_type": "stream",
          "name": "stdout",
          "text": [
            "문자 집합의 크기 : 56\n"
          ]
        }
      ]
    },
    {
      "cell_type": "code",
      "source": [
        "# 문자에 고유한 정수 부여\n",
        "char_to_index = dict((char, index) for index, char in enumerate(char_vocab))\n",
        "print('문자 집합 :',char_to_index)\n",
        "#구두점, 특수문자 존재/ 26개의 알파벳 소문자 집합"
      ],
      "metadata": {
        "colab": {
          "base_uri": "https://localhost:8080/"
        },
        "id": "w-XjKXY01tg2",
        "outputId": "e667c29b-2ca0-411c-85ac-4240532dcbd4"
      },
      "execution_count": null,
      "outputs": [
        {
          "output_type": "stream",
          "name": "stdout",
          "text": [
            "문자 집합 : {' ': 0, '!': 1, '\"': 2, '#': 3, '$': 4, '%': 5, \"'\": 6, '(': 7, ')': 8, '*': 9, ',': 10, '-': 11, '.': 12, '/': 13, '0': 14, '1': 15, '2': 16, '3': 17, '4': 18, '5': 19, '6': 20, '7': 21, '8': 22, '9': 23, ':': 24, ';': 25, '?': 26, '[': 27, ']': 28, '_': 29, 'a': 30, 'b': 31, 'c': 32, 'd': 33, 'e': 34, 'f': 35, 'g': 36, 'h': 37, 'i': 38, 'j': 39, 'k': 40, 'l': 41, 'm': 42, 'n': 43, 'o': 44, 'p': 45, 'q': 46, 'r': 47, 's': 48, 't': 49, 'u': 50, 'v': 51, 'w': 52, 'x': 53, 'y': 54, 'z': 55}\n"
          ]
        }
      ]
    },
    {
      "cell_type": "code",
      "source": [
        "index_to_char = {}\n",
        "for key, value in char_to_index.items():\n",
        "    index_to_char[value] = key\n"
      ],
      "metadata": {
        "id": "6CpUq2sx6Sv4"
      },
      "execution_count": null,
      "outputs": []
    },
    {
      "cell_type": "code",
      "source": [
        "seq_length = 60\n",
        "\n",
        "# 문자열의 길이를 seq_length로 나누면 전처리 후 생겨날 샘플 수\n",
        "n_samples = int(np.floor((len(total_data) - 1) / seq_length))\n",
        "print ('샘플의 수 : {}'.format(n_samples))\n"
      ],
      "metadata": {
        "colab": {
          "base_uri": "https://localhost:8080/"
        },
        "id": "Ztp58IF41tiq",
        "outputId": "3597aa54-769f-48fb-ccfa-ed09d8130d29"
      },
      "execution_count": null,
      "outputs": [
        {
          "output_type": "stream",
          "name": "stdout",
          "text": [
            "샘플의 수 : 2658\n"
          ]
        }
      ]
    },
    {
      "cell_type": "code",
      "source": [
        "train_X = []\n",
        "train_y = []\n",
        "\n",
        "for i in range(n_samples):\n",
        "    # 0:60 -> 60:120 -> 120:180로 loop를 돌면서 문장 샘플을 1개씩 pick.\n",
        "    X_sample = total_data[i * seq_length: (i + 1) * seq_length]\n",
        "\n",
        "    # 정수 인코딩\n",
        "    X_encoded = [char_to_index[c] for c in X_sample]\n",
        "    train_X.append(X_encoded)\n",
        "\n",
        "    # 오른쪽으로 1칸 쉬프트\n",
        "    y_sample = total_data[i * seq_length + 1: (i + 1) * seq_length + 1]\n",
        "    y_encoded = [char_to_index[c] for c in y_sample]\n",
        "    train_y.append(y_encoded)\n"
      ],
      "metadata": {
        "id": "3lM3X_SJ1tkj"
      },
      "execution_count": null,
      "outputs": []
    },
    {
      "cell_type": "code",
      "source": [
        "print('X 데이터의 첫번째 샘플 :',train_X[0])\n",
        "print('y 데이터의 첫번째 샘플 :',train_y[0])\n",
        "print('-'*50)\n",
        "print('X 데이터의 첫번째 샘플 디코딩 :',[index_to_char[i] for i in train_X[0]])\n",
        "print('y 데이터의 첫번째 샘플 디코딩 :',[index_to_char[i] for i in train_y[0]])\n",
        "\n"
      ],
      "metadata": {
        "colab": {
          "base_uri": "https://localhost:8080/"
        },
        "id": "RlP7zSBo1tmh",
        "outputId": "d71e69bb-db65-41ee-f71b-01d13e9af4ad"
      },
      "execution_count": null,
      "outputs": [
        {
          "output_type": "stream",
          "name": "stdout",
          "text": [
            "X 데이터의 첫번째 샘플 : [49, 37, 34, 0, 45, 47, 44, 39, 34, 32, 49, 0, 36, 50, 49, 34, 43, 31, 34, 47, 36, 0, 34, 31, 44, 44, 40, 0, 44, 35, 0, 30, 41, 38, 32, 34, 48, 0, 30, 33, 51, 34, 43, 49, 50, 47, 34, 48, 0, 38, 43, 0, 52, 44, 43, 33, 34, 47, 41, 30]\n",
            "y 데이터의 첫번째 샘플 : [37, 34, 0, 45, 47, 44, 39, 34, 32, 49, 0, 36, 50, 49, 34, 43, 31, 34, 47, 36, 0, 34, 31, 44, 44, 40, 0, 44, 35, 0, 30, 41, 38, 32, 34, 48, 0, 30, 33, 51, 34, 43, 49, 50, 47, 34, 48, 0, 38, 43, 0, 52, 44, 43, 33, 34, 47, 41, 30, 43]\n",
            "--------------------------------------------------\n",
            "X 데이터의 첫번째 샘플 디코딩 : ['t', 'h', 'e', ' ', 'p', 'r', 'o', 'j', 'e', 'c', 't', ' ', 'g', 'u', 't', 'e', 'n', 'b', 'e', 'r', 'g', ' ', 'e', 'b', 'o', 'o', 'k', ' ', 'o', 'f', ' ', 'a', 'l', 'i', 'c', 'e', 's', ' ', 'a', 'd', 'v', 'e', 'n', 't', 'u', 'r', 'e', 's', ' ', 'i', 'n', ' ', 'w', 'o', 'n', 'd', 'e', 'r', 'l', 'a']\n",
            "y 데이터의 첫번째 샘플 디코딩 : ['h', 'e', ' ', 'p', 'r', 'o', 'j', 'e', 'c', 't', ' ', 'g', 'u', 't', 'e', 'n', 'b', 'e', 'r', 'g', ' ', 'e', 'b', 'o', 'o', 'k', ' ', 'o', 'f', ' ', 'a', 'l', 'i', 'c', 'e', 's', ' ', 'a', 'd', 'v', 'e', 'n', 't', 'u', 'r', 'e', 's', ' ', 'i', 'n', ' ', 'w', 'o', 'n', 'd', 'e', 'r', 'l', 'a', 'n']\n"
          ]
        }
      ]
    },
    {
      "cell_type": "code",
      "source": [
        "print(train_X[1])\n"
      ],
      "metadata": {
        "colab": {
          "base_uri": "https://localhost:8080/"
        },
        "id": "KzrMOTQH1tov",
        "outputId": "10b9b73a-24b1-43da-8f6f-54b0497318d4"
      },
      "execution_count": null,
      "outputs": [
        {
          "output_type": "stream",
          "name": "stdout",
          "text": [
            "[43, 33, 10, 0, 31, 54, 0, 41, 34, 52, 38, 48, 0, 32, 30, 47, 47, 44, 41, 41, 0, 49, 37, 38, 48, 0, 34, 31, 44, 44, 40, 0, 38, 48, 0, 35, 44, 47, 0, 49, 37, 34, 0, 50, 48, 34, 0, 44, 35, 0, 30, 43, 54, 44, 43, 34, 0, 30, 43, 54]\n"
          ]
        }
      ]
    },
    {
      "cell_type": "code",
      "source": [
        "print(train_y[1])\n"
      ],
      "metadata": {
        "colab": {
          "base_uri": "https://localhost:8080/"
        },
        "id": "1sQiPMuS1tqk",
        "outputId": "3e5479ea-0263-41f4-8fd7-e1ee1167c94b"
      },
      "execution_count": null,
      "outputs": [
        {
          "output_type": "stream",
          "name": "stdout",
          "text": [
            "[33, 10, 0, 31, 54, 0, 41, 34, 52, 38, 48, 0, 32, 30, 47, 47, 44, 41, 41, 0, 49, 37, 38, 48, 0, 34, 31, 44, 44, 40, 0, 38, 48, 0, 35, 44, 47, 0, 49, 37, 34, 0, 50, 48, 34, 0, 44, 35, 0, 30, 43, 54, 44, 43, 34, 0, 30, 43, 54, 52]\n"
          ]
        }
      ]
    },
    {
      "cell_type": "code",
      "source": [
        "train_X = to_categorical(train_X)\n",
        "train_y = to_categorical(train_y)\n",
        "\n",
        "print('train_X의 크기(shape) : {}'.format(train_X.shape)) # 원-핫 인코딩\n",
        "print('train_y의 크기(shape) : {}'.format(train_y.shape)) # 원-핫 인코딩\n"
      ],
      "metadata": {
        "colab": {
          "base_uri": "https://localhost:8080/"
        },
        "id": "HyeCWKI41ts2",
        "outputId": "7bcda8fe-949a-48ad-e798-dc47aa806ec1"
      },
      "execution_count": null,
      "outputs": [
        {
          "output_type": "stream",
          "name": "stdout",
          "text": [
            "train_X의 크기(shape) : (2658, 60, 56)\n",
            "train_y의 크기(shape) : (2658, 60, 56)\n"
          ]
        }
      ]
    },
    {
      "cell_type": "code",
      "source": [
        "from tensorflow.keras.models import Sequential\n",
        "from tensorflow.keras.layers import Dense, LSTM, TimeDistributed\n",
        "\n",
        "hidden_units = 256\n",
        "\n",
        "model = Sequential()\n",
        "model.add(LSTM(hidden_units, input_shape=(None, train_X.shape[2]), return_sequences=True)) #은닉상태 = 256\n",
        "model.add(LSTM(hidden_units, return_sequences=True)) #LSTM 은닉츠 2개 사용\n",
        "model.add(TimeDistributed(Dense(vocab_size, activation='softmax')))#소프트맥스함수\n",
        "#문자 집합 크기 만큼의 뉴런을 배치하여 모델 설계 -> 전결합층\n",
        "\n",
        "model.compile(loss='categorical_crossentropy', optimizer='adam', metrics=['accuracy']) #크로스 엔트로피 - 손실함수\n",
        "model.fit(train_X, train_y, epochs=80, verbose=2)\n"
      ],
      "metadata": {
        "colab": {
          "base_uri": "https://localhost:8080/"
        },
        "id": "e_cFTjNI68qM",
        "outputId": "4c7c847a-e9e6-4654-bd30-4c6d29d5c560"
      },
      "execution_count": null,
      "outputs": [
        {
          "output_type": "stream",
          "name": "stdout",
          "text": [
            "Epoch 1/80\n",
            "84/84 - 45s - loss: 3.0673 - accuracy: 0.1835 - 45s/epoch - 541ms/step\n",
            "Epoch 2/80\n",
            "84/84 - 41s - loss: 2.7953 - accuracy: 0.2287 - 41s/epoch - 493ms/step\n",
            "Epoch 3/80\n",
            "84/84 - 42s - loss: 2.4475 - accuracy: 0.3150 - 42s/epoch - 501ms/step\n",
            "Epoch 4/80\n",
            "84/84 - 41s - loss: 2.3089 - accuracy: 0.3469 - 41s/epoch - 486ms/step\n",
            "Epoch 5/80\n",
            "84/84 - 40s - loss: 2.2129 - accuracy: 0.3689 - 40s/epoch - 477ms/step\n",
            "Epoch 6/80\n",
            "84/84 - 40s - loss: 2.1341 - accuracy: 0.3885 - 40s/epoch - 477ms/step\n",
            "Epoch 7/80\n",
            "84/84 - 41s - loss: 2.0809 - accuracy: 0.4011 - 41s/epoch - 483ms/step\n",
            "Epoch 8/80\n",
            "84/84 - 41s - loss: 2.0284 - accuracy: 0.4141 - 41s/epoch - 490ms/step\n",
            "Epoch 9/80\n",
            "84/84 - 40s - loss: 1.9825 - accuracy: 0.4280 - 40s/epoch - 473ms/step\n",
            "Epoch 10/80\n",
            "84/84 - 40s - loss: 1.9412 - accuracy: 0.4388 - 40s/epoch - 477ms/step\n",
            "Epoch 11/80\n",
            "84/84 - 41s - loss: 1.9045 - accuracy: 0.4490 - 41s/epoch - 491ms/step\n",
            "Epoch 12/80\n",
            "84/84 - 42s - loss: 1.8709 - accuracy: 0.4580 - 42s/epoch - 495ms/step\n",
            "Epoch 13/80\n",
            "84/84 - 40s - loss: 1.8369 - accuracy: 0.4662 - 40s/epoch - 476ms/step\n",
            "Epoch 14/80\n",
            "84/84 - 40s - loss: 1.8068 - accuracy: 0.4744 - 40s/epoch - 474ms/step\n",
            "Epoch 15/80\n",
            "84/84 - 42s - loss: 1.7751 - accuracy: 0.4840 - 42s/epoch - 504ms/step\n",
            "Epoch 16/80\n",
            "84/84 - 42s - loss: 1.7464 - accuracy: 0.4918 - 42s/epoch - 500ms/step\n",
            "Epoch 17/80\n",
            "84/84 - 42s - loss: 1.7193 - accuracy: 0.4990 - 42s/epoch - 504ms/step\n",
            "Epoch 18/80\n",
            "84/84 - 42s - loss: 1.6950 - accuracy: 0.5048 - 42s/epoch - 503ms/step\n",
            "Epoch 19/80\n",
            "84/84 - 42s - loss: 1.6668 - accuracy: 0.5129 - 42s/epoch - 505ms/step\n",
            "Epoch 20/80\n",
            "84/84 - 41s - loss: 1.6413 - accuracy: 0.5194 - 41s/epoch - 492ms/step\n",
            "Epoch 21/80\n",
            "84/84 - 42s - loss: 1.6171 - accuracy: 0.5262 - 42s/epoch - 495ms/step\n",
            "Epoch 22/80\n",
            "84/84 - 42s - loss: 1.5933 - accuracy: 0.5319 - 42s/epoch - 501ms/step\n",
            "Epoch 23/80\n",
            "84/84 - 42s - loss: 1.5674 - accuracy: 0.5381 - 42s/epoch - 502ms/step\n",
            "Epoch 24/80\n",
            "84/84 - 42s - loss: 1.5436 - accuracy: 0.5446 - 42s/epoch - 501ms/step\n",
            "Epoch 25/80\n",
            "84/84 - 42s - loss: 1.5214 - accuracy: 0.5503 - 42s/epoch - 505ms/step\n",
            "Epoch 26/80\n",
            "84/84 - 42s - loss: 1.4964 - accuracy: 0.5575 - 42s/epoch - 498ms/step\n",
            "Epoch 27/80\n",
            "84/84 - 41s - loss: 1.4753 - accuracy: 0.5628 - 41s/epoch - 488ms/step\n",
            "Epoch 28/80\n",
            "84/84 - 42s - loss: 1.4521 - accuracy: 0.5691 - 42s/epoch - 501ms/step\n",
            "Epoch 29/80\n",
            "84/84 - 42s - loss: 1.4312 - accuracy: 0.5744 - 42s/epoch - 498ms/step\n",
            "Epoch 30/80\n",
            "84/84 - 43s - loss: 1.4103 - accuracy: 0.5803 - 43s/epoch - 514ms/step\n",
            "Epoch 31/80\n",
            "84/84 - 44s - loss: 1.3885 - accuracy: 0.5865 - 44s/epoch - 524ms/step\n",
            "Epoch 32/80\n",
            "84/84 - 47s - loss: 1.3626 - accuracy: 0.5939 - 47s/epoch - 558ms/step\n",
            "Epoch 33/80\n",
            "84/84 - 44s - loss: 1.3428 - accuracy: 0.5999 - 44s/epoch - 525ms/step\n",
            "Epoch 34/80\n",
            "84/84 - 43s - loss: 1.3192 - accuracy: 0.6057 - 43s/epoch - 511ms/step\n",
            "Epoch 35/80\n",
            "84/84 - 43s - loss: 1.2957 - accuracy: 0.6129 - 43s/epoch - 513ms/step\n",
            "Epoch 36/80\n",
            "84/84 - 43s - loss: 1.2776 - accuracy: 0.6178 - 43s/epoch - 514ms/step\n",
            "Epoch 37/80\n",
            "84/84 - 43s - loss: 1.2528 - accuracy: 0.6249 - 43s/epoch - 515ms/step\n",
            "Epoch 38/80\n",
            "84/84 - 43s - loss: 1.2331 - accuracy: 0.6299 - 43s/epoch - 516ms/step\n",
            "Epoch 39/80\n",
            "84/84 - 43s - loss: 1.2113 - accuracy: 0.6369 - 43s/epoch - 515ms/step\n",
            "Epoch 40/80\n",
            "84/84 - 43s - loss: 1.1921 - accuracy: 0.6426 - 43s/epoch - 514ms/step\n",
            "Epoch 41/80\n",
            "84/84 - 43s - loss: 1.1662 - accuracy: 0.6496 - 43s/epoch - 512ms/step\n",
            "Epoch 42/80\n",
            "84/84 - 39s - loss: 1.1463 - accuracy: 0.6553 - 39s/epoch - 465ms/step\n",
            "Epoch 43/80\n",
            "84/84 - 41s - loss: 1.1238 - accuracy: 0.6625 - 41s/epoch - 485ms/step\n",
            "Epoch 44/80\n",
            "84/84 - 41s - loss: 1.0984 - accuracy: 0.6698 - 41s/epoch - 487ms/step\n",
            "Epoch 45/80\n",
            "84/84 - 41s - loss: 1.0814 - accuracy: 0.6734 - 41s/epoch - 483ms/step\n",
            "Epoch 46/80\n",
            "84/84 - 39s - loss: 1.0552 - accuracy: 0.6829 - 39s/epoch - 461ms/step\n",
            "Epoch 47/80\n",
            "84/84 - 40s - loss: 1.0339 - accuracy: 0.6888 - 40s/epoch - 480ms/step\n",
            "Epoch 48/80\n",
            "84/84 - 41s - loss: 1.0135 - accuracy: 0.6954 - 41s/epoch - 485ms/step\n",
            "Epoch 49/80\n",
            "84/84 - 40s - loss: 0.9881 - accuracy: 0.7035 - 40s/epoch - 476ms/step\n",
            "Epoch 50/80\n",
            "84/84 - 39s - loss: 0.9648 - accuracy: 0.7108 - 39s/epoch - 469ms/step\n",
            "Epoch 51/80\n",
            "84/84 - 40s - loss: 0.9466 - accuracy: 0.7156 - 40s/epoch - 482ms/step\n",
            "Epoch 52/80\n",
            "84/84 - 41s - loss: 0.9247 - accuracy: 0.7233 - 41s/epoch - 487ms/step\n",
            "Epoch 53/80\n",
            "84/84 - 40s - loss: 0.8949 - accuracy: 0.7327 - 40s/epoch - 479ms/step\n",
            "Epoch 54/80\n",
            "84/84 - 40s - loss: 0.8718 - accuracy: 0.7400 - 40s/epoch - 471ms/step\n",
            "Epoch 55/80\n",
            "84/84 - 41s - loss: 0.8477 - accuracy: 0.7487 - 41s/epoch - 485ms/step\n",
            "Epoch 56/80\n",
            "84/84 - 41s - loss: 0.8322 - accuracy: 0.7529 - 41s/epoch - 493ms/step\n",
            "Epoch 57/80\n",
            "84/84 - 41s - loss: 0.8089 - accuracy: 0.7599 - 41s/epoch - 491ms/step\n",
            "Epoch 58/80\n",
            "84/84 - 40s - loss: 0.7866 - accuracy: 0.7668 - 40s/epoch - 476ms/step\n",
            "Epoch 59/80\n",
            "84/84 - 41s - loss: 0.7661 - accuracy: 0.7740 - 41s/epoch - 486ms/step\n",
            "Epoch 60/80\n",
            "84/84 - 41s - loss: 0.7443 - accuracy: 0.7803 - 41s/epoch - 489ms/step\n",
            "Epoch 61/80\n",
            "84/84 - 42s - loss: 0.7297 - accuracy: 0.7844 - 42s/epoch - 495ms/step\n",
            "Epoch 62/80\n",
            "84/84 - 42s - loss: 0.7091 - accuracy: 0.7922 - 42s/epoch - 497ms/step\n",
            "Epoch 63/80\n",
            "84/84 - 41s - loss: 0.6857 - accuracy: 0.7986 - 41s/epoch - 484ms/step\n",
            "Epoch 64/80\n",
            "84/84 - 41s - loss: 0.6684 - accuracy: 0.8047 - 41s/epoch - 493ms/step\n",
            "Epoch 65/80\n",
            "84/84 - 41s - loss: 0.6365 - accuracy: 0.8147 - 41s/epoch - 489ms/step\n",
            "Epoch 66/80\n",
            "84/84 - 41s - loss: 0.6224 - accuracy: 0.8193 - 41s/epoch - 486ms/step\n",
            "Epoch 67/80\n",
            "84/84 - 40s - loss: 0.5988 - accuracy: 0.8274 - 40s/epoch - 472ms/step\n",
            "Epoch 68/80\n",
            "84/84 - 40s - loss: 0.5836 - accuracy: 0.8322 - 40s/epoch - 477ms/step\n",
            "Epoch 69/80\n",
            "84/84 - 40s - loss: 0.5809 - accuracy: 0.8305 - 40s/epoch - 482ms/step\n",
            "Epoch 70/80\n",
            "84/84 - 40s - loss: 0.5532 - accuracy: 0.8407 - 40s/epoch - 482ms/step\n",
            "Epoch 71/80\n",
            "84/84 - 39s - loss: 0.5361 - accuracy: 0.8468 - 39s/epoch - 463ms/step\n",
            "Epoch 72/80\n",
            "84/84 - 40s - loss: 0.5114 - accuracy: 0.8553 - 40s/epoch - 479ms/step\n",
            "Epoch 73/80\n",
            "84/84 - 40s - loss: 0.4903 - accuracy: 0.8633 - 40s/epoch - 481ms/step\n",
            "Epoch 74/80\n",
            "84/84 - 40s - loss: 0.4850 - accuracy: 0.8634 - 40s/epoch - 479ms/step\n",
            "Epoch 75/80\n",
            "84/84 - 41s - loss: 0.4693 - accuracy: 0.8675 - 41s/epoch - 487ms/step\n",
            "Epoch 76/80\n",
            "84/84 - 50s - loss: 0.4552 - accuracy: 0.8728 - 50s/epoch - 590ms/step\n",
            "Epoch 77/80\n",
            "84/84 - 39s - loss: 0.4658 - accuracy: 0.8667 - 39s/epoch - 466ms/step\n",
            "Epoch 78/80\n",
            "84/84 - 41s - loss: 0.4267 - accuracy: 0.8820 - 41s/epoch - 493ms/step\n",
            "Epoch 79/80\n",
            "84/84 - 44s - loss: 0.4122 - accuracy: 0.8869 - 44s/epoch - 523ms/step\n",
            "Epoch 80/80\n",
            "84/84 - 46s - loss: 0.4565 - accuracy: 0.8660 - 46s/epoch - 546ms/step\n"
          ]
        },
        {
          "output_type": "execute_result",
          "data": {
            "text/plain": [
              "<keras.src.callbacks.History at 0x7e65495a7e20>"
            ]
          },
          "metadata": {},
          "execution_count": 18
        }
      ]
    },
    {
      "cell_type": "code",
      "source": [
        "def sentence_generation(model, length):\n",
        "    # 문자에 대한 랜덤한 정수 생성\n",
        "    ix = [np.random.randint(vocab_size)]\n",
        "\n",
        "    # 랜덤한 정수로부터 맵핑되는 문자 생성\n",
        "    y_char = [index_to_char[ix[-1]]]\n",
        "    print(ix[-1],'번 문자',y_char[-1],'로 예측을 시작!')\n",
        "\n",
        "    # (1, length, 55) 크기의 X 생성. 즉, LSTM의 입력 시퀀스 생성\n",
        "    X = np.zeros((1, length, vocab_size))\n",
        "\n",
        "    for i in range(length):\n",
        "        # X[0][i][예측한 문자의 인덱스] = 1, 즉, 예측 문자를 다음 입력 시퀀스에 추가\n",
        "        X[0][i][ix[-1]] = 1\n",
        "        print(index_to_char[ix[-1]], end=\"\")\n",
        "        ix = np.argmax(model.predict(X[:, :i+1, :])[0], 1)\n",
        "        y_char.append(index_to_char[ix[-1]])\n",
        "    return ('').join(y_char)\n"
      ],
      "metadata": {
        "id": "-ls_orT_68sH"
      },
      "execution_count": null,
      "outputs": []
    },
    {
      "cell_type": "code",
      "source": [
        "result = sentence_generation(model, 100)\n",
        "print(result)\n"
      ],
      "metadata": {
        "colab": {
          "base_uri": "https://localhost:8080/"
        },
        "id": "dp5QnuE268uO",
        "outputId": "80a0bef4-6da2-4f12-aac9-eb04b2937559"
      },
      "execution_count": null,
      "outputs": [
        {
          "output_type": "stream",
          "name": "stdout",
          "text": [
            "0 번 문자   로 예측을 시작!\n",
            "1/1 [==============================] - 1s 1s/step\n",
            "1/1 [==============================] - 1s 1s/step\n",
            "1/1 [==============================] - 0s 36ms/step\n",
            "1/1 [==============================] - 0s 41ms/step\n",
            "1/1 [==============================] - 0s 37ms/step\n",
            "1/1 [==============================] - 0s 37ms/step\n",
            "1/1 [==============================] - 0s 37ms/step\n",
            "1/1 [==============================] - 0s 40ms/step\n",
            "1/1 [==============================] - 0s 43ms/step\n",
            "1/1 [==============================] - 0s 48ms/step\n",
            "1/1 [==============================] - 0s 45ms/step\n",
            "1/1 [==============================] - 0s 38ms/step\n",
            "1/1 [==============================] - 0s 40ms/step\n",
            "1/1 [==============================] - 0s 42ms/step\n",
            "1/1 [==============================] - 0s 34ms/step\n",
            "1/1 [==============================] - 0s 29ms/step\n",
            "1/1 [==============================] - 0s 27ms/step\n",
            "1/1 [==============================] - 0s 31ms/step\n",
            "1/1 [==============================] - 0s 27ms/step\n",
            "1/1 [==============================] - 0s 29ms/step\n",
            "1/1 [==============================] - 0s 30ms/step\n",
            "1/1 [==============================] - 0s 35ms/step\n",
            "1/1 [==============================] - 0s 28ms/step\n",
            "1/1 [==============================] - 0s 28ms/step\n",
            "1/1 [==============================] - 0s 33ms/step\n",
            "1/1 [==============================] - 0s 28ms/step\n",
            "1/1 [==============================] - 0s 33ms/step\n",
            "1/1 [==============================] - 0s 35ms/step\n",
            "1/1 [==============================] - 0s 29ms/step\n",
            "1/1 [==============================] - 0s 32ms/step\n",
            "1/1 [==============================] - 0s 30ms/step\n",
            "1/1 [==============================] - 0s 30ms/step\n",
            "1/1 [==============================] - 0s 30ms/step\n",
            "1/1 [==============================] - 0s 37ms/step\n",
            "1/1 [==============================] - 0s 30ms/step\n",
            "1/1 [==============================] - 0s 32ms/step\n",
            "1/1 [==============================] - 0s 30ms/step\n",
            "1/1 [==============================] - 0s 36ms/step\n",
            "1/1 [==============================] - 0s 33ms/step\n",
            "1/1 [==============================] - 0s 30ms/step\n",
            "1/1 [==============================] - 0s 35ms/step\n",
            "1/1 [==============================] - 0s 34ms/step\n",
            "1/1 [==============================] - 0s 33ms/step\n",
            "1/1 [==============================] - 0s 34ms/step\n",
            "1/1 [==============================] - 0s 38ms/step\n",
            "1/1 [==============================] - 0s 33ms/step\n",
            "1/1 [==============================] - 0s 36ms/step\n",
            "1/1 [==============================] - 0s 37ms/step\n",
            "1/1 [==============================] - 0s 40ms/step\n",
            "1/1 [==============================] - 0s 35ms/step\n",
            "1/1 [==============================] - 0s 37ms/step\n",
            "1/1 [==============================] - 0s 38ms/step\n",
            "1/1 [==============================] - 0s 34ms/step\n",
            "1/1 [==============================] - 0s 36ms/step\n",
            "1/1 [==============================] - 0s 40ms/step\n",
            "1/1 [==============================] - 0s 34ms/step\n",
            "1/1 [==============================] - 0s 36ms/step\n",
            "1/1 [==============================] - 0s 38ms/step\n",
            "1/1 [==============================] - 0s 38ms/step\n",
            "1/1 [==============================] - 0s 40ms/step\n",
            "1/1 [==============================] - 0s 41ms/step\n",
            "1/1 [==============================] - 0s 44ms/step\n",
            "1/1 [==============================] - 0s 38ms/step\n",
            "1/1 [==============================] - 0s 40ms/step\n",
            "1/1 [==============================] - 0s 44ms/step\n",
            "1/1 [==============================] - 0s 48ms/step\n",
            "1/1 [==============================] - 0s 43ms/step\n",
            "1/1 [==============================] - 0s 43ms/step\n",
            "1/1 [==============================] - 0s 39ms/step\n",
            "1/1 [==============================] - 0s 43ms/step\n",
            "1/1 [==============================] - 0s 44ms/step\n",
            "1/1 [==============================] - 0s 43ms/step\n",
            "1/1 [==============================] - 0s 54ms/step\n",
            "1/1 [==============================] - 0s 45ms/step\n",
            "1/1 [==============================] - 0s 43ms/step\n",
            "1/1 [==============================] - 0s 52ms/step\n",
            "1/1 [==============================] - 0s 47ms/step\n",
            "1/1 [==============================] - 0s 45ms/step\n",
            "1/1 [==============================] - 0s 44ms/step\n",
            "1/1 [==============================] - 0s 45ms/step\n",
            "1/1 [==============================] - 0s 46ms/step\n",
            "1/1 [==============================] - 0s 41ms/step\n",
            "1/1 [==============================] - 0s 43ms/step\n",
            "1/1 [==============================] - 0s 42ms/step\n",
            "1/1 [==============================] - 0s 45ms/step\n",
            "1/1 [==============================] - 0s 58ms/step\n",
            "1/1 [==============================] - 0s 53ms/step\n",
            "1/1 [==============================] - 0s 51ms/step\n",
            "1/1 [==============================] - 0s 45ms/step\n",
            "1/1 [==============================] - 0s 50ms/step\n",
            "1/1 [==============================] - 0s 49ms/step\n",
            "1/1 [==============================] - 0s 46ms/step\n",
            "1/1 [==============================] - 0s 48ms/step\n",
            "1/1 [==============================] - 0s 52ms/step\n",
            "1/1 [==============================] - 0s 51ms/step\n",
            "1/1 [==============================] - 0s 60ms/step\n",
            "1/1 [==============================] - 0s 56ms/step\n",
            "1/1 [==============================] - 0s 57ms/step\n",
            "1/1 [==============================] - 0s 54ms/step\n",
            "1/1 [==============================] - 0s 58ms/step\n",
            " and the mouse went should like it, you know im all her confusing this talk not timidly im a poor man\n"
          ]
        }
      ]
    },
    {
      "cell_type": "code",
      "source": [
        "import numpy as np\n",
        "from tensorflow.keras.utils import to_categorical\n",
        "\n",
        "\n",
        "raw_text = '''\n",
        "I get on with life as a programmer,\n",
        "I like to contemplate beer.\n",
        "But when I start to daydream,\n",
        "My mind turns straight to wine.\n",
        "\n",
        "Do I love wine more than beer?\n",
        "\n",
        "I like to use words about beer.\n",
        "But when I stop my talking,\n",
        "My mind turns straight to wine.\n",
        "\n",
        "I hate bugs and errors.\n",
        "But I just think back to wine,\n",
        "And I'm happy once again.\n",
        "\n",
        "I like to hang out with programming and deep learning.\n",
        "But when left alone,\n",
        "My mind turns straight to wine.\n",
        "'''\n"
      ],
      "metadata": {
        "id": "11VQG0nZ68wJ"
      },
      "execution_count": null,
      "outputs": []
    },
    {
      "cell_type": "code",
      "source": [
        "tokens = raw_text.split()\n",
        "raw_text = ' '.join(tokens)\n",
        "print(raw_text)\n",
        "#단락 구분 없애고 하나의 문자열로 재저장"
      ],
      "metadata": {
        "colab": {
          "base_uri": "https://localhost:8080/"
        },
        "id": "l6v4S71B68yp",
        "outputId": "63000bd3-9ffb-4f7d-994c-82e37ecc5988"
      },
      "execution_count": null,
      "outputs": [
        {
          "output_type": "stream",
          "name": "stdout",
          "text": [
            "I get on with life as a programmer, I like to contemplate beer. But when I start to daydream, My mind turns straight to wine. Do I love wine more than beer? I like to use words about beer. But when I stop my talking, My mind turns straight to wine. I hate bugs and errors. But I just think back to wine, And I'm happy once again. I like to hang out with programming and deep learning. But when left alone, My mind turns straight to wine.\n"
          ]
        }
      ]
    },
    {
      "cell_type": "code",
      "source": [
        "# 중복을 제거한 문자 집합 생성\n",
        "char_vocab = sorted(list(set(raw_text)))\n",
        "vocab_size = len(char_vocab)\n",
        "print('문자 집합 :',char_vocab)\n",
        "print ('문자 집합의 크기 : {}'.format(vocab_size))\n"
      ],
      "metadata": {
        "colab": {
          "base_uri": "https://localhost:8080/"
        },
        "id": "KwDY8cUi681C",
        "outputId": "bede2989-b892-45fe-b822-92d64b2de2ca"
      },
      "execution_count": null,
      "outputs": [
        {
          "output_type": "stream",
          "name": "stdout",
          "text": [
            "문자 집합 : [' ', \"'\", ',', '.', '?', 'A', 'B', 'D', 'I', 'M', 'a', 'b', 'c', 'd', 'e', 'f', 'g', 'h', 'i', 'j', 'k', 'l', 'm', 'n', 'o', 'p', 'r', 's', 't', 'u', 'v', 'w', 'y']\n",
            "문자 집합의 크기 : 33\n"
          ]
        }
      ]
    },
    {
      "cell_type": "code",
      "source": [
        "char_to_index = dict((char, index) for index, char in enumerate(char_vocab)) # 문자에 고유한 정수 인덱스 부여\n",
        "print(char_to_index)\n"
      ],
      "metadata": {
        "colab": {
          "base_uri": "https://localhost:8080/"
        },
        "id": "N8nsS1m5684o",
        "outputId": "61b5a350-e37e-4e57-c575-1ed90108e978"
      },
      "execution_count": null,
      "outputs": [
        {
          "output_type": "stream",
          "name": "stdout",
          "text": [
            "{' ': 0, \"'\": 1, ',': 2, '.': 3, '?': 4, 'A': 5, 'B': 6, 'D': 7, 'I': 8, 'M': 9, 'a': 10, 'b': 11, 'c': 12, 'd': 13, 'e': 14, 'f': 15, 'g': 16, 'h': 17, 'i': 18, 'j': 19, 'k': 20, 'l': 21, 'm': 22, 'n': 23, 'o': 24, 'p': 25, 'r': 26, 's': 27, 't': 28, 'u': 29, 'v': 30, 'w': 31, 'y': 32}\n"
          ]
        }
      ]
    },
    {
      "cell_type": "code",
      "source": [
        "length = 11\n",
        "sequences = []\n",
        "for i in range(length, len(raw_text)):\n",
        "    seq = raw_text[i-length:i] # 길이 11의 문자열을 지속적으로 만든다. (입력 시퀀스 길이는 10이지만 다음 문자도 필요함)\n",
        "    sequences.append(seq) #리스트에 추\n",
        "print('총 훈련 샘플의 수: %d' % len(sequences))\n"
      ],
      "metadata": {
        "colab": {
          "base_uri": "https://localhost:8080/"
        },
        "id": "dNZNG9KB1tvH",
        "outputId": "47b8bcac-00ed-4a25-ceb2-706edf51d471"
      },
      "execution_count": null,
      "outputs": [
        {
          "output_type": "stream",
          "name": "stdout",
          "text": [
            "총 훈련 샘플의 수: 426\n"
          ]
        }
      ]
    },
    {
      "cell_type": "code",
      "source": [
        "sequences[:10]\n"
      ],
      "metadata": {
        "colab": {
          "base_uri": "https://localhost:8080/"
        },
        "id": "JGe8u2iA1txT",
        "outputId": "eee3ffa3-2275-403c-a368-6ec13462f453"
      },
      "execution_count": null,
      "outputs": [
        {
          "output_type": "execute_result",
          "data": {
            "text/plain": [
              "['I get on wi',\n",
              " ' get on wit',\n",
              " 'get on with',\n",
              " 'et on with ',\n",
              " 't on with l',\n",
              " ' on with li',\n",
              " 'on with lif',\n",
              " 'n with life',\n",
              " ' with life ',\n",
              " 'with life a']"
            ]
          },
          "metadata": {},
          "execution_count": 26
        }
      ]
    },
    {
      "cell_type": "code",
      "source": [
        "encoded_sequences = []\n",
        "for sequence in sequences: # 전체 데이터에서 문장 샘플을 1개씩 꺼낸다.\n",
        "    encoded_sequence = [char_to_index[char] for char in sequence] # 문장 샘플에서 각 문자에 대해서 정수 인코딩을 수행.\n",
        "    encoded_sequences.append(encoded_sequence)\n"
      ],
      "metadata": {
        "id": "Q2xziuC91tzR"
      },
      "execution_count": null,
      "outputs": []
    },
    {
      "cell_type": "code",
      "source": [
        "encoded_sequences[:5]\n"
      ],
      "metadata": {
        "colab": {
          "base_uri": "https://localhost:8080/"
        },
        "id": "Pky06r_pJAt3",
        "outputId": "e130f5a8-92be-4ff1-f9ac-4e4306bd294c"
      },
      "execution_count": null,
      "outputs": [
        {
          "output_type": "execute_result",
          "data": {
            "text/plain": [
              "[[8, 0, 16, 14, 28, 0, 24, 23, 0, 31, 18],\n",
              " [0, 16, 14, 28, 0, 24, 23, 0, 31, 18, 28],\n",
              " [16, 14, 28, 0, 24, 23, 0, 31, 18, 28, 17],\n",
              " [14, 28, 0, 24, 23, 0, 31, 18, 28, 17, 0],\n",
              " [28, 0, 24, 23, 0, 31, 18, 28, 17, 0, 21]]"
            ]
          },
          "metadata": {},
          "execution_count": 28
        }
      ]
    },
    {
      "cell_type": "code",
      "source": [
        "encoded_sequences = np.array(encoded_sequences)\n",
        "\n",
        "# 맨 마지막 위치의 문자를 분리\n",
        "X_data = encoded_sequences[:,:-1]\n",
        "# 맨 마지막 위치의 문자를 저장\n",
        "y_data = encoded_sequences[:,-1]\n"
      ],
      "metadata": {
        "id": "sVm2e-gsJAv3"
      },
      "execution_count": null,
      "outputs": []
    },
    {
      "cell_type": "code",
      "source": [
        "print(X_data[:5])\n",
        "print(y_data[:5])\n"
      ],
      "metadata": {
        "colab": {
          "base_uri": "https://localhost:8080/"
        },
        "id": "Xivnl4oLJAyG",
        "outputId": "7416bbe3-84aa-4256-d094-b4715d558bc6"
      },
      "execution_count": null,
      "outputs": [
        {
          "output_type": "stream",
          "name": "stdout",
          "text": [
            "[[ 8  0 16 14 28  0 24 23  0 31]\n",
            " [ 0 16 14 28  0 24 23  0 31 18]\n",
            " [16 14 28  0 24 23  0 31 18 28]\n",
            " [14 28  0 24 23  0 31 18 28 17]\n",
            " [28  0 24 23  0 31 18 28 17  0]]\n",
            "[18 28 17  0 21]\n"
          ]
        }
      ]
    },
    {
      "cell_type": "code",
      "source": [
        "# 원-핫 인코딩\n",
        "X_data_one_hot = [to_categorical(encoded, num_classes=vocab_size) for encoded in X_data]\n",
        "X_data_one_hot = np.array(X_data_one_hot)\n",
        "y_data_one_hot = to_categorical(y_data, num_classes=vocab_size)\n"
      ],
      "metadata": {
        "id": "DNdnKnDzJA1s"
      },
      "execution_count": null,
      "outputs": []
    },
    {
      "cell_type": "code",
      "source": [
        "print(X_data_one_hot.shape)\n"
      ],
      "metadata": {
        "colab": {
          "base_uri": "https://localhost:8080/"
        },
        "id": "WZN5eXcT1t1n",
        "outputId": "d66763e3-e572-4bb7-89bd-a7427a948426"
      },
      "execution_count": null,
      "outputs": [
        {
          "output_type": "stream",
          "name": "stdout",
          "text": [
            "(426, 10, 33)\n"
          ]
        }
      ]
    },
    {
      "cell_type": "code",
      "source": [
        "from tensorflow.keras.models import Sequential\n",
        "from tensorflow.keras.layers import Dense, LSTM\n",
        "from tensorflow.keras.preprocessing.sequence import pad_sequences\n",
        "\n",
        "hidden_units = 64\n",
        "\n",
        "model = Sequential()\n",
        "model.add(LSTM(hidden_units, input_shape=(X_data_one_hot.shape[1], X_data_one_hot.shape[2]))) #은닉상태 64, input shape = (10,33)\n",
        "model.add(Dense(vocab_size, activation='softmax')) #소프트맥스 함수 사용, 출력층으로 문자 집합 크기만큼 뉴런 배치\n",
        "\n",
        "model.compile(loss='categorical_crossentropy', optimizer='adam', metrics=['accuracy']) #크로스 엔트로피 함수 사용\n",
        "model.fit(X_data_one_hot, y_data_one_hot, epochs=100, verbose=2)\n"
      ],
      "metadata": {
        "colab": {
          "base_uri": "https://localhost:8080/"
        },
        "id": "5saisq001t5A",
        "outputId": "b458f0a5-a24a-403f-d6ae-6715b9749a06"
      },
      "execution_count": null,
      "outputs": [
        {
          "output_type": "stream",
          "name": "stdout",
          "text": [
            "Epoch 1/100\n",
            "14/14 - 3s - loss: 3.4791 - accuracy: 0.0892 - 3s/epoch - 225ms/step\n",
            "Epoch 2/100\n",
            "14/14 - 0s - loss: 3.4068 - accuracy: 0.1972 - 111ms/epoch - 8ms/step\n",
            "Epoch 3/100\n",
            "14/14 - 0s - loss: 3.1959 - accuracy: 0.1972 - 111ms/epoch - 8ms/step\n",
            "Epoch 4/100\n",
            "14/14 - 0s - loss: 3.0076 - accuracy: 0.1972 - 122ms/epoch - 9ms/step\n",
            "Epoch 5/100\n",
            "14/14 - 0s - loss: 2.9615 - accuracy: 0.1972 - 112ms/epoch - 8ms/step\n",
            "Epoch 6/100\n",
            "14/14 - 0s - loss: 2.9341 - accuracy: 0.1972 - 104ms/epoch - 7ms/step\n",
            "Epoch 7/100\n",
            "14/14 - 0s - loss: 2.9124 - accuracy: 0.1972 - 104ms/epoch - 7ms/step\n",
            "Epoch 8/100\n",
            "14/14 - 0s - loss: 2.8979 - accuracy: 0.1972 - 106ms/epoch - 8ms/step\n",
            "Epoch 9/100\n",
            "14/14 - 0s - loss: 2.8751 - accuracy: 0.1972 - 115ms/epoch - 8ms/step\n",
            "Epoch 10/100\n",
            "14/14 - 0s - loss: 2.8436 - accuracy: 0.1972 - 109ms/epoch - 8ms/step\n",
            "Epoch 11/100\n",
            "14/14 - 0s - loss: 2.8154 - accuracy: 0.1995 - 109ms/epoch - 8ms/step\n",
            "Epoch 12/100\n",
            "14/14 - 0s - loss: 2.7779 - accuracy: 0.2066 - 114ms/epoch - 8ms/step\n",
            "Epoch 13/100\n",
            "14/14 - 0s - loss: 2.7475 - accuracy: 0.2160 - 122ms/epoch - 9ms/step\n",
            "Epoch 14/100\n",
            "14/14 - 0s - loss: 2.7170 - accuracy: 0.2113 - 110ms/epoch - 8ms/step\n",
            "Epoch 15/100\n",
            "14/14 - 0s - loss: 2.6718 - accuracy: 0.2418 - 115ms/epoch - 8ms/step\n",
            "Epoch 16/100\n",
            "14/14 - 0s - loss: 2.6238 - accuracy: 0.2371 - 104ms/epoch - 7ms/step\n",
            "Epoch 17/100\n",
            "14/14 - 0s - loss: 2.5667 - accuracy: 0.2606 - 112ms/epoch - 8ms/step\n",
            "Epoch 18/100\n",
            "14/14 - 0s - loss: 2.5252 - accuracy: 0.3028 - 107ms/epoch - 8ms/step\n",
            "Epoch 19/100\n",
            "14/14 - 0s - loss: 2.4916 - accuracy: 0.2746 - 111ms/epoch - 8ms/step\n",
            "Epoch 20/100\n",
            "14/14 - 0s - loss: 2.4569 - accuracy: 0.3146 - 117ms/epoch - 8ms/step\n",
            "Epoch 21/100\n",
            "14/14 - 0s - loss: 2.4075 - accuracy: 0.3099 - 109ms/epoch - 8ms/step\n",
            "Epoch 22/100\n",
            "14/14 - 0s - loss: 2.3627 - accuracy: 0.3239 - 113ms/epoch - 8ms/step\n",
            "Epoch 23/100\n",
            "14/14 - 0s - loss: 2.3368 - accuracy: 0.3052 - 104ms/epoch - 7ms/step\n",
            "Epoch 24/100\n",
            "14/14 - 0s - loss: 2.2900 - accuracy: 0.3028 - 108ms/epoch - 8ms/step\n",
            "Epoch 25/100\n",
            "14/14 - 0s - loss: 2.2462 - accuracy: 0.3498 - 104ms/epoch - 7ms/step\n",
            "Epoch 26/100\n",
            "14/14 - 0s - loss: 2.2023 - accuracy: 0.3498 - 108ms/epoch - 8ms/step\n",
            "Epoch 27/100\n",
            "14/14 - 0s - loss: 2.1736 - accuracy: 0.3568 - 119ms/epoch - 8ms/step\n",
            "Epoch 28/100\n",
            "14/14 - 0s - loss: 2.1463 - accuracy: 0.3685 - 112ms/epoch - 8ms/step\n",
            "Epoch 29/100\n",
            "14/14 - 0s - loss: 2.1142 - accuracy: 0.3897 - 113ms/epoch - 8ms/step\n",
            "Epoch 30/100\n",
            "14/14 - 0s - loss: 2.0599 - accuracy: 0.4225 - 121ms/epoch - 9ms/step\n",
            "Epoch 31/100\n",
            "14/14 - 0s - loss: 2.0589 - accuracy: 0.4249 - 108ms/epoch - 8ms/step\n",
            "Epoch 32/100\n",
            "14/14 - 0s - loss: 1.9613 - accuracy: 0.4484 - 106ms/epoch - 8ms/step\n",
            "Epoch 33/100\n",
            "14/14 - 0s - loss: 1.9465 - accuracy: 0.4390 - 104ms/epoch - 7ms/step\n",
            "Epoch 34/100\n",
            "14/14 - 0s - loss: 1.9346 - accuracy: 0.4742 - 111ms/epoch - 8ms/step\n",
            "Epoch 35/100\n",
            "14/14 - 0s - loss: 1.8744 - accuracy: 0.4906 - 104ms/epoch - 7ms/step\n",
            "Epoch 36/100\n",
            "14/14 - 0s - loss: 1.8200 - accuracy: 0.4671 - 103ms/epoch - 7ms/step\n",
            "Epoch 37/100\n",
            "14/14 - 0s - loss: 1.7839 - accuracy: 0.5047 - 109ms/epoch - 8ms/step\n",
            "Epoch 38/100\n",
            "14/14 - 0s - loss: 1.7673 - accuracy: 0.5211 - 104ms/epoch - 7ms/step\n",
            "Epoch 39/100\n",
            "14/14 - 0s - loss: 1.7201 - accuracy: 0.5282 - 106ms/epoch - 8ms/step\n",
            "Epoch 40/100\n",
            "14/14 - 0s - loss: 1.6881 - accuracy: 0.5493 - 114ms/epoch - 8ms/step\n",
            "Epoch 41/100\n",
            "14/14 - 0s - loss: 1.6404 - accuracy: 0.5446 - 118ms/epoch - 8ms/step\n",
            "Epoch 42/100\n",
            "14/14 - 0s - loss: 1.6096 - accuracy: 0.5610 - 100ms/epoch - 7ms/step\n",
            "Epoch 43/100\n",
            "14/14 - 0s - loss: 1.5791 - accuracy: 0.5704 - 104ms/epoch - 7ms/step\n",
            "Epoch 44/100\n",
            "14/14 - 0s - loss: 1.5284 - accuracy: 0.6080 - 111ms/epoch - 8ms/step\n",
            "Epoch 45/100\n",
            "14/14 - 0s - loss: 1.5088 - accuracy: 0.6127 - 105ms/epoch - 8ms/step\n",
            "Epoch 46/100\n",
            "14/14 - 0s - loss: 1.4641 - accuracy: 0.6291 - 100ms/epoch - 7ms/step\n",
            "Epoch 47/100\n",
            "14/14 - 0s - loss: 1.4318 - accuracy: 0.6455 - 117ms/epoch - 8ms/step\n",
            "Epoch 48/100\n",
            "14/14 - 0s - loss: 1.4019 - accuracy: 0.6455 - 109ms/epoch - 8ms/step\n",
            "Epoch 49/100\n",
            "14/14 - 0s - loss: 1.3602 - accuracy: 0.6761 - 117ms/epoch - 8ms/step\n",
            "Epoch 50/100\n",
            "14/14 - 0s - loss: 1.3249 - accuracy: 0.6901 - 110ms/epoch - 8ms/step\n",
            "Epoch 51/100\n",
            "14/14 - 0s - loss: 1.2896 - accuracy: 0.6995 - 111ms/epoch - 8ms/step\n",
            "Epoch 52/100\n",
            "14/14 - 0s - loss: 1.2639 - accuracy: 0.7042 - 107ms/epoch - 8ms/step\n",
            "Epoch 53/100\n",
            "14/14 - 0s - loss: 1.2309 - accuracy: 0.7136 - 102ms/epoch - 7ms/step\n",
            "Epoch 54/100\n",
            "14/14 - 0s - loss: 1.1911 - accuracy: 0.7254 - 122ms/epoch - 9ms/step\n",
            "Epoch 55/100\n",
            "14/14 - 0s - loss: 1.1766 - accuracy: 0.7277 - 110ms/epoch - 8ms/step\n",
            "Epoch 56/100\n",
            "14/14 - 0s - loss: 1.1448 - accuracy: 0.7254 - 116ms/epoch - 8ms/step\n",
            "Epoch 57/100\n",
            "14/14 - 0s - loss: 1.1225 - accuracy: 0.7465 - 127ms/epoch - 9ms/step\n",
            "Epoch 58/100\n",
            "14/14 - 0s - loss: 1.0973 - accuracy: 0.7371 - 106ms/epoch - 8ms/step\n",
            "Epoch 59/100\n",
            "14/14 - 0s - loss: 1.0513 - accuracy: 0.7535 - 109ms/epoch - 8ms/step\n",
            "Epoch 60/100\n",
            "14/14 - 0s - loss: 1.0132 - accuracy: 0.7629 - 111ms/epoch - 8ms/step\n",
            "Epoch 61/100\n",
            "14/14 - 0s - loss: 0.9880 - accuracy: 0.7653 - 105ms/epoch - 8ms/step\n",
            "Epoch 62/100\n",
            "14/14 - 0s - loss: 0.9723 - accuracy: 0.7746 - 101ms/epoch - 7ms/step\n",
            "Epoch 63/100\n",
            "14/14 - 0s - loss: 0.9465 - accuracy: 0.7887 - 108ms/epoch - 8ms/step\n",
            "Epoch 64/100\n",
            "14/14 - 0s - loss: 0.9132 - accuracy: 0.8146 - 108ms/epoch - 8ms/step\n",
            "Epoch 65/100\n",
            "14/14 - 0s - loss: 0.8988 - accuracy: 0.8028 - 107ms/epoch - 8ms/step\n",
            "Epoch 66/100\n",
            "14/14 - 0s - loss: 0.8664 - accuracy: 0.8122 - 105ms/epoch - 8ms/step\n",
            "Epoch 67/100\n",
            "14/14 - 0s - loss: 0.8357 - accuracy: 0.8380 - 116ms/epoch - 8ms/step\n",
            "Epoch 68/100\n",
            "14/14 - 0s - loss: 0.8247 - accuracy: 0.8286 - 103ms/epoch - 7ms/step\n",
            "Epoch 69/100\n",
            "14/14 - 0s - loss: 0.7968 - accuracy: 0.8286 - 106ms/epoch - 8ms/step\n",
            "Epoch 70/100\n",
            "14/14 - 0s - loss: 0.7656 - accuracy: 0.8545 - 108ms/epoch - 8ms/step\n",
            "Epoch 71/100\n",
            "14/14 - 0s - loss: 0.7399 - accuracy: 0.8568 - 103ms/epoch - 7ms/step\n",
            "Epoch 72/100\n",
            "14/14 - 0s - loss: 0.7253 - accuracy: 0.8498 - 106ms/epoch - 8ms/step\n",
            "Epoch 73/100\n",
            "14/14 - 0s - loss: 0.7001 - accuracy: 0.8545 - 103ms/epoch - 7ms/step\n",
            "Epoch 74/100\n",
            "14/14 - 0s - loss: 0.6833 - accuracy: 0.8662 - 113ms/epoch - 8ms/step\n",
            "Epoch 75/100\n",
            "14/14 - 0s - loss: 0.6661 - accuracy: 0.8615 - 113ms/epoch - 8ms/step\n",
            "Epoch 76/100\n",
            "14/14 - 0s - loss: 0.6505 - accuracy: 0.8732 - 117ms/epoch - 8ms/step\n",
            "Epoch 77/100\n",
            "14/14 - 0s - loss: 0.6193 - accuracy: 0.8944 - 118ms/epoch - 8ms/step\n",
            "Epoch 78/100\n",
            "14/14 - 0s - loss: 0.6138 - accuracy: 0.8873 - 106ms/epoch - 8ms/step\n",
            "Epoch 79/100\n",
            "14/14 - 0s - loss: 0.5885 - accuracy: 0.9108 - 114ms/epoch - 8ms/step\n",
            "Epoch 80/100\n",
            "14/14 - 0s - loss: 0.5747 - accuracy: 0.8944 - 156ms/epoch - 11ms/step\n",
            "Epoch 81/100\n",
            "14/14 - 0s - loss: 0.5544 - accuracy: 0.9108 - 157ms/epoch - 11ms/step\n",
            "Epoch 82/100\n",
            "14/14 - 0s - loss: 0.5383 - accuracy: 0.9178 - 166ms/epoch - 12ms/step\n",
            "Epoch 83/100\n",
            "14/14 - 0s - loss: 0.5239 - accuracy: 0.9131 - 162ms/epoch - 12ms/step\n",
            "Epoch 84/100\n",
            "14/14 - 0s - loss: 0.5078 - accuracy: 0.9272 - 149ms/epoch - 11ms/step\n",
            "Epoch 85/100\n",
            "14/14 - 0s - loss: 0.4889 - accuracy: 0.9272 - 157ms/epoch - 11ms/step\n",
            "Epoch 86/100\n",
            "14/14 - 0s - loss: 0.4776 - accuracy: 0.9366 - 150ms/epoch - 11ms/step\n",
            "Epoch 87/100\n",
            "14/14 - 0s - loss: 0.4629 - accuracy: 0.9390 - 151ms/epoch - 11ms/step\n",
            "Epoch 88/100\n",
            "14/14 - 0s - loss: 0.4407 - accuracy: 0.9390 - 158ms/epoch - 11ms/step\n",
            "Epoch 89/100\n",
            "14/14 - 0s - loss: 0.4316 - accuracy: 0.9390 - 147ms/epoch - 11ms/step\n",
            "Epoch 90/100\n",
            "14/14 - 0s - loss: 0.4140 - accuracy: 0.9437 - 150ms/epoch - 11ms/step\n",
            "Epoch 91/100\n",
            "14/14 - 0s - loss: 0.4052 - accuracy: 0.9507 - 151ms/epoch - 11ms/step\n",
            "Epoch 92/100\n",
            "14/14 - 0s - loss: 0.3979 - accuracy: 0.9531 - 148ms/epoch - 11ms/step\n",
            "Epoch 93/100\n",
            "14/14 - 0s - loss: 0.3810 - accuracy: 0.9531 - 158ms/epoch - 11ms/step\n",
            "Epoch 94/100\n",
            "14/14 - 0s - loss: 0.3759 - accuracy: 0.9601 - 158ms/epoch - 11ms/step\n",
            "Epoch 95/100\n",
            "14/14 - 0s - loss: 0.3655 - accuracy: 0.9507 - 167ms/epoch - 12ms/step\n",
            "Epoch 96/100\n",
            "14/14 - 0s - loss: 0.3492 - accuracy: 0.9601 - 156ms/epoch - 11ms/step\n",
            "Epoch 97/100\n",
            "14/14 - 0s - loss: 0.3438 - accuracy: 0.9554 - 174ms/epoch - 12ms/step\n",
            "Epoch 98/100\n",
            "14/14 - 0s - loss: 0.3418 - accuracy: 0.9531 - 168ms/epoch - 12ms/step\n",
            "Epoch 99/100\n",
            "14/14 - 0s - loss: 0.3285 - accuracy: 0.9601 - 158ms/epoch - 11ms/step\n",
            "Epoch 100/100\n",
            "14/14 - 0s - loss: 0.3126 - accuracy: 0.9695 - 157ms/epoch - 11ms/step\n"
          ]
        },
        {
          "output_type": "execute_result",
          "data": {
            "text/plain": [
              "<keras.src.callbacks.History at 0x7e6543e0af20>"
            ]
          },
          "metadata": {},
          "execution_count": 33
        }
      ]
    },
    {
      "cell_type": "code",
      "source": [
        "def sentence_generation(model, char_to_index, seq_length, seed_text, n):\n",
        "\n",
        "    # 초기 시퀀스\n",
        "    init_text = seed_text\n",
        "    sentence = ''\n",
        "\n",
        "    # 다음 문자 예측은 총 n번만 반복.\n",
        "    for _ in range(n):\n",
        "        encoded = [char_to_index[char] for char in seed_text] # 현재 시퀀스(아래 예시에서는 I get on w)에 대한 정수 인코딩\n",
        "        encoded = pad_sequences([encoded], maxlen=seq_length, padding='pre') # 데이터에 대한 패딩\n",
        "        encoded = to_categorical(encoded, num_classes=len(char_to_index))#원핫인코딩\n",
        "\n",
        "        # 입력한 X(현재 시퀀스)에 대해서 y를 예측하고 y(예측한 문자)를 result에 저장.\n",
        "        result = model.predict(encoded, verbose=0)\n",
        "        result = np.argmax(result, axis=1)\n",
        "\n",
        "        for char, index in char_to_index.items():\n",
        "            if index == result:\n",
        "                break\n",
        "\n",
        "        # 현재 시퀀스 + 예측 문자를 현재 시퀀스로 변경\n",
        "        seed_text = seed_text + char\n",
        "\n",
        "        # 예측 문자를 문장에 저장\n",
        "        sentence = sentence + char\n",
        "\n",
        "    # n번의 다음 문자 예측이 끝나면 최종 완성된 문장을 리턴.\n",
        "    sentence = init_text + sentence\n",
        "    return sentence\n"
      ],
      "metadata": {
        "id": "gvByNyKAJKR2"
      },
      "execution_count": null,
      "outputs": []
    },
    {
      "cell_type": "code",
      "source": [
        "print(sentence_generation(model, char_to_index, 10, 'I get on w', 80))\n"
      ],
      "metadata": {
        "colab": {
          "base_uri": "https://localhost:8080/"
        },
        "id": "iuF_oVKBJKUU",
        "outputId": "8418e77b-cd6d-49d9-f358-7525e38d0668"
      },
      "execution_count": null,
      "outputs": [
        {
          "output_type": "stream",
          "name": "stdout",
          "text": [
            "I get on with life as a programmer, I like to cange mlnd moeer. aBu hhe I laat bo ee.. But\n"
          ]
        }
      ]
    },
    {
      "cell_type": "code",
      "source": [],
      "metadata": {
        "id": "ws14E3v7JKXy"
      },
      "execution_count": null,
      "outputs": []
    }
  ]
}