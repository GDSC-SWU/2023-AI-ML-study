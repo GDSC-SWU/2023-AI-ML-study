{
  "nbformat": 4,
  "nbformat_minor": 0,
  "metadata": {
    "colab": {
      "provenance": []
    },
    "kernelspec": {
      "name": "python3",
      "display_name": "Python 3"
    },
    "language_info": {
      "name": "python"
    }
  },
  "cells": [
    {
      "cell_type": "markdown",
      "source": [
        "##순환 신경망"
      ],
      "metadata": {
        "id": "jBr2O96cEoBH"
      }
    },
    {
      "cell_type": "code",
      "execution_count": 3,
      "metadata": {
        "colab": {
          "base_uri": "https://localhost:8080/"
        },
        "id": "Y6HZmL81Ekmc",
        "outputId": "baa1f54e-8269-4ce1-89c0-3edc7722aa5d"
      },
      "outputs": [
        {
          "output_type": "stream",
          "name": "stdout",
          "text": [
            "Model: \"sequential\"\n",
            "_________________________________________________________________\n",
            " Layer (type)                Output Shape              Param #   \n",
            "=================================================================\n",
            " simple_rnn (SimpleRNN)      (None, 3)                 42        \n",
            "                                                                 \n",
            "=================================================================\n",
            "Total params: 42 (168.00 Byte)\n",
            "Trainable params: 42 (168.00 Byte)\n",
            "Non-trainable params: 0 (0.00 Byte)\n",
            "_________________________________________________________________\n"
          ]
        }
      ],
      "source": [
        "from tensorflow.keras.models import Sequential\n",
        "from tensorflow.keras.layers import SimpleRNN\n",
        "\n",
        "model = Sequential()\n",
        "model.add(SimpleRNN(3, input_shape=(2,10)))\n",
        "# model.add(SimpleRNN(3, input_length=2, input_dim=10))와 동일함.\n",
        "model.summary()"
      ]
    },
    {
      "cell_type": "code",
      "source": [
        "model = Sequential()\n",
        "model.add(SimpleRNN(3, batch_input_shape=(8,2,10))) #SimpleRNN 레이어 추가, (배치크기, 시퀀스 길이, 입력차원)\n",
        "model.summary()"
      ],
      "metadata": {
        "colab": {
          "base_uri": "https://localhost:8080/"
        },
        "id": "PBBc7XkLE06D",
        "outputId": "e3bcaca0-b746-4969-bc67-8ccf29350654"
      },
      "execution_count": 4,
      "outputs": [
        {
          "output_type": "stream",
          "name": "stdout",
          "text": [
            "Model: \"sequential_1\"\n",
            "_________________________________________________________________\n",
            " Layer (type)                Output Shape              Param #   \n",
            "=================================================================\n",
            " simple_rnn_1 (SimpleRNN)    (8, 3)                    42        \n",
            "                                                                 \n",
            "=================================================================\n",
            "Total params: 42 (168.00 Byte)\n",
            "Trainable params: 42 (168.00 Byte)\n",
            "Non-trainable params: 0 (0.00 Byte)\n",
            "_________________________________________________________________\n"
          ]
        }
      ]
    },
    {
      "cell_type": "code",
      "source": [
        "model = Sequential()\n",
        "model.add(SimpleRNN(3, batch_input_shape=(8,2,10), return_sequences=True)) #return_sequences=True -> 시퀀스 출력을 반환\n",
        "model.summary()"
      ],
      "metadata": {
        "colab": {
          "base_uri": "https://localhost:8080/"
        },
        "id": "tmFPJOoyE2bu",
        "outputId": "ca646398-9e28-4f59-dd7a-39bb6e827683"
      },
      "execution_count": 5,
      "outputs": [
        {
          "output_type": "stream",
          "name": "stdout",
          "text": [
            "Model: \"sequential_2\"\n",
            "_________________________________________________________________\n",
            " Layer (type)                Output Shape              Param #   \n",
            "=================================================================\n",
            " simple_rnn_2 (SimpleRNN)    (8, 2, 3)                 42        \n",
            "                                                                 \n",
            "=================================================================\n",
            "Total params: 42 (168.00 Byte)\n",
            "Trainable params: 42 (168.00 Byte)\n",
            "Non-trainable params: 0 (0.00 Byte)\n",
            "_________________________________________________________________\n"
          ]
        }
      ]
    },
    {
      "cell_type": "code",
      "source": [
        "import numpy as np\n",
        "\n",
        "timesteps = 10\n",
        "input_dim = 4\n",
        "hidden_units = 8\n",
        "\n",
        "# 입력에 해당되는 2D 텐서\n",
        "inputs = np.random.random((timesteps, input_dim))\n",
        "\n",
        "# 초기 은닉 상태는 0(벡터)로 초기화\n",
        "hidden_state_t = np.zeros((hidden_units,))\n",
        "\n",
        "print('초기 은닉 상태 :',hidden_state_t)"
      ],
      "metadata": {
        "colab": {
          "base_uri": "https://localhost:8080/"
        },
        "id": "1Is2T_TYF65Z",
        "outputId": "874c9189-bfa4-4951-e863-8a43bb936ad1"
      },
      "execution_count": 6,
      "outputs": [
        {
          "output_type": "stream",
          "name": "stdout",
          "text": [
            "초기 은닉 상태 : [0. 0. 0. 0. 0. 0. 0. 0.]\n"
          ]
        }
      ]
    },
    {
      "cell_type": "code",
      "source": [
        "Wx = np.random.random((hidden_units, input_dim))  # (8, 4)크기의 2D 텐서 생성. 입력에 대한 가중치.\n",
        "Wh = np.random.random((hidden_units, hidden_units)) # (8, 8)크기의 2D 텐서 생성. 은닉 상태에 대한 가중치.\n",
        "b = np.random.random((hidden_units,)) # (8,)크기의 1D 텐서 생성. 이 값은 편향(bias).\n",
        "\n",
        "print('가중치 Wx의 크기(shape) :',np.shape(Wx))\n",
        "print('가중치 Wh의 크기(shape) :',np.shape(Wh))\n",
        "print('편향의 크기(shape) :',np.shape(b))"
      ],
      "metadata": {
        "colab": {
          "base_uri": "https://localhost:8080/"
        },
        "id": "c8U4F29FF-Yo",
        "outputId": "b199b4b2-e4da-4ce8-ca7f-718032a404eb"
      },
      "execution_count": 8,
      "outputs": [
        {
          "output_type": "stream",
          "name": "stdout",
          "text": [
            "가중치 Wx의 크기(shape) : (8, 4)\n",
            "가중치 Wh의 크기(shape) : (8, 8)\n",
            "편향의 크기(shape) : (8,)\n"
          ]
        }
      ]
    },
    {
      "cell_type": "code",
      "source": [
        "total_hidden_states = []\n",
        "\n",
        "# 각 시점 별 입력값.\n",
        "for input_t in inputs:\n",
        "\n",
        "  # Wx * Xt + Wh * Ht-1 + b(bias)\n",
        "  output_t = np.tanh(np.dot(Wx,input_t) + np.dot(Wh,hidden_state_t) + b)\n",
        "\n",
        "  # 각 시점 t별 메모리 셀의 출력의 크기는 (timestep t, output_dim)\n",
        "  # 각 시점의 은닉 상태의 값을 계속해서 누적\n",
        "  total_hidden_states.append(list(output_t))\n",
        "  hidden_state_t = output_t\n",
        "\n",
        "# 출력 시 값을 깔끔하게 해주는 용도.\n",
        "total_hidden_states = np.stack(total_hidden_states, axis = 0)\n",
        "\n",
        "# (timesteps, output_dim)\n",
        "print('모든 시점의 은닉 상태 :')\n",
        "print(total_hidden_states)"
      ],
      "metadata": {
        "colab": {
          "base_uri": "https://localhost:8080/"
        },
        "id": "caSkxJo2F_tX",
        "outputId": "2a3d6f58-b435-4482-847f-f2e42de25b11"
      },
      "execution_count": 9,
      "outputs": [
        {
          "output_type": "stream",
          "name": "stdout",
          "text": [
            "모든 시점의 은닉 상태 :\n",
            "[[0.84137621 0.92039716 0.6704736  0.82880789 0.91614389 0.95756433\n",
            "  0.95786772 0.88417559]\n",
            " [0.99992445 0.99995153 0.99956429 0.99860484 0.99998824 0.999504\n",
            "  0.9989157  0.99962945]\n",
            " [0.99996844 0.99998957 0.99978976 0.99973833 0.9999982  0.99992152\n",
            "  0.99971159 0.99992391]\n",
            " [0.99996791 0.99998308 0.9998124  0.99949769 0.99999596 0.99991225\n",
            "  0.99944001 0.99992912]\n",
            " [0.99996258 0.99998478 0.99969886 0.99952511 0.99999755 0.99985206\n",
            "  0.99948577 0.99985625]\n",
            " [0.99988113 0.99994089 0.99957453 0.99806741 0.99999165 0.99935675\n",
            "  0.9984333  0.99945693]\n",
            " [0.99990099 0.9999682  0.99970818 0.99947906 0.99999516 0.9998888\n",
            "  0.99944531 0.99989313]\n",
            " [0.99992623 0.99998367 0.99990197 0.99979201 0.9999969  0.99994515\n",
            "  0.99982472 0.99995587]\n",
            " [0.99995145 0.99998683 0.99989635 0.99978144 0.99999726 0.99994503\n",
            "  0.99980219 0.99995595]\n",
            " [0.99995697 0.99998534 0.99992808 0.99958345 0.99999655 0.99982736\n",
            "  0.99974417 0.99989173]]\n"
          ]
        }
      ]
    },
    {
      "cell_type": "code",
      "source": [
        "#은닉층 2개 추가\n",
        "model = Sequential()\n",
        "model.add(SimpleRNN(hidden_units, input_length=10, input_dim=5, return_sequences=True))\n",
        "model.add(SimpleRNN(hidden_units, return_sequences=True))"
      ],
      "metadata": {
        "id": "e5tWOPUxGD-i"
      },
      "execution_count": 10,
      "outputs": []
    },
    {
      "cell_type": "code",
      "source": [
        "#양반향 RNN\n",
        "from tensorflow.keras.layers import Bidirectional\n",
        "\n",
        "timesteps = 10\n",
        "input_dim = 5\n",
        "\n",
        "model = Sequential()\n",
        "model.add(Bidirectional(SimpleRNN(hidden_units, return_sequences=True), input_shape=(timesteps, input_dim)))"
      ],
      "metadata": {
        "id": "c7JPr6ySGLaU"
      },
      "execution_count": 11,
      "outputs": []
    },
    {
      "cell_type": "code",
      "source": [
        "model = Sequential()\n",
        "model.add(Bidirectional(SimpleRNN(hidden_units, return_sequences=True), input_shape=(timesteps, input_dim)))\n",
        "model.add(Bidirectional(SimpleRNN(hidden_units, return_sequences=True)))\n",
        "model.add(Bidirectional(SimpleRNN(hidden_units, return_sequences=True)))\n",
        "model.add(Bidirectional(SimpleRNN(hidden_units, return_sequences=True)))"
      ],
      "metadata": {
        "id": "53pP4UqOGOto"
      },
      "execution_count": 12,
      "outputs": []
    },
    {
      "cell_type": "markdown",
      "source": [
        "##케라스의 SimpleRNN과 LSRM 이해하기"
      ],
      "metadata": {
        "id": "mSEKeIh5Gh8X"
      }
    },
    {
      "cell_type": "code",
      "source": [
        "import numpy as np\n",
        "import tensorflow as tf\n",
        "from tensorflow.keras.layers import SimpleRNN, LSTM, Bidirectional"
      ],
      "metadata": {
        "id": "ZcdstA8AGR-7"
      },
      "execution_count": 14,
      "outputs": []
    },
    {
      "cell_type": "code",
      "source": [
        "train_X = [[0.1, 4.2, 1.5, 1.1, 2.8], [1.0, 3.1, 2.5, 0.7, 1.1], [0.3, 2.1, 1.5, 2.1, 0.1], [2.2, 1.4, 0.5, 0.9, 1.1]]\n",
        "print(np.shape(train_X))"
      ],
      "metadata": {
        "colab": {
          "base_uri": "https://localhost:8080/"
        },
        "id": "ReoC5VxZGej-",
        "outputId": "464b30aa-3501-4d65-d3b3-e307eea230e9"
      },
      "execution_count": 15,
      "outputs": [
        {
          "output_type": "stream",
          "name": "stdout",
          "text": [
            "(4, 5)\n"
          ]
        }
      ]
    },
    {
      "cell_type": "code",
      "source": [
        "#2D텐서를 3D텐서로 변경\n",
        "train_X = [[[0.1, 4.2, 1.5, 1.1, 2.8], [1.0, 3.1, 2.5, 0.7, 1.1], [0.3, 2.1, 1.5, 2.1, 0.1], [2.2, 1.4, 0.5, 0.9, 1.1]]]\n",
        "train_X = np.array(train_X, dtype=np.float32)\n",
        "print(train_X.shape)"
      ],
      "metadata": {
        "colab": {
          "base_uri": "https://localhost:8080/"
        },
        "id": "YLUPY0b7IBAJ",
        "outputId": "2ce07fa9-be55-43d6-be55-d26c23a00346"
      },
      "execution_count": 16,
      "outputs": [
        {
          "output_type": "stream",
          "name": "stdout",
          "text": [
            "(1, 4, 5)\n"
          ]
        }
      ]
    },
    {
      "cell_type": "code",
      "source": [
        "rnn = SimpleRNN(3)\n",
        "# rnn = SimpleRNN(3, return_sequences=False, return_state=False)와 동일.\n",
        "hidden_state = rnn(train_X)\n",
        "\n",
        "print('hidden state : {}, shape: {}'.format(hidden_state, hidden_state.shape))"
      ],
      "metadata": {
        "colab": {
          "base_uri": "https://localhost:8080/"
        },
        "id": "TJ2VBdAhIIIs",
        "outputId": "1d758424-c216-488a-f29d-e004770c166a"
      },
      "execution_count": 17,
      "outputs": [
        {
          "output_type": "stream",
          "name": "stdout",
          "text": [
            "hidden state : [[-0.9969584   0.98132724  0.55730885]], shape: (1, 3)\n"
          ]
        }
      ]
    },
    {
      "cell_type": "code",
      "source": [
        "rnn = SimpleRNN(3, return_sequences=True) #모든 시점의 은닉 상태 출력\n",
        "hidden_states = rnn(train_X)\n",
        "\n",
        "print('hidden states : {}, shape: {}'.format(hidden_states, hidden_states.shape))"
      ],
      "metadata": {
        "colab": {
          "base_uri": "https://localhost:8080/"
        },
        "id": "C6fNVWy1IJ01",
        "outputId": "51a53a26-57e5-45b2-abbc-d09144dbfd6e"
      },
      "execution_count": 18,
      "outputs": [
        {
          "output_type": "stream",
          "name": "stdout",
          "text": [
            "hidden states : [[[ 0.83902794  0.2751977  -0.9870756 ]\n",
            "  [ 0.8905617   0.9229193  -0.9931775 ]\n",
            "  [ 0.9211943   0.9913361  -0.9903205 ]\n",
            "  [ 0.7685736   0.78871787 -0.9536722 ]]], shape: (1, 4, 3)\n"
          ]
        }
      ]
    },
    {
      "cell_type": "code",
      "source": [
        "rnn = SimpleRNN(3, return_sequences=True, return_state=True) #return_state를 True로 할 경우 SimpleRNN은 두 개의 출력\n",
        "hidden_states, last_state = rnn(train_X)\n",
        "\n",
        "print('hidden states : {}, shape: {}'.format(hidden_states, hidden_states.shape))\n",
        "print('last hidden state : {}, shape: {}'.format(last_state, last_state.shape))"
      ],
      "metadata": {
        "colab": {
          "base_uri": "https://localhost:8080/"
        },
        "id": "ZMZL2Lc6ITlu",
        "outputId": "254466b9-a223-4778-ba53-5cbdd39fa3ae"
      },
      "execution_count": 19,
      "outputs": [
        {
          "output_type": "stream",
          "name": "stdout",
          "text": [
            "hidden states : [[[-0.9972919  -0.8247153   0.43706512]\n",
            "  [-0.92745614 -0.99961215  0.9616631 ]\n",
            "  [-0.87544924 -0.9974676   0.8555684 ]\n",
            "  [-0.99275017 -0.99424314  0.3767855 ]]], shape: (1, 4, 3)\n",
            "last hidden state : [[-0.99275017 -0.99424314  0.3767855 ]], shape: (1, 3)\n"
          ]
        }
      ]
    },
    {
      "cell_type": "code",
      "source": [
        "rnn = SimpleRNN(3, return_sequences=False, return_state=True) #두 개의 출력 모두 마지막 시점의 은닉 상태를 출력\n",
        "hidden_state, last_state = rnn(train_X)\n",
        "\n",
        "print('hidden state : {}, shape: {}'.format(hidden_state, hidden_state.shape))\n",
        "print('last hidden state : {}, shape: {}'.format(last_state, last_state.shape))"
      ],
      "metadata": {
        "colab": {
          "base_uri": "https://localhost:8080/"
        },
        "id": "pFYg74h5IYA4",
        "outputId": "4c6f4ad4-598c-48c2-c85e-9ff50e5a0679"
      },
      "execution_count": 20,
      "outputs": [
        {
          "output_type": "stream",
          "name": "stdout",
          "text": [
            "hidden state : [[0.9761327  0.88203526 0.98799384]], shape: (1, 3)\n",
            "last hidden state : [[0.9761327  0.88203526 0.98799384]], shape: (1, 3)\n"
          ]
        }
      ]
    },
    {
      "cell_type": "code",
      "source": [
        "lstm = LSTM(3, return_sequences=False, return_state=True) #return_state를 True로 둔 경우에는 마지막 시점의 은닉 상태뿐만 아니라 셀 상태까지 반환\n",
        "hidden_state, last_state, last_cell_state = lstm(train_X)\n",
        "\n",
        "print('hidden state : {}, shape: {}'.format(hidden_state, hidden_state.shape))\n",
        "print('last hidden state : {}, shape: {}'.format(last_state, last_state.shape))\n",
        "print('last cell state : {}, shape: {}'.format(last_cell_state, last_cell_state.shape))"
      ],
      "metadata": {
        "colab": {
          "base_uri": "https://localhost:8080/"
        },
        "id": "x8V67R9gIbBF",
        "outputId": "b1a1a8d1-ef2c-425e-d318-49aa649c9de9"
      },
      "execution_count": 21,
      "outputs": [
        {
          "output_type": "stream",
          "name": "stdout",
          "text": [
            "hidden state : [[-3.8920760e-01 -3.7418926e-04 -2.3949896e-01]], shape: (1, 3)\n",
            "last hidden state : [[-3.8920760e-01 -3.7418926e-04 -2.3949896e-01]], shape: (1, 3)\n",
            "last cell state : [[-0.91786635 -0.00145556 -0.67561257]], shape: (1, 3)\n"
          ]
        }
      ]
    },
    {
      "cell_type": "code",
      "source": [
        "lstm = LSTM(3, return_sequences=True, return_state=True) #return_sequences가 True이므로 첫번째 출력값은 모든 시점의 은닉 상태가 출력\n",
        "hidden_states, last_hidden_state, last_cell_state = lstm(train_X)\n",
        "\n",
        "print('hidden states : {}, shape: {}'.format(hidden_states, hidden_states.shape))\n",
        "print('last hidden state : {}, shape: {}'.format(last_hidden_state, last_hidden_state.shape))\n",
        "print('last cell state : {}, shape: {}'.format(last_cell_state, last_cell_state.shape))"
      ],
      "metadata": {
        "colab": {
          "base_uri": "https://localhost:8080/"
        },
        "id": "nb1-e0M2Ify-",
        "outputId": "1af252af-55e4-4634-878e-fd6afabb1569"
      },
      "execution_count": 22,
      "outputs": [
        {
          "output_type": "stream",
          "name": "stdout",
          "text": [
            "hidden states : [[[-0.06044798  0.09671532 -0.27161092]\n",
            "  [-0.07340457  0.05652544 -0.30820277]\n",
            "  [ 0.05293592  0.16645099 -0.11712281]\n",
            "  [-0.07672986  0.23486783 -0.04207176]]], shape: (1, 4, 3)\n",
            "last hidden state : [[-0.07672986  0.23486783 -0.04207176]], shape: (1, 3)\n",
            "last cell state : [[-0.20738399  0.86842525 -0.0585487 ]], shape: (1, 3)\n"
          ]
        }
      ]
    },
    {
      "cell_type": "code",
      "source": [
        "k_init = tf.keras.initializers.Constant(value=0.1)\n",
        "b_init = tf.keras.initializers.Constant(value=0)\n",
        "r_init = tf.keras.initializers.Constant(value=0.1)"
      ],
      "metadata": {
        "id": "FfQesz4SIkde"
      },
      "execution_count": 23,
      "outputs": []
    },
    {
      "cell_type": "code",
      "source": [
        "bilstm = Bidirectional(LSTM(3, return_sequences=False, return_state=True, \\\n",
        "                            kernel_initializer=k_init, bias_initializer=b_init, recurrent_initializer=r_init))\n",
        "hidden_states, forward_h, forward_c, backward_h, backward_c = bilstm(train_X)\n",
        "#return_state가 True인 경우에는 정방향 LSTM의 은닉 상태와 셀 상태, 역방향 LSTM의 은닉 상태와 셀 상태 4가지를 반환\n",
        "\n",
        "print('hidden states : {}, shape: {}'.format(hidden_states, hidden_states.shape))\n",
        "print('forward state : {}, shape: {}'.format(forward_h, forward_h.shape))\n",
        "print('backward state : {}, shape: {}'.format(backward_h, backward_h.shape))"
      ],
      "metadata": {
        "colab": {
          "base_uri": "https://localhost:8080/"
        },
        "id": "RC8SbXGbIm0f",
        "outputId": "c6620b83-7336-40b1-88a4-e4f297502811"
      },
      "execution_count": 24,
      "outputs": [
        {
          "output_type": "stream",
          "name": "stdout",
          "text": [
            "hidden states : [[0.6303138 0.6303138 0.6303138 0.7038734 0.7038734 0.7038734]], shape: (1, 6)\n",
            "forward state : [[0.6303138 0.6303138 0.6303138]], shape: (1, 3)\n",
            "backward state : [[0.7038734 0.7038734 0.7038734]], shape: (1, 3)\n"
          ]
        }
      ]
    },
    {
      "cell_type": "code",
      "source": [
        "bilstm = Bidirectional(LSTM(3, return_sequences=True, return_state=True, \\\n",
        "                            kernel_initializer=k_init, bias_initializer=b_init, recurrent_initializer=r_init))\n",
        "hidden_states, forward_h, forward_c, backward_h, backward_c = bilstm(train_X)"
      ],
      "metadata": {
        "id": "2Dc9KEdNIsdZ"
      },
      "execution_count": 25,
      "outputs": []
    },
    {
      "cell_type": "code",
      "source": [
        "print('hidden states : {}, shape: {}'.format(hidden_states, hidden_states.shape))\n",
        "print('forward state : {}, shape: {}'.format(forward_h, forward_h.shape))\n",
        "print('backward state : {}, shape: {}'.format(backward_h, backward_h.shape))"
      ],
      "metadata": {
        "colab": {
          "base_uri": "https://localhost:8080/"
        },
        "id": "wKuhSIdhIuLC",
        "outputId": "081f0f0d-c7e9-4f9a-c930-838547cb3f23"
      },
      "execution_count": 26,
      "outputs": [
        {
          "output_type": "stream",
          "name": "stdout",
          "text": [
            "hidden states : [[[0.35906473 0.35906473 0.35906473 0.7038734  0.7038734  0.7038734 ]\n",
            "  [0.55111325 0.55111325 0.55111325 0.58863586 0.58863586 0.58863586]\n",
            "  [0.59115744 0.59115744 0.59115744 0.3951699  0.3951699  0.3951699 ]\n",
            "  [0.6303138  0.6303138  0.6303138  0.21942244 0.21942244 0.21942244]]], shape: (1, 4, 6)\n",
            "forward state : [[0.6303138 0.6303138 0.6303138]], shape: (1, 3)\n",
            "backward state : [[0.7038734 0.7038734 0.7038734]], shape: (1, 3)\n"
          ]
        }
      ]
    },
    {
      "cell_type": "markdown",
      "source": [
        "##RNN을 이용한 텍스트 생성"
      ],
      "metadata": {
        "id": "2ssuRBpgIzNz"
      }
    },
    {
      "cell_type": "code",
      "source": [
        "import numpy as np\n",
        "from tensorflow.keras.preprocessing.text import Tokenizer\n",
        "from tensorflow.keras.preprocessing.sequence import pad_sequences\n",
        "from tensorflow.keras.utils import to_categorical"
      ],
      "metadata": {
        "id": "xcLObv7wIvVH"
      },
      "execution_count": 27,
      "outputs": []
    },
    {
      "cell_type": "code",
      "source": [
        "text = \"\"\"경마장에 있는 말이 뛰고 있다\\n\n",
        "그의 말이 법이다\\n\n",
        "가는 말이 고와야 오는 말이 곱다\\n\"\"\""
      ],
      "metadata": {
        "id": "KWoulmNmI3n3"
      },
      "execution_count": 28,
      "outputs": []
    },
    {
      "cell_type": "code",
      "source": [
        "tokenizer = Tokenizer()\n",
        "tokenizer.fit_on_texts([text]) #tokenizer 사용해 텍스트 데이터 학습\n",
        "vocab_size = len(tokenizer.word_index) + 1 #단어와 그에 대한 인덱스를 매핑한 딕셔너리\n",
        "print('단어 집합의 크기 : %d' % vocab_size)"
      ],
      "metadata": {
        "colab": {
          "base_uri": "https://localhost:8080/"
        },
        "id": "Wpygbv5OI4kv",
        "outputId": "c0ffe233-ee92-4048-b571-f677eada3d79"
      },
      "execution_count": 29,
      "outputs": [
        {
          "output_type": "stream",
          "name": "stdout",
          "text": [
            "단어 집합의 크기 : 12\n"
          ]
        }
      ]
    },
    {
      "cell_type": "code",
      "source": [
        "print(tokenizer.word_index)"
      ],
      "metadata": {
        "colab": {
          "base_uri": "https://localhost:8080/"
        },
        "id": "UQKNq5GQJFJr",
        "outputId": "7ff51b42-e614-4afe-f174-9bf0e2df64d2"
      },
      "execution_count": 30,
      "outputs": [
        {
          "output_type": "stream",
          "name": "stdout",
          "text": [
            "{'말이': 1, '경마장에': 2, '있는': 3, '뛰고': 4, '있다': 5, '그의': 6, '법이다': 7, '가는': 8, '고와야': 9, '오는': 10, '곱다': 11}\n"
          ]
        }
      ]
    },
    {
      "cell_type": "code",
      "source": [
        "sequences = list()\n",
        "for line in text.split('\\n'): # 줄바꿈 문자를 기준으로 문장 토큰화\n",
        "    encoded = tokenizer.texts_to_sequences([line])[0]\n",
        "    for i in range(1, len(encoded)): #생성된 단어 시퀀스에 단어 하나씩 추가해 시퀀스 만들기\n",
        "        sequence = encoded[:i+1]\n",
        "        sequences.append(sequence)\n",
        "\n",
        "print('학습에 사용할 샘플의 개수: %d' % len(sequences))"
      ],
      "metadata": {
        "colab": {
          "base_uri": "https://localhost:8080/"
        },
        "id": "zUUz7ZkpJHnd",
        "outputId": "093e7df3-f3d7-4316-b5b0-8500129faa0a"
      },
      "execution_count": 31,
      "outputs": [
        {
          "output_type": "stream",
          "name": "stdout",
          "text": [
            "학습에 사용할 샘플의 개수: 11\n"
          ]
        }
      ]
    },
    {
      "cell_type": "code",
      "source": [
        "print(sequences)"
      ],
      "metadata": {
        "colab": {
          "base_uri": "https://localhost:8080/"
        },
        "id": "kB3E2YJXJvyF",
        "outputId": "5dccf3f3-7e56-4cd8-968e-a17c5274a9b4"
      },
      "execution_count": 32,
      "outputs": [
        {
          "output_type": "stream",
          "name": "stdout",
          "text": [
            "[[2, 3], [2, 3, 1], [2, 3, 1, 4], [2, 3, 1, 4, 5], [6, 1], [6, 1, 7], [8, 1], [8, 1, 9], [8, 1, 9, 10], [8, 1, 9, 10, 1], [8, 1, 9, 10, 1, 11]]\n"
          ]
        }
      ]
    },
    {
      "cell_type": "code",
      "source": [
        "max_len = max(len(l) for l in sequences) # 모든 샘플에서 길이가 가장 긴 샘플의 길이 출력\n",
        "print('샘플의 최대 길이 : {}'.format(max_len))"
      ],
      "metadata": {
        "colab": {
          "base_uri": "https://localhost:8080/"
        },
        "id": "ZRIH3l7rJxV4",
        "outputId": "c4d68d61-1f39-42f3-e90b-15609eeed4c7"
      },
      "execution_count": 33,
      "outputs": [
        {
          "output_type": "stream",
          "name": "stdout",
          "text": [
            "샘플의 최대 길이 : 6\n"
          ]
        }
      ]
    },
    {
      "cell_type": "code",
      "source": [
        "sequences = pad_sequences(sequences, maxlen=max_len, padding='pre')\n",
        "#pad_sequences(): 모든 샘플에 대해서 0을 사용하여 길이를 맞춰줌\n",
        "#maxlen: 모든 샘플의 길이 6으로 맞추기\n",
        "#padding: 6보다 짧은 샘플의 앞에 0으로 채우기"
      ],
      "metadata": {
        "id": "k2NXjbCCJyXg"
      },
      "execution_count": 36,
      "outputs": []
    },
    {
      "cell_type": "code",
      "source": [
        "print(sequences)"
      ],
      "metadata": {
        "colab": {
          "base_uri": "https://localhost:8080/"
        },
        "id": "JWGUzn-JJ7TB",
        "outputId": "31fcd614-26c2-413e-e44a-c5c1676980a6"
      },
      "execution_count": 37,
      "outputs": [
        {
          "output_type": "stream",
          "name": "stdout",
          "text": [
            "[[ 0  0  0  0  2  3]\n",
            " [ 0  0  0  2  3  1]\n",
            " [ 0  0  2  3  1  4]\n",
            " [ 0  2  3  1  4  5]\n",
            " [ 0  0  0  0  6  1]\n",
            " [ 0  0  0  6  1  7]\n",
            " [ 0  0  0  0  8  1]\n",
            " [ 0  0  0  8  1  9]\n",
            " [ 0  0  8  1  9 10]\n",
            " [ 0  8  1  9 10  1]\n",
            " [ 8  1  9 10  1 11]]\n"
          ]
        }
      ]
    },
    {
      "cell_type": "code",
      "source": [
        "sequences = np.array(sequences)\n",
        "X = sequences[:,:-1]\n",
        "y = sequences[:,-1]"
      ],
      "metadata": {
        "id": "tr_S79BrJ8bQ"
      },
      "execution_count": 38,
      "outputs": []
    },
    {
      "cell_type": "code",
      "source": [
        "print(X)"
      ],
      "metadata": {
        "colab": {
          "base_uri": "https://localhost:8080/"
        },
        "id": "vuIQ0knlKGBk",
        "outputId": "68a3f17c-5259-41e2-ca25-70211c3ea4d5"
      },
      "execution_count": 39,
      "outputs": [
        {
          "output_type": "stream",
          "name": "stdout",
          "text": [
            "[[ 0  0  0  0  2]\n",
            " [ 0  0  0  2  3]\n",
            " [ 0  0  2  3  1]\n",
            " [ 0  2  3  1  4]\n",
            " [ 0  0  0  0  6]\n",
            " [ 0  0  0  6  1]\n",
            " [ 0  0  0  0  8]\n",
            " [ 0  0  0  8  1]\n",
            " [ 0  0  8  1  9]\n",
            " [ 0  8  1  9 10]\n",
            " [ 8  1  9 10  1]]\n"
          ]
        }
      ]
    },
    {
      "cell_type": "code",
      "source": [
        "print(y)"
      ],
      "metadata": {
        "colab": {
          "base_uri": "https://localhost:8080/"
        },
        "id": "gl9EAeqZKHyZ",
        "outputId": "67c3c1b0-337d-4714-c6c1-702c4c3d2560"
      },
      "execution_count": 40,
      "outputs": [
        {
          "output_type": "stream",
          "name": "stdout",
          "text": [
            "[ 3  1  4  5  1  7  1  9 10  1 11]\n"
          ]
        }
      ]
    },
    {
      "cell_type": "code",
      "source": [
        "y = to_categorical(y, num_classes=vocab_size)\n",
        "print(y)"
      ],
      "metadata": {
        "colab": {
          "base_uri": "https://localhost:8080/"
        },
        "id": "dedPThh6KI1M",
        "outputId": "113a3d7e-97a1-4369-f7b0-a75e7eb5fba4"
      },
      "execution_count": 41,
      "outputs": [
        {
          "output_type": "stream",
          "name": "stdout",
          "text": [
            "[[0. 0. 0. 1. 0. 0. 0. 0. 0. 0. 0. 0.]\n",
            " [0. 1. 0. 0. 0. 0. 0. 0. 0. 0. 0. 0.]\n",
            " [0. 0. 0. 0. 1. 0. 0. 0. 0. 0. 0. 0.]\n",
            " [0. 0. 0. 0. 0. 1. 0. 0. 0. 0. 0. 0.]\n",
            " [0. 1. 0. 0. 0. 0. 0. 0. 0. 0. 0. 0.]\n",
            " [0. 0. 0. 0. 0. 0. 0. 1. 0. 0. 0. 0.]\n",
            " [0. 1. 0. 0. 0. 0. 0. 0. 0. 0. 0. 0.]\n",
            " [0. 0. 0. 0. 0. 0. 0. 0. 0. 1. 0. 0.]\n",
            " [0. 0. 0. 0. 0. 0. 0. 0. 0. 0. 1. 0.]\n",
            " [0. 1. 0. 0. 0. 0. 0. 0. 0. 0. 0. 0.]\n",
            " [0. 0. 0. 0. 0. 0. 0. 0. 0. 0. 0. 1.]]\n"
          ]
        }
      ]
    },
    {
      "cell_type": "code",
      "source": [
        "from tensorflow.keras.models import Sequential\n",
        "from tensorflow.keras.layers import Embedding, Dense, SimpleRNN"
      ],
      "metadata": {
        "id": "vxHCXEdaKK-4"
      },
      "execution_count": 42,
      "outputs": []
    },
    {
      "cell_type": "code",
      "source": [
        "embedding_dim = 10\n",
        "hidden_units = 32\n",
        "\n",
        "model = Sequential()\n",
        "model.add(Embedding(vocab_size, embedding_dim)) #Embedding 레이어 추가\n",
        "model.add(SimpleRNN(hidden_units)) #SimpleRNN 레이어 추가\n",
        "model.add(Dense(vocab_size, activation='softmax')) #출력 레이어 추가\n",
        "model.compile(loss='categorical_crossentropy', optimizer='adam', metrics=['accuracy'])\n",
        "model.fit(X, y, epochs=200, verbose=2)"
      ],
      "metadata": {
        "colab": {
          "base_uri": "https://localhost:8080/"
        },
        "id": "384Pn_i2KNBu",
        "outputId": "e35b2280-0fc7-4a16-b0fc-da7f1f981094"
      },
      "execution_count": 43,
      "outputs": [
        {
          "output_type": "stream",
          "name": "stdout",
          "text": [
            "Epoch 1/200\n",
            "1/1 - 2s - loss: 2.4808 - accuracy: 0.1818 - 2s/epoch - 2s/step\n",
            "Epoch 2/200\n",
            "1/1 - 0s - loss: 2.4662 - accuracy: 0.2727 - 14ms/epoch - 14ms/step\n",
            "Epoch 3/200\n",
            "1/1 - 0s - loss: 2.4516 - accuracy: 0.2727 - 15ms/epoch - 15ms/step\n",
            "Epoch 4/200\n",
            "1/1 - 0s - loss: 2.4368 - accuracy: 0.2727 - 12ms/epoch - 12ms/step\n",
            "Epoch 5/200\n",
            "1/1 - 0s - loss: 2.4217 - accuracy: 0.3636 - 13ms/epoch - 13ms/step\n",
            "Epoch 6/200\n",
            "1/1 - 0s - loss: 2.4062 - accuracy: 0.2727 - 10ms/epoch - 10ms/step\n",
            "Epoch 7/200\n",
            "1/1 - 0s - loss: 2.3902 - accuracy: 0.2727 - 9ms/epoch - 9ms/step\n",
            "Epoch 8/200\n",
            "1/1 - 0s - loss: 2.3735 - accuracy: 0.3636 - 10ms/epoch - 10ms/step\n",
            "Epoch 9/200\n",
            "1/1 - 0s - loss: 2.3562 - accuracy: 0.3636 - 14ms/epoch - 14ms/step\n",
            "Epoch 10/200\n",
            "1/1 - 0s - loss: 2.3380 - accuracy: 0.3636 - 10ms/epoch - 10ms/step\n",
            "Epoch 11/200\n",
            "1/1 - 0s - loss: 2.3190 - accuracy: 0.3636 - 9ms/epoch - 9ms/step\n",
            "Epoch 12/200\n",
            "1/1 - 0s - loss: 2.2992 - accuracy: 0.3636 - 9ms/epoch - 9ms/step\n",
            "Epoch 13/200\n",
            "1/1 - 0s - loss: 2.2784 - accuracy: 0.3636 - 9ms/epoch - 9ms/step\n",
            "Epoch 14/200\n",
            "1/1 - 0s - loss: 2.2568 - accuracy: 0.3636 - 10ms/epoch - 10ms/step\n",
            "Epoch 15/200\n",
            "1/1 - 0s - loss: 2.2344 - accuracy: 0.3636 - 10ms/epoch - 10ms/step\n",
            "Epoch 16/200\n",
            "1/1 - 0s - loss: 2.2112 - accuracy: 0.3636 - 9ms/epoch - 9ms/step\n",
            "Epoch 17/200\n",
            "1/1 - 0s - loss: 2.1874 - accuracy: 0.3636 - 10ms/epoch - 10ms/step\n",
            "Epoch 18/200\n",
            "1/1 - 0s - loss: 2.1630 - accuracy: 0.3636 - 9ms/epoch - 9ms/step\n",
            "Epoch 19/200\n",
            "1/1 - 0s - loss: 2.1382 - accuracy: 0.3636 - 10ms/epoch - 10ms/step\n",
            "Epoch 20/200\n",
            "1/1 - 0s - loss: 2.1134 - accuracy: 0.3636 - 10ms/epoch - 10ms/step\n",
            "Epoch 21/200\n",
            "1/1 - 0s - loss: 2.0888 - accuracy: 0.3636 - 13ms/epoch - 13ms/step\n",
            "Epoch 22/200\n",
            "1/1 - 0s - loss: 2.0647 - accuracy: 0.3636 - 13ms/epoch - 13ms/step\n",
            "Epoch 23/200\n",
            "1/1 - 0s - loss: 2.0414 - accuracy: 0.3636 - 11ms/epoch - 11ms/step\n",
            "Epoch 24/200\n",
            "1/1 - 0s - loss: 2.0194 - accuracy: 0.3636 - 12ms/epoch - 12ms/step\n",
            "Epoch 25/200\n",
            "1/1 - 0s - loss: 1.9989 - accuracy: 0.3636 - 11ms/epoch - 11ms/step\n",
            "Epoch 26/200\n",
            "1/1 - 0s - loss: 1.9802 - accuracy: 0.3636 - 10ms/epoch - 10ms/step\n",
            "Epoch 27/200\n",
            "1/1 - 0s - loss: 1.9634 - accuracy: 0.3636 - 12ms/epoch - 12ms/step\n",
            "Epoch 28/200\n",
            "1/1 - 0s - loss: 1.9484 - accuracy: 0.3636 - 11ms/epoch - 11ms/step\n",
            "Epoch 29/200\n",
            "1/1 - 0s - loss: 1.9350 - accuracy: 0.3636 - 13ms/epoch - 13ms/step\n",
            "Epoch 30/200\n",
            "1/1 - 0s - loss: 1.9230 - accuracy: 0.3636 - 10ms/epoch - 10ms/step\n",
            "Epoch 31/200\n",
            "1/1 - 0s - loss: 1.9117 - accuracy: 0.3636 - 9ms/epoch - 9ms/step\n",
            "Epoch 32/200\n",
            "1/1 - 0s - loss: 1.9007 - accuracy: 0.3636 - 12ms/epoch - 12ms/step\n",
            "Epoch 33/200\n",
            "1/1 - 0s - loss: 1.8897 - accuracy: 0.3636 - 11ms/epoch - 11ms/step\n",
            "Epoch 34/200\n",
            "1/1 - 0s - loss: 1.8783 - accuracy: 0.3636 - 12ms/epoch - 12ms/step\n",
            "Epoch 35/200\n",
            "1/1 - 0s - loss: 1.8664 - accuracy: 0.3636 - 9ms/epoch - 9ms/step\n",
            "Epoch 36/200\n",
            "1/1 - 0s - loss: 1.8539 - accuracy: 0.3636 - 13ms/epoch - 13ms/step\n",
            "Epoch 37/200\n",
            "1/1 - 0s - loss: 1.8410 - accuracy: 0.3636 - 11ms/epoch - 11ms/step\n",
            "Epoch 38/200\n",
            "1/1 - 0s - loss: 1.8278 - accuracy: 0.3636 - 9ms/epoch - 9ms/step\n",
            "Epoch 39/200\n",
            "1/1 - 0s - loss: 1.8145 - accuracy: 0.3636 - 15ms/epoch - 15ms/step\n",
            "Epoch 40/200\n",
            "1/1 - 0s - loss: 1.8011 - accuracy: 0.3636 - 12ms/epoch - 12ms/step\n",
            "Epoch 41/200\n",
            "1/1 - 0s - loss: 1.7880 - accuracy: 0.3636 - 19ms/epoch - 19ms/step\n",
            "Epoch 42/200\n",
            "1/1 - 0s - loss: 1.7751 - accuracy: 0.3636 - 12ms/epoch - 12ms/step\n",
            "Epoch 43/200\n",
            "1/1 - 0s - loss: 1.7624 - accuracy: 0.3636 - 12ms/epoch - 12ms/step\n",
            "Epoch 44/200\n",
            "1/1 - 0s - loss: 1.7498 - accuracy: 0.3636 - 14ms/epoch - 14ms/step\n",
            "Epoch 45/200\n",
            "1/1 - 0s - loss: 1.7373 - accuracy: 0.3636 - 10ms/epoch - 10ms/step\n",
            "Epoch 46/200\n",
            "1/1 - 0s - loss: 1.7247 - accuracy: 0.3636 - 11ms/epoch - 11ms/step\n",
            "Epoch 47/200\n",
            "1/1 - 0s - loss: 1.7119 - accuracy: 0.3636 - 10ms/epoch - 10ms/step\n",
            "Epoch 48/200\n",
            "1/1 - 0s - loss: 1.6987 - accuracy: 0.4545 - 10ms/epoch - 10ms/step\n",
            "Epoch 49/200\n",
            "1/1 - 0s - loss: 1.6851 - accuracy: 0.4545 - 12ms/epoch - 12ms/step\n",
            "Epoch 50/200\n",
            "1/1 - 0s - loss: 1.6710 - accuracy: 0.4545 - 14ms/epoch - 14ms/step\n",
            "Epoch 51/200\n",
            "1/1 - 0s - loss: 1.6563 - accuracy: 0.4545 - 11ms/epoch - 11ms/step\n",
            "Epoch 52/200\n",
            "1/1 - 0s - loss: 1.6412 - accuracy: 0.4545 - 9ms/epoch - 9ms/step\n",
            "Epoch 53/200\n",
            "1/1 - 0s - loss: 1.6257 - accuracy: 0.4545 - 9ms/epoch - 9ms/step\n",
            "Epoch 54/200\n",
            "1/1 - 0s - loss: 1.6097 - accuracy: 0.4545 - 9ms/epoch - 9ms/step\n",
            "Epoch 55/200\n",
            "1/1 - 0s - loss: 1.5934 - accuracy: 0.4545 - 11ms/epoch - 11ms/step\n",
            "Epoch 56/200\n",
            "1/1 - 0s - loss: 1.5768 - accuracy: 0.4545 - 9ms/epoch - 9ms/step\n",
            "Epoch 57/200\n",
            "1/1 - 0s - loss: 1.5600 - accuracy: 0.4545 - 9ms/epoch - 9ms/step\n",
            "Epoch 58/200\n",
            "1/1 - 0s - loss: 1.5429 - accuracy: 0.4545 - 9ms/epoch - 9ms/step\n",
            "Epoch 59/200\n",
            "1/1 - 0s - loss: 1.5257 - accuracy: 0.4545 - 9ms/epoch - 9ms/step\n",
            "Epoch 60/200\n",
            "1/1 - 0s - loss: 1.5084 - accuracy: 0.4545 - 9ms/epoch - 9ms/step\n",
            "Epoch 61/200\n",
            "1/1 - 0s - loss: 1.4909 - accuracy: 0.4545 - 8ms/epoch - 8ms/step\n",
            "Epoch 62/200\n",
            "1/1 - 0s - loss: 1.4733 - accuracy: 0.4545 - 9ms/epoch - 9ms/step\n",
            "Epoch 63/200\n",
            "1/1 - 0s - loss: 1.4556 - accuracy: 0.5455 - 9ms/epoch - 9ms/step\n",
            "Epoch 64/200\n",
            "1/1 - 0s - loss: 1.4378 - accuracy: 0.5455 - 9ms/epoch - 9ms/step\n",
            "Epoch 65/200\n",
            "1/1 - 0s - loss: 1.4199 - accuracy: 0.5455 - 8ms/epoch - 8ms/step\n",
            "Epoch 66/200\n",
            "1/1 - 0s - loss: 1.4020 - accuracy: 0.5455 - 9ms/epoch - 9ms/step\n",
            "Epoch 67/200\n",
            "1/1 - 0s - loss: 1.3840 - accuracy: 0.5455 - 9ms/epoch - 9ms/step\n",
            "Epoch 68/200\n",
            "1/1 - 0s - loss: 1.3660 - accuracy: 0.5455 - 11ms/epoch - 11ms/step\n",
            "Epoch 69/200\n",
            "1/1 - 0s - loss: 1.3480 - accuracy: 0.5455 - 9ms/epoch - 9ms/step\n",
            "Epoch 70/200\n",
            "1/1 - 0s - loss: 1.3300 - accuracy: 0.5455 - 9ms/epoch - 9ms/step\n",
            "Epoch 71/200\n",
            "1/1 - 0s - loss: 1.3121 - accuracy: 0.5455 - 11ms/epoch - 11ms/step\n",
            "Epoch 72/200\n",
            "1/1 - 0s - loss: 1.2943 - accuracy: 0.5455 - 12ms/epoch - 12ms/step\n",
            "Epoch 73/200\n",
            "1/1 - 0s - loss: 1.2765 - accuracy: 0.5455 - 11ms/epoch - 11ms/step\n",
            "Epoch 74/200\n",
            "1/1 - 0s - loss: 1.2589 - accuracy: 0.5455 - 12ms/epoch - 12ms/step\n",
            "Epoch 75/200\n",
            "1/1 - 0s - loss: 1.2413 - accuracy: 0.5455 - 9ms/epoch - 9ms/step\n",
            "Epoch 76/200\n",
            "1/1 - 0s - loss: 1.2238 - accuracy: 0.5455 - 9ms/epoch - 9ms/step\n",
            "Epoch 77/200\n",
            "1/1 - 0s - loss: 1.2065 - accuracy: 0.5455 - 13ms/epoch - 13ms/step\n",
            "Epoch 78/200\n",
            "1/1 - 0s - loss: 1.1892 - accuracy: 0.5455 - 9ms/epoch - 9ms/step\n",
            "Epoch 79/200\n",
            "1/1 - 0s - loss: 1.1721 - accuracy: 0.5455 - 10ms/epoch - 10ms/step\n",
            "Epoch 80/200\n",
            "1/1 - 0s - loss: 1.1550 - accuracy: 0.5455 - 14ms/epoch - 14ms/step\n",
            "Epoch 81/200\n",
            "1/1 - 0s - loss: 1.1381 - accuracy: 0.5455 - 10ms/epoch - 10ms/step\n",
            "Epoch 82/200\n",
            "1/1 - 0s - loss: 1.1213 - accuracy: 0.5455 - 9ms/epoch - 9ms/step\n",
            "Epoch 83/200\n",
            "1/1 - 0s - loss: 1.1046 - accuracy: 0.5455 - 10ms/epoch - 10ms/step\n",
            "Epoch 84/200\n",
            "1/1 - 0s - loss: 1.0881 - accuracy: 0.5455 - 9ms/epoch - 9ms/step\n",
            "Epoch 85/200\n",
            "1/1 - 0s - loss: 1.0716 - accuracy: 0.5455 - 9ms/epoch - 9ms/step\n",
            "Epoch 86/200\n",
            "1/1 - 0s - loss: 1.0553 - accuracy: 0.7273 - 9ms/epoch - 9ms/step\n",
            "Epoch 87/200\n",
            "1/1 - 0s - loss: 1.0391 - accuracy: 0.7273 - 12ms/epoch - 12ms/step\n",
            "Epoch 88/200\n",
            "1/1 - 0s - loss: 1.0230 - accuracy: 0.7273 - 11ms/epoch - 11ms/step\n",
            "Epoch 89/200\n",
            "1/1 - 0s - loss: 1.0071 - accuracy: 0.7273 - 10ms/epoch - 10ms/step\n",
            "Epoch 90/200\n",
            "1/1 - 0s - loss: 0.9912 - accuracy: 0.7273 - 9ms/epoch - 9ms/step\n",
            "Epoch 91/200\n",
            "1/1 - 0s - loss: 0.9755 - accuracy: 0.7273 - 9ms/epoch - 9ms/step\n",
            "Epoch 92/200\n",
            "1/1 - 0s - loss: 0.9598 - accuracy: 0.7273 - 11ms/epoch - 11ms/step\n",
            "Epoch 93/200\n",
            "1/1 - 0s - loss: 0.9442 - accuracy: 0.7273 - 11ms/epoch - 11ms/step\n",
            "Epoch 94/200\n",
            "1/1 - 0s - loss: 0.9288 - accuracy: 0.7273 - 10ms/epoch - 10ms/step\n",
            "Epoch 95/200\n",
            "1/1 - 0s - loss: 0.9134 - accuracy: 0.7273 - 8ms/epoch - 8ms/step\n",
            "Epoch 96/200\n",
            "1/1 - 0s - loss: 0.8982 - accuracy: 0.7273 - 9ms/epoch - 9ms/step\n",
            "Epoch 97/200\n",
            "1/1 - 0s - loss: 0.8830 - accuracy: 0.7273 - 10ms/epoch - 10ms/step\n",
            "Epoch 98/200\n",
            "1/1 - 0s - loss: 0.8680 - accuracy: 0.7273 - 9ms/epoch - 9ms/step\n",
            "Epoch 99/200\n",
            "1/1 - 0s - loss: 0.8531 - accuracy: 0.7273 - 9ms/epoch - 9ms/step\n",
            "Epoch 100/200\n",
            "1/1 - 0s - loss: 0.8383 - accuracy: 0.7273 - 8ms/epoch - 8ms/step\n",
            "Epoch 101/200\n",
            "1/1 - 0s - loss: 0.8237 - accuracy: 0.7273 - 10ms/epoch - 10ms/step\n",
            "Epoch 102/200\n",
            "1/1 - 0s - loss: 0.8092 - accuracy: 0.7273 - 10ms/epoch - 10ms/step\n",
            "Epoch 103/200\n",
            "1/1 - 0s - loss: 0.7948 - accuracy: 0.7273 - 10ms/epoch - 10ms/step\n",
            "Epoch 104/200\n",
            "1/1 - 0s - loss: 0.7807 - accuracy: 0.7273 - 10ms/epoch - 10ms/step\n",
            "Epoch 105/200\n",
            "1/1 - 0s - loss: 0.7667 - accuracy: 0.7273 - 9ms/epoch - 9ms/step\n",
            "Epoch 106/200\n",
            "1/1 - 0s - loss: 0.7529 - accuracy: 0.7273 - 9ms/epoch - 9ms/step\n",
            "Epoch 107/200\n",
            "1/1 - 0s - loss: 0.7393 - accuracy: 0.7273 - 9ms/epoch - 9ms/step\n",
            "Epoch 108/200\n",
            "1/1 - 0s - loss: 0.7259 - accuracy: 0.8182 - 9ms/epoch - 9ms/step\n",
            "Epoch 109/200\n",
            "1/1 - 0s - loss: 0.7126 - accuracy: 0.8182 - 9ms/epoch - 9ms/step\n",
            "Epoch 110/200\n",
            "1/1 - 0s - loss: 0.6996 - accuracy: 0.8182 - 9ms/epoch - 9ms/step\n",
            "Epoch 111/200\n",
            "1/1 - 0s - loss: 0.6869 - accuracy: 0.8182 - 9ms/epoch - 9ms/step\n",
            "Epoch 112/200\n",
            "1/1 - 0s - loss: 0.6743 - accuracy: 0.8182 - 9ms/epoch - 9ms/step\n",
            "Epoch 113/200\n",
            "1/1 - 0s - loss: 0.6620 - accuracy: 0.8182 - 12ms/epoch - 12ms/step\n",
            "Epoch 114/200\n",
            "1/1 - 0s - loss: 0.6498 - accuracy: 0.8182 - 9ms/epoch - 9ms/step\n",
            "Epoch 115/200\n",
            "1/1 - 0s - loss: 0.6380 - accuracy: 0.8182 - 10ms/epoch - 10ms/step\n",
            "Epoch 116/200\n",
            "1/1 - 0s - loss: 0.6263 - accuracy: 0.8182 - 9ms/epoch - 9ms/step\n",
            "Epoch 117/200\n",
            "1/1 - 0s - loss: 0.6149 - accuracy: 0.8182 - 9ms/epoch - 9ms/step\n",
            "Epoch 118/200\n",
            "1/1 - 0s - loss: 0.6037 - accuracy: 0.8182 - 9ms/epoch - 9ms/step\n",
            "Epoch 119/200\n",
            "1/1 - 0s - loss: 0.5927 - accuracy: 0.8182 - 9ms/epoch - 9ms/step\n",
            "Epoch 120/200\n",
            "1/1 - 0s - loss: 0.5819 - accuracy: 0.8182 - 9ms/epoch - 9ms/step\n",
            "Epoch 121/200\n",
            "1/1 - 0s - loss: 0.5714 - accuracy: 0.8182 - 12ms/epoch - 12ms/step\n",
            "Epoch 122/200\n",
            "1/1 - 0s - loss: 0.5611 - accuracy: 0.8182 - 10ms/epoch - 10ms/step\n",
            "Epoch 123/200\n",
            "1/1 - 0s - loss: 0.5509 - accuracy: 0.8182 - 11ms/epoch - 11ms/step\n",
            "Epoch 124/200\n",
            "1/1 - 0s - loss: 0.5410 - accuracy: 0.8182 - 13ms/epoch - 13ms/step\n",
            "Epoch 125/200\n",
            "1/1 - 0s - loss: 0.5313 - accuracy: 0.8182 - 9ms/epoch - 9ms/step\n",
            "Epoch 126/200\n",
            "1/1 - 0s - loss: 0.5218 - accuracy: 0.9091 - 11ms/epoch - 11ms/step\n",
            "Epoch 127/200\n",
            "1/1 - 0s - loss: 0.5125 - accuracy: 0.9091 - 9ms/epoch - 9ms/step\n",
            "Epoch 128/200\n",
            "1/1 - 0s - loss: 0.5034 - accuracy: 0.9091 - 9ms/epoch - 9ms/step\n",
            "Epoch 129/200\n",
            "1/1 - 0s - loss: 0.4945 - accuracy: 0.9091 - 13ms/epoch - 13ms/step\n",
            "Epoch 130/200\n",
            "1/1 - 0s - loss: 0.4857 - accuracy: 0.9091 - 11ms/epoch - 11ms/step\n",
            "Epoch 131/200\n",
            "1/1 - 0s - loss: 0.4771 - accuracy: 0.9091 - 10ms/epoch - 10ms/step\n",
            "Epoch 132/200\n",
            "1/1 - 0s - loss: 0.4687 - accuracy: 0.9091 - 9ms/epoch - 9ms/step\n",
            "Epoch 133/200\n",
            "1/1 - 0s - loss: 0.4605 - accuracy: 0.9091 - 10ms/epoch - 10ms/step\n",
            "Epoch 134/200\n",
            "1/1 - 0s - loss: 0.4524 - accuracy: 0.9091 - 10ms/epoch - 10ms/step\n",
            "Epoch 135/200\n",
            "1/1 - 0s - loss: 0.4445 - accuracy: 0.9091 - 9ms/epoch - 9ms/step\n",
            "Epoch 136/200\n",
            "1/1 - 0s - loss: 0.4368 - accuracy: 0.9091 - 9ms/epoch - 9ms/step\n",
            "Epoch 137/200\n",
            "1/1 - 0s - loss: 0.4292 - accuracy: 0.9091 - 12ms/epoch - 12ms/step\n",
            "Epoch 138/200\n",
            "1/1 - 0s - loss: 0.4217 - accuracy: 0.9091 - 11ms/epoch - 11ms/step\n",
            "Epoch 139/200\n",
            "1/1 - 0s - loss: 0.4144 - accuracy: 0.9091 - 11ms/epoch - 11ms/step\n",
            "Epoch 140/200\n",
            "1/1 - 0s - loss: 0.4072 - accuracy: 0.9091 - 10ms/epoch - 10ms/step\n",
            "Epoch 141/200\n",
            "1/1 - 0s - loss: 0.4002 - accuracy: 0.9091 - 12ms/epoch - 12ms/step\n",
            "Epoch 142/200\n",
            "1/1 - 0s - loss: 0.3933 - accuracy: 0.9091 - 12ms/epoch - 12ms/step\n",
            "Epoch 143/200\n",
            "1/1 - 0s - loss: 0.3865 - accuracy: 0.9091 - 11ms/epoch - 11ms/step\n",
            "Epoch 144/200\n",
            "1/1 - 0s - loss: 0.3798 - accuracy: 0.9091 - 10ms/epoch - 10ms/step\n",
            "Epoch 145/200\n",
            "1/1 - 0s - loss: 0.3733 - accuracy: 0.9091 - 14ms/epoch - 14ms/step\n",
            "Epoch 146/200\n",
            "1/1 - 0s - loss: 0.3669 - accuracy: 1.0000 - 14ms/epoch - 14ms/step\n",
            "Epoch 147/200\n",
            "1/1 - 0s - loss: 0.3606 - accuracy: 1.0000 - 13ms/epoch - 13ms/step\n",
            "Epoch 148/200\n",
            "1/1 - 0s - loss: 0.3544 - accuracy: 1.0000 - 10ms/epoch - 10ms/step\n",
            "Epoch 149/200\n",
            "1/1 - 0s - loss: 0.3483 - accuracy: 1.0000 - 12ms/epoch - 12ms/step\n",
            "Epoch 150/200\n",
            "1/1 - 0s - loss: 0.3423 - accuracy: 1.0000 - 13ms/epoch - 13ms/step\n",
            "Epoch 151/200\n",
            "1/1 - 0s - loss: 0.3364 - accuracy: 1.0000 - 11ms/epoch - 11ms/step\n",
            "Epoch 152/200\n",
            "1/1 - 0s - loss: 0.3306 - accuracy: 1.0000 - 12ms/epoch - 12ms/step\n",
            "Epoch 153/200\n",
            "1/1 - 0s - loss: 0.3249 - accuracy: 1.0000 - 11ms/epoch - 11ms/step\n",
            "Epoch 154/200\n",
            "1/1 - 0s - loss: 0.3193 - accuracy: 1.0000 - 10ms/epoch - 10ms/step\n",
            "Epoch 155/200\n",
            "1/1 - 0s - loss: 0.3138 - accuracy: 1.0000 - 10ms/epoch - 10ms/step\n",
            "Epoch 156/200\n",
            "1/1 - 0s - loss: 0.3084 - accuracy: 1.0000 - 11ms/epoch - 11ms/step\n",
            "Epoch 157/200\n",
            "1/1 - 0s - loss: 0.3031 - accuracy: 1.0000 - 10ms/epoch - 10ms/step\n",
            "Epoch 158/200\n",
            "1/1 - 0s - loss: 0.2978 - accuracy: 1.0000 - 11ms/epoch - 11ms/step\n",
            "Epoch 159/200\n",
            "1/1 - 0s - loss: 0.2927 - accuracy: 1.0000 - 10ms/epoch - 10ms/step\n",
            "Epoch 160/200\n",
            "1/1 - 0s - loss: 0.2876 - accuracy: 1.0000 - 15ms/epoch - 15ms/step\n",
            "Epoch 161/200\n",
            "1/1 - 0s - loss: 0.2826 - accuracy: 1.0000 - 13ms/epoch - 13ms/step\n",
            "Epoch 162/200\n",
            "1/1 - 0s - loss: 0.2777 - accuracy: 1.0000 - 29ms/epoch - 29ms/step\n",
            "Epoch 163/200\n",
            "1/1 - 0s - loss: 0.2728 - accuracy: 1.0000 - 14ms/epoch - 14ms/step\n",
            "Epoch 164/200\n",
            "1/1 - 0s - loss: 0.2681 - accuracy: 1.0000 - 14ms/epoch - 14ms/step\n",
            "Epoch 165/200\n",
            "1/1 - 0s - loss: 0.2634 - accuracy: 1.0000 - 20ms/epoch - 20ms/step\n",
            "Epoch 166/200\n",
            "1/1 - 0s - loss: 0.2588 - accuracy: 1.0000 - 11ms/epoch - 11ms/step\n",
            "Epoch 167/200\n",
            "1/1 - 0s - loss: 0.2542 - accuracy: 1.0000 - 13ms/epoch - 13ms/step\n",
            "Epoch 168/200\n",
            "1/1 - 0s - loss: 0.2497 - accuracy: 1.0000 - 16ms/epoch - 16ms/step\n",
            "Epoch 169/200\n",
            "1/1 - 0s - loss: 0.2453 - accuracy: 1.0000 - 30ms/epoch - 30ms/step\n",
            "Epoch 170/200\n",
            "1/1 - 0s - loss: 0.2410 - accuracy: 1.0000 - 61ms/epoch - 61ms/step\n",
            "Epoch 171/200\n",
            "1/1 - 0s - loss: 0.2367 - accuracy: 1.0000 - 17ms/epoch - 17ms/step\n",
            "Epoch 172/200\n",
            "1/1 - 0s - loss: 0.2325 - accuracy: 1.0000 - 29ms/epoch - 29ms/step\n",
            "Epoch 173/200\n",
            "1/1 - 0s - loss: 0.2284 - accuracy: 1.0000 - 19ms/epoch - 19ms/step\n",
            "Epoch 174/200\n",
            "1/1 - 0s - loss: 0.2243 - accuracy: 1.0000 - 11ms/epoch - 11ms/step\n",
            "Epoch 175/200\n",
            "1/1 - 0s - loss: 0.2203 - accuracy: 1.0000 - 10ms/epoch - 10ms/step\n",
            "Epoch 176/200\n",
            "1/1 - 0s - loss: 0.2163 - accuracy: 1.0000 - 9ms/epoch - 9ms/step\n",
            "Epoch 177/200\n",
            "1/1 - 0s - loss: 0.2124 - accuracy: 1.0000 - 9ms/epoch - 9ms/step\n",
            "Epoch 178/200\n",
            "1/1 - 0s - loss: 0.2086 - accuracy: 1.0000 - 17ms/epoch - 17ms/step\n",
            "Epoch 179/200\n",
            "1/1 - 0s - loss: 0.2048 - accuracy: 1.0000 - 8ms/epoch - 8ms/step\n",
            "Epoch 180/200\n",
            "1/1 - 0s - loss: 0.2011 - accuracy: 1.0000 - 8ms/epoch - 8ms/step\n",
            "Epoch 181/200\n",
            "1/1 - 0s - loss: 0.1975 - accuracy: 1.0000 - 10ms/epoch - 10ms/step\n",
            "Epoch 182/200\n",
            "1/1 - 0s - loss: 0.1939 - accuracy: 1.0000 - 12ms/epoch - 12ms/step\n",
            "Epoch 183/200\n",
            "1/1 - 0s - loss: 0.1903 - accuracy: 1.0000 - 8ms/epoch - 8ms/step\n",
            "Epoch 184/200\n",
            "1/1 - 0s - loss: 0.1869 - accuracy: 1.0000 - 9ms/epoch - 9ms/step\n",
            "Epoch 185/200\n",
            "1/1 - 0s - loss: 0.1834 - accuracy: 1.0000 - 9ms/epoch - 9ms/step\n",
            "Epoch 186/200\n",
            "1/1 - 0s - loss: 0.1801 - accuracy: 1.0000 - 9ms/epoch - 9ms/step\n",
            "Epoch 187/200\n",
            "1/1 - 0s - loss: 0.1768 - accuracy: 1.0000 - 9ms/epoch - 9ms/step\n",
            "Epoch 188/200\n",
            "1/1 - 0s - loss: 0.1735 - accuracy: 1.0000 - 10ms/epoch - 10ms/step\n",
            "Epoch 189/200\n",
            "1/1 - 0s - loss: 0.1703 - accuracy: 1.0000 - 9ms/epoch - 9ms/step\n",
            "Epoch 190/200\n",
            "1/1 - 0s - loss: 0.1671 - accuracy: 1.0000 - 12ms/epoch - 12ms/step\n",
            "Epoch 191/200\n",
            "1/1 - 0s - loss: 0.1640 - accuracy: 1.0000 - 9ms/epoch - 9ms/step\n",
            "Epoch 192/200\n",
            "1/1 - 0s - loss: 0.1610 - accuracy: 1.0000 - 9ms/epoch - 9ms/step\n",
            "Epoch 193/200\n",
            "1/1 - 0s - loss: 0.1580 - accuracy: 1.0000 - 11ms/epoch - 11ms/step\n",
            "Epoch 194/200\n",
            "1/1 - 0s - loss: 0.1551 - accuracy: 1.0000 - 12ms/epoch - 12ms/step\n",
            "Epoch 195/200\n",
            "1/1 - 0s - loss: 0.1522 - accuracy: 1.0000 - 10ms/epoch - 10ms/step\n",
            "Epoch 196/200\n",
            "1/1 - 0s - loss: 0.1493 - accuracy: 1.0000 - 10ms/epoch - 10ms/step\n",
            "Epoch 197/200\n",
            "1/1 - 0s - loss: 0.1466 - accuracy: 1.0000 - 10ms/epoch - 10ms/step\n",
            "Epoch 198/200\n",
            "1/1 - 0s - loss: 0.1438 - accuracy: 1.0000 - 10ms/epoch - 10ms/step\n",
            "Epoch 199/200\n",
            "1/1 - 0s - loss: 0.1412 - accuracy: 1.0000 - 25ms/epoch - 25ms/step\n",
            "Epoch 200/200\n",
            "1/1 - 0s - loss: 0.1385 - accuracy: 1.0000 - 39ms/epoch - 39ms/step\n"
          ]
        },
        {
          "output_type": "execute_result",
          "data": {
            "text/plain": [
              "<keras.src.callbacks.History at 0x7f22204f8370>"
            ]
          },
          "metadata": {},
          "execution_count": 43
        }
      ]
    },
    {
      "cell_type": "code",
      "source": [
        "def sentence_generation(model, tokenizer, current_word, n): # 모델, 토크나이저, 현재 단어, 반복할 횟수\n",
        "    init_word = current_word\n",
        "    sentence = ''\n",
        "\n",
        "    # n번 반복\n",
        "    for _ in range(n):\n",
        "        # 현재 단어에 대한 정수 인코딩과 패딩\n",
        "        encoded = tokenizer.texts_to_sequences([current_word])[0]\n",
        "        encoded = pad_sequences([encoded], maxlen=5, padding='pre')\n",
        "        # 입력한 X(현재 단어)에 대해서 Y를 예측하고 Y(예측한 단어)를 result에 저장.\n",
        "        result = model.predict(encoded, verbose=0)\n",
        "        result = np.argmax(result, axis=1)\n",
        "\n",
        "        for word, index in tokenizer.word_index.items():\n",
        "            # 만약 예측한 단어와 인덱스와 동일한 단어가 있다면 break\n",
        "            if index == result:\n",
        "                break\n",
        "\n",
        "        # 현재 단어 + ' ' + 예측 단어를 현재 단어로 변경\n",
        "        current_word = current_word + ' '  + word\n",
        "\n",
        "        # 예측 단어를 문장에 저장\n",
        "        sentence = sentence + ' ' + word\n",
        "\n",
        "    sentence = init_word + sentence\n",
        "    return sentence"
      ],
      "metadata": {
        "id": "GdBAgKx3Kc3B"
      },
      "execution_count": 44,
      "outputs": []
    },
    {
      "cell_type": "code",
      "source": [
        "print(sentence_generation(model, tokenizer, '경마장에', 4))"
      ],
      "metadata": {
        "colab": {
          "base_uri": "https://localhost:8080/"
        },
        "id": "mKyd_xHBKenP",
        "outputId": "2ac3070e-0a71-4413-bf71-be0b527de34b"
      },
      "execution_count": 45,
      "outputs": [
        {
          "output_type": "stream",
          "name": "stdout",
          "text": [
            "경마장에 있는 말이 뛰고 있다\n"
          ]
        }
      ]
    },
    {
      "cell_type": "code",
      "source": [
        "print(sentence_generation(model, tokenizer, '그의', 2))"
      ],
      "metadata": {
        "colab": {
          "base_uri": "https://localhost:8080/"
        },
        "id": "LhXGxtDzKgH7",
        "outputId": "82da3d29-3fac-4dc2-f159-056f01259b25"
      },
      "execution_count": 46,
      "outputs": [
        {
          "output_type": "stream",
          "name": "stdout",
          "text": [
            "그의 말이 법이다\n"
          ]
        }
      ]
    },
    {
      "cell_type": "code",
      "source": [
        "print(sentence_generation(model, tokenizer, '가는', 5))"
      ],
      "metadata": {
        "colab": {
          "base_uri": "https://localhost:8080/"
        },
        "id": "bUetxA25KhHy",
        "outputId": "1eb5a264-58b7-471c-8fcd-2de6550985ea"
      },
      "execution_count": 47,
      "outputs": [
        {
          "output_type": "stream",
          "name": "stdout",
          "text": [
            "가는 말이 고와야 오는 말이 곱다\n"
          ]
        }
      ]
    },
    {
      "cell_type": "code",
      "source": [
        "import pandas as pd\n",
        "import numpy as np\n",
        "from string import punctuation\n",
        "\n",
        "from tensorflow.keras.preprocessing.text import Tokenizer\n",
        "from tensorflow.keras.preprocessing.sequence import pad_sequences\n",
        "from tensorflow.keras.utils import to_categorical"
      ],
      "metadata": {
        "id": "JNukW62tKh9J"
      },
      "execution_count": 48,
      "outputs": []
    },
    {
      "cell_type": "code",
      "source": [
        "df = pd.read_csv('ArticlesApril2018.csv')\n",
        "df.head()"
      ],
      "metadata": {
        "colab": {
          "base_uri": "https://localhost:8080/",
          "height": 660
        },
        "id": "ENFG1e5yKjZH",
        "outputId": "19f5f9d5-0d9b-43aa-e8bd-1470bf13db85"
      },
      "execution_count": 49,
      "outputs": [
        {
          "output_type": "execute_result",
          "data": {
            "text/plain": [
              "                  articleID  articleWordCount  \\\n",
              "0  5adf6684068401528a2aa69b               781   \n",
              "1  5adf653f068401528a2aa697               656   \n",
              "2  5adf4626068401528a2aa628              2427   \n",
              "3  5adf40d2068401528a2aa619               626   \n",
              "4  5adf3d64068401528a2aa60f               815   \n",
              "\n",
              "                                      byline documentType  \\\n",
              "0                             By JOHN BRANCH      article   \n",
              "1                           By LISA FRIEDMAN      article   \n",
              "2                              By PETE WELLS      article   \n",
              "3  By JULIE HIRSCHFELD DAVIS and PETER BAKER      article   \n",
              "4             By IAN AUSTEN and DAN BILEFSKY      article   \n",
              "\n",
              "                                            headline  \\\n",
              "0  Former N.F.L. Cheerleaders’ Settlement Offer: ...   \n",
              "1  E.P.A. to Unveil a New Rule. Its Effect: Less ...   \n",
              "2                            The New Noma, Explained   \n",
              "3                                            Unknown   \n",
              "4                                            Unknown   \n",
              "\n",
              "                                            keywords  multimedia     newDesk  \\\n",
              "0  ['Workplace Hazards and Violations', 'Football...          68      Sports   \n",
              "1  ['Environmental Protection Agency', 'Pruitt, S...          68     Climate   \n",
              "2  ['Restaurants', 'Noma (Copenhagen, Restaurant)...          66      Dining   \n",
              "3  ['Macron, Emmanuel (1977- )', 'Trump, Donald J...          68  Washington   \n",
              "4  ['Toronto, Ontario, Attack (April, 2018)', 'Mu...          68     Foreign   \n",
              "\n",
              "   printPage              pubDate   sectionName  \\\n",
              "0          0  2018-04-24 17:16:49  Pro Football   \n",
              "1          0  2018-04-24 17:11:21       Unknown   \n",
              "2          0  2018-04-24 14:58:44       Unknown   \n",
              "3          0  2018-04-24 14:35:57        Europe   \n",
              "4          0  2018-04-24 14:21:21        Canada   \n",
              "\n",
              "                                             snippet              source  \\\n",
              "0  “I understand that they could meet with us, pa...  The New York Times   \n",
              "1  The agency plans to publish a new regulation T...  The New York Times   \n",
              "2  What’s it like to eat at the second incarnatio...  The New York Times   \n",
              "3  President Trump welcomed President Emmanuel Ma...  The New York Times   \n",
              "4  Alek Minassian, 25, a resident of Toronto’s Ri...  The New York Times   \n",
              "\n",
              "  typeOfMaterial                                             webURL  \n",
              "0           News  https://www.nytimes.com/2018/04/24/sports/foot...  \n",
              "1           News  https://www.nytimes.com/2018/04/24/climate/epa...  \n",
              "2           News  https://www.nytimes.com/2018/04/24/dining/noma...  \n",
              "3           News  https://www.nytimes.com/2018/04/24/world/europ...  \n",
              "4           News  https://www.nytimes.com/2018/04/24/world/canad...  "
            ],
            "text/html": [
              "\n",
              "  <div id=\"df-11a15431-0cc7-4b7f-b319-2cafb2287cc6\" class=\"colab-df-container\">\n",
              "    <div>\n",
              "<style scoped>\n",
              "    .dataframe tbody tr th:only-of-type {\n",
              "        vertical-align: middle;\n",
              "    }\n",
              "\n",
              "    .dataframe tbody tr th {\n",
              "        vertical-align: top;\n",
              "    }\n",
              "\n",
              "    .dataframe thead th {\n",
              "        text-align: right;\n",
              "    }\n",
              "</style>\n",
              "<table border=\"1\" class=\"dataframe\">\n",
              "  <thead>\n",
              "    <tr style=\"text-align: right;\">\n",
              "      <th></th>\n",
              "      <th>articleID</th>\n",
              "      <th>articleWordCount</th>\n",
              "      <th>byline</th>\n",
              "      <th>documentType</th>\n",
              "      <th>headline</th>\n",
              "      <th>keywords</th>\n",
              "      <th>multimedia</th>\n",
              "      <th>newDesk</th>\n",
              "      <th>printPage</th>\n",
              "      <th>pubDate</th>\n",
              "      <th>sectionName</th>\n",
              "      <th>snippet</th>\n",
              "      <th>source</th>\n",
              "      <th>typeOfMaterial</th>\n",
              "      <th>webURL</th>\n",
              "    </tr>\n",
              "  </thead>\n",
              "  <tbody>\n",
              "    <tr>\n",
              "      <th>0</th>\n",
              "      <td>5adf6684068401528a2aa69b</td>\n",
              "      <td>781</td>\n",
              "      <td>By JOHN BRANCH</td>\n",
              "      <td>article</td>\n",
              "      <td>Former N.F.L. Cheerleaders’ Settlement Offer: ...</td>\n",
              "      <td>['Workplace Hazards and Violations', 'Football...</td>\n",
              "      <td>68</td>\n",
              "      <td>Sports</td>\n",
              "      <td>0</td>\n",
              "      <td>2018-04-24 17:16:49</td>\n",
              "      <td>Pro Football</td>\n",
              "      <td>“I understand that they could meet with us, pa...</td>\n",
              "      <td>The New York Times</td>\n",
              "      <td>News</td>\n",
              "      <td>https://www.nytimes.com/2018/04/24/sports/foot...</td>\n",
              "    </tr>\n",
              "    <tr>\n",
              "      <th>1</th>\n",
              "      <td>5adf653f068401528a2aa697</td>\n",
              "      <td>656</td>\n",
              "      <td>By LISA FRIEDMAN</td>\n",
              "      <td>article</td>\n",
              "      <td>E.P.A. to Unveil a New Rule. Its Effect: Less ...</td>\n",
              "      <td>['Environmental Protection Agency', 'Pruitt, S...</td>\n",
              "      <td>68</td>\n",
              "      <td>Climate</td>\n",
              "      <td>0</td>\n",
              "      <td>2018-04-24 17:11:21</td>\n",
              "      <td>Unknown</td>\n",
              "      <td>The agency plans to publish a new regulation T...</td>\n",
              "      <td>The New York Times</td>\n",
              "      <td>News</td>\n",
              "      <td>https://www.nytimes.com/2018/04/24/climate/epa...</td>\n",
              "    </tr>\n",
              "    <tr>\n",
              "      <th>2</th>\n",
              "      <td>5adf4626068401528a2aa628</td>\n",
              "      <td>2427</td>\n",
              "      <td>By PETE WELLS</td>\n",
              "      <td>article</td>\n",
              "      <td>The New Noma, Explained</td>\n",
              "      <td>['Restaurants', 'Noma (Copenhagen, Restaurant)...</td>\n",
              "      <td>66</td>\n",
              "      <td>Dining</td>\n",
              "      <td>0</td>\n",
              "      <td>2018-04-24 14:58:44</td>\n",
              "      <td>Unknown</td>\n",
              "      <td>What’s it like to eat at the second incarnatio...</td>\n",
              "      <td>The New York Times</td>\n",
              "      <td>News</td>\n",
              "      <td>https://www.nytimes.com/2018/04/24/dining/noma...</td>\n",
              "    </tr>\n",
              "    <tr>\n",
              "      <th>3</th>\n",
              "      <td>5adf40d2068401528a2aa619</td>\n",
              "      <td>626</td>\n",
              "      <td>By JULIE HIRSCHFELD DAVIS and PETER BAKER</td>\n",
              "      <td>article</td>\n",
              "      <td>Unknown</td>\n",
              "      <td>['Macron, Emmanuel (1977- )', 'Trump, Donald J...</td>\n",
              "      <td>68</td>\n",
              "      <td>Washington</td>\n",
              "      <td>0</td>\n",
              "      <td>2018-04-24 14:35:57</td>\n",
              "      <td>Europe</td>\n",
              "      <td>President Trump welcomed President Emmanuel Ma...</td>\n",
              "      <td>The New York Times</td>\n",
              "      <td>News</td>\n",
              "      <td>https://www.nytimes.com/2018/04/24/world/europ...</td>\n",
              "    </tr>\n",
              "    <tr>\n",
              "      <th>4</th>\n",
              "      <td>5adf3d64068401528a2aa60f</td>\n",
              "      <td>815</td>\n",
              "      <td>By IAN AUSTEN and DAN BILEFSKY</td>\n",
              "      <td>article</td>\n",
              "      <td>Unknown</td>\n",
              "      <td>['Toronto, Ontario, Attack (April, 2018)', 'Mu...</td>\n",
              "      <td>68</td>\n",
              "      <td>Foreign</td>\n",
              "      <td>0</td>\n",
              "      <td>2018-04-24 14:21:21</td>\n",
              "      <td>Canada</td>\n",
              "      <td>Alek Minassian, 25, a resident of Toronto’s Ri...</td>\n",
              "      <td>The New York Times</td>\n",
              "      <td>News</td>\n",
              "      <td>https://www.nytimes.com/2018/04/24/world/canad...</td>\n",
              "    </tr>\n",
              "  </tbody>\n",
              "</table>\n",
              "</div>\n",
              "    <div class=\"colab-df-buttons\">\n",
              "\n",
              "  <div class=\"colab-df-container\">\n",
              "    <button class=\"colab-df-convert\" onclick=\"convertToInteractive('df-11a15431-0cc7-4b7f-b319-2cafb2287cc6')\"\n",
              "            title=\"Convert this dataframe to an interactive table.\"\n",
              "            style=\"display:none;\">\n",
              "\n",
              "  <svg xmlns=\"http://www.w3.org/2000/svg\" height=\"24px\" viewBox=\"0 -960 960 960\">\n",
              "    <path d=\"M120-120v-720h720v720H120Zm60-500h600v-160H180v160Zm220 220h160v-160H400v160Zm0 220h160v-160H400v160ZM180-400h160v-160H180v160Zm440 0h160v-160H620v160ZM180-180h160v-160H180v160Zm440 0h160v-160H620v160Z\"/>\n",
              "  </svg>\n",
              "    </button>\n",
              "\n",
              "  <style>\n",
              "    .colab-df-container {\n",
              "      display:flex;\n",
              "      gap: 12px;\n",
              "    }\n",
              "\n",
              "    .colab-df-convert {\n",
              "      background-color: #E8F0FE;\n",
              "      border: none;\n",
              "      border-radius: 50%;\n",
              "      cursor: pointer;\n",
              "      display: none;\n",
              "      fill: #1967D2;\n",
              "      height: 32px;\n",
              "      padding: 0 0 0 0;\n",
              "      width: 32px;\n",
              "    }\n",
              "\n",
              "    .colab-df-convert:hover {\n",
              "      background-color: #E2EBFA;\n",
              "      box-shadow: 0px 1px 2px rgba(60, 64, 67, 0.3), 0px 1px 3px 1px rgba(60, 64, 67, 0.15);\n",
              "      fill: #174EA6;\n",
              "    }\n",
              "\n",
              "    .colab-df-buttons div {\n",
              "      margin-bottom: 4px;\n",
              "    }\n",
              "\n",
              "    [theme=dark] .colab-df-convert {\n",
              "      background-color: #3B4455;\n",
              "      fill: #D2E3FC;\n",
              "    }\n",
              "\n",
              "    [theme=dark] .colab-df-convert:hover {\n",
              "      background-color: #434B5C;\n",
              "      box-shadow: 0px 1px 3px 1px rgba(0, 0, 0, 0.15);\n",
              "      filter: drop-shadow(0px 1px 2px rgba(0, 0, 0, 0.3));\n",
              "      fill: #FFFFFF;\n",
              "    }\n",
              "  </style>\n",
              "\n",
              "    <script>\n",
              "      const buttonEl =\n",
              "        document.querySelector('#df-11a15431-0cc7-4b7f-b319-2cafb2287cc6 button.colab-df-convert');\n",
              "      buttonEl.style.display =\n",
              "        google.colab.kernel.accessAllowed ? 'block' : 'none';\n",
              "\n",
              "      async function convertToInteractive(key) {\n",
              "        const element = document.querySelector('#df-11a15431-0cc7-4b7f-b319-2cafb2287cc6');\n",
              "        const dataTable =\n",
              "          await google.colab.kernel.invokeFunction('convertToInteractive',\n",
              "                                                    [key], {});\n",
              "        if (!dataTable) return;\n",
              "\n",
              "        const docLinkHtml = 'Like what you see? Visit the ' +\n",
              "          '<a target=\"_blank\" href=https://colab.research.google.com/notebooks/data_table.ipynb>data table notebook</a>'\n",
              "          + ' to learn more about interactive tables.';\n",
              "        element.innerHTML = '';\n",
              "        dataTable['output_type'] = 'display_data';\n",
              "        await google.colab.output.renderOutput(dataTable, element);\n",
              "        const docLink = document.createElement('div');\n",
              "        docLink.innerHTML = docLinkHtml;\n",
              "        element.appendChild(docLink);\n",
              "      }\n",
              "    </script>\n",
              "  </div>\n",
              "\n",
              "\n",
              "<div id=\"df-e86b6bf9-8142-4f49-b09e-2d8fe7fed10f\">\n",
              "  <button class=\"colab-df-quickchart\" onclick=\"quickchart('df-e86b6bf9-8142-4f49-b09e-2d8fe7fed10f')\"\n",
              "            title=\"Suggest charts.\"\n",
              "            style=\"display:none;\">\n",
              "\n",
              "<svg xmlns=\"http://www.w3.org/2000/svg\" height=\"24px\"viewBox=\"0 0 24 24\"\n",
              "     width=\"24px\">\n",
              "    <g>\n",
              "        <path d=\"M19 3H5c-1.1 0-2 .9-2 2v14c0 1.1.9 2 2 2h14c1.1 0 2-.9 2-2V5c0-1.1-.9-2-2-2zM9 17H7v-7h2v7zm4 0h-2V7h2v10zm4 0h-2v-4h2v4z\"/>\n",
              "    </g>\n",
              "</svg>\n",
              "  </button>\n",
              "\n",
              "<style>\n",
              "  .colab-df-quickchart {\n",
              "      --bg-color: #E8F0FE;\n",
              "      --fill-color: #1967D2;\n",
              "      --hover-bg-color: #E2EBFA;\n",
              "      --hover-fill-color: #174EA6;\n",
              "      --disabled-fill-color: #AAA;\n",
              "      --disabled-bg-color: #DDD;\n",
              "  }\n",
              "\n",
              "  [theme=dark] .colab-df-quickchart {\n",
              "      --bg-color: #3B4455;\n",
              "      --fill-color: #D2E3FC;\n",
              "      --hover-bg-color: #434B5C;\n",
              "      --hover-fill-color: #FFFFFF;\n",
              "      --disabled-bg-color: #3B4455;\n",
              "      --disabled-fill-color: #666;\n",
              "  }\n",
              "\n",
              "  .colab-df-quickchart {\n",
              "    background-color: var(--bg-color);\n",
              "    border: none;\n",
              "    border-radius: 50%;\n",
              "    cursor: pointer;\n",
              "    display: none;\n",
              "    fill: var(--fill-color);\n",
              "    height: 32px;\n",
              "    padding: 0;\n",
              "    width: 32px;\n",
              "  }\n",
              "\n",
              "  .colab-df-quickchart:hover {\n",
              "    background-color: var(--hover-bg-color);\n",
              "    box-shadow: 0 1px 2px rgba(60, 64, 67, 0.3), 0 1px 3px 1px rgba(60, 64, 67, 0.15);\n",
              "    fill: var(--button-hover-fill-color);\n",
              "  }\n",
              "\n",
              "  .colab-df-quickchart-complete:disabled,\n",
              "  .colab-df-quickchart-complete:disabled:hover {\n",
              "    background-color: var(--disabled-bg-color);\n",
              "    fill: var(--disabled-fill-color);\n",
              "    box-shadow: none;\n",
              "  }\n",
              "\n",
              "  .colab-df-spinner {\n",
              "    border: 2px solid var(--fill-color);\n",
              "    border-color: transparent;\n",
              "    border-bottom-color: var(--fill-color);\n",
              "    animation:\n",
              "      spin 1s steps(1) infinite;\n",
              "  }\n",
              "\n",
              "  @keyframes spin {\n",
              "    0% {\n",
              "      border-color: transparent;\n",
              "      border-bottom-color: var(--fill-color);\n",
              "      border-left-color: var(--fill-color);\n",
              "    }\n",
              "    20% {\n",
              "      border-color: transparent;\n",
              "      border-left-color: var(--fill-color);\n",
              "      border-top-color: var(--fill-color);\n",
              "    }\n",
              "    30% {\n",
              "      border-color: transparent;\n",
              "      border-left-color: var(--fill-color);\n",
              "      border-top-color: var(--fill-color);\n",
              "      border-right-color: var(--fill-color);\n",
              "    }\n",
              "    40% {\n",
              "      border-color: transparent;\n",
              "      border-right-color: var(--fill-color);\n",
              "      border-top-color: var(--fill-color);\n",
              "    }\n",
              "    60% {\n",
              "      border-color: transparent;\n",
              "      border-right-color: var(--fill-color);\n",
              "    }\n",
              "    80% {\n",
              "      border-color: transparent;\n",
              "      border-right-color: var(--fill-color);\n",
              "      border-bottom-color: var(--fill-color);\n",
              "    }\n",
              "    90% {\n",
              "      border-color: transparent;\n",
              "      border-bottom-color: var(--fill-color);\n",
              "    }\n",
              "  }\n",
              "</style>\n",
              "\n",
              "  <script>\n",
              "    async function quickchart(key) {\n",
              "      const quickchartButtonEl =\n",
              "        document.querySelector('#' + key + ' button');\n",
              "      quickchartButtonEl.disabled = true;  // To prevent multiple clicks.\n",
              "      quickchartButtonEl.classList.add('colab-df-spinner');\n",
              "      try {\n",
              "        const charts = await google.colab.kernel.invokeFunction(\n",
              "            'suggestCharts', [key], {});\n",
              "      } catch (error) {\n",
              "        console.error('Error during call to suggestCharts:', error);\n",
              "      }\n",
              "      quickchartButtonEl.classList.remove('colab-df-spinner');\n",
              "      quickchartButtonEl.classList.add('colab-df-quickchart-complete');\n",
              "    }\n",
              "    (() => {\n",
              "      let quickchartButtonEl =\n",
              "        document.querySelector('#df-e86b6bf9-8142-4f49-b09e-2d8fe7fed10f button');\n",
              "      quickchartButtonEl.style.display =\n",
              "        google.colab.kernel.accessAllowed ? 'block' : 'none';\n",
              "    })();\n",
              "  </script>\n",
              "</div>\n",
              "    </div>\n",
              "  </div>\n"
            ]
          },
          "metadata": {},
          "execution_count": 49
        }
      ]
    },
    {
      "cell_type": "code",
      "source": [
        "print('열의 개수: ',len(df.columns))\n",
        "print(df.columns)"
      ],
      "metadata": {
        "colab": {
          "base_uri": "https://localhost:8080/"
        },
        "id": "NC1H7SmpK1fN",
        "outputId": "ba95824b-b7e1-43b2-e199-c931c462b4db"
      },
      "execution_count": 50,
      "outputs": [
        {
          "output_type": "stream",
          "name": "stdout",
          "text": [
            "열의 개수:  15\n",
            "Index(['articleID', 'articleWordCount', 'byline', 'documentType', 'headline',\n",
            "       'keywords', 'multimedia', 'newDesk', 'printPage', 'pubDate',\n",
            "       'sectionName', 'snippet', 'source', 'typeOfMaterial', 'webURL'],\n",
            "      dtype='object')\n"
          ]
        }
      ]
    },
    {
      "cell_type": "code",
      "source": [
        "print(df['headline'].isnull().values.any())"
      ],
      "metadata": {
        "colab": {
          "base_uri": "https://localhost:8080/"
        },
        "id": "uQuG5u07K2tb",
        "outputId": "bf9a634f-5db0-485a-c395-be744753e09f"
      },
      "execution_count": 51,
      "outputs": [
        {
          "output_type": "stream",
          "name": "stdout",
          "text": [
            "False\n"
          ]
        }
      ]
    },
    {
      "cell_type": "code",
      "source": [
        "headline = []\n",
        "# 헤드라인의 값들을 리스트로 저장\n",
        "headline.extend(list(df.headline.values))\n",
        "headline[:5]"
      ],
      "metadata": {
        "colab": {
          "base_uri": "https://localhost:8080/"
        },
        "id": "b-NjuW3OK4HR",
        "outputId": "56490ed7-a9b5-4e6e-ccb5-690f65c30d16"
      },
      "execution_count": 52,
      "outputs": [
        {
          "output_type": "execute_result",
          "data": {
            "text/plain": [
              "['Former N.F.L. Cheerleaders’ Settlement Offer: $1 and a Meeting With Goodell',\n",
              " 'E.P.A. to Unveil a New Rule. Its Effect: Less Science in Policymaking.',\n",
              " 'The New Noma, Explained',\n",
              " 'Unknown',\n",
              " 'Unknown']"
            ]
          },
          "metadata": {},
          "execution_count": 52
        }
      ]
    },
    {
      "cell_type": "code",
      "source": [
        "print('총 샘플의 개수 : {}'.format(len(headline)))"
      ],
      "metadata": {
        "colab": {
          "base_uri": "https://localhost:8080/"
        },
        "id": "Fcy0HOgFK5A_",
        "outputId": "642e0e65-9046-444f-d3e6-8b0119ac197c"
      },
      "execution_count": 53,
      "outputs": [
        {
          "output_type": "stream",
          "name": "stdout",
          "text": [
            "총 샘플의 개수 : 1324\n"
          ]
        }
      ]
    },
    {
      "cell_type": "code",
      "source": [
        "headline = [word for word in headline if word != \"Unknown\"]\n",
        "print('노이즈값 제거 후 샘플의 개수 : {}'.format(len(headline)))"
      ],
      "metadata": {
        "colab": {
          "base_uri": "https://localhost:8080/"
        },
        "id": "owAummo1K6H4",
        "outputId": "d9efec6f-51bd-41df-e42f-871ddbdbfe2d"
      },
      "execution_count": 54,
      "outputs": [
        {
          "output_type": "stream",
          "name": "stdout",
          "text": [
            "노이즈값 제거 후 샘플의 개수 : 1214\n"
          ]
        }
      ]
    },
    {
      "cell_type": "code",
      "source": [
        "headline[:5]"
      ],
      "metadata": {
        "colab": {
          "base_uri": "https://localhost:8080/"
        },
        "id": "28Knl_gtK66U",
        "outputId": "2fbb1fcf-4340-4b72-fd0f-8a88bf7033d6"
      },
      "execution_count": 55,
      "outputs": [
        {
          "output_type": "execute_result",
          "data": {
            "text/plain": [
              "['Former N.F.L. Cheerleaders’ Settlement Offer: $1 and a Meeting With Goodell',\n",
              " 'E.P.A. to Unveil a New Rule. Its Effect: Less Science in Policymaking.',\n",
              " 'The New Noma, Explained',\n",
              " 'How a Bag of Texas Dirt  Became a Times Tradition',\n",
              " 'Is School a Place for Self-Expression?']"
            ]
          },
          "metadata": {},
          "execution_count": 55
        }
      ]
    },
    {
      "cell_type": "code",
      "source": [
        "def repreprocessing(raw_sentence):\n",
        "    preproceseed_sentence = raw_sentence.encode(\"utf8\").decode(\"ascii\",'ignore')\n",
        "    # 구두점 제거와 동시에 소문자화\n",
        "    return ''.join(word for word in preproceseed_sentence if word not in punctuation).lower()\n",
        "\n",
        "preprocessed_headline = [repreprocessing(x) for x in headline]\n",
        "preprocessed_headline[:5]"
      ],
      "metadata": {
        "colab": {
          "base_uri": "https://localhost:8080/"
        },
        "id": "s6nRAWJFK8HH",
        "outputId": "5062f29c-c0b3-43c2-b4e1-e5a3692ea842"
      },
      "execution_count": 56,
      "outputs": [
        {
          "output_type": "execute_result",
          "data": {
            "text/plain": [
              "['former nfl cheerleaders settlement offer 1 and a meeting with goodell',\n",
              " 'epa to unveil a new rule its effect less science in policymaking',\n",
              " 'the new noma explained',\n",
              " 'how a bag of texas dirt  became a times tradition',\n",
              " 'is school a place for selfexpression']"
            ]
          },
          "metadata": {},
          "execution_count": 56
        }
      ]
    },
    {
      "cell_type": "code",
      "source": [
        "tokenizer = Tokenizer()\n",
        "tokenizer.fit_on_texts(preprocessed_headline)\n",
        "vocab_size = len(tokenizer.word_index) + 1\n",
        "print('단어 집합의 크기 : %d' % vocab_size)"
      ],
      "metadata": {
        "colab": {
          "base_uri": "https://localhost:8080/"
        },
        "id": "T85yldNpK9Lz",
        "outputId": "21296830-1aed-4be5-a8f7-fe2999c0ae53"
      },
      "execution_count": 57,
      "outputs": [
        {
          "output_type": "stream",
          "name": "stdout",
          "text": [
            "단어 집합의 크기 : 3494\n"
          ]
        }
      ]
    },
    {
      "cell_type": "code",
      "source": [
        "sequences = list()\n",
        "\n",
        "for sentence in preprocessed_headline:\n",
        "\n",
        "    # 각 샘플에 대한 정수 인코딩\n",
        "    encoded = tokenizer.texts_to_sequences([sentence])[0]\n",
        "    for i in range(1, len(encoded)):\n",
        "        sequence = encoded[:i+1]\n",
        "        sequences.append(sequence)\n",
        "\n",
        "sequences[:11]"
      ],
      "metadata": {
        "colab": {
          "base_uri": "https://localhost:8080/"
        },
        "id": "9GkTkK3oK-N4",
        "outputId": "e83628b9-37c3-404a-908a-3eae5d1357a4"
      },
      "execution_count": 58,
      "outputs": [
        {
          "output_type": "execute_result",
          "data": {
            "text/plain": [
              "[[99, 269],\n",
              " [99, 269, 371],\n",
              " [99, 269, 371, 1115],\n",
              " [99, 269, 371, 1115, 582],\n",
              " [99, 269, 371, 1115, 582, 52],\n",
              " [99, 269, 371, 1115, 582, 52, 7],\n",
              " [99, 269, 371, 1115, 582, 52, 7, 2],\n",
              " [99, 269, 371, 1115, 582, 52, 7, 2, 372],\n",
              " [99, 269, 371, 1115, 582, 52, 7, 2, 372, 10],\n",
              " [99, 269, 371, 1115, 582, 52, 7, 2, 372, 10, 1116],\n",
              " [100, 3]]"
            ]
          },
          "metadata": {},
          "execution_count": 58
        }
      ]
    },
    {
      "cell_type": "code",
      "source": [
        "index_to_word = {}\n",
        "for key, value in tokenizer.word_index.items(): # 인덱스를 단어로 바꾸기 위해 index_to_word를 생성\n",
        "    index_to_word[value] = key\n",
        "\n",
        "print('빈도수 상위 582번 단어 : {}'.format(index_to_word[582]))"
      ],
      "metadata": {
        "colab": {
          "base_uri": "https://localhost:8080/"
        },
        "id": "QpKHoUvsK_U6",
        "outputId": "6b974de7-bb32-45d0-bd0e-623b32209cf7"
      },
      "execution_count": 59,
      "outputs": [
        {
          "output_type": "stream",
          "name": "stdout",
          "text": [
            "빈도수 상위 582번 단어 : offer\n"
          ]
        }
      ]
    },
    {
      "cell_type": "code",
      "source": [
        "max_len = max(len(l) for l in sequences)\n",
        "print('샘플의 최대 길이 : {}'.format(max_len))"
      ],
      "metadata": {
        "colab": {
          "base_uri": "https://localhost:8080/"
        },
        "id": "U-wkTiLvLBIN",
        "outputId": "e76fb2d5-6776-4938-8214-845d55afd672"
      },
      "execution_count": 60,
      "outputs": [
        {
          "output_type": "stream",
          "name": "stdout",
          "text": [
            "샘플의 최대 길이 : 24\n"
          ]
        }
      ]
    },
    {
      "cell_type": "code",
      "source": [
        "sequences = pad_sequences(sequences, maxlen=max_len, padding='pre')\n",
        "print(sequences[:3])"
      ],
      "metadata": {
        "colab": {
          "base_uri": "https://localhost:8080/"
        },
        "id": "IyIhxRrOLB_R",
        "outputId": "2b20ee82-7b17-4c26-db92-d98d06df10e8"
      },
      "execution_count": 61,
      "outputs": [
        {
          "output_type": "stream",
          "name": "stdout",
          "text": [
            "[[   0    0    0    0    0    0    0    0    0    0    0    0    0    0\n",
            "     0    0    0    0    0    0    0    0   99  269]\n",
            " [   0    0    0    0    0    0    0    0    0    0    0    0    0    0\n",
            "     0    0    0    0    0    0    0   99  269  371]\n",
            " [   0    0    0    0    0    0    0    0    0    0    0    0    0    0\n",
            "     0    0    0    0    0    0   99  269  371 1115]]\n"
          ]
        }
      ]
    },
    {
      "cell_type": "code",
      "source": [
        "sequences = np.array(sequences)\n",
        "X = sequences[:,:-1]\n",
        "y = sequences[:,-1]"
      ],
      "metadata": {
        "id": "NfONjH5zLDAg"
      },
      "execution_count": 62,
      "outputs": []
    },
    {
      "cell_type": "code",
      "source": [
        "print(y[:3])"
      ],
      "metadata": {
        "colab": {
          "base_uri": "https://localhost:8080/"
        },
        "id": "nYBIhW6hLEYZ",
        "outputId": "38cede15-00f5-4049-9e45-86466e22819f"
      },
      "execution_count": 63,
      "outputs": [
        {
          "output_type": "stream",
          "name": "stdout",
          "text": [
            "[ 269  371 1115]\n"
          ]
        }
      ]
    },
    {
      "cell_type": "code",
      "source": [
        "y = to_categorical(y, num_classes=vocab_size)"
      ],
      "metadata": {
        "id": "b9xRpKvZLGBq"
      },
      "execution_count": 64,
      "outputs": []
    },
    {
      "cell_type": "code",
      "source": [
        "from tensorflow.keras.models import Sequential\n",
        "from tensorflow.keras.layers import Embedding, Dense, LSTM"
      ],
      "metadata": {
        "id": "jpyUx3npLHEo"
      },
      "execution_count": 65,
      "outputs": []
    },
    {
      "cell_type": "code",
      "source": [
        "embedding_dim = 10\n",
        "hidden_units = 128\n",
        "\n",
        "model = Sequential()\n",
        "model.add(Embedding(vocab_size, embedding_dim)) #Embedding 레이어 추가\n",
        "model.add(LSTM(hidden_units)) #LSTM 레이어 추가\n",
        "model.add(Dense(vocab_size, activation='softmax')) #출력 레이어 추가\n",
        "model.compile(loss='categorical_crossentropy', optimizer='adam', metrics=['accuracy'])\n",
        "model.fit(X, y, epochs=200, verbose=2)"
      ],
      "metadata": {
        "colab": {
          "base_uri": "https://localhost:8080/"
        },
        "id": "1z36fkzWLIXY",
        "outputId": "1075b6f5-4ff3-4222-e2ca-6ca1fb3a4ff1"
      },
      "execution_count": 67,
      "outputs": [
        {
          "output_type": "stream",
          "name": "stdout",
          "text": [
            "Epoch 1/200\n",
            "244/244 - 14s - loss: 7.6610 - accuracy: 0.0285 - 14s/epoch - 58ms/step\n",
            "Epoch 2/200\n",
            "244/244 - 14s - loss: 7.1159 - accuracy: 0.0326 - 14s/epoch - 57ms/step\n",
            "Epoch 3/200\n",
            "244/244 - 9s - loss: 6.9773 - accuracy: 0.0336 - 9s/epoch - 38ms/step\n",
            "Epoch 4/200\n",
            "244/244 - 9s - loss: 6.8525 - accuracy: 0.0413 - 9s/epoch - 35ms/step\n",
            "Epoch 5/200\n",
            "244/244 - 10s - loss: 6.7090 - accuracy: 0.0469 - 10s/epoch - 39ms/step\n",
            "Epoch 6/200\n",
            "244/244 - 11s - loss: 6.5484 - accuracy: 0.0473 - 11s/epoch - 46ms/step\n",
            "Epoch 7/200\n",
            "244/244 - 13s - loss: 6.3610 - accuracy: 0.0524 - 13s/epoch - 53ms/step\n",
            "Epoch 8/200\n",
            "244/244 - 11s - loss: 6.1647 - accuracy: 0.0582 - 11s/epoch - 47ms/step\n",
            "Epoch 9/200\n",
            "244/244 - 10s - loss: 5.9686 - accuracy: 0.0604 - 10s/epoch - 41ms/step\n",
            "Epoch 10/200\n",
            "244/244 - 15s - loss: 5.7784 - accuracy: 0.0664 - 15s/epoch - 61ms/step\n",
            "Epoch 11/200\n",
            "244/244 - 12s - loss: 5.5997 - accuracy: 0.0722 - 12s/epoch - 49ms/step\n",
            "Epoch 12/200\n",
            "244/244 - 11s - loss: 5.4291 - accuracy: 0.0751 - 11s/epoch - 45ms/step\n",
            "Epoch 13/200\n",
            "244/244 - 9s - loss: 5.2690 - accuracy: 0.0819 - 9s/epoch - 38ms/step\n",
            "Epoch 14/200\n",
            "244/244 - 11s - loss: 5.1188 - accuracy: 0.0884 - 11s/epoch - 45ms/step\n",
            "Epoch 15/200\n",
            "244/244 - 14s - loss: 4.9717 - accuracy: 0.0941 - 14s/epoch - 56ms/step\n",
            "Epoch 16/200\n",
            "244/244 - 13s - loss: 4.8330 - accuracy: 0.1070 - 13s/epoch - 51ms/step\n",
            "Epoch 17/200\n",
            "244/244 - 12s - loss: 4.6982 - accuracy: 0.1152 - 12s/epoch - 49ms/step\n",
            "Epoch 18/200\n",
            "244/244 - 12s - loss: 4.5696 - accuracy: 0.1287 - 12s/epoch - 49ms/step\n",
            "Epoch 19/200\n",
            "244/244 - 12s - loss: 4.4442 - accuracy: 0.1444 - 12s/epoch - 48ms/step\n",
            "Epoch 20/200\n",
            "244/244 - 11s - loss: 4.3232 - accuracy: 0.1558 - 11s/epoch - 44ms/step\n",
            "Epoch 21/200\n",
            "244/244 - 10s - loss: 4.2027 - accuracy: 0.1799 - 10s/epoch - 41ms/step\n",
            "Epoch 22/200\n",
            "244/244 - 9s - loss: 4.0897 - accuracy: 0.1933 - 9s/epoch - 36ms/step\n",
            "Epoch 23/200\n",
            "244/244 - 10s - loss: 3.9801 - accuracy: 0.2102 - 10s/epoch - 42ms/step\n",
            "Epoch 24/200\n",
            "244/244 - 10s - loss: 3.8722 - accuracy: 0.2252 - 10s/epoch - 42ms/step\n",
            "Epoch 25/200\n",
            "244/244 - 11s - loss: 3.7699 - accuracy: 0.2472 - 11s/epoch - 45ms/step\n",
            "Epoch 26/200\n",
            "244/244 - 12s - loss: 3.6669 - accuracy: 0.2634 - 12s/epoch - 50ms/step\n",
            "Epoch 27/200\n",
            "244/244 - 14s - loss: 3.5727 - accuracy: 0.2830 - 14s/epoch - 58ms/step\n",
            "Epoch 28/200\n",
            "244/244 - 13s - loss: 3.4776 - accuracy: 0.2972 - 13s/epoch - 54ms/step\n",
            "Epoch 29/200\n",
            "244/244 - 12s - loss: 3.3853 - accuracy: 0.3136 - 12s/epoch - 48ms/step\n",
            "Epoch 30/200\n",
            "244/244 - 12s - loss: 3.2986 - accuracy: 0.3340 - 12s/epoch - 48ms/step\n",
            "Epoch 31/200\n",
            "244/244 - 12s - loss: 3.2137 - accuracy: 0.3478 - 12s/epoch - 49ms/step\n",
            "Epoch 32/200\n",
            "244/244 - 11s - loss: 3.1352 - accuracy: 0.3592 - 11s/epoch - 44ms/step\n",
            "Epoch 33/200\n",
            "244/244 - 10s - loss: 3.0582 - accuracy: 0.3764 - 10s/epoch - 41ms/step\n",
            "Epoch 34/200\n",
            "244/244 - 11s - loss: 2.9811 - accuracy: 0.3882 - 11s/epoch - 47ms/step\n",
            "Epoch 35/200\n",
            "244/244 - 12s - loss: 2.9100 - accuracy: 0.4077 - 12s/epoch - 48ms/step\n",
            "Epoch 36/200\n",
            "244/244 - 11s - loss: 2.8403 - accuracy: 0.4154 - 11s/epoch - 44ms/step\n",
            "Epoch 37/200\n",
            "244/244 - 12s - loss: 2.7710 - accuracy: 0.4242 - 12s/epoch - 51ms/step\n",
            "Epoch 38/200\n",
            "244/244 - 12s - loss: 2.7094 - accuracy: 0.4437 - 12s/epoch - 50ms/step\n",
            "Epoch 39/200\n",
            "244/244 - 11s - loss: 2.6483 - accuracy: 0.4494 - 11s/epoch - 47ms/step\n",
            "Epoch 40/200\n",
            "244/244 - 13s - loss: 2.5873 - accuracy: 0.4643 - 13s/epoch - 52ms/step\n",
            "Epoch 41/200\n",
            "244/244 - 11s - loss: 2.5261 - accuracy: 0.4761 - 11s/epoch - 44ms/step\n",
            "Epoch 42/200\n",
            "244/244 - 9s - loss: 2.4715 - accuracy: 0.4828 - 9s/epoch - 38ms/step\n",
            "Epoch 43/200\n",
            "244/244 - 10s - loss: 2.4159 - accuracy: 0.4999 - 10s/epoch - 43ms/step\n",
            "Epoch 44/200\n",
            "244/244 - 11s - loss: 2.3620 - accuracy: 0.5102 - 11s/epoch - 44ms/step\n",
            "Epoch 45/200\n",
            "244/244 - 11s - loss: 2.3107 - accuracy: 0.5162 - 11s/epoch - 47ms/step\n",
            "Epoch 46/200\n",
            "244/244 - 12s - loss: 2.2579 - accuracy: 0.5288 - 12s/epoch - 49ms/step\n",
            "Epoch 47/200\n",
            "244/244 - 13s - loss: 2.2127 - accuracy: 0.5413 - 13s/epoch - 52ms/step\n",
            "Epoch 48/200\n",
            "244/244 - 12s - loss: 2.1632 - accuracy: 0.5516 - 12s/epoch - 50ms/step\n",
            "Epoch 49/200\n",
            "244/244 - 12s - loss: 2.1160 - accuracy: 0.5590 - 12s/epoch - 50ms/step\n",
            "Epoch 50/200\n",
            "244/244 - 11s - loss: 2.0697 - accuracy: 0.5712 - 11s/epoch - 46ms/step\n",
            "Epoch 51/200\n",
            "244/244 - 9s - loss: 2.0287 - accuracy: 0.5786 - 9s/epoch - 39ms/step\n",
            "Epoch 52/200\n",
            "244/244 - 11s - loss: 1.9827 - accuracy: 0.5914 - 11s/epoch - 45ms/step\n",
            "Epoch 53/200\n",
            "244/244 - 11s - loss: 1.9430 - accuracy: 0.5937 - 11s/epoch - 46ms/step\n",
            "Epoch 54/200\n",
            "244/244 - 11s - loss: 1.8985 - accuracy: 0.6075 - 11s/epoch - 44ms/step\n",
            "Epoch 55/200\n",
            "244/244 - 10s - loss: 1.8594 - accuracy: 0.6136 - 10s/epoch - 42ms/step\n",
            "Epoch 56/200\n",
            "244/244 - 10s - loss: 1.8192 - accuracy: 0.6227 - 10s/epoch - 39ms/step\n",
            "Epoch 57/200\n",
            "244/244 - 9s - loss: 1.7805 - accuracy: 0.6314 - 9s/epoch - 36ms/step\n",
            "Epoch 58/200\n",
            "244/244 - 10s - loss: 1.7416 - accuracy: 0.6417 - 10s/epoch - 41ms/step\n",
            "Epoch 59/200\n",
            "244/244 - 10s - loss: 1.7030 - accuracy: 0.6504 - 10s/epoch - 40ms/step\n",
            "Epoch 60/200\n",
            "244/244 - 10s - loss: 1.6649 - accuracy: 0.6582 - 10s/epoch - 40ms/step\n",
            "Epoch 61/200\n",
            "244/244 - 8s - loss: 1.6313 - accuracy: 0.6618 - 8s/epoch - 34ms/step\n",
            "Epoch 62/200\n",
            "244/244 - 10s - loss: 1.5953 - accuracy: 0.6729 - 10s/epoch - 40ms/step\n",
            "Epoch 63/200\n",
            "244/244 - 10s - loss: 1.5607 - accuracy: 0.6831 - 10s/epoch - 41ms/step\n",
            "Epoch 64/200\n",
            "244/244 - 10s - loss: 1.5256 - accuracy: 0.6881 - 10s/epoch - 40ms/step\n",
            "Epoch 65/200\n",
            "244/244 - 9s - loss: 1.4934 - accuracy: 0.6941 - 9s/epoch - 35ms/step\n",
            "Epoch 66/200\n",
            "244/244 - 10s - loss: 1.4614 - accuracy: 0.7002 - 10s/epoch - 40ms/step\n",
            "Epoch 67/200\n",
            "244/244 - 10s - loss: 1.4265 - accuracy: 0.7100 - 10s/epoch - 40ms/step\n",
            "Epoch 68/200\n",
            "244/244 - 10s - loss: 1.3979 - accuracy: 0.7173 - 10s/epoch - 40ms/step\n",
            "Epoch 69/200\n",
            "244/244 - 8s - loss: 1.3660 - accuracy: 0.7231 - 8s/epoch - 34ms/step\n",
            "Epoch 70/200\n",
            "244/244 - 10s - loss: 1.3346 - accuracy: 0.7307 - 10s/epoch - 40ms/step\n",
            "Epoch 71/200\n",
            "244/244 - 10s - loss: 1.3042 - accuracy: 0.7363 - 10s/epoch - 41ms/step\n",
            "Epoch 72/200\n",
            "244/244 - 10s - loss: 1.2752 - accuracy: 0.7409 - 10s/epoch - 40ms/step\n",
            "Epoch 73/200\n",
            "244/244 - 8s - loss: 1.2474 - accuracy: 0.7475 - 8s/epoch - 35ms/step\n",
            "Epoch 74/200\n",
            "244/244 - 10s - loss: 1.2205 - accuracy: 0.7529 - 10s/epoch - 40ms/step\n",
            "Epoch 75/200\n",
            "244/244 - 10s - loss: 1.1917 - accuracy: 0.7593 - 10s/epoch - 40ms/step\n",
            "Epoch 76/200\n",
            "244/244 - 10s - loss: 1.1651 - accuracy: 0.7659 - 10s/epoch - 40ms/step\n",
            "Epoch 77/200\n",
            "244/244 - 8s - loss: 1.1388 - accuracy: 0.7725 - 8s/epoch - 34ms/step\n",
            "Epoch 78/200\n",
            "244/244 - 10s - loss: 1.1122 - accuracy: 0.7751 - 10s/epoch - 40ms/step\n",
            "Epoch 79/200\n",
            "244/244 - 10s - loss: 1.0876 - accuracy: 0.7833 - 10s/epoch - 40ms/step\n",
            "Epoch 80/200\n",
            "244/244 - 9s - loss: 1.0641 - accuracy: 0.7852 - 9s/epoch - 38ms/step\n",
            "Epoch 81/200\n",
            "244/244 - 8s - loss: 1.0375 - accuracy: 0.7897 - 8s/epoch - 34ms/step\n",
            "Epoch 82/200\n",
            "244/244 - 10s - loss: 1.0193 - accuracy: 0.7944 - 10s/epoch - 40ms/step\n",
            "Epoch 83/200\n",
            "244/244 - 10s - loss: 0.9963 - accuracy: 0.7991 - 10s/epoch - 40ms/step\n",
            "Epoch 84/200\n",
            "244/244 - 10s - loss: 0.9710 - accuracy: 0.8035 - 10s/epoch - 40ms/step\n",
            "Epoch 85/200\n",
            "244/244 - 9s - loss: 0.9478 - accuracy: 0.8067 - 9s/epoch - 35ms/step\n",
            "Epoch 86/200\n",
            "244/244 - 10s - loss: 0.9370 - accuracy: 0.8097 - 10s/epoch - 40ms/step\n",
            "Epoch 87/200\n",
            "244/244 - 10s - loss: 0.9113 - accuracy: 0.8170 - 10s/epoch - 40ms/step\n",
            "Epoch 88/200\n",
            "244/244 - 10s - loss: 0.8874 - accuracy: 0.8219 - 10s/epoch - 41ms/step\n",
            "Epoch 89/200\n",
            "244/244 - 8s - loss: 0.8665 - accuracy: 0.8228 - 8s/epoch - 34ms/step\n",
            "Epoch 90/200\n",
            "244/244 - 10s - loss: 0.8471 - accuracy: 0.8285 - 10s/epoch - 40ms/step\n",
            "Epoch 91/200\n",
            "244/244 - 10s - loss: 0.8301 - accuracy: 0.8319 - 10s/epoch - 40ms/step\n",
            "Epoch 92/200\n",
            "244/244 - 10s - loss: 0.8109 - accuracy: 0.8352 - 10s/epoch - 40ms/step\n",
            "Epoch 93/200\n",
            "244/244 - 9s - loss: 0.7936 - accuracy: 0.8394 - 9s/epoch - 35ms/step\n",
            "Epoch 94/200\n",
            "244/244 - 10s - loss: 0.7750 - accuracy: 0.8416 - 10s/epoch - 40ms/step\n",
            "Epoch 95/200\n",
            "244/244 - 10s - loss: 0.7594 - accuracy: 0.8461 - 10s/epoch - 40ms/step\n",
            "Epoch 96/200\n",
            "244/244 - 10s - loss: 0.7434 - accuracy: 0.8465 - 10s/epoch - 40ms/step\n",
            "Epoch 97/200\n",
            "244/244 - 9s - loss: 0.7245 - accuracy: 0.8516 - 9s/epoch - 36ms/step\n",
            "Epoch 98/200\n",
            "244/244 - 10s - loss: 0.7111 - accuracy: 0.8544 - 10s/epoch - 40ms/step\n",
            "Epoch 99/200\n",
            "244/244 - 10s - loss: 0.6961 - accuracy: 0.8593 - 10s/epoch - 39ms/step\n",
            "Epoch 100/200\n",
            "244/244 - 9s - loss: 0.6801 - accuracy: 0.8622 - 9s/epoch - 38ms/step\n",
            "Epoch 101/200\n",
            "244/244 - 8s - loss: 0.6645 - accuracy: 0.8621 - 8s/epoch - 34ms/step\n",
            "Epoch 102/200\n",
            "244/244 - 10s - loss: 0.6513 - accuracy: 0.8680 - 10s/epoch - 40ms/step\n",
            "Epoch 103/200\n",
            "244/244 - 10s - loss: 0.6388 - accuracy: 0.8677 - 10s/epoch - 41ms/step\n",
            "Epoch 104/200\n",
            "244/244 - 10s - loss: 0.6248 - accuracy: 0.8725 - 10s/epoch - 40ms/step\n",
            "Epoch 105/200\n",
            "244/244 - 9s - loss: 0.6111 - accuracy: 0.8754 - 9s/epoch - 35ms/step\n",
            "Epoch 106/200\n",
            "244/244 - 10s - loss: 0.5982 - accuracy: 0.8766 - 10s/epoch - 39ms/step\n",
            "Epoch 107/200\n",
            "244/244 - 10s - loss: 0.5879 - accuracy: 0.8806 - 10s/epoch - 39ms/step\n",
            "Epoch 108/200\n",
            "244/244 - 10s - loss: 0.5742 - accuracy: 0.8818 - 10s/epoch - 40ms/step\n",
            "Epoch 109/200\n",
            "244/244 - 8s - loss: 0.5631 - accuracy: 0.8852 - 8s/epoch - 34ms/step\n",
            "Epoch 110/200\n",
            "244/244 - 10s - loss: 0.5510 - accuracy: 0.8853 - 10s/epoch - 40ms/step\n",
            "Epoch 111/200\n",
            "244/244 - 10s - loss: 0.5404 - accuracy: 0.8891 - 10s/epoch - 40ms/step\n",
            "Epoch 112/200\n",
            "244/244 - 10s - loss: 0.5287 - accuracy: 0.8904 - 10s/epoch - 40ms/step\n",
            "Epoch 113/200\n",
            "244/244 - 8s - loss: 0.5212 - accuracy: 0.8940 - 8s/epoch - 34ms/step\n",
            "Epoch 114/200\n",
            "244/244 - 10s - loss: 0.5094 - accuracy: 0.8949 - 10s/epoch - 40ms/step\n",
            "Epoch 115/200\n",
            "244/244 - 10s - loss: 0.4998 - accuracy: 0.8948 - 10s/epoch - 40ms/step\n",
            "Epoch 116/200\n",
            "244/244 - 10s - loss: 0.4926 - accuracy: 0.8947 - 10s/epoch - 40ms/step\n",
            "Epoch 117/200\n",
            "244/244 - 9s - loss: 0.4810 - accuracy: 0.8975 - 9s/epoch - 36ms/step\n",
            "Epoch 118/200\n",
            "244/244 - 10s - loss: 0.4740 - accuracy: 0.8995 - 10s/epoch - 40ms/step\n",
            "Epoch 119/200\n",
            "244/244 - 10s - loss: 0.4633 - accuracy: 0.9018 - 10s/epoch - 39ms/step\n",
            "Epoch 120/200\n",
            "244/244 - 9s - loss: 0.4547 - accuracy: 0.9007 - 9s/epoch - 38ms/step\n",
            "Epoch 121/200\n",
            "244/244 - 8s - loss: 0.4471 - accuracy: 0.9035 - 8s/epoch - 32ms/step\n",
            "Epoch 122/200\n",
            "244/244 - 9s - loss: 0.4378 - accuracy: 0.9040 - 9s/epoch - 38ms/step\n",
            "Epoch 123/200\n",
            "244/244 - 9s - loss: 0.4306 - accuracy: 0.9044 - 9s/epoch - 38ms/step\n",
            "Epoch 124/200\n",
            "244/244 - 8s - loss: 0.4259 - accuracy: 0.9075 - 8s/epoch - 34ms/step\n",
            "Epoch 125/200\n",
            "244/244 - 10s - loss: 0.4170 - accuracy: 0.9077 - 10s/epoch - 41ms/step\n",
            "Epoch 126/200\n",
            "244/244 - 10s - loss: 0.4104 - accuracy: 0.9068 - 10s/epoch - 41ms/step\n",
            "Epoch 127/200\n",
            "244/244 - 10s - loss: 0.4036 - accuracy: 0.9084 - 10s/epoch - 40ms/step\n",
            "Epoch 128/200\n",
            "244/244 - 9s - loss: 0.3984 - accuracy: 0.9100 - 9s/epoch - 36ms/step\n",
            "Epoch 129/200\n",
            "244/244 - 10s - loss: 0.3914 - accuracy: 0.9088 - 10s/epoch - 39ms/step\n",
            "Epoch 130/200\n",
            "244/244 - 10s - loss: 0.3839 - accuracy: 0.9107 - 10s/epoch - 39ms/step\n",
            "Epoch 131/200\n",
            "244/244 - 10s - loss: 0.3788 - accuracy: 0.9123 - 10s/epoch - 39ms/step\n",
            "Epoch 132/200\n",
            "244/244 - 8s - loss: 0.3751 - accuracy: 0.9121 - 8s/epoch - 33ms/step\n",
            "Epoch 133/200\n",
            "244/244 - 9s - loss: 0.3710 - accuracy: 0.9099 - 9s/epoch - 38ms/step\n",
            "Epoch 134/200\n",
            "244/244 - 9s - loss: 0.3663 - accuracy: 0.9126 - 9s/epoch - 37ms/step\n",
            "Epoch 135/200\n",
            "244/244 - 10s - loss: 0.3646 - accuracy: 0.9139 - 10s/epoch - 40ms/step\n",
            "Epoch 136/200\n",
            "244/244 - 9s - loss: 0.3568 - accuracy: 0.9136 - 9s/epoch - 35ms/step\n",
            "Epoch 137/200\n",
            "244/244 - 10s - loss: 0.3515 - accuracy: 0.9136 - 10s/epoch - 40ms/step\n",
            "Epoch 138/200\n",
            "244/244 - 10s - loss: 0.3467 - accuracy: 0.9140 - 10s/epoch - 39ms/step\n",
            "Epoch 139/200\n",
            "244/244 - 9s - loss: 0.3430 - accuracy: 0.9145 - 9s/epoch - 37ms/step\n",
            "Epoch 140/200\n",
            "244/244 - 9s - loss: 0.3398 - accuracy: 0.9131 - 9s/epoch - 35ms/step\n",
            "Epoch 141/200\n",
            "244/244 - 9s - loss: 0.3362 - accuracy: 0.9155 - 9s/epoch - 38ms/step\n",
            "Epoch 142/200\n",
            "244/244 - 9s - loss: 0.3361 - accuracy: 0.9141 - 9s/epoch - 38ms/step\n",
            "Epoch 143/200\n",
            "244/244 - 9s - loss: 0.3302 - accuracy: 0.9146 - 9s/epoch - 36ms/step\n",
            "Epoch 144/200\n",
            "244/244 - 10s - loss: 0.3249 - accuracy: 0.9161 - 10s/epoch - 40ms/step\n",
            "Epoch 145/200\n",
            "244/244 - 10s - loss: 0.3214 - accuracy: 0.9148 - 10s/epoch - 39ms/step\n",
            "Epoch 146/200\n",
            "244/244 - 9s - loss: 0.3174 - accuracy: 0.9163 - 9s/epoch - 39ms/step\n",
            "Epoch 147/200\n",
            "244/244 - 8s - loss: 0.3166 - accuracy: 0.9163 - 8s/epoch - 34ms/step\n",
            "Epoch 148/200\n",
            "244/244 - 10s - loss: 0.3147 - accuracy: 0.9170 - 10s/epoch - 41ms/step\n",
            "Epoch 149/200\n",
            "244/244 - 10s - loss: 0.3123 - accuracy: 0.9163 - 10s/epoch - 40ms/step\n",
            "Epoch 150/200\n",
            "244/244 - 10s - loss: 0.3101 - accuracy: 0.9152 - 10s/epoch - 41ms/step\n",
            "Epoch 151/200\n",
            "244/244 - 10s - loss: 0.3073 - accuracy: 0.9162 - 10s/epoch - 40ms/step\n",
            "Epoch 152/200\n",
            "244/244 - 10s - loss: 0.3047 - accuracy: 0.9155 - 10s/epoch - 39ms/step\n",
            "Epoch 153/200\n",
            "244/244 - 10s - loss: 0.3039 - accuracy: 0.9164 - 10s/epoch - 41ms/step\n",
            "Epoch 154/200\n",
            "244/244 - 10s - loss: 0.3014 - accuracy: 0.9161 - 10s/epoch - 40ms/step\n",
            "Epoch 155/200\n",
            "244/244 - 10s - loss: 0.3010 - accuracy: 0.9167 - 10s/epoch - 42ms/step\n",
            "Epoch 156/200\n",
            "244/244 - 9s - loss: 0.2983 - accuracy: 0.9167 - 9s/epoch - 36ms/step\n",
            "Epoch 157/200\n",
            "244/244 - 10s - loss: 0.3027 - accuracy: 0.9166 - 10s/epoch - 39ms/step\n",
            "Epoch 158/200\n",
            "244/244 - 9s - loss: 0.2934 - accuracy: 0.9182 - 9s/epoch - 39ms/step\n",
            "Epoch 159/200\n",
            "244/244 - 10s - loss: 0.2920 - accuracy: 0.9152 - 10s/epoch - 40ms/step\n",
            "Epoch 160/200\n",
            "244/244 - 9s - loss: 0.2897 - accuracy: 0.9162 - 9s/epoch - 36ms/step\n",
            "Epoch 161/200\n",
            "244/244 - 10s - loss: 0.2878 - accuracy: 0.9167 - 10s/epoch - 41ms/step\n",
            "Epoch 162/200\n",
            "244/244 - 10s - loss: 0.2866 - accuracy: 0.9177 - 10s/epoch - 42ms/step\n",
            "Epoch 163/200\n",
            "244/244 - 10s - loss: 0.2861 - accuracy: 0.9159 - 10s/epoch - 42ms/step\n",
            "Epoch 164/200\n",
            "244/244 - 10s - loss: 0.3009 - accuracy: 0.9152 - 10s/epoch - 40ms/step\n",
            "Epoch 165/200\n",
            "244/244 - 9s - loss: 0.2954 - accuracy: 0.9150 - 9s/epoch - 38ms/step\n",
            "Epoch 166/200\n",
            "244/244 - 10s - loss: 0.2845 - accuracy: 0.9159 - 10s/epoch - 41ms/step\n",
            "Epoch 167/200\n",
            "244/244 - 10s - loss: 0.2797 - accuracy: 0.9171 - 10s/epoch - 41ms/step\n",
            "Epoch 168/200\n",
            "244/244 - 10s - loss: 0.2800 - accuracy: 0.9164 - 10s/epoch - 41ms/step\n",
            "Epoch 169/200\n",
            "244/244 - 9s - loss: 0.2788 - accuracy: 0.9150 - 9s/epoch - 36ms/step\n",
            "Epoch 170/200\n",
            "244/244 - 10s - loss: 0.2770 - accuracy: 0.9163 - 10s/epoch - 42ms/step\n",
            "Epoch 171/200\n",
            "244/244 - 11s - loss: 0.2766 - accuracy: 0.9170 - 11s/epoch - 45ms/step\n",
            "Epoch 172/200\n",
            "244/244 - 11s - loss: 0.2764 - accuracy: 0.9153 - 11s/epoch - 45ms/step\n",
            "Epoch 173/200\n",
            "244/244 - 11s - loss: 0.2794 - accuracy: 0.9166 - 11s/epoch - 45ms/step\n",
            "Epoch 174/200\n",
            "244/244 - 11s - loss: 0.3036 - accuracy: 0.9120 - 11s/epoch - 45ms/step\n",
            "Epoch 175/200\n",
            "244/244 - 12s - loss: 0.2913 - accuracy: 0.9153 - 12s/epoch - 50ms/step\n",
            "Epoch 176/200\n",
            "244/244 - 9s - loss: 0.2831 - accuracy: 0.9176 - 9s/epoch - 39ms/step\n",
            "Epoch 177/200\n",
            "244/244 - 10s - loss: 0.2781 - accuracy: 0.9180 - 10s/epoch - 41ms/step\n",
            "Epoch 178/200\n",
            "244/244 - 10s - loss: 0.2790 - accuracy: 0.9164 - 10s/epoch - 40ms/step\n",
            "Epoch 179/200\n",
            "244/244 - 10s - loss: 0.2753 - accuracy: 0.9167 - 10s/epoch - 40ms/step\n",
            "Epoch 180/200\n",
            "244/244 - 9s - loss: 0.2736 - accuracy: 0.9157 - 9s/epoch - 38ms/step\n",
            "Epoch 181/200\n",
            "244/244 - 10s - loss: 0.2720 - accuracy: 0.9167 - 10s/epoch - 41ms/step\n",
            "Epoch 182/200\n",
            "244/244 - 10s - loss: 0.2729 - accuracy: 0.9162 - 10s/epoch - 41ms/step\n",
            "Epoch 183/200\n",
            "244/244 - 12s - loss: 0.2729 - accuracy: 0.9170 - 12s/epoch - 50ms/step\n",
            "Epoch 184/200\n",
            "244/244 - 10s - loss: 0.2691 - accuracy: 0.9157 - 10s/epoch - 42ms/step\n",
            "Epoch 185/200\n",
            "244/244 - 10s - loss: 0.2704 - accuracy: 0.9162 - 10s/epoch - 40ms/step\n",
            "Epoch 186/200\n",
            "244/244 - 10s - loss: 0.2682 - accuracy: 0.9176 - 10s/epoch - 40ms/step\n",
            "Epoch 187/200\n",
            "244/244 - 10s - loss: 0.2674 - accuracy: 0.9157 - 10s/epoch - 40ms/step\n",
            "Epoch 188/200\n",
            "244/244 - 10s - loss: 0.2675 - accuracy: 0.9162 - 10s/epoch - 40ms/step\n",
            "Epoch 189/200\n",
            "244/244 - 9s - loss: 0.2657 - accuracy: 0.9180 - 9s/epoch - 36ms/step\n",
            "Epoch 190/200\n",
            "244/244 - 10s - loss: 0.2675 - accuracy: 0.9152 - 10s/epoch - 40ms/step\n",
            "Epoch 191/200\n",
            "244/244 - 10s - loss: 0.2666 - accuracy: 0.9162 - 10s/epoch - 42ms/step\n",
            "Epoch 192/200\n",
            "244/244 - 10s - loss: 0.2694 - accuracy: 0.9159 - 10s/epoch - 40ms/step\n",
            "Epoch 193/200\n",
            "244/244 - 9s - loss: 0.2760 - accuracy: 0.9138 - 9s/epoch - 36ms/step\n",
            "Epoch 194/200\n",
            "244/244 - 10s - loss: 0.2664 - accuracy: 0.9173 - 10s/epoch - 40ms/step\n",
            "Epoch 195/200\n",
            "244/244 - 10s - loss: 0.2647 - accuracy: 0.9149 - 10s/epoch - 40ms/step\n",
            "Epoch 196/200\n",
            "244/244 - 10s - loss: 0.2633 - accuracy: 0.9168 - 10s/epoch - 41ms/step\n",
            "Epoch 197/200\n",
            "244/244 - 10s - loss: 0.2626 - accuracy: 0.9166 - 10s/epoch - 40ms/step\n",
            "Epoch 198/200\n",
            "244/244 - 10s - loss: 0.2622 - accuracy: 0.9167 - 10s/epoch - 39ms/step\n",
            "Epoch 199/200\n",
            "244/244 - 10s - loss: 0.2629 - accuracy: 0.9161 - 10s/epoch - 42ms/step\n",
            "Epoch 200/200\n",
            "244/244 - 10s - loss: 0.2634 - accuracy: 0.9163 - 10s/epoch - 42ms/step\n"
          ]
        },
        {
          "output_type": "execute_result",
          "data": {
            "text/plain": [
              "<keras.src.callbacks.History at 0x7f2221203880>"
            ]
          },
          "metadata": {},
          "execution_count": 67
        }
      ]
    },
    {
      "cell_type": "code",
      "source": [
        "def sentence_generation(model, tokenizer, current_word, n): # 모델, 토크나이저, 현재 단어, 반복할 횟수\n",
        "    init_word = current_word\n",
        "    sentence = ''\n",
        "\n",
        "    # n번 반복\n",
        "    for _ in range(n):\n",
        "        encoded = tokenizer.texts_to_sequences([current_word])[0]\n",
        "        encoded = pad_sequences([encoded], maxlen=max_len-1, padding='pre')\n",
        "\n",
        "        # 입력한 X(현재 단어)에 대해서 y를 예측하고 y(예측한 단어)를 result에 저장.\n",
        "        result = model.predict(encoded, verbose=0)\n",
        "        result = np.argmax(result, axis=1)\n",
        "\n",
        "        for word, index in tokenizer.word_index.items():\n",
        "            # 만약 예측한 단어와 인덱스와 동일한 단어가 있다면\n",
        "            if index == result:\n",
        "                break\n",
        "\n",
        "        # 현재 단어 + ' ' + 예측 단어를 현재 단어로 변경\n",
        "        current_word = current_word + ' '  + word\n",
        "\n",
        "        # 예측 단어를 문장에 저장\n",
        "        sentence = sentence + ' ' + word\n",
        "\n",
        "    sentence = init_word + sentence\n",
        "    return sentence"
      ],
      "metadata": {
        "id": "mUTdVknQLJPK"
      },
      "execution_count": 68,
      "outputs": []
    },
    {
      "cell_type": "code",
      "source": [
        "print(sentence_generation(model, tokenizer, 'i', 10))"
      ],
      "metadata": {
        "colab": {
          "base_uri": "https://localhost:8080/"
        },
        "id": "5FSVrhdZLYSX",
        "outputId": "83cb59b4-a986-48b9-c815-cf00163ebb63"
      },
      "execution_count": 69,
      "outputs": [
        {
          "output_type": "stream",
          "name": "stdout",
          "text": [
            "i want to be rich and im not sorry officials say\n"
          ]
        }
      ]
    },
    {
      "cell_type": "code",
      "source": [
        "print(sentence_generation(model, tokenizer, 'how', 10))"
      ],
      "metadata": {
        "colab": {
          "base_uri": "https://localhost:8080/"
        },
        "id": "vdLFNkWDLZgv",
        "outputId": "0e7e014a-a39b-420c-f12e-bd6e12a09f1c"
      },
      "execution_count": 70,
      "outputs": [
        {
          "output_type": "stream",
          "name": "stdout",
          "text": [
            "how to make facebook more accountable to not case that gop\n"
          ]
        }
      ]
    },
    {
      "cell_type": "markdown",
      "source": [
        "##문자 단위"
      ],
      "metadata": {
        "id": "LVqt8J-ELi78"
      }
    },
    {
      "cell_type": "code",
      "source": [
        "import numpy as np\n",
        "import urllib.request\n",
        "from tensorflow.keras.utils import to_categorical\n",
        "\n",
        "# 데이터 로드\n",
        "urllib.request.urlretrieve(\"http://www.gutenberg.org/files/11/11-0.txt\", filename=\"11-0.txt\")\n",
        "\n",
        "f = open('11-0.txt', 'rb')\n",
        "sentences = []\n",
        "for sentence in f: # 데이터로부터 한 줄씩 읽는다.\n",
        "    sentence = sentence.strip() # strip()을 통해 \\r, \\n을 제거한다.\n",
        "    sentence = sentence.lower() # 소문자화.\n",
        "    sentence = sentence.decode('ascii', 'ignore') # \\xe2\\x80\\x99 등과 같은 바이트 열 제거\n",
        "    if len(sentence) > 0:\n",
        "        sentences.append(sentence)\n",
        "f.close()"
      ],
      "metadata": {
        "id": "usdL9gNWLaZt"
      },
      "execution_count": 71,
      "outputs": []
    },
    {
      "cell_type": "code",
      "source": [
        "sentences[:5]"
      ],
      "metadata": {
        "colab": {
          "base_uri": "https://localhost:8080/"
        },
        "id": "-WFRHSH-LluM",
        "outputId": "5b4212cc-a10c-4b84-d5cf-0102583b2e32"
      },
      "execution_count": 72,
      "outputs": [
        {
          "output_type": "execute_result",
          "data": {
            "text/plain": [
              "['the project gutenberg ebook of alices adventures in wonderland, by lewis carroll',\n",
              " 'this ebook is for the use of anyone anywhere in the united states and',\n",
              " 'most other parts of the world at no cost and with almost no restrictions',\n",
              " 'whatsoever. you may copy it, give it away or re-use it under the terms',\n",
              " 'of the project gutenberg license included with this ebook or online at']"
            ]
          },
          "metadata": {},
          "execution_count": 72
        }
      ]
    },
    {
      "cell_type": "code",
      "source": [
        "total_data = ' '.join(sentences)\n",
        "print('문자열의 길이 또는 총 문자의 개수: %d' % len(total_data))"
      ],
      "metadata": {
        "colab": {
          "base_uri": "https://localhost:8080/"
        },
        "id": "unae8wOFLmwt",
        "outputId": "e1b0b84d-f1bd-4c37-f1b5-fe27b5c21ff5"
      },
      "execution_count": 73,
      "outputs": [
        {
          "output_type": "stream",
          "name": "stdout",
          "text": [
            "문자열의 길이 또는 총 문자의 개수: 159484\n"
          ]
        }
      ]
    },
    {
      "cell_type": "code",
      "source": [
        "print(total_data[:200])"
      ],
      "metadata": {
        "colab": {
          "base_uri": "https://localhost:8080/"
        },
        "id": "Uo2H7vy3Lntj",
        "outputId": "ece40a78-dced-4ca2-8043-066c143d1723"
      },
      "execution_count": 74,
      "outputs": [
        {
          "output_type": "stream",
          "name": "stdout",
          "text": [
            "the project gutenberg ebook of alices adventures in wonderland, by lewis carroll this ebook is for the use of anyone anywhere in the united states and most other parts of the world at no cost and with\n"
          ]
        }
      ]
    },
    {
      "cell_type": "code",
      "source": [
        "char_vocab = sorted(list(set(total_data)))\n",
        "vocab_size = len(char_vocab)\n",
        "print ('문자 집합의 크기 : {}'.format(vocab_size))"
      ],
      "metadata": {
        "colab": {
          "base_uri": "https://localhost:8080/"
        },
        "id": "icnXQeFfLoaG",
        "outputId": "67146710-a5f5-4c93-f903-270ef92384bd"
      },
      "execution_count": 75,
      "outputs": [
        {
          "output_type": "stream",
          "name": "stdout",
          "text": [
            "문자 집합의 크기 : 56\n"
          ]
        }
      ]
    },
    {
      "cell_type": "code",
      "source": [
        "# 문자에 고유한 정수 부여\n",
        "char_to_index = dict((char, index) for index, char in enumerate(char_vocab))\n",
        "print('문자 집합 :',char_to_index)"
      ],
      "metadata": {
        "colab": {
          "base_uri": "https://localhost:8080/"
        },
        "id": "sy1GAfCiLppz",
        "outputId": "9883b74b-8d5f-4524-d8af-5497055d4884"
      },
      "execution_count": 76,
      "outputs": [
        {
          "output_type": "stream",
          "name": "stdout",
          "text": [
            "문자 집합 : {' ': 0, '!': 1, '\"': 2, '#': 3, '$': 4, '%': 5, \"'\": 6, '(': 7, ')': 8, '*': 9, ',': 10, '-': 11, '.': 12, '/': 13, '0': 14, '1': 15, '2': 16, '3': 17, '4': 18, '5': 19, '6': 20, '7': 21, '8': 22, '9': 23, ':': 24, ';': 25, '?': 26, '[': 27, ']': 28, '_': 29, 'a': 30, 'b': 31, 'c': 32, 'd': 33, 'e': 34, 'f': 35, 'g': 36, 'h': 37, 'i': 38, 'j': 39, 'k': 40, 'l': 41, 'm': 42, 'n': 43, 'o': 44, 'p': 45, 'q': 46, 'r': 47, 's': 48, 't': 49, 'u': 50, 'v': 51, 'w': 52, 'x': 53, 'y': 54, 'z': 55}\n"
          ]
        }
      ]
    },
    {
      "cell_type": "code",
      "source": [
        "index_to_char = {}\n",
        "for key, value in char_to_index.items():\n",
        "    index_to_char[value] = key"
      ],
      "metadata": {
        "id": "ssJzfzHzLqe6"
      },
      "execution_count": 77,
      "outputs": []
    },
    {
      "cell_type": "code",
      "source": [
        "# appl (입력 시퀀스) -> pple (예측해야하는 시퀀스)\n",
        "train_X = 'appl'\n",
        "train_y = 'pple'"
      ],
      "metadata": {
        "id": "ZbK1rhC4Lu_0"
      },
      "execution_count": 78,
      "outputs": []
    },
    {
      "cell_type": "code",
      "source": [
        "seq_length = 60\n",
        "\n",
        "# 문자열의 길이를 seq_length로 나누면 전처리 후 생겨날 샘플 수\n",
        "n_samples = int(np.floor((len(total_data) - 1) / seq_length))\n",
        "print ('샘플의 수 : {}'.format(n_samples))"
      ],
      "metadata": {
        "colab": {
          "base_uri": "https://localhost:8080/"
        },
        "id": "MfF0vmyULvuV",
        "outputId": "3ebef493-7a1d-4868-9947-13a9d0502e3a"
      },
      "execution_count": 79,
      "outputs": [
        {
          "output_type": "stream",
          "name": "stdout",
          "text": [
            "샘플의 수 : 2658\n"
          ]
        }
      ]
    },
    {
      "cell_type": "code",
      "source": [
        "train_X = []\n",
        "train_y = []\n",
        "\n",
        "for i in range(n_samples):\n",
        "    # 0:60 -> 60:120 -> 120:180로 loop를 돌면서 문장 샘플을 1개씩 pick.\n",
        "    X_sample = total_data[i * seq_length: (i + 1) * seq_length]\n",
        "\n",
        "    # 정수 인코딩\n",
        "    X_encoded = [char_to_index[c] for c in X_sample]\n",
        "    train_X.append(X_encoded)\n",
        "\n",
        "    # 오른쪽으로 1칸 쉬프트\n",
        "    y_sample = total_data[i * seq_length + 1: (i + 1) * seq_length + 1]\n",
        "    y_encoded = [char_to_index[c] for c in y_sample]\n",
        "    train_y.append(y_encoded)"
      ],
      "metadata": {
        "id": "lzVo0u-FLw40"
      },
      "execution_count": 80,
      "outputs": []
    },
    {
      "cell_type": "code",
      "source": [
        "print('X 데이터의 첫번째 샘플 :',train_X[0])\n",
        "print('y 데이터의 첫번째 샘플 :',train_y[0])\n",
        "print('-'*50)\n",
        "print('X 데이터의 첫번째 샘플 디코딩 :',[index_to_char[i] for i in train_X[0]])\n",
        "print('y 데이터의 첫번째 샘플 디코딩 :',[index_to_char[i] for i in train_y[0]])"
      ],
      "metadata": {
        "colab": {
          "base_uri": "https://localhost:8080/"
        },
        "id": "Fyec-KiELyPm",
        "outputId": "e17b3210-9e38-4714-b8c8-46de069632a5"
      },
      "execution_count": 81,
      "outputs": [
        {
          "output_type": "stream",
          "name": "stdout",
          "text": [
            "X 데이터의 첫번째 샘플 : [49, 37, 34, 0, 45, 47, 44, 39, 34, 32, 49, 0, 36, 50, 49, 34, 43, 31, 34, 47, 36, 0, 34, 31, 44, 44, 40, 0, 44, 35, 0, 30, 41, 38, 32, 34, 48, 0, 30, 33, 51, 34, 43, 49, 50, 47, 34, 48, 0, 38, 43, 0, 52, 44, 43, 33, 34, 47, 41, 30]\n",
            "y 데이터의 첫번째 샘플 : [37, 34, 0, 45, 47, 44, 39, 34, 32, 49, 0, 36, 50, 49, 34, 43, 31, 34, 47, 36, 0, 34, 31, 44, 44, 40, 0, 44, 35, 0, 30, 41, 38, 32, 34, 48, 0, 30, 33, 51, 34, 43, 49, 50, 47, 34, 48, 0, 38, 43, 0, 52, 44, 43, 33, 34, 47, 41, 30, 43]\n",
            "--------------------------------------------------\n",
            "X 데이터의 첫번째 샘플 디코딩 : ['t', 'h', 'e', ' ', 'p', 'r', 'o', 'j', 'e', 'c', 't', ' ', 'g', 'u', 't', 'e', 'n', 'b', 'e', 'r', 'g', ' ', 'e', 'b', 'o', 'o', 'k', ' ', 'o', 'f', ' ', 'a', 'l', 'i', 'c', 'e', 's', ' ', 'a', 'd', 'v', 'e', 'n', 't', 'u', 'r', 'e', 's', ' ', 'i', 'n', ' ', 'w', 'o', 'n', 'd', 'e', 'r', 'l', 'a']\n",
            "y 데이터의 첫번째 샘플 디코딩 : ['h', 'e', ' ', 'p', 'r', 'o', 'j', 'e', 'c', 't', ' ', 'g', 'u', 't', 'e', 'n', 'b', 'e', 'r', 'g', ' ', 'e', 'b', 'o', 'o', 'k', ' ', 'o', 'f', ' ', 'a', 'l', 'i', 'c', 'e', 's', ' ', 'a', 'd', 'v', 'e', 'n', 't', 'u', 'r', 'e', 's', ' ', 'i', 'n', ' ', 'w', 'o', 'n', 'd', 'e', 'r', 'l', 'a', 'n']\n"
          ]
        }
      ]
    },
    {
      "cell_type": "code",
      "source": [
        "print(train_X[1])"
      ],
      "metadata": {
        "colab": {
          "base_uri": "https://localhost:8080/"
        },
        "id": "hfR0rxBqLzYZ",
        "outputId": "e2d03542-258a-4c86-ff59-c901086e2aa9"
      },
      "execution_count": 82,
      "outputs": [
        {
          "output_type": "stream",
          "name": "stdout",
          "text": [
            "[43, 33, 10, 0, 31, 54, 0, 41, 34, 52, 38, 48, 0, 32, 30, 47, 47, 44, 41, 41, 0, 49, 37, 38, 48, 0, 34, 31, 44, 44, 40, 0, 38, 48, 0, 35, 44, 47, 0, 49, 37, 34, 0, 50, 48, 34, 0, 44, 35, 0, 30, 43, 54, 44, 43, 34, 0, 30, 43, 54]\n"
          ]
        }
      ]
    },
    {
      "cell_type": "code",
      "source": [
        "print(train_y[1])"
      ],
      "metadata": {
        "colab": {
          "base_uri": "https://localhost:8080/"
        },
        "id": "lpQJ1KaWL0aa",
        "outputId": "3075c75d-6922-44c2-948e-22f438137536"
      },
      "execution_count": 83,
      "outputs": [
        {
          "output_type": "stream",
          "name": "stdout",
          "text": [
            "[33, 10, 0, 31, 54, 0, 41, 34, 52, 38, 48, 0, 32, 30, 47, 47, 44, 41, 41, 0, 49, 37, 38, 48, 0, 34, 31, 44, 44, 40, 0, 38, 48, 0, 35, 44, 47, 0, 49, 37, 34, 0, 50, 48, 34, 0, 44, 35, 0, 30, 43, 54, 44, 43, 34, 0, 30, 43, 54, 52]\n"
          ]
        }
      ]
    },
    {
      "cell_type": "code",
      "source": [
        "train_X = to_categorical(train_X)\n",
        "train_y = to_categorical(train_y)\n",
        "\n",
        "print('train_X의 크기(shape) : {}'.format(train_X.shape)) # 원-핫 인코딩\n",
        "print('train_y의 크기(shape) : {}'.format(train_y.shape)) # 원-핫 인코딩"
      ],
      "metadata": {
        "colab": {
          "base_uri": "https://localhost:8080/"
        },
        "id": "lS0kEyumL1MF",
        "outputId": "ba991f90-f728-41e0-dd85-63ddf64e4fe6"
      },
      "execution_count": 84,
      "outputs": [
        {
          "output_type": "stream",
          "name": "stdout",
          "text": [
            "train_X의 크기(shape) : (2658, 60, 56)\n",
            "train_y의 크기(shape) : (2658, 60, 56)\n"
          ]
        }
      ]
    },
    {
      "cell_type": "code",
      "source": [
        "from tensorflow.keras.models import Sequential\n",
        "from tensorflow.keras.layers import Dense, LSTM, TimeDistributed\n",
        "\n",
        "hidden_units = 256\n",
        "\n",
        "model = Sequential()\n",
        "model.add(LSTM(hidden_units, input_shape=(None, train_X.shape[2]), return_sequences=True))\n",
        "model.add(LSTM(hidden_units, return_sequences=True))\n",
        "model.add(TimeDistributed(Dense(vocab_size, activation='softmax')))\n",
        "\n",
        "model.compile(loss='categorical_crossentropy', optimizer='adam', metrics=['accuracy'])\n",
        "model.fit(train_X, train_y, epochs=80, verbose=2)"
      ],
      "metadata": {
        "colab": {
          "base_uri": "https://localhost:8080/"
        },
        "id": "y9ho7n1WL2X_",
        "outputId": "4d326c52-73ec-4a80-933e-36bdbcb70113"
      },
      "execution_count": 85,
      "outputs": [
        {
          "output_type": "stream",
          "name": "stdout",
          "text": [
            "Epoch 1/80\n",
            "84/84 - 41s - loss: 3.0849 - accuracy: 0.1801 - 41s/epoch - 489ms/step\n",
            "Epoch 2/80\n",
            "84/84 - 37s - loss: 2.7539 - accuracy: 0.2430 - 37s/epoch - 435ms/step\n",
            "Epoch 3/80\n",
            "84/84 - 43s - loss: 2.3984 - accuracy: 0.3256 - 43s/epoch - 511ms/step\n",
            "Epoch 4/80\n",
            "84/84 - 37s - loss: 2.2544 - accuracy: 0.3589 - 37s/epoch - 441ms/step\n",
            "Epoch 5/80\n",
            "84/84 - 37s - loss: 2.1455 - accuracy: 0.3871 - 37s/epoch - 435ms/step\n",
            "Epoch 6/80\n",
            "84/84 - 35s - loss: 2.0552 - accuracy: 0.4090 - 35s/epoch - 416ms/step\n",
            "Epoch 7/80\n",
            "84/84 - 35s - loss: 1.9799 - accuracy: 0.4279 - 35s/epoch - 417ms/step\n",
            "Epoch 8/80\n",
            "84/84 - 35s - loss: 1.9108 - accuracy: 0.4470 - 35s/epoch - 418ms/step\n",
            "Epoch 9/80\n",
            "84/84 - 35s - loss: 1.8500 - accuracy: 0.4635 - 35s/epoch - 411ms/step\n",
            "Epoch 10/80\n",
            "84/84 - 35s - loss: 1.7925 - accuracy: 0.4794 - 35s/epoch - 414ms/step\n",
            "Epoch 11/80\n",
            "84/84 - 33s - loss: 1.7419 - accuracy: 0.4924 - 33s/epoch - 398ms/step\n",
            "Epoch 12/80\n",
            "84/84 - 34s - loss: 1.6945 - accuracy: 0.5058 - 34s/epoch - 410ms/step\n",
            "Epoch 13/80\n",
            "84/84 - 34s - loss: 1.6527 - accuracy: 0.5168 - 34s/epoch - 410ms/step\n",
            "Epoch 14/80\n",
            "84/84 - 34s - loss: 1.6129 - accuracy: 0.5272 - 34s/epoch - 403ms/step\n",
            "Epoch 15/80\n",
            "84/84 - 35s - loss: 1.5768 - accuracy: 0.5353 - 35s/epoch - 413ms/step\n",
            "Epoch 16/80\n",
            "84/84 - 34s - loss: 1.5388 - accuracy: 0.5465 - 34s/epoch - 404ms/step\n",
            "Epoch 17/80\n",
            "84/84 - 33s - loss: 1.5036 - accuracy: 0.5559 - 33s/epoch - 392ms/step\n",
            "Epoch 18/80\n",
            "84/84 - 34s - loss: 1.4716 - accuracy: 0.5645 - 34s/epoch - 403ms/step\n",
            "Epoch 19/80\n",
            "84/84 - 34s - loss: 1.4386 - accuracy: 0.5739 - 34s/epoch - 406ms/step\n",
            "Epoch 20/80\n",
            "84/84 - 34s - loss: 1.4054 - accuracy: 0.5834 - 34s/epoch - 404ms/step\n",
            "Epoch 21/80\n",
            "84/84 - 34s - loss: 1.3777 - accuracy: 0.5907 - 34s/epoch - 410ms/step\n",
            "Epoch 22/80\n",
            "84/84 - 35s - loss: 1.3494 - accuracy: 0.5992 - 35s/epoch - 417ms/step\n",
            "Epoch 23/80\n",
            "84/84 - 35s - loss: 1.3155 - accuracy: 0.6086 - 35s/epoch - 414ms/step\n",
            "Epoch 24/80\n",
            "84/84 - 34s - loss: 1.2879 - accuracy: 0.6171 - 34s/epoch - 405ms/step\n",
            "Epoch 25/80\n",
            "84/84 - 35s - loss: 1.2589 - accuracy: 0.6245 - 35s/epoch - 416ms/step\n",
            "Epoch 26/80\n",
            "84/84 - 35s - loss: 1.2279 - accuracy: 0.6337 - 35s/epoch - 412ms/step\n",
            "Epoch 27/80\n",
            "84/84 - 34s - loss: 1.2017 - accuracy: 0.6406 - 34s/epoch - 406ms/step\n",
            "Epoch 28/80\n",
            "84/84 - 34s - loss: 1.1721 - accuracy: 0.6490 - 34s/epoch - 401ms/step\n",
            "Epoch 29/80\n",
            "84/84 - 34s - loss: 1.1490 - accuracy: 0.6554 - 34s/epoch - 400ms/step\n",
            "Epoch 30/80\n",
            "84/84 - 33s - loss: 1.1116 - accuracy: 0.6680 - 33s/epoch - 397ms/step\n",
            "Epoch 31/80\n",
            "84/84 - 33s - loss: 1.0802 - accuracy: 0.6774 - 33s/epoch - 389ms/step\n",
            "Epoch 32/80\n",
            "84/84 - 34s - loss: 1.0582 - accuracy: 0.6827 - 34s/epoch - 401ms/step\n",
            "Epoch 33/80\n",
            "84/84 - 33s - loss: 1.0268 - accuracy: 0.6934 - 33s/epoch - 393ms/step\n",
            "Epoch 34/80\n",
            "84/84 - 33s - loss: 1.0032 - accuracy: 0.6996 - 33s/epoch - 396ms/step\n",
            "Epoch 35/80\n",
            "84/84 - 33s - loss: 0.9758 - accuracy: 0.7089 - 33s/epoch - 398ms/step\n",
            "Epoch 36/80\n",
            "84/84 - 32s - loss: 0.9431 - accuracy: 0.7185 - 32s/epoch - 386ms/step\n",
            "Epoch 37/80\n",
            "84/84 - 33s - loss: 0.9170 - accuracy: 0.7271 - 33s/epoch - 398ms/step\n",
            "Epoch 38/80\n",
            "84/84 - 33s - loss: 0.8822 - accuracy: 0.7380 - 33s/epoch - 397ms/step\n",
            "Epoch 39/80\n",
            "84/84 - 32s - loss: 0.8532 - accuracy: 0.7473 - 32s/epoch - 386ms/step\n",
            "Epoch 40/80\n",
            "84/84 - 34s - loss: 0.8275 - accuracy: 0.7552 - 34s/epoch - 399ms/step\n",
            "Epoch 41/80\n",
            "84/84 - 33s - loss: 0.8021 - accuracy: 0.7627 - 33s/epoch - 387ms/step\n",
            "Epoch 42/80\n",
            "84/84 - 33s - loss: 0.7775 - accuracy: 0.7710 - 33s/epoch - 398ms/step\n",
            "Epoch 43/80\n",
            "84/84 - 33s - loss: 0.7573 - accuracy: 0.7769 - 33s/epoch - 399ms/step\n",
            "Epoch 44/80\n",
            "84/84 - 33s - loss: 0.7234 - accuracy: 0.7882 - 33s/epoch - 387ms/step\n",
            "Epoch 45/80\n",
            "84/84 - 34s - loss: 0.7052 - accuracy: 0.7934 - 34s/epoch - 400ms/step\n",
            "Epoch 46/80\n",
            "84/84 - 34s - loss: 0.6849 - accuracy: 0.7999 - 34s/epoch - 400ms/step\n",
            "Epoch 47/80\n",
            "84/84 - 32s - loss: 0.6521 - accuracy: 0.8105 - 32s/epoch - 385ms/step\n",
            "Epoch 48/80\n",
            "84/84 - 34s - loss: 0.6379 - accuracy: 0.8141 - 34s/epoch - 399ms/step\n",
            "Epoch 49/80\n",
            "84/84 - 32s - loss: 0.6157 - accuracy: 0.8204 - 32s/epoch - 386ms/step\n",
            "Epoch 50/80\n",
            "84/84 - 33s - loss: 0.5815 - accuracy: 0.8331 - 33s/epoch - 398ms/step\n",
            "Epoch 51/80\n",
            "84/84 - 33s - loss: 0.5578 - accuracy: 0.8405 - 33s/epoch - 397ms/step\n",
            "Epoch 52/80\n",
            "84/84 - 32s - loss: 0.5402 - accuracy: 0.8470 - 32s/epoch - 386ms/step\n",
            "Epoch 53/80\n",
            "84/84 - 33s - loss: 0.5142 - accuracy: 0.8556 - 33s/epoch - 396ms/step\n",
            "Epoch 54/80\n",
            "84/84 - 33s - loss: 0.5078 - accuracy: 0.8564 - 33s/epoch - 391ms/step\n",
            "Epoch 55/80\n",
            "84/84 - 33s - loss: 0.4774 - accuracy: 0.8667 - 33s/epoch - 391ms/step\n",
            "Epoch 56/80\n",
            "84/84 - 34s - loss: 0.4619 - accuracy: 0.8713 - 34s/epoch - 400ms/step\n",
            "Epoch 57/80\n",
            "84/84 - 32s - loss: 0.4363 - accuracy: 0.8807 - 32s/epoch - 385ms/step\n",
            "Epoch 58/80\n",
            "84/84 - 33s - loss: 0.4503 - accuracy: 0.8721 - 33s/epoch - 398ms/step\n",
            "Epoch 59/80\n",
            "84/84 - 33s - loss: 0.4173 - accuracy: 0.8857 - 33s/epoch - 399ms/step\n",
            "Epoch 60/80\n",
            "84/84 - 32s - loss: 0.3864 - accuracy: 0.8966 - 32s/epoch - 387ms/step\n",
            "Epoch 61/80\n",
            "84/84 - 34s - loss: 0.3643 - accuracy: 0.9049 - 34s/epoch - 400ms/step\n",
            "Epoch 62/80\n",
            "84/84 - 33s - loss: 0.3574 - accuracy: 0.9057 - 33s/epoch - 390ms/step\n",
            "Epoch 63/80\n",
            "84/84 - 33s - loss: 0.3354 - accuracy: 0.9137 - 33s/epoch - 395ms/step\n",
            "Epoch 64/80\n",
            "84/84 - 34s - loss: 0.3248 - accuracy: 0.9165 - 34s/epoch - 399ms/step\n",
            "Epoch 65/80\n",
            "84/84 - 33s - loss: 0.3105 - accuracy: 0.9212 - 33s/epoch - 387ms/step\n",
            "Epoch 66/80\n",
            "84/84 - 34s - loss: 0.2914 - accuracy: 0.9283 - 34s/epoch - 399ms/step\n",
            "Epoch 67/80\n",
            "84/84 - 33s - loss: 0.2981 - accuracy: 0.9232 - 33s/epoch - 396ms/step\n",
            "Epoch 68/80\n",
            "84/84 - 32s - loss: 0.2963 - accuracy: 0.9226 - 32s/epoch - 386ms/step\n",
            "Epoch 69/80\n",
            "84/84 - 33s - loss: 0.2733 - accuracy: 0.9314 - 33s/epoch - 398ms/step\n",
            "Epoch 70/80\n",
            "84/84 - 33s - loss: 0.2868 - accuracy: 0.9240 - 33s/epoch - 389ms/step\n",
            "Epoch 71/80\n",
            "84/84 - 33s - loss: 0.2475 - accuracy: 0.9393 - 33s/epoch - 397ms/step\n",
            "Epoch 72/80\n",
            "84/84 - 33s - loss: 0.2390 - accuracy: 0.9415 - 33s/epoch - 399ms/step\n",
            "Epoch 73/80\n",
            "84/84 - 32s - loss: 0.2263 - accuracy: 0.9456 - 32s/epoch - 387ms/step\n",
            "Epoch 74/80\n",
            "84/84 - 33s - loss: 0.2115 - accuracy: 0.9500 - 33s/epoch - 397ms/step\n",
            "Epoch 75/80\n",
            "84/84 - 33s - loss: 0.2095 - accuracy: 0.9504 - 33s/epoch - 398ms/step\n",
            "Epoch 76/80\n",
            "84/84 - 33s - loss: 0.2336 - accuracy: 0.9393 - 33s/epoch - 388ms/step\n",
            "Epoch 77/80\n",
            "84/84 - 34s - loss: 0.2079 - accuracy: 0.9489 - 34s/epoch - 400ms/step\n",
            "Epoch 78/80\n",
            "84/84 - 33s - loss: 0.1959 - accuracy: 0.9529 - 33s/epoch - 391ms/step\n",
            "Epoch 79/80\n",
            "84/84 - 33s - loss: 0.1845 - accuracy: 0.9558 - 33s/epoch - 394ms/step\n",
            "Epoch 80/80\n",
            "84/84 - 34s - loss: 0.1705 - accuracy: 0.9592 - 34s/epoch - 400ms/step\n"
          ]
        },
        {
          "output_type": "execute_result",
          "data": {
            "text/plain": [
              "<keras.src.callbacks.History at 0x7f2207e08460>"
            ]
          },
          "metadata": {},
          "execution_count": 85
        }
      ]
    },
    {
      "cell_type": "code",
      "source": [
        "def sentence_generation(model, length):\n",
        "    # 문자에 대한 랜덤한 정수 생성\n",
        "    ix = [np.random.randint(vocab_size)]\n",
        "\n",
        "    # 랜덤한 정수로부터 맵핑되는 문자 생성\n",
        "    y_char = [index_to_char[ix[-1]]]\n",
        "    print(ix[-1],'번 문자',y_char[-1],'로 예측을 시작!')\n",
        "\n",
        "    # (1, length, 55) 크기의 X 생성. 즉, LSTM의 입력 시퀀스 생성\n",
        "    X = np.zeros((1, length, vocab_size))\n",
        "\n",
        "    for i in range(length):\n",
        "        # X[0][i][예측한 문자의 인덱스] = 1, 즉, 예측 문자를 다음 입력 시퀀스에 추가\n",
        "        X[0][i][ix[-1]] = 1\n",
        "        print(index_to_char[ix[-1]], end=\"\")\n",
        "        ix = np.argmax(model.predict(X[:, :i+1, :])[0], 1)\n",
        "        y_char.append(index_to_char[ix[-1]])\n",
        "    return ('').join(y_char)"
      ],
      "metadata": {
        "id": "3giF5BXsL3q4"
      },
      "execution_count": 86,
      "outputs": []
    },
    {
      "cell_type": "code",
      "source": [
        "result = sentence_generation(model, 100)\n",
        "print(result)"
      ],
      "metadata": {
        "colab": {
          "base_uri": "https://localhost:8080/"
        },
        "id": "Yhzh7A0RL4zU",
        "outputId": "69a3b539-df1b-4e57-9cad-2e984e4eb702"
      },
      "execution_count": 87,
      "outputs": [
        {
          "output_type": "stream",
          "name": "stdout",
          "text": [
            "25 번 문자 ; 로 예측을 시작!\n",
            "1/1 [==============================] - 1s 759ms/step\n",
            "1/1 [==============================] - 1s 769ms/step\n",
            "1/1 [==============================] - 0s 22ms/step\n",
            "1/1 [==============================] - 0s 26ms/step\n",
            "1/1 [==============================] - 0s 24ms/step\n",
            "1/1 [==============================] - 0s 25ms/step\n",
            "1/1 [==============================] - 0s 23ms/step\n",
            "1/1 [==============================] - 0s 32ms/step\n",
            "1/1 [==============================] - 0s 26ms/step\n",
            "1/1 [==============================] - 0s 29ms/step\n",
            "1/1 [==============================] - 0s 24ms/step\n",
            "1/1 [==============================] - 0s 25ms/step\n",
            "1/1 [==============================] - 0s 28ms/step\n",
            "1/1 [==============================] - 0s 26ms/step\n",
            "1/1 [==============================] - 0s 26ms/step\n",
            "1/1 [==============================] - 0s 30ms/step\n",
            "1/1 [==============================] - 0s 29ms/step\n",
            "1/1 [==============================] - 0s 30ms/step\n",
            "1/1 [==============================] - 0s 28ms/step\n",
            "1/1 [==============================] - 0s 25ms/step\n",
            "1/1 [==============================] - 0s 26ms/step\n",
            "1/1 [==============================] - 0s 28ms/step\n",
            "1/1 [==============================] - 0s 25ms/step\n",
            "1/1 [==============================] - 0s 35ms/step\n",
            "1/1 [==============================] - 0s 26ms/step\n",
            "1/1 [==============================] - 0s 33ms/step\n",
            "1/1 [==============================] - 0s 27ms/step\n",
            "1/1 [==============================] - 0s 32ms/step\n",
            "1/1 [==============================] - 0s 28ms/step\n",
            "1/1 [==============================] - 0s 30ms/step\n",
            "1/1 [==============================] - 0s 30ms/step\n",
            "1/1 [==============================] - 0s 27ms/step\n",
            "1/1 [==============================] - 0s 27ms/step\n",
            "1/1 [==============================] - 0s 27ms/step\n",
            "1/1 [==============================] - 0s 32ms/step\n",
            "1/1 [==============================] - 0s 32ms/step\n",
            "1/1 [==============================] - 0s 32ms/step\n",
            "1/1 [==============================] - 0s 28ms/step\n",
            "1/1 [==============================] - 0s 30ms/step\n",
            "1/1 [==============================] - 0s 28ms/step\n",
            "1/1 [==============================] - 0s 30ms/step\n",
            "1/1 [==============================] - 0s 29ms/step\n",
            "1/1 [==============================] - 0s 31ms/step\n",
            "1/1 [==============================] - 0s 29ms/step\n",
            "1/1 [==============================] - 0s 30ms/step\n",
            "1/1 [==============================] - 0s 37ms/step\n",
            "1/1 [==============================] - 0s 32ms/step\n",
            "1/1 [==============================] - 0s 34ms/step\n",
            "1/1 [==============================] - 0s 33ms/step\n",
            "1/1 [==============================] - 0s 32ms/step\n",
            "1/1 [==============================] - 0s 33ms/step\n",
            "1/1 [==============================] - 0s 32ms/step\n",
            "1/1 [==============================] - 0s 44ms/step\n",
            "1/1 [==============================] - 0s 33ms/step\n",
            "1/1 [==============================] - 0s 34ms/step\n",
            "1/1 [==============================] - 0s 34ms/step\n",
            "1/1 [==============================] - 0s 34ms/step\n",
            "1/1 [==============================] - 0s 39ms/step\n",
            "1/1 [==============================] - 0s 34ms/step\n",
            "1/1 [==============================] - 0s 34ms/step\n",
            "1/1 [==============================] - 0s 39ms/step\n",
            "1/1 [==============================] - 0s 37ms/step\n",
            "1/1 [==============================] - 0s 35ms/step\n",
            "1/1 [==============================] - 0s 43ms/step\n",
            "1/1 [==============================] - 0s 40ms/step\n",
            "1/1 [==============================] - 0s 34ms/step\n",
            "1/1 [==============================] - 0s 35ms/step\n",
            "1/1 [==============================] - 0s 37ms/step\n",
            "1/1 [==============================] - 0s 39ms/step\n",
            "1/1 [==============================] - 0s 47ms/step\n",
            "1/1 [==============================] - 0s 39ms/step\n",
            "1/1 [==============================] - 0s 39ms/step\n",
            "1/1 [==============================] - 0s 42ms/step\n",
            "1/1 [==============================] - 0s 41ms/step\n",
            "1/1 [==============================] - 0s 63ms/step\n",
            "1/1 [==============================] - 0s 63ms/step\n",
            "1/1 [==============================] - 0s 64ms/step\n",
            "1/1 [==============================] - 0s 57ms/step\n",
            "1/1 [==============================] - 0s 65ms/step\n",
            "1/1 [==============================] - 0s 55ms/step\n",
            "1/1 [==============================] - 0s 57ms/step\n",
            "1/1 [==============================] - 0s 62ms/step\n",
            "1/1 [==============================] - 0s 64ms/step\n",
            "1/1 [==============================] - 0s 64ms/step\n",
            "1/1 [==============================] - 0s 57ms/step\n",
            "1/1 [==============================] - 0s 64ms/step\n",
            "1/1 [==============================] - 0s 56ms/step\n",
            "1/1 [==============================] - 0s 59ms/step\n",
            "1/1 [==============================] - 0s 58ms/step\n",
            "1/1 [==============================] - 0s 63ms/step\n",
            "1/1 [==============================] - 0s 60ms/step\n",
            "1/1 [==============================] - 0s 66ms/step\n",
            "1/1 [==============================] - 0s 62ms/step\n",
            "1/1 [==============================] - 0s 42ms/step\n",
            "1/1 [==============================] - 0s 48ms/step\n",
            "1/1 [==============================] - 0s 47ms/step\n",
            "1/1 [==============================] - 0s 44ms/step\n",
            "1/1 [==============================] - 0s 47ms/step\n",
            "1/1 [==============================] - 0s 53ms/step\n",
            "1/1 [==============================] - 0s 42ms/step\n",
            "; they all returned from him to you, though they were mine beast all silence. and i had the white rab\n"
          ]
        }
      ]
    },
    {
      "cell_type": "code",
      "source": [
        "import numpy as np\n",
        "from tensorflow.keras.utils import to_categorical"
      ],
      "metadata": {
        "id": "uripXyl_L6EL"
      },
      "execution_count": 88,
      "outputs": []
    },
    {
      "cell_type": "code",
      "source": [
        "raw_text = '''\n",
        "I get on with life as a programmer,\n",
        "I like to contemplate beer.\n",
        "But when I start to daydream,\n",
        "My mind turns straight to wine.\n",
        "\n",
        "Do I love wine more than beer?\n",
        "\n",
        "I like to use words about beer.\n",
        "But when I stop my talking,\n",
        "My mind turns straight to wine.\n",
        "\n",
        "I hate bugs and errors.\n",
        "But I just think back to wine,\n",
        "And I'm happy once again.\n",
        "\n",
        "I like to hang out with programming and deep learning.\n",
        "But when left alone,\n",
        "My mind turns straight to wine.\n",
        "'''"
      ],
      "metadata": {
        "id": "p5L_696zL7br"
      },
      "execution_count": 89,
      "outputs": []
    },
    {
      "cell_type": "code",
      "source": [
        "tokens = raw_text.split()\n",
        "raw_text = ' '.join(tokens)\n",
        "print(raw_text)"
      ],
      "metadata": {
        "colab": {
          "base_uri": "https://localhost:8080/"
        },
        "id": "ldFjZ-5vL8MX",
        "outputId": "cab4f510-a409-4524-e3cd-351b7b57c0a6"
      },
      "execution_count": 90,
      "outputs": [
        {
          "output_type": "stream",
          "name": "stdout",
          "text": [
            "I get on with life as a programmer, I like to contemplate beer. But when I start to daydream, My mind turns straight to wine. Do I love wine more than beer? I like to use words about beer. But when I stop my talking, My mind turns straight to wine. I hate bugs and errors. But I just think back to wine, And I'm happy once again. I like to hang out with programming and deep learning. But when left alone, My mind turns straight to wine.\n"
          ]
        }
      ]
    },
    {
      "cell_type": "code",
      "source": [
        "# 중복을 제거한 문자 집합 생성\n",
        "char_vocab = sorted(list(set(raw_text)))\n",
        "vocab_size = len(char_vocab)\n",
        "print('문자 집합 :',char_vocab)\n",
        "print ('문자 집합의 크기 : {}'.format(vocab_size))"
      ],
      "metadata": {
        "colab": {
          "base_uri": "https://localhost:8080/"
        },
        "id": "KwktyJCJL9Te",
        "outputId": "0db6b2d6-911a-4ef4-a552-9a7574786037"
      },
      "execution_count": 91,
      "outputs": [
        {
          "output_type": "stream",
          "name": "stdout",
          "text": [
            "문자 집합 : [' ', \"'\", ',', '.', '?', 'A', 'B', 'D', 'I', 'M', 'a', 'b', 'c', 'd', 'e', 'f', 'g', 'h', 'i', 'j', 'k', 'l', 'm', 'n', 'o', 'p', 'r', 's', 't', 'u', 'v', 'w', 'y']\n",
            "문자 집합의 크기 : 33\n"
          ]
        }
      ]
    },
    {
      "cell_type": "code",
      "source": [
        "char_to_index = dict((char, index) for index, char in enumerate(char_vocab)) # 문자에 고유한 정수 인덱스 부여\n",
        "print(char_to_index)"
      ],
      "metadata": {
        "colab": {
          "base_uri": "https://localhost:8080/"
        },
        "id": "Pc53BqeKL-VL",
        "outputId": "0b50c139-8e96-4127-afdb-dd9c48922163"
      },
      "execution_count": 92,
      "outputs": [
        {
          "output_type": "stream",
          "name": "stdout",
          "text": [
            "{' ': 0, \"'\": 1, ',': 2, '.': 3, '?': 4, 'A': 5, 'B': 6, 'D': 7, 'I': 8, 'M': 9, 'a': 10, 'b': 11, 'c': 12, 'd': 13, 'e': 14, 'f': 15, 'g': 16, 'h': 17, 'i': 18, 'j': 19, 'k': 20, 'l': 21, 'm': 22, 'n': 23, 'o': 24, 'p': 25, 'r': 26, 's': 27, 't': 28, 'u': 29, 'v': 30, 'w': 31, 'y': 32}\n"
          ]
        }
      ]
    },
    {
      "cell_type": "code",
      "source": [
        "length = 11\n",
        "sequences = []\n",
        "for i in range(length, len(raw_text)):\n",
        "    seq = raw_text[i-length:i] # 길이 11의 문자열을 지속적으로 만든다.\n",
        "    sequences.append(seq)\n",
        "print('총 훈련 샘플의 수: %d' % len(sequences))"
      ],
      "metadata": {
        "colab": {
          "base_uri": "https://localhost:8080/"
        },
        "id": "0GKXCbOtL_Xf",
        "outputId": "78336b06-3303-4dcd-e8fb-d2afcfba1af3"
      },
      "execution_count": 93,
      "outputs": [
        {
          "output_type": "stream",
          "name": "stdout",
          "text": [
            "총 훈련 샘플의 수: 426\n"
          ]
        }
      ]
    },
    {
      "cell_type": "code",
      "source": [
        "sequences[:10]"
      ],
      "metadata": {
        "colab": {
          "base_uri": "https://localhost:8080/"
        },
        "id": "c3eU9oYGMAj_",
        "outputId": "367a5c8d-b540-4b6d-ebf4-393cb3b612f1"
      },
      "execution_count": 94,
      "outputs": [
        {
          "output_type": "execute_result",
          "data": {
            "text/plain": [
              "['I get on wi',\n",
              " ' get on wit',\n",
              " 'get on with',\n",
              " 'et on with ',\n",
              " 't on with l',\n",
              " ' on with li',\n",
              " 'on with lif',\n",
              " 'n with life',\n",
              " ' with life ',\n",
              " 'with life a']"
            ]
          },
          "metadata": {},
          "execution_count": 94
        }
      ]
    },
    {
      "cell_type": "code",
      "source": [
        "encoded_sequences = []\n",
        "for sequence in sequences: # 전체 데이터에서 문장 샘플을 1개씩 꺼낸다.\n",
        "    encoded_sequence = [char_to_index[char] for char in sequence] # 문장 샘플에서 각 문자에 대해서 정수 인코딩을 수행.\n",
        "    encoded_sequences.append(encoded_sequence)"
      ],
      "metadata": {
        "id": "FzptKqj2MBsW"
      },
      "execution_count": 95,
      "outputs": []
    },
    {
      "cell_type": "code",
      "source": [
        "encoded_sequences[:5]"
      ],
      "metadata": {
        "colab": {
          "base_uri": "https://localhost:8080/"
        },
        "id": "bPaCp-FIMCbg",
        "outputId": "9bf395af-4f3a-4145-8cb9-0705393c17c7"
      },
      "execution_count": 96,
      "outputs": [
        {
          "output_type": "execute_result",
          "data": {
            "text/plain": [
              "[[8, 0, 16, 14, 28, 0, 24, 23, 0, 31, 18],\n",
              " [0, 16, 14, 28, 0, 24, 23, 0, 31, 18, 28],\n",
              " [16, 14, 28, 0, 24, 23, 0, 31, 18, 28, 17],\n",
              " [14, 28, 0, 24, 23, 0, 31, 18, 28, 17, 0],\n",
              " [28, 0, 24, 23, 0, 31, 18, 28, 17, 0, 21]]"
            ]
          },
          "metadata": {},
          "execution_count": 96
        }
      ]
    },
    {
      "cell_type": "code",
      "source": [
        "encoded_sequences = np.array(encoded_sequences)\n",
        "\n",
        "# 맨 마지막 위치의 문자를 분리\n",
        "X_data = encoded_sequences[:,:-1]\n",
        "# 맨 마지막 위치의 문자를 저장\n",
        "y_data = encoded_sequences[:,-1]"
      ],
      "metadata": {
        "id": "isfVqzYqMDeh"
      },
      "execution_count": 97,
      "outputs": []
    },
    {
      "cell_type": "code",
      "source": [
        "print(X_data[:5])\n",
        "print(y_data[:5])"
      ],
      "metadata": {
        "colab": {
          "base_uri": "https://localhost:8080/"
        },
        "id": "6J6UdkfwMEUb",
        "outputId": "161186b4-2873-4cf2-d5f7-1d4dc7294ec9"
      },
      "execution_count": 98,
      "outputs": [
        {
          "output_type": "stream",
          "name": "stdout",
          "text": [
            "[[ 8  0 16 14 28  0 24 23  0 31]\n",
            " [ 0 16 14 28  0 24 23  0 31 18]\n",
            " [16 14 28  0 24 23  0 31 18 28]\n",
            " [14 28  0 24 23  0 31 18 28 17]\n",
            " [28  0 24 23  0 31 18 28 17  0]]\n",
            "[18 28 17  0 21]\n"
          ]
        }
      ]
    },
    {
      "cell_type": "code",
      "source": [
        "# 원-핫 인코딩\n",
        "X_data_one_hot = [to_categorical(encoded, num_classes=vocab_size) for encoded in X_data]\n",
        "X_data_one_hot = np.array(X_data_one_hot)\n",
        "y_data_one_hot = to_categorical(y_data, num_classes=vocab_size)"
      ],
      "metadata": {
        "id": "o9cOjA6KMFif"
      },
      "execution_count": 99,
      "outputs": []
    },
    {
      "cell_type": "code",
      "source": [
        "print(X_data_one_hot.shape)"
      ],
      "metadata": {
        "colab": {
          "base_uri": "https://localhost:8080/"
        },
        "id": "RfO1O8A1MGp5",
        "outputId": "3b54f55a-9479-43f4-9f86-87133333c2de"
      },
      "execution_count": 100,
      "outputs": [
        {
          "output_type": "stream",
          "name": "stdout",
          "text": [
            "(426, 10, 33)\n"
          ]
        }
      ]
    },
    {
      "cell_type": "code",
      "source": [
        "from tensorflow.keras.models import Sequential\n",
        "from tensorflow.keras.layers import Dense, LSTM\n",
        "from tensorflow.keras.preprocessing.sequence import pad_sequences\n",
        "\n",
        "hidden_units = 64\n",
        "\n",
        "model = Sequential()\n",
        "model.add(LSTM(hidden_units, input_shape=(X_data_one_hot.shape[1], X_data_one_hot.shape[2])))\n",
        "model.add(Dense(vocab_size, activation='softmax'))\n",
        "\n",
        "model.compile(loss='categorical_crossentropy', optimizer='adam', metrics=['accuracy'])\n",
        "model.fit(X_data_one_hot, y_data_one_hot, epochs=100, verbose=2)"
      ],
      "metadata": {
        "colab": {
          "base_uri": "https://localhost:8080/"
        },
        "id": "usreZtUjMHrO",
        "outputId": "360a636b-2a0b-48a8-88ad-da08cda8ec93"
      },
      "execution_count": 101,
      "outputs": [
        {
          "output_type": "stream",
          "name": "stdout",
          "text": [
            "Epoch 1/100\n",
            "14/14 - 2s - loss: 3.4724 - accuracy: 0.0822 - 2s/epoch - 162ms/step\n",
            "Epoch 2/100\n",
            "14/14 - 0s - loss: 3.3712 - accuracy: 0.1831 - 79ms/epoch - 6ms/step\n",
            "Epoch 3/100\n",
            "14/14 - 0s - loss: 3.1595 - accuracy: 0.1972 - 86ms/epoch - 6ms/step\n",
            "Epoch 4/100\n",
            "14/14 - 0s - loss: 2.9963 - accuracy: 0.1972 - 81ms/epoch - 6ms/step\n",
            "Epoch 5/100\n",
            "14/14 - 0s - loss: 2.9506 - accuracy: 0.1972 - 86ms/epoch - 6ms/step\n",
            "Epoch 6/100\n",
            "14/14 - 0s - loss: 2.9290 - accuracy: 0.1972 - 79ms/epoch - 6ms/step\n",
            "Epoch 7/100\n",
            "14/14 - 0s - loss: 2.9153 - accuracy: 0.1972 - 79ms/epoch - 6ms/step\n",
            "Epoch 8/100\n",
            "14/14 - 0s - loss: 2.8848 - accuracy: 0.1972 - 79ms/epoch - 6ms/step\n",
            "Epoch 9/100\n",
            "14/14 - 0s - loss: 2.8544 - accuracy: 0.1972 - 79ms/epoch - 6ms/step\n",
            "Epoch 10/100\n",
            "14/14 - 0s - loss: 2.8130 - accuracy: 0.1995 - 81ms/epoch - 6ms/step\n",
            "Epoch 11/100\n",
            "14/14 - 0s - loss: 2.7844 - accuracy: 0.2019 - 82ms/epoch - 6ms/step\n",
            "Epoch 12/100\n",
            "14/14 - 0s - loss: 2.7426 - accuracy: 0.2019 - 94ms/epoch - 7ms/step\n",
            "Epoch 13/100\n",
            "14/14 - 0s - loss: 2.6955 - accuracy: 0.2066 - 80ms/epoch - 6ms/step\n",
            "Epoch 14/100\n",
            "14/14 - 0s - loss: 2.6525 - accuracy: 0.2207 - 85ms/epoch - 6ms/step\n",
            "Epoch 15/100\n",
            "14/14 - 0s - loss: 2.6176 - accuracy: 0.2371 - 87ms/epoch - 6ms/step\n",
            "Epoch 16/100\n",
            "14/14 - 0s - loss: 2.5609 - accuracy: 0.2606 - 81ms/epoch - 6ms/step\n",
            "Epoch 17/100\n",
            "14/14 - 0s - loss: 2.5297 - accuracy: 0.2606 - 79ms/epoch - 6ms/step\n",
            "Epoch 18/100\n",
            "14/14 - 0s - loss: 2.4928 - accuracy: 0.2700 - 87ms/epoch - 6ms/step\n",
            "Epoch 19/100\n",
            "14/14 - 0s - loss: 2.4407 - accuracy: 0.2793 - 79ms/epoch - 6ms/step\n",
            "Epoch 20/100\n",
            "14/14 - 0s - loss: 2.4089 - accuracy: 0.2840 - 79ms/epoch - 6ms/step\n",
            "Epoch 21/100\n",
            "14/14 - 0s - loss: 2.3398 - accuracy: 0.2934 - 81ms/epoch - 6ms/step\n",
            "Epoch 22/100\n",
            "14/14 - 0s - loss: 2.3327 - accuracy: 0.2864 - 88ms/epoch - 6ms/step\n",
            "Epoch 23/100\n",
            "14/14 - 0s - loss: 2.3227 - accuracy: 0.3380 - 84ms/epoch - 6ms/step\n",
            "Epoch 24/100\n",
            "14/14 - 0s - loss: 2.2457 - accuracy: 0.3075 - 78ms/epoch - 6ms/step\n",
            "Epoch 25/100\n",
            "14/14 - 0s - loss: 2.2035 - accuracy: 0.3380 - 84ms/epoch - 6ms/step\n",
            "Epoch 26/100\n",
            "14/14 - 0s - loss: 2.1763 - accuracy: 0.3521 - 81ms/epoch - 6ms/step\n",
            "Epoch 27/100\n",
            "14/14 - 0s - loss: 2.1235 - accuracy: 0.3967 - 81ms/epoch - 6ms/step\n",
            "Epoch 28/100\n",
            "14/14 - 0s - loss: 2.0854 - accuracy: 0.4014 - 79ms/epoch - 6ms/step\n",
            "Epoch 29/100\n",
            "14/14 - 0s - loss: 2.0355 - accuracy: 0.4366 - 83ms/epoch - 6ms/step\n",
            "Epoch 30/100\n",
            "14/14 - 0s - loss: 1.9977 - accuracy: 0.4413 - 78ms/epoch - 6ms/step\n",
            "Epoch 31/100\n",
            "14/14 - 0s - loss: 1.9658 - accuracy: 0.4178 - 78ms/epoch - 6ms/step\n",
            "Epoch 32/100\n",
            "14/14 - 0s - loss: 1.9232 - accuracy: 0.4812 - 85ms/epoch - 6ms/step\n",
            "Epoch 33/100\n",
            "14/14 - 0s - loss: 1.9020 - accuracy: 0.4531 - 75ms/epoch - 5ms/step\n",
            "Epoch 34/100\n",
            "14/14 - 0s - loss: 1.8732 - accuracy: 0.4859 - 77ms/epoch - 6ms/step\n",
            "Epoch 35/100\n",
            "14/14 - 0s - loss: 1.8221 - accuracy: 0.4765 - 82ms/epoch - 6ms/step\n",
            "Epoch 36/100\n",
            "14/14 - 0s - loss: 1.7842 - accuracy: 0.5164 - 87ms/epoch - 6ms/step\n",
            "Epoch 37/100\n",
            "14/14 - 0s - loss: 1.7387 - accuracy: 0.5235 - 79ms/epoch - 6ms/step\n",
            "Epoch 38/100\n",
            "14/14 - 0s - loss: 1.6980 - accuracy: 0.5423 - 91ms/epoch - 7ms/step\n",
            "Epoch 39/100\n",
            "14/14 - 0s - loss: 1.6571 - accuracy: 0.5352 - 91ms/epoch - 7ms/step\n",
            "Epoch 40/100\n",
            "14/14 - 0s - loss: 1.6217 - accuracy: 0.5516 - 88ms/epoch - 6ms/step\n",
            "Epoch 41/100\n",
            "14/14 - 0s - loss: 1.5909 - accuracy: 0.5634 - 79ms/epoch - 6ms/step\n",
            "Epoch 42/100\n",
            "14/14 - 0s - loss: 1.5556 - accuracy: 0.5681 - 86ms/epoch - 6ms/step\n",
            "Epoch 43/100\n",
            "14/14 - 0s - loss: 1.5178 - accuracy: 0.5869 - 78ms/epoch - 6ms/step\n",
            "Epoch 44/100\n",
            "14/14 - 0s - loss: 1.4852 - accuracy: 0.5845 - 77ms/epoch - 5ms/step\n",
            "Epoch 45/100\n",
            "14/14 - 0s - loss: 1.4475 - accuracy: 0.6033 - 85ms/epoch - 6ms/step\n",
            "Epoch 46/100\n",
            "14/14 - 0s - loss: 1.4180 - accuracy: 0.6268 - 91ms/epoch - 6ms/step\n",
            "Epoch 47/100\n",
            "14/14 - 0s - loss: 1.3993 - accuracy: 0.6408 - 79ms/epoch - 6ms/step\n",
            "Epoch 48/100\n",
            "14/14 - 0s - loss: 1.3567 - accuracy: 0.6502 - 78ms/epoch - 6ms/step\n",
            "Epoch 49/100\n",
            "14/14 - 0s - loss: 1.3297 - accuracy: 0.6526 - 78ms/epoch - 6ms/step\n",
            "Epoch 50/100\n",
            "14/14 - 0s - loss: 1.2813 - accuracy: 0.6596 - 93ms/epoch - 7ms/step\n",
            "Epoch 51/100\n",
            "14/14 - 0s - loss: 1.2627 - accuracy: 0.6596 - 78ms/epoch - 6ms/step\n",
            "Epoch 52/100\n",
            "14/14 - 0s - loss: 1.2223 - accuracy: 0.6737 - 81ms/epoch - 6ms/step\n",
            "Epoch 53/100\n",
            "14/14 - 0s - loss: 1.1955 - accuracy: 0.6831 - 92ms/epoch - 7ms/step\n",
            "Epoch 54/100\n",
            "14/14 - 0s - loss: 1.1580 - accuracy: 0.6925 - 78ms/epoch - 6ms/step\n",
            "Epoch 55/100\n",
            "14/14 - 0s - loss: 1.1257 - accuracy: 0.7371 - 78ms/epoch - 6ms/step\n",
            "Epoch 56/100\n",
            "14/14 - 0s - loss: 1.0928 - accuracy: 0.7230 - 78ms/epoch - 6ms/step\n",
            "Epoch 57/100\n",
            "14/14 - 0s - loss: 1.0671 - accuracy: 0.7371 - 86ms/epoch - 6ms/step\n",
            "Epoch 58/100\n",
            "14/14 - 0s - loss: 1.0372 - accuracy: 0.7418 - 82ms/epoch - 6ms/step\n",
            "Epoch 59/100\n",
            "14/14 - 0s - loss: 1.0095 - accuracy: 0.7559 - 80ms/epoch - 6ms/step\n",
            "Epoch 60/100\n",
            "14/14 - 0s - loss: 0.9875 - accuracy: 0.7582 - 85ms/epoch - 6ms/step\n",
            "Epoch 61/100\n",
            "14/14 - 0s - loss: 0.9651 - accuracy: 0.7723 - 78ms/epoch - 6ms/step\n",
            "Epoch 62/100\n",
            "14/14 - 0s - loss: 0.9376 - accuracy: 0.7770 - 89ms/epoch - 6ms/step\n",
            "Epoch 63/100\n",
            "14/14 - 0s - loss: 0.9186 - accuracy: 0.7981 - 84ms/epoch - 6ms/step\n",
            "Epoch 64/100\n",
            "14/14 - 0s - loss: 0.9134 - accuracy: 0.7981 - 80ms/epoch - 6ms/step\n",
            "Epoch 65/100\n",
            "14/14 - 0s - loss: 0.8685 - accuracy: 0.7981 - 83ms/epoch - 6ms/step\n",
            "Epoch 66/100\n",
            "14/14 - 0s - loss: 0.8369 - accuracy: 0.8239 - 84ms/epoch - 6ms/step\n",
            "Epoch 67/100\n",
            "14/14 - 0s - loss: 0.8041 - accuracy: 0.8451 - 87ms/epoch - 6ms/step\n",
            "Epoch 68/100\n",
            "14/14 - 0s - loss: 0.7940 - accuracy: 0.8263 - 78ms/epoch - 6ms/step\n",
            "Epoch 69/100\n",
            "14/14 - 0s - loss: 0.7671 - accuracy: 0.8427 - 79ms/epoch - 6ms/step\n",
            "Epoch 70/100\n",
            "14/14 - 0s - loss: 0.7337 - accuracy: 0.8756 - 89ms/epoch - 6ms/step\n",
            "Epoch 71/100\n",
            "14/14 - 0s - loss: 0.7225 - accuracy: 0.8709 - 79ms/epoch - 6ms/step\n",
            "Epoch 72/100\n",
            "14/14 - 0s - loss: 0.7173 - accuracy: 0.8592 - 79ms/epoch - 6ms/step\n",
            "Epoch 73/100\n",
            "14/14 - 0s - loss: 0.6794 - accuracy: 0.8873 - 83ms/epoch - 6ms/step\n",
            "Epoch 74/100\n",
            "14/14 - 0s - loss: 0.6641 - accuracy: 0.8756 - 88ms/epoch - 6ms/step\n",
            "Epoch 75/100\n",
            "14/14 - 0s - loss: 0.6373 - accuracy: 0.8897 - 77ms/epoch - 6ms/step\n",
            "Epoch 76/100\n",
            "14/14 - 0s - loss: 0.6122 - accuracy: 0.8967 - 89ms/epoch - 6ms/step\n",
            "Epoch 77/100\n",
            "14/14 - 0s - loss: 0.5902 - accuracy: 0.9038 - 124ms/epoch - 9ms/step\n",
            "Epoch 78/100\n",
            "14/14 - 0s - loss: 0.5731 - accuracy: 0.9131 - 124ms/epoch - 9ms/step\n",
            "Epoch 79/100\n",
            "14/14 - 0s - loss: 0.5638 - accuracy: 0.9249 - 128ms/epoch - 9ms/step\n",
            "Epoch 80/100\n",
            "14/14 - 0s - loss: 0.5623 - accuracy: 0.9178 - 126ms/epoch - 9ms/step\n",
            "Epoch 81/100\n",
            "14/14 - 0s - loss: 0.5260 - accuracy: 0.9131 - 120ms/epoch - 9ms/step\n",
            "Epoch 82/100\n",
            "14/14 - 0s - loss: 0.5228 - accuracy: 0.9296 - 127ms/epoch - 9ms/step\n",
            "Epoch 83/100\n",
            "14/14 - 0s - loss: 0.5083 - accuracy: 0.9225 - 129ms/epoch - 9ms/step\n",
            "Epoch 84/100\n",
            "14/14 - 0s - loss: 0.4945 - accuracy: 0.9390 - 127ms/epoch - 9ms/step\n",
            "Epoch 85/100\n",
            "14/14 - 0s - loss: 0.4719 - accuracy: 0.9319 - 126ms/epoch - 9ms/step\n",
            "Epoch 86/100\n",
            "14/14 - 0s - loss: 0.4665 - accuracy: 0.9343 - 132ms/epoch - 9ms/step\n",
            "Epoch 87/100\n",
            "14/14 - 0s - loss: 0.4371 - accuracy: 0.9484 - 126ms/epoch - 9ms/step\n",
            "Epoch 88/100\n",
            "14/14 - 0s - loss: 0.4222 - accuracy: 0.9413 - 136ms/epoch - 10ms/step\n",
            "Epoch 89/100\n",
            "14/14 - 0s - loss: 0.4088 - accuracy: 0.9484 - 126ms/epoch - 9ms/step\n",
            "Epoch 90/100\n",
            "14/14 - 0s - loss: 0.3972 - accuracy: 0.9577 - 130ms/epoch - 9ms/step\n",
            "Epoch 91/100\n",
            "14/14 - 0s - loss: 0.3787 - accuracy: 0.9577 - 123ms/epoch - 9ms/step\n",
            "Epoch 92/100\n",
            "14/14 - 0s - loss: 0.3784 - accuracy: 0.9671 - 122ms/epoch - 9ms/step\n",
            "Epoch 93/100\n",
            "14/14 - 0s - loss: 0.3662 - accuracy: 0.9601 - 130ms/epoch - 9ms/step\n",
            "Epoch 94/100\n",
            "14/14 - 0s - loss: 0.3514 - accuracy: 0.9624 - 127ms/epoch - 9ms/step\n",
            "Epoch 95/100\n",
            "14/14 - 0s - loss: 0.3505 - accuracy: 0.9554 - 128ms/epoch - 9ms/step\n",
            "Epoch 96/100\n",
            "14/14 - 0s - loss: 0.3388 - accuracy: 0.9695 - 134ms/epoch - 10ms/step\n",
            "Epoch 97/100\n",
            "14/14 - 0s - loss: 0.3244 - accuracy: 0.9648 - 103ms/epoch - 7ms/step\n",
            "Epoch 98/100\n",
            "14/14 - 0s - loss: 0.3080 - accuracy: 0.9765 - 90ms/epoch - 6ms/step\n",
            "Epoch 99/100\n",
            "14/14 - 0s - loss: 0.3079 - accuracy: 0.9695 - 85ms/epoch - 6ms/step\n",
            "Epoch 100/100\n",
            "14/14 - 0s - loss: 0.2989 - accuracy: 0.9718 - 79ms/epoch - 6ms/step\n"
          ]
        },
        {
          "output_type": "execute_result",
          "data": {
            "text/plain": [
              "<keras.src.callbacks.History at 0x7f22078a69b0>"
            ]
          },
          "metadata": {},
          "execution_count": 101
        }
      ]
    },
    {
      "cell_type": "code",
      "source": [
        "def sentence_generation(model, char_to_index, seq_length, seed_text, n):\n",
        "\n",
        "    # 초기 시퀀스\n",
        "    init_text = seed_text\n",
        "    sentence = ''\n",
        "\n",
        "    # 다음 문자 예측은 총 n번만 반복.\n",
        "    for _ in range(n):\n",
        "        encoded = [char_to_index[char] for char in seed_text] # 현재 시퀀스에 대한 정수 인코딩\n",
        "        encoded = pad_sequences([encoded], maxlen=seq_length, padding='pre') # 데이터에 대한 패딩\n",
        "        encoded = to_categorical(encoded, num_classes=len(char_to_index))\n",
        "\n",
        "        # 입력한 X(현재 시퀀스)에 대해서 y를 예측하고 y(예측한 문자)를 result에 저장.\n",
        "        result = model.predict(encoded, verbose=0)\n",
        "        result = np.argmax(result, axis=1)\n",
        "\n",
        "        for char, index in char_to_index.items():\n",
        "            if index == result:\n",
        "                break\n",
        "\n",
        "        # 현재 시퀀스 + 예측 문자를 현재 시퀀스로 변경\n",
        "        seed_text = seed_text + char\n",
        "\n",
        "        # 예측 문자를 문장에 저장\n",
        "        sentence = sentence + char\n",
        "\n",
        "    # n번의 다음 문자 예측이 끝나면 최종 완성된 문장을 리턴.\n",
        "    sentence = init_text + sentence\n",
        "    return sentence"
      ],
      "metadata": {
        "id": "OqHYU3N-MIt2"
      },
      "execution_count": 102,
      "outputs": []
    },
    {
      "cell_type": "code",
      "source": [
        "print(sentence_generation(model, char_to_index, 10, 'I get on w', 80))"
      ],
      "metadata": {
        "colab": {
          "base_uri": "https://localhost:8080/"
        },
        "id": "k0rtR0XhMKOK",
        "outputId": "d7ab0235-8e71-498d-b83a-d4b8c8a9fdf1"
      },
      "execution_count": 103,
      "outputs": [
        {
          "output_type": "stream",
          "name": "stdout",
          "text": [
            "I get on with life as a programmer, I like to hang out with programming and deep learning.\n"
          ]
        }
      ]
    }
  ]
}