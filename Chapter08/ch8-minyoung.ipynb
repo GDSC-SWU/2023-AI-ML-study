{
  "nbformat": 4,
  "nbformat_minor": 0,
  "metadata": {
    "colab": {
      "provenance": [],
      "gpuType": "T4"
    },
    "kernelspec": {
      "name": "python3",
      "display_name": "Python 3"
    },
    "language_info": {
      "name": "python"
    },
    "accelerator": "GPU"
  },
  "cells": [
    {
      "cell_type": "markdown",
      "source": [
        "케라스로 RNN 구현하기\n",
        "\n",
        "hidden_units = 은닉 상태의 크기를 정의\n",
        "timesteps = 입력 시퀀스의 길이(input_length)라고도 함\n",
        "input_dim = 입력의 크기"
      ],
      "metadata": {
        "id": "ej06YolGeGhr"
      }
    },
    {
      "cell_type": "code",
      "execution_count": null,
      "metadata": {
        "id": "CJ3QsZiv2AgD"
      },
      "outputs": [],
      "source": [
        "from tensorflow.keras.layers import SimpleRNN\n",
        "\n",
        "# model.add(SimpleRNN(hidden_units))\n",
        "\n",
        "# 추가 인자를 사용할 때\n",
        "# model.add(SimpleRNN(hidden_units, input_shape=(timesteps, input_dim)))\n",
        "\n",
        "# 다른 표기\n",
        "# model.add(SimpleRNN(hidden_units, input_length=M, input_dim=N))"
      ]
    },
    {
      "cell_type": "code",
      "source": [
        "from tensorflow.keras.models import Sequential\n",
        "from tensorflow.keras.layers import SimpleRNN\n",
        "\n",
        "model = Sequential()\n",
        "model.add(SimpleRNN(3, input_shape=(2,10))) #은닉 상태의 크기가 3, 2는 시퀀스의 길이이며 10은 각 시점에서의 입력 특성의 수를 의미\n",
        "# model.add(SimpleRNN(3, input_length=2, input_dim=10))와 동일함.\n",
        "model.summary()"
      ],
      "metadata": {
        "colab": {
          "base_uri": "https://localhost:8080/"
        },
        "id": "BAmUT1__eMth",
        "outputId": "21c310db-1cd4-46e4-ce02-90ffbcb4fab8"
      },
      "execution_count": null,
      "outputs": [
        {
          "output_type": "stream",
          "name": "stdout",
          "text": [
            "Model: \"sequential_1\"\n",
            "_________________________________________________________________\n",
            " Layer (type)                Output Shape              Param #   \n",
            "=================================================================\n",
            " simple_rnn_1 (SimpleRNN)    (None, 3)                 42        \n",
            "                                                                 \n",
            "=================================================================\n",
            "Total params: 42 (168.00 Byte)\n",
            "Trainable params: 42 (168.00 Byte)\n",
            "Non-trainable params: 0 (0.00 Byte)\n",
            "_________________________________________________________________\n"
          ]
        }
      ]
    },
    {
      "cell_type": "code",
      "source": [
        "model = Sequential()\n",
        "model.add(SimpleRNN(3, batch_input_shape=(8,2,10))) #batch_size를 8로 기재\n",
        "model.summary()"
      ],
      "metadata": {
        "colab": {
          "base_uri": "https://localhost:8080/"
        },
        "id": "PSnkZ0O-fS5b",
        "outputId": "e101ceea-1247-43b4-8eae-e5dbd82e7d27"
      },
      "execution_count": null,
      "outputs": [
        {
          "output_type": "stream",
          "name": "stdout",
          "text": [
            "Model: \"sequential_2\"\n",
            "_________________________________________________________________\n",
            " Layer (type)                Output Shape              Param #   \n",
            "=================================================================\n",
            " simple_rnn_2 (SimpleRNN)    (8, 3)                    42        \n",
            "                                                                 \n",
            "=================================================================\n",
            "Total params: 42 (168.00 Byte)\n",
            "Trainable params: 42 (168.00 Byte)\n",
            "Non-trainable params: 0 (0.00 Byte)\n",
            "_________________________________________________________________\n"
          ]
        }
      ]
    },
    {
      "cell_type": "code",
      "source": [
        "model = Sequential()\n",
        "model.add(SimpleRNN(3, batch_input_shape=(8,2,10), return_sequences=True)) #return_sequences=True를 기재하여 출력값으로 3D 텐서를 리턴\n",
        "model.summary()"
      ],
      "metadata": {
        "colab": {
          "base_uri": "https://localhost:8080/"
        },
        "id": "I6pgF8lXgEo6",
        "outputId": "16c237da-1441-4f41-f615-f2e88c5cbd80"
      },
      "execution_count": null,
      "outputs": [
        {
          "output_type": "stream",
          "name": "stdout",
          "text": [
            "Model: \"sequential_3\"\n",
            "_________________________________________________________________\n",
            " Layer (type)                Output Shape              Param #   \n",
            "=================================================================\n",
            " simple_rnn_3 (SimpleRNN)    (8, 2, 3)                 42        \n",
            "                                                                 \n",
            "=================================================================\n",
            "Total params: 42 (168.00 Byte)\n",
            "Trainable params: 42 (168.00 Byte)\n",
            "Non-trainable params: 0 (0.00 Byte)\n",
            "_________________________________________________________________\n"
          ]
        }
      ]
    },
    {
      "cell_type": "markdown",
      "source": [
        "파이썬으로 RNN 구현하기"
      ],
      "metadata": {
        "id": "3iEWa-aRg_ON"
      }
    },
    {
      "cell_type": "code",
      "source": [
        "import numpy as np\n",
        "\n",
        "timesteps = 10\n",
        "input_dim = 4\n",
        "hidden_units = 8\n",
        "\n",
        "# 입력에 해당되는 2D 텐서\n",
        "inputs = np.random.random((timesteps, input_dim))\n",
        "\n",
        "# 초기 은닉 상태는 0(벡터)로 초기화\n",
        "hidden_state_t = np.zeros((hidden_units,))\n",
        "\n",
        "print('초기 은닉 상태 :',hidden_state_t)"
      ],
      "metadata": {
        "colab": {
          "base_uri": "https://localhost:8080/"
        },
        "id": "S2OlWc3UgNFC",
        "outputId": "eec0a4cd-b9c6-493c-fd93-29d1b687af78"
      },
      "execution_count": null,
      "outputs": [
        {
          "output_type": "stream",
          "name": "stdout",
          "text": [
            "초기 은닉 상태 : [0. 0. 0. 0. 0. 0. 0. 0.]\n"
          ]
        }
      ]
    },
    {
      "cell_type": "code",
      "source": [
        "Wx = np.random.random((hidden_units, input_dim))  # (8, 4)크기의 2D 텐서 생성. 입력에 대한 가중치.\n",
        "Wh = np.random.random((hidden_units, hidden_units)) # (8, 8)크기의 2D 텐서 생성. 은닉 상태에 대한 가중치.\n",
        "b = np.random.random((hidden_units,)) # (8,)크기의 1D 텐서 생성. 이 값은 편향(bias).\n",
        "\n",
        "print('가중치 Wx의 크기(shape) :',np.shape(Wx))\n",
        "print('가중치 Wh의 크기(shape) :',np.shape(Wh))\n",
        "print('편향의 크기(shape) :',np.shape(b))"
      ],
      "metadata": {
        "colab": {
          "base_uri": "https://localhost:8080/"
        },
        "id": "j6l7CprDhCBO",
        "outputId": "6571854c-0fb5-4a01-d622-53fc68d2e94f"
      },
      "execution_count": null,
      "outputs": [
        {
          "output_type": "stream",
          "name": "stdout",
          "text": [
            "가중치 Wx의 크기(shape) : (8, 4)\n",
            "가중치 Wh의 크기(shape) : (8, 8)\n",
            "편향의 크기(shape) : (8,)\n"
          ]
        }
      ]
    },
    {
      "cell_type": "code",
      "source": [
        "total_hidden_states = []\n",
        "\n",
        "# 각 시점 별 입력값.\n",
        "for input_t in inputs:\n",
        "\n",
        "  # Wx * Xt + Wh * Ht-1 + b(bias)\n",
        "  output_t = np.tanh(np.dot(Wx,input_t) + np.dot(Wh,hidden_state_t) + b)\n",
        "\n",
        "  # 각 시점 t별 메모리 셀의 출력의 크기는 (timestep t, output_dim)\n",
        "  # 각 시점의 은닉 상태의 값을 계속해서 누적\n",
        "  total_hidden_states.append(list(output_t))\n",
        "  hidden_state_t = output_t\n",
        "\n",
        "# 출력 시 값을 깔끔하게 해주는 용도.\n",
        "total_hidden_states = np.stack(total_hidden_states, axis = 0)\n",
        "\n",
        "# (timesteps, output_dim)\n",
        "print('모든 시점의 은닉 상태 :')\n",
        "print(total_hidden_states)"
      ],
      "metadata": {
        "colab": {
          "base_uri": "https://localhost:8080/"
        },
        "id": "dw5il8CjhDv0",
        "outputId": "a8b736a5-3299-4b75-a821-74b24aa9c88c"
      },
      "execution_count": null,
      "outputs": [
        {
          "output_type": "stream",
          "name": "stdout",
          "text": [
            "모든 시점의 은닉 상태 :\n",
            "[[0.84715157 0.78811284 0.91164277 0.90735813 0.9283546  0.97569942\n",
            "  0.69392776 0.9636956 ]\n",
            " [0.9999763  0.99884275 0.99995153 0.99998528 0.99997048 0.99999172\n",
            "  0.99980497 0.99998064]\n",
            " [0.9999779  0.99951583 0.99995377 0.99999188 0.9999838  0.9999942\n",
            "  0.99987187 0.99997504]\n",
            " [0.99998251 0.99935936 0.99995861 0.99999031 0.99998219 0.99999436\n",
            "  0.99986595 0.99998062]\n",
            " [0.99999221 0.99949238 0.99998244 0.99999427 0.99999302 0.99999777\n",
            "  0.99991137 0.99999263]\n",
            " [0.99999015 0.99907603 0.99997684 0.99999162 0.99998808 0.99999601\n",
            "  0.99991944 0.99999013]\n",
            " [0.99997411 0.99925541 0.99995046 0.99999206 0.99996928 0.99999121\n",
            "  0.99985325 0.9999728 ]\n",
            " [0.99993719 0.99889881 0.99984355 0.99997657 0.99992909 0.99997353\n",
            "  0.99981024 0.9999084 ]\n",
            " [0.99999387 0.99965969 0.99998976 0.99999728 0.99999651 0.99999869\n",
            "  0.99994438 0.99999492]\n",
            " [0.99999407 0.99952744 0.99998785 0.9999958  0.99999515 0.99999839\n",
            "  0.99993147 0.99999483]]\n"
          ]
        }
      ]
    },
    {
      "cell_type": "markdown",
      "source": [
        "케라스에서의 GRU"
      ],
      "metadata": {
        "id": "PHBqJoVVvHwu"
      }
    },
    {
      "cell_type": "code",
      "source": [
        "#model.add(GRU(hidden_size, input_shape=(timesteps, input_dim)))"
      ],
      "metadata": {
        "id": "Gekd7Y90hIYN"
      },
      "execution_count": null,
      "outputs": []
    },
    {
      "cell_type": "markdown",
      "source": [
        "08-04 케라스의 SimpleRNN과 LSTM 이해하기"
      ],
      "metadata": {
        "id": "9SwSDQ7uvPO2"
      }
    },
    {
      "cell_type": "markdown",
      "source": [
        "임의의 입력 생성하기"
      ],
      "metadata": {
        "id": "xcqa5PMJvh3t"
      }
    },
    {
      "cell_type": "code",
      "source": [
        "import numpy as np\n",
        "import tensorflow as tf\n",
        "from tensorflow.keras.layers import SimpleRNN, LSTM, Bidirectional\n",
        "\n",
        "train_X = [[0.1, 4.2, 1.5, 1.1, 2.8], [1.0, 3.1, 2.5, 0.7, 1.1], [0.3, 2.1, 1.5, 2.1, 0.1], [2.2, 1.4, 0.5, 0.9, 1.1]]\n",
        "print(np.shape(train_X)) #np.shape(train_X)를 호출하여 train_X의 형태(크기)를 확인"
      ],
      "metadata": {
        "colab": {
          "base_uri": "https://localhost:8080/"
        },
        "id": "NsfKynQhvMZx",
        "outputId": "1889bdfb-647d-4ad4-ca60-78de00c69db1"
      },
      "execution_count": null,
      "outputs": [
        {
          "output_type": "stream",
          "name": "stdout",
          "text": [
            "(4, 5)\n"
          ]
        }
      ]
    },
    {
      "cell_type": "code",
      "source": [
        "train_X = [[[0.1, 4.2, 1.5, 1.1, 2.8], [1.0, 3.1, 2.5, 0.7, 1.1], [0.3, 2.1, 1.5, 2.1, 0.1], [2.2, 1.4, 0.5, 0.9, 1.1]]]\n",
        "train_X = np.array(train_X, dtype=np.float32) #배치 크기 1을 추가해서 3D 텐서로 수정\n",
        "print(train_X.shape)"
      ],
      "metadata": {
        "colab": {
          "base_uri": "https://localhost:8080/"
        },
        "id": "8ZB6W0a3vmW6",
        "outputId": "8f545f87-6187-450d-f68b-d3cb1d296cb2"
      },
      "execution_count": null,
      "outputs": [
        {
          "output_type": "stream",
          "name": "stdout",
          "text": [
            "(1, 4, 5)\n"
          ]
        }
      ]
    },
    {
      "cell_type": "markdown",
      "source": [
        "Simple RNN 이해하기"
      ],
      "metadata": {
        "id": "c7ADrPv3wwwz"
      }
    },
    {
      "cell_type": "code",
      "source": [
        "rnn = SimpleRNN(3)\n",
        "# rnn = SimpleRNN(3, return_sequences=False, return_state=False)와 동일.\n",
        "hidden_state = rnn(train_X) # 3차원의 은닉 상태를 반환하는데, 이를 사용하여 train_X의 각 시퀀스에 대한 은닉 상태를 계산\n",
        "\n",
        "print('hidden state : {}, shape: {}'.format(hidden_state, hidden_state.shape))"
      ],
      "metadata": {
        "colab": {
          "base_uri": "https://localhost:8080/"
        },
        "id": "4s4d9cR2wsxD",
        "outputId": "0a5a933d-f8ac-44ba-fda0-b75fcff7f5f8"
      },
      "execution_count": null,
      "outputs": [
        {
          "output_type": "stream",
          "name": "stdout",
          "text": [
            "hidden state : [[ 0.76966894 -0.88059366 -0.49074602]], shape: (1, 3)\n"
          ]
        }
      ]
    },
    {
      "cell_type": "code",
      "source": [
        "rnn = SimpleRNN(3, return_sequences=True) #모든 시점의 은닉 상태를 출력\n",
        "hidden_states = rnn(train_X)\n",
        "\n",
        "print('hidden states : {}, shape: {}'.format(hidden_states, hidden_states.shape))"
      ],
      "metadata": {
        "colab": {
          "base_uri": "https://localhost:8080/"
        },
        "id": "fiHrgH3pxIKR",
        "outputId": "93bd6f35-d9f5-4118-a9de-0f7931a039d3"
      },
      "execution_count": null,
      "outputs": [
        {
          "output_type": "stream",
          "name": "stdout",
          "text": [
            "hidden states : [[[-0.3525774   0.9975177   0.98859644]\n",
            "  [-0.97740513  0.9973712   0.8081507 ]\n",
            "  [-0.69737613  0.59217644 -0.787685  ]\n",
            "  [-0.9807935   0.95753706  0.97049284]]], shape: (1, 4, 3)\n"
          ]
        }
      ]
    },
    {
      "cell_type": "code",
      "source": [
        "#return_state가 True일 경우에는 return_sequences의 True/False 여부와 상관없이 마지막 시점의 은닉 상태를 출력.\n",
        "#가령, return_sequences가 True이면서, return_state를 True로 할 경우 SimpleRNN은 두 개의 출력을 리턴\n",
        "\n",
        "rnn = SimpleRNN(3, return_sequences=True, return_state=True)\n",
        "hidden_states, last_state = rnn(train_X)\n",
        "\n",
        "print('hidden states : {}, shape: {}'.format(hidden_states, hidden_states.shape)) #return_sequences=True로 인한 출력으로 모든 시점의 은닉 상태\n",
        "print('last hidden state : {}, shape: {}'.format(last_state, last_state.shape)) #return_state=True로 인한 출력으로 마지막 시점의 은닉 상태"
      ],
      "metadata": {
        "colab": {
          "base_uri": "https://localhost:8080/"
        },
        "id": "bX7U8RIOxlfv",
        "outputId": "9d3d2170-8b17-4c37-d9a8-4d1bb58d0142"
      },
      "execution_count": null,
      "outputs": [
        {
          "output_type": "stream",
          "name": "stdout",
          "text": [
            "hidden states : [[[ 0.36600313 -0.40871763  0.753031  ]\n",
            "  [ 0.640735   -0.60958457  0.8696453 ]\n",
            "  [ 0.94173086 -0.9321267   0.08746877]\n",
            "  [-0.49381325 -0.7780746   0.87357324]]], shape: (1, 4, 3)\n",
            "last hidden state : [[-0.49381325 -0.7780746   0.87357324]], shape: (1, 3)\n"
          ]
        }
      ]
    },
    {
      "cell_type": "code",
      "source": [
        "# return_sequences는 False인데, retun_state가 True인 경우\n",
        "rnn = SimpleRNN(3, return_sequences=False, return_state=True)\n",
        "hidden_state, last_state = rnn(train_X)\n",
        "\n",
        "print('hidden state : {}, shape: {}'.format(hidden_state, hidden_state.shape))\n",
        "print('last hidden state : {}, shape: {}'.format(last_state, last_state.shape))"
      ],
      "metadata": {
        "colab": {
          "base_uri": "https://localhost:8080/"
        },
        "id": "XBjF-Ei1yLoC",
        "outputId": "3010c4dc-e361-4ae1-c954-80064b012fdc"
      },
      "execution_count": null,
      "outputs": [
        {
          "output_type": "stream",
          "name": "stdout",
          "text": [
            "hidden state : [[ 0.99709374  0.96943474 -0.29437113]], shape: (1, 3)\n",
            "last hidden state : [[ 0.99709374  0.96943474 -0.29437113]], shape: (1, 3)\n"
          ]
        }
      ]
    },
    {
      "cell_type": "markdown",
      "source": [
        "LSTM 이해하기"
      ],
      "metadata": {
        "id": "wkwYLVGuyjBc"
      }
    },
    {
      "cell_type": "code",
      "source": [
        "#return_sequences를 False로 두고, return_state가 True인 경우\n",
        "lstm = LSTM(3, return_sequences=False, return_state=True)\n",
        "hidden_state, last_state, last_cell_state = lstm(train_X)\n",
        "\n",
        "print('hidden state : {}, shape: {}'.format(hidden_state, hidden_state.shape))\n",
        "print('last hidden state : {}, shape: {}'.format(last_state, last_state.shape))\n",
        "print('last cell state : {}, shape: {}'.format(last_cell_state, last_cell_state.shape))"
      ],
      "metadata": {
        "colab": {
          "base_uri": "https://localhost:8080/"
        },
        "id": "ZBEXN6a2yO96",
        "outputId": "3d176f96-880b-466a-f8dd-a0b314a12844"
      },
      "execution_count": null,
      "outputs": [
        {
          "output_type": "stream",
          "name": "stdout",
          "text": [
            "hidden state : [[-0.2048993  0.4089366  0.8151476]], shape: (1, 3)\n",
            "last hidden state : [[-0.2048993  0.4089366  0.8151476]], shape: (1, 3)\n",
            "last cell state : [[-0.701764   1.7683995  2.642984 ]], shape: (1, 3)\n"
          ]
        }
      ]
    },
    {
      "cell_type": "markdown",
      "source": [
        "SimpleRNN 때와는 달리, 세 개의 결과를 반환합니다. return_sequences가 False이므로 우선 첫번째 결과는 마지막 시점의 은닉 상태. 그런데 LSTM이 SimpleRNN과 다른 점은 return_state를 True로 둔 경우에는 마지막 시점의 은닉 상태뿐만 아니라 셀 상태까지 반환한다는 점~"
      ],
      "metadata": {
        "id": "LbJEA-NJyzNf"
      }
    },
    {
      "cell_type": "code",
      "source": [
        "#return_sequences를 True로 바꿔본 경우\n",
        "lstm = LSTM(3, return_sequences=True, return_state=True)\n",
        "hidden_states, last_hidden_state, last_cell_state = lstm(train_X)\n",
        "\n",
        "print('hidden states : {}, shape: {}'.format(hidden_states, hidden_states.shape))\n",
        "print('last hidden state : {}, shape: {}'.format(last_hidden_state, last_hidden_state.shape))\n",
        "print('last cell state : {}, shape: {}'.format(last_cell_state, last_cell_state.shape))"
      ],
      "metadata": {
        "colab": {
          "base_uri": "https://localhost:8080/"
        },
        "id": "15AfXCn3yvFM",
        "outputId": "1b04bc72-f690-402f-b125-07f5fe1b62ea"
      },
      "execution_count": null,
      "outputs": [
        {
          "output_type": "stream",
          "name": "stdout",
          "text": [
            "hidden states : [[[-0.36674795 -0.08116142  0.09053811]\n",
            "  [-0.72911125 -0.16662082  0.09064947]\n",
            "  [-0.46029204 -0.33348414  0.25463957]\n",
            "  [-0.77173483 -0.39940864  0.24613968]]], shape: (1, 4, 3)\n",
            "last hidden state : [[-0.77173483 -0.39940864  0.24613968]], shape: (1, 3)\n",
            "last cell state : [[-2.0115142 -0.8001206  1.5631862]], shape: (1, 3)\n"
          ]
        }
      ]
    },
    {
      "cell_type": "markdown",
      "source": [
        "Bidirectional(LSTM) 이해하기"
      ],
      "metadata": {
        "id": "gVZ1aCDGzHAg"
      }
    },
    {
      "cell_type": "code",
      "source": [
        "k_init = tf.keras.initializers.Constant(value=0.1) #가중치 행렬 초기화에 사용되며, 모든 가중치를 0.1로 초기화\n",
        "b_init = tf.keras.initializers.Constant(value=0) #편향(bias) 초기화에 사용되며, 모든 편향을 0으로 초기화\n",
        "r_init = tf.keras.initializers.Constant(value=0.1) #순환 가중치 행렬 초기화에 사용되며, 모든 순환 가중치를 0.1로 초기화\n",
        "\n",
        "# return_sequences가 False이고, return_state가 True인 경우\n",
        "bilstm = Bidirectional(LSTM(3, return_sequences=False, return_state=True, \\\n",
        "                            kernel_initializer=k_init, bias_initializer=b_init, recurrent_initializer=r_init))\n",
        "hidden_states, forward_h, forward_c, backward_h, backward_c = bilstm(train_X)\n",
        "\n",
        "print('hidden states : {}, shape: {}'.format(hidden_states, hidden_states.shape)) # Bidirectional LSTM 레이어의 출력으로, 각 시점의 은닉 상태를 포함하는 2D 배열\n",
        "print('forward state : {}, shape: {}'.format(forward_h, forward_h.shape)) # 순방향 LSTM의 은닉 상태와 셀 상태\n",
        "print('backward state : {}, shape: {}'.format(backward_h, backward_h.shape)) # 역방향 LSTM의 은닉 상태와 셀 상태"
      ],
      "metadata": {
        "colab": {
          "base_uri": "https://localhost:8080/"
        },
        "id": "Le5ChzNay9l9",
        "outputId": "7e7d3757-08c8-4c4e-f057-189021ab858d"
      },
      "execution_count": null,
      "outputs": [
        {
          "output_type": "stream",
          "name": "stdout",
          "text": [
            "hidden states : [[0.6303138 0.6303138 0.6303138 0.7038734 0.7038734 0.7038734]], shape: (1, 6)\n",
            "forward state : [[0.6303138 0.6303138 0.6303138]], shape: (1, 3)\n",
            "backward state : [[0.7038734 0.7038734 0.7038734]], shape: (1, 3)\n"
          ]
        }
      ]
    },
    {
      "cell_type": "markdown",
      "source": [
        "return_state가 True인 경우에는 정방향 LSTM의 은닉 상태와 셀 상태, 역방향 LSTM의 은닉 상태와 셀 상태 4가지를 반환"
      ],
      "metadata": {
        "id": "EssqVcWn1QaD"
      }
    },
    {
      "cell_type": "code",
      "source": [
        "#return_sequences를 True로 할 경우\n",
        "bilstm = Bidirectional(LSTM(3, return_sequences=True, return_state=True, \\\n",
        "                            kernel_initializer=k_init, bias_initializer=b_init, recurrent_initializer=r_init))\n",
        "hidden_states, forward_h, forward_c, backward_h, backward_c = bilstm(train_X)\n",
        "\n",
        "print('hidden states : {}, shape: {}'.format(hidden_states, hidden_states.shape)) #hidden states의 출력값에서는 이제 모든 시점의 은닉 상태가 출력\n",
        "print('forward state : {}, shape: {}'.format(forward_h, forward_h.shape))\n",
        "print('backward state : {}, shape: {}'.format(backward_h, backward_h.shape))\n"
      ],
      "metadata": {
        "colab": {
          "base_uri": "https://localhost:8080/"
        },
        "id": "ICLK7XNK0Nji",
        "outputId": "90a96b44-985f-43d9-a062-572848272467"
      },
      "execution_count": null,
      "outputs": [
        {
          "output_type": "stream",
          "name": "stdout",
          "text": [
            "hidden states : [[[0.35906473 0.35906473 0.35906473 0.7038734  0.7038734  0.7038734 ]\n",
            "  [0.55111325 0.55111325 0.55111325 0.58863586 0.58863586 0.58863586]\n",
            "  [0.59115744 0.59115744 0.59115744 0.3951699  0.3951699  0.3951699 ]\n",
            "  [0.6303138  0.6303138  0.6303138  0.21942244 0.21942244 0.21942244]]], shape: (1, 4, 6)\n",
            "forward state : [[0.6303138 0.6303138 0.6303138]], shape: (1, 3)\n",
            "backward state : [[0.7038734 0.7038734 0.7038734]], shape: (1, 3)\n"
          ]
        }
      ]
    },
    {
      "cell_type": "markdown",
      "source": [
        "08-06 RNN을 이용한 텍스트 생성(Text Generation using RNN)"
      ],
      "metadata": {
        "id": "mW2JkCPx1yiF"
      }
    },
    {
      "cell_type": "markdown",
      "source": [
        "RNN을 이용하여 텍스트 생성하기"
      ],
      "metadata": {
        "id": "NPYSNBQlqoLQ"
      }
    },
    {
      "cell_type": "code",
      "source": [
        "import numpy as np\n",
        "from tensorflow.keras.preprocessing.text import Tokenizer\n",
        "from tensorflow.keras.preprocessing.sequence import pad_sequences\n",
        "from tensorflow.keras.utils import to_categorical\n",
        "\n",
        "text = \"\"\"경마장에 있는 말이 뛰고 있다\\n\n",
        "그의 말이 법이다\\n\n",
        "가는 말이 고와야 오는 말이 곱다\\n\"\"\"\n",
        "\n",
        "tokenizer = Tokenizer()\n",
        "tokenizer.fit_on_texts([text])\n",
        "vocab_size = len(tokenizer.word_index) + 1\n",
        "print('단어 집합의 크기 : %d' % vocab_size)"
      ],
      "metadata": {
        "id": "tyqOMdqC1i6_",
        "colab": {
          "base_uri": "https://localhost:8080/"
        },
        "outputId": "870b3953-952a-4c73-dcf2-2f6e0c5152ae"
      },
      "execution_count": 1,
      "outputs": [
        {
          "output_type": "stream",
          "name": "stdout",
          "text": [
            "단어 집합의 크기 : 12\n"
          ]
        }
      ]
    },
    {
      "cell_type": "code",
      "source": [
        "print(tokenizer.word_index)"
      ],
      "metadata": {
        "colab": {
          "base_uri": "https://localhost:8080/"
        },
        "id": "mZ20Nc4erc4E",
        "outputId": "ccf8b0e3-c764-462b-96c1-ee6d0f31c9d0"
      },
      "execution_count": 2,
      "outputs": [
        {
          "output_type": "stream",
          "name": "stdout",
          "text": [
            "{'말이': 1, '경마장에': 2, '있는': 3, '뛰고': 4, '있다': 5, '그의': 6, '법이다': 7, '가는': 8, '고와야': 9, '오는': 10, '곱다': 11}\n"
          ]
        }
      ]
    },
    {
      "cell_type": "code",
      "source": [
        "sequences = list()\n",
        "for line in text.split('\\n'): # 줄바꿈 문자를 기준으로 문장 토큰화\n",
        "    encoded = tokenizer.texts_to_sequences([line])[0]\n",
        "    for i in range(1, len(encoded)):\n",
        "        sequence = encoded[:i+1]\n",
        "        sequences.append(sequence)\n",
        "\n",
        "print('학습에 사용할 샘플의 개수: %d' % len(sequences))\n",
        "print(sequences) #전체 샘플"
      ],
      "metadata": {
        "colab": {
          "base_uri": "https://localhost:8080/"
        },
        "id": "gXJF2Kg5rg8K",
        "outputId": "fc404b00-a8ce-4634-9625-9f04e1c44f1c"
      },
      "execution_count": 3,
      "outputs": [
        {
          "output_type": "stream",
          "name": "stdout",
          "text": [
            "학습에 사용할 샘플의 개수: 11\n",
            "[[2, 3], [2, 3, 1], [2, 3, 1, 4], [2, 3, 1, 4, 5], [6, 1], [6, 1, 7], [8, 1], [8, 1, 9], [8, 1, 9, 10], [8, 1, 9, 10, 1], [8, 1, 9, 10, 1, 11]]\n"
          ]
        }
      ]
    },
    {
      "cell_type": "code",
      "source": [
        "max_len = max(len(l) for l in sequences) # 모든 샘플에서 길이가 가장 긴 샘플의 길이 출력\n",
        "print('샘플의 최대 길이 : {}'.format(max_len))"
      ],
      "metadata": {
        "colab": {
          "base_uri": "https://localhost:8080/"
        },
        "id": "h-WcHgFMrrbP",
        "outputId": "15672175-9be5-4152-b4fa-ec8cd7dc2ffe"
      },
      "execution_count": 4,
      "outputs": [
        {
          "output_type": "stream",
          "name": "stdout",
          "text": [
            "샘플의 최대 길이 : 6\n"
          ]
        }
      ]
    },
    {
      "cell_type": "code",
      "source": [
        "#전체 샘플의 길이를 6으로 패딩\n",
        "sequences = pad_sequences(sequences, maxlen=max_len, padding='pre')"
      ],
      "metadata": {
        "id": "igBzNSFErwB-"
      },
      "execution_count": 6,
      "outputs": []
    },
    {
      "cell_type": "code",
      "source": [
        "print(sequences)"
      ],
      "metadata": {
        "colab": {
          "base_uri": "https://localhost:8080/"
        },
        "id": "_16MRaiyryDV",
        "outputId": "4c1602be-d0a3-449c-bb57-2cdb462f01d5"
      },
      "execution_count": 7,
      "outputs": [
        {
          "output_type": "stream",
          "name": "stdout",
          "text": [
            "[[ 0  0  0  0  2  3]\n",
            " [ 0  0  0  2  3  1]\n",
            " [ 0  0  2  3  1  4]\n",
            " [ 0  2  3  1  4  5]\n",
            " [ 0  0  0  0  6  1]\n",
            " [ 0  0  0  6  1  7]\n",
            " [ 0  0  0  0  8  1]\n",
            " [ 0  0  0  8  1  9]\n",
            " [ 0  0  8  1  9 10]\n",
            " [ 0  8  1  9 10  1]\n",
            " [ 8  1  9 10  1 11]]\n"
          ]
        }
      ]
    },
    {
      "cell_type": "code",
      "source": [
        "sequences = np.array(sequences)\n",
        "X = sequences[:,:-1] #리스트의 마지막 값을 제외하고 저장\n",
        "y = sequences[:,-1] #리스트의 마지막 값만 저장한 것은 y"
      ],
      "metadata": {
        "id": "wl5GUu1VsLS5"
      },
      "execution_count": 8,
      "outputs": []
    },
    {
      "cell_type": "code",
      "source": [
        "print(X)"
      ],
      "metadata": {
        "colab": {
          "base_uri": "https://localhost:8080/"
        },
        "id": "AzVyzH2ssTRi",
        "outputId": "5353f190-4179-4ec0-c850-169fe1a8fdc4"
      },
      "execution_count": 9,
      "outputs": [
        {
          "output_type": "stream",
          "name": "stdout",
          "text": [
            "[[ 0  0  0  0  2]\n",
            " [ 0  0  0  2  3]\n",
            " [ 0  0  2  3  1]\n",
            " [ 0  2  3  1  4]\n",
            " [ 0  0  0  0  6]\n",
            " [ 0  0  0  6  1]\n",
            " [ 0  0  0  0  8]\n",
            " [ 0  0  0  8  1]\n",
            " [ 0  0  8  1  9]\n",
            " [ 0  8  1  9 10]\n",
            " [ 8  1  9 10  1]]\n"
          ]
        }
      ]
    },
    {
      "cell_type": "code",
      "source": [
        "print(y)"
      ],
      "metadata": {
        "colab": {
          "base_uri": "https://localhost:8080/"
        },
        "id": "059tvHXTsWvP",
        "outputId": "1e851846-18a0-4f49-8321-6583061bf610"
      },
      "execution_count": 10,
      "outputs": [
        {
          "output_type": "stream",
          "name": "stdout",
          "text": [
            "[ 3  1  4  5  1  7  1  9 10  1 11]\n"
          ]
        }
      ]
    },
    {
      "cell_type": "code",
      "source": [
        "#RNN 모델에 훈련 데이터를 훈련 시키기 전에 레이블에 대해서 원-핫 인코딩을 수행\n",
        "y = to_categorical(y, num_classes=vocab_size)"
      ],
      "metadata": {
        "id": "8lFsNBg-sZ_Y"
      },
      "execution_count": 11,
      "outputs": []
    },
    {
      "cell_type": "code",
      "source": [
        "print(y) #원-핫 인코딩 수행 확인"
      ],
      "metadata": {
        "colab": {
          "base_uri": "https://localhost:8080/"
        },
        "id": "tkagVdqZsgDM",
        "outputId": "77389751-381b-4743-c6f8-e98ceb6aa4b5"
      },
      "execution_count": 12,
      "outputs": [
        {
          "output_type": "stream",
          "name": "stdout",
          "text": [
            "[[0. 0. 0. 1. 0. 0. 0. 0. 0. 0. 0. 0.]\n",
            " [0. 1. 0. 0. 0. 0. 0. 0. 0. 0. 0. 0.]\n",
            " [0. 0. 0. 0. 1. 0. 0. 0. 0. 0. 0. 0.]\n",
            " [0. 0. 0. 0. 0. 1. 0. 0. 0. 0. 0. 0.]\n",
            " [0. 1. 0. 0. 0. 0. 0. 0. 0. 0. 0. 0.]\n",
            " [0. 0. 0. 0. 0. 0. 0. 1. 0. 0. 0. 0.]\n",
            " [0. 1. 0. 0. 0. 0. 0. 0. 0. 0. 0. 0.]\n",
            " [0. 0. 0. 0. 0. 0. 0. 0. 0. 1. 0. 0.]\n",
            " [0. 0. 0. 0. 0. 0. 0. 0. 0. 0. 1. 0.]\n",
            " [0. 1. 0. 0. 0. 0. 0. 0. 0. 0. 0. 0.]\n",
            " [0. 0. 0. 0. 0. 0. 0. 0. 0. 0. 0. 1.]]\n"
          ]
        }
      ]
    },
    {
      "cell_type": "markdown",
      "source": [
        "모델 설계하기"
      ],
      "metadata": {
        "id": "tKUKCMfmtgsx"
      }
    },
    {
      "cell_type": "code",
      "source": [
        "from tensorflow.keras.models import Sequential\n",
        "from tensorflow.keras.layers import Embedding, Dense, SimpleRNN\n",
        "\n",
        "embedding_dim = 10 #임베딩 벡터의 차원은 10\n",
        "hidden_units = 32 #은닉 상태의 크기는 32\n",
        "\n",
        "model = Sequential()\n",
        "model.add(Embedding(vocab_size, embedding_dim))\n",
        "model.add(SimpleRNN(hidden_units))\n",
        "model.add(Dense(vocab_size, activation='softmax'))\n",
        "model.compile(loss='categorical_crossentropy', optimizer='adam', metrics=['accuracy'])\n",
        "model.fit(X, y, epochs=200, verbose=2)"
      ],
      "metadata": {
        "colab": {
          "base_uri": "https://localhost:8080/"
        },
        "id": "IFRj4vPksj46",
        "outputId": "b4da468c-8fa0-45f7-859c-63f976a9dc9a"
      },
      "execution_count": 13,
      "outputs": [
        {
          "output_type": "stream",
          "name": "stdout",
          "text": [
            "Epoch 1/200\n",
            "1/1 - 1s - loss: 2.4885 - accuracy: 0.0909 - 1s/epoch - 1s/step\n",
            "Epoch 2/200\n",
            "1/1 - 0s - loss: 2.4760 - accuracy: 0.1818 - 7ms/epoch - 7ms/step\n",
            "Epoch 3/200\n",
            "1/1 - 0s - loss: 2.4637 - accuracy: 0.2727 - 7ms/epoch - 7ms/step\n",
            "Epoch 4/200\n",
            "1/1 - 0s - loss: 2.4514 - accuracy: 0.3636 - 9ms/epoch - 9ms/step\n",
            "Epoch 5/200\n",
            "1/1 - 0s - loss: 2.4390 - accuracy: 0.3636 - 10ms/epoch - 10ms/step\n",
            "Epoch 6/200\n",
            "1/1 - 0s - loss: 2.4265 - accuracy: 0.3636 - 10ms/epoch - 10ms/step\n",
            "Epoch 7/200\n",
            "1/1 - 0s - loss: 2.4137 - accuracy: 0.3636 - 15ms/epoch - 15ms/step\n",
            "Epoch 8/200\n",
            "1/1 - 0s - loss: 2.4005 - accuracy: 0.3636 - 9ms/epoch - 9ms/step\n",
            "Epoch 9/200\n",
            "1/1 - 0s - loss: 2.3868 - accuracy: 0.3636 - 8ms/epoch - 8ms/step\n",
            "Epoch 10/200\n",
            "1/1 - 0s - loss: 2.3725 - accuracy: 0.3636 - 7ms/epoch - 7ms/step\n",
            "Epoch 11/200\n",
            "1/1 - 0s - loss: 2.3576 - accuracy: 0.3636 - 7ms/epoch - 7ms/step\n",
            "Epoch 12/200\n",
            "1/1 - 0s - loss: 2.3420 - accuracy: 0.3636 - 7ms/epoch - 7ms/step\n",
            "Epoch 13/200\n",
            "1/1 - 0s - loss: 2.3256 - accuracy: 0.3636 - 7ms/epoch - 7ms/step\n",
            "Epoch 14/200\n",
            "1/1 - 0s - loss: 2.3083 - accuracy: 0.3636 - 7ms/epoch - 7ms/step\n",
            "Epoch 15/200\n",
            "1/1 - 0s - loss: 2.2901 - accuracy: 0.3636 - 7ms/epoch - 7ms/step\n",
            "Epoch 16/200\n",
            "1/1 - 0s - loss: 2.2709 - accuracy: 0.3636 - 7ms/epoch - 7ms/step\n",
            "Epoch 17/200\n",
            "1/1 - 0s - loss: 2.2508 - accuracy: 0.3636 - 7ms/epoch - 7ms/step\n",
            "Epoch 18/200\n",
            "1/1 - 0s - loss: 2.2296 - accuracy: 0.3636 - 8ms/epoch - 8ms/step\n",
            "Epoch 19/200\n",
            "1/1 - 0s - loss: 2.2075 - accuracy: 0.3636 - 8ms/epoch - 8ms/step\n",
            "Epoch 20/200\n",
            "1/1 - 0s - loss: 2.1845 - accuracy: 0.3636 - 12ms/epoch - 12ms/step\n",
            "Epoch 21/200\n",
            "1/1 - 0s - loss: 2.1607 - accuracy: 0.3636 - 8ms/epoch - 8ms/step\n",
            "Epoch 22/200\n",
            "1/1 - 0s - loss: 2.1361 - accuracy: 0.3636 - 8ms/epoch - 8ms/step\n",
            "Epoch 23/200\n",
            "1/1 - 0s - loss: 2.1111 - accuracy: 0.3636 - 9ms/epoch - 9ms/step\n",
            "Epoch 24/200\n",
            "1/1 - 0s - loss: 2.0858 - accuracy: 0.3636 - 11ms/epoch - 11ms/step\n",
            "Epoch 25/200\n",
            "1/1 - 0s - loss: 2.0604 - accuracy: 0.3636 - 13ms/epoch - 13ms/step\n",
            "Epoch 26/200\n",
            "1/1 - 0s - loss: 2.0353 - accuracy: 0.3636 - 10ms/epoch - 10ms/step\n",
            "Epoch 27/200\n",
            "1/1 - 0s - loss: 2.0107 - accuracy: 0.3636 - 13ms/epoch - 13ms/step\n",
            "Epoch 28/200\n",
            "1/1 - 0s - loss: 1.9868 - accuracy: 0.3636 - 10ms/epoch - 10ms/step\n",
            "Epoch 29/200\n",
            "1/1 - 0s - loss: 1.9638 - accuracy: 0.3636 - 13ms/epoch - 13ms/step\n",
            "Epoch 30/200\n",
            "1/1 - 0s - loss: 1.9419 - accuracy: 0.3636 - 14ms/epoch - 14ms/step\n",
            "Epoch 31/200\n",
            "1/1 - 0s - loss: 1.9209 - accuracy: 0.3636 - 12ms/epoch - 12ms/step\n",
            "Epoch 32/200\n",
            "1/1 - 0s - loss: 1.9007 - accuracy: 0.3636 - 10ms/epoch - 10ms/step\n",
            "Epoch 33/200\n",
            "1/1 - 0s - loss: 1.8812 - accuracy: 0.3636 - 10ms/epoch - 10ms/step\n",
            "Epoch 34/200\n",
            "1/1 - 0s - loss: 1.8620 - accuracy: 0.3636 - 10ms/epoch - 10ms/step\n",
            "Epoch 35/200\n",
            "1/1 - 0s - loss: 1.8430 - accuracy: 0.3636 - 9ms/epoch - 9ms/step\n",
            "Epoch 36/200\n",
            "1/1 - 0s - loss: 1.8239 - accuracy: 0.3636 - 9ms/epoch - 9ms/step\n",
            "Epoch 37/200\n",
            "1/1 - 0s - loss: 1.8046 - accuracy: 0.3636 - 11ms/epoch - 11ms/step\n",
            "Epoch 38/200\n",
            "1/1 - 0s - loss: 1.7851 - accuracy: 0.3636 - 9ms/epoch - 9ms/step\n",
            "Epoch 39/200\n",
            "1/1 - 0s - loss: 1.7655 - accuracy: 0.3636 - 10ms/epoch - 10ms/step\n",
            "Epoch 40/200\n",
            "1/1 - 0s - loss: 1.7457 - accuracy: 0.4545 - 10ms/epoch - 10ms/step\n",
            "Epoch 41/200\n",
            "1/1 - 0s - loss: 1.7261 - accuracy: 0.4545 - 11ms/epoch - 11ms/step\n",
            "Epoch 42/200\n",
            "1/1 - 0s - loss: 1.7066 - accuracy: 0.4545 - 10ms/epoch - 10ms/step\n",
            "Epoch 43/200\n",
            "1/1 - 0s - loss: 1.6874 - accuracy: 0.4545 - 13ms/epoch - 13ms/step\n",
            "Epoch 44/200\n",
            "1/1 - 0s - loss: 1.6685 - accuracy: 0.4545 - 12ms/epoch - 12ms/step\n",
            "Epoch 45/200\n",
            "1/1 - 0s - loss: 1.6500 - accuracy: 0.4545 - 12ms/epoch - 12ms/step\n",
            "Epoch 46/200\n",
            "1/1 - 0s - loss: 1.6317 - accuracy: 0.4545 - 9ms/epoch - 9ms/step\n",
            "Epoch 47/200\n",
            "1/1 - 0s - loss: 1.6135 - accuracy: 0.4545 - 9ms/epoch - 9ms/step\n",
            "Epoch 48/200\n",
            "1/1 - 0s - loss: 1.5955 - accuracy: 0.4545 - 11ms/epoch - 11ms/step\n",
            "Epoch 49/200\n",
            "1/1 - 0s - loss: 1.5774 - accuracy: 0.4545 - 10ms/epoch - 10ms/step\n",
            "Epoch 50/200\n",
            "1/1 - 0s - loss: 1.5592 - accuracy: 0.4545 - 12ms/epoch - 12ms/step\n",
            "Epoch 51/200\n",
            "1/1 - 0s - loss: 1.5410 - accuracy: 0.4545 - 11ms/epoch - 11ms/step\n",
            "Epoch 52/200\n",
            "1/1 - 0s - loss: 1.5226 - accuracy: 0.5455 - 8ms/epoch - 8ms/step\n",
            "Epoch 53/200\n",
            "1/1 - 0s - loss: 1.5041 - accuracy: 0.5455 - 9ms/epoch - 9ms/step\n",
            "Epoch 54/200\n",
            "1/1 - 0s - loss: 1.4857 - accuracy: 0.5455 - 12ms/epoch - 12ms/step\n",
            "Epoch 55/200\n",
            "1/1 - 0s - loss: 1.4673 - accuracy: 0.5455 - 12ms/epoch - 12ms/step\n",
            "Epoch 56/200\n",
            "1/1 - 0s - loss: 1.4490 - accuracy: 0.5455 - 11ms/epoch - 11ms/step\n",
            "Epoch 57/200\n",
            "1/1 - 0s - loss: 1.4309 - accuracy: 0.5455 - 11ms/epoch - 11ms/step\n",
            "Epoch 58/200\n",
            "1/1 - 0s - loss: 1.4130 - accuracy: 0.5455 - 9ms/epoch - 9ms/step\n",
            "Epoch 59/200\n",
            "1/1 - 0s - loss: 1.3953 - accuracy: 0.5455 - 12ms/epoch - 12ms/step\n",
            "Epoch 60/200\n",
            "1/1 - 0s - loss: 1.3776 - accuracy: 0.5455 - 11ms/epoch - 11ms/step\n",
            "Epoch 61/200\n",
            "1/1 - 0s - loss: 1.3601 - accuracy: 0.5455 - 11ms/epoch - 11ms/step\n",
            "Epoch 62/200\n",
            "1/1 - 0s - loss: 1.3426 - accuracy: 0.5455 - 13ms/epoch - 13ms/step\n",
            "Epoch 63/200\n",
            "1/1 - 0s - loss: 1.3252 - accuracy: 0.5455 - 9ms/epoch - 9ms/step\n",
            "Epoch 64/200\n",
            "1/1 - 0s - loss: 1.3077 - accuracy: 0.5455 - 12ms/epoch - 12ms/step\n",
            "Epoch 65/200\n",
            "1/1 - 0s - loss: 1.2902 - accuracy: 0.5455 - 12ms/epoch - 12ms/step\n",
            "Epoch 66/200\n",
            "1/1 - 0s - loss: 1.2727 - accuracy: 0.5455 - 10ms/epoch - 10ms/step\n",
            "Epoch 67/200\n",
            "1/1 - 0s - loss: 1.2551 - accuracy: 0.5455 - 12ms/epoch - 12ms/step\n",
            "Epoch 68/200\n",
            "1/1 - 0s - loss: 1.2376 - accuracy: 0.5455 - 11ms/epoch - 11ms/step\n",
            "Epoch 69/200\n",
            "1/1 - 0s - loss: 1.2201 - accuracy: 0.5455 - 10ms/epoch - 10ms/step\n",
            "Epoch 70/200\n",
            "1/1 - 0s - loss: 1.2026 - accuracy: 0.5455 - 9ms/epoch - 9ms/step\n",
            "Epoch 71/200\n",
            "1/1 - 0s - loss: 1.1852 - accuracy: 0.5455 - 10ms/epoch - 10ms/step\n",
            "Epoch 72/200\n",
            "1/1 - 0s - loss: 1.1678 - accuracy: 0.5455 - 9ms/epoch - 9ms/step\n",
            "Epoch 73/200\n",
            "1/1 - 0s - loss: 1.1504 - accuracy: 0.5455 - 10ms/epoch - 10ms/step\n",
            "Epoch 74/200\n",
            "1/1 - 0s - loss: 1.1331 - accuracy: 0.6364 - 10ms/epoch - 10ms/step\n",
            "Epoch 75/200\n",
            "1/1 - 0s - loss: 1.1158 - accuracy: 0.7273 - 9ms/epoch - 9ms/step\n",
            "Epoch 76/200\n",
            "1/1 - 0s - loss: 1.0986 - accuracy: 0.7273 - 12ms/epoch - 12ms/step\n",
            "Epoch 77/200\n",
            "1/1 - 0s - loss: 1.0814 - accuracy: 0.7273 - 11ms/epoch - 11ms/step\n",
            "Epoch 78/200\n",
            "1/1 - 0s - loss: 1.0643 - accuracy: 0.7273 - 8ms/epoch - 8ms/step\n",
            "Epoch 79/200\n",
            "1/1 - 0s - loss: 1.0474 - accuracy: 0.7273 - 8ms/epoch - 8ms/step\n",
            "Epoch 80/200\n",
            "1/1 - 0s - loss: 1.0305 - accuracy: 0.7273 - 8ms/epoch - 8ms/step\n",
            "Epoch 81/200\n",
            "1/1 - 0s - loss: 1.0139 - accuracy: 0.7273 - 7ms/epoch - 7ms/step\n",
            "Epoch 82/200\n",
            "1/1 - 0s - loss: 0.9973 - accuracy: 0.7273 - 7ms/epoch - 7ms/step\n",
            "Epoch 83/200\n",
            "1/1 - 0s - loss: 0.9810 - accuracy: 0.7273 - 7ms/epoch - 7ms/step\n",
            "Epoch 84/200\n",
            "1/1 - 0s - loss: 0.9648 - accuracy: 0.7273 - 7ms/epoch - 7ms/step\n",
            "Epoch 85/200\n",
            "1/1 - 0s - loss: 0.9488 - accuracy: 0.7273 - 8ms/epoch - 8ms/step\n",
            "Epoch 86/200\n",
            "1/1 - 0s - loss: 0.9330 - accuracy: 0.7273 - 8ms/epoch - 8ms/step\n",
            "Epoch 87/200\n",
            "1/1 - 0s - loss: 0.9173 - accuracy: 0.7273 - 11ms/epoch - 11ms/step\n",
            "Epoch 88/200\n",
            "1/1 - 0s - loss: 0.9019 - accuracy: 0.7273 - 10ms/epoch - 10ms/step\n",
            "Epoch 89/200\n",
            "1/1 - 0s - loss: 0.8866 - accuracy: 0.7273 - 9ms/epoch - 9ms/step\n",
            "Epoch 90/200\n",
            "1/1 - 0s - loss: 0.8715 - accuracy: 0.7273 - 9ms/epoch - 9ms/step\n",
            "Epoch 91/200\n",
            "1/1 - 0s - loss: 0.8566 - accuracy: 0.7273 - 7ms/epoch - 7ms/step\n",
            "Epoch 92/200\n",
            "1/1 - 0s - loss: 0.8420 - accuracy: 0.7273 - 7ms/epoch - 7ms/step\n",
            "Epoch 93/200\n",
            "1/1 - 0s - loss: 0.8276 - accuracy: 0.7273 - 8ms/epoch - 8ms/step\n",
            "Epoch 94/200\n",
            "1/1 - 0s - loss: 0.8133 - accuracy: 0.7273 - 7ms/epoch - 7ms/step\n",
            "Epoch 95/200\n",
            "1/1 - 0s - loss: 0.7993 - accuracy: 0.7273 - 8ms/epoch - 8ms/step\n",
            "Epoch 96/200\n",
            "1/1 - 0s - loss: 0.7855 - accuracy: 0.7273 - 8ms/epoch - 8ms/step\n",
            "Epoch 97/200\n",
            "1/1 - 0s - loss: 0.7719 - accuracy: 0.7273 - 11ms/epoch - 11ms/step\n",
            "Epoch 98/200\n",
            "1/1 - 0s - loss: 0.7585 - accuracy: 0.7273 - 11ms/epoch - 11ms/step\n",
            "Epoch 99/200\n",
            "1/1 - 0s - loss: 0.7453 - accuracy: 0.7273 - 7ms/epoch - 7ms/step\n",
            "Epoch 100/200\n",
            "1/1 - 0s - loss: 0.7323 - accuracy: 0.7273 - 9ms/epoch - 9ms/step\n",
            "Epoch 101/200\n",
            "1/1 - 0s - loss: 0.7195 - accuracy: 0.7273 - 8ms/epoch - 8ms/step\n",
            "Epoch 102/200\n",
            "1/1 - 0s - loss: 0.7069 - accuracy: 0.7273 - 10ms/epoch - 10ms/step\n",
            "Epoch 103/200\n",
            "1/1 - 0s - loss: 0.6945 - accuracy: 0.8182 - 8ms/epoch - 8ms/step\n",
            "Epoch 104/200\n",
            "1/1 - 0s - loss: 0.6824 - accuracy: 0.8182 - 8ms/epoch - 8ms/step\n",
            "Epoch 105/200\n",
            "1/1 - 0s - loss: 0.6704 - accuracy: 0.8182 - 8ms/epoch - 8ms/step\n",
            "Epoch 106/200\n",
            "1/1 - 0s - loss: 0.6587 - accuracy: 0.8182 - 7ms/epoch - 7ms/step\n",
            "Epoch 107/200\n",
            "1/1 - 0s - loss: 0.6471 - accuracy: 0.8182 - 7ms/epoch - 7ms/step\n",
            "Epoch 108/200\n",
            "1/1 - 0s - loss: 0.6358 - accuracy: 0.8182 - 7ms/epoch - 7ms/step\n",
            "Epoch 109/200\n",
            "1/1 - 0s - loss: 0.6246 - accuracy: 0.8182 - 7ms/epoch - 7ms/step\n",
            "Epoch 110/200\n",
            "1/1 - 0s - loss: 0.6137 - accuracy: 0.8182 - 7ms/epoch - 7ms/step\n",
            "Epoch 111/200\n",
            "1/1 - 0s - loss: 0.6029 - accuracy: 0.8182 - 8ms/epoch - 8ms/step\n",
            "Epoch 112/200\n",
            "1/1 - 0s - loss: 0.5924 - accuracy: 0.8182 - 7ms/epoch - 7ms/step\n",
            "Epoch 113/200\n",
            "1/1 - 0s - loss: 0.5820 - accuracy: 0.8182 - 9ms/epoch - 9ms/step\n",
            "Epoch 114/200\n",
            "1/1 - 0s - loss: 0.5718 - accuracy: 0.8182 - 8ms/epoch - 8ms/step\n",
            "Epoch 115/200\n",
            "1/1 - 0s - loss: 0.5618 - accuracy: 0.8182 - 8ms/epoch - 8ms/step\n",
            "Epoch 116/200\n",
            "1/1 - 0s - loss: 0.5519 - accuracy: 0.8182 - 8ms/epoch - 8ms/step\n",
            "Epoch 117/200\n",
            "1/1 - 0s - loss: 0.5422 - accuracy: 0.9091 - 8ms/epoch - 8ms/step\n",
            "Epoch 118/200\n",
            "1/1 - 0s - loss: 0.5327 - accuracy: 0.9091 - 8ms/epoch - 8ms/step\n",
            "Epoch 119/200\n",
            "1/1 - 0s - loss: 0.5233 - accuracy: 0.9091 - 8ms/epoch - 8ms/step\n",
            "Epoch 120/200\n",
            "1/1 - 0s - loss: 0.5141 - accuracy: 0.9091 - 8ms/epoch - 8ms/step\n",
            "Epoch 121/200\n",
            "1/1 - 0s - loss: 0.5051 - accuracy: 0.9091 - 8ms/epoch - 8ms/step\n",
            "Epoch 122/200\n",
            "1/1 - 0s - loss: 0.4962 - accuracy: 0.9091 - 8ms/epoch - 8ms/step\n",
            "Epoch 123/200\n",
            "1/1 - 0s - loss: 0.4874 - accuracy: 0.9091 - 8ms/epoch - 8ms/step\n",
            "Epoch 124/200\n",
            "1/1 - 0s - loss: 0.4788 - accuracy: 0.9091 - 8ms/epoch - 8ms/step\n",
            "Epoch 125/200\n",
            "1/1 - 0s - loss: 0.4703 - accuracy: 0.9091 - 8ms/epoch - 8ms/step\n",
            "Epoch 126/200\n",
            "1/1 - 0s - loss: 0.4620 - accuracy: 0.9091 - 8ms/epoch - 8ms/step\n",
            "Epoch 127/200\n",
            "1/1 - 0s - loss: 0.4537 - accuracy: 0.9091 - 8ms/epoch - 8ms/step\n",
            "Epoch 128/200\n",
            "1/1 - 0s - loss: 0.4456 - accuracy: 0.9091 - 8ms/epoch - 8ms/step\n",
            "Epoch 129/200\n",
            "1/1 - 0s - loss: 0.4377 - accuracy: 0.9091 - 8ms/epoch - 8ms/step\n",
            "Epoch 130/200\n",
            "1/1 - 0s - loss: 0.4298 - accuracy: 0.9091 - 8ms/epoch - 8ms/step\n",
            "Epoch 131/200\n",
            "1/1 - 0s - loss: 0.4221 - accuracy: 0.9091 - 12ms/epoch - 12ms/step\n",
            "Epoch 132/200\n",
            "1/1 - 0s - loss: 0.4145 - accuracy: 0.9091 - 13ms/epoch - 13ms/step\n",
            "Epoch 133/200\n",
            "1/1 - 0s - loss: 0.4071 - accuracy: 0.9091 - 8ms/epoch - 8ms/step\n",
            "Epoch 134/200\n",
            "1/1 - 0s - loss: 0.3997 - accuracy: 0.9091 - 8ms/epoch - 8ms/step\n",
            "Epoch 135/200\n",
            "1/1 - 0s - loss: 0.3925 - accuracy: 0.9091 - 10ms/epoch - 10ms/step\n",
            "Epoch 136/200\n",
            "1/1 - 0s - loss: 0.3854 - accuracy: 0.9091 - 8ms/epoch - 8ms/step\n",
            "Epoch 137/200\n",
            "1/1 - 0s - loss: 0.3784 - accuracy: 0.9091 - 8ms/epoch - 8ms/step\n",
            "Epoch 138/200\n",
            "1/1 - 0s - loss: 0.3715 - accuracy: 0.9091 - 8ms/epoch - 8ms/step\n",
            "Epoch 139/200\n",
            "1/1 - 0s - loss: 0.3647 - accuracy: 0.9091 - 10ms/epoch - 10ms/step\n",
            "Epoch 140/200\n",
            "1/1 - 0s - loss: 0.3580 - accuracy: 0.9091 - 9ms/epoch - 9ms/step\n",
            "Epoch 141/200\n",
            "1/1 - 0s - loss: 0.3515 - accuracy: 0.9091 - 9ms/epoch - 9ms/step\n",
            "Epoch 142/200\n",
            "1/1 - 0s - loss: 0.3450 - accuracy: 0.9091 - 9ms/epoch - 9ms/step\n",
            "Epoch 143/200\n",
            "1/1 - 0s - loss: 0.3387 - accuracy: 0.9091 - 9ms/epoch - 9ms/step\n",
            "Epoch 144/200\n",
            "1/1 - 0s - loss: 0.3325 - accuracy: 0.9091 - 9ms/epoch - 9ms/step\n",
            "Epoch 145/200\n",
            "1/1 - 0s - loss: 0.3264 - accuracy: 0.9091 - 9ms/epoch - 9ms/step\n",
            "Epoch 146/200\n",
            "1/1 - 0s - loss: 0.3203 - accuracy: 0.9091 - 9ms/epoch - 9ms/step\n",
            "Epoch 147/200\n",
            "1/1 - 0s - loss: 0.3144 - accuracy: 0.9091 - 9ms/epoch - 9ms/step\n",
            "Epoch 148/200\n",
            "1/1 - 0s - loss: 0.3086 - accuracy: 0.9091 - 9ms/epoch - 9ms/step\n",
            "Epoch 149/200\n",
            "1/1 - 0s - loss: 0.3029 - accuracy: 0.9091 - 10ms/epoch - 10ms/step\n",
            "Epoch 150/200\n",
            "1/1 - 0s - loss: 0.2973 - accuracy: 0.9091 - 10ms/epoch - 10ms/step\n",
            "Epoch 151/200\n",
            "1/1 - 0s - loss: 0.2918 - accuracy: 0.9091 - 10ms/epoch - 10ms/step\n",
            "Epoch 152/200\n",
            "1/1 - 0s - loss: 0.2864 - accuracy: 0.9091 - 10ms/epoch - 10ms/step\n",
            "Epoch 153/200\n",
            "1/1 - 0s - loss: 0.2811 - accuracy: 0.9091 - 10ms/epoch - 10ms/step\n",
            "Epoch 154/200\n",
            "1/1 - 0s - loss: 0.2759 - accuracy: 1.0000 - 9ms/epoch - 9ms/step\n",
            "Epoch 155/200\n",
            "1/1 - 0s - loss: 0.2708 - accuracy: 1.0000 - 10ms/epoch - 10ms/step\n",
            "Epoch 156/200\n",
            "1/1 - 0s - loss: 0.2657 - accuracy: 1.0000 - 11ms/epoch - 11ms/step\n",
            "Epoch 157/200\n",
            "1/1 - 0s - loss: 0.2608 - accuracy: 1.0000 - 10ms/epoch - 10ms/step\n",
            "Epoch 158/200\n",
            "1/1 - 0s - loss: 0.2559 - accuracy: 1.0000 - 8ms/epoch - 8ms/step\n",
            "Epoch 159/200\n",
            "1/1 - 0s - loss: 0.2512 - accuracy: 1.0000 - 8ms/epoch - 8ms/step\n",
            "Epoch 160/200\n",
            "1/1 - 0s - loss: 0.2465 - accuracy: 1.0000 - 8ms/epoch - 8ms/step\n",
            "Epoch 161/200\n",
            "1/1 - 0s - loss: 0.2419 - accuracy: 1.0000 - 8ms/epoch - 8ms/step\n",
            "Epoch 162/200\n",
            "1/1 - 0s - loss: 0.2374 - accuracy: 1.0000 - 8ms/epoch - 8ms/step\n",
            "Epoch 163/200\n",
            "1/1 - 0s - loss: 0.2330 - accuracy: 1.0000 - 8ms/epoch - 8ms/step\n",
            "Epoch 164/200\n",
            "1/1 - 0s - loss: 0.2287 - accuracy: 1.0000 - 9ms/epoch - 9ms/step\n",
            "Epoch 165/200\n",
            "1/1 - 0s - loss: 0.2244 - accuracy: 1.0000 - 8ms/epoch - 8ms/step\n",
            "Epoch 166/200\n",
            "1/1 - 0s - loss: 0.2203 - accuracy: 1.0000 - 9ms/epoch - 9ms/step\n",
            "Epoch 167/200\n",
            "1/1 - 0s - loss: 0.2162 - accuracy: 1.0000 - 10ms/epoch - 10ms/step\n",
            "Epoch 168/200\n",
            "1/1 - 0s - loss: 0.2122 - accuracy: 1.0000 - 8ms/epoch - 8ms/step\n",
            "Epoch 169/200\n",
            "1/1 - 0s - loss: 0.2082 - accuracy: 1.0000 - 8ms/epoch - 8ms/step\n",
            "Epoch 170/200\n",
            "1/1 - 0s - loss: 0.2044 - accuracy: 1.0000 - 8ms/epoch - 8ms/step\n",
            "Epoch 171/200\n",
            "1/1 - 0s - loss: 0.2006 - accuracy: 1.0000 - 7ms/epoch - 7ms/step\n",
            "Epoch 172/200\n",
            "1/1 - 0s - loss: 0.1969 - accuracy: 1.0000 - 8ms/epoch - 8ms/step\n",
            "Epoch 173/200\n",
            "1/1 - 0s - loss: 0.1932 - accuracy: 1.0000 - 8ms/epoch - 8ms/step\n",
            "Epoch 174/200\n",
            "1/1 - 0s - loss: 0.1897 - accuracy: 1.0000 - 8ms/epoch - 8ms/step\n",
            "Epoch 175/200\n",
            "1/1 - 0s - loss: 0.1862 - accuracy: 1.0000 - 8ms/epoch - 8ms/step\n",
            "Epoch 176/200\n",
            "1/1 - 0s - loss: 0.1827 - accuracy: 1.0000 - 8ms/epoch - 8ms/step\n",
            "Epoch 177/200\n",
            "1/1 - 0s - loss: 0.1794 - accuracy: 1.0000 - 8ms/epoch - 8ms/step\n",
            "Epoch 178/200\n",
            "1/1 - 0s - loss: 0.1761 - accuracy: 1.0000 - 8ms/epoch - 8ms/step\n",
            "Epoch 179/200\n",
            "1/1 - 0s - loss: 0.1728 - accuracy: 1.0000 - 8ms/epoch - 8ms/step\n",
            "Epoch 180/200\n",
            "1/1 - 0s - loss: 0.1697 - accuracy: 1.0000 - 7ms/epoch - 7ms/step\n",
            "Epoch 181/200\n",
            "1/1 - 0s - loss: 0.1666 - accuracy: 1.0000 - 11ms/epoch - 11ms/step\n",
            "Epoch 182/200\n",
            "1/1 - 0s - loss: 0.1635 - accuracy: 1.0000 - 8ms/epoch - 8ms/step\n",
            "Epoch 183/200\n",
            "1/1 - 0s - loss: 0.1605 - accuracy: 1.0000 - 8ms/epoch - 8ms/step\n",
            "Epoch 184/200\n",
            "1/1 - 0s - loss: 0.1576 - accuracy: 1.0000 - 9ms/epoch - 9ms/step\n",
            "Epoch 185/200\n",
            "1/1 - 0s - loss: 0.1548 - accuracy: 1.0000 - 8ms/epoch - 8ms/step\n",
            "Epoch 186/200\n",
            "1/1 - 0s - loss: 0.1520 - accuracy: 1.0000 - 8ms/epoch - 8ms/step\n",
            "Epoch 187/200\n",
            "1/1 - 0s - loss: 0.1492 - accuracy: 1.0000 - 8ms/epoch - 8ms/step\n",
            "Epoch 188/200\n",
            "1/1 - 0s - loss: 0.1465 - accuracy: 1.0000 - 8ms/epoch - 8ms/step\n",
            "Epoch 189/200\n",
            "1/1 - 0s - loss: 0.1439 - accuracy: 1.0000 - 10ms/epoch - 10ms/step\n",
            "Epoch 190/200\n",
            "1/1 - 0s - loss: 0.1413 - accuracy: 1.0000 - 8ms/epoch - 8ms/step\n",
            "Epoch 191/200\n",
            "1/1 - 0s - loss: 0.1388 - accuracy: 1.0000 - 14ms/epoch - 14ms/step\n",
            "Epoch 192/200\n",
            "1/1 - 0s - loss: 0.1363 - accuracy: 1.0000 - 12ms/epoch - 12ms/step\n",
            "Epoch 193/200\n",
            "1/1 - 0s - loss: 0.1339 - accuracy: 1.0000 - 12ms/epoch - 12ms/step\n",
            "Epoch 194/200\n",
            "1/1 - 0s - loss: 0.1315 - accuracy: 1.0000 - 10ms/epoch - 10ms/step\n",
            "Epoch 195/200\n",
            "1/1 - 0s - loss: 0.1292 - accuracy: 1.0000 - 8ms/epoch - 8ms/step\n",
            "Epoch 196/200\n",
            "1/1 - 0s - loss: 0.1270 - accuracy: 1.0000 - 11ms/epoch - 11ms/step\n",
            "Epoch 197/200\n",
            "1/1 - 0s - loss: 0.1247 - accuracy: 1.0000 - 14ms/epoch - 14ms/step\n",
            "Epoch 198/200\n",
            "1/1 - 0s - loss: 0.1226 - accuracy: 1.0000 - 11ms/epoch - 11ms/step\n",
            "Epoch 199/200\n",
            "1/1 - 0s - loss: 0.1204 - accuracy: 1.0000 - 8ms/epoch - 8ms/step\n",
            "Epoch 200/200\n",
            "1/1 - 0s - loss: 0.1184 - accuracy: 1.0000 - 8ms/epoch - 8ms/step\n"
          ]
        },
        {
          "output_type": "execute_result",
          "data": {
            "text/plain": [
              "<keras.src.callbacks.History at 0x78b198597f70>"
            ]
          },
          "metadata": {},
          "execution_count": 13
        }
      ]
    },
    {
      "cell_type": "code",
      "source": [
        "def sentence_generation(model, tokenizer, current_word, n): # 모델, 토크나이저, 현재 단어, 반복할 횟수\n",
        "    init_word = current_word\n",
        "    sentence = ''\n",
        "\n",
        "    # n번 반복\n",
        "    for _ in range(n):\n",
        "        # 현재 단어에 대한 정수 인코딩과 패딩\n",
        "        encoded = tokenizer.texts_to_sequences([current_word])[0]\n",
        "        encoded = pad_sequences([encoded], maxlen=5, padding='pre')\n",
        "        # 입력한 X(현재 단어)에 대해서 Y를 예측하고 Y(예측한 단어)를 result에 저장.\n",
        "        result = model.predict(encoded, verbose=0)\n",
        "        result = np.argmax(result, axis=1)\n",
        "\n",
        "        for word, index in tokenizer.word_index.items():\n",
        "            # 만약 예측한 단어와 인덱스와 동일한 단어가 있다면 break\n",
        "            if index == result:\n",
        "                break\n",
        "\n",
        "        # 현재 단어 + ' ' + 예측 단어를 현재 단어로 변경\n",
        "        current_word = current_word + ' '  + word\n",
        "\n",
        "        # 예측 단어를 문장에 저장\n",
        "        sentence = sentence + ' ' + word\n",
        "\n",
        "    sentence = init_word + sentence\n",
        "    return sentence"
      ],
      "metadata": {
        "id": "2urtSrGJtktx"
      },
      "execution_count": 14,
      "outputs": []
    },
    {
      "cell_type": "code",
      "source": [
        "print(sentence_generation(model, tokenizer, '경마장에', 4))"
      ],
      "metadata": {
        "colab": {
          "base_uri": "https://localhost:8080/"
        },
        "id": "NO5xxwoXt00g",
        "outputId": "3b3b6d5f-3bbb-47c6-e349-1917c299432b"
      },
      "execution_count": 15,
      "outputs": [
        {
          "output_type": "stream",
          "name": "stdout",
          "text": [
            "경마장에 있는 말이 뛰고 있다\n"
          ]
        }
      ]
    },
    {
      "cell_type": "markdown",
      "source": [
        "LSTM을 이용하여 텍스트 생성하기"
      ],
      "metadata": {
        "id": "9_FMbrIsvTT6"
      }
    },
    {
      "cell_type": "code",
      "source": [
        "import pandas as pd\n",
        "import numpy as np\n",
        "from string import punctuation\n",
        "\n",
        "from tensorflow.keras.preprocessing.text import Tokenizer\n",
        "from tensorflow.keras.preprocessing.sequence import pad_sequences\n",
        "from tensorflow.keras.utils import to_categorical"
      ],
      "metadata": {
        "id": "gef8gXW3t3j5"
      },
      "execution_count": 16,
      "outputs": []
    },
    {
      "cell_type": "code",
      "source": [
        "df = pd.read_csv('/content/ArticlesApril2018.csv')\n",
        "df.head()"
      ],
      "metadata": {
        "colab": {
          "base_uri": "https://localhost:8080/",
          "height": 660
        },
        "id": "aPB2_ur8vWHR",
        "outputId": "e92b33f6-4931-4a2a-9276-3ab5c39f30cb"
      },
      "execution_count": 17,
      "outputs": [
        {
          "output_type": "execute_result",
          "data": {
            "text/plain": [
              "                  articleID  articleWordCount  \\\n",
              "0  5adf6684068401528a2aa69b               781   \n",
              "1  5adf653f068401528a2aa697               656   \n",
              "2  5adf4626068401528a2aa628              2427   \n",
              "3  5adf40d2068401528a2aa619               626   \n",
              "4  5adf3d64068401528a2aa60f               815   \n",
              "\n",
              "                                      byline documentType  \\\n",
              "0                             By JOHN BRANCH      article   \n",
              "1                           By LISA FRIEDMAN      article   \n",
              "2                              By PETE WELLS      article   \n",
              "3  By JULIE HIRSCHFELD DAVIS and PETER BAKER      article   \n",
              "4             By IAN AUSTEN and DAN BILEFSKY      article   \n",
              "\n",
              "                                            headline  \\\n",
              "0  Former N.F.L. Cheerleaders’ Settlement Offer: ...   \n",
              "1  E.P.A. to Unveil a New Rule. Its Effect: Less ...   \n",
              "2                            The New Noma, Explained   \n",
              "3                                            Unknown   \n",
              "4                                            Unknown   \n",
              "\n",
              "                                            keywords  multimedia     newDesk  \\\n",
              "0  ['Workplace Hazards and Violations', 'Football...          68      Sports   \n",
              "1  ['Environmental Protection Agency', 'Pruitt, S...          68     Climate   \n",
              "2  ['Restaurants', 'Noma (Copenhagen, Restaurant)...          66      Dining   \n",
              "3  ['Macron, Emmanuel (1977- )', 'Trump, Donald J...          68  Washington   \n",
              "4  ['Toronto, Ontario, Attack (April, 2018)', 'Mu...          68     Foreign   \n",
              "\n",
              "   printPage              pubDate   sectionName  \\\n",
              "0          0  2018-04-24 17:16:49  Pro Football   \n",
              "1          0  2018-04-24 17:11:21       Unknown   \n",
              "2          0  2018-04-24 14:58:44       Unknown   \n",
              "3          0  2018-04-24 14:35:57        Europe   \n",
              "4          0  2018-04-24 14:21:21        Canada   \n",
              "\n",
              "                                             snippet              source  \\\n",
              "0  “I understand that they could meet with us, pa...  The New York Times   \n",
              "1  The agency plans to publish a new regulation T...  The New York Times   \n",
              "2  What’s it like to eat at the second incarnatio...  The New York Times   \n",
              "3  President Trump welcomed President Emmanuel Ma...  The New York Times   \n",
              "4  Alek Minassian, 25, a resident of Toronto’s Ri...  The New York Times   \n",
              "\n",
              "  typeOfMaterial                                             webURL  \n",
              "0           News  https://www.nytimes.com/2018/04/24/sports/foot...  \n",
              "1           News  https://www.nytimes.com/2018/04/24/climate/epa...  \n",
              "2           News  https://www.nytimes.com/2018/04/24/dining/noma...  \n",
              "3           News  https://www.nytimes.com/2018/04/24/world/europ...  \n",
              "4           News  https://www.nytimes.com/2018/04/24/world/canad...  "
            ],
            "text/html": [
              "\n",
              "  <div id=\"df-c773183c-8b06-4700-b1a1-75fa36030428\" class=\"colab-df-container\">\n",
              "    <div>\n",
              "<style scoped>\n",
              "    .dataframe tbody tr th:only-of-type {\n",
              "        vertical-align: middle;\n",
              "    }\n",
              "\n",
              "    .dataframe tbody tr th {\n",
              "        vertical-align: top;\n",
              "    }\n",
              "\n",
              "    .dataframe thead th {\n",
              "        text-align: right;\n",
              "    }\n",
              "</style>\n",
              "<table border=\"1\" class=\"dataframe\">\n",
              "  <thead>\n",
              "    <tr style=\"text-align: right;\">\n",
              "      <th></th>\n",
              "      <th>articleID</th>\n",
              "      <th>articleWordCount</th>\n",
              "      <th>byline</th>\n",
              "      <th>documentType</th>\n",
              "      <th>headline</th>\n",
              "      <th>keywords</th>\n",
              "      <th>multimedia</th>\n",
              "      <th>newDesk</th>\n",
              "      <th>printPage</th>\n",
              "      <th>pubDate</th>\n",
              "      <th>sectionName</th>\n",
              "      <th>snippet</th>\n",
              "      <th>source</th>\n",
              "      <th>typeOfMaterial</th>\n",
              "      <th>webURL</th>\n",
              "    </tr>\n",
              "  </thead>\n",
              "  <tbody>\n",
              "    <tr>\n",
              "      <th>0</th>\n",
              "      <td>5adf6684068401528a2aa69b</td>\n",
              "      <td>781</td>\n",
              "      <td>By JOHN BRANCH</td>\n",
              "      <td>article</td>\n",
              "      <td>Former N.F.L. Cheerleaders’ Settlement Offer: ...</td>\n",
              "      <td>['Workplace Hazards and Violations', 'Football...</td>\n",
              "      <td>68</td>\n",
              "      <td>Sports</td>\n",
              "      <td>0</td>\n",
              "      <td>2018-04-24 17:16:49</td>\n",
              "      <td>Pro Football</td>\n",
              "      <td>“I understand that they could meet with us, pa...</td>\n",
              "      <td>The New York Times</td>\n",
              "      <td>News</td>\n",
              "      <td>https://www.nytimes.com/2018/04/24/sports/foot...</td>\n",
              "    </tr>\n",
              "    <tr>\n",
              "      <th>1</th>\n",
              "      <td>5adf653f068401528a2aa697</td>\n",
              "      <td>656</td>\n",
              "      <td>By LISA FRIEDMAN</td>\n",
              "      <td>article</td>\n",
              "      <td>E.P.A. to Unveil a New Rule. Its Effect: Less ...</td>\n",
              "      <td>['Environmental Protection Agency', 'Pruitt, S...</td>\n",
              "      <td>68</td>\n",
              "      <td>Climate</td>\n",
              "      <td>0</td>\n",
              "      <td>2018-04-24 17:11:21</td>\n",
              "      <td>Unknown</td>\n",
              "      <td>The agency plans to publish a new regulation T...</td>\n",
              "      <td>The New York Times</td>\n",
              "      <td>News</td>\n",
              "      <td>https://www.nytimes.com/2018/04/24/climate/epa...</td>\n",
              "    </tr>\n",
              "    <tr>\n",
              "      <th>2</th>\n",
              "      <td>5adf4626068401528a2aa628</td>\n",
              "      <td>2427</td>\n",
              "      <td>By PETE WELLS</td>\n",
              "      <td>article</td>\n",
              "      <td>The New Noma, Explained</td>\n",
              "      <td>['Restaurants', 'Noma (Copenhagen, Restaurant)...</td>\n",
              "      <td>66</td>\n",
              "      <td>Dining</td>\n",
              "      <td>0</td>\n",
              "      <td>2018-04-24 14:58:44</td>\n",
              "      <td>Unknown</td>\n",
              "      <td>What’s it like to eat at the second incarnatio...</td>\n",
              "      <td>The New York Times</td>\n",
              "      <td>News</td>\n",
              "      <td>https://www.nytimes.com/2018/04/24/dining/noma...</td>\n",
              "    </tr>\n",
              "    <tr>\n",
              "      <th>3</th>\n",
              "      <td>5adf40d2068401528a2aa619</td>\n",
              "      <td>626</td>\n",
              "      <td>By JULIE HIRSCHFELD DAVIS and PETER BAKER</td>\n",
              "      <td>article</td>\n",
              "      <td>Unknown</td>\n",
              "      <td>['Macron, Emmanuel (1977- )', 'Trump, Donald J...</td>\n",
              "      <td>68</td>\n",
              "      <td>Washington</td>\n",
              "      <td>0</td>\n",
              "      <td>2018-04-24 14:35:57</td>\n",
              "      <td>Europe</td>\n",
              "      <td>President Trump welcomed President Emmanuel Ma...</td>\n",
              "      <td>The New York Times</td>\n",
              "      <td>News</td>\n",
              "      <td>https://www.nytimes.com/2018/04/24/world/europ...</td>\n",
              "    </tr>\n",
              "    <tr>\n",
              "      <th>4</th>\n",
              "      <td>5adf3d64068401528a2aa60f</td>\n",
              "      <td>815</td>\n",
              "      <td>By IAN AUSTEN and DAN BILEFSKY</td>\n",
              "      <td>article</td>\n",
              "      <td>Unknown</td>\n",
              "      <td>['Toronto, Ontario, Attack (April, 2018)', 'Mu...</td>\n",
              "      <td>68</td>\n",
              "      <td>Foreign</td>\n",
              "      <td>0</td>\n",
              "      <td>2018-04-24 14:21:21</td>\n",
              "      <td>Canada</td>\n",
              "      <td>Alek Minassian, 25, a resident of Toronto’s Ri...</td>\n",
              "      <td>The New York Times</td>\n",
              "      <td>News</td>\n",
              "      <td>https://www.nytimes.com/2018/04/24/world/canad...</td>\n",
              "    </tr>\n",
              "  </tbody>\n",
              "</table>\n",
              "</div>\n",
              "    <div class=\"colab-df-buttons\">\n",
              "\n",
              "  <div class=\"colab-df-container\">\n",
              "    <button class=\"colab-df-convert\" onclick=\"convertToInteractive('df-c773183c-8b06-4700-b1a1-75fa36030428')\"\n",
              "            title=\"Convert this dataframe to an interactive table.\"\n",
              "            style=\"display:none;\">\n",
              "\n",
              "  <svg xmlns=\"http://www.w3.org/2000/svg\" height=\"24px\" viewBox=\"0 -960 960 960\">\n",
              "    <path d=\"M120-120v-720h720v720H120Zm60-500h600v-160H180v160Zm220 220h160v-160H400v160Zm0 220h160v-160H400v160ZM180-400h160v-160H180v160Zm440 0h160v-160H620v160ZM180-180h160v-160H180v160Zm440 0h160v-160H620v160Z\"/>\n",
              "  </svg>\n",
              "    </button>\n",
              "\n",
              "  <style>\n",
              "    .colab-df-container {\n",
              "      display:flex;\n",
              "      gap: 12px;\n",
              "    }\n",
              "\n",
              "    .colab-df-convert {\n",
              "      background-color: #E8F0FE;\n",
              "      border: none;\n",
              "      border-radius: 50%;\n",
              "      cursor: pointer;\n",
              "      display: none;\n",
              "      fill: #1967D2;\n",
              "      height: 32px;\n",
              "      padding: 0 0 0 0;\n",
              "      width: 32px;\n",
              "    }\n",
              "\n",
              "    .colab-df-convert:hover {\n",
              "      background-color: #E2EBFA;\n",
              "      box-shadow: 0px 1px 2px rgba(60, 64, 67, 0.3), 0px 1px 3px 1px rgba(60, 64, 67, 0.15);\n",
              "      fill: #174EA6;\n",
              "    }\n",
              "\n",
              "    .colab-df-buttons div {\n",
              "      margin-bottom: 4px;\n",
              "    }\n",
              "\n",
              "    [theme=dark] .colab-df-convert {\n",
              "      background-color: #3B4455;\n",
              "      fill: #D2E3FC;\n",
              "    }\n",
              "\n",
              "    [theme=dark] .colab-df-convert:hover {\n",
              "      background-color: #434B5C;\n",
              "      box-shadow: 0px 1px 3px 1px rgba(0, 0, 0, 0.15);\n",
              "      filter: drop-shadow(0px 1px 2px rgba(0, 0, 0, 0.3));\n",
              "      fill: #FFFFFF;\n",
              "    }\n",
              "  </style>\n",
              "\n",
              "    <script>\n",
              "      const buttonEl =\n",
              "        document.querySelector('#df-c773183c-8b06-4700-b1a1-75fa36030428 button.colab-df-convert');\n",
              "      buttonEl.style.display =\n",
              "        google.colab.kernel.accessAllowed ? 'block' : 'none';\n",
              "\n",
              "      async function convertToInteractive(key) {\n",
              "        const element = document.querySelector('#df-c773183c-8b06-4700-b1a1-75fa36030428');\n",
              "        const dataTable =\n",
              "          await google.colab.kernel.invokeFunction('convertToInteractive',\n",
              "                                                    [key], {});\n",
              "        if (!dataTable) return;\n",
              "\n",
              "        const docLinkHtml = 'Like what you see? Visit the ' +\n",
              "          '<a target=\"_blank\" href=https://colab.research.google.com/notebooks/data_table.ipynb>data table notebook</a>'\n",
              "          + ' to learn more about interactive tables.';\n",
              "        element.innerHTML = '';\n",
              "        dataTable['output_type'] = 'display_data';\n",
              "        await google.colab.output.renderOutput(dataTable, element);\n",
              "        const docLink = document.createElement('div');\n",
              "        docLink.innerHTML = docLinkHtml;\n",
              "        element.appendChild(docLink);\n",
              "      }\n",
              "    </script>\n",
              "  </div>\n",
              "\n",
              "\n",
              "<div id=\"df-46b85042-b34e-4709-859f-9fb3ed213479\">\n",
              "  <button class=\"colab-df-quickchart\" onclick=\"quickchart('df-46b85042-b34e-4709-859f-9fb3ed213479')\"\n",
              "            title=\"Suggest charts.\"\n",
              "            style=\"display:none;\">\n",
              "\n",
              "<svg xmlns=\"http://www.w3.org/2000/svg\" height=\"24px\"viewBox=\"0 0 24 24\"\n",
              "     width=\"24px\">\n",
              "    <g>\n",
              "        <path d=\"M19 3H5c-1.1 0-2 .9-2 2v14c0 1.1.9 2 2 2h14c1.1 0 2-.9 2-2V5c0-1.1-.9-2-2-2zM9 17H7v-7h2v7zm4 0h-2V7h2v10zm4 0h-2v-4h2v4z\"/>\n",
              "    </g>\n",
              "</svg>\n",
              "  </button>\n",
              "\n",
              "<style>\n",
              "  .colab-df-quickchart {\n",
              "      --bg-color: #E8F0FE;\n",
              "      --fill-color: #1967D2;\n",
              "      --hover-bg-color: #E2EBFA;\n",
              "      --hover-fill-color: #174EA6;\n",
              "      --disabled-fill-color: #AAA;\n",
              "      --disabled-bg-color: #DDD;\n",
              "  }\n",
              "\n",
              "  [theme=dark] .colab-df-quickchart {\n",
              "      --bg-color: #3B4455;\n",
              "      --fill-color: #D2E3FC;\n",
              "      --hover-bg-color: #434B5C;\n",
              "      --hover-fill-color: #FFFFFF;\n",
              "      --disabled-bg-color: #3B4455;\n",
              "      --disabled-fill-color: #666;\n",
              "  }\n",
              "\n",
              "  .colab-df-quickchart {\n",
              "    background-color: var(--bg-color);\n",
              "    border: none;\n",
              "    border-radius: 50%;\n",
              "    cursor: pointer;\n",
              "    display: none;\n",
              "    fill: var(--fill-color);\n",
              "    height: 32px;\n",
              "    padding: 0;\n",
              "    width: 32px;\n",
              "  }\n",
              "\n",
              "  .colab-df-quickchart:hover {\n",
              "    background-color: var(--hover-bg-color);\n",
              "    box-shadow: 0 1px 2px rgba(60, 64, 67, 0.3), 0 1px 3px 1px rgba(60, 64, 67, 0.15);\n",
              "    fill: var(--button-hover-fill-color);\n",
              "  }\n",
              "\n",
              "  .colab-df-quickchart-complete:disabled,\n",
              "  .colab-df-quickchart-complete:disabled:hover {\n",
              "    background-color: var(--disabled-bg-color);\n",
              "    fill: var(--disabled-fill-color);\n",
              "    box-shadow: none;\n",
              "  }\n",
              "\n",
              "  .colab-df-spinner {\n",
              "    border: 2px solid var(--fill-color);\n",
              "    border-color: transparent;\n",
              "    border-bottom-color: var(--fill-color);\n",
              "    animation:\n",
              "      spin 1s steps(1) infinite;\n",
              "  }\n",
              "\n",
              "  @keyframes spin {\n",
              "    0% {\n",
              "      border-color: transparent;\n",
              "      border-bottom-color: var(--fill-color);\n",
              "      border-left-color: var(--fill-color);\n",
              "    }\n",
              "    20% {\n",
              "      border-color: transparent;\n",
              "      border-left-color: var(--fill-color);\n",
              "      border-top-color: var(--fill-color);\n",
              "    }\n",
              "    30% {\n",
              "      border-color: transparent;\n",
              "      border-left-color: var(--fill-color);\n",
              "      border-top-color: var(--fill-color);\n",
              "      border-right-color: var(--fill-color);\n",
              "    }\n",
              "    40% {\n",
              "      border-color: transparent;\n",
              "      border-right-color: var(--fill-color);\n",
              "      border-top-color: var(--fill-color);\n",
              "    }\n",
              "    60% {\n",
              "      border-color: transparent;\n",
              "      border-right-color: var(--fill-color);\n",
              "    }\n",
              "    80% {\n",
              "      border-color: transparent;\n",
              "      border-right-color: var(--fill-color);\n",
              "      border-bottom-color: var(--fill-color);\n",
              "    }\n",
              "    90% {\n",
              "      border-color: transparent;\n",
              "      border-bottom-color: var(--fill-color);\n",
              "    }\n",
              "  }\n",
              "</style>\n",
              "\n",
              "  <script>\n",
              "    async function quickchart(key) {\n",
              "      const quickchartButtonEl =\n",
              "        document.querySelector('#' + key + ' button');\n",
              "      quickchartButtonEl.disabled = true;  // To prevent multiple clicks.\n",
              "      quickchartButtonEl.classList.add('colab-df-spinner');\n",
              "      try {\n",
              "        const charts = await google.colab.kernel.invokeFunction(\n",
              "            'suggestCharts', [key], {});\n",
              "      } catch (error) {\n",
              "        console.error('Error during call to suggestCharts:', error);\n",
              "      }\n",
              "      quickchartButtonEl.classList.remove('colab-df-spinner');\n",
              "      quickchartButtonEl.classList.add('colab-df-quickchart-complete');\n",
              "    }\n",
              "    (() => {\n",
              "      let quickchartButtonEl =\n",
              "        document.querySelector('#df-46b85042-b34e-4709-859f-9fb3ed213479 button');\n",
              "      quickchartButtonEl.style.display =\n",
              "        google.colab.kernel.accessAllowed ? 'block' : 'none';\n",
              "    })();\n",
              "  </script>\n",
              "</div>\n",
              "    </div>\n",
              "  </div>\n"
            ]
          },
          "metadata": {},
          "execution_count": 17
        }
      ]
    },
    {
      "cell_type": "code",
      "source": [
        "print('열의 개수: ',len(df.columns))\n",
        "print(df.columns)"
      ],
      "metadata": {
        "colab": {
          "base_uri": "https://localhost:8080/"
        },
        "id": "cP1ICThMv_Pi",
        "outputId": "e3c6bc08-fdd6-40d0-b754-46fdd9096b86"
      },
      "execution_count": 18,
      "outputs": [
        {
          "output_type": "stream",
          "name": "stdout",
          "text": [
            "열의 개수:  15\n",
            "Index(['articleID', 'articleWordCount', 'byline', 'documentType', 'headline',\n",
            "       'keywords', 'multimedia', 'newDesk', 'printPage', 'pubDate',\n",
            "       'sectionName', 'snippet', 'source', 'typeOfMaterial', 'webURL'],\n",
            "      dtype='object')\n"
          ]
        }
      ]
    },
    {
      "cell_type": "code",
      "source": [
        "headline = []\n",
        "# 헤드라인의 값들을 리스트로 저장\n",
        "headline.extend(list(df.headline.values))\n",
        "headline[:5]"
      ],
      "metadata": {
        "colab": {
          "base_uri": "https://localhost:8080/"
        },
        "id": "qhu2Cft0wC1l",
        "outputId": "bb65f274-2433-4b81-a1da-8f9121f50a87"
      },
      "execution_count": 19,
      "outputs": [
        {
          "output_type": "execute_result",
          "data": {
            "text/plain": [
              "['Former N.F.L. Cheerleaders’ Settlement Offer: $1 and a Meeting With Goodell',\n",
              " 'E.P.A. to Unveil a New Rule. Its Effect: Less Science in Policymaking.',\n",
              " 'The New Noma, Explained',\n",
              " 'Unknown',\n",
              " 'Unknown']"
            ]
          },
          "metadata": {},
          "execution_count": 19
        }
      ]
    },
    {
      "cell_type": "code",
      "source": [
        "headline = [word for word in headline if word != \"Unknown\"]\n",
        "print('노이즈값 제거 후 샘플의 개수 : {}'.format(len(headline)))"
      ],
      "metadata": {
        "colab": {
          "base_uri": "https://localhost:8080/"
        },
        "id": "3fXcqJCxwWnP",
        "outputId": "7a63355e-14f6-472e-e666-5c18ceee5497"
      },
      "execution_count": 20,
      "outputs": [
        {
          "output_type": "stream",
          "name": "stdout",
          "text": [
            "노이즈값 제거 후 샘플의 개수 : 1214\n"
          ]
        }
      ]
    },
    {
      "cell_type": "code",
      "source": [
        "headline[:5]"
      ],
      "metadata": {
        "colab": {
          "base_uri": "https://localhost:8080/"
        },
        "id": "6PKyaDHhwbdJ",
        "outputId": "0cb32859-1ad4-4a61-8257-9f58ee9e37db"
      },
      "execution_count": 21,
      "outputs": [
        {
          "output_type": "execute_result",
          "data": {
            "text/plain": [
              "['Former N.F.L. Cheerleaders’ Settlement Offer: $1 and a Meeting With Goodell',\n",
              " 'E.P.A. to Unveil a New Rule. Its Effect: Less Science in Policymaking.',\n",
              " 'The New Noma, Explained',\n",
              " 'How a Bag of Texas Dirt  Became a Times Tradition',\n",
              " 'Is School a Place for Self-Expression?']"
            ]
          },
          "metadata": {},
          "execution_count": 21
        }
      ]
    },
    {
      "cell_type": "code",
      "source": [
        "def repreprocessing(raw_sentence):\n",
        "    preproceseed_sentence = raw_sentence.encode(\"utf8\").decode(\"ascii\",'ignore')\n",
        "    # 구두점 제거와 동시에 소문자화\n",
        "    return ''.join(word for word in preproceseed_sentence if word not in punctuation).lower()\n",
        "\n",
        "preprocessed_headline = [repreprocessing(x) for x in headline]\n",
        "preprocessed_headline[:5]"
      ],
      "metadata": {
        "colab": {
          "base_uri": "https://localhost:8080/"
        },
        "id": "AShbjoFCwdgv",
        "outputId": "a54523ee-2d52-488e-e8f7-f78d23762e8d"
      },
      "execution_count": 22,
      "outputs": [
        {
          "output_type": "execute_result",
          "data": {
            "text/plain": [
              "['former nfl cheerleaders settlement offer 1 and a meeting with goodell',\n",
              " 'epa to unveil a new rule its effect less science in policymaking',\n",
              " 'the new noma explained',\n",
              " 'how a bag of texas dirt  became a times tradition',\n",
              " 'is school a place for selfexpression']"
            ]
          },
          "metadata": {},
          "execution_count": 22
        }
      ]
    },
    {
      "cell_type": "code",
      "source": [
        "tokenizer = Tokenizer()\n",
        "tokenizer.fit_on_texts(preprocessed_headline)\n",
        "vocab_size = len(tokenizer.word_index) + 1\n",
        "print('단어 집합의 크기 : %d' % vocab_size)"
      ],
      "metadata": {
        "colab": {
          "base_uri": "https://localhost:8080/"
        },
        "id": "chWKbgRLwhA5",
        "outputId": "75270c3a-7ecc-4761-ba5b-f3fa1b0901f7"
      },
      "execution_count": 23,
      "outputs": [
        {
          "output_type": "stream",
          "name": "stdout",
          "text": [
            "단어 집합의 크기 : 3494\n"
          ]
        }
      ]
    },
    {
      "cell_type": "code",
      "source": [
        "sequences = list()\n",
        "\n",
        "for sentence in preprocessed_headline:\n",
        "\n",
        "    # 각 샘플에 대한 정수 인코딩\n",
        "    encoded = tokenizer.texts_to_sequences([sentence])[0]\n",
        "    for i in range(1, len(encoded)):\n",
        "        sequence = encoded[:i+1]\n",
        "        sequences.append(sequence)\n",
        "\n",
        "sequences[:11]"
      ],
      "metadata": {
        "colab": {
          "base_uri": "https://localhost:8080/"
        },
        "id": "dDFZ5B5wwjZw",
        "outputId": "ce33139a-bdf2-4379-da9f-45e5ec40a9ef"
      },
      "execution_count": 24,
      "outputs": [
        {
          "output_type": "execute_result",
          "data": {
            "text/plain": [
              "[[99, 269],\n",
              " [99, 269, 371],\n",
              " [99, 269, 371, 1115],\n",
              " [99, 269, 371, 1115, 582],\n",
              " [99, 269, 371, 1115, 582, 52],\n",
              " [99, 269, 371, 1115, 582, 52, 7],\n",
              " [99, 269, 371, 1115, 582, 52, 7, 2],\n",
              " [99, 269, 371, 1115, 582, 52, 7, 2, 372],\n",
              " [99, 269, 371, 1115, 582, 52, 7, 2, 372, 10],\n",
              " [99, 269, 371, 1115, 582, 52, 7, 2, 372, 10, 1116],\n",
              " [100, 3]]"
            ]
          },
          "metadata": {},
          "execution_count": 24
        }
      ]
    },
    {
      "cell_type": "code",
      "source": [
        "index_to_word = {}\n",
        "for key, value in tokenizer.word_index.items(): # 인덱스를 단어로 바꾸기 위해 index_to_word를 생성\n",
        "    index_to_word[value] = key\n",
        "\n",
        "print('빈도수 상위 582번 단어 : {}'.format(index_to_word[582]))"
      ],
      "metadata": {
        "colab": {
          "base_uri": "https://localhost:8080/"
        },
        "id": "bKjuC_gbwlnk",
        "outputId": "9518e494-6de4-4e4b-cab7-c9a950683f86"
      },
      "execution_count": 25,
      "outputs": [
        {
          "output_type": "stream",
          "name": "stdout",
          "text": [
            "빈도수 상위 582번 단어 : offer\n"
          ]
        }
      ]
    },
    {
      "cell_type": "code",
      "source": [
        "sequences = pad_sequences(sequences, maxlen=max_len, padding='pre')\n",
        "print(sequences[:3])"
      ],
      "metadata": {
        "colab": {
          "base_uri": "https://localhost:8080/"
        },
        "id": "T6XLcbAywqDs",
        "outputId": "766cb07e-231f-48e2-f581-0f73cfabf80f"
      },
      "execution_count": 26,
      "outputs": [
        {
          "output_type": "stream",
          "name": "stdout",
          "text": [
            "[[   0    0    0    0   99  269]\n",
            " [   0    0    0   99  269  371]\n",
            " [   0    0   99  269  371 1115]]\n"
          ]
        }
      ]
    },
    {
      "cell_type": "code",
      "source": [
        "sequences = np.array(sequences)\n",
        "X = sequences[:,:-1]\n",
        "y = sequences[:,-1]"
      ],
      "metadata": {
        "id": "Ev_7v94Ewtyh"
      },
      "execution_count": 27,
      "outputs": []
    },
    {
      "cell_type": "code",
      "source": [
        "y = to_categorical(y, num_classes=vocab_size)"
      ],
      "metadata": {
        "id": "zpyLsa4mxCcL"
      },
      "execution_count": 30,
      "outputs": []
    },
    {
      "cell_type": "code",
      "source": [
        "from tensorflow.keras.models import Sequential\n",
        "from tensorflow.keras.layers import Embedding, Dense, LSTM"
      ],
      "metadata": {
        "id": "LeFNcztuwvjQ"
      },
      "execution_count": 28,
      "outputs": []
    },
    {
      "cell_type": "code",
      "source": [
        "embedding_dim = 10\n",
        "hidden_units = 128\n",
        "\n",
        "model = Sequential()\n",
        "model.add(Embedding(vocab_size, embedding_dim))\n",
        "model.add(LSTM(hidden_units))\n",
        "model.add(Dense(vocab_size, activation='softmax'))\n",
        "model.compile(loss='categorical_crossentropy', optimizer='adam', metrics=['accuracy'])\n",
        "model.fit(X, y, epochs=200, verbose=2)"
      ],
      "metadata": {
        "colab": {
          "base_uri": "https://localhost:8080/"
        },
        "id": "Sq-HJynGwxj-",
        "outputId": "de554577-558d-4143-c324-1f6cd1539c6c"
      },
      "execution_count": 31,
      "outputs": [
        {
          "output_type": "stream",
          "name": "stdout",
          "text": [
            "Epoch 1/200\n",
            "244/244 - 6s - loss: 7.6833 - accuracy: 0.0287 - 6s/epoch - 25ms/step\n",
            "Epoch 2/200\n",
            "244/244 - 5s - loss: 7.1631 - accuracy: 0.0306 - 5s/epoch - 20ms/step\n",
            "Epoch 3/200\n",
            "244/244 - 4s - loss: 7.0467 - accuracy: 0.0306 - 4s/epoch - 15ms/step\n",
            "Epoch 4/200\n",
            "244/244 - 4s - loss: 6.9315 - accuracy: 0.0319 - 4s/epoch - 15ms/step\n",
            "Epoch 5/200\n",
            "244/244 - 4s - loss: 6.8176 - accuracy: 0.0347 - 4s/epoch - 17ms/step\n",
            "Epoch 6/200\n",
            "244/244 - 5s - loss: 6.6710 - accuracy: 0.0419 - 5s/epoch - 22ms/step\n",
            "Epoch 7/200\n",
            "244/244 - 4s - loss: 6.4857 - accuracy: 0.0468 - 4s/epoch - 17ms/step\n",
            "Epoch 8/200\n",
            "244/244 - 5s - loss: 6.2929 - accuracy: 0.0532 - 5s/epoch - 19ms/step\n",
            "Epoch 9/200\n",
            "244/244 - 4s - loss: 6.0976 - accuracy: 0.0592 - 4s/epoch - 15ms/step\n",
            "Epoch 10/200\n",
            "244/244 - 5s - loss: 5.9110 - accuracy: 0.0619 - 5s/epoch - 19ms/step\n",
            "Epoch 11/200\n",
            "244/244 - 5s - loss: 5.7305 - accuracy: 0.0656 - 5s/epoch - 22ms/step\n",
            "Epoch 12/200\n",
            "244/244 - 4s - loss: 5.5402 - accuracy: 0.0720 - 4s/epoch - 15ms/step\n",
            "Epoch 13/200\n",
            "244/244 - 4s - loss: 5.3611 - accuracy: 0.0739 - 4s/epoch - 15ms/step\n",
            "Epoch 14/200\n",
            "244/244 - 5s - loss: 5.1897 - accuracy: 0.0820 - 5s/epoch - 19ms/step\n",
            "Epoch 15/200\n",
            "244/244 - 4s - loss: 5.0273 - accuracy: 0.0907 - 4s/epoch - 15ms/step\n",
            "Epoch 16/200\n",
            "244/244 - 4s - loss: 4.8676 - accuracy: 0.0989 - 4s/epoch - 15ms/step\n",
            "Epoch 17/200\n",
            "244/244 - 4s - loss: 4.7111 - accuracy: 0.1118 - 4s/epoch - 18ms/step\n",
            "Epoch 18/200\n",
            "244/244 - 4s - loss: 4.5619 - accuracy: 0.1317 - 4s/epoch - 16ms/step\n",
            "Epoch 19/200\n",
            "244/244 - 4s - loss: 4.4131 - accuracy: 0.1485 - 4s/epoch - 15ms/step\n",
            "Epoch 20/200\n",
            "244/244 - 4s - loss: 4.2766 - accuracy: 0.1712 - 4s/epoch - 16ms/step\n",
            "Epoch 21/200\n",
            "244/244 - 4s - loss: 4.1415 - accuracy: 0.1915 - 4s/epoch - 17ms/step\n",
            "Epoch 22/200\n",
            "244/244 - 4s - loss: 4.0078 - accuracy: 0.2148 - 4s/epoch - 15ms/step\n",
            "Epoch 23/200\n",
            "244/244 - 3s - loss: 3.8799 - accuracy: 0.2434 - 3s/epoch - 14ms/step\n",
            "Epoch 24/200\n",
            "244/244 - 5s - loss: 3.7594 - accuracy: 0.2653 - 5s/epoch - 19ms/step\n",
            "Epoch 25/200\n",
            "244/244 - 3s - loss: 3.6385 - accuracy: 0.2894 - 3s/epoch - 14ms/step\n",
            "Epoch 26/200\n",
            "244/244 - 3s - loss: 3.5229 - accuracy: 0.3103 - 3s/epoch - 14ms/step\n",
            "Epoch 27/200\n",
            "244/244 - 4s - loss: 3.4146 - accuracy: 0.3288 - 4s/epoch - 18ms/step\n",
            "Epoch 28/200\n",
            "244/244 - 4s - loss: 3.3062 - accuracy: 0.3502 - 4s/epoch - 14ms/step\n",
            "Epoch 29/200\n",
            "244/244 - 4s - loss: 3.2068 - accuracy: 0.3714 - 4s/epoch - 15ms/step\n",
            "Epoch 30/200\n",
            "244/244 - 4s - loss: 3.1066 - accuracy: 0.3845 - 4s/epoch - 18ms/step\n",
            "Epoch 31/200\n",
            "244/244 - 4s - loss: 3.0118 - accuracy: 0.4020 - 4s/epoch - 16ms/step\n",
            "Epoch 32/200\n",
            "244/244 - 4s - loss: 2.9231 - accuracy: 0.4182 - 4s/epoch - 15ms/step\n",
            "Epoch 33/200\n",
            "244/244 - 4s - loss: 2.8416 - accuracy: 0.4334 - 4s/epoch - 17ms/step\n",
            "Epoch 34/200\n",
            "244/244 - 4s - loss: 2.7546 - accuracy: 0.4520 - 4s/epoch - 18ms/step\n",
            "Epoch 35/200\n",
            "244/244 - 4s - loss: 2.6782 - accuracy: 0.4660 - 4s/epoch - 15ms/step\n",
            "Epoch 36/200\n",
            "244/244 - 4s - loss: 2.6018 - accuracy: 0.4798 - 4s/epoch - 16ms/step\n",
            "Epoch 37/200\n",
            "244/244 - 5s - loss: 2.5290 - accuracy: 0.4942 - 5s/epoch - 19ms/step\n",
            "Epoch 38/200\n",
            "244/244 - 4s - loss: 2.4610 - accuracy: 0.5031 - 4s/epoch - 15ms/step\n",
            "Epoch 39/200\n",
            "244/244 - 4s - loss: 2.3942 - accuracy: 0.5176 - 4s/epoch - 15ms/step\n",
            "Epoch 40/200\n",
            "244/244 - 5s - loss: 2.3287 - accuracy: 0.5270 - 5s/epoch - 19ms/step\n",
            "Epoch 41/200\n",
            "244/244 - 4s - loss: 2.2667 - accuracy: 0.5407 - 4s/epoch - 15ms/step\n",
            "Epoch 42/200\n",
            "244/244 - 4s - loss: 2.2105 - accuracy: 0.5520 - 4s/epoch - 15ms/step\n",
            "Epoch 43/200\n",
            "244/244 - 5s - loss: 2.1523 - accuracy: 0.5590 - 5s/epoch - 19ms/step\n",
            "Epoch 44/200\n",
            "244/244 - 4s - loss: 2.1029 - accuracy: 0.5721 - 4s/epoch - 15ms/step\n",
            "Epoch 45/200\n",
            "244/244 - 4s - loss: 2.0452 - accuracy: 0.5876 - 4s/epoch - 15ms/step\n",
            "Epoch 46/200\n",
            "244/244 - 4s - loss: 1.9944 - accuracy: 0.5939 - 4s/epoch - 18ms/step\n",
            "Epoch 47/200\n",
            "244/244 - 4s - loss: 1.9459 - accuracy: 0.6027 - 4s/epoch - 15ms/step\n",
            "Epoch 48/200\n",
            "244/244 - 4s - loss: 1.9007 - accuracy: 0.6108 - 4s/epoch - 14ms/step\n",
            "Epoch 49/200\n",
            "244/244 - 4s - loss: 1.8543 - accuracy: 0.6228 - 4s/epoch - 15ms/step\n",
            "Epoch 50/200\n",
            "244/244 - 4s - loss: 1.8030 - accuracy: 0.6383 - 4s/epoch - 18ms/step\n",
            "Epoch 51/200\n",
            "244/244 - 3s - loss: 1.7601 - accuracy: 0.6412 - 3s/epoch - 14ms/step\n",
            "Epoch 52/200\n",
            "244/244 - 4s - loss: 1.7195 - accuracy: 0.6540 - 4s/epoch - 15ms/step\n",
            "Epoch 53/200\n",
            "244/244 - 5s - loss: 1.6847 - accuracy: 0.6580 - 5s/epoch - 18ms/step\n",
            "Epoch 54/200\n",
            "244/244 - 3s - loss: 1.6444 - accuracy: 0.6683 - 3s/epoch - 14ms/step\n",
            "Epoch 55/200\n",
            "244/244 - 4s - loss: 1.6068 - accuracy: 0.6764 - 4s/epoch - 15ms/step\n",
            "Epoch 56/200\n",
            "244/244 - 5s - loss: 1.5690 - accuracy: 0.6822 - 5s/epoch - 19ms/step\n",
            "Epoch 57/200\n",
            "244/244 - 4s - loss: 1.5281 - accuracy: 0.6933 - 4s/epoch - 15ms/step\n",
            "Epoch 58/200\n",
            "244/244 - 4s - loss: 1.4958 - accuracy: 0.6963 - 4s/epoch - 15ms/step\n",
            "Epoch 59/200\n",
            "244/244 - 4s - loss: 1.4627 - accuracy: 0.7069 - 4s/epoch - 17ms/step\n",
            "Epoch 60/200\n",
            "244/244 - 4s - loss: 1.4266 - accuracy: 0.7127 - 4s/epoch - 16ms/step\n",
            "Epoch 61/200\n",
            "244/244 - 4s - loss: 1.3996 - accuracy: 0.7204 - 4s/epoch - 15ms/step\n",
            "Epoch 62/200\n",
            "244/244 - 4s - loss: 1.3653 - accuracy: 0.7269 - 4s/epoch - 15ms/step\n",
            "Epoch 63/200\n",
            "244/244 - 5s - loss: 1.3324 - accuracy: 0.7342 - 5s/epoch - 19ms/step\n",
            "Epoch 64/200\n",
            "244/244 - 4s - loss: 1.3032 - accuracy: 0.7372 - 4s/epoch - 15ms/step\n",
            "Epoch 65/200\n",
            "244/244 - 4s - loss: 1.2768 - accuracy: 0.7450 - 4s/epoch - 15ms/step\n",
            "Epoch 66/200\n",
            "244/244 - 5s - loss: 1.2462 - accuracy: 0.7496 - 5s/epoch - 19ms/step\n",
            "Epoch 67/200\n",
            "244/244 - 4s - loss: 1.2156 - accuracy: 0.7577 - 4s/epoch - 15ms/step\n",
            "Epoch 68/200\n",
            "244/244 - 4s - loss: 1.1962 - accuracy: 0.7611 - 4s/epoch - 15ms/step\n",
            "Epoch 69/200\n",
            "244/244 - 5s - loss: 1.1693 - accuracy: 0.7648 - 5s/epoch - 19ms/step\n",
            "Epoch 70/200\n",
            "244/244 - 4s - loss: 1.1392 - accuracy: 0.7716 - 4s/epoch - 15ms/step\n",
            "Epoch 71/200\n",
            "244/244 - 4s - loss: 1.1109 - accuracy: 0.7776 - 4s/epoch - 15ms/step\n",
            "Epoch 72/200\n",
            "244/244 - 5s - loss: 1.0881 - accuracy: 0.7846 - 5s/epoch - 19ms/step\n",
            "Epoch 73/200\n",
            "244/244 - 4s - loss: 1.0604 - accuracy: 0.7894 - 4s/epoch - 16ms/step\n",
            "Epoch 74/200\n",
            "244/244 - 4s - loss: 1.0350 - accuracy: 0.7920 - 4s/epoch - 16ms/step\n",
            "Epoch 75/200\n",
            "244/244 - 5s - loss: 1.0126 - accuracy: 0.7975 - 5s/epoch - 20ms/step\n",
            "Epoch 76/200\n",
            "244/244 - 4s - loss: 0.9945 - accuracy: 0.8016 - 4s/epoch - 16ms/step\n",
            "Epoch 77/200\n",
            "244/244 - 4s - loss: 0.9749 - accuracy: 0.8070 - 4s/epoch - 15ms/step\n",
            "Epoch 78/200\n",
            "244/244 - 5s - loss: 0.9542 - accuracy: 0.8096 - 5s/epoch - 20ms/step\n",
            "Epoch 79/200\n",
            "244/244 - 4s - loss: 0.9311 - accuracy: 0.8119 - 4s/epoch - 16ms/step\n",
            "Epoch 80/200\n",
            "244/244 - 4s - loss: 0.9130 - accuracy: 0.8152 - 4s/epoch - 16ms/step\n",
            "Epoch 81/200\n",
            "244/244 - 5s - loss: 0.8934 - accuracy: 0.8203 - 5s/epoch - 20ms/step\n",
            "Epoch 82/200\n",
            "244/244 - 4s - loss: 0.8759 - accuracy: 0.8234 - 4s/epoch - 16ms/step\n",
            "Epoch 83/200\n",
            "244/244 - 4s - loss: 0.8593 - accuracy: 0.8289 - 4s/epoch - 15ms/step\n",
            "Epoch 84/200\n",
            "244/244 - 4s - loss: 0.8441 - accuracy: 0.8287 - 4s/epoch - 18ms/step\n",
            "Epoch 85/200\n",
            "244/244 - 4s - loss: 0.8258 - accuracy: 0.8320 - 4s/epoch - 16ms/step\n",
            "Epoch 86/200\n",
            "244/244 - 4s - loss: 0.8056 - accuracy: 0.8358 - 4s/epoch - 15ms/step\n",
            "Epoch 87/200\n",
            "244/244 - 4s - loss: 0.7839 - accuracy: 0.8421 - 4s/epoch - 17ms/step\n",
            "Epoch 88/200\n",
            "244/244 - 4s - loss: 0.7668 - accuracy: 0.8444 - 4s/epoch - 18ms/step\n",
            "Epoch 89/200\n",
            "244/244 - 4s - loss: 0.7524 - accuracy: 0.8471 - 4s/epoch - 15ms/step\n",
            "Epoch 90/200\n",
            "244/244 - 4s - loss: 0.7382 - accuracy: 0.8474 - 4s/epoch - 15ms/step\n",
            "Epoch 91/200\n",
            "244/244 - 5s - loss: 0.7278 - accuracy: 0.8495 - 5s/epoch - 19ms/step\n",
            "Epoch 92/200\n",
            "244/244 - 4s - loss: 0.7073 - accuracy: 0.8542 - 4s/epoch - 15ms/step\n",
            "Epoch 93/200\n",
            "244/244 - 4s - loss: 0.6951 - accuracy: 0.8574 - 4s/epoch - 15ms/step\n",
            "Epoch 94/200\n",
            "244/244 - 5s - loss: 0.6796 - accuracy: 0.8620 - 5s/epoch - 19ms/step\n",
            "Epoch 95/200\n",
            "244/244 - 4s - loss: 0.6620 - accuracy: 0.8618 - 4s/epoch - 15ms/step\n",
            "Epoch 96/200\n",
            "244/244 - 4s - loss: 0.6521 - accuracy: 0.8638 - 4s/epoch - 14ms/step\n",
            "Epoch 97/200\n",
            "244/244 - 5s - loss: 0.6415 - accuracy: 0.8671 - 5s/epoch - 19ms/step\n",
            "Epoch 98/200\n",
            "244/244 - 4s - loss: 0.6251 - accuracy: 0.8713 - 4s/epoch - 14ms/step\n",
            "Epoch 99/200\n",
            "244/244 - 4s - loss: 0.6151 - accuracy: 0.8727 - 4s/epoch - 15ms/step\n",
            "Epoch 100/200\n",
            "244/244 - 4s - loss: 0.6109 - accuracy: 0.8757 - 4s/epoch - 16ms/step\n",
            "Epoch 101/200\n",
            "244/244 - 4s - loss: 0.5989 - accuracy: 0.8745 - 4s/epoch - 17ms/step\n",
            "Epoch 102/200\n",
            "244/244 - 4s - loss: 0.5830 - accuracy: 0.8800 - 4s/epoch - 15ms/step\n",
            "Epoch 103/200\n",
            "244/244 - 3s - loss: 0.5704 - accuracy: 0.8821 - 3s/epoch - 14ms/step\n",
            "Epoch 104/200\n",
            "244/244 - 5s - loss: 0.5594 - accuracy: 0.8833 - 5s/epoch - 19ms/step\n",
            "Epoch 105/200\n",
            "244/244 - 4s - loss: 0.5479 - accuracy: 0.8856 - 4s/epoch - 14ms/step\n",
            "Epoch 106/200\n",
            "244/244 - 4s - loss: 0.5379 - accuracy: 0.8870 - 4s/epoch - 14ms/step\n",
            "Epoch 107/200\n",
            "244/244 - 5s - loss: 0.5253 - accuracy: 0.8891 - 5s/epoch - 19ms/step\n",
            "Epoch 108/200\n",
            "244/244 - 3s - loss: 0.5142 - accuracy: 0.8911 - 3s/epoch - 14ms/step\n",
            "Epoch 109/200\n",
            "244/244 - 4s - loss: 0.5103 - accuracy: 0.8916 - 4s/epoch - 14ms/step\n",
            "Epoch 110/200\n",
            "244/244 - 4s - loss: 0.5025 - accuracy: 0.8915 - 4s/epoch - 17ms/step\n",
            "Epoch 111/200\n",
            "244/244 - 4s - loss: 0.4889 - accuracy: 0.8934 - 4s/epoch - 16ms/step\n",
            "Epoch 112/200\n",
            "244/244 - 4s - loss: 0.4788 - accuracy: 0.8977 - 4s/epoch - 15ms/step\n",
            "Epoch 113/200\n",
            "244/244 - 4s - loss: 0.4694 - accuracy: 0.8986 - 4s/epoch - 15ms/step\n",
            "Epoch 114/200\n",
            "244/244 - 5s - loss: 0.4607 - accuracy: 0.8970 - 5s/epoch - 19ms/step\n",
            "Epoch 115/200\n",
            "244/244 - 4s - loss: 0.4542 - accuracy: 0.9011 - 4s/epoch - 15ms/step\n",
            "Epoch 116/200\n",
            "244/244 - 4s - loss: 0.4626 - accuracy: 0.9006 - 4s/epoch - 15ms/step\n",
            "Epoch 117/200\n",
            "244/244 - 5s - loss: 0.4584 - accuracy: 0.8998 - 5s/epoch - 19ms/step\n",
            "Epoch 118/200\n",
            "244/244 - 4s - loss: 0.4426 - accuracy: 0.9023 - 4s/epoch - 15ms/step\n",
            "Epoch 119/200\n",
            "244/244 - 4s - loss: 0.4285 - accuracy: 0.9039 - 4s/epoch - 15ms/step\n",
            "Epoch 120/200\n",
            "244/244 - 5s - loss: 0.4215 - accuracy: 0.9034 - 5s/epoch - 19ms/step\n",
            "Epoch 121/200\n",
            "244/244 - 4s - loss: 0.4123 - accuracy: 0.9045 - 4s/epoch - 15ms/step\n",
            "Epoch 122/200\n",
            "244/244 - 4s - loss: 0.4073 - accuracy: 0.9054 - 4s/epoch - 15ms/step\n",
            "Epoch 123/200\n",
            "244/244 - 5s - loss: 0.4003 - accuracy: 0.9054 - 5s/epoch - 19ms/step\n",
            "Epoch 124/200\n",
            "244/244 - 4s - loss: 0.3936 - accuracy: 0.9070 - 4s/epoch - 15ms/step\n",
            "Epoch 125/200\n",
            "244/244 - 4s - loss: 0.3884 - accuracy: 0.9080 - 4s/epoch - 15ms/step\n",
            "Epoch 126/200\n",
            "244/244 - 4s - loss: 0.3845 - accuracy: 0.9085 - 4s/epoch - 18ms/step\n",
            "Epoch 127/200\n",
            "244/244 - 4s - loss: 0.3820 - accuracy: 0.9071 - 4s/epoch - 15ms/step\n",
            "Epoch 128/200\n",
            "244/244 - 4s - loss: 0.3752 - accuracy: 0.9093 - 4s/epoch - 15ms/step\n",
            "Epoch 129/200\n",
            "244/244 - 4s - loss: 0.3719 - accuracy: 0.9097 - 4s/epoch - 16ms/step\n",
            "Epoch 130/200\n",
            "244/244 - 4s - loss: 0.3664 - accuracy: 0.9098 - 4s/epoch - 18ms/step\n",
            "Epoch 131/200\n",
            "244/244 - 4s - loss: 0.3630 - accuracy: 0.9118 - 4s/epoch - 15ms/step\n",
            "Epoch 132/200\n",
            "244/244 - 4s - loss: 0.3616 - accuracy: 0.9095 - 4s/epoch - 15ms/step\n",
            "Epoch 133/200\n",
            "244/244 - 5s - loss: 0.3652 - accuracy: 0.9073 - 5s/epoch - 19ms/step\n",
            "Epoch 134/200\n",
            "244/244 - 4s - loss: 0.3581 - accuracy: 0.9116 - 4s/epoch - 15ms/step\n",
            "Epoch 135/200\n",
            "244/244 - 3s - loss: 0.3637 - accuracy: 0.9093 - 3s/epoch - 14ms/step\n",
            "Epoch 136/200\n",
            "244/244 - 5s - loss: 0.3512 - accuracy: 0.9122 - 5s/epoch - 18ms/step\n",
            "Epoch 137/200\n",
            "244/244 - 3s - loss: 0.3411 - accuracy: 0.9121 - 3s/epoch - 14ms/step\n",
            "Epoch 138/200\n",
            "244/244 - 3s - loss: 0.3345 - accuracy: 0.9139 - 3s/epoch - 14ms/step\n",
            "Epoch 139/200\n",
            "244/244 - 4s - loss: 0.3294 - accuracy: 0.9144 - 4s/epoch - 17ms/step\n",
            "Epoch 140/200\n",
            "244/244 - 4s - loss: 0.3268 - accuracy: 0.9158 - 4s/epoch - 16ms/step\n",
            "Epoch 141/200\n",
            "244/244 - 4s - loss: 0.3222 - accuracy: 0.9154 - 4s/epoch - 14ms/step\n",
            "Epoch 142/200\n",
            "244/244 - 4s - loss: 0.3192 - accuracy: 0.9158 - 4s/epoch - 14ms/step\n",
            "Epoch 143/200\n",
            "244/244 - 5s - loss: 0.3182 - accuracy: 0.9148 - 5s/epoch - 19ms/step\n",
            "Epoch 144/200\n",
            "244/244 - 3s - loss: 0.3167 - accuracy: 0.9152 - 3s/epoch - 14ms/step\n",
            "Epoch 145/200\n",
            "244/244 - 3s - loss: 0.3148 - accuracy: 0.9149 - 3s/epoch - 14ms/step\n",
            "Epoch 146/200\n",
            "244/244 - 5s - loss: 0.3154 - accuracy: 0.9146 - 5s/epoch - 18ms/step\n",
            "Epoch 147/200\n",
            "244/244 - 3s - loss: 0.3202 - accuracy: 0.9139 - 3s/epoch - 14ms/step\n",
            "Epoch 148/200\n",
            "244/244 - 3s - loss: 0.3337 - accuracy: 0.9108 - 3s/epoch - 14ms/step\n",
            "Epoch 149/200\n",
            "244/244 - 4s - loss: 0.3167 - accuracy: 0.9146 - 4s/epoch - 17ms/step\n",
            "Epoch 150/200\n",
            "244/244 - 4s - loss: 0.3094 - accuracy: 0.9136 - 4s/epoch - 16ms/step\n",
            "Epoch 151/200\n",
            "244/244 - 3s - loss: 0.3035 - accuracy: 0.9167 - 3s/epoch - 14ms/step\n",
            "Epoch 152/200\n",
            "244/244 - 3s - loss: 0.2999 - accuracy: 0.9168 - 3s/epoch - 14ms/step\n",
            "Epoch 153/200\n",
            "244/244 - 5s - loss: 0.2983 - accuracy: 0.9172 - 5s/epoch - 19ms/step\n",
            "Epoch 154/200\n",
            "244/244 - 3s - loss: 0.2958 - accuracy: 0.9153 - 3s/epoch - 14ms/step\n",
            "Epoch 155/200\n",
            "244/244 - 3s - loss: 0.2942 - accuracy: 0.9164 - 3s/epoch - 14ms/step\n",
            "Epoch 156/200\n",
            "244/244 - 5s - loss: 0.2939 - accuracy: 0.9161 - 5s/epoch - 19ms/step\n",
            "Epoch 157/200\n",
            "244/244 - 4s - loss: 0.2924 - accuracy: 0.9144 - 4s/epoch - 15ms/step\n",
            "Epoch 158/200\n",
            "244/244 - 4s - loss: 0.2905 - accuracy: 0.9153 - 4s/epoch - 14ms/step\n",
            "Epoch 159/200\n",
            "244/244 - 4s - loss: 0.2886 - accuracy: 0.9161 - 4s/epoch - 18ms/step\n",
            "Epoch 160/200\n",
            "244/244 - 4s - loss: 0.2874 - accuracy: 0.9164 - 4s/epoch - 15ms/step\n",
            "Epoch 161/200\n",
            "244/244 - 3s - loss: 0.2864 - accuracy: 0.9163 - 3s/epoch - 14ms/step\n",
            "Epoch 162/200\n",
            "244/244 - 4s - loss: 0.2915 - accuracy: 0.9135 - 4s/epoch - 15ms/step\n",
            "Epoch 163/200\n",
            "244/244 - 5s - loss: 0.3228 - accuracy: 0.9084 - 5s/epoch - 19ms/step\n",
            "Epoch 164/200\n",
            "244/244 - 3s - loss: 0.3054 - accuracy: 0.9117 - 3s/epoch - 14ms/step\n",
            "Epoch 165/200\n",
            "244/244 - 3s - loss: 0.2878 - accuracy: 0.9173 - 3s/epoch - 14ms/step\n",
            "Epoch 166/200\n",
            "244/244 - 4s - loss: 0.2816 - accuracy: 0.9164 - 4s/epoch - 18ms/step\n",
            "Epoch 167/200\n",
            "244/244 - 3s - loss: 0.2796 - accuracy: 0.9173 - 3s/epoch - 14ms/step\n",
            "Epoch 168/200\n",
            "244/244 - 3s - loss: 0.2786 - accuracy: 0.9149 - 3s/epoch - 14ms/step\n",
            "Epoch 169/200\n",
            "244/244 - 4s - loss: 0.2776 - accuracy: 0.9172 - 4s/epoch - 16ms/step\n",
            "Epoch 170/200\n",
            "244/244 - 4s - loss: 0.2771 - accuracy: 0.9152 - 4s/epoch - 16ms/step\n",
            "Epoch 171/200\n",
            "244/244 - 4s - loss: 0.2767 - accuracy: 0.9176 - 4s/epoch - 15ms/step\n",
            "Epoch 172/200\n",
            "244/244 - 3s - loss: 0.2761 - accuracy: 0.9153 - 3s/epoch - 14ms/step\n",
            "Epoch 173/200\n",
            "244/244 - 5s - loss: 0.2735 - accuracy: 0.9157 - 5s/epoch - 19ms/step\n",
            "Epoch 174/200\n",
            "244/244 - 3s - loss: 0.2755 - accuracy: 0.9159 - 3s/epoch - 14ms/step\n",
            "Epoch 175/200\n",
            "244/244 - 3s - loss: 0.2731 - accuracy: 0.9163 - 3s/epoch - 14ms/step\n",
            "Epoch 176/200\n",
            "244/244 - 4s - loss: 0.2732 - accuracy: 0.9153 - 4s/epoch - 18ms/step\n",
            "Epoch 177/200\n",
            "244/244 - 3s - loss: 0.2724 - accuracy: 0.9163 - 3s/epoch - 14ms/step\n",
            "Epoch 178/200\n",
            "244/244 - 3s - loss: 0.2731 - accuracy: 0.9166 - 3s/epoch - 14ms/step\n",
            "Epoch 179/200\n",
            "244/244 - 4s - loss: 0.2923 - accuracy: 0.9131 - 4s/epoch - 15ms/step\n",
            "Epoch 180/200\n",
            "244/244 - 4s - loss: 0.3080 - accuracy: 0.9094 - 4s/epoch - 17ms/step\n",
            "Epoch 181/200\n",
            "244/244 - 3s - loss: 0.2876 - accuracy: 0.9120 - 3s/epoch - 14ms/step\n",
            "Epoch 182/200\n",
            "244/244 - 3s - loss: 0.2779 - accuracy: 0.9157 - 3s/epoch - 14ms/step\n",
            "Epoch 183/200\n",
            "244/244 - 4s - loss: 0.2719 - accuracy: 0.9168 - 4s/epoch - 18ms/step\n",
            "Epoch 184/200\n",
            "244/244 - 4s - loss: 0.2689 - accuracy: 0.9171 - 4s/epoch - 14ms/step\n",
            "Epoch 185/200\n",
            "244/244 - 3s - loss: 0.2680 - accuracy: 0.9154 - 3s/epoch - 14ms/step\n",
            "Epoch 186/200\n",
            "244/244 - 4s - loss: 0.2665 - accuracy: 0.9166 - 4s/epoch - 17ms/step\n",
            "Epoch 187/200\n",
            "244/244 - 4s - loss: 0.2664 - accuracy: 0.9158 - 4s/epoch - 16ms/step\n",
            "Epoch 188/200\n",
            "244/244 - 3s - loss: 0.2668 - accuracy: 0.9163 - 3s/epoch - 14ms/step\n",
            "Epoch 189/200\n",
            "244/244 - 3s - loss: 0.2657 - accuracy: 0.9157 - 3s/epoch - 14ms/step\n",
            "Epoch 190/200\n",
            "244/244 - 5s - loss: 0.2659 - accuracy: 0.9170 - 5s/epoch - 19ms/step\n",
            "Epoch 191/200\n",
            "244/244 - 3s - loss: 0.2642 - accuracy: 0.9158 - 3s/epoch - 14ms/step\n",
            "Epoch 192/200\n",
            "244/244 - 3s - loss: 0.2654 - accuracy: 0.9173 - 3s/epoch - 14ms/step\n",
            "Epoch 193/200\n",
            "244/244 - 4s - loss: 0.2652 - accuracy: 0.9158 - 4s/epoch - 18ms/step\n",
            "Epoch 194/200\n",
            "244/244 - 3s - loss: 0.2654 - accuracy: 0.9148 - 3s/epoch - 14ms/step\n",
            "Epoch 195/200\n",
            "244/244 - 3s - loss: 0.2647 - accuracy: 0.9171 - 3s/epoch - 14ms/step\n",
            "Epoch 196/200\n",
            "244/244 - 4s - loss: 0.2637 - accuracy: 0.9159 - 4s/epoch - 16ms/step\n",
            "Epoch 197/200\n",
            "244/244 - 4s - loss: 0.2678 - accuracy: 0.9164 - 4s/epoch - 16ms/step\n",
            "Epoch 198/200\n",
            "244/244 - 3s - loss: 0.2809 - accuracy: 0.9114 - 3s/epoch - 14ms/step\n",
            "Epoch 199/200\n",
            "244/244 - 3s - loss: 0.2886 - accuracy: 0.9099 - 3s/epoch - 14ms/step\n",
            "Epoch 200/200\n",
            "244/244 - 4s - loss: 0.2699 - accuracy: 0.9149 - 4s/epoch - 18ms/step\n"
          ]
        },
        {
          "output_type": "execute_result",
          "data": {
            "text/plain": [
              "<keras.src.callbacks.History at 0x78b18b271060>"
            ]
          },
          "metadata": {},
          "execution_count": 31
        }
      ]
    },
    {
      "cell_type": "code",
      "source": [
        "print(sentence_generation(model, tokenizer, 'i', 10))"
      ],
      "metadata": {
        "colab": {
          "base_uri": "https://localhost:8080/"
        },
        "id": "ABiC685JxJ15",
        "outputId": "25ee5ac6-7825-4ebf-b3a7-d97a3e97fc6f"
      },
      "execution_count": 33,
      "outputs": [
        {
          "output_type": "stream",
          "name": "stdout",
          "text": [
            "i disapprove of school vouchers can i still apply for them\n"
          ]
        }
      ]
    },
    {
      "cell_type": "markdown",
      "source": [
        "08-07 문자 단위 RNN(Char RNN)"
      ],
      "metadata": {
        "id": "nEMEsrTg2TAX"
      }
    },
    {
      "cell_type": "code",
      "source": [
        "import numpy as np\n",
        "import urllib.request\n",
        "from tensorflow.keras.utils import to_categorical\n",
        "\n",
        "# 데이터 로드\n",
        "urllib.request.urlretrieve(\"http://www.gutenberg.org/files/11/11-0.txt\", filename=\"11-0.txt\")\n",
        "\n",
        "f = open('11-0.txt', 'rb')\n",
        "sentences = []\n",
        "for sentence in f: # 데이터로부터 한 줄씩 읽는다.\n",
        "    sentence = sentence.strip() # strip()을 통해 \\r, \\n을 제거한다.\n",
        "    sentence = sentence.lower() # 소문자화.\n",
        "    sentence = sentence.decode('ascii', 'ignore') # \\xe2\\x80\\x99 등과 같은 바이트 열 제거\n",
        "    if len(sentence) > 0: #리스트에 추가\n",
        "        sentences.append(sentence)\n",
        "f.close()\n",
        "\n"
      ],
      "metadata": {
        "id": "mgL0mrAy2Un8"
      },
      "execution_count": 6,
      "outputs": []
    },
    {
      "cell_type": "code",
      "source": [
        "sentences[:5]"
      ],
      "metadata": {
        "colab": {
          "base_uri": "https://localhost:8080/"
        },
        "id": "VP3Lb-C32W_W",
        "outputId": "91e985e9-98b0-4729-d44d-2b24391e2e83"
      },
      "execution_count": 7,
      "outputs": [
        {
          "output_type": "execute_result",
          "data": {
            "text/plain": [
              "['the project gutenberg ebook of alices adventures in wonderland, by lewis carroll',\n",
              " 'this ebook is for the use of anyone anywhere in the united states and',\n",
              " 'most other parts of the world at no cost and with almost no restrictions',\n",
              " 'whatsoever. you may copy it, give it away or re-use it under the terms',\n",
              " 'of the project gutenberg license included with this ebook or online at']"
            ]
          },
          "metadata": {},
          "execution_count": 7
        }
      ]
    },
    {
      "cell_type": "code",
      "source": [
        "total_data = ' '.join(sentences)\n",
        "print('문자열의 길이 또는 총 문자의 개수: %d' % len(total_data))"
      ],
      "metadata": {
        "colab": {
          "base_uri": "https://localhost:8080/"
        },
        "id": "UIec-BrF3nlv",
        "outputId": "764baa83-1ead-4553-98f7-cab0ac66bb76"
      },
      "execution_count": 8,
      "outputs": [
        {
          "output_type": "stream",
          "name": "stdout",
          "text": [
            "문자열의 길이 또는 총 문자의 개수: 159484\n"
          ]
        }
      ]
    },
    {
      "cell_type": "code",
      "source": [
        "print(total_data[:200])"
      ],
      "metadata": {
        "colab": {
          "base_uri": "https://localhost:8080/"
        },
        "id": "-O3MfRYr3oCT",
        "outputId": "e1dc2f1b-458d-462f-dc1e-b1387474277a"
      },
      "execution_count": 9,
      "outputs": [
        {
          "output_type": "stream",
          "name": "stdout",
          "text": [
            "the project gutenberg ebook of alices adventures in wonderland, by lewis carroll this ebook is for the use of anyone anywhere in the united states and most other parts of the world at no cost and with\n"
          ]
        }
      ]
    },
    {
      "cell_type": "code",
      "source": [
        "char_vocab = sorted(list(set(total_data)))\n",
        "vocab_size = len(char_vocab)\n",
        "print ('문자 집합의 크기 : {}'.format(vocab_size))"
      ],
      "metadata": {
        "colab": {
          "base_uri": "https://localhost:8080/"
        },
        "id": "LKcwr1_l3pvX",
        "outputId": "d2a1ef14-b257-445d-dc4b-647572e95d9b"
      },
      "execution_count": 10,
      "outputs": [
        {
          "output_type": "stream",
          "name": "stdout",
          "text": [
            "문자 집합의 크기 : 56\n"
          ]
        }
      ]
    },
    {
      "cell_type": "code",
      "source": [
        "# 문자에 고유한 정수 부여\n",
        "char_to_index = dict((char, index) for index, char in enumerate(char_vocab))\n",
        "print('문자 집합 :',char_to_index)"
      ],
      "metadata": {
        "colab": {
          "base_uri": "https://localhost:8080/"
        },
        "id": "VmZsNSve3sCh",
        "outputId": "e2a8d803-8162-483b-c5e7-61636d53c393"
      },
      "execution_count": 11,
      "outputs": [
        {
          "output_type": "stream",
          "name": "stdout",
          "text": [
            "문자 집합 : {' ': 0, '!': 1, '\"': 2, '#': 3, '$': 4, '%': 5, \"'\": 6, '(': 7, ')': 8, '*': 9, ',': 10, '-': 11, '.': 12, '/': 13, '0': 14, '1': 15, '2': 16, '3': 17, '4': 18, '5': 19, '6': 20, '7': 21, '8': 22, '9': 23, ':': 24, ';': 25, '?': 26, '[': 27, ']': 28, '_': 29, 'a': 30, 'b': 31, 'c': 32, 'd': 33, 'e': 34, 'f': 35, 'g': 36, 'h': 37, 'i': 38, 'j': 39, 'k': 40, 'l': 41, 'm': 42, 'n': 43, 'o': 44, 'p': 45, 'q': 46, 'r': 47, 's': 48, 't': 49, 'u': 50, 'v': 51, 'w': 52, 'x': 53, 'y': 54, 'z': 55}\n"
          ]
        }
      ]
    },
    {
      "cell_type": "code",
      "source": [
        "index_to_char = {}\n",
        "for key, value in char_to_index.items():\n",
        "    index_to_char[value] = key"
      ],
      "metadata": {
        "id": "rdidWMQq3tvq"
      },
      "execution_count": 12,
      "outputs": []
    },
    {
      "cell_type": "code",
      "source": [
        "# appl (입력 시퀀스) -> pple (예측해야하는 시퀀스)\n",
        "train_X = 'appl'\n",
        "train_y = 'pple'"
      ],
      "metadata": {
        "id": "6Ty2qfCW3vWq"
      },
      "execution_count": 13,
      "outputs": []
    },
    {
      "cell_type": "code",
      "source": [
        "seq_length = 60\n",
        "\n",
        "# 문자열의 길이를 seq_length로 나누면 전처리 후 생겨날 샘플 수\n",
        "n_samples = int(np.floor((len(total_data) - 1) / seq_length))\n",
        "print ('샘플의 수 : {}'.format(n_samples))"
      ],
      "metadata": {
        "colab": {
          "base_uri": "https://localhost:8080/"
        },
        "id": "npXw4h1i3wzY",
        "outputId": "3da1e33c-3a9d-41f6-fc6d-112a907ad73b"
      },
      "execution_count": 14,
      "outputs": [
        {
          "output_type": "stream",
          "name": "stdout",
          "text": [
            "샘플의 수 : 2658\n"
          ]
        }
      ]
    },
    {
      "cell_type": "code",
      "source": [
        "train_X = []\n",
        "train_y = []\n",
        "\n",
        "for i in range(n_samples):\n",
        "    # 0:60 -> 60:120 -> 120:180로 loop를 돌면서 문장 샘플을 1개씩 pick.\n",
        "    X_sample = total_data[i * seq_length: (i + 1) * seq_length]\n",
        "\n",
        "    # 정수 인코딩\n",
        "    X_encoded = [char_to_index[c] for c in X_sample]\n",
        "    train_X.append(X_encoded)\n",
        "\n",
        "    # 오른쪽으로 1칸 쉬프트\n",
        "    y_sample = total_data[i * seq_length + 1: (i + 1) * seq_length + 1]\n",
        "    y_encoded = [char_to_index[c] for c in y_sample]\n",
        "    train_y.append(y_encoded)"
      ],
      "metadata": {
        "id": "b__XlRZh3yFI"
      },
      "execution_count": 15,
      "outputs": []
    },
    {
      "cell_type": "code",
      "source": [
        "print('X 데이터의 첫번째 샘플 :',train_X[0])\n",
        "print('y 데이터의 첫번째 샘플 :',train_y[0])\n",
        "print('-'*50)\n",
        "print('X 데이터의 첫번째 샘플 디코딩 :',[index_to_char[i] for i in train_X[0]])\n",
        "print('y 데이터의 첫번째 샘플 디코딩 :',[index_to_char[i] for i in train_y[0]])"
      ],
      "metadata": {
        "colab": {
          "base_uri": "https://localhost:8080/"
        },
        "id": "Dbzko9HZ3z1R",
        "outputId": "f1fc5f65-4a9d-479d-ab5a-0bff154f693f"
      },
      "execution_count": 16,
      "outputs": [
        {
          "output_type": "stream",
          "name": "stdout",
          "text": [
            "X 데이터의 첫번째 샘플 : [49, 37, 34, 0, 45, 47, 44, 39, 34, 32, 49, 0, 36, 50, 49, 34, 43, 31, 34, 47, 36, 0, 34, 31, 44, 44, 40, 0, 44, 35, 0, 30, 41, 38, 32, 34, 48, 0, 30, 33, 51, 34, 43, 49, 50, 47, 34, 48, 0, 38, 43, 0, 52, 44, 43, 33, 34, 47, 41, 30]\n",
            "y 데이터의 첫번째 샘플 : [37, 34, 0, 45, 47, 44, 39, 34, 32, 49, 0, 36, 50, 49, 34, 43, 31, 34, 47, 36, 0, 34, 31, 44, 44, 40, 0, 44, 35, 0, 30, 41, 38, 32, 34, 48, 0, 30, 33, 51, 34, 43, 49, 50, 47, 34, 48, 0, 38, 43, 0, 52, 44, 43, 33, 34, 47, 41, 30, 43]\n",
            "--------------------------------------------------\n",
            "X 데이터의 첫번째 샘플 디코딩 : ['t', 'h', 'e', ' ', 'p', 'r', 'o', 'j', 'e', 'c', 't', ' ', 'g', 'u', 't', 'e', 'n', 'b', 'e', 'r', 'g', ' ', 'e', 'b', 'o', 'o', 'k', ' ', 'o', 'f', ' ', 'a', 'l', 'i', 'c', 'e', 's', ' ', 'a', 'd', 'v', 'e', 'n', 't', 'u', 'r', 'e', 's', ' ', 'i', 'n', ' ', 'w', 'o', 'n', 'd', 'e', 'r', 'l', 'a']\n",
            "y 데이터의 첫번째 샘플 디코딩 : ['h', 'e', ' ', 'p', 'r', 'o', 'j', 'e', 'c', 't', ' ', 'g', 'u', 't', 'e', 'n', 'b', 'e', 'r', 'g', ' ', 'e', 'b', 'o', 'o', 'k', ' ', 'o', 'f', ' ', 'a', 'l', 'i', 'c', 'e', 's', ' ', 'a', 'd', 'v', 'e', 'n', 't', 'u', 'r', 'e', 's', ' ', 'i', 'n', ' ', 'w', 'o', 'n', 'd', 'e', 'r', 'l', 'a', 'n']\n"
          ]
        }
      ]
    },
    {
      "cell_type": "code",
      "source": [
        "print(train_X[1])"
      ],
      "metadata": {
        "colab": {
          "base_uri": "https://localhost:8080/"
        },
        "id": "8wrClif-31ty",
        "outputId": "c39169b3-7e09-4984-86b1-167dae274b6d"
      },
      "execution_count": 17,
      "outputs": [
        {
          "output_type": "stream",
          "name": "stdout",
          "text": [
            "[43, 33, 10, 0, 31, 54, 0, 41, 34, 52, 38, 48, 0, 32, 30, 47, 47, 44, 41, 41, 0, 49, 37, 38, 48, 0, 34, 31, 44, 44, 40, 0, 38, 48, 0, 35, 44, 47, 0, 49, 37, 34, 0, 50, 48, 34, 0, 44, 35, 0, 30, 43, 54, 44, 43, 34, 0, 30, 43, 54]\n"
          ]
        }
      ]
    },
    {
      "cell_type": "code",
      "source": [
        "print(train_y[1])"
      ],
      "metadata": {
        "colab": {
          "base_uri": "https://localhost:8080/"
        },
        "id": "eV1GtyMr35Kc",
        "outputId": "f795a75d-2a13-4635-ebea-7c9be2b09fb4"
      },
      "execution_count": 18,
      "outputs": [
        {
          "output_type": "stream",
          "name": "stdout",
          "text": [
            "[33, 10, 0, 31, 54, 0, 41, 34, 52, 38, 48, 0, 32, 30, 47, 47, 44, 41, 41, 0, 49, 37, 38, 48, 0, 34, 31, 44, 44, 40, 0, 38, 48, 0, 35, 44, 47, 0, 49, 37, 34, 0, 50, 48, 34, 0, 44, 35, 0, 30, 43, 54, 44, 43, 34, 0, 30, 43, 54, 52]\n"
          ]
        }
      ]
    },
    {
      "cell_type": "code",
      "source": [
        "train_X = to_categorical(train_X)\n",
        "train_y = to_categorical(train_y)\n",
        "\n",
        "print('train_X의 크기(shape) : {}'.format(train_X.shape)) # 원-핫 인코딩\n",
        "print('train_y의 크기(shape) : {}'.format(train_y.shape)) # 원-핫 인코딩"
      ],
      "metadata": {
        "colab": {
          "base_uri": "https://localhost:8080/"
        },
        "id": "mkbTIq6V36XQ",
        "outputId": "e0b5ddae-acf2-466e-ff52-e472515cdb41"
      },
      "execution_count": 19,
      "outputs": [
        {
          "output_type": "stream",
          "name": "stdout",
          "text": [
            "train_X의 크기(shape) : (2658, 60, 56)\n",
            "train_y의 크기(shape) : (2658, 60, 56)\n"
          ]
        }
      ]
    },
    {
      "cell_type": "code",
      "source": [
        "from tensorflow.keras.models import Sequential\n",
        "from tensorflow.keras.layers import Dense, LSTM, TimeDistributed\n",
        "\n",
        "hidden_units = 256\n",
        "\n",
        "model = Sequential()\n",
        "model.add(LSTM(hidden_units, input_shape=(None, train_X.shape[2]), return_sequences=True))\n",
        "model.add(LSTM(hidden_units, return_sequences=True))\n",
        "model.add(TimeDistributed(Dense(vocab_size, activation='softmax')))\n",
        "\n",
        "model.compile(loss='categorical_crossentropy', optimizer='adam', metrics=['accuracy'])\n",
        "model.fit(train_X, train_y, epochs=80, verbose=2)\n"
      ],
      "metadata": {
        "colab": {
          "base_uri": "https://localhost:8080/"
        },
        "id": "rku085MU3-VA",
        "outputId": "5cb485f2-5369-46f6-d81f-c141c7a6c551"
      },
      "execution_count": 20,
      "outputs": [
        {
          "output_type": "stream",
          "name": "stdout",
          "text": [
            "Epoch 1/80\n",
            "84/84 - 10s - loss: 3.0629 - accuracy: 0.1830 - 10s/epoch - 115ms/step\n",
            "Epoch 2/80\n",
            "84/84 - 1s - loss: 2.7568 - accuracy: 0.2420 - 693ms/epoch - 8ms/step\n",
            "Epoch 3/80\n",
            "84/84 - 1s - loss: 2.4188 - accuracy: 0.3232 - 703ms/epoch - 8ms/step\n",
            "Epoch 4/80\n",
            "84/84 - 1s - loss: 2.2773 - accuracy: 0.3531 - 695ms/epoch - 8ms/step\n",
            "Epoch 5/80\n",
            "84/84 - 1s - loss: 2.1781 - accuracy: 0.3763 - 684ms/epoch - 8ms/step\n",
            "Epoch 6/80\n",
            "84/84 - 1s - loss: 2.1000 - accuracy: 0.3983 - 696ms/epoch - 8ms/step\n",
            "Epoch 7/80\n",
            "84/84 - 1s - loss: 2.0345 - accuracy: 0.4154 - 688ms/epoch - 8ms/step\n",
            "Epoch 8/80\n",
            "84/84 - 1s - loss: 1.9958 - accuracy: 0.4268 - 771ms/epoch - 9ms/step\n",
            "Epoch 9/80\n",
            "84/84 - 1s - loss: 1.9385 - accuracy: 0.4413 - 817ms/epoch - 10ms/step\n",
            "Epoch 10/80\n",
            "84/84 - 1s - loss: 1.8984 - accuracy: 0.4510 - 828ms/epoch - 10ms/step\n",
            "Epoch 11/80\n",
            "84/84 - 1s - loss: 1.8578 - accuracy: 0.4613 - 739ms/epoch - 9ms/step\n",
            "Epoch 12/80\n",
            "84/84 - 1s - loss: 1.8214 - accuracy: 0.4707 - 712ms/epoch - 8ms/step\n",
            "Epoch 13/80\n",
            "84/84 - 1s - loss: 1.7863 - accuracy: 0.4809 - 691ms/epoch - 8ms/step\n",
            "Epoch 14/80\n",
            "84/84 - 1s - loss: 1.7522 - accuracy: 0.4898 - 696ms/epoch - 8ms/step\n",
            "Epoch 15/80\n",
            "84/84 - 1s - loss: 1.7206 - accuracy: 0.4979 - 690ms/epoch - 8ms/step\n",
            "Epoch 16/80\n",
            "84/84 - 1s - loss: 1.6903 - accuracy: 0.5047 - 700ms/epoch - 8ms/step\n",
            "Epoch 17/80\n",
            "84/84 - 1s - loss: 1.6642 - accuracy: 0.5124 - 682ms/epoch - 8ms/step\n",
            "Epoch 18/80\n",
            "84/84 - 1s - loss: 1.6346 - accuracy: 0.5199 - 700ms/epoch - 8ms/step\n",
            "Epoch 19/80\n",
            "84/84 - 1s - loss: 1.6088 - accuracy: 0.5267 - 698ms/epoch - 8ms/step\n",
            "Epoch 20/80\n",
            "84/84 - 1s - loss: 1.5791 - accuracy: 0.5344 - 688ms/epoch - 8ms/step\n",
            "Epoch 21/80\n",
            "84/84 - 1s - loss: 1.5545 - accuracy: 0.5415 - 696ms/epoch - 8ms/step\n",
            "Epoch 22/80\n",
            "84/84 - 1s - loss: 1.5292 - accuracy: 0.5464 - 711ms/epoch - 8ms/step\n",
            "Epoch 23/80\n",
            "84/84 - 1s - loss: 1.5043 - accuracy: 0.5545 - 697ms/epoch - 8ms/step\n",
            "Epoch 24/80\n",
            "84/84 - 1s - loss: 1.4810 - accuracy: 0.5611 - 699ms/epoch - 8ms/step\n",
            "Epoch 25/80\n",
            "84/84 - 1s - loss: 1.4573 - accuracy: 0.5671 - 782ms/epoch - 9ms/step\n",
            "Epoch 26/80\n",
            "84/84 - 1s - loss: 1.4326 - accuracy: 0.5732 - 839ms/epoch - 10ms/step\n",
            "Epoch 27/80\n",
            "84/84 - 1s - loss: 1.4103 - accuracy: 0.5801 - 861ms/epoch - 10ms/step\n",
            "Epoch 28/80\n",
            "84/84 - 1s - loss: 1.3871 - accuracy: 0.5868 - 694ms/epoch - 8ms/step\n",
            "Epoch 29/80\n",
            "84/84 - 1s - loss: 1.3667 - accuracy: 0.5924 - 699ms/epoch - 8ms/step\n",
            "Epoch 30/80\n",
            "84/84 - 1s - loss: 1.3390 - accuracy: 0.5995 - 700ms/epoch - 8ms/step\n",
            "Epoch 31/80\n",
            "84/84 - 1s - loss: 1.3175 - accuracy: 0.6065 - 693ms/epoch - 8ms/step\n",
            "Epoch 32/80\n",
            "84/84 - 1s - loss: 1.2953 - accuracy: 0.6136 - 694ms/epoch - 8ms/step\n",
            "Epoch 33/80\n",
            "84/84 - 1s - loss: 1.2719 - accuracy: 0.6193 - 699ms/epoch - 8ms/step\n",
            "Epoch 34/80\n",
            "84/84 - 1s - loss: 1.2491 - accuracy: 0.6268 - 687ms/epoch - 8ms/step\n",
            "Epoch 35/80\n",
            "84/84 - 1s - loss: 1.2285 - accuracy: 0.6316 - 695ms/epoch - 8ms/step\n",
            "Epoch 36/80\n",
            "84/84 - 1s - loss: 1.2029 - accuracy: 0.6407 - 690ms/epoch - 8ms/step\n",
            "Epoch 37/80\n",
            "84/84 - 1s - loss: 1.1773 - accuracy: 0.6466 - 696ms/epoch - 8ms/step\n",
            "Epoch 38/80\n",
            "84/84 - 1s - loss: 1.1589 - accuracy: 0.6527 - 712ms/epoch - 8ms/step\n",
            "Epoch 39/80\n",
            "84/84 - 1s - loss: 1.1334 - accuracy: 0.6596 - 693ms/epoch - 8ms/step\n",
            "Epoch 40/80\n",
            "84/84 - 1s - loss: 1.1121 - accuracy: 0.6657 - 694ms/epoch - 8ms/step\n",
            "Epoch 41/80\n",
            "84/84 - 1s - loss: 1.0889 - accuracy: 0.6720 - 717ms/epoch - 9ms/step\n",
            "Epoch 42/80\n",
            "84/84 - 1s - loss: 1.0600 - accuracy: 0.6823 - 837ms/epoch - 10ms/step\n",
            "Epoch 43/80\n",
            "84/84 - 1s - loss: 1.0400 - accuracy: 0.6888 - 817ms/epoch - 10ms/step\n",
            "Epoch 44/80\n",
            "84/84 - 1s - loss: 1.0152 - accuracy: 0.6953 - 801ms/epoch - 10ms/step\n",
            "Epoch 45/80\n",
            "84/84 - 1s - loss: 0.9968 - accuracy: 0.7002 - 704ms/epoch - 8ms/step\n",
            "Epoch 46/80\n",
            "84/84 - 1s - loss: 0.9676 - accuracy: 0.7102 - 701ms/epoch - 8ms/step\n",
            "Epoch 47/80\n",
            "84/84 - 1s - loss: 0.9473 - accuracy: 0.7167 - 828ms/epoch - 10ms/step\n",
            "Epoch 48/80\n",
            "84/84 - 1s - loss: 0.9222 - accuracy: 0.7231 - 841ms/epoch - 10ms/step\n",
            "Epoch 49/80\n",
            "84/84 - 1s - loss: 0.8946 - accuracy: 0.7333 - 691ms/epoch - 8ms/step\n",
            "Epoch 50/80\n",
            "84/84 - 1s - loss: 0.8713 - accuracy: 0.7400 - 697ms/epoch - 8ms/step\n",
            "Epoch 51/80\n",
            "84/84 - 1s - loss: 0.8506 - accuracy: 0.7470 - 718ms/epoch - 9ms/step\n",
            "Epoch 52/80\n",
            "84/84 - 1s - loss: 0.8208 - accuracy: 0.7564 - 699ms/epoch - 8ms/step\n",
            "Epoch 53/80\n",
            "84/84 - 1s - loss: 0.8137 - accuracy: 0.7570 - 708ms/epoch - 8ms/step\n",
            "Epoch 54/80\n",
            "84/84 - 1s - loss: 0.7781 - accuracy: 0.7699 - 721ms/epoch - 9ms/step\n",
            "Epoch 55/80\n",
            "84/84 - 1s - loss: 0.7526 - accuracy: 0.7790 - 701ms/epoch - 8ms/step\n",
            "Epoch 56/80\n",
            "84/84 - 1s - loss: 0.7286 - accuracy: 0.7861 - 706ms/epoch - 8ms/step\n",
            "Epoch 57/80\n",
            "84/84 - 1s - loss: 0.7109 - accuracy: 0.7915 - 710ms/epoch - 8ms/step\n",
            "Epoch 58/80\n",
            "84/84 - 1s - loss: 0.6890 - accuracy: 0.7992 - 776ms/epoch - 9ms/step\n",
            "Epoch 59/80\n",
            "84/84 - 1s - loss: 0.6637 - accuracy: 0.8069 - 808ms/epoch - 10ms/step\n",
            "Epoch 60/80\n",
            "84/84 - 1s - loss: 0.6391 - accuracy: 0.8154 - 853ms/epoch - 10ms/step\n",
            "Epoch 61/80\n",
            "84/84 - 1s - loss: 0.6246 - accuracy: 0.8190 - 697ms/epoch - 8ms/step\n",
            "Epoch 62/80\n",
            "84/84 - 1s - loss: 0.6062 - accuracy: 0.8239 - 709ms/epoch - 8ms/step\n",
            "Epoch 63/80\n",
            "84/84 - 1s - loss: 0.5855 - accuracy: 0.8314 - 701ms/epoch - 8ms/step\n",
            "Epoch 64/80\n",
            "84/84 - 1s - loss: 0.5662 - accuracy: 0.8383 - 703ms/epoch - 8ms/step\n",
            "Epoch 65/80\n",
            "84/84 - 1s - loss: 0.5485 - accuracy: 0.8433 - 697ms/epoch - 8ms/step\n",
            "Epoch 66/80\n",
            "84/84 - 1s - loss: 0.5545 - accuracy: 0.8393 - 697ms/epoch - 8ms/step\n",
            "Epoch 67/80\n",
            "84/84 - 1s - loss: 0.5140 - accuracy: 0.8542 - 696ms/epoch - 8ms/step\n",
            "Epoch 68/80\n",
            "84/84 - 1s - loss: 0.4866 - accuracy: 0.8649 - 706ms/epoch - 8ms/step\n",
            "Epoch 69/80\n",
            "84/84 - 1s - loss: 0.4675 - accuracy: 0.8716 - 701ms/epoch - 8ms/step\n",
            "Epoch 70/80\n",
            "84/84 - 1s - loss: 0.4562 - accuracy: 0.8745 - 703ms/epoch - 8ms/step\n",
            "Epoch 71/80\n",
            "84/84 - 1s - loss: 0.4396 - accuracy: 0.8796 - 702ms/epoch - 8ms/step\n",
            "Epoch 72/80\n",
            "84/84 - 1s - loss: 0.4290 - accuracy: 0.8823 - 713ms/epoch - 8ms/step\n",
            "Epoch 73/80\n",
            "84/84 - 1s - loss: 0.4134 - accuracy: 0.8870 - 702ms/epoch - 8ms/step\n",
            "Epoch 74/80\n",
            "84/84 - 1s - loss: 0.3992 - accuracy: 0.8919 - 709ms/epoch - 8ms/step\n",
            "Epoch 75/80\n",
            "84/84 - 1s - loss: 0.3813 - accuracy: 0.8977 - 815ms/epoch - 10ms/step\n",
            "Epoch 76/80\n",
            "84/84 - 1s - loss: 0.3732 - accuracy: 0.9005 - 819ms/epoch - 10ms/step\n",
            "Epoch 77/80\n",
            "84/84 - 1s - loss: 0.3610 - accuracy: 0.9036 - 789ms/epoch - 9ms/step\n",
            "Epoch 78/80\n",
            "84/84 - 1s - loss: 0.3387 - accuracy: 0.9120 - 708ms/epoch - 8ms/step\n",
            "Epoch 79/80\n",
            "84/84 - 1s - loss: 0.3276 - accuracy: 0.9157 - 705ms/epoch - 8ms/step\n",
            "Epoch 80/80\n",
            "84/84 - 1s - loss: 0.3099 - accuracy: 0.9215 - 697ms/epoch - 8ms/step\n"
          ]
        },
        {
          "output_type": "execute_result",
          "data": {
            "text/plain": [
              "<keras.src.callbacks.History at 0x7862f0121120>"
            ]
          },
          "metadata": {},
          "execution_count": 20
        }
      ]
    },
    {
      "cell_type": "code",
      "source": [
        "def sentence_generation(model, length):\n",
        "    # 문자에 대한 랜덤한 정수 생성\n",
        "    ix = [np.random.randint(vocab_size)]\n",
        "\n",
        "    # 랜덤한 정수로부터 맵핑되는 문자 생성\n",
        "    y_char = [index_to_char[ix[-1]]]\n",
        "    print(ix[-1],'번 문자',y_char[-1],'로 예측을 시작!')\n",
        "\n",
        "    # (1, length, 55) 크기의 X 생성. 즉, LSTM의 입력 시퀀스 생성\n",
        "    X = np.zeros((1, length, vocab_size))\n",
        "\n",
        "    for i in range(length):\n",
        "        # X[0][i][예측한 문자의 인덱스] = 1, 즉, 예측 문자를 다음 입력 시퀀스에 추가\n",
        "        X[0][i][ix[-1]] = 1\n",
        "        print(index_to_char[ix[-1]], end=\"\")\n",
        "        ix = np.argmax(model.predict(X[:, :i+1, :])[0], 1)\n",
        "        y_char.append(index_to_char[ix[-1]])\n",
        "    return ('').join(y_char)\n"
      ],
      "metadata": {
        "id": "mGch7QPh4AAf"
      },
      "execution_count": 21,
      "outputs": []
    },
    {
      "cell_type": "code",
      "source": [
        "result = sentence_generation(model, 100)\n",
        "print(result)\n"
      ],
      "metadata": {
        "colab": {
          "base_uri": "https://localhost:8080/"
        },
        "id": "c7nvTwoW5x_I",
        "outputId": "b1e9acc8-c8ab-4a41-d52d-2c3a00082b71"
      },
      "execution_count": 22,
      "outputs": [
        {
          "output_type": "stream",
          "name": "stdout",
          "text": [
            "11 번 문자 - 로 예측을 시작!\n",
            "1/1 [==============================] - 1s 638ms/step\n",
            "1/1 [==============================] - 1s 623ms/step\n",
            "1/1 [==============================] - 0s 19ms/step\n",
            "1/1 [==============================] - 0s 27ms/step\n",
            "1/1 [==============================] - 0s 30ms/step\n",
            "1/1 [==============================] - 0s 36ms/step\n",
            "1/1 [==============================] - 0s 29ms/step\n",
            "1/1 [==============================] - 0s 27ms/step\n",
            "1/1 [==============================] - 0s 41ms/step\n",
            "1/1 [==============================] - 0s 27ms/step\n",
            "1/1 [==============================] - 0s 27ms/step\n",
            "1/1 [==============================] - 0s 28ms/step\n",
            "1/1 [==============================] - 0s 27ms/step\n",
            "1/1 [==============================] - 0s 31ms/step\n",
            "1/1 [==============================] - 0s 30ms/step\n",
            "1/1 [==============================] - 0s 27ms/step\n",
            "1/1 [==============================] - 0s 28ms/step\n",
            "1/1 [==============================] - 0s 27ms/step\n",
            "1/1 [==============================] - 0s 27ms/step\n",
            "1/1 [==============================] - 0s 29ms/step\n",
            "1/1 [==============================] - 0s 29ms/step\n",
            "1/1 [==============================] - 0s 29ms/step\n",
            "1/1 [==============================] - 0s 35ms/step\n",
            "1/1 [==============================] - 0s 30ms/step\n",
            "1/1 [==============================] - 0s 28ms/step\n",
            "1/1 [==============================] - 0s 33ms/step\n",
            "1/1 [==============================] - 0s 21ms/step\n",
            "1/1 [==============================] - 0s 22ms/step\n",
            "1/1 [==============================] - 0s 22ms/step\n",
            "1/1 [==============================] - 0s 19ms/step\n",
            "1/1 [==============================] - 0s 23ms/step\n",
            "1/1 [==============================] - 0s 20ms/step\n",
            "1/1 [==============================] - 0s 25ms/step\n",
            "1/1 [==============================] - 0s 20ms/step\n",
            "1/1 [==============================] - 0s 21ms/step\n",
            "1/1 [==============================] - 0s 24ms/step\n",
            "1/1 [==============================] - 0s 20ms/step\n",
            "1/1 [==============================] - 0s 20ms/step\n",
            "1/1 [==============================] - 0s 21ms/step\n",
            "1/1 [==============================] - 0s 21ms/step\n",
            "1/1 [==============================] - 0s 19ms/step\n",
            "1/1 [==============================] - 0s 19ms/step\n",
            "1/1 [==============================] - 0s 21ms/step\n",
            "1/1 [==============================] - 0s 19ms/step\n",
            "1/1 [==============================] - 0s 19ms/step\n",
            "1/1 [==============================] - 0s 19ms/step\n",
            "1/1 [==============================] - 0s 21ms/step\n",
            "1/1 [==============================] - 0s 20ms/step\n",
            "1/1 [==============================] - 0s 19ms/step\n",
            "1/1 [==============================] - 0s 21ms/step\n",
            "1/1 [==============================] - 0s 21ms/step\n",
            "1/1 [==============================] - 0s 20ms/step\n",
            "1/1 [==============================] - 0s 22ms/step\n",
            "1/1 [==============================] - 0s 26ms/step\n",
            "1/1 [==============================] - 0s 21ms/step\n",
            "1/1 [==============================] - 0s 26ms/step\n",
            "1/1 [==============================] - 0s 20ms/step\n",
            "1/1 [==============================] - 0s 21ms/step\n",
            "1/1 [==============================] - 0s 21ms/step\n",
            "1/1 [==============================] - 0s 20ms/step\n",
            "1/1 [==============================] - 0s 23ms/step\n",
            "1/1 [==============================] - 0s 20ms/step\n",
            "1/1 [==============================] - 0s 20ms/step\n",
            "1/1 [==============================] - 0s 21ms/step\n",
            "1/1 [==============================] - 0s 22ms/step\n",
            "1/1 [==============================] - 0s 21ms/step\n",
            "1/1 [==============================] - 0s 22ms/step\n",
            "1/1 [==============================] - 0s 21ms/step\n",
            "1/1 [==============================] - 0s 21ms/step\n",
            "1/1 [==============================] - 0s 19ms/step\n",
            "1/1 [==============================] - 0s 21ms/step\n",
            "1/1 [==============================] - 0s 22ms/step\n",
            "1/1 [==============================] - 0s 23ms/step\n",
            "1/1 [==============================] - 0s 19ms/step\n",
            "1/1 [==============================] - 0s 21ms/step\n",
            "1/1 [==============================] - 0s 21ms/step\n",
            "1/1 [==============================] - 0s 21ms/step\n",
            "1/1 [==============================] - 0s 22ms/step\n",
            "1/1 [==============================] - 0s 21ms/step\n",
            "1/1 [==============================] - 0s 22ms/step\n",
            "1/1 [==============================] - 0s 30ms/step\n",
            "1/1 [==============================] - 0s 21ms/step\n",
            "1/1 [==============================] - 0s 21ms/step\n",
            "1/1 [==============================] - 0s 22ms/step\n",
            "1/1 [==============================] - 0s 22ms/step\n",
            "1/1 [==============================] - 0s 24ms/step\n",
            "1/1 [==============================] - 0s 20ms/step\n",
            "1/1 [==============================] - 0s 20ms/step\n",
            "1/1 [==============================] - 0s 22ms/step\n",
            "1/1 [==============================] - 0s 23ms/step\n",
            "1/1 [==============================] - 0s 20ms/step\n",
            "1/1 [==============================] - 0s 22ms/step\n",
            "1/1 [==============================] - 0s 23ms/step\n",
            "1/1 [==============================] - 0s 20ms/step\n",
            "1/1 [==============================] - 0s 22ms/step\n",
            "1/1 [==============================] - 0s 21ms/step\n",
            "1/1 [==============================] - 0s 24ms/step\n",
            "1/1 [==============================] - 0s 25ms/step\n",
            "1/1 [==============================] - 0s 22ms/step\n",
            "1/1 [==============================] - 0s 22ms/step\n",
            "-box, or they would be on to the project gutenberg literary archive foundation (\"the foundation about\n"
          ]
        }
      ]
    },
    {
      "cell_type": "markdown",
      "source": [
        "문자 단위 RNN(Char RNN)으로 텍스트 생성하기"
      ],
      "metadata": {
        "id": "35N4_pl457iJ"
      }
    },
    {
      "cell_type": "code",
      "source": [
        "import numpy as np\n",
        "from tensorflow.keras.utils import to_categorical"
      ],
      "metadata": {
        "id": "3jAwsm3n544C"
      },
      "execution_count": 23,
      "outputs": []
    },
    {
      "cell_type": "code",
      "source": [
        "raw_text = '''\n",
        "I get on with life as a programmer,\n",
        "I like to contemplate beer.\n",
        "But when I start to daydream,\n",
        "My mind turns straight to wine.\n",
        "\n",
        "Do I love wine more than beer?\n",
        "\n",
        "I like to use words about beer.\n",
        "But when I stop my talking,\n",
        "My mind turns straight to wine.\n",
        "\n",
        "I hate bugs and errors.\n",
        "But I just think back to wine,\n",
        "And I'm happy once again.\n",
        "\n",
        "I like to hang out with programming and deep learning.\n",
        "But when left alone,\n",
        "My mind turns straight to wine.\n",
        "'''"
      ],
      "metadata": {
        "id": "Hb2v_t7r5-Dh"
      },
      "execution_count": 24,
      "outputs": []
    },
    {
      "cell_type": "code",
      "source": [
        "tokens = raw_text.split()\n",
        "raw_text = ' '.join(tokens)\n",
        "print(raw_text)"
      ],
      "metadata": {
        "colab": {
          "base_uri": "https://localhost:8080/"
        },
        "id": "EO907gSz6DLy",
        "outputId": "166eb152-8654-40d9-e798-ce1ea136660b"
      },
      "execution_count": 25,
      "outputs": [
        {
          "output_type": "stream",
          "name": "stdout",
          "text": [
            "I get on with life as a programmer, I like to contemplate beer. But when I start to daydream, My mind turns straight to wine. Do I love wine more than beer? I like to use words about beer. But when I stop my talking, My mind turns straight to wine. I hate bugs and errors. But I just think back to wine, And I'm happy once again. I like to hang out with programming and deep learning. But when left alone, My mind turns straight to wine.\n"
          ]
        }
      ]
    },
    {
      "cell_type": "code",
      "source": [
        "# 중복을 제거한 문자 집합 생성\n",
        "char_vocab = sorted(list(set(raw_text)))\n",
        "vocab_size = len(char_vocab)\n",
        "print('문자 집합 :',char_vocab)\n",
        "print ('문자 집합의 크기 : {}'.format(vocab_size))"
      ],
      "metadata": {
        "colab": {
          "base_uri": "https://localhost:8080/"
        },
        "id": "FeNKCq5s6FWD",
        "outputId": "272eb100-c312-4e27-cc51-926630c2990e"
      },
      "execution_count": 26,
      "outputs": [
        {
          "output_type": "stream",
          "name": "stdout",
          "text": [
            "문자 집합 : [' ', \"'\", ',', '.', '?', 'A', 'B', 'D', 'I', 'M', 'a', 'b', 'c', 'd', 'e', 'f', 'g', 'h', 'i', 'j', 'k', 'l', 'm', 'n', 'o', 'p', 'r', 's', 't', 'u', 'v', 'w', 'y']\n",
            "문자 집합의 크기 : 33\n"
          ]
        }
      ]
    },
    {
      "cell_type": "code",
      "source": [
        "char_to_index = dict((char, index) for index, char in enumerate(char_vocab)) # 문자에 고유한 정수 인덱스 부여\n",
        "print(char_to_index)\n"
      ],
      "metadata": {
        "colab": {
          "base_uri": "https://localhost:8080/"
        },
        "id": "mI_kxCs56HnI",
        "outputId": "adc387ae-f5fb-45d3-fe0e-95a13a3a846c"
      },
      "execution_count": 27,
      "outputs": [
        {
          "output_type": "stream",
          "name": "stdout",
          "text": [
            "{' ': 0, \"'\": 1, ',': 2, '.': 3, '?': 4, 'A': 5, 'B': 6, 'D': 7, 'I': 8, 'M': 9, 'a': 10, 'b': 11, 'c': 12, 'd': 13, 'e': 14, 'f': 15, 'g': 16, 'h': 17, 'i': 18, 'j': 19, 'k': 20, 'l': 21, 'm': 22, 'n': 23, 'o': 24, 'p': 25, 'r': 26, 's': 27, 't': 28, 'u': 29, 'v': 30, 'w': 31, 'y': 32}\n"
          ]
        }
      ]
    },
    {
      "cell_type": "code",
      "source": [
        "length = 11\n",
        "sequences = []\n",
        "for i in range(length, len(raw_text)):\n",
        "    seq = raw_text[i-length:i] # 길이 11의 문자열을 지속적으로 만든다.\n",
        "    sequences.append(seq)\n",
        "print('총 훈련 샘플의 수: %d' % len(sequences))\n"
      ],
      "metadata": {
        "colab": {
          "base_uri": "https://localhost:8080/"
        },
        "id": "68Uefws26Jkp",
        "outputId": "235aae15-0b49-4230-990f-e89928db6a9b"
      },
      "execution_count": 28,
      "outputs": [
        {
          "output_type": "stream",
          "name": "stdout",
          "text": [
            "총 훈련 샘플의 수: 426\n"
          ]
        }
      ]
    },
    {
      "cell_type": "code",
      "source": [
        "sequences[:10]\n"
      ],
      "metadata": {
        "colab": {
          "base_uri": "https://localhost:8080/"
        },
        "id": "RF1xK9pb6LTI",
        "outputId": "8f793d6c-fa57-4bac-9399-73cae0fd132c"
      },
      "execution_count": 29,
      "outputs": [
        {
          "output_type": "execute_result",
          "data": {
            "text/plain": [
              "['I get on wi',\n",
              " ' get on wit',\n",
              " 'get on with',\n",
              " 'et on with ',\n",
              " 't on with l',\n",
              " ' on with li',\n",
              " 'on with lif',\n",
              " 'n with life',\n",
              " ' with life ',\n",
              " 'with life a']"
            ]
          },
          "metadata": {},
          "execution_count": 29
        }
      ]
    },
    {
      "cell_type": "code",
      "source": [
        "encoded_sequences = []\n",
        "for sequence in sequences: # 전체 데이터에서 문장 샘플을 1개씩 꺼낸다.\n",
        "    encoded_sequence = [char_to_index[char] for char in sequence] # 문장 샘플에서 각 문자에 대해서 정수 인코딩을 수행.\n",
        "    encoded_sequences.append(encoded_sequence)\n"
      ],
      "metadata": {
        "id": "hhKwj5Zg6Ngd"
      },
      "execution_count": 30,
      "outputs": []
    },
    {
      "cell_type": "code",
      "source": [
        "encoded_sequences[:5]\n"
      ],
      "metadata": {
        "colab": {
          "base_uri": "https://localhost:8080/"
        },
        "id": "j1AHKLkz6PBY",
        "outputId": "08f15245-88a9-48ac-a9ea-93a4be86f89e"
      },
      "execution_count": 31,
      "outputs": [
        {
          "output_type": "execute_result",
          "data": {
            "text/plain": [
              "[[8, 0, 16, 14, 28, 0, 24, 23, 0, 31, 18],\n",
              " [0, 16, 14, 28, 0, 24, 23, 0, 31, 18, 28],\n",
              " [16, 14, 28, 0, 24, 23, 0, 31, 18, 28, 17],\n",
              " [14, 28, 0, 24, 23, 0, 31, 18, 28, 17, 0],\n",
              " [28, 0, 24, 23, 0, 31, 18, 28, 17, 0, 21]]"
            ]
          },
          "metadata": {},
          "execution_count": 31
        }
      ]
    },
    {
      "cell_type": "code",
      "source": [
        "encoded_sequences = np.array(encoded_sequences)\n",
        "\n",
        "# 맨 마지막 위치의 문자를 분리\n",
        "X_data = encoded_sequences[:,:-1]\n",
        "# 맨 마지막 위치의 문자를 저장\n",
        "y_data = encoded_sequences[:,-1]\n"
      ],
      "metadata": {
        "id": "hjNUDXnt6QRc"
      },
      "execution_count": 32,
      "outputs": []
    },
    {
      "cell_type": "code",
      "source": [
        "print(X_data[:5])\n",
        "print(y_data[:5])\n"
      ],
      "metadata": {
        "colab": {
          "base_uri": "https://localhost:8080/"
        },
        "id": "mZ2PYtwP6R-S",
        "outputId": "8aca1fb7-ea37-422f-834e-672a9890ed99"
      },
      "execution_count": 33,
      "outputs": [
        {
          "output_type": "stream",
          "name": "stdout",
          "text": [
            "[[ 8  0 16 14 28  0 24 23  0 31]\n",
            " [ 0 16 14 28  0 24 23  0 31 18]\n",
            " [16 14 28  0 24 23  0 31 18 28]\n",
            " [14 28  0 24 23  0 31 18 28 17]\n",
            " [28  0 24 23  0 31 18 28 17  0]]\n",
            "[18 28 17  0 21]\n"
          ]
        }
      ]
    },
    {
      "cell_type": "code",
      "source": [
        "# 원-핫 인코딩\n",
        "X_data_one_hot = [to_categorical(encoded, num_classes=vocab_size) for encoded in X_data]\n",
        "X_data_one_hot = np.array(X_data_one_hot)\n",
        "y_data_one_hot = to_categorical(y_data, num_classes=vocab_size)\n"
      ],
      "metadata": {
        "id": "iW9d1XGP6UEH"
      },
      "execution_count": 34,
      "outputs": []
    },
    {
      "cell_type": "code",
      "source": [
        "print(X_data_one_hot.shape)\n"
      ],
      "metadata": {
        "colab": {
          "base_uri": "https://localhost:8080/"
        },
        "id": "bS_mn_wk6Vqh",
        "outputId": "b3387466-4244-4c50-9a33-3b21f1df775c"
      },
      "execution_count": 35,
      "outputs": [
        {
          "output_type": "stream",
          "name": "stdout",
          "text": [
            "(426, 10, 33)\n"
          ]
        }
      ]
    },
    {
      "cell_type": "code",
      "source": [
        "from tensorflow.keras.models import Sequential\n",
        "from tensorflow.keras.layers import Dense, LSTM\n",
        "from tensorflow.keras.preprocessing.sequence import pad_sequences\n",
        "\n",
        "hidden_units = 64\n",
        "\n",
        "model = Sequential()\n",
        "model.add(LSTM(hidden_units, input_shape=(X_data_one_hot.shape[1], X_data_one_hot.shape[2])))\n",
        "model.add(Dense(vocab_size, activation='softmax'))\n",
        "\n",
        "model.compile(loss='categorical_crossentropy', optimizer='adam', metrics=['accuracy'])\n",
        "model.fit(X_data_one_hot, y_data_one_hot, epochs=100, verbose=2)\n"
      ],
      "metadata": {
        "colab": {
          "base_uri": "https://localhost:8080/"
        },
        "id": "puStBEaq6W6z",
        "outputId": "7234a59e-b47e-4f3b-9303-1683d453dec4"
      },
      "execution_count": 36,
      "outputs": [
        {
          "output_type": "stream",
          "name": "stdout",
          "text": [
            "Epoch 1/100\n",
            "14/14 - 3s - loss: 3.4741 - accuracy: 0.0892 - 3s/epoch - 197ms/step\n",
            "Epoch 2/100\n",
            "14/14 - 0s - loss: 3.3757 - accuracy: 0.1948 - 53ms/epoch - 4ms/step\n",
            "Epoch 3/100\n",
            "14/14 - 0s - loss: 3.1072 - accuracy: 0.1972 - 53ms/epoch - 4ms/step\n",
            "Epoch 4/100\n",
            "14/14 - 0s - loss: 2.9784 - accuracy: 0.1972 - 52ms/epoch - 4ms/step\n",
            "Epoch 5/100\n",
            "14/14 - 0s - loss: 2.9542 - accuracy: 0.1972 - 54ms/epoch - 4ms/step\n",
            "Epoch 6/100\n",
            "14/14 - 0s - loss: 2.9352 - accuracy: 0.1972 - 56ms/epoch - 4ms/step\n",
            "Epoch 7/100\n",
            "14/14 - 0s - loss: 2.9220 - accuracy: 0.1972 - 62ms/epoch - 4ms/step\n",
            "Epoch 8/100\n",
            "14/14 - 0s - loss: 2.9012 - accuracy: 0.1972 - 55ms/epoch - 4ms/step\n",
            "Epoch 9/100\n",
            "14/14 - 0s - loss: 2.8862 - accuracy: 0.1972 - 52ms/epoch - 4ms/step\n",
            "Epoch 10/100\n",
            "14/14 - 0s - loss: 2.8579 - accuracy: 0.1972 - 54ms/epoch - 4ms/step\n",
            "Epoch 11/100\n",
            "14/14 - 0s - loss: 2.8296 - accuracy: 0.1972 - 54ms/epoch - 4ms/step\n",
            "Epoch 12/100\n",
            "14/14 - 0s - loss: 2.8056 - accuracy: 0.2042 - 53ms/epoch - 4ms/step\n",
            "Epoch 13/100\n",
            "14/14 - 0s - loss: 2.7699 - accuracy: 0.2042 - 51ms/epoch - 4ms/step\n",
            "Epoch 14/100\n",
            "14/14 - 0s - loss: 2.7361 - accuracy: 0.2089 - 61ms/epoch - 4ms/step\n",
            "Epoch 15/100\n",
            "14/14 - 0s - loss: 2.6965 - accuracy: 0.2136 - 53ms/epoch - 4ms/step\n",
            "Epoch 16/100\n",
            "14/14 - 0s - loss: 2.6521 - accuracy: 0.2136 - 74ms/epoch - 5ms/step\n",
            "Epoch 17/100\n",
            "14/14 - 0s - loss: 2.6052 - accuracy: 0.2300 - 53ms/epoch - 4ms/step\n",
            "Epoch 18/100\n",
            "14/14 - 0s - loss: 2.5681 - accuracy: 0.2371 - 54ms/epoch - 4ms/step\n",
            "Epoch 19/100\n",
            "14/14 - 0s - loss: 2.5243 - accuracy: 0.2559 - 55ms/epoch - 4ms/step\n",
            "Epoch 20/100\n",
            "14/14 - 0s - loss: 2.4805 - accuracy: 0.3005 - 56ms/epoch - 4ms/step\n",
            "Epoch 21/100\n",
            "14/14 - 0s - loss: 2.4462 - accuracy: 0.2864 - 56ms/epoch - 4ms/step\n",
            "Epoch 22/100\n",
            "14/14 - 0s - loss: 2.4038 - accuracy: 0.3451 - 59ms/epoch - 4ms/step\n",
            "Epoch 23/100\n",
            "14/14 - 0s - loss: 2.3619 - accuracy: 0.3216 - 58ms/epoch - 4ms/step\n",
            "Epoch 24/100\n",
            "14/14 - 0s - loss: 2.3369 - accuracy: 0.3380 - 53ms/epoch - 4ms/step\n",
            "Epoch 25/100\n",
            "14/14 - 0s - loss: 2.2721 - accuracy: 0.3545 - 52ms/epoch - 4ms/step\n",
            "Epoch 26/100\n",
            "14/14 - 0s - loss: 2.2403 - accuracy: 0.3498 - 53ms/epoch - 4ms/step\n",
            "Epoch 27/100\n",
            "14/14 - 0s - loss: 2.1950 - accuracy: 0.3803 - 51ms/epoch - 4ms/step\n",
            "Epoch 28/100\n",
            "14/14 - 0s - loss: 2.1571 - accuracy: 0.3826 - 58ms/epoch - 4ms/step\n",
            "Epoch 29/100\n",
            "14/14 - 0s - loss: 2.1189 - accuracy: 0.3991 - 52ms/epoch - 4ms/step\n",
            "Epoch 30/100\n",
            "14/14 - 0s - loss: 2.0911 - accuracy: 0.3920 - 52ms/epoch - 4ms/step\n",
            "Epoch 31/100\n",
            "14/14 - 0s - loss: 2.0400 - accuracy: 0.4061 - 58ms/epoch - 4ms/step\n",
            "Epoch 32/100\n",
            "14/14 - 0s - loss: 1.9918 - accuracy: 0.4366 - 53ms/epoch - 4ms/step\n",
            "Epoch 33/100\n",
            "14/14 - 0s - loss: 1.9701 - accuracy: 0.4225 - 51ms/epoch - 4ms/step\n",
            "Epoch 34/100\n",
            "14/14 - 0s - loss: 1.9199 - accuracy: 0.4601 - 56ms/epoch - 4ms/step\n",
            "Epoch 35/100\n",
            "14/14 - 0s - loss: 1.8623 - accuracy: 0.4484 - 53ms/epoch - 4ms/step\n",
            "Epoch 36/100\n",
            "14/14 - 0s - loss: 1.8363 - accuracy: 0.4906 - 52ms/epoch - 4ms/step\n",
            "Epoch 37/100\n",
            "14/14 - 0s - loss: 1.7902 - accuracy: 0.5000 - 54ms/epoch - 4ms/step\n",
            "Epoch 38/100\n",
            "14/14 - 0s - loss: 1.7548 - accuracy: 0.5423 - 64ms/epoch - 5ms/step\n",
            "Epoch 39/100\n",
            "14/14 - 0s - loss: 1.7048 - accuracy: 0.5000 - 52ms/epoch - 4ms/step\n",
            "Epoch 40/100\n",
            "14/14 - 0s - loss: 1.6805 - accuracy: 0.5329 - 57ms/epoch - 4ms/step\n",
            "Epoch 41/100\n",
            "14/14 - 0s - loss: 1.6322 - accuracy: 0.5305 - 54ms/epoch - 4ms/step\n",
            "Epoch 42/100\n",
            "14/14 - 0s - loss: 1.6109 - accuracy: 0.5587 - 52ms/epoch - 4ms/step\n",
            "Epoch 43/100\n",
            "14/14 - 0s - loss: 1.5584 - accuracy: 0.6009 - 54ms/epoch - 4ms/step\n",
            "Epoch 44/100\n",
            "14/14 - 0s - loss: 1.5055 - accuracy: 0.6174 - 53ms/epoch - 4ms/step\n",
            "Epoch 45/100\n",
            "14/14 - 0s - loss: 1.4695 - accuracy: 0.6174 - 58ms/epoch - 4ms/step\n",
            "Epoch 46/100\n",
            "14/14 - 0s - loss: 1.4330 - accuracy: 0.6268 - 54ms/epoch - 4ms/step\n",
            "Epoch 47/100\n",
            "14/14 - 0s - loss: 1.3981 - accuracy: 0.6643 - 55ms/epoch - 4ms/step\n",
            "Epoch 48/100\n",
            "14/14 - 0s - loss: 1.3575 - accuracy: 0.6854 - 53ms/epoch - 4ms/step\n",
            "Epoch 49/100\n",
            "14/14 - 0s - loss: 1.3268 - accuracy: 0.6761 - 53ms/epoch - 4ms/step\n",
            "Epoch 50/100\n",
            "14/14 - 0s - loss: 1.3033 - accuracy: 0.6761 - 56ms/epoch - 4ms/step\n",
            "Epoch 51/100\n",
            "14/14 - 0s - loss: 1.2765 - accuracy: 0.6878 - 56ms/epoch - 4ms/step\n",
            "Epoch 52/100\n",
            "14/14 - 0s - loss: 1.2319 - accuracy: 0.7183 - 60ms/epoch - 4ms/step\n",
            "Epoch 53/100\n",
            "14/14 - 0s - loss: 1.1963 - accuracy: 0.7300 - 53ms/epoch - 4ms/step\n",
            "Epoch 54/100\n",
            "14/14 - 0s - loss: 1.1494 - accuracy: 0.7512 - 53ms/epoch - 4ms/step\n",
            "Epoch 55/100\n",
            "14/14 - 0s - loss: 1.1130 - accuracy: 0.7582 - 54ms/epoch - 4ms/step\n",
            "Epoch 56/100\n",
            "14/14 - 0s - loss: 1.0806 - accuracy: 0.7723 - 53ms/epoch - 4ms/step\n",
            "Epoch 57/100\n",
            "14/14 - 0s - loss: 1.0543 - accuracy: 0.7746 - 64ms/epoch - 5ms/step\n",
            "Epoch 58/100\n",
            "14/14 - 0s - loss: 1.0269 - accuracy: 0.7864 - 57ms/epoch - 4ms/step\n",
            "Epoch 59/100\n",
            "14/14 - 0s - loss: 1.0170 - accuracy: 0.7911 - 59ms/epoch - 4ms/step\n",
            "Epoch 60/100\n",
            "14/14 - 0s - loss: 0.9670 - accuracy: 0.7817 - 58ms/epoch - 4ms/step\n",
            "Epoch 61/100\n",
            "14/14 - 0s - loss: 0.9308 - accuracy: 0.8122 - 57ms/epoch - 4ms/step\n",
            "Epoch 62/100\n",
            "14/14 - 0s - loss: 0.8922 - accuracy: 0.8263 - 56ms/epoch - 4ms/step\n",
            "Epoch 63/100\n",
            "14/14 - 0s - loss: 0.8805 - accuracy: 0.8216 - 57ms/epoch - 4ms/step\n",
            "Epoch 64/100\n",
            "14/14 - 0s - loss: 0.8449 - accuracy: 0.8239 - 55ms/epoch - 4ms/step\n",
            "Epoch 65/100\n",
            "14/14 - 0s - loss: 0.8307 - accuracy: 0.8404 - 53ms/epoch - 4ms/step\n",
            "Epoch 66/100\n",
            "14/14 - 0s - loss: 0.7987 - accuracy: 0.8404 - 63ms/epoch - 4ms/step\n",
            "Epoch 67/100\n",
            "14/14 - 0s - loss: 0.7621 - accuracy: 0.8615 - 67ms/epoch - 5ms/step\n",
            "Epoch 68/100\n",
            "14/14 - 0s - loss: 0.7610 - accuracy: 0.8568 - 54ms/epoch - 4ms/step\n",
            "Epoch 69/100\n",
            "14/14 - 0s - loss: 0.7194 - accuracy: 0.8662 - 56ms/epoch - 4ms/step\n",
            "Epoch 70/100\n",
            "14/14 - 0s - loss: 0.7015 - accuracy: 0.8662 - 53ms/epoch - 4ms/step\n",
            "Epoch 71/100\n",
            "14/14 - 0s - loss: 0.6828 - accuracy: 0.8944 - 58ms/epoch - 4ms/step\n",
            "Epoch 72/100\n",
            "14/14 - 0s - loss: 0.6499 - accuracy: 0.8803 - 55ms/epoch - 4ms/step\n",
            "Epoch 73/100\n",
            "14/14 - 0s - loss: 0.6345 - accuracy: 0.8944 - 64ms/epoch - 5ms/step\n",
            "Epoch 74/100\n",
            "14/14 - 0s - loss: 0.6175 - accuracy: 0.9131 - 57ms/epoch - 4ms/step\n",
            "Epoch 75/100\n",
            "14/14 - 0s - loss: 0.6038 - accuracy: 0.8991 - 55ms/epoch - 4ms/step\n",
            "Epoch 76/100\n",
            "14/14 - 0s - loss: 0.5764 - accuracy: 0.9225 - 57ms/epoch - 4ms/step\n",
            "Epoch 77/100\n",
            "14/14 - 0s - loss: 0.5659 - accuracy: 0.9319 - 55ms/epoch - 4ms/step\n",
            "Epoch 78/100\n",
            "14/14 - 0s - loss: 0.5438 - accuracy: 0.9225 - 54ms/epoch - 4ms/step\n",
            "Epoch 79/100\n",
            "14/14 - 0s - loss: 0.5215 - accuracy: 0.9272 - 52ms/epoch - 4ms/step\n",
            "Epoch 80/100\n",
            "14/14 - 0s - loss: 0.5106 - accuracy: 0.9460 - 57ms/epoch - 4ms/step\n",
            "Epoch 81/100\n",
            "14/14 - 0s - loss: 0.4922 - accuracy: 0.9531 - 56ms/epoch - 4ms/step\n",
            "Epoch 82/100\n",
            "14/14 - 0s - loss: 0.4767 - accuracy: 0.9507 - 52ms/epoch - 4ms/step\n",
            "Epoch 83/100\n",
            "14/14 - 0s - loss: 0.4683 - accuracy: 0.9413 - 54ms/epoch - 4ms/step\n",
            "Epoch 84/100\n",
            "14/14 - 0s - loss: 0.4531 - accuracy: 0.9507 - 54ms/epoch - 4ms/step\n",
            "Epoch 85/100\n",
            "14/14 - 0s - loss: 0.4333 - accuracy: 0.9554 - 65ms/epoch - 5ms/step\n",
            "Epoch 86/100\n",
            "14/14 - 0s - loss: 0.4154 - accuracy: 0.9601 - 55ms/epoch - 4ms/step\n",
            "Epoch 87/100\n",
            "14/14 - 0s - loss: 0.4004 - accuracy: 0.9577 - 54ms/epoch - 4ms/step\n",
            "Epoch 88/100\n",
            "14/14 - 0s - loss: 0.3980 - accuracy: 0.9601 - 52ms/epoch - 4ms/step\n",
            "Epoch 89/100\n",
            "14/14 - 0s - loss: 0.3820 - accuracy: 0.9624 - 53ms/epoch - 4ms/step\n",
            "Epoch 90/100\n",
            "14/14 - 0s - loss: 0.3750 - accuracy: 0.9577 - 61ms/epoch - 4ms/step\n",
            "Epoch 91/100\n",
            "14/14 - 0s - loss: 0.3657 - accuracy: 0.9648 - 53ms/epoch - 4ms/step\n",
            "Epoch 92/100\n",
            "14/14 - 0s - loss: 0.3446 - accuracy: 0.9671 - 55ms/epoch - 4ms/step\n",
            "Epoch 93/100\n",
            "14/14 - 0s - loss: 0.3315 - accuracy: 0.9671 - 53ms/epoch - 4ms/step\n",
            "Epoch 94/100\n",
            "14/14 - 0s - loss: 0.3221 - accuracy: 0.9671 - 51ms/epoch - 4ms/step\n",
            "Epoch 95/100\n",
            "14/14 - 0s - loss: 0.3097 - accuracy: 0.9718 - 51ms/epoch - 4ms/step\n",
            "Epoch 96/100\n",
            "14/14 - 0s - loss: 0.3077 - accuracy: 0.9695 - 53ms/epoch - 4ms/step\n",
            "Epoch 97/100\n",
            "14/14 - 0s - loss: 0.3000 - accuracy: 0.9742 - 52ms/epoch - 4ms/step\n",
            "Epoch 98/100\n",
            "14/14 - 0s - loss: 0.2887 - accuracy: 0.9742 - 57ms/epoch - 4ms/step\n",
            "Epoch 99/100\n",
            "14/14 - 0s - loss: 0.2793 - accuracy: 0.9765 - 59ms/epoch - 4ms/step\n",
            "Epoch 100/100\n",
            "14/14 - 0s - loss: 0.2839 - accuracy: 0.9742 - 55ms/epoch - 4ms/step\n"
          ]
        },
        {
          "output_type": "execute_result",
          "data": {
            "text/plain": [
              "<keras.src.callbacks.History at 0x7862f00ab250>"
            ]
          },
          "metadata": {},
          "execution_count": 36
        }
      ]
    },
    {
      "cell_type": "code",
      "source": [
        "def sentence_generation(model, char_to_index, seq_length, seed_text, n):\n",
        "\n",
        "    # 초기 시퀀스\n",
        "    init_text = seed_text\n",
        "    sentence = ''\n",
        "\n",
        "    # 다음 문자 예측은 총 n번만 반복.\n",
        "    for _ in range(n):\n",
        "        encoded = [char_to_index[char] for char in seed_text] # 현재 시퀀스에 대한 정수 인코딩\n",
        "        encoded = pad_sequences([encoded], maxlen=seq_length, padding='pre') # 데이터에 대한 패딩\n",
        "        encoded = to_categorical(encoded, num_classes=len(char_to_index))\n",
        "\n",
        "        # 입력한 X(현재 시퀀스)에 대해서 y를 예측하고 y(예측한 문자)를 result에 저장.\n",
        "        result = model.predict(encoded, verbose=0)\n",
        "        result = np.argmax(result, axis=1)\n",
        "\n",
        "        for char, index in char_to_index.items():\n",
        "            if index == result:\n",
        "                break\n",
        "\n",
        "        # 현재 시퀀스 + 예측 문자를 현재 시퀀스로 변경\n",
        "        seed_text = seed_text + char\n",
        "\n",
        "        # 예측 문자를 문장에 저장\n",
        "        sentence = sentence + char\n",
        "\n",
        "    # n번의 다음 문자 예측이 끝나면 최종 완성된 문장을 리턴.\n",
        "    sentence = init_text + sentence\n",
        "    return sentence\n"
      ],
      "metadata": {
        "id": "F3-mCZ_G6Yi_"
      },
      "execution_count": 37,
      "outputs": []
    },
    {
      "cell_type": "code",
      "source": [
        "print(sentence_generation(model, char_to_index, 10, 'I get on w', 80))\n"
      ],
      "metadata": {
        "colab": {
          "base_uri": "https://localhost:8080/"
        },
        "id": "Nd-XVsy56aeX",
        "outputId": "b57544a6-b588-46c5-857b-21abfb59fae1"
      },
      "execution_count": 38,
      "outputs": [
        {
          "output_type": "stream",
          "name": "stdout",
          "text": [
            "I get on with life as a programmer, I like to use words about beer. But when I stap my baa\n"
          ]
        }
      ]
    }
  ]
}