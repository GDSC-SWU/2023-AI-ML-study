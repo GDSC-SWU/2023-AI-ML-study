{
  "nbformat": 4,
  "nbformat_minor": 0,
  "metadata": {
    "colab": {
      "provenance": [],
      "gpuType": "T4"
    },
    "kernelspec": {
      "name": "python3",
      "display_name": "Python 3"
    },
    "language_info": {
      "name": "python"
    },
    "accelerator": "GPU"
  },
  "cells": [
    {
      "cell_type": "code",
      "execution_count": null,
      "metadata": {
        "colab": {
          "base_uri": "https://localhost:8080/"
        },
        "id": "XYuyR2-hziV9",
        "outputId": "ecd320d3-d229-4b4a-b4a1-6c8090deeff9"
      },
      "outputs": [
        {
          "output_type": "stream",
          "name": "stdout",
          "text": [
            "Model: \"sequential\"\n",
            "_________________________________________________________________\n",
            " Layer (type)                Output Shape              Param #   \n",
            "=================================================================\n",
            " simple_rnn (SimpleRNN)      (None, 7)                 126       \n",
            "                                                                 \n",
            "=================================================================\n",
            "Total params: 126 (504.00 Byte)\n",
            "Trainable params: 126 (504.00 Byte)\n",
            "Non-trainable params: 0 (0.00 Byte)\n",
            "_________________________________________________________________\n"
          ]
        }
      ],
      "source": [
        "#케라스로 RNN구현하기\n",
        "from tensorflow.keras.models import Sequential\n",
        "from tensorflow.keras.layers import SimpleRNN\n",
        "\n",
        "model=Sequential()\n",
        "model.add(SimpleRNN(7,input_shape=(2,10)))\n",
        "#model.add(SimpleRNN(3,input_length=2,input_dim=10))과 동일\n",
        "model.summary()"
      ]
    },
    {
      "cell_type": "code",
      "source": [
        "#batch size 미리 정의 , 2D 텐서\n",
        "model=Sequential()\n",
        "model.add(SimpleRNN(7,batch_input_shape=(8,2,10)))\n",
        "model.summary()"
      ],
      "metadata": {
        "colab": {
          "base_uri": "https://localhost:8080/"
        },
        "id": "U53pq6pXz2xc",
        "outputId": "73812a70-c79c-4c9b-ecfa-522492ebd5b7"
      },
      "execution_count": null,
      "outputs": [
        {
          "output_type": "stream",
          "name": "stdout",
          "text": [
            "Model: \"sequential_1\"\n",
            "_________________________________________________________________\n",
            " Layer (type)                Output Shape              Param #   \n",
            "=================================================================\n",
            " simple_rnn_1 (SimpleRNN)    (8, 7)                    126       \n",
            "                                                                 \n",
            "=================================================================\n",
            "Total params: 126 (504.00 Byte)\n",
            "Trainable params: 126 (504.00 Byte)\n",
            "Non-trainable params: 0 (0.00 Byte)\n",
            "_________________________________________________________________\n"
          ]
        }
      ]
    },
    {
      "cell_type": "code",
      "source": [
        "#return_sequences 매개변수에 True를 기재하여 출력 값으로 3D텐서 리턴\n",
        "model=Sequential()\n",
        "model.add(SimpleRNN(7,batch_input_shape=(8,2,10),return_sequences=True))\n",
        "model.summary()"
      ],
      "metadata": {
        "colab": {
          "base_uri": "https://localhost:8080/"
        },
        "id": "DneRsN5J2fW0",
        "outputId": "8c410b2f-3a63-402d-9d61-76ed5d5ac47b"
      },
      "execution_count": null,
      "outputs": [
        {
          "output_type": "stream",
          "name": "stdout",
          "text": [
            "Model: \"sequential_2\"\n",
            "_________________________________________________________________\n",
            " Layer (type)                Output Shape              Param #   \n",
            "=================================================================\n",
            " simple_rnn_2 (SimpleRNN)    (8, 2, 7)                 126       \n",
            "                                                                 \n",
            "=================================================================\n",
            "Total params: 126 (504.00 Byte)\n",
            "Trainable params: 126 (504.00 Byte)\n",
            "Non-trainable params: 0 (0.00 Byte)\n",
            "_________________________________________________________________\n"
          ]
        }
      ]
    },
    {
      "cell_type": "code",
      "source": [
        "# #파이썬으로 RNN 구현하기\n",
        "# #numpy로 RNN층으로 구현\n",
        "\n",
        "# hidden_state_t=0 #초기 은닉 상태를 0(벡터)로 초기화\n",
        "# for input_t in input_length: #각 시점마다 입력을 받는다.\n",
        "#     output_t = tanh(input_t, hidden_state_t) #각 시점에 대해서 입력과 은닉 상태를 가지고 연산\n",
        "#     hidden_state_t=output_t #계산 결과는 현재 시점의 은닉 상태가 된다."
      ],
      "metadata": {
        "id": "uXDZmisd3Iuy"
      },
      "execution_count": null,
      "outputs": []
    },
    {
      "cell_type": "code",
      "source": [
        "#RNN층 구현 _실제 동작되는 코드로\n",
        "#2D 텐서로 입력, but 실제로는 3D텐서로 입력받는다!!!\n",
        "\n",
        "import numpy as np\n",
        "timesteps=10\n",
        "input_dim=4\n",
        "hidden_units=8\n",
        "\n",
        "#입력에 해당되는 2D 텐서\n",
        "inputs=np.random.random((timesteps,input_dim))\n",
        "\n",
        "#초기 은닉 상태는 0(벡터)로 초기화\n",
        "hidden_state_t = np.zeros((hidden_units,))\n",
        "\n",
        "print('초기 은닉 상태 :',hidden_state_t)"
      ],
      "metadata": {
        "colab": {
          "base_uri": "https://localhost:8080/"
        },
        "id": "-aaN28ek70MP",
        "outputId": "ec5f7770-740b-4ae2-acec-b3c95d69a216"
      },
      "execution_count": null,
      "outputs": [
        {
          "output_type": "stream",
          "name": "stdout",
          "text": [
            "초기 은닉 상태 : [0. 0. 0. 0. 0. 0. 0. 0.]\n"
          ]
        }
      ]
    },
    {
      "cell_type": "code",
      "source": [
        "Wx=np.random.random((hidden_units,input_dim)) #(8,4)크기의 2D 텐서 생성. 입력에 대한 가중치.\n",
        "Wh=np.random.random((hidden_units,hidden_units)) #(8,8)크기의 2D 텐서 생성. 은닉 상태에 대한 가중치.\n",
        "b=np.random.random((hidden_units,)) #(8,)크기의 1D 텐서 생성. 이 값은 편향(bias).\n",
        "\n",
        "print('가중치 Wx의 크기(shape) :',np.shape(Wx))\n",
        "print('가중치 Wh의 크기(shape) :',np.shape(Wh))\n",
        "print('편향의 크기(shape) :',np.shape(b))"
      ],
      "metadata": {
        "colab": {
          "base_uri": "https://localhost:8080/"
        },
        "id": "2XLXB0Je8hqe",
        "outputId": "dc6ca078-334f-4c7f-ce45-3484ae753830"
      },
      "execution_count": null,
      "outputs": [
        {
          "output_type": "stream",
          "name": "stdout",
          "text": [
            "가중치 Wx의 크기(shape) : (8, 4)\n",
            "가중치 Wh의 크기(shape) : (8, 8)\n",
            "편향의 크기(shape) : (8,)\n"
          ]
        }
      ]
    },
    {
      "cell_type": "code",
      "source": [
        "#Wx (은닉 상태의 크기 x 입력의 차원)\n",
        "#Wh (은닉 상태의 크기 x 은닉 상태의 크기)\n",
        "#b (은닉 상태의 크기)\n",
        "\n",
        "total_hidden_states=[]\n",
        "\n",
        "#각 시점 별 입력값.\n",
        "for input_t in inputs:\n",
        "\n",
        "    #Wx * Wh * Ht-1 + b(bias)\n",
        "    output_t = np.tanh(np.dot(Wx,input_t)+np.dot(Wh,hidden_state_t)+b)\n",
        "\n",
        "    #각 시점 t별 메모리 셀의 출력의 크기는 (timestep t, output_dim)\n",
        "    #각 시점의 은닉 상태의 값을 계속해서 누적\n",
        "    total_hidden_states.append(list(output_t))\n",
        "    hidden_state_t = output_t\n",
        "\n",
        "#출력 시 값을 깔끔하게 해주는 용도.\n",
        "total_hidden_states=np.stack(total_hidden_states, axis=0)\n",
        "\n",
        "#(timesteps, output_dim)\n",
        "print('모든 시점의 은닉 상태 : ')\n",
        "print(total_hidden_states)\n"
      ],
      "metadata": {
        "colab": {
          "base_uri": "https://localhost:8080/"
        },
        "id": "JKI3NeOi9WRM",
        "outputId": "9cd30e84-e2dd-4f57-8181-4acd7334d0d4"
      },
      "execution_count": null,
      "outputs": [
        {
          "output_type": "stream",
          "name": "stdout",
          "text": [
            "모든 시점의 은닉 상태 : \n",
            "[[0.97215156 0.9841429  0.95762207 0.98575696 0.94091572 0.93712996\n",
            "  0.96876123 0.94904748]\n",
            " [0.99996367 0.9999798  0.99997533 0.99998005 0.999953   0.99953153\n",
            "  0.99995133 0.99998052]\n",
            " [0.99997229 0.99998857 0.99998927 0.9999872  0.99996717 0.99965609\n",
            "  0.99996818 0.99998627]\n",
            " [0.99999285 0.99999054 0.9999906  0.99999693 0.9999561  0.99976855\n",
            "  0.99998452 0.99999656]\n",
            " [0.99996142 0.99997633 0.99997914 0.9999769  0.99993968 0.99938867\n",
            "  0.99995105 0.99998062]\n",
            " [0.99997398 0.99997169 0.99997314 0.99998432 0.999919   0.99942362\n",
            "  0.99995707 0.99998719]\n",
            " [0.99999122 0.99999493 0.99999199 0.9999941  0.99998562 0.99965262\n",
            "  0.99998406 0.99999478]\n",
            " [0.99998891 0.99998879 0.9999891  0.99999528 0.99995468 0.99974428\n",
            "  0.99997996 0.99999472]\n",
            " [0.99996015 0.99996657 0.99997809 0.99995918 0.99991431 0.99841715\n",
            "  0.99993856 0.99997755]\n",
            " [0.99998072 0.99998152 0.99998381 0.99999015 0.9999371  0.99958517\n",
            "  0.99996851 0.99999069]]\n"
          ]
        }
      ]
    },
    {
      "cell_type": "code",
      "source": [
        "model=Sequential()\n",
        "model.add(SimpleRNN(hidden_units,input_length=10,input_dim=5,return_sequences=True))\n",
        "model.add(SimpleRNN(hidden_units,return_sequences=True))"
      ],
      "metadata": {
        "id": "huG6hTd8-ow1"
      },
      "execution_count": null,
      "outputs": []
    },
    {
      "cell_type": "code",
      "source": [
        "#양방향RNN 구현\n",
        "from tensorflow.keras.layers import Bidirectional\n",
        "\n",
        "timesteps=10\n",
        "input_dim=5\n",
        "\n",
        "model=Sequential()\n",
        "\n",
        "model.add(Bidirectional(SimpleRNN(hidden_units,return_sequences=True),\n",
        "                        input_shape=(timesteps,input_dim)))"
      ],
      "metadata": {
        "id": "YNyBijBJBhAk"
      },
      "execution_count": null,
      "outputs": []
    },
    {
      "cell_type": "code",
      "source": [
        "#은닉층이 4개인 경우\n",
        "model=Sequential()\n",
        "model.add(Bidirectional(SimpleRNN(hidden_units,return_sequences=True),input_shape=(timesteps,input_dim)))\n",
        "model.add(Bidirectional(SimpleRNN(hidden_units,return_sequences=True)))\n",
        "model.add(Bidirectional(SimpleRNN(hidden_units,return_sequences=True)))\n",
        "model.add(Bidirectional(SimpleRNN(hidden_units,return_sequences=True)))"
      ],
      "metadata": {
        "id": "bF3CM7SdCbFv"
      },
      "execution_count": null,
      "outputs": []
    },
    {
      "cell_type": "code",
      "source": [
        "#케라스의 SimpleRNN과 LSTM이해하기\n",
        "#임의의 입력 생성하기\n",
        "import numpy as np\n",
        "import tensorflow as tf\n",
        "from tensorflow.keras.layers import SimpleRNN, LSTM, Bidirectional"
      ],
      "metadata": {
        "id": "_Ire133XDUj7"
      },
      "execution_count": null,
      "outputs": []
    },
    {
      "cell_type": "code",
      "source": [
        "#단어 벡터의 차원 = 5, 문장의 길이가 4인 경우 가정\n",
        "#4번의 timesteps 존재\n",
        "#각 시점마다 5차원의 단어 벡터가 입력으로 사용됨\n",
        "#RNN ->3D 텐서\n",
        "#배치크기 1 (여기서는 샘플이 1개이므로 batch_size =1)\n",
        "#입력 데이터\n",
        "train_X = [[[0.1, 4.2, 1.5, 1.1, 2.8], [1.0, 3.1, 2.5, 0.7, 1.1], [0.3, 2.1, 1.5, 2.1, 0.1], [2.2, 1.4, 0.5, 0.9, 1.1]]]\n",
        "train_X = np.array(train_X, dtype=np.float32)\n",
        "print(train_X.shape)\n",
        "\n"
      ],
      "metadata": {
        "colab": {
          "base_uri": "https://localhost:8080/"
        },
        "id": "dcFrhdayxUTR",
        "outputId": "287425eb-1a91-4cda-f23e-d9200d89fd22"
      },
      "execution_count": null,
      "outputs": [
        {
          "output_type": "stream",
          "name": "stdout",
          "text": [
            "(1, 4, 5)\n"
          ]
        }
      ]
    },
    {
      "cell_type": "code",
      "source": [
        "#SimpleRNN이해하기\n",
        "#return_sequences & return_state\n",
        "#기본값 = False\n",
        "rnn = SimpleRNN(3)\n",
        "#rnn=SimpleRNN(3,return_sequences=False,return_state=Flase)와 동일\n",
        "hidden_state=rnn(train_X)\n",
        "\n",
        "print('hidden state:{}, shape:{}'.format(hidden_state, hidden_state.shape))"
      ],
      "metadata": {
        "colab": {
          "base_uri": "https://localhost:8080/"
        },
        "id": "a_UQzqfcxVTW",
        "outputId": "6e3e9830-bbc3-4223-9554-ca70ac1018c1"
      },
      "execution_count": null,
      "outputs": [
        {
          "output_type": "stream",
          "name": "stdout",
          "text": [
            "hidden state:[[-0.5639982   0.8801311  -0.71509427]], shape:(1, 3)\n"
          ]
        }
      ]
    },
    {
      "cell_type": "code",
      "source": [
        "#return_sequences = True로 지정하여 모든 시점의 은닉상태 출력\n",
        "rnn=SimpleRNN(3,return_sequences=True)\n",
        "hidden_states=rnn(train_X)\n",
        "\n",
        "print('hidden states : {}, shape:{}'.format(hidden_states, hidden_states.shape))"
      ],
      "metadata": {
        "colab": {
          "base_uri": "https://localhost:8080/"
        },
        "id": "rJLgFC2IyyDe",
        "outputId": "f842af53-6714-4bc4-afc7-ad30a533a85a"
      },
      "execution_count": null,
      "outputs": [
        {
          "output_type": "stream",
          "name": "stdout",
          "text": [
            "hidden states : [[[-0.9995812  -0.6333409  -0.9983529 ]\n",
            "  [-0.999748    0.78892857 -0.70984095]\n",
            "  [-0.9989706  -0.25064808 -0.8053357 ]\n",
            "  [-0.99709404 -0.8410254  -0.4736368 ]]], shape:(1, 4, 3)\n"
          ]
        }
      ]
    },
    {
      "cell_type": "code",
      "source": [
        "#return_sequences만 True인 경우 : 마지막 시점의 은닉상태만 출력\n",
        "#return_sequences = True, return_state=Truen => SimpleRNN : 두개의 출력을 리턴\n",
        "\n",
        "rnn = SimpleRNN(3, return_sequences=True,return_state=True)\n",
        "hidden_states, last_state=rnn(train_X)\n",
        "\n",
        "print('hidden state: {},shape{}'.format(hidden_states,hidden_states.shape))\n",
        "print('Last hidden state:{},shape{}'.format(last_state,last_state.shape))"
      ],
      "metadata": {
        "colab": {
          "base_uri": "https://localhost:8080/"
        },
        "id": "-xsBqVkbmGcC",
        "outputId": "fef21e4f-d032-47b6-d285-8b812a94e686"
      },
      "execution_count": null,
      "outputs": [
        {
          "output_type": "stream",
          "name": "stdout",
          "text": [
            "hidden state: [[[-0.9320836   0.9716166   0.9898222 ]\n",
            "  [ 0.16015136  0.9776749   0.9991785 ]\n",
            "  [-0.49151608  0.82457256  0.8540446 ]\n",
            "  [-0.6513351   0.7596812   0.99759364]]],shape(1, 4, 3)\n",
            "Last hidden state:[[-0.6513351   0.7596812   0.99759364]],shape(1, 3)\n"
          ]
        }
      ]
    },
    {
      "cell_type": "code",
      "source": [
        "#return_sequences = False & return_state = True 인 경우\n",
        "#두 개의 출력 모두 마지막 시점 은닉 상태를 출력함\n",
        "rnn=SimpleRNN(3, return_sequences=False, return_state=True)\n",
        "hidden_state,last_state=rnn(train_X)\n",
        "\n",
        "print('hidden state:{},shape:{}'.format(hidden_state, hidden_state.shape))\n",
        "print('last hidden state:{},shape:{}'.format(last_state,last_state.shape))"
      ],
      "metadata": {
        "colab": {
          "base_uri": "https://localhost:8080/"
        },
        "id": "MGoZwU4Bm6Qg",
        "outputId": "53a4b426-589c-4213-ec3d-8aea3643f084"
      },
      "execution_count": null,
      "outputs": [
        {
          "output_type": "stream",
          "name": "stdout",
          "text": [
            "hidden state:[[0.48085728 0.9977982  0.73590136]],shape:(1, 3)\n",
            "last hidden state:[[0.48085728 0.9977982  0.73590136]],shape:(1, 3)\n"
          ]
        }
      ]
    },
    {
      "cell_type": "code",
      "source": [
        "###LSTM 이해하기\n",
        "#return_sequences = False & return_state=True인 경우\n",
        "lstm=LSTM(3,return_sequences=False, return_state=True)\n",
        "hidden_state, last_state, last_cell_state=lstm(train_X)\n",
        "\n",
        "print('hidden state: {},shape:{}'.format(hidden_state, hidden_state.shape))\n",
        "print('last state:{},shape:{}'.format(last_state, last_state.shape))\n",
        "print('last cell state:{},shape{}'.format(last_cell_state,last_cell_state.shape))"
      ],
      "metadata": {
        "colab": {
          "base_uri": "https://localhost:8080/"
        },
        "id": "kx3phbX5nriW",
        "outputId": "53e7978a-18d7-40b0-8eeb-df74513f3a7e"
      },
      "execution_count": null,
      "outputs": [
        {
          "output_type": "stream",
          "name": "stdout",
          "text": [
            "hidden state: [[-0.2970912   0.10015458 -0.51643306]],shape:(1, 3)\n",
            "last state:[[-0.2970912   0.10015458 -0.51643306]],shape:(1, 3)\n",
            "last cell state:[[-0.3970523  0.6424023 -1.2355304]],shape(1, 3)\n"
          ]
        }
      ]
    },
    {
      "cell_type": "code",
      "source": [
        "#return_sequences=True, return_state=True인 경우\n",
        "lstm=LSTM(3,return_sequences=True, return_state=True)\n",
        "hidden_state, last_state, last_cell_state=lstm(train_X)\n",
        "\n",
        "print('hidden state: {},shape:{}'.format(hidden_state, hidden_state.shape))\n",
        "print('last state:{},shape:{}'.format(last_state, last_state.shape))\n",
        "print('last cell state:{},shape{}'.format(last_cell_state,last_cell_state.shape))"
      ],
      "metadata": {
        "colab": {
          "base_uri": "https://localhost:8080/"
        },
        "id": "5P27Mjl64MLe",
        "outputId": "9b3f2a03-7073-455a-9177-d5cf38accf64"
      },
      "execution_count": null,
      "outputs": [
        {
          "output_type": "stream",
          "name": "stdout",
          "text": [
            "hidden state: [[[-0.13920961  0.05624186 -0.11863286]\n",
            "  [-0.14408338  0.3121308  -0.20529094]\n",
            "  [ 0.07034603  0.30131596 -0.21186043]\n",
            "  [-0.11060808  0.3535355  -0.2915823 ]]],shape:(1, 4, 3)\n",
            "last state:[[-0.11060808  0.3535355  -0.2915823 ]],shape:(1, 3)\n",
            "last cell state:[[-0.14760196  0.98515725 -0.77278924]],shape(1, 3)\n"
          ]
        }
      ]
    },
    {
      "cell_type": "code",
      "source": [
        "#Bidirectional LSTM (양방향)\n",
        "#은닉상태 고정\n",
        "\n",
        "k_init=tf.keras.initializers.Constant(value=0.1)\n",
        "b_init=tf.keras.initializers.Constant(value=0)\n",
        "r_init=tf.keras.initializers.Constant(value=0.1)"
      ],
      "metadata": {
        "id": "0nMwTlr9VJ0T"
      },
      "execution_count": null,
      "outputs": []
    },
    {
      "cell_type": "code",
      "source": [
        "bilstm=Bidirectional(LSTM(3,return_sequences=False,return_state=True,\\\n",
        "                         kernel_initializer=k_init, bias_initializer=b_init,\n",
        "                         recurrent_initializer=r_init))\n",
        "hidden_states, forward_h, forward_c, backward_h, backward_c = bilstm(train_X)\n",
        "\n",
        "print('hidden states:{},shape:{}'.format(hidden_states, hidden_states.shape))\n",
        "print('forward state:{},shape:{}'.format(forward_h,forward_h.shape))\n",
        "print('backward state:{},shape:{}'.format(backward_h,backward_h.shape))"
      ],
      "metadata": {
        "colab": {
          "base_uri": "https://localhost:8080/"
        },
        "id": "ANy9HmfMVkz7",
        "outputId": "e3b5cfd9-d032-4c78-cb2f-518abb382355"
      },
      "execution_count": null,
      "outputs": [
        {
          "output_type": "stream",
          "name": "stdout",
          "text": [
            "hidden states:[[0.6303139  0.6303139  0.6303139  0.70387346 0.70387346 0.70387346]],shape:(1, 6)\n",
            "forward state:[[0.6303139 0.6303139 0.6303139]],shape:(1, 3)\n",
            "backward state:[[0.70387346 0.70387346 0.70387346]],shape:(1, 3)\n"
          ]
        }
      ]
    },
    {
      "cell_type": "code",
      "source": [
        "bilstm=Bidirectional(LSTM(3,return_sequences=True,return_state=True,\\\n",
        "                         kernel_initializer=k_init, bias_initializer=b_init,\n",
        "                         recurrent_initializer=r_init))\n",
        "hidden_states, forward_h, forward_c, backward_h, backward_c = bilstm(train_X)\n",
        "\n",
        "print('hidden states:{},shape:{}'.format(hidden_states, hidden_states.shape))\n",
        "print('forward state:{},shape:{}'.format(forward_h,forward_h.shape))\n",
        "print('backward state:{},shape:{}'.format(backward_h,backward_h.shape))"
      ],
      "metadata": {
        "colab": {
          "base_uri": "https://localhost:8080/"
        },
        "id": "sCIEvbzJWTm-",
        "outputId": "a96d0660-4b0b-49bb-8896-dcabc6b8fc32"
      },
      "execution_count": null,
      "outputs": [
        {
          "output_type": "stream",
          "name": "stdout",
          "text": [
            "hidden states:[[[0.35906476 0.35906476 0.35906476 0.70387346 0.70387346 0.70387346]\n",
            "  [0.5511133  0.5511133  0.5511133  0.5886358  0.5886358  0.5886358 ]\n",
            "  [0.5911575  0.5911575  0.5911575  0.39516988 0.39516988 0.39516988]\n",
            "  [0.6303139  0.6303139  0.6303139  0.2194224  0.2194224  0.2194224 ]]],shape:(1, 4, 6)\n",
            "forward state:[[0.6303139 0.6303139 0.6303139]],shape:(1, 3)\n",
            "backward state:[[0.70387346 0.70387346 0.70387346]],shape:(1, 3)\n"
          ]
        }
      ]
    },
    {
      "cell_type": "code",
      "source": [
        "#RNN을 이용하여 텍스트 생성하기\n",
        "#1. 데이터에 대한 이해와 전처리\n",
        "import numpy as np\n",
        "from tensorflow.keras.preprocessing.text import Tokenizer\n",
        "from tensorflow.keras.preprocessing.sequence import pad_sequences\n",
        "from tensorflow.keras.utils import to_categorical\n",
        "\n",
        "#예제\n",
        "text= \"\"\"경마장에 있는 말이 뛰고 있다\\n\n",
        "그의 말이 법이다\\n\n",
        "가는 말이 고와와 오는 말이 곱다\\n\"\"\"\n",
        "\n",
        "#크기확인.\n",
        "#단어 집합의 크기를 저장할 때, 케라스 토크나이저의 정수 인코딩은 인덱스가 1부터 시작하지만 패딩을 위한 0을 고려하여 +1해주기.\n",
        "tokenizer=Tokenizer()\n",
        "tokenizer.fit_on_texts([text])\n",
        "vocab_size=len(tokenizer.word_index) +1\n",
        "print('단어 집합의 크기: %d' % vocab_size)\n",
        "\n"
      ],
      "metadata": {
        "colab": {
          "base_uri": "https://localhost:8080/"
        },
        "id": "15UT6tsPXuzW",
        "outputId": "d667eb5f-b2ff-462a-e068-6a1c2aa7a38d"
      },
      "execution_count": null,
      "outputs": [
        {
          "output_type": "stream",
          "name": "stdout",
          "text": [
            "단어 집합의 크기: 12\n"
          ]
        }
      ]
    },
    {
      "cell_type": "code",
      "source": [
        "#각 단어와 단어에 부여된 정수 인덱스 출력\n",
        "print(tokenizer.word_index)"
      ],
      "metadata": {
        "colab": {
          "base_uri": "https://localhost:8080/"
        },
        "id": "9Hvp4gm7mrui",
        "outputId": "2950406c-6046-40d9-ef33-9a4cc3edc7a6"
      },
      "execution_count": null,
      "outputs": [
        {
          "output_type": "stream",
          "name": "stdout",
          "text": [
            "{'말이': 1, '경마장에': 2, '있는': 3, '뛰고': 4, '있다': 5, '그의': 6, '법이다': 7, '가는': 8, '고와와': 9, '오는': 10, '곱다': 11}\n"
          ]
        }
      ]
    },
    {
      "cell_type": "code",
      "source": [
        "#훈련 데이터 만들기\n",
        "sequences = list()\n",
        "for line in text.split('\\n'): #줄바꿈 문자를 기준으로 문장 토큰화\n",
        "    encoded = tokenizer.texts_to_sequences([line])[0]\n",
        "    for i in range(1,len(encoded)):\n",
        "        sequence = encoded[:i+1]\n",
        "        sequences.append(sequence)\n",
        "print('학습에 사용할 샘플의 개수 : %d' % len(sequences))"
      ],
      "metadata": {
        "colab": {
          "base_uri": "https://localhost:8080/"
        },
        "id": "hAdd-pwBnvb_",
        "outputId": "c0c9e940-6aae-4ae3-ee1e-ee9d3dea6cd4"
      },
      "execution_count": null,
      "outputs": [
        {
          "output_type": "stream",
          "name": "stdout",
          "text": [
            "학습에 사용할 샘플의 개수 : 11\n"
          ]
        }
      ]
    },
    {
      "cell_type": "code",
      "source": [
        "print(sequences)"
      ],
      "metadata": {
        "colab": {
          "base_uri": "https://localhost:8080/"
        },
        "id": "5KmMgoxqoreP",
        "outputId": "21931484-7eb2-4646-92d6-e812524ec6d9"
      },
      "execution_count": null,
      "outputs": [
        {
          "output_type": "stream",
          "name": "stdout",
          "text": [
            "[[2, 3], [2, 3, 1], [2, 3, 1, 4], [2, 3, 1, 4, 5], [6, 1], [6, 1, 7], [8, 1], [8, 1, 9], [8, 1, 9, 10], [8, 1, 9, 10, 1], [8, 1, 9, 10, 1, 11]]\n"
          ]
        }
      ]
    },
    {
      "cell_type": "code",
      "source": [
        "#모든 샘플의 길이 일치 시켜주기\n",
        "\n",
        "#모든 샘플에서 길이가 가장 긴 샘플의 길이 출력\n",
        "max_len=max(len(l) for l in sequences)\n",
        "print('샘플의 최대 길이 : {}'.format(max_len))"
      ],
      "metadata": {
        "colab": {
          "base_uri": "https://localhost:8080/"
        },
        "id": "Tvd_YP1grK7e",
        "outputId": "55571d5f-9117-4418-ff3b-046cd4b6b24d"
      },
      "execution_count": null,
      "outputs": [
        {
          "output_type": "stream",
          "name": "stdout",
          "text": [
            "샘플의 최대 길이 : 6\n"
          ]
        }
      ]
    },
    {
      "cell_type": "code",
      "source": [
        "#가장 긴 샘플의 길이 = 6\n",
        "#전체 샘플의 길이를 6으로 패딩\n",
        "sequences = pad_sequences(sequences, maxlen=max_len,padding='pre')"
      ],
      "metadata": {
        "id": "17ZgHUYAr8KZ"
      },
      "execution_count": null,
      "outputs": []
    },
    {
      "cell_type": "code",
      "source": [
        "print(sequences)"
      ],
      "metadata": {
        "colab": {
          "base_uri": "https://localhost:8080/"
        },
        "id": "j4942sw_sHoC",
        "outputId": "948858dc-d6ec-4da3-be5e-112aa83f1ecd"
      },
      "execution_count": null,
      "outputs": [
        {
          "output_type": "stream",
          "name": "stdout",
          "text": [
            "[[ 0  0  0  0  2  3]\n",
            " [ 0  0  0  2  3  1]\n",
            " [ 0  0  2  3  1  4]\n",
            " [ 0  2  3  1  4  5]\n",
            " [ 0  0  0  0  6  1]\n",
            " [ 0  0  0  6  1  7]\n",
            " [ 0  0  0  0  8  1]\n",
            " [ 0  0  0  8  1  9]\n",
            " [ 0  0  8  1  9 10]\n",
            " [ 0  8  1  9 10  1]\n",
            " [ 8  1  9 10  1 11]]\n"
          ]
        }
      ]
    },
    {
      "cell_type": "code",
      "source": [
        "#각 샘플의 마지막 단어를 레이블로 분리 -> by numpy\n",
        "#X : 리스트의 마지막 값을 제외하고 저장한 것\n",
        "#y : 리스트의 마지막 값만 저장한것 <- 레이블 데이터\n",
        "#결국 우리가 예측해야하는 것은 각 리스트의 마지막 단어이므로 분리과정을 실행\n",
        "\n",
        "sequences=np.array(sequences)\n",
        "X=sequences[:,:-1]\n",
        "y=sequences[:,-1]\n",
        "\n",
        "print(X)"
      ],
      "metadata": {
        "colab": {
          "base_uri": "https://localhost:8080/"
        },
        "id": "krWQVzBEsLhv",
        "outputId": "97991499-6ee2-4acd-e1ab-a7dde0533e18"
      },
      "execution_count": null,
      "outputs": [
        {
          "output_type": "stream",
          "name": "stdout",
          "text": [
            "[[ 0  0  0  0  2]\n",
            " [ 0  0  0  2  3]\n",
            " [ 0  0  2  3  1]\n",
            " [ 0  2  3  1  4]\n",
            " [ 0  0  0  0  6]\n",
            " [ 0  0  0  6  1]\n",
            " [ 0  0  0  0  8]\n",
            " [ 0  0  0  8  1]\n",
            " [ 0  0  8  1  9]\n",
            " [ 0  8  1  9 10]\n",
            " [ 8  1  9 10  1]]\n"
          ]
        }
      ]
    },
    {
      "cell_type": "code",
      "source": [
        "print(y)"
      ],
      "metadata": {
        "colab": {
          "base_uri": "https://localhost:8080/"
        },
        "id": "A8KqvAJJspXR",
        "outputId": "1d0b8af1-1b8d-483f-ef78-b97483085ef8"
      },
      "execution_count": null,
      "outputs": [
        {
          "output_type": "stream",
          "name": "stdout",
          "text": [
            "[ 3  1  4  5  1  7  1  9 10  1 11]\n"
          ]
        }
      ]
    },
    {
      "cell_type": "code",
      "source": [
        "#RNN모델에 훈련 데이터를 훈련시키기 전에 레이블에 대해 원-핫 인코딩 수행\n",
        "y=to_categorical(y,num_classes=vocab_size)"
      ],
      "metadata": {
        "id": "9vpKtPwDsq7L"
      },
      "execution_count": null,
      "outputs": []
    },
    {
      "cell_type": "code",
      "source": [
        "print(y)"
      ],
      "metadata": {
        "colab": {
          "base_uri": "https://localhost:8080/"
        },
        "id": "KUl6Si2Ks1V7",
        "outputId": "97984598-2314-4733-b75f-191b2f45a41b"
      },
      "execution_count": null,
      "outputs": [
        {
          "output_type": "stream",
          "name": "stdout",
          "text": [
            "[[0. 0. 0. 1. 0. 0. 0. 0. 0. 0. 0. 0.]\n",
            " [0. 1. 0. 0. 0. 0. 0. 0. 0. 0. 0. 0.]\n",
            " [0. 0. 0. 0. 1. 0. 0. 0. 0. 0. 0. 0.]\n",
            " [0. 0. 0. 0. 0. 1. 0. 0. 0. 0. 0. 0.]\n",
            " [0. 1. 0. 0. 0. 0. 0. 0. 0. 0. 0. 0.]\n",
            " [0. 0. 0. 0. 0. 0. 0. 1. 0. 0. 0. 0.]\n",
            " [0. 1. 0. 0. 0. 0. 0. 0. 0. 0. 0. 0.]\n",
            " [0. 0. 0. 0. 0. 0. 0. 0. 0. 1. 0. 0.]\n",
            " [0. 0. 0. 0. 0. 0. 0. 0. 0. 0. 1. 0.]\n",
            " [0. 1. 0. 0. 0. 0. 0. 0. 0. 0. 0. 0.]\n",
            " [0. 0. 0. 0. 0. 0. 0. 0. 0. 0. 0. 1.]]\n"
          ]
        }
      ]
    },
    {
      "cell_type": "code",
      "source": [
        "#모델설계하기\n",
        "#RNN 모델에 데이터를 훈련시키기\n",
        "from tensorflow.keras.models import Sequential\n",
        "from tensorflow.keras.layers import Embedding, Dense, SimpleRNN\n",
        "\n",
        "#하이퍼파라미터 설정\n",
        "#벡터의 차원 = 10, 은닉 상태의 크기 = 32\n",
        "#다대일 구조의 RNN 사용\n",
        "#전결합층을 출력으로 단어 집합 크기만큼의 뉴런을 배치하여 모델 설계\n",
        "#다중클래스 모델 -> 소프트맥스 회귀 , 손실함수 -> 크로스 엔트로피 함수 , epochs = 200\n",
        "embedding_dim =10\n",
        "hidden_units=32\n",
        "\n",
        "model=Sequential()\n",
        "\n",
        "model.add(Embedding(vocab_size, embedding_dim))\n",
        "model.add(SimpleRNN(hidden_units))\n",
        "model.add(Dense(vocab_size,activation='softmax'))\n",
        "model.compile(loss='categorical_crossentropy', optimizer = 'adam', metrics=['accuracy'])\n",
        "model.fit(X,y,epochs=200, verbose=2)\n"
      ],
      "metadata": {
        "colab": {
          "base_uri": "https://localhost:8080/"
        },
        "id": "wWXlGdNds2yJ",
        "outputId": "da427f49-6adb-4e7c-8da6-e56b1fa7e84b"
      },
      "execution_count": null,
      "outputs": [
        {
          "output_type": "stream",
          "name": "stdout",
          "text": [
            "Epoch 1/200\n",
            "1/1 - 3s - loss: 2.4840 - accuracy: 0.0000e+00 - 3s/epoch - 3s/step\n",
            "Epoch 2/200\n",
            "1/1 - 0s - loss: 2.4715 - accuracy: 0.1818 - 19ms/epoch - 19ms/step\n",
            "Epoch 3/200\n",
            "1/1 - 0s - loss: 2.4592 - accuracy: 0.1818 - 18ms/epoch - 18ms/step\n",
            "Epoch 4/200\n",
            "1/1 - 0s - loss: 2.4469 - accuracy: 0.3636 - 18ms/epoch - 18ms/step\n",
            "Epoch 5/200\n",
            "1/1 - 0s - loss: 2.4345 - accuracy: 0.4545 - 19ms/epoch - 19ms/step\n",
            "Epoch 6/200\n",
            "1/1 - 0s - loss: 2.4219 - accuracy: 0.4545 - 13ms/epoch - 13ms/step\n",
            "Epoch 7/200\n",
            "1/1 - 0s - loss: 2.4092 - accuracy: 0.5455 - 20ms/epoch - 20ms/step\n",
            "Epoch 8/200\n",
            "1/1 - 0s - loss: 2.3960 - accuracy: 0.5455 - 17ms/epoch - 17ms/step\n",
            "Epoch 9/200\n",
            "1/1 - 0s - loss: 2.3825 - accuracy: 0.6364 - 21ms/epoch - 21ms/step\n",
            "Epoch 10/200\n",
            "1/1 - 0s - loss: 2.3685 - accuracy: 0.6364 - 17ms/epoch - 17ms/step\n",
            "Epoch 11/200\n",
            "1/1 - 0s - loss: 2.3539 - accuracy: 0.5455 - 17ms/epoch - 17ms/step\n",
            "Epoch 12/200\n",
            "1/1 - 0s - loss: 2.3388 - accuracy: 0.5455 - 17ms/epoch - 17ms/step\n",
            "Epoch 13/200\n",
            "1/1 - 0s - loss: 2.3229 - accuracy: 0.5455 - 18ms/epoch - 18ms/step\n",
            "Epoch 14/200\n",
            "1/1 - 0s - loss: 2.3063 - accuracy: 0.4545 - 15ms/epoch - 15ms/step\n",
            "Epoch 15/200\n",
            "1/1 - 0s - loss: 2.2890 - accuracy: 0.4545 - 20ms/epoch - 20ms/step\n",
            "Epoch 16/200\n",
            "1/1 - 0s - loss: 2.2708 - accuracy: 0.4545 - 20ms/epoch - 20ms/step\n",
            "Epoch 17/200\n",
            "1/1 - 0s - loss: 2.2518 - accuracy: 0.4545 - 21ms/epoch - 21ms/step\n",
            "Epoch 18/200\n",
            "1/1 - 0s - loss: 2.2320 - accuracy: 0.4545 - 24ms/epoch - 24ms/step\n",
            "Epoch 19/200\n",
            "1/1 - 0s - loss: 2.2114 - accuracy: 0.4545 - 21ms/epoch - 21ms/step\n",
            "Epoch 20/200\n",
            "1/1 - 0s - loss: 2.1900 - accuracy: 0.4545 - 26ms/epoch - 26ms/step\n",
            "Epoch 21/200\n",
            "1/1 - 0s - loss: 2.1678 - accuracy: 0.3636 - 24ms/epoch - 24ms/step\n",
            "Epoch 22/200\n",
            "1/1 - 0s - loss: 2.1450 - accuracy: 0.3636 - 24ms/epoch - 24ms/step\n",
            "Epoch 23/200\n",
            "1/1 - 0s - loss: 2.1215 - accuracy: 0.3636 - 23ms/epoch - 23ms/step\n",
            "Epoch 24/200\n",
            "1/1 - 0s - loss: 2.0976 - accuracy: 0.3636 - 18ms/epoch - 18ms/step\n",
            "Epoch 25/200\n",
            "1/1 - 0s - loss: 2.0733 - accuracy: 0.3636 - 19ms/epoch - 19ms/step\n",
            "Epoch 26/200\n",
            "1/1 - 0s - loss: 2.0488 - accuracy: 0.3636 - 16ms/epoch - 16ms/step\n",
            "Epoch 27/200\n",
            "1/1 - 0s - loss: 2.0243 - accuracy: 0.3636 - 16ms/epoch - 16ms/step\n",
            "Epoch 28/200\n",
            "1/1 - 0s - loss: 2.0000 - accuracy: 0.3636 - 16ms/epoch - 16ms/step\n",
            "Epoch 29/200\n",
            "1/1 - 0s - loss: 1.9759 - accuracy: 0.3636 - 15ms/epoch - 15ms/step\n",
            "Epoch 30/200\n",
            "1/1 - 0s - loss: 1.9524 - accuracy: 0.3636 - 24ms/epoch - 24ms/step\n",
            "Epoch 31/200\n",
            "1/1 - 0s - loss: 1.9295 - accuracy: 0.3636 - 20ms/epoch - 20ms/step\n",
            "Epoch 32/200\n",
            "1/1 - 0s - loss: 1.9072 - accuracy: 0.3636 - 17ms/epoch - 17ms/step\n",
            "Epoch 33/200\n",
            "1/1 - 0s - loss: 1.8856 - accuracy: 0.3636 - 17ms/epoch - 17ms/step\n",
            "Epoch 34/200\n",
            "1/1 - 0s - loss: 1.8646 - accuracy: 0.3636 - 21ms/epoch - 21ms/step\n",
            "Epoch 35/200\n",
            "1/1 - 0s - loss: 1.8441 - accuracy: 0.3636 - 20ms/epoch - 20ms/step\n",
            "Epoch 36/200\n",
            "1/1 - 0s - loss: 1.8238 - accuracy: 0.3636 - 17ms/epoch - 17ms/step\n",
            "Epoch 37/200\n",
            "1/1 - 0s - loss: 1.8035 - accuracy: 0.3636 - 20ms/epoch - 20ms/step\n",
            "Epoch 38/200\n",
            "1/1 - 0s - loss: 1.7831 - accuracy: 0.3636 - 14ms/epoch - 14ms/step\n",
            "Epoch 39/200\n",
            "1/1 - 0s - loss: 1.7623 - accuracy: 0.3636 - 12ms/epoch - 12ms/step\n",
            "Epoch 40/200\n",
            "1/1 - 0s - loss: 1.7410 - accuracy: 0.3636 - 12ms/epoch - 12ms/step\n",
            "Epoch 41/200\n",
            "1/1 - 0s - loss: 1.7189 - accuracy: 0.3636 - 12ms/epoch - 12ms/step\n",
            "Epoch 42/200\n",
            "1/1 - 0s - loss: 1.6962 - accuracy: 0.3636 - 12ms/epoch - 12ms/step\n",
            "Epoch 43/200\n",
            "1/1 - 0s - loss: 1.6728 - accuracy: 0.4545 - 14ms/epoch - 14ms/step\n",
            "Epoch 44/200\n",
            "1/1 - 0s - loss: 1.6487 - accuracy: 0.4545 - 15ms/epoch - 15ms/step\n",
            "Epoch 45/200\n",
            "1/1 - 0s - loss: 1.6241 - accuracy: 0.4545 - 12ms/epoch - 12ms/step\n",
            "Epoch 46/200\n",
            "1/1 - 0s - loss: 1.5990 - accuracy: 0.4545 - 13ms/epoch - 13ms/step\n",
            "Epoch 47/200\n",
            "1/1 - 0s - loss: 1.5736 - accuracy: 0.4545 - 12ms/epoch - 12ms/step\n",
            "Epoch 48/200\n",
            "1/1 - 0s - loss: 1.5479 - accuracy: 0.4545 - 11ms/epoch - 11ms/step\n",
            "Epoch 49/200\n",
            "1/1 - 0s - loss: 1.5221 - accuracy: 0.5455 - 12ms/epoch - 12ms/step\n",
            "Epoch 50/200\n",
            "1/1 - 0s - loss: 1.4963 - accuracy: 0.5455 - 16ms/epoch - 16ms/step\n",
            "Epoch 51/200\n",
            "1/1 - 0s - loss: 1.4704 - accuracy: 0.5455 - 11ms/epoch - 11ms/step\n",
            "Epoch 52/200\n",
            "1/1 - 0s - loss: 1.4447 - accuracy: 0.5455 - 14ms/epoch - 14ms/step\n",
            "Epoch 53/200\n",
            "1/1 - 0s - loss: 1.4190 - accuracy: 0.5455 - 16ms/epoch - 16ms/step\n",
            "Epoch 54/200\n",
            "1/1 - 0s - loss: 1.3936 - accuracy: 0.6364 - 16ms/epoch - 16ms/step\n",
            "Epoch 55/200\n",
            "1/1 - 0s - loss: 1.3684 - accuracy: 0.6364 - 16ms/epoch - 16ms/step\n",
            "Epoch 56/200\n",
            "1/1 - 0s - loss: 1.3435 - accuracy: 0.6364 - 14ms/epoch - 14ms/step\n",
            "Epoch 57/200\n",
            "1/1 - 0s - loss: 1.3190 - accuracy: 0.6364 - 12ms/epoch - 12ms/step\n",
            "Epoch 58/200\n",
            "1/1 - 0s - loss: 1.2948 - accuracy: 0.6364 - 20ms/epoch - 20ms/step\n",
            "Epoch 59/200\n",
            "1/1 - 0s - loss: 1.2711 - accuracy: 0.7273 - 11ms/epoch - 11ms/step\n",
            "Epoch 60/200\n",
            "1/1 - 0s - loss: 1.2479 - accuracy: 0.7273 - 11ms/epoch - 11ms/step\n",
            "Epoch 61/200\n",
            "1/1 - 0s - loss: 1.2251 - accuracy: 0.7273 - 13ms/epoch - 13ms/step\n",
            "Epoch 62/200\n",
            "1/1 - 0s - loss: 1.2029 - accuracy: 0.7273 - 12ms/epoch - 12ms/step\n",
            "Epoch 63/200\n",
            "1/1 - 0s - loss: 1.1812 - accuracy: 0.6364 - 15ms/epoch - 15ms/step\n",
            "Epoch 64/200\n",
            "1/1 - 0s - loss: 1.1602 - accuracy: 0.6364 - 12ms/epoch - 12ms/step\n",
            "Epoch 65/200\n",
            "1/1 - 0s - loss: 1.1396 - accuracy: 0.6364 - 12ms/epoch - 12ms/step\n",
            "Epoch 66/200\n",
            "1/1 - 0s - loss: 1.1197 - accuracy: 0.6364 - 15ms/epoch - 15ms/step\n",
            "Epoch 67/200\n",
            "1/1 - 0s - loss: 1.1003 - accuracy: 0.6364 - 13ms/epoch - 13ms/step\n",
            "Epoch 68/200\n",
            "1/1 - 0s - loss: 1.0814 - accuracy: 0.6364 - 12ms/epoch - 12ms/step\n",
            "Epoch 69/200\n",
            "1/1 - 0s - loss: 1.0631 - accuracy: 0.6364 - 12ms/epoch - 12ms/step\n",
            "Epoch 70/200\n",
            "1/1 - 0s - loss: 1.0453 - accuracy: 0.6364 - 15ms/epoch - 15ms/step\n",
            "Epoch 71/200\n",
            "1/1 - 0s - loss: 1.0280 - accuracy: 0.6364 - 12ms/epoch - 12ms/step\n",
            "Epoch 72/200\n",
            "1/1 - 0s - loss: 1.0111 - accuracy: 0.7273 - 16ms/epoch - 16ms/step\n",
            "Epoch 73/200\n",
            "1/1 - 0s - loss: 0.9948 - accuracy: 0.7273 - 17ms/epoch - 17ms/step\n",
            "Epoch 74/200\n",
            "1/1 - 0s - loss: 0.9788 - accuracy: 0.7273 - 15ms/epoch - 15ms/step\n",
            "Epoch 75/200\n",
            "1/1 - 0s - loss: 0.9632 - accuracy: 0.7273 - 14ms/epoch - 14ms/step\n",
            "Epoch 76/200\n",
            "1/1 - 0s - loss: 0.9480 - accuracy: 0.7273 - 16ms/epoch - 16ms/step\n",
            "Epoch 77/200\n",
            "1/1 - 0s - loss: 0.9332 - accuracy: 0.7273 - 17ms/epoch - 17ms/step\n",
            "Epoch 78/200\n",
            "1/1 - 0s - loss: 0.9187 - accuracy: 0.7273 - 14ms/epoch - 14ms/step\n",
            "Epoch 79/200\n",
            "1/1 - 0s - loss: 0.9044 - accuracy: 0.7273 - 12ms/epoch - 12ms/step\n",
            "Epoch 80/200\n",
            "1/1 - 0s - loss: 0.8904 - accuracy: 0.7273 - 11ms/epoch - 11ms/step\n",
            "Epoch 81/200\n",
            "1/1 - 0s - loss: 0.8767 - accuracy: 0.7273 - 16ms/epoch - 16ms/step\n",
            "Epoch 82/200\n",
            "1/1 - 0s - loss: 0.8633 - accuracy: 0.7273 - 11ms/epoch - 11ms/step\n",
            "Epoch 83/200\n",
            "1/1 - 0s - loss: 0.8501 - accuracy: 0.7273 - 15ms/epoch - 15ms/step\n",
            "Epoch 84/200\n",
            "1/1 - 0s - loss: 0.8371 - accuracy: 0.7273 - 15ms/epoch - 15ms/step\n",
            "Epoch 85/200\n",
            "1/1 - 0s - loss: 0.8243 - accuracy: 0.7273 - 20ms/epoch - 20ms/step\n",
            "Epoch 86/200\n",
            "1/1 - 0s - loss: 0.8118 - accuracy: 0.8182 - 13ms/epoch - 13ms/step\n",
            "Epoch 87/200\n",
            "1/1 - 0s - loss: 0.7994 - accuracy: 0.8182 - 13ms/epoch - 13ms/step\n",
            "Epoch 88/200\n",
            "1/1 - 0s - loss: 0.7872 - accuracy: 0.8182 - 14ms/epoch - 14ms/step\n",
            "Epoch 89/200\n",
            "1/1 - 0s - loss: 0.7752 - accuracy: 0.8182 - 12ms/epoch - 12ms/step\n",
            "Epoch 90/200\n",
            "1/1 - 0s - loss: 0.7634 - accuracy: 0.8182 - 15ms/epoch - 15ms/step\n",
            "Epoch 91/200\n",
            "1/1 - 0s - loss: 0.7517 - accuracy: 0.8182 - 15ms/epoch - 15ms/step\n",
            "Epoch 92/200\n",
            "1/1 - 0s - loss: 0.7402 - accuracy: 0.8182 - 11ms/epoch - 11ms/step\n",
            "Epoch 93/200\n",
            "1/1 - 0s - loss: 0.7288 - accuracy: 0.8182 - 15ms/epoch - 15ms/step\n",
            "Epoch 94/200\n",
            "1/1 - 0s - loss: 0.7176 - accuracy: 0.8182 - 16ms/epoch - 16ms/step\n",
            "Epoch 95/200\n",
            "1/1 - 0s - loss: 0.7065 - accuracy: 0.8182 - 14ms/epoch - 14ms/step\n",
            "Epoch 96/200\n",
            "1/1 - 0s - loss: 0.6956 - accuracy: 0.8182 - 17ms/epoch - 17ms/step\n",
            "Epoch 97/200\n",
            "1/1 - 0s - loss: 0.6848 - accuracy: 0.8182 - 15ms/epoch - 15ms/step\n",
            "Epoch 98/200\n",
            "1/1 - 0s - loss: 0.6741 - accuracy: 0.8182 - 12ms/epoch - 12ms/step\n",
            "Epoch 99/200\n",
            "1/1 - 0s - loss: 0.6635 - accuracy: 0.8182 - 15ms/epoch - 15ms/step\n",
            "Epoch 100/200\n",
            "1/1 - 0s - loss: 0.6531 - accuracy: 0.8182 - 14ms/epoch - 14ms/step\n",
            "Epoch 101/200\n",
            "1/1 - 0s - loss: 0.6428 - accuracy: 0.8182 - 13ms/epoch - 13ms/step\n",
            "Epoch 102/200\n",
            "1/1 - 0s - loss: 0.6326 - accuracy: 0.8182 - 12ms/epoch - 12ms/step\n",
            "Epoch 103/200\n",
            "1/1 - 0s - loss: 0.6226 - accuracy: 0.9091 - 12ms/epoch - 12ms/step\n",
            "Epoch 104/200\n",
            "1/1 - 0s - loss: 0.6126 - accuracy: 0.9091 - 13ms/epoch - 13ms/step\n",
            "Epoch 105/200\n",
            "1/1 - 0s - loss: 0.6028 - accuracy: 0.9091 - 15ms/epoch - 15ms/step\n",
            "Epoch 106/200\n",
            "1/1 - 0s - loss: 0.5932 - accuracy: 0.9091 - 13ms/epoch - 13ms/step\n",
            "Epoch 107/200\n",
            "1/1 - 0s - loss: 0.5836 - accuracy: 0.9091 - 15ms/epoch - 15ms/step\n",
            "Epoch 108/200\n",
            "1/1 - 0s - loss: 0.5742 - accuracy: 0.9091 - 16ms/epoch - 16ms/step\n",
            "Epoch 109/200\n",
            "1/1 - 0s - loss: 0.5649 - accuracy: 0.9091 - 15ms/epoch - 15ms/step\n",
            "Epoch 110/200\n",
            "1/1 - 0s - loss: 0.5558 - accuracy: 0.9091 - 16ms/epoch - 16ms/step\n",
            "Epoch 111/200\n",
            "1/1 - 0s - loss: 0.5468 - accuracy: 0.9091 - 13ms/epoch - 13ms/step\n",
            "Epoch 112/200\n",
            "1/1 - 0s - loss: 0.5379 - accuracy: 0.9091 - 12ms/epoch - 12ms/step\n",
            "Epoch 113/200\n",
            "1/1 - 0s - loss: 0.5292 - accuracy: 0.9091 - 27ms/epoch - 27ms/step\n",
            "Epoch 114/200\n",
            "1/1 - 0s - loss: 0.5207 - accuracy: 0.9091 - 13ms/epoch - 13ms/step\n",
            "Epoch 115/200\n",
            "1/1 - 0s - loss: 0.5123 - accuracy: 0.9091 - 12ms/epoch - 12ms/step\n",
            "Epoch 116/200\n",
            "1/1 - 0s - loss: 0.5040 - accuracy: 0.9091 - 14ms/epoch - 14ms/step\n",
            "Epoch 117/200\n",
            "1/1 - 0s - loss: 0.4959 - accuracy: 0.9091 - 16ms/epoch - 16ms/step\n",
            "Epoch 118/200\n",
            "1/1 - 0s - loss: 0.4880 - accuracy: 0.9091 - 12ms/epoch - 12ms/step\n",
            "Epoch 119/200\n",
            "1/1 - 0s - loss: 0.4802 - accuracy: 0.9091 - 12ms/epoch - 12ms/step\n",
            "Epoch 120/200\n",
            "1/1 - 0s - loss: 0.4726 - accuracy: 0.9091 - 11ms/epoch - 11ms/step\n",
            "Epoch 121/200\n",
            "1/1 - 0s - loss: 0.4651 - accuracy: 0.9091 - 15ms/epoch - 15ms/step\n",
            "Epoch 122/200\n",
            "1/1 - 0s - loss: 0.4578 - accuracy: 0.9091 - 15ms/epoch - 15ms/step\n",
            "Epoch 123/200\n",
            "1/1 - 0s - loss: 0.4506 - accuracy: 0.9091 - 12ms/epoch - 12ms/step\n",
            "Epoch 124/200\n",
            "1/1 - 0s - loss: 0.4436 - accuracy: 0.9091 - 13ms/epoch - 13ms/step\n",
            "Epoch 125/200\n",
            "1/1 - 0s - loss: 0.4367 - accuracy: 0.9091 - 13ms/epoch - 13ms/step\n",
            "Epoch 126/200\n",
            "1/1 - 0s - loss: 0.4301 - accuracy: 0.9091 - 13ms/epoch - 13ms/step\n",
            "Epoch 127/200\n",
            "1/1 - 0s - loss: 0.4235 - accuracy: 0.9091 - 19ms/epoch - 19ms/step\n",
            "Epoch 128/200\n",
            "1/1 - 0s - loss: 0.4171 - accuracy: 0.9091 - 16ms/epoch - 16ms/step\n",
            "Epoch 129/200\n",
            "1/1 - 0s - loss: 0.4108 - accuracy: 0.9091 - 16ms/epoch - 16ms/step\n",
            "Epoch 130/200\n",
            "1/1 - 0s - loss: 0.4047 - accuracy: 0.9091 - 14ms/epoch - 14ms/step\n",
            "Epoch 131/200\n",
            "1/1 - 0s - loss: 0.3988 - accuracy: 0.9091 - 11ms/epoch - 11ms/step\n",
            "Epoch 132/200\n",
            "1/1 - 0s - loss: 0.3929 - accuracy: 0.9091 - 16ms/epoch - 16ms/step\n",
            "Epoch 133/200\n",
            "1/1 - 0s - loss: 0.3872 - accuracy: 0.9091 - 14ms/epoch - 14ms/step\n",
            "Epoch 134/200\n",
            "1/1 - 0s - loss: 0.3816 - accuracy: 0.9091 - 22ms/epoch - 22ms/step\n",
            "Epoch 135/200\n",
            "1/1 - 0s - loss: 0.3762 - accuracy: 0.9091 - 11ms/epoch - 11ms/step\n",
            "Epoch 136/200\n",
            "1/1 - 0s - loss: 0.3709 - accuracy: 0.9091 - 14ms/epoch - 14ms/step\n",
            "Epoch 137/200\n",
            "1/1 - 0s - loss: 0.3657 - accuracy: 0.9091 - 11ms/epoch - 11ms/step\n",
            "Epoch 138/200\n",
            "1/1 - 0s - loss: 0.3606 - accuracy: 0.9091 - 17ms/epoch - 17ms/step\n",
            "Epoch 139/200\n",
            "1/1 - 0s - loss: 0.3556 - accuracy: 0.9091 - 14ms/epoch - 14ms/step\n",
            "Epoch 140/200\n",
            "1/1 - 0s - loss: 0.3507 - accuracy: 0.9091 - 14ms/epoch - 14ms/step\n",
            "Epoch 141/200\n",
            "1/1 - 0s - loss: 0.3459 - accuracy: 0.9091 - 16ms/epoch - 16ms/step\n",
            "Epoch 142/200\n",
            "1/1 - 0s - loss: 0.3413 - accuracy: 0.9091 - 14ms/epoch - 14ms/step\n",
            "Epoch 143/200\n",
            "1/1 - 0s - loss: 0.3367 - accuracy: 0.9091 - 14ms/epoch - 14ms/step\n",
            "Epoch 144/200\n",
            "1/1 - 0s - loss: 0.3322 - accuracy: 0.9091 - 12ms/epoch - 12ms/step\n",
            "Epoch 145/200\n",
            "1/1 - 0s - loss: 0.3278 - accuracy: 1.0000 - 12ms/epoch - 12ms/step\n",
            "Epoch 146/200\n",
            "1/1 - 0s - loss: 0.3235 - accuracy: 1.0000 - 12ms/epoch - 12ms/step\n",
            "Epoch 147/200\n",
            "1/1 - 0s - loss: 0.3193 - accuracy: 1.0000 - 12ms/epoch - 12ms/step\n",
            "Epoch 148/200\n",
            "1/1 - 0s - loss: 0.3151 - accuracy: 1.0000 - 13ms/epoch - 13ms/step\n",
            "Epoch 149/200\n",
            "1/1 - 0s - loss: 0.3110 - accuracy: 1.0000 - 12ms/epoch - 12ms/step\n",
            "Epoch 150/200\n",
            "1/1 - 0s - loss: 0.3070 - accuracy: 1.0000 - 11ms/epoch - 11ms/step\n",
            "Epoch 151/200\n",
            "1/1 - 0s - loss: 0.3031 - accuracy: 1.0000 - 12ms/epoch - 12ms/step\n",
            "Epoch 152/200\n",
            "1/1 - 0s - loss: 0.2992 - accuracy: 1.0000 - 12ms/epoch - 12ms/step\n",
            "Epoch 153/200\n",
            "1/1 - 0s - loss: 0.2954 - accuracy: 1.0000 - 13ms/epoch - 13ms/step\n",
            "Epoch 154/200\n",
            "1/1 - 0s - loss: 0.2916 - accuracy: 1.0000 - 12ms/epoch - 12ms/step\n",
            "Epoch 155/200\n",
            "1/1 - 0s - loss: 0.2879 - accuracy: 1.0000 - 13ms/epoch - 13ms/step\n",
            "Epoch 156/200\n",
            "1/1 - 0s - loss: 0.2843 - accuracy: 1.0000 - 12ms/epoch - 12ms/step\n",
            "Epoch 157/200\n",
            "1/1 - 0s - loss: 0.2807 - accuracy: 1.0000 - 11ms/epoch - 11ms/step\n",
            "Epoch 158/200\n",
            "1/1 - 0s - loss: 0.2771 - accuracy: 1.0000 - 11ms/epoch - 11ms/step\n",
            "Epoch 159/200\n",
            "1/1 - 0s - loss: 0.2737 - accuracy: 1.0000 - 14ms/epoch - 14ms/step\n",
            "Epoch 160/200\n",
            "1/1 - 0s - loss: 0.2702 - accuracy: 1.0000 - 16ms/epoch - 16ms/step\n",
            "Epoch 161/200\n",
            "1/1 - 0s - loss: 0.2668 - accuracy: 1.0000 - 17ms/epoch - 17ms/step\n",
            "Epoch 162/200\n",
            "1/1 - 0s - loss: 0.2634 - accuracy: 1.0000 - 13ms/epoch - 13ms/step\n",
            "Epoch 163/200\n",
            "1/1 - 0s - loss: 0.2601 - accuracy: 1.0000 - 15ms/epoch - 15ms/step\n",
            "Epoch 164/200\n",
            "1/1 - 0s - loss: 0.2569 - accuracy: 1.0000 - 12ms/epoch - 12ms/step\n",
            "Epoch 165/200\n",
            "1/1 - 0s - loss: 0.2536 - accuracy: 1.0000 - 12ms/epoch - 12ms/step\n",
            "Epoch 166/200\n",
            "1/1 - 0s - loss: 0.2504 - accuracy: 1.0000 - 16ms/epoch - 16ms/step\n",
            "Epoch 167/200\n",
            "1/1 - 0s - loss: 0.2473 - accuracy: 1.0000 - 11ms/epoch - 11ms/step\n",
            "Epoch 168/200\n",
            "1/1 - 0s - loss: 0.2441 - accuracy: 1.0000 - 14ms/epoch - 14ms/step\n",
            "Epoch 169/200\n",
            "1/1 - 0s - loss: 0.2410 - accuracy: 1.0000 - 11ms/epoch - 11ms/step\n",
            "Epoch 170/200\n",
            "1/1 - 0s - loss: 0.2380 - accuracy: 1.0000 - 13ms/epoch - 13ms/step\n",
            "Epoch 171/200\n",
            "1/1 - 0s - loss: 0.2349 - accuracy: 1.0000 - 14ms/epoch - 14ms/step\n",
            "Epoch 172/200\n",
            "1/1 - 0s - loss: 0.2319 - accuracy: 1.0000 - 14ms/epoch - 14ms/step\n",
            "Epoch 173/200\n",
            "1/1 - 0s - loss: 0.2289 - accuracy: 1.0000 - 14ms/epoch - 14ms/step\n",
            "Epoch 174/200\n",
            "1/1 - 0s - loss: 0.2260 - accuracy: 1.0000 - 12ms/epoch - 12ms/step\n",
            "Epoch 175/200\n",
            "1/1 - 0s - loss: 0.2231 - accuracy: 1.0000 - 13ms/epoch - 13ms/step\n",
            "Epoch 176/200\n",
            "1/1 - 0s - loss: 0.2202 - accuracy: 1.0000 - 13ms/epoch - 13ms/step\n",
            "Epoch 177/200\n",
            "1/1 - 0s - loss: 0.2173 - accuracy: 1.0000 - 17ms/epoch - 17ms/step\n",
            "Epoch 178/200\n",
            "1/1 - 0s - loss: 0.2145 - accuracy: 1.0000 - 12ms/epoch - 12ms/step\n",
            "Epoch 179/200\n",
            "1/1 - 0s - loss: 0.2117 - accuracy: 1.0000 - 12ms/epoch - 12ms/step\n",
            "Epoch 180/200\n",
            "1/1 - 0s - loss: 0.2089 - accuracy: 1.0000 - 12ms/epoch - 12ms/step\n",
            "Epoch 181/200\n",
            "1/1 - 0s - loss: 0.2061 - accuracy: 1.0000 - 12ms/epoch - 12ms/step\n",
            "Epoch 182/200\n",
            "1/1 - 0s - loss: 0.2034 - accuracy: 1.0000 - 17ms/epoch - 17ms/step\n",
            "Epoch 183/200\n",
            "1/1 - 0s - loss: 0.2007 - accuracy: 1.0000 - 17ms/epoch - 17ms/step\n",
            "Epoch 184/200\n",
            "1/1 - 0s - loss: 0.1980 - accuracy: 1.0000 - 15ms/epoch - 15ms/step\n",
            "Epoch 185/200\n",
            "1/1 - 0s - loss: 0.1953 - accuracy: 1.0000 - 12ms/epoch - 12ms/step\n",
            "Epoch 186/200\n",
            "1/1 - 0s - loss: 0.1927 - accuracy: 1.0000 - 13ms/epoch - 13ms/step\n",
            "Epoch 187/200\n",
            "1/1 - 0s - loss: 0.1901 - accuracy: 1.0000 - 11ms/epoch - 11ms/step\n",
            "Epoch 188/200\n",
            "1/1 - 0s - loss: 0.1875 - accuracy: 1.0000 - 19ms/epoch - 19ms/step\n",
            "Epoch 189/200\n",
            "1/1 - 0s - loss: 0.1849 - accuracy: 1.0000 - 15ms/epoch - 15ms/step\n",
            "Epoch 190/200\n",
            "1/1 - 0s - loss: 0.1823 - accuracy: 1.0000 - 12ms/epoch - 12ms/step\n",
            "Epoch 191/200\n",
            "1/1 - 0s - loss: 0.1798 - accuracy: 1.0000 - 13ms/epoch - 13ms/step\n",
            "Epoch 192/200\n",
            "1/1 - 0s - loss: 0.1773 - accuracy: 1.0000 - 12ms/epoch - 12ms/step\n",
            "Epoch 193/200\n",
            "1/1 - 0s - loss: 0.1749 - accuracy: 1.0000 - 14ms/epoch - 14ms/step\n",
            "Epoch 194/200\n",
            "1/1 - 0s - loss: 0.1724 - accuracy: 1.0000 - 15ms/epoch - 15ms/step\n",
            "Epoch 195/200\n",
            "1/1 - 0s - loss: 0.1700 - accuracy: 1.0000 - 17ms/epoch - 17ms/step\n",
            "Epoch 196/200\n",
            "1/1 - 0s - loss: 0.1676 - accuracy: 1.0000 - 11ms/epoch - 11ms/step\n",
            "Epoch 197/200\n",
            "1/1 - 0s - loss: 0.1652 - accuracy: 1.0000 - 11ms/epoch - 11ms/step\n",
            "Epoch 198/200\n",
            "1/1 - 0s - loss: 0.1629 - accuracy: 1.0000 - 11ms/epoch - 11ms/step\n",
            "Epoch 199/200\n",
            "1/1 - 0s - loss: 0.1606 - accuracy: 1.0000 - 13ms/epoch - 13ms/step\n",
            "Epoch 200/200\n",
            "1/1 - 0s - loss: 0.1583 - accuracy: 1.0000 - 12ms/epoch - 12ms/step\n"
          ]
        },
        {
          "output_type": "execute_result",
          "data": {
            "text/plain": [
              "<keras.src.callbacks.History at 0x7f68086e6380>"
            ]
          },
          "metadata": {},
          "execution_count": 33
        }
      ]
    },
    {
      "cell_type": "code",
      "source": [
        "#모델이 정확하게 예측하고 있는지 문장을 생성하는 함수를 만들어서 출력해보기\n",
        "def sentence_generation(model, tokenizer, current_word,n): #모델, 토크나이저, 현재 단어, 반복할 횟수\n",
        "    init_word = current_word\n",
        "    sentence = ''\n",
        "\n",
        "    #n번 반복\n",
        "    for _ in range(n):\n",
        "        #현재 단어에 대한 정수 인코딩과 패딩\n",
        "        encoded=tokenizer.texts_to_sequences([current_word])[0]\n",
        "        encoded=pad_sequences([encoded],maxlen=5,padding='pre')\n",
        "\n",
        "        #입력한 X(현재 단어)에 대해서 Y를 예측하고 Y(예측한 단어)를 result에 저장\n",
        "        result=model.predict(encoded, verbose=0)\n",
        "        result=np.argmax(result,axis=1)\n",
        "\n",
        "        for word, index in tokenizer.word_index.items():\n",
        "            #만약 예측한 단어와 인덱스와 동일한 단어가 있다면 break\n",
        "            if index == result:\n",
        "              break\n",
        "\n",
        "        #현재 단어 + '  ' + 예측 단어를 현재 단어로 변경\n",
        "        current_word=current_word+' '+word\n",
        "\n",
        "        #예측 단어를 문장에 저장\n",
        "        sentence = sentence + ' ' + word\n",
        "\n",
        "    sentence = init_word + sentence\n",
        "    return sentence\n"
      ],
      "metadata": {
        "id": "3ize9Utjt1pa"
      },
      "execution_count": null,
      "outputs": []
    },
    {
      "cell_type": "code",
      "source": [
        "#'경마장에'라는 단어 뒤에는 총 4개의 단어가 있으므로 4번 예측해보자\n",
        "print(sentence_generation(model,tokenizer,'경마장에',4))"
      ],
      "metadata": {
        "colab": {
          "base_uri": "https://localhost:8080/"
        },
        "id": "cLQEuTwHvANa",
        "outputId": "277310a9-9f99-44de-c06b-869188ba3fa5"
      },
      "execution_count": null,
      "outputs": [
        {
          "output_type": "stream",
          "name": "stdout",
          "text": [
            "경마장에 있는 말이 뛰고 있다\n"
          ]
        }
      ]
    },
    {
      "cell_type": "code",
      "source": [
        "print(sentence_generation(model,tokenizer,'그의',2))"
      ],
      "metadata": {
        "colab": {
          "base_uri": "https://localhost:8080/"
        },
        "id": "MbxdZrIlvJ5l",
        "outputId": "f8560239-c24e-44d9-f4a6-8d9fd316ac40"
      },
      "execution_count": null,
      "outputs": [
        {
          "output_type": "stream",
          "name": "stdout",
          "text": [
            "그의 말이 법이다\n"
          ]
        }
      ]
    },
    {
      "cell_type": "code",
      "source": [
        "print(sentence_generation(model,tokenizer,'가는',5))"
      ],
      "metadata": {
        "colab": {
          "base_uri": "https://localhost:8080/"
        },
        "id": "nf8Jp6ltv7_j",
        "outputId": "ced18cf2-42f0-4a90-a48a-b02ccf3d0f16"
      },
      "execution_count": null,
      "outputs": [
        {
          "output_type": "stream",
          "name": "stdout",
          "text": [
            "가는 말이 고와와 오는 말이 곱다\n"
          ]
        }
      ]
    },
    {
      "cell_type": "code",
      "source": [
        "##LSTM을 이용하여 텍스트 생성하기\n",
        "#데이터에 대한 이해와 전처리\n",
        "import pandas as pd\n",
        "import numpy as np\n",
        "from string import punctuation\n",
        "\n",
        "from tensorflow.keras.preprocessing.text import Tokenizer\n",
        "from tensorflow.keras.preprocessing.sequence import pad_sequences\n",
        "from tensorflow.keras.utils import to_categorical"
      ],
      "metadata": {
        "id": "s0NT-qKRwCVf"
      },
      "execution_count": null,
      "outputs": []
    },
    {
      "cell_type": "code",
      "source": [
        "#다운로드한 훈련 데이터를 데이터 프레임에 저장\n",
        "df = pd.read_csv('ArticlesApril2018.csv')\n",
        "df.head()"
      ],
      "metadata": {
        "colab": {
          "base_uri": "https://localhost:8080/",
          "height": 382
        },
        "id": "p3Lte_lV7icD",
        "outputId": "338e8bd0-242b-4d69-bd4d-7d3f1bb24bbd"
      },
      "execution_count": null,
      "outputs": [
        {
          "output_type": "error",
          "ename": "FileNotFoundError",
          "evalue": "ignored",
          "traceback": [
            "\u001b[0;31m---------------------------------------------------------------------------\u001b[0m",
            "\u001b[0;31mFileNotFoundError\u001b[0m                         Traceback (most recent call last)",
            "\u001b[0;32m<ipython-input-39-e41cb1740ff4>\u001b[0m in \u001b[0;36m<cell line: 2>\u001b[0;34m()\u001b[0m\n\u001b[1;32m      1\u001b[0m \u001b[0;31m#다운로드한 훈련 데이터를 데이터 프레임에 저장\u001b[0m\u001b[0;34m\u001b[0m\u001b[0;34m\u001b[0m\u001b[0m\n\u001b[0;32m----> 2\u001b[0;31m \u001b[0mdf\u001b[0m \u001b[0;34m=\u001b[0m \u001b[0mpd\u001b[0m\u001b[0;34m.\u001b[0m\u001b[0mread_csv\u001b[0m\u001b[0;34m(\u001b[0m\u001b[0;34m'ArticlesApril2018.csv'\u001b[0m\u001b[0;34m)\u001b[0m\u001b[0;34m\u001b[0m\u001b[0;34m\u001b[0m\u001b[0m\n\u001b[0m\u001b[1;32m      3\u001b[0m \u001b[0mdf\u001b[0m\u001b[0;34m.\u001b[0m\u001b[0mhead\u001b[0m\u001b[0;34m(\u001b[0m\u001b[0;34m)\u001b[0m\u001b[0;34m\u001b[0m\u001b[0;34m\u001b[0m\u001b[0m\n",
            "\u001b[0;32m/usr/local/lib/python3.10/dist-packages/pandas/util/_decorators.py\u001b[0m in \u001b[0;36mwrapper\u001b[0;34m(*args, **kwargs)\u001b[0m\n\u001b[1;32m    209\u001b[0m                 \u001b[0;32melse\u001b[0m\u001b[0;34m:\u001b[0m\u001b[0;34m\u001b[0m\u001b[0;34m\u001b[0m\u001b[0m\n\u001b[1;32m    210\u001b[0m                     \u001b[0mkwargs\u001b[0m\u001b[0;34m[\u001b[0m\u001b[0mnew_arg_name\u001b[0m\u001b[0;34m]\u001b[0m \u001b[0;34m=\u001b[0m \u001b[0mnew_arg_value\u001b[0m\u001b[0;34m\u001b[0m\u001b[0;34m\u001b[0m\u001b[0m\n\u001b[0;32m--> 211\u001b[0;31m             \u001b[0;32mreturn\u001b[0m \u001b[0mfunc\u001b[0m\u001b[0;34m(\u001b[0m\u001b[0;34m*\u001b[0m\u001b[0margs\u001b[0m\u001b[0;34m,\u001b[0m \u001b[0;34m**\u001b[0m\u001b[0mkwargs\u001b[0m\u001b[0;34m)\u001b[0m\u001b[0;34m\u001b[0m\u001b[0;34m\u001b[0m\u001b[0m\n\u001b[0m\u001b[1;32m    212\u001b[0m \u001b[0;34m\u001b[0m\u001b[0m\n\u001b[1;32m    213\u001b[0m         \u001b[0;32mreturn\u001b[0m \u001b[0mcast\u001b[0m\u001b[0;34m(\u001b[0m\u001b[0mF\u001b[0m\u001b[0;34m,\u001b[0m \u001b[0mwrapper\u001b[0m\u001b[0;34m)\u001b[0m\u001b[0;34m\u001b[0m\u001b[0;34m\u001b[0m\u001b[0m\n",
            "\u001b[0;32m/usr/local/lib/python3.10/dist-packages/pandas/util/_decorators.py\u001b[0m in \u001b[0;36mwrapper\u001b[0;34m(*args, **kwargs)\u001b[0m\n\u001b[1;32m    329\u001b[0m                     \u001b[0mstacklevel\u001b[0m\u001b[0;34m=\u001b[0m\u001b[0mfind_stack_level\u001b[0m\u001b[0;34m(\u001b[0m\u001b[0;34m)\u001b[0m\u001b[0;34m,\u001b[0m\u001b[0;34m\u001b[0m\u001b[0;34m\u001b[0m\u001b[0m\n\u001b[1;32m    330\u001b[0m                 )\n\u001b[0;32m--> 331\u001b[0;31m             \u001b[0;32mreturn\u001b[0m \u001b[0mfunc\u001b[0m\u001b[0;34m(\u001b[0m\u001b[0;34m*\u001b[0m\u001b[0margs\u001b[0m\u001b[0;34m,\u001b[0m \u001b[0;34m**\u001b[0m\u001b[0mkwargs\u001b[0m\u001b[0;34m)\u001b[0m\u001b[0;34m\u001b[0m\u001b[0;34m\u001b[0m\u001b[0m\n\u001b[0m\u001b[1;32m    332\u001b[0m \u001b[0;34m\u001b[0m\u001b[0m\n\u001b[1;32m    333\u001b[0m         \u001b[0;31m# error: \"Callable[[VarArg(Any), KwArg(Any)], Any]\" has no\u001b[0m\u001b[0;34m\u001b[0m\u001b[0;34m\u001b[0m\u001b[0m\n",
            "\u001b[0;32m/usr/local/lib/python3.10/dist-packages/pandas/io/parsers/readers.py\u001b[0m in \u001b[0;36mread_csv\u001b[0;34m(filepath_or_buffer, sep, delimiter, header, names, index_col, usecols, squeeze, prefix, mangle_dupe_cols, dtype, engine, converters, true_values, false_values, skipinitialspace, skiprows, skipfooter, nrows, na_values, keep_default_na, na_filter, verbose, skip_blank_lines, parse_dates, infer_datetime_format, keep_date_col, date_parser, dayfirst, cache_dates, iterator, chunksize, compression, thousands, decimal, lineterminator, quotechar, quoting, doublequote, escapechar, comment, encoding, encoding_errors, dialect, error_bad_lines, warn_bad_lines, on_bad_lines, delim_whitespace, low_memory, memory_map, float_precision, storage_options)\u001b[0m\n\u001b[1;32m    948\u001b[0m     \u001b[0mkwds\u001b[0m\u001b[0;34m.\u001b[0m\u001b[0mupdate\u001b[0m\u001b[0;34m(\u001b[0m\u001b[0mkwds_defaults\u001b[0m\u001b[0;34m)\u001b[0m\u001b[0;34m\u001b[0m\u001b[0;34m\u001b[0m\u001b[0m\n\u001b[1;32m    949\u001b[0m \u001b[0;34m\u001b[0m\u001b[0m\n\u001b[0;32m--> 950\u001b[0;31m     \u001b[0;32mreturn\u001b[0m \u001b[0m_read\u001b[0m\u001b[0;34m(\u001b[0m\u001b[0mfilepath_or_buffer\u001b[0m\u001b[0;34m,\u001b[0m \u001b[0mkwds\u001b[0m\u001b[0;34m)\u001b[0m\u001b[0;34m\u001b[0m\u001b[0;34m\u001b[0m\u001b[0m\n\u001b[0m\u001b[1;32m    951\u001b[0m \u001b[0;34m\u001b[0m\u001b[0m\n\u001b[1;32m    952\u001b[0m \u001b[0;34m\u001b[0m\u001b[0m\n",
            "\u001b[0;32m/usr/local/lib/python3.10/dist-packages/pandas/io/parsers/readers.py\u001b[0m in \u001b[0;36m_read\u001b[0;34m(filepath_or_buffer, kwds)\u001b[0m\n\u001b[1;32m    603\u001b[0m \u001b[0;34m\u001b[0m\u001b[0m\n\u001b[1;32m    604\u001b[0m     \u001b[0;31m# Create the parser.\u001b[0m\u001b[0;34m\u001b[0m\u001b[0;34m\u001b[0m\u001b[0m\n\u001b[0;32m--> 605\u001b[0;31m     \u001b[0mparser\u001b[0m \u001b[0;34m=\u001b[0m \u001b[0mTextFileReader\u001b[0m\u001b[0;34m(\u001b[0m\u001b[0mfilepath_or_buffer\u001b[0m\u001b[0;34m,\u001b[0m \u001b[0;34m**\u001b[0m\u001b[0mkwds\u001b[0m\u001b[0;34m)\u001b[0m\u001b[0;34m\u001b[0m\u001b[0;34m\u001b[0m\u001b[0m\n\u001b[0m\u001b[1;32m    606\u001b[0m \u001b[0;34m\u001b[0m\u001b[0m\n\u001b[1;32m    607\u001b[0m     \u001b[0;32mif\u001b[0m \u001b[0mchunksize\u001b[0m \u001b[0;32mor\u001b[0m \u001b[0miterator\u001b[0m\u001b[0;34m:\u001b[0m\u001b[0;34m\u001b[0m\u001b[0;34m\u001b[0m\u001b[0m\n",
            "\u001b[0;32m/usr/local/lib/python3.10/dist-packages/pandas/io/parsers/readers.py\u001b[0m in \u001b[0;36m__init__\u001b[0;34m(self, f, engine, **kwds)\u001b[0m\n\u001b[1;32m   1440\u001b[0m \u001b[0;34m\u001b[0m\u001b[0m\n\u001b[1;32m   1441\u001b[0m         \u001b[0mself\u001b[0m\u001b[0;34m.\u001b[0m\u001b[0mhandles\u001b[0m\u001b[0;34m:\u001b[0m \u001b[0mIOHandles\u001b[0m \u001b[0;34m|\u001b[0m \u001b[0;32mNone\u001b[0m \u001b[0;34m=\u001b[0m \u001b[0;32mNone\u001b[0m\u001b[0;34m\u001b[0m\u001b[0;34m\u001b[0m\u001b[0m\n\u001b[0;32m-> 1442\u001b[0;31m         \u001b[0mself\u001b[0m\u001b[0;34m.\u001b[0m\u001b[0m_engine\u001b[0m \u001b[0;34m=\u001b[0m \u001b[0mself\u001b[0m\u001b[0;34m.\u001b[0m\u001b[0m_make_engine\u001b[0m\u001b[0;34m(\u001b[0m\u001b[0mf\u001b[0m\u001b[0;34m,\u001b[0m \u001b[0mself\u001b[0m\u001b[0;34m.\u001b[0m\u001b[0mengine\u001b[0m\u001b[0;34m)\u001b[0m\u001b[0;34m\u001b[0m\u001b[0;34m\u001b[0m\u001b[0m\n\u001b[0m\u001b[1;32m   1443\u001b[0m \u001b[0;34m\u001b[0m\u001b[0m\n\u001b[1;32m   1444\u001b[0m     \u001b[0;32mdef\u001b[0m \u001b[0mclose\u001b[0m\u001b[0;34m(\u001b[0m\u001b[0mself\u001b[0m\u001b[0;34m)\u001b[0m \u001b[0;34m->\u001b[0m \u001b[0;32mNone\u001b[0m\u001b[0;34m:\u001b[0m\u001b[0;34m\u001b[0m\u001b[0;34m\u001b[0m\u001b[0m\n",
            "\u001b[0;32m/usr/local/lib/python3.10/dist-packages/pandas/io/parsers/readers.py\u001b[0m in \u001b[0;36m_make_engine\u001b[0;34m(self, f, engine)\u001b[0m\n\u001b[1;32m   1733\u001b[0m                 \u001b[0;32mif\u001b[0m \u001b[0;34m\"b\"\u001b[0m \u001b[0;32mnot\u001b[0m \u001b[0;32min\u001b[0m \u001b[0mmode\u001b[0m\u001b[0;34m:\u001b[0m\u001b[0;34m\u001b[0m\u001b[0;34m\u001b[0m\u001b[0m\n\u001b[1;32m   1734\u001b[0m                     \u001b[0mmode\u001b[0m \u001b[0;34m+=\u001b[0m \u001b[0;34m\"b\"\u001b[0m\u001b[0;34m\u001b[0m\u001b[0;34m\u001b[0m\u001b[0m\n\u001b[0;32m-> 1735\u001b[0;31m             self.handles = get_handle(\n\u001b[0m\u001b[1;32m   1736\u001b[0m                 \u001b[0mf\u001b[0m\u001b[0;34m,\u001b[0m\u001b[0;34m\u001b[0m\u001b[0;34m\u001b[0m\u001b[0m\n\u001b[1;32m   1737\u001b[0m                 \u001b[0mmode\u001b[0m\u001b[0;34m,\u001b[0m\u001b[0;34m\u001b[0m\u001b[0;34m\u001b[0m\u001b[0m\n",
            "\u001b[0;32m/usr/local/lib/python3.10/dist-packages/pandas/io/common.py\u001b[0m in \u001b[0;36mget_handle\u001b[0;34m(path_or_buf, mode, encoding, compression, memory_map, is_text, errors, storage_options)\u001b[0m\n\u001b[1;32m    854\u001b[0m         \u001b[0;32mif\u001b[0m \u001b[0mioargs\u001b[0m\u001b[0;34m.\u001b[0m\u001b[0mencoding\u001b[0m \u001b[0;32mand\u001b[0m \u001b[0;34m\"b\"\u001b[0m \u001b[0;32mnot\u001b[0m \u001b[0;32min\u001b[0m \u001b[0mioargs\u001b[0m\u001b[0;34m.\u001b[0m\u001b[0mmode\u001b[0m\u001b[0;34m:\u001b[0m\u001b[0;34m\u001b[0m\u001b[0;34m\u001b[0m\u001b[0m\n\u001b[1;32m    855\u001b[0m             \u001b[0;31m# Encoding\u001b[0m\u001b[0;34m\u001b[0m\u001b[0;34m\u001b[0m\u001b[0m\n\u001b[0;32m--> 856\u001b[0;31m             handle = open(\n\u001b[0m\u001b[1;32m    857\u001b[0m                 \u001b[0mhandle\u001b[0m\u001b[0;34m,\u001b[0m\u001b[0;34m\u001b[0m\u001b[0;34m\u001b[0m\u001b[0m\n\u001b[1;32m    858\u001b[0m                 \u001b[0mioargs\u001b[0m\u001b[0;34m.\u001b[0m\u001b[0mmode\u001b[0m\u001b[0;34m,\u001b[0m\u001b[0;34m\u001b[0m\u001b[0;34m\u001b[0m\u001b[0m\n",
            "\u001b[0;31mFileNotFoundError\u001b[0m: [Errno 2] No such file or directory: 'ArticlesApril2018.csv'"
          ]
        }
      ]
    },
    {
      "cell_type": "code",
      "source": [
        "print('열의 개수:',len(df.columns))\n",
        "print(df.columns)"
      ],
      "metadata": {
        "id": "Yc-35lrg7pgu"
      },
      "execution_count": null,
      "outputs": []
    },
    {
      "cell_type": "code",
      "source": [
        "#사용할 열 = headline (제목)\n",
        "#Null값이 있는지 확인\n",
        "print(df['headline'].isnull().values.any())\n",
        "print(df['headline'].isnull().sum())"
      ],
      "metadata": {
        "id": "BCCLj9wE7xHi"
      },
      "execution_count": null,
      "outputs": []
    },
    {
      "cell_type": "code",
      "source": [
        "#headline열에서 모든 신문 기사의 제목을 뽑아 하나의 리스트로 저장\n",
        "headline=[]\n",
        "#헤드라인의 값들을 리스트로 저장\n",
        "headline.extend(list(df.headline.values))\n",
        "headline[:5]"
      ],
      "metadata": {
        "id": "jFY26z3F8Lto"
      },
      "execution_count": null,
      "outputs": []
    },
    {
      "cell_type": "code",
      "source": [
        "#Unknown<- 노이즈 데이터 제고\n",
        "#제거 전 샘플의 개수 확인\n",
        "#제거 전, 후의 샘플의 개수 비교\n",
        "print('총 샘플의 개수 :{}'.format(len(headline)))"
      ],
      "metadata": {
        "id": "4om4X_T_8dXL"
      },
      "execution_count": null,
      "outputs": []
    },
    {
      "cell_type": "code",
      "source": [
        "#Unknown 값을 가진 샘플 제거\n",
        "headline=[word for word in headline if word != \"Unknown\"]\n",
        "print('노이즈 값 제고 후 샘플의 개수 :{}'.format(len(headline)))"
      ],
      "metadata": {
        "id": "u-YR7ReB9Bcz"
      },
      "execution_count": null,
      "outputs": []
    },
    {
      "cell_type": "code",
      "source": [
        "headline[:5]"
      ],
      "metadata": {
        "id": "YBkyjvKE9OKa"
      },
      "execution_count": null,
      "outputs": []
    },
    {
      "cell_type": "code",
      "source": [
        "#전처리 과정2\n",
        "#구두점 제거와 단어의 소문자화\n",
        "\n",
        "def repreprocessing(raw_sentence):\n",
        "    preprocessed_sentence=raw_sentence.encode('utf8').decode('ascii','ignore')\n",
        "    #구두점 동시에 소문자화\n",
        "    return ''.join(word for word in preprocessed_sentence if word not in punctuation).lower()\n",
        "\n",
        "preprocessed_headline=[repreprocessing(x) for x in headline]\n",
        "preprocessed_headline[:5]"
      ],
      "metadata": {
        "id": "zobvmiUa9Rea"
      },
      "execution_count": null,
      "outputs": []
    },
    {
      "cell_type": "code",
      "source": [
        "#단어 집합을 만들고 크기 확인\n",
        "tokenizer = Tokenizer()\n",
        "tokenizer.fit_on_texts(preprocessed_headline)\n",
        "vocab_size=len(tokenizer.word_index)+1\n",
        "print('단어 집합의 크기 :%d' % vocab_size)"
      ],
      "metadata": {
        "id": "JpsBRQJc9y3g"
      },
      "execution_count": null,
      "outputs": []
    },
    {
      "cell_type": "code",
      "source": [
        "#정수 인코딩 진행 & 하나의 문장을 여러 줄로 분해하여 훈련 데이터 구성\n",
        "sequences=list()\n",
        "\n",
        "for sentence in preprocessed_headline:\n",
        "\n",
        "    #각 샘플에 대한 정수 인코딩\n",
        "    encoded=tokenizer.texts_to_sequences([sentence])[0]\n",
        "    for i in range(1, len(encoded)):\n",
        "      sequence=encoded[:i+1]\n",
        "      sequences.append(sequence)\n",
        "\n",
        "sequences[:11]"
      ],
      "metadata": {
        "id": "UvJpecaT-co7"
      },
      "execution_count": null,
      "outputs": []
    },
    {
      "cell_type": "code",
      "source": [
        "#어떤 정수가 어떤 단어를 의미하는지 알아보기 위해서 인덱스로부터 단어를 찾는 indes_to_word만들기\n",
        "index_to_word={}\n",
        "for key, value in tokenizer.word_index.items(): #인덱스를 단어로 바꾸기 위해 index_to_word 생성\n",
        "    index_to_word[value]=key\n",
        "\n",
        "print('빈도수 상위 582번 단어:{}'.format(index_to_word[582]))\n",
        "print('빈도수 상위 582번 단어:{}'.format(index_to_word[58]))"
      ],
      "metadata": {
        "id": "I8QJwVCP-3-d"
      },
      "execution_count": null,
      "outputs": []
    },
    {
      "cell_type": "code",
      "source": [
        "#padding 작업\n",
        "#가장 긴 샘플의 길이 확인\n",
        "max_len=max(len(l) for l in sequences)\n",
        "print('샘플의 최대 길이: {}'.format(max_len))"
      ],
      "metadata": {
        "id": "ehoLC7nV_YBw"
      },
      "execution_count": null,
      "outputs": []
    },
    {
      "cell_type": "code",
      "source": [
        "#최대길이 24로 패딩\n",
        "sequences = pad_sequences(sequences, maxlen=max_len, padding='pre')\n",
        "print(sequences[:3])"
      ],
      "metadata": {
        "id": "TL7HiQac_m1e"
      },
      "execution_count": null,
      "outputs": []
    },
    {
      "cell_type": "code",
      "source": [
        "#맨 우측 단어만 레이블로 분리해주는 작업\n",
        "sequences=np.array(sequences)\n",
        "X=sequences[:,:-1]\n",
        "y=sequences[:,-1]\n",
        "\n",
        "print(X[:3])\n",
        "print(y[:3])"
      ],
      "metadata": {
        "id": "xKmg-25w_vWn"
      },
      "execution_count": null,
      "outputs": []
    },
    {
      "cell_type": "code",
      "source": [
        "#레이블 데이터 y에 대해서 원-핫 인코딩 수행\n",
        "y=to_categorical(y,num_classes=vocab_size)"
      ],
      "metadata": {
        "id": "4_0WvBIC_8-C"
      },
      "execution_count": null,
      "outputs": []
    },
    {
      "cell_type": "code",
      "source": [
        "#모델 설계하기\n",
        "from tensorflow.keras.models import Sequential\n",
        "from tensorflow.keras.layers import Embedding,Dense,LSTM"
      ],
      "metadata": {
        "id": "I0MF1s1-AVKg"
      },
      "execution_count": null,
      "outputs": []
    },
    {
      "cell_type": "code",
      "source": [
        "#하이퍼파리미터 설정\n",
        "#임베딩 벡터 차원 = 10\n",
        "#은닉 상태의 크기 = 128\n",
        "#다 대 일 구조, 전결합층을 출력층으로 단어 집합 크기만큼 뉴런을 배치하여 모델 설계\n",
        "#다중클래스 분류 문제 -> 소프트맥스 회귀, 손실함수 -> 크로스 엔트로피 함수\n",
        "#에포크 200\n",
        "\n",
        "embedding_dim=10\n",
        "hidden_units=128\n",
        "\n",
        "model=Sequential()\n",
        "model.add(Embedding(vocab_size,embedding_dim))\n",
        "model.add(LSTM(hidden_units))\n",
        "model.add(Dense(vocab_size, activation='softmax'))\n",
        "model.compile(loss='categorical_crossentropy',optimizer='adam',metrics=['accuracy'])\n",
        "model.fit(X,y,epochs=200,verbose=2)"
      ],
      "metadata": {
        "id": "kf1qOmuhAshu"
      },
      "execution_count": null,
      "outputs": []
    },
    {
      "cell_type": "code",
      "source": [
        "#문장을 생성하는 함수 sentence_generation을 만들어 문장 생성\n",
        "def sentence_generation (model,tokenizer,current_word,n): #모델, 토크나이저, 현재 단어, 반복할 횟수\n",
        "    init_word=current_word\n",
        "\n",
        "    sentence=''\n",
        "\n",
        "    #n번 반복\n",
        "    for _ in range(n):\n",
        "        encoded=tokenizer.texts_to_sequences([current_word])[0]\n",
        "        encoded=pad_sequences([encoded],maxlen=max_len-1,padding='pre')\n",
        "\n",
        "        result=model.predict(encoded,verbose=0)\n",
        "        result=np.argmax(result,axis=1)\n",
        "\n",
        "        for word, index in tokenizer.word_index.items():\n",
        "            #만약 예측한 단어와 인덱스와 동일한 단어가 있다면\n",
        "            if index == result:\n",
        "                break\n",
        "\n",
        "        #현재 단어 + ' ' + 예측 단어를 현재 단어로 변경\n",
        "        current_word = current_word + ' ' + word\n",
        "        # 예측 단어를 문장에 저장\n",
        "        sentence =sentence + ' '+word\n",
        "\n",
        "    sentence=init_word+sentence\n",
        "    return sentence\n"
      ],
      "metadata": {
        "id": "v7pPJo0eBRO1"
      },
      "execution_count": null,
      "outputs": []
    },
    {
      "cell_type": "code",
      "source": [
        "#임의의 단어 i에 대해서 10개의 단어 추가 생성 해보기\n",
        "print(sentence_generation(model,tokenizer,'i',10))"
      ],
      "metadata": {
        "id": "QO9pHKQSEx09"
      },
      "execution_count": null,
      "outputs": []
    },
    {
      "cell_type": "code",
      "source": [
        "#how에 대해서 10개의 단어 추가 생성\n",
        "print(sentence_generation(model,tokenizer,'how',10))"
      ],
      "metadata": {
        "id": "sM9udrsxE3ps"
      },
      "execution_count": null,
      "outputs": []
    },
    {
      "cell_type": "code",
      "source": [
        "##문자 단위 RNN 언어 모델 (Char RNNLM)\n",
        "#데이터에 대한 이해와 전처리\n",
        "import numpy as np\n",
        "import urllib.request\n",
        "from tensorflow.keras.utils import to_categorical\n",
        "\n",
        "# 데이터 로드\n",
        "urllib.request.urlretrieve(\"http://www.gutenberg.org/files/11/11-0.txt\", filename=\"11-0.txt\")\n",
        "\n",
        "f = open('11-0.txt', 'rb')\n",
        "sentences = []\n",
        "for sentence in f: # 데이터로부터 한 줄씩 읽는다.\n",
        "    sentence = sentence.strip() # strip()을 통해 \\r, \\n을 제거한다.\n",
        "    sentence = sentence.lower() # 소문자화.\n",
        "    sentence = sentence.decode('ascii', 'ignore') # \\xe2\\x80\\x99 등과 같은 바이트 열 제거\n",
        "    if len(sentence) > 0:\n",
        "        sentences.append(sentence)\n",
        "f.close()"
      ],
      "metadata": {
        "id": "K5AwgRQHGfEX"
      },
      "execution_count": null,
      "outputs": []
    },
    {
      "cell_type": "code",
      "source": [
        "sentences[:5]"
      ],
      "metadata": {
        "colab": {
          "base_uri": "https://localhost:8080/"
        },
        "id": "VVIWzy9bIywx",
        "outputId": "d4c4bc72-8346-47cb-80c1-b7768e3c91cb"
      },
      "execution_count": null,
      "outputs": [
        {
          "output_type": "execute_result",
          "data": {
            "text/plain": [
              "['the project gutenberg ebook of alices adventures in wonderland, by lewis carroll',\n",
              " 'this ebook is for the use of anyone anywhere in the united states and',\n",
              " 'most other parts of the world at no cost and with almost no restrictions',\n",
              " 'whatsoever. you may copy it, give it away or re-use it under the terms',\n",
              " 'of the project gutenberg license included with this ebook or online at']"
            ]
          },
          "metadata": {},
          "execution_count": 41
        }
      ]
    },
    {
      "cell_type": "code",
      "source": [
        "#리스트의 원소는 문자열로 구성, 의미있게 문장 토큰화가 된 상태는 X\n",
        "#이를 하나의 문자열로 통합\n",
        "total_data=' '.join(sentences)\n",
        "print('문자열의 길이 또는 총 문자의 개수: %d'%len(total_data))"
      ],
      "metadata": {
        "colab": {
          "base_uri": "https://localhost:8080/"
        },
        "id": "Ue5oseoIJJTh",
        "outputId": "b9a80287-25f1-44ac-fe14-9ee4a00f7ffb"
      },
      "execution_count": null,
      "outputs": [
        {
          "output_type": "stream",
          "name": "stdout",
          "text": [
            "문자열의 길이 또는 총 문자의 개수: 159484\n"
          ]
        }
      ]
    },
    {
      "cell_type": "code",
      "source": [
        "print(total_data[:200])"
      ],
      "metadata": {
        "colab": {
          "base_uri": "https://localhost:8080/"
        },
        "id": "sAc-w4pKJXHf",
        "outputId": "e412dc16-141c-4c9d-f184-962bd8dbfddd"
      },
      "execution_count": null,
      "outputs": [
        {
          "output_type": "stream",
          "name": "stdout",
          "text": [
            "the project gutenberg ebook of alices adventures in wonderland, by lewis carroll this ebook is for the use of anyone anywhere in the united states and most other parts of the world at no cost and with\n"
          ]
        }
      ]
    },
    {
      "cell_type": "code",
      "source": [
        "#문자 집합 생성\n",
        "char_vocab=sorted(list(set(total_data)))\n",
        "vocab_size=len(char_vocab)\n",
        "print('문자 집합의 크기 : {}'.format(vocab_size))"
      ],
      "metadata": {
        "colab": {
          "base_uri": "https://localhost:8080/"
        },
        "id": "8FE4lx8LJZtl",
        "outputId": "eb759bd3-0de7-4c71-e5bb-8a66cd22915c"
      },
      "execution_count": null,
      "outputs": [
        {
          "output_type": "stream",
          "name": "stdout",
          "text": [
            "문자 집합의 크기 : 56\n"
          ]
        }
      ]
    },
    {
      "cell_type": "code",
      "source": [
        "#문자 집합의 크기는 매우 작음.\n",
        "#-> 모든 영어 단어는 총 52개의 알파벳으로 표현 가능하므로.\n",
        "#방대한 양의 텍스트 -> 집합의 크기를 적게 -> 구현과 테스트 쉽게 가능 ! (장점)\n",
        "\n",
        "#문자 집합의 각 문자에 정수를 부여하고 출력\n",
        "#문자에 고유한 정수 부여\n",
        "char_to_index=dict((char,index) for index, char in enumerate(char_vocab))\n",
        "print('문자집합:',char_to_index)"
      ],
      "metadata": {
        "colab": {
          "base_uri": "https://localhost:8080/"
        },
        "id": "wE9m7djoJvPz",
        "outputId": "c138b7e4-06ff-4b89-d44f-79f54e134dce"
      },
      "execution_count": null,
      "outputs": [
        {
          "output_type": "stream",
          "name": "stdout",
          "text": [
            "문자집합: {' ': 0, '!': 1, '\"': 2, '#': 3, '$': 4, '%': 5, \"'\": 6, '(': 7, ')': 8, '*': 9, ',': 10, '-': 11, '.': 12, '/': 13, '0': 14, '1': 15, '2': 16, '3': 17, '4': 18, '5': 19, '6': 20, '7': 21, '8': 22, '9': 23, ':': 24, ';': 25, '?': 26, '[': 27, ']': 28, '_': 29, 'a': 30, 'b': 31, 'c': 32, 'd': 33, 'e': 34, 'f': 35, 'g': 36, 'h': 37, 'i': 38, 'j': 39, 'k': 40, 'l': 41, 'm': 42, 'n': 43, 'o': 44, 'p': 45, 'q': 46, 'r': 47, 's': 48, 't': 49, 'u': 50, 'v': 51, 'w': 52, 'x': 53, 'y': 54, 'z': 55}\n"
          ]
        }
      ]
    },
    {
      "cell_type": "code",
      "source": [
        "#정수로 부터 문자를 리턴하는 index_to_char 생성\n",
        "index_to_char={}\n",
        "for key, value in char_to_index.items():\n",
        "  index_to_char[value]=key"
      ],
      "metadata": {
        "id": "rXsxrrXGKHrB"
      },
      "execution_count": null,
      "outputs": []
    },
    {
      "cell_type": "code",
      "source": [
        "#훈련 데이터 구성\n",
        "#apple이라는 시퀀스, 입력의 길이 4\n",
        "#데이터 구성\n",
        "#입력 시퀀스, 출력 시퀀스 길이 모두 4\n",
        "#RNN은 총 네 번의 시점을 가질 수 있음.\n",
        "#apple은 다섯글자 이지만 입력의 길이는 4이므로 appl까지 입력 가능.\n",
        "#언어 모델은 다음 시점의 입력을 예측해야하는 모델이므로 pple을 예측하도록 데이서 구성\n",
        "\n",
        "#appl (입력) -> pple (예측)\n",
        "train_X = 'appl'\n",
        "train_y = 'pple'\n",
        "\n",
        "#데이터를 만드는 방법\n",
        "#1. 문장 샘플의 길이 정하기\n",
        "#2. 해당 길이만큼 문자열 전체를 등분\n",
        "\n",
        "seq_length=60\n",
        "\n",
        "#전처리 후 생겨날 샘플 수\n",
        "n_samples=int(np.floor((len(total_data)-1) / seq_length))\n",
        "print('샘플의 수 : {}'.format(n_samples))"
      ],
      "metadata": {
        "colab": {
          "base_uri": "https://localhost:8080/"
        },
        "id": "rHJLpYhAKUQz",
        "outputId": "c2515ef3-fb5a-4e82-cfd1-6f3eb0bd00b7"
      },
      "execution_count": null,
      "outputs": [
        {
          "output_type": "stream",
          "name": "stdout",
          "text": [
            "샘플의 수 : 2658\n"
          ]
        }
      ]
    },
    {
      "cell_type": "code",
      "source": [
        "#전처리 진행\n",
        "train_X = []\n",
        "train_y = []\n",
        "\n",
        "for i in range(n_samples):\n",
        "  #0:60 -> 60:120 -> 120:180로 loop를 돌면서 문장 샘플을 1개씩 pick\n",
        "  X_sample = total_data[i*seq_length:(i+1) * seq_length]\n",
        "\n",
        "  #정수 인코딩\n",
        "  X_encoded = [char_to_index[c] for c in X_sample]\n",
        "  train_X.append(X_encoded)\n",
        "\n",
        "  #오른쪽으로 1칸 쉬프트\n",
        "  y_sample = total_data[i*seq_length +1:(i+1)*seq_length+1]\n",
        "\n",
        "  y_encoded = [char_to_index[c] for c in y_sample]\n",
        "  train_y.append(y_encoded)"
      ],
      "metadata": {
        "id": "B3SWLhPyLN5U"
      },
      "execution_count": null,
      "outputs": []
    },
    {
      "cell_type": "code",
      "source": [
        "print('X 데이터의 첫번째 샘플 :',train_X[0])\n",
        "print('y 데이터의 첫번째 샘플 :',train_y[0])\n",
        "print('-'*50)\n",
        "print('X 데이터의 첫번째 샘플 디코딩 :',[index_to_char[i] for i in train_X[0]])\n",
        "print('y 데이터의 첫번째 샘플 디코딩 :',[index_to_char[i] for i in train_y[0]])\n"
      ],
      "metadata": {
        "colab": {
          "base_uri": "https://localhost:8080/"
        },
        "id": "cNFsAuwSLytW",
        "outputId": "50098cb1-6daa-47c8-e4b5-ff77b5f016c5"
      },
      "execution_count": null,
      "outputs": [
        {
          "output_type": "stream",
          "name": "stdout",
          "text": [
            "X 데이터의 첫번째 샘플 : [49, 37, 34, 0, 45, 47, 44, 39, 34, 32, 49, 0, 36, 50, 49, 34, 43, 31, 34, 47, 36, 0, 34, 31, 44, 44, 40, 0, 44, 35, 0, 30, 41, 38, 32, 34, 48, 0, 30, 33, 51, 34, 43, 49, 50, 47, 34, 48, 0, 38, 43, 0, 52, 44, 43, 33, 34, 47, 41, 30]\n",
            "y 데이터의 첫번째 샘플 : [37, 34, 0, 45, 47, 44, 39, 34, 32, 49, 0, 36, 50, 49, 34, 43, 31, 34, 47, 36, 0, 34, 31, 44, 44, 40, 0, 44, 35, 0, 30, 41, 38, 32, 34, 48, 0, 30, 33, 51, 34, 43, 49, 50, 47, 34, 48, 0, 38, 43, 0, 52, 44, 43, 33, 34, 47, 41, 30, 43]\n",
            "--------------------------------------------------\n",
            "X 데이터의 첫번째 샘플 디코딩 : ['t', 'h', 'e', ' ', 'p', 'r', 'o', 'j', 'e', 'c', 't', ' ', 'g', 'u', 't', 'e', 'n', 'b', 'e', 'r', 'g', ' ', 'e', 'b', 'o', 'o', 'k', ' ', 'o', 'f', ' ', 'a', 'l', 'i', 'c', 'e', 's', ' ', 'a', 'd', 'v', 'e', 'n', 't', 'u', 'r', 'e', 's', ' ', 'i', 'n', ' ', 'w', 'o', 'n', 'd', 'e', 'r', 'l', 'a']\n",
            "y 데이터의 첫번째 샘플 디코딩 : ['h', 'e', ' ', 'p', 'r', 'o', 'j', 'e', 'c', 't', ' ', 'g', 'u', 't', 'e', 'n', 'b', 'e', 'r', 'g', ' ', 'e', 'b', 'o', 'o', 'k', ' ', 'o', 'f', ' ', 'a', 'l', 'i', 'c', 'e', 's', ' ', 'a', 'd', 'v', 'e', 'n', 't', 'u', 'r', 'e', 's', ' ', 'i', 'n', ' ', 'w', 'o', 'n', 'd', 'e', 'r', 'l', 'a', 'n']\n"
          ]
        }
      ]
    },
    {
      "cell_type": "code",
      "source": [
        "print(train_X[1])"
      ],
      "metadata": {
        "id": "OV6kjmbIL2L6",
        "colab": {
          "base_uri": "https://localhost:8080/"
        },
        "outputId": "4d6a6b46-a18c-43a0-9e9e-0e42c8b72765"
      },
      "execution_count": null,
      "outputs": [
        {
          "output_type": "stream",
          "name": "stdout",
          "text": [
            "[43, 33, 10, 0, 31, 54, 0, 41, 34, 52, 38, 48, 0, 32, 30, 47, 47, 44, 41, 41, 0, 49, 37, 38, 48, 0, 34, 31, 44, 44, 40, 0, 38, 48, 0, 35, 44, 47, 0, 49, 37, 34, 0, 50, 48, 34, 0, 44, 35, 0, 30, 43, 54, 44, 43, 34, 0, 30, 43, 54]\n"
          ]
        }
      ]
    },
    {
      "cell_type": "code",
      "source": [
        "print(train_y[1])"
      ],
      "metadata": {
        "colab": {
          "base_uri": "https://localhost:8080/"
        },
        "id": "ib7yPVV77G_F",
        "outputId": "4778880a-26f1-4a31-ddc6-c613b904f60e"
      },
      "execution_count": null,
      "outputs": [
        {
          "output_type": "stream",
          "name": "stdout",
          "text": [
            "[33, 10, 0, 31, 54, 0, 41, 34, 52, 38, 48, 0, 32, 30, 47, 47, 44, 41, 41, 0, 49, 37, 38, 48, 0, 34, 31, 44, 44, 40, 0, 38, 48, 0, 35, 44, 47, 0, 49, 37, 34, 0, 50, 48, 34, 0, 44, 35, 0, 30, 43, 54, 44, 43, 34, 0, 30, 43, 54, 52]\n"
          ]
        }
      ]
    },
    {
      "cell_type": "code",
      "source": [
        "#원-핫 인코딩 수행\n",
        "#문자단위 RN에서는 입력 시퀀스에 대해서 워드 임베딩 진행 X -> 임베딩층 사용 X\n",
        "\n",
        "train_X=to_categorical(train_X)\n",
        "train_y=to_categorical(train_y)\n",
        "\n",
        "print('train_X의 크기 (shape):{}'.format(train_X.shape))\n",
        "print('train_y의 크기 (shape):{}'.format(train_y.shape))"
      ],
      "metadata": {
        "colab": {
          "base_uri": "https://localhost:8080/"
        },
        "id": "Bn-wDD777I8C",
        "outputId": "09b781b3-ed10-4025-e129-f622478bdba4"
      },
      "execution_count": null,
      "outputs": [
        {
          "output_type": "stream",
          "name": "stdout",
          "text": [
            "train_X의 크기 (shape):(2658, 60, 56, 2)\n",
            "train_y의 크기 (shape):(2658, 60, 56, 2)\n"
          ]
        }
      ]
    },
    {
      "cell_type": "markdown",
      "source": [
        "![스크린샷 2023-09-12 오전 10.09.03.png](data:image/png;base64,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)"
      ],
      "metadata": {
        "id": "_ZMPEaB871Ze"
      }
    },
    {
      "cell_type": "code",
      "source": [
        "#모델 설계 -> 모든 시점에서 가능한 모든 문자 중 하나의 문자를 예측하는 다중 클래스 분류 문제를 수행\n",
        "#하이퍼파라미터 설정\n",
        "#은닉 상태 크기 = 256\n",
        "#다 대 다 구조의 LSTM, LSTM 은닉층 2개\n",
        "#전결합층을 출력층으로 문자 크기 만큼의 뉴런을 배치하여 모델 설계\n",
        "#출력층 활성화 함수 : 소프트맥스\n",
        "#손실 함수 : 크로스 엔트로피 함수\n",
        "#epoch = 80\n",
        "\n",
        "from tensorflow.keras.models import Sequential\n",
        "from tensorflow.keras.layers import Dense, LSTM, TimeDistributed\n",
        "\n",
        "hidden_units =256 #은닉층 개수\n",
        "\n",
        "model=Sequential()\n",
        "model.add(LSTM(hidden_units,input_shape=(None, train_X.shape[2]),return_sequences=True)) #첫번째 은닉층\n",
        "model.add(LSTM(hidden_units, return_sequences=True))\n",
        "model.add(TimeDistributed(Dense(vocab_size, activation='softmax')))\n",
        "\n",
        "model.compile(loss='categorical_crossentropy',optimizer ='adam',metrics=['accuray'])\n",
        "model.fit(train_X,train_y,epochs=80,verbose=2)\n"
      ],
      "metadata": {
        "colab": {
          "base_uri": "https://localhost:8080/",
          "height": 775
        },
        "id": "Pd3czDsC7jM2",
        "outputId": "56eabe4a-1b2b-4d11-8a81-797dfd22075b"
      },
      "execution_count": null,
      "outputs": [
        {
          "output_type": "stream",
          "name": "stdout",
          "text": [
            "Epoch 1/80\n"
          ]
        },
        {
          "output_type": "error",
          "ename": "ValueError",
          "evalue": "ignored",
          "traceback": [
            "\u001b[0;31m---------------------------------------------------------------------------\u001b[0m",
            "\u001b[0;31mValueError\u001b[0m                                Traceback (most recent call last)",
            "\u001b[0;32m<ipython-input-59-92cca32ec920>\u001b[0m in \u001b[0;36m<cell line: 21>\u001b[0;34m()\u001b[0m\n\u001b[1;32m     19\u001b[0m \u001b[0;34m\u001b[0m\u001b[0m\n\u001b[1;32m     20\u001b[0m \u001b[0mmodel\u001b[0m\u001b[0;34m.\u001b[0m\u001b[0mcompile\u001b[0m\u001b[0;34m(\u001b[0m\u001b[0mloss\u001b[0m\u001b[0;34m=\u001b[0m\u001b[0;34m'categorical_crossentropy'\u001b[0m\u001b[0;34m,\u001b[0m\u001b[0moptimizer\u001b[0m \u001b[0;34m=\u001b[0m\u001b[0;34m'adam'\u001b[0m\u001b[0;34m,\u001b[0m\u001b[0mmetrics\u001b[0m\u001b[0;34m=\u001b[0m\u001b[0;34m[\u001b[0m\u001b[0;34m'accuray'\u001b[0m\u001b[0;34m]\u001b[0m\u001b[0;34m)\u001b[0m\u001b[0;34m\u001b[0m\u001b[0;34m\u001b[0m\u001b[0m\n\u001b[0;32m---> 21\u001b[0;31m \u001b[0mmodel\u001b[0m\u001b[0;34m.\u001b[0m\u001b[0mfit\u001b[0m\u001b[0;34m(\u001b[0m\u001b[0mtrain_X\u001b[0m\u001b[0;34m,\u001b[0m\u001b[0mtrain_y\u001b[0m\u001b[0;34m,\u001b[0m\u001b[0mepochs\u001b[0m\u001b[0;34m=\u001b[0m\u001b[0;36m80\u001b[0m\u001b[0;34m,\u001b[0m\u001b[0mverbose\u001b[0m\u001b[0;34m=\u001b[0m\u001b[0;36m2\u001b[0m\u001b[0;34m)\u001b[0m\u001b[0;34m\u001b[0m\u001b[0;34m\u001b[0m\u001b[0m\n\u001b[0m",
            "\u001b[0;32m/usr/local/lib/python3.10/dist-packages/keras/src/utils/traceback_utils.py\u001b[0m in \u001b[0;36merror_handler\u001b[0;34m(*args, **kwargs)\u001b[0m\n\u001b[1;32m     68\u001b[0m             \u001b[0;31m# To get the full stack trace, call:\u001b[0m\u001b[0;34m\u001b[0m\u001b[0;34m\u001b[0m\u001b[0m\n\u001b[1;32m     69\u001b[0m             \u001b[0;31m# `tf.debugging.disable_traceback_filtering()`\u001b[0m\u001b[0;34m\u001b[0m\u001b[0;34m\u001b[0m\u001b[0m\n\u001b[0;32m---> 70\u001b[0;31m             \u001b[0;32mraise\u001b[0m \u001b[0me\u001b[0m\u001b[0;34m.\u001b[0m\u001b[0mwith_traceback\u001b[0m\u001b[0;34m(\u001b[0m\u001b[0mfiltered_tb\u001b[0m\u001b[0;34m)\u001b[0m \u001b[0;32mfrom\u001b[0m \u001b[0;32mNone\u001b[0m\u001b[0;34m\u001b[0m\u001b[0;34m\u001b[0m\u001b[0m\n\u001b[0m\u001b[1;32m     71\u001b[0m         \u001b[0;32mfinally\u001b[0m\u001b[0;34m:\u001b[0m\u001b[0;34m\u001b[0m\u001b[0;34m\u001b[0m\u001b[0m\n\u001b[1;32m     72\u001b[0m             \u001b[0;32mdel\u001b[0m \u001b[0mfiltered_tb\u001b[0m\u001b[0;34m\u001b[0m\u001b[0;34m\u001b[0m\u001b[0m\n",
            "\u001b[0;32m/usr/local/lib/python3.10/dist-packages/keras/src/engine/training.py\u001b[0m in \u001b[0;36mtf__train_function\u001b[0;34m(iterator)\u001b[0m\n\u001b[1;32m     13\u001b[0m                 \u001b[0;32mtry\u001b[0m\u001b[0;34m:\u001b[0m\u001b[0;34m\u001b[0m\u001b[0;34m\u001b[0m\u001b[0m\n\u001b[1;32m     14\u001b[0m                     \u001b[0mdo_return\u001b[0m \u001b[0;34m=\u001b[0m \u001b[0;32mTrue\u001b[0m\u001b[0;34m\u001b[0m\u001b[0;34m\u001b[0m\u001b[0m\n\u001b[0;32m---> 15\u001b[0;31m                     \u001b[0mretval_\u001b[0m \u001b[0;34m=\u001b[0m \u001b[0mag__\u001b[0m\u001b[0;34m.\u001b[0m\u001b[0mconverted_call\u001b[0m\u001b[0;34m(\u001b[0m\u001b[0mag__\u001b[0m\u001b[0;34m.\u001b[0m\u001b[0mld\u001b[0m\u001b[0;34m(\u001b[0m\u001b[0mstep_function\u001b[0m\u001b[0;34m)\u001b[0m\u001b[0;34m,\u001b[0m \u001b[0;34m(\u001b[0m\u001b[0mag__\u001b[0m\u001b[0;34m.\u001b[0m\u001b[0mld\u001b[0m\u001b[0;34m(\u001b[0m\u001b[0mself\u001b[0m\u001b[0;34m)\u001b[0m\u001b[0;34m,\u001b[0m \u001b[0mag__\u001b[0m\u001b[0;34m.\u001b[0m\u001b[0mld\u001b[0m\u001b[0;34m(\u001b[0m\u001b[0miterator\u001b[0m\u001b[0;34m)\u001b[0m\u001b[0;34m)\u001b[0m\u001b[0;34m,\u001b[0m \u001b[0;32mNone\u001b[0m\u001b[0;34m,\u001b[0m \u001b[0mfscope\u001b[0m\u001b[0;34m)\u001b[0m\u001b[0;34m\u001b[0m\u001b[0;34m\u001b[0m\u001b[0m\n\u001b[0m\u001b[1;32m     16\u001b[0m                 \u001b[0;32mexcept\u001b[0m\u001b[0;34m:\u001b[0m\u001b[0;34m\u001b[0m\u001b[0;34m\u001b[0m\u001b[0m\n\u001b[1;32m     17\u001b[0m                     \u001b[0mdo_return\u001b[0m \u001b[0;34m=\u001b[0m \u001b[0;32mFalse\u001b[0m\u001b[0;34m\u001b[0m\u001b[0;34m\u001b[0m\u001b[0m\n",
            "\u001b[0;31mValueError\u001b[0m: in user code:\n\n    File \"/usr/local/lib/python3.10/dist-packages/keras/src/engine/training.py\", line 1338, in train_function  *\n        return step_function(self, iterator)\n    File \"/usr/local/lib/python3.10/dist-packages/keras/src/engine/training.py\", line 1322, in step_function  **\n        outputs = model.distribute_strategy.run(run_step, args=(data,))\n    File \"/usr/local/lib/python3.10/dist-packages/keras/src/engine/training.py\", line 1303, in run_step  **\n        outputs = model.train_step(data)\n    File \"/usr/local/lib/python3.10/dist-packages/keras/src/engine/training.py\", line 1080, in train_step\n        y_pred = self(x, training=True)\n    File \"/usr/local/lib/python3.10/dist-packages/keras/src/utils/traceback_utils.py\", line 70, in error_handler\n        raise e.with_traceback(filtered_tb) from None\n    File \"/usr/local/lib/python3.10/dist-packages/keras/src/engine/input_spec.py\", line 235, in assert_input_compatibility\n        raise ValueError(\n\n    ValueError: Exception encountered when calling layer 'sequential_11' (type Sequential).\n    \n    Input 0 of layer \"lstm_8\" is incompatible with the layer: expected ndim=3, found ndim=4. Full shape received: (None, 60, 56, 2)\n    \n    Call arguments received by layer 'sequential_11' (type Sequential):\n      • inputs=tf.Tensor(shape=(None, 60, 56, 2), dtype=float32)\n      • training=True\n      • mask=None\n"
          ]
        }
      ]
    },
    {
      "cell_type": "code",
      "source": [
        "#특정 문자를 주면 다음 문자를 계속해서 생성해내는 sentence_generation함수 구현"
      ],
      "metadata": {
        "id": "7axbSoRU9_lt"
      },
      "execution_count": null,
      "outputs": []
    },
    {
      "cell_type": "code",
      "source": [
        "#문자 단위 RNN(Char RNN)으로 텍스트 생성하기\n",
        "#다대일 구조의 RNN을 문자 단위로 학습시키고, 텍스트 생성해보기\n",
        "\n",
        "#데이터에 대한 이해와 전처리\n",
        "import numpy as np\n",
        "from tensorflow.keras.utils import to_categorical\n",
        "\n",
        "raw_text = '''\n",
        "I get on with life as a programmer,\n",
        "I like to contemplate beer.\n",
        "But when I start to daydream,\n",
        "My mind turns straight to wine.\n",
        "\n",
        "Do I love wine more than beer?\n",
        "\n",
        "I like to use words about beer.\n",
        "But when I stop my talking,\n",
        "My mind turns straight to wine.\n",
        "\n",
        "I hate bugs and errors.\n",
        "But I just think back to wine,\n",
        "And I'm happy once again.\n",
        "\n",
        "I like to hang out with programming and deep learning.\n",
        "But when left alone,\n",
        "My mind turns straight to wine.\n",
        "'''\n",
        "\n",
        "#단락 구분 없애고 하나의 문자열로 재저장\n",
        "tokens=raw_text.split()\n",
        "raw_text=' '.join(tokens)\n",
        "print(raw_text)\n"
      ],
      "metadata": {
        "colab": {
          "base_uri": "https://localhost:8080/"
        },
        "id": "GE5U0mvmAE1E",
        "outputId": "31047d71-3bd2-417f-b02d-1d34693f9eaa"
      },
      "execution_count": null,
      "outputs": [
        {
          "output_type": "stream",
          "name": "stdout",
          "text": [
            "I get on with life as a programmer, I like to contemplate beer. But when I start to daydream, My mind turns straight to wine. Do I love wine more than beer? I like to use words about beer. But when I stop my talking, My mind turns straight to wine. I hate bugs and errors. But I just think back to wine, And I'm happy once again. I like to hang out with programming and deep learning. But when left alone, My mind turns straight to wine.\n"
          ]
        }
      ]
    },
    {
      "cell_type": "code",
      "source": [
        "#중복을 제거한 문자 집합 생성\n",
        "char_vocab=sorted(list(set(raw_text)))\n",
        "vocab_size=len(char_vocab)\n",
        "print('문자집합:',char_vocab)\n",
        "print('문자 집합의 크기: {}'.format(vocab_size))"
      ],
      "metadata": {
        "colab": {
          "base_uri": "https://localhost:8080/"
        },
        "id": "qkRDZ0VEBcVC",
        "outputId": "3518794f-47da-4ae8-c1a2-c07e7c401335"
      },
      "execution_count": null,
      "outputs": [
        {
          "output_type": "stream",
          "name": "stdout",
          "text": [
            "문자집합: [' ', \"'\", ',', '.', '?', 'A', 'B', 'D', 'I', 'M', 'a', 'b', 'c', 'd', 'e', 'f', 'g', 'h', 'i', 'j', 'k', 'l', 'm', 'n', 'o', 'p', 'r', 's', 't', 'u', 'v', 'w', 'y']\n",
            "문자 집합의 크기: 33\n"
          ]
        }
      ]
    },
    {
      "cell_type": "code",
      "source": [
        "char_to_index=dict((char,index) for index, char in enumerate(char_vocab)) #문자에 고유한 정수 인덱스 부여\n",
        "print(char_to_index)"
      ],
      "metadata": {
        "colab": {
          "base_uri": "https://localhost:8080/"
        },
        "id": "56B2Rp-TB4KT",
        "outputId": "e6002f59-00b3-4373-cd7f-3775239b06b2"
      },
      "execution_count": null,
      "outputs": [
        {
          "output_type": "stream",
          "name": "stdout",
          "text": [
            "{' ': 0, \"'\": 1, ',': 2, '.': 3, '?': 4, 'A': 5, 'B': 6, 'D': 7, 'I': 8, 'M': 9, 'a': 10, 'b': 11, 'c': 12, 'd': 13, 'e': 14, 'f': 15, 'g': 16, 'h': 17, 'i': 18, 'j': 19, 'k': 20, 'l': 21, 'm': 22, 'n': 23, 'o': 24, 'p': 25, 'r': 26, 's': 27, 't': 28, 'u': 29, 'v': 30, 'w': 31, 'y': 32}\n"
          ]
        }
      ]
    },
    {
      "cell_type": "code",
      "source": [
        "#입력 시퀀스 길이가 10이 되도록 데이터 구성\n",
        "#예측 대상인 문자도 필요하므로 결과적으로 길이가 11이 되도록 데이터 구성\n",
        "\n",
        "length=11\n",
        "sequences=[]\n",
        "for i in range(length,len(raw_text)):\n",
        "  seq=raw_text[i-length:i] #길이 11의 문자열을 지속적으로 만든다.\n",
        "  sequences.append(seq)\n",
        "print('총 훈련 샘플의 수 : %d' % len(sequences))"
      ],
      "metadata": {
        "colab": {
          "base_uri": "https://localhost:8080/"
        },
        "id": "RYdWJ2IrCB0L",
        "outputId": "83e01d49-0fd9-496b-9eac-bca212013e94"
      },
      "execution_count": null,
      "outputs": [
        {
          "output_type": "stream",
          "name": "stdout",
          "text": [
            "총 훈련 샘플의 수 : 426\n"
          ]
        }
      ]
    },
    {
      "cell_type": "code",
      "source": [
        "sequences[:10]"
      ],
      "metadata": {
        "colab": {
          "base_uri": "https://localhost:8080/"
        },
        "id": "Fuh4RHYDCiq-",
        "outputId": "bfbb52c3-d778-40cb-9958-18adfab772a8"
      },
      "execution_count": null,
      "outputs": [
        {
          "output_type": "execute_result",
          "data": {
            "text/plain": [
              "['I get on wi',\n",
              " ' get on wit',\n",
              " 'get on with',\n",
              " 'et on with ',\n",
              " 't on with l',\n",
              " ' on with li',\n",
              " 'on with lif',\n",
              " 'n with life',\n",
              " ' with life ',\n",
              " 'with life a']"
            ]
          },
          "metadata": {},
          "execution_count": 68
        }
      ]
    },
    {
      "cell_type": "code",
      "source": [
        "sequences[30:45]"
      ],
      "metadata": {
        "colab": {
          "base_uri": "https://localhost:8080/"
        },
        "id": "eKVekW7ECk2P",
        "outputId": "376e9f8f-9118-45b3-915b-4aa0c43ac52e"
      },
      "execution_count": null,
      "outputs": [
        {
          "output_type": "execute_result",
          "data": {
            "text/plain": [
              "['mmer, I lik',\n",
              " 'mer, I like',\n",
              " 'er, I like ',\n",
              " 'r, I like t',\n",
              " ', I like to',\n",
              " ' I like to ',\n",
              " 'I like to c',\n",
              " ' like to co',\n",
              " 'like to con',\n",
              " 'ike to cont',\n",
              " 'ke to conte',\n",
              " 'e to contem',\n",
              " ' to contemp',\n",
              " 'to contempl',\n",
              " 'o contempla']"
            ]
          },
          "metadata": {},
          "execution_count": 69
        }
      ]
    },
    {
      "cell_type": "code",
      "source": [
        "#정수 인코딩 수행\n",
        "encoded_sequences=[]\n",
        "for sequence in sequences: #전체 데이터에서 문장 샘플을 1개씩 꺼낸다.\n",
        "    encoded_sequence =[char_to_index[char] for char in sequence] #문장 샘플에서 각 문자에 대해 정수 인코딩 수행.\n",
        "    encoded_sequences.append(encoded_sequence)"
      ],
      "metadata": {
        "id": "jZ-AOiAlCotL"
      },
      "execution_count": null,
      "outputs": []
    },
    {
      "cell_type": "code",
      "source": [
        "encoded_sequences[:5]"
      ],
      "metadata": {
        "colab": {
          "base_uri": "https://localhost:8080/"
        },
        "id": "mttETedNDBLg",
        "outputId": "40e53e27-e6f2-4025-971f-14b6cc132aca"
      },
      "execution_count": null,
      "outputs": [
        {
          "output_type": "execute_result",
          "data": {
            "text/plain": [
              "[[8, 0, 16, 14, 28, 0, 24, 23, 0, 31, 18],\n",
              " [0, 16, 14, 28, 0, 24, 23, 0, 31, 18, 28],\n",
              " [16, 14, 28, 0, 24, 23, 0, 31, 18, 28, 17],\n",
              " [14, 28, 0, 24, 23, 0, 31, 18, 28, 17, 0],\n",
              " [28, 0, 24, 23, 0, 31, 18, 28, 17, 0, 21]]"
            ]
          },
          "metadata": {},
          "execution_count": 71
        }
      ]
    },
    {
      "cell_type": "code",
      "source": [
        "#예측 대상인 문자를 분리시켜주는 작업\n",
        "#마지막 문자를 분리하여 마지막 문자가 분리된 샘플 -> X_data에 저장\n",
        "#마지막 문자 (레이블 데이터) -> y_data에 저장\n",
        "encoded_sequences=np.array(encoded_sequences)\n",
        "\n",
        "#맨 마지막 위치의 문자를 분리\n",
        "X_data = encoded_sequences[:,:-1]\n",
        "#맨 마지막 위치의 문자를 저장\n",
        "y_data = encoded_sequences[:,-1]"
      ],
      "metadata": {
        "id": "9HoXQ6fADDUT"
      },
      "execution_count": null,
      "outputs": []
    },
    {
      "cell_type": "code",
      "source": [
        "print(X_data[:5])\n",
        "print(y_data[:5])"
      ],
      "metadata": {
        "colab": {
          "base_uri": "https://localhost:8080/"
        },
        "id": "sUCE9phaDsuS",
        "outputId": "afe107bf-c8cc-44c7-f5b1-4ddeb3e52f08"
      },
      "execution_count": null,
      "outputs": [
        {
          "output_type": "stream",
          "name": "stdout",
          "text": [
            "[[ 8  0 16 14 28  0 24 23  0 31]\n",
            " [ 0 16 14 28  0 24 23  0 31 18]\n",
            " [16 14 28  0 24 23  0 31 18 28]\n",
            " [14 28  0 24 23  0 31 18 28 17]\n",
            " [28  0 24 23  0 31 18 28 17  0]]\n",
            "[18 28 17  0 21]\n"
          ]
        }
      ]
    },
    {
      "cell_type": "code",
      "source": [
        "#원- 핫 인코딩 수행\n",
        "X_data_one_hot=[to_categorical(encoded, num_classes=vocab_size) for encoded in X_data]\n",
        "X_data_one_hot=np.array(X_data_one_hot)\n",
        "y_data_one_hot=to_categorical(y_data,num_classes=vocab_size)"
      ],
      "metadata": {
        "id": "CfzRt7fKDv3v"
      },
      "execution_count": null,
      "outputs": []
    },
    {
      "cell_type": "code",
      "source": [
        "print(X_data_one_hot.shape)\n",
        "#샘플의 수 batch_size = 426, 입력 시퀀스 길이 = 10,  각 벡터의 차원 33\n",
        "#원-핫 벡터의 차원은 문자 집합의 크기인 33이어야 하므로 X에 대해 원-핫 인코딩 수행됨을 알 수 있음"
      ],
      "metadata": {
        "colab": {
          "base_uri": "https://localhost:8080/"
        },
        "id": "2YC9r8sBEE9O",
        "outputId": "44a65acc-1866-4c7e-b36b-28816be812be"
      },
      "execution_count": null,
      "outputs": [
        {
          "output_type": "stream",
          "name": "stdout",
          "text": [
            "(426, 10, 33)\n"
          ]
        }
      ]
    },
    {
      "cell_type": "code",
      "source": [
        "#모델 설계-> 다중 클래스 분류 문제\n",
        "#하이퍼파라미터 설정\n",
        "#은닉 상태의 크기 64\n",
        "#모델 -> 다대일 구조의 LSTM\n",
        "#출력층 활성화 함수 : 소프트 맥스, 손실함수 : 크로스 엔트로피 함수\n",
        "#epoch = 100\n",
        "\n",
        "from tensorflow.keras.models import Sequential\n",
        "from tensorflow.keras.layers import Dense, LSTM\n",
        "from tensorflow.keras.preprocessing.sequence import pad_sequences\n",
        "\n",
        "hidden_units =64\n",
        "\n",
        "model=Sequential()\n",
        "model.add(LSTM(hidden_units, input_shape=(X_data_one_hot.shape[1],X_data_one_hot.shape[2])))\n",
        "model.add(Dense(vocab_size, activation='softmax'))\n",
        "\n",
        "model.compile(loss='categorical_crossentropy',optimizer='adam',metrics=['accuracy'])\n",
        "model.fit(X_data_one_hot,y_data_one_hot,epochs=100,verbose=2)"
      ],
      "metadata": {
        "colab": {
          "base_uri": "https://localhost:8080/"
        },
        "id": "oyaiaAtuEJfZ",
        "outputId": "d8a43af4-7871-4815-f329-51639bf230de"
      },
      "execution_count": null,
      "outputs": [
        {
          "output_type": "stream",
          "name": "stdout",
          "text": [
            "Epoch 1/100\n",
            "14/14 - 3s - loss: 3.4740 - accuracy: 0.0798 - 3s/epoch - 230ms/step\n",
            "Epoch 2/100\n",
            "14/14 - 0s - loss: 3.3655 - accuracy: 0.1972 - 60ms/epoch - 4ms/step\n",
            "Epoch 3/100\n",
            "14/14 - 0s - loss: 3.1200 - accuracy: 0.1972 - 84ms/epoch - 6ms/step\n",
            "Epoch 4/100\n",
            "14/14 - 0s - loss: 2.9984 - accuracy: 0.1972 - 94ms/epoch - 7ms/step\n",
            "Epoch 5/100\n",
            "14/14 - 0s - loss: 2.9645 - accuracy: 0.1972 - 79ms/epoch - 6ms/step\n",
            "Epoch 6/100\n",
            "14/14 - 0s - loss: 2.9399 - accuracy: 0.1972 - 84ms/epoch - 6ms/step\n",
            "Epoch 7/100\n",
            "14/14 - 0s - loss: 2.9245 - accuracy: 0.1972 - 83ms/epoch - 6ms/step\n",
            "Epoch 8/100\n",
            "14/14 - 0s - loss: 2.9141 - accuracy: 0.1972 - 81ms/epoch - 6ms/step\n",
            "Epoch 9/100\n",
            "14/14 - 0s - loss: 2.8919 - accuracy: 0.1972 - 76ms/epoch - 5ms/step\n",
            "Epoch 10/100\n",
            "14/14 - 0s - loss: 2.8884 - accuracy: 0.1972 - 76ms/epoch - 5ms/step\n",
            "Epoch 11/100\n",
            "14/14 - 0s - loss: 2.8422 - accuracy: 0.1972 - 80ms/epoch - 6ms/step\n",
            "Epoch 12/100\n",
            "14/14 - 0s - loss: 2.8133 - accuracy: 0.1972 - 81ms/epoch - 6ms/step\n",
            "Epoch 13/100\n",
            "14/14 - 0s - loss: 2.7838 - accuracy: 0.2089 - 78ms/epoch - 6ms/step\n",
            "Epoch 14/100\n",
            "14/14 - 0s - loss: 2.7560 - accuracy: 0.1995 - 81ms/epoch - 6ms/step\n",
            "Epoch 15/100\n",
            "14/14 - 0s - loss: 2.7198 - accuracy: 0.2160 - 100ms/epoch - 7ms/step\n",
            "Epoch 16/100\n",
            "14/14 - 0s - loss: 2.6950 - accuracy: 0.2254 - 85ms/epoch - 6ms/step\n",
            "Epoch 17/100\n",
            "14/14 - 0s - loss: 2.6404 - accuracy: 0.2582 - 78ms/epoch - 6ms/step\n",
            "Epoch 18/100\n",
            "14/14 - 0s - loss: 2.5993 - accuracy: 0.2465 - 79ms/epoch - 6ms/step\n",
            "Epoch 19/100\n",
            "14/14 - 0s - loss: 2.5589 - accuracy: 0.2887 - 78ms/epoch - 6ms/step\n",
            "Epoch 20/100\n",
            "14/14 - 0s - loss: 2.5179 - accuracy: 0.2676 - 76ms/epoch - 5ms/step\n",
            "Epoch 21/100\n",
            "14/14 - 0s - loss: 2.4753 - accuracy: 0.2864 - 75ms/epoch - 5ms/step\n",
            "Epoch 22/100\n",
            "14/14 - 0s - loss: 2.4297 - accuracy: 0.3169 - 74ms/epoch - 5ms/step\n",
            "Epoch 23/100\n",
            "14/14 - 0s - loss: 2.3925 - accuracy: 0.2723 - 75ms/epoch - 5ms/step\n",
            "Epoch 24/100\n",
            "14/14 - 0s - loss: 2.3544 - accuracy: 0.3075 - 79ms/epoch - 6ms/step\n",
            "Epoch 25/100\n",
            "14/14 - 0s - loss: 2.2873 - accuracy: 0.3357 - 87ms/epoch - 6ms/step\n",
            "Epoch 26/100\n",
            "14/14 - 0s - loss: 2.2448 - accuracy: 0.3333 - 81ms/epoch - 6ms/step\n",
            "Epoch 27/100\n",
            "14/14 - 0s - loss: 2.1956 - accuracy: 0.3779 - 87ms/epoch - 6ms/step\n",
            "Epoch 28/100\n",
            "14/14 - 0s - loss: 2.1657 - accuracy: 0.3521 - 81ms/epoch - 6ms/step\n",
            "Epoch 29/100\n",
            "14/14 - 0s - loss: 2.0946 - accuracy: 0.4131 - 82ms/epoch - 6ms/step\n",
            "Epoch 30/100\n",
            "14/14 - 0s - loss: 2.0549 - accuracy: 0.4038 - 89ms/epoch - 6ms/step\n",
            "Epoch 31/100\n",
            "14/14 - 0s - loss: 2.0341 - accuracy: 0.4038 - 65ms/epoch - 5ms/step\n",
            "Epoch 32/100\n",
            "14/14 - 0s - loss: 1.9833 - accuracy: 0.4366 - 60ms/epoch - 4ms/step\n",
            "Epoch 33/100\n",
            "14/14 - 0s - loss: 1.9416 - accuracy: 0.4225 - 58ms/epoch - 4ms/step\n",
            "Epoch 34/100\n",
            "14/14 - 0s - loss: 1.9114 - accuracy: 0.4554 - 57ms/epoch - 4ms/step\n",
            "Epoch 35/100\n",
            "14/14 - 0s - loss: 1.8612 - accuracy: 0.4671 - 64ms/epoch - 5ms/step\n",
            "Epoch 36/100\n",
            "14/14 - 0s - loss: 1.8477 - accuracy: 0.4742 - 64ms/epoch - 5ms/step\n",
            "Epoch 37/100\n",
            "14/14 - 0s - loss: 1.7779 - accuracy: 0.5117 - 62ms/epoch - 4ms/step\n",
            "Epoch 38/100\n",
            "14/14 - 0s - loss: 1.7240 - accuracy: 0.5329 - 64ms/epoch - 5ms/step\n",
            "Epoch 39/100\n",
            "14/14 - 0s - loss: 1.6872 - accuracy: 0.5141 - 60ms/epoch - 4ms/step\n",
            "Epoch 40/100\n",
            "14/14 - 0s - loss: 1.6468 - accuracy: 0.5798 - 59ms/epoch - 4ms/step\n",
            "Epoch 41/100\n",
            "14/14 - 0s - loss: 1.6010 - accuracy: 0.5704 - 72ms/epoch - 5ms/step\n",
            "Epoch 42/100\n",
            "14/14 - 0s - loss: 1.5694 - accuracy: 0.5892 - 56ms/epoch - 4ms/step\n",
            "Epoch 43/100\n",
            "14/14 - 0s - loss: 1.5407 - accuracy: 0.5892 - 65ms/epoch - 5ms/step\n",
            "Epoch 44/100\n",
            "14/14 - 0s - loss: 1.5165 - accuracy: 0.6197 - 57ms/epoch - 4ms/step\n",
            "Epoch 45/100\n",
            "14/14 - 0s - loss: 1.4623 - accuracy: 0.6315 - 60ms/epoch - 4ms/step\n",
            "Epoch 46/100\n",
            "14/14 - 0s - loss: 1.4469 - accuracy: 0.6408 - 56ms/epoch - 4ms/step\n",
            "Epoch 47/100\n",
            "14/14 - 0s - loss: 1.3982 - accuracy: 0.6573 - 58ms/epoch - 4ms/step\n",
            "Epoch 48/100\n",
            "14/14 - 0s - loss: 1.3709 - accuracy: 0.6667 - 57ms/epoch - 4ms/step\n",
            "Epoch 49/100\n",
            "14/14 - 0s - loss: 1.3373 - accuracy: 0.6831 - 59ms/epoch - 4ms/step\n",
            "Epoch 50/100\n",
            "14/14 - 0s - loss: 1.3061 - accuracy: 0.6854 - 58ms/epoch - 4ms/step\n",
            "Epoch 51/100\n",
            "14/14 - 0s - loss: 1.2708 - accuracy: 0.6948 - 66ms/epoch - 5ms/step\n",
            "Epoch 52/100\n",
            "14/14 - 0s - loss: 1.2395 - accuracy: 0.7277 - 55ms/epoch - 4ms/step\n",
            "Epoch 53/100\n",
            "14/14 - 0s - loss: 1.2075 - accuracy: 0.7183 - 57ms/epoch - 4ms/step\n",
            "Epoch 54/100\n",
            "14/14 - 0s - loss: 1.1946 - accuracy: 0.6784 - 58ms/epoch - 4ms/step\n",
            "Epoch 55/100\n",
            "14/14 - 0s - loss: 1.1467 - accuracy: 0.7394 - 58ms/epoch - 4ms/step\n",
            "Epoch 56/100\n",
            "14/14 - 0s - loss: 1.0976 - accuracy: 0.7324 - 67ms/epoch - 5ms/step\n",
            "Epoch 57/100\n",
            "14/14 - 0s - loss: 1.0965 - accuracy: 0.7277 - 65ms/epoch - 5ms/step\n",
            "Epoch 58/100\n",
            "14/14 - 0s - loss: 1.0781 - accuracy: 0.7254 - 57ms/epoch - 4ms/step\n",
            "Epoch 59/100\n",
            "14/14 - 0s - loss: 1.0296 - accuracy: 0.7629 - 56ms/epoch - 4ms/step\n",
            "Epoch 60/100\n",
            "14/14 - 0s - loss: 0.9883 - accuracy: 0.7535 - 70ms/epoch - 5ms/step\n",
            "Epoch 61/100\n",
            "14/14 - 0s - loss: 0.9593 - accuracy: 0.7746 - 59ms/epoch - 4ms/step\n",
            "Epoch 62/100\n",
            "14/14 - 0s - loss: 0.9445 - accuracy: 0.7887 - 70ms/epoch - 5ms/step\n",
            "Epoch 63/100\n",
            "14/14 - 0s - loss: 0.9137 - accuracy: 0.7887 - 56ms/epoch - 4ms/step\n",
            "Epoch 64/100\n",
            "14/14 - 0s - loss: 0.8839 - accuracy: 0.8122 - 58ms/epoch - 4ms/step\n",
            "Epoch 65/100\n",
            "14/14 - 0s - loss: 0.8500 - accuracy: 0.8310 - 57ms/epoch - 4ms/step\n",
            "Epoch 66/100\n",
            "14/14 - 0s - loss: 0.8208 - accuracy: 0.8380 - 64ms/epoch - 5ms/step\n",
            "Epoch 67/100\n",
            "14/14 - 0s - loss: 0.8108 - accuracy: 0.8216 - 66ms/epoch - 5ms/step\n",
            "Epoch 68/100\n",
            "14/14 - 0s - loss: 0.7783 - accuracy: 0.8545 - 62ms/epoch - 4ms/step\n",
            "Epoch 69/100\n",
            "14/14 - 0s - loss: 0.7603 - accuracy: 0.8521 - 59ms/epoch - 4ms/step\n",
            "Epoch 70/100\n",
            "14/14 - 0s - loss: 0.7505 - accuracy: 0.8592 - 59ms/epoch - 4ms/step\n",
            "Epoch 71/100\n",
            "14/14 - 0s - loss: 0.7209 - accuracy: 0.8685 - 59ms/epoch - 4ms/step\n",
            "Epoch 72/100\n",
            "14/14 - 0s - loss: 0.6991 - accuracy: 0.8638 - 75ms/epoch - 5ms/step\n",
            "Epoch 73/100\n",
            "14/14 - 0s - loss: 0.6789 - accuracy: 0.8685 - 58ms/epoch - 4ms/step\n",
            "Epoch 74/100\n",
            "14/14 - 0s - loss: 0.6658 - accuracy: 0.8709 - 61ms/epoch - 4ms/step\n",
            "Epoch 75/100\n",
            "14/14 - 0s - loss: 0.6245 - accuracy: 0.8967 - 75ms/epoch - 5ms/step\n",
            "Epoch 76/100\n",
            "14/14 - 0s - loss: 0.6030 - accuracy: 0.8920 - 61ms/epoch - 4ms/step\n",
            "Epoch 77/100\n",
            "14/14 - 0s - loss: 0.5928 - accuracy: 0.8897 - 61ms/epoch - 4ms/step\n",
            "Epoch 78/100\n",
            "14/14 - 0s - loss: 0.5665 - accuracy: 0.8967 - 62ms/epoch - 4ms/step\n",
            "Epoch 79/100\n",
            "14/14 - 0s - loss: 0.5492 - accuracy: 0.9108 - 61ms/epoch - 4ms/step\n",
            "Epoch 80/100\n",
            "14/14 - 0s - loss: 0.5421 - accuracy: 0.9108 - 60ms/epoch - 4ms/step\n",
            "Epoch 81/100\n",
            "14/14 - 0s - loss: 0.5202 - accuracy: 0.9085 - 59ms/epoch - 4ms/step\n",
            "Epoch 82/100\n",
            "14/14 - 0s - loss: 0.4991 - accuracy: 0.9249 - 62ms/epoch - 4ms/step\n",
            "Epoch 83/100\n",
            "14/14 - 0s - loss: 0.4807 - accuracy: 0.9249 - 69ms/epoch - 5ms/step\n",
            "Epoch 84/100\n",
            "14/14 - 0s - loss: 0.4685 - accuracy: 0.9319 - 61ms/epoch - 4ms/step\n",
            "Epoch 85/100\n",
            "14/14 - 0s - loss: 0.4488 - accuracy: 0.9343 - 59ms/epoch - 4ms/step\n",
            "Epoch 86/100\n",
            "14/14 - 0s - loss: 0.4477 - accuracy: 0.9249 - 60ms/epoch - 4ms/step\n",
            "Epoch 87/100\n",
            "14/14 - 0s - loss: 0.4316 - accuracy: 0.9366 - 65ms/epoch - 5ms/step\n",
            "Epoch 88/100\n",
            "14/14 - 0s - loss: 0.4164 - accuracy: 0.9507 - 60ms/epoch - 4ms/step\n",
            "Epoch 89/100\n",
            "14/14 - 0s - loss: 0.4261 - accuracy: 0.9366 - 60ms/epoch - 4ms/step\n",
            "Epoch 90/100\n",
            "14/14 - 0s - loss: 0.3943 - accuracy: 0.9437 - 71ms/epoch - 5ms/step\n",
            "Epoch 91/100\n",
            "14/14 - 0s - loss: 0.3735 - accuracy: 0.9437 - 60ms/epoch - 4ms/step\n",
            "Epoch 92/100\n",
            "14/14 - 0s - loss: 0.3694 - accuracy: 0.9366 - 63ms/epoch - 5ms/step\n",
            "Epoch 93/100\n",
            "14/14 - 0s - loss: 0.3650 - accuracy: 0.9554 - 60ms/epoch - 4ms/step\n",
            "Epoch 94/100\n",
            "14/14 - 0s - loss: 0.3582 - accuracy: 0.9460 - 57ms/epoch - 4ms/step\n",
            "Epoch 95/100\n",
            "14/14 - 0s - loss: 0.3446 - accuracy: 0.9531 - 62ms/epoch - 4ms/step\n",
            "Epoch 96/100\n",
            "14/14 - 0s - loss: 0.3355 - accuracy: 0.9577 - 61ms/epoch - 4ms/step\n",
            "Epoch 97/100\n",
            "14/14 - 0s - loss: 0.3250 - accuracy: 0.9484 - 58ms/epoch - 4ms/step\n",
            "Epoch 98/100\n",
            "14/14 - 0s - loss: 0.3054 - accuracy: 0.9648 - 72ms/epoch - 5ms/step\n",
            "Epoch 99/100\n",
            "14/14 - 0s - loss: 0.2960 - accuracy: 0.9671 - 59ms/epoch - 4ms/step\n",
            "Epoch 100/100\n",
            "14/14 - 0s - loss: 0.3001 - accuracy: 0.9671 - 69ms/epoch - 5ms/step\n"
          ]
        },
        {
          "output_type": "execute_result",
          "data": {
            "text/plain": [
              "<keras.src.callbacks.History at 0x7f67755f6260>"
            ]
          },
          "metadata": {},
          "execution_count": 78
        }
      ]
    },
    {
      "cell_type": "code",
      "source": [
        "#문장을 생성하는 함수를 만들어 문장 생성\n",
        "#문자열을 입력하면, 해당 문자열로부터 다음문자를 예측하는 것을 반복하여 최종적으로 문장을 완성함.\n",
        "\n",
        "def sentence_generation(model, char_to_index, seq_length, seed_text, n):\n",
        "\n",
        "    #초기 시퀀스\n",
        "    init_text = seed_text\n",
        "    sentence=''\n",
        "\n",
        "    #다음 문자 예측은 총 n번만 반복\n",
        "    for _ in range(n):\n",
        "      encoded = [char_to_index[char] for char in seed_text] #현재 시퀀스에 대한 정수 인코딩\n",
        "      encoded = pad_sequences([encoded], maxlen=seq_length, padding='pre') #데이터에 대한 패딩\n",
        "      encoded = to_categorical(encoded, num_classes=len(char_to_index))\n",
        "\n",
        "      #입력한 X(현재 시퀀스)에 대해서 y를 예측하고 y를 result에 저장\n",
        "      result = model.predict(encoded, verbose=0)\n",
        "      result = np.argmax(result,axis=1) #최대값 저장\n",
        "\n",
        "      for char, index in char_to_index.items():\n",
        "          if index == result:\n",
        "              break\n",
        "\n",
        "      #현재 시퀀스 + 예측 문자 = 현재 시퀀스로 변경\n",
        "      seed_text = seed_text + char\n",
        "      #예측 문자를 문장에 저장\n",
        "      sentence = sentence + char\n",
        "\n",
        "    #n번의 다음 문자 예측이 끝나면 최종 완성된 문장을 리턴.\n",
        "    sentence = init_text + sentence\n",
        "    return sentence\n"
      ],
      "metadata": {
        "id": "D5o9ceKBFMEu"
      },
      "execution_count": null,
      "outputs": []
    },
    {
      "cell_type": "code",
      "source": [
        "print(sentence_generation(model, char_to_index, 10, 'I get on w', 80))"
      ],
      "metadata": {
        "colab": {
          "base_uri": "https://localhost:8080/"
        },
        "id": "a3cNe7BvHD71",
        "outputId": "8163e534-73f9-4e2f-aa82-3deac0c70ef2"
      },
      "execution_count": null,
      "outputs": [
        {
          "output_type": "stream",
          "name": "stdout",
          "text": [
            "I get on with life as a programmer, I like to han bout laeer .. BBut jus Iliht  bogr stut \n"
          ]
        }
      ]
    },
    {
      "cell_type": "code",
      "source": [],
      "metadata": {
        "id": "sukoZWtiHJc9"
      },
      "execution_count": null,
      "outputs": []
    }
  ]
}